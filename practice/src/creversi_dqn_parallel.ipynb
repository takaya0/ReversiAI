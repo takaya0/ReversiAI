{
  "cells": [
    {
      "cell_type": "markdown",
      "metadata": {
        "id": "9wgiizKO2QlL"
      },
      "source": [
        "# creversiのインストール"
      ]
    },
    {
      "cell_type": "markdown",
      "metadata": {
        "id": "EeT05BP52YLq"
      },
      "source": [
        "# リバーシのDQN実装（並列版）"
      ]
    },
    {
      "cell_type": "markdown",
      "metadata": {
        "id": "Y9_pUvPpO4EZ"
      },
      "source": [
        "必要なライブラリをインポートして、リバーシのGym環境を作成します。creversiの並列版の環境を作成します。\n",
        "\n",
        "また、PyTorchのデバイスを作成します。"
      ]
    },
    {
      "cell_type": "code",
      "execution_count": 1,
      "metadata": {
        "id": "0Xj947H32e96"
      },
      "outputs": [
        {
          "name": "stderr",
          "output_type": "stream",
          "text": [
            "C:\\Users\\yataka\\AppData\\Local\\Programs\\Python\\Python310\\lib\\site-packages\\gym\\wrappers\\monitoring\\video_recorder.py:9: DeprecationWarning: The distutils package is deprecated and slated for removal in Python 3.12. Use setuptools or check PEP 632 for potential alternatives\n",
            "  import distutils.spawn\n",
            "C:\\Users\\yataka\\AppData\\Local\\Programs\\Python\\Python310\\lib\\site-packages\\creversi\\__init__.py:1: DeprecationWarning: `np.bool` is a deprecated alias for the builtin `bool`. To silence this warning, use `bool` by itself. Doing this will not modify any behavior and is safe. If you specifically wanted the numpy scalar type, use `np.bool_` here.\n",
            "Deprecated in NumPy 1.20; for more details and guidance: https://numpy.org/devdocs/release/1.20.0-notes.html#deprecations\n",
            "  from .creversi import *\n"
          ]
        }
      ],
      "source": [
        "import gym\n",
        "from creversi.gym_reversi.envs import ReversiVecEnv\n",
        "from creversi import *\n",
        "\n",
        "import os\n",
        "import datetime\n",
        "import math\n",
        "import random\n",
        "import numpy as np\n",
        "from collections import namedtuple\n",
        "from itertools import count\n",
        "from tqdm import tqdm_notebook as tqdm\n",
        "import matplotlib.pyplot as plt\n",
        "\n",
        "import torch\n",
        "import torch.nn as nn\n",
        "import torch.optim as optim\n",
        "import torch.nn.functional as F\n",
        "\n",
        "BATCH_SIZE = 256\n",
        "vecenv = ReversiVecEnv(BATCH_SIZE)\n",
        "\n",
        "# if gpu is to be used\n",
        "device = torch.device(\"cuda\" if torch.cuda.is_available() else \"cpu\")"
      ]
    },
    {
      "cell_type": "markdown",
      "metadata": {
        "id": "TWRkpryPPJJY"
      },
      "source": [
        "リプレイメモリを管理するクラスを定義します。また、リプレイメモリに格納する経験データ(transition)のタプルをnamedtupleとして定義します。\n",
        "\n",
        "通常、経験データは{現在の状態, 選択した行動, 次の状態, 報酬}の4つですが、効率化のために次の状態(局面)の合法手の一覧も格納するようにします。"
      ]
    },
    {
      "cell_type": "code",
      "execution_count": 9,
      "metadata": {
        "id": "lj9CHRYg3b_k"
      },
      "outputs": [],
      "source": [
        "######################################################################\n",
        "# Replay Memory\n",
        "\n",
        "Transition = namedtuple('Transition',\n",
        "                        ('state', 'action', 'next_state', 'next_actions', 'reward'))\n",
        "\n",
        "\n",
        "class ReplayMemory(object):\n",
        "\n",
        "    def __init__(self, capacity):\n",
        "        self.capacity = capacity\n",
        "        self.memory = []\n",
        "        self.position = 0\n",
        "\n",
        "    def push(self, *args):\n",
        "        \"\"\"Saves a transition.\"\"\"\n",
        "        if len(self.memory) < self.capacity:\n",
        "            self.memory.append(None)\n",
        "        self.memory[self.position] = Transition(*args)\n",
        "        self.position = (self.position + 1) % self.capacity\n",
        "\n",
        "    def sample(self, batch_size):\n",
        "        return random.sample(self.memory, batch_size)\n",
        "\n",
        "    def __len__(self):\n",
        "        return len(self.memory)"
      ]
    },
    {
      "cell_type": "markdown",
      "metadata": {
        "id": "Ix5up2SePLng"
      },
      "source": [
        "ニューラルネットワークを定義します。10層の畳み込みニューラルネットワークに全結合層を接続します。出力の活性化関数はtanhとして行動価値を-1～1の範囲で出力します。"
      ]
    },
    {
      "cell_type": "code",
      "execution_count": 10,
      "metadata": {
        "id": "8lnPq-yG3d0y"
      },
      "outputs": [],
      "source": [
        "######################################################################\n",
        "# DQN\n",
        "\n",
        "k = 192\n",
        "fcl_units = 256\n",
        "class DQN(nn.Module):\n",
        "\n",
        "    def __init__(self):\n",
        "        super(DQN, self).__init__()\n",
        "        self.conv1 = nn.Conv2d(2, k, kernel_size=3, padding=1)\n",
        "        self.bn1 = nn.BatchNorm2d(k)\n",
        "        self.conv2 = nn.Conv2d(k, k, kernel_size=3, padding=1)\n",
        "        self.bn2 = nn.BatchNorm2d(k)\n",
        "        self.conv3 = nn.Conv2d(k, k, kernel_size=3, padding=1)\n",
        "        self.bn3 = nn.BatchNorm2d(k)\n",
        "        self.conv4 = nn.Conv2d(k, k, kernel_size=3, padding=1)\n",
        "        self.bn4 = nn.BatchNorm2d(k)\n",
        "        self.conv5 = nn.Conv2d(k, k, kernel_size=3, padding=1)\n",
        "        self.bn5 = nn.BatchNorm2d(k)\n",
        "        self.conv6 = nn.Conv2d(k, k, kernel_size=3, padding=1)\n",
        "        self.bn6 = nn.BatchNorm2d(k)\n",
        "        self.conv7 = nn.Conv2d(k, k, kernel_size=3, padding=1)\n",
        "        self.bn7 = nn.BatchNorm2d(k)\n",
        "        self.conv8 = nn.Conv2d(k, k, kernel_size=3, padding=1)\n",
        "        self.bn8 = nn.BatchNorm2d(k)\n",
        "        self.conv9 = nn.Conv2d(k, k, kernel_size=3, padding=1)\n",
        "        self.bn9 = nn.BatchNorm2d(k)\n",
        "        self.conv10 = nn.Conv2d(k, k, kernel_size=3, padding=1)\n",
        "        self.bn10 = nn.BatchNorm2d(k)\n",
        "        self.fcl1 = nn.Linear(k * 64, fcl_units)\n",
        "        self.fcl2 = nn.Linear(fcl_units, fcl_units)\n",
        "        self.fcl3 = nn.Linear(fcl_units, 65)\n",
        "\n",
        "    def forward(self, x):\n",
        "        x = F.relu(self.bn1(self.conv1(x)))\n",
        "        x = F.relu(self.bn2(self.conv2(x)))\n",
        "        x = F.relu(self.bn3(self.conv3(x)))\n",
        "        x = F.relu(self.bn4(self.conv4(x)))\n",
        "        x = F.relu(self.bn5(self.conv5(x)))\n",
        "        x = F.relu(self.bn6(self.conv6(x)))\n",
        "        x = F.relu(self.bn7(self.conv7(x)))\n",
        "        x = F.relu(self.bn8(self.conv8(x)))\n",
        "        x = F.relu(self.bn9(self.conv9(x)))\n",
        "        x = F.relu(self.bn10(self.conv10(x)))\n",
        "        x = F.relu(self.fcl1(x.view(-1, k * 64)))\n",
        "        x = F.relu(self.fcl2(x))\n",
        "        x = self.fcl3(x)\n",
        "        return x.tanh()"
      ]
    },
    {
      "cell_type": "markdown",
      "metadata": {
        "id": "9w4PZp4zPx3y"
      },
      "source": [
        "creversiのBoardクラスのpiece_planesメソッドで、盤面を入力特徴量にする関数を定義します。\n",
        "\n",
        "並列で実行している環境から取得した複数の局面をまとめて一つのバッチとします。"
      ]
    },
    {
      "cell_type": "code",
      "execution_count": 11,
      "metadata": {
        "id": "6zJSH25T3rvi"
      },
      "outputs": [],
      "source": [
        "def get_states(envs):\n",
        "    features_vec = np.zeros((BATCH_SIZE, 2, 8, 8), dtype=np.float32)\n",
        "    for i, env in enumerate(envs):\n",
        "        env.board.piece_planes(features_vec[i])\n",
        "    return torch.from_numpy(features_vec).to(device)"
      ]
    },
    {
      "cell_type": "markdown",
      "metadata": {
        "id": "RtZq7VR-QJaA"
      },
      "source": [
        "訓練に使用するハイパーパラメータを設定し、ニューラルネットワーク、オプティマイザ、リプレイメモリを初期化します。\n",
        "\n",
        "また、𝜀グリーディー方策で手を選ぶ関数を定義します。手は𝜀の確率で、合法手からランダムに選択します。それ以外では、方策ネットワーク(policy_net)で行動価値が最大となる手を選択します。"
      ]
    },
    {
      "cell_type": "code",
      "execution_count": 12,
      "metadata": {
        "id": "IAauFvdB4nvU"
      },
      "outputs": [],
      "source": [
        "######################################################################\n",
        "# Training\n",
        "\n",
        "GAMMA = 0.99\n",
        "EPS_START = 0.9\n",
        "EPS_END = 0.05\n",
        "EPS_DECAY = 500\n",
        "OPTIMIZE_PER_STEPS = (60 * 16 + BATCH_SIZE - 1) // BATCH_SIZE\n",
        "TARGET_UPDATE = 4\n",
        "\n",
        "policy_net = DQN().to(device)\n",
        "target_net = DQN().to(device)\n",
        "target_net.load_state_dict(policy_net.state_dict())\n",
        "target_net.eval()\n",
        "\n",
        "optimizer = optim.RMSprop(policy_net.parameters(), lr=1e-5)\n",
        "\n",
        "memory = ReplayMemory(131072)\n",
        "\n",
        "def epsilon_greedy(q, legal_moves):\n",
        "    sample = random.random()\n",
        "    eps_threshold = EPS_END + (EPS_START - EPS_END) * \\\n",
        "        math.exp(-1. * iterations_done / EPS_DECAY)\n",
        "\n",
        "    if sample > eps_threshold:\n",
        "        _, select = q[legal_moves].max(0)\n",
        "    else:\n",
        "        select = random.randrange(len(legal_moves))\n",
        "    return select\n",
        "\n",
        "def select_actions(states, envs):\n",
        "    select_moves = []\n",
        "\n",
        "    with torch.no_grad():\n",
        "        q_vec = policy_net(states)\n",
        "\n",
        "        for env, q in zip(envs, q_vec):\n",
        "            board = env.board\n",
        "\n",
        "            legal_moves = list(board.legal_moves)\n",
        "\n",
        "            select = epsilon_greedy(q, legal_moves)\n",
        "\n",
        "            select_moves.append(legal_moves[select])\n",
        "\n",
        "        return select_moves, torch.tensor(select_moves, device=device, dtype=torch.long).view(-1, 1)"
      ]
    },
    {
      "cell_type": "markdown",
      "metadata": {
        "id": "rlg_A54GQKgh"
      },
      "source": [
        "Q学習でパラメータを更新する処理を実装します。"
      ]
    },
    {
      "cell_type": "code",
      "execution_count": 13,
      "metadata": {
        "id": "AEttplDp5QvL"
      },
      "outputs": [],
      "source": [
        "######################################################################\n",
        "# Training loop\n",
        "\n",
        "losses = []\n",
        "\n",
        "def optimize_model():\n",
        "    if len(memory) < BATCH_SIZE:\n",
        "        return\n",
        "    transitions = memory.sample(BATCH_SIZE)\n",
        "    # Transpose the batch (see https://stackoverflow.com/a/19343/3343043 for\n",
        "    # detailed explanation). This converts batch-array of Transitions\n",
        "    # to Transition of batch-arrays.\n",
        "    batch = Transition(*zip(*transitions))\n",
        "\n",
        "    # Compute a mask of non-final states and concatenate the batch elements\n",
        "    # (a final state would've been the one after which simulation ended)\n",
        "    non_final_mask = torch.tensor(tuple(map(lambda s: s is not None,\n",
        "                                          batch.next_state)), device=device, dtype=torch.bool)\n",
        "    non_final_next_states = torch.cat([s for s in batch.next_state\n",
        "                                                if s is not None])\n",
        "    state_batch = torch.cat(batch.state)\n",
        "    action_batch = torch.cat(batch.action)\n",
        "    reward_batch = torch.cat(batch.reward)\n",
        "\n",
        "    # 合法手のみ\n",
        "    non_final_next_actions_list = []\n",
        "    for next_actions in batch.next_actions:\n",
        "        if next_actions is not None:\n",
        "            non_final_next_actions_list.append(next_actions + [next_actions[0]] * (30 - len(next_actions)))\n",
        "    non_final_next_actions = torch.tensor(non_final_next_actions_list, device=device, dtype=torch.long)\n",
        "\n",
        "    # Compute Q(s_t, a) - the model computes Q(s_t), then we select the\n",
        "    # columns of actions taken. These are the actions which would've been taken\n",
        "    # for each batch state according to policy_net\n",
        "    state_action_values = policy_net(state_batch).gather(1, action_batch)\n",
        "\n",
        "    # Compute V(s_{t+1}) for all next states.\n",
        "    # Expected values of actions for non_final_next_states are computed based\n",
        "    # on the \"older\" target_net; selecting their best reward with max(1)[0].\n",
        "    # This is merged based on the mask, such that we'll have either the expected\n",
        "    # state value or 0 in case the state was final.\n",
        "    next_state_values = torch.zeros(BATCH_SIZE, device=device)\n",
        "    # 合法手のみの最大値\n",
        "    target_q = target_net(non_final_next_states)\n",
        "    # 相手番の価値のため反転する\n",
        "    next_state_values[non_final_mask] = -target_q.gather(1, non_final_next_actions).max(1)[0].detach()\n",
        "    # Compute the expected Q values\n",
        "    expected_state_action_values = next_state_values * GAMMA + reward_batch\n",
        "\n",
        "    # Compute Huber loss\n",
        "    loss = F.smooth_l1_loss(state_action_values, expected_state_action_values.unsqueeze(1))\n",
        "\n",
        "    losses.append(loss.item())\n",
        "\n",
        "    # Optimize the model\n",
        "    optimizer.zero_grad()\n",
        "    loss.backward()\n",
        "    for param in policy_net.parameters():\n",
        "        param.grad.data.clamp_(-1, 1)\n",
        "    optimizer.step()"
      ]
    },
    {
      "cell_type": "markdown",
      "metadata": {
        "id": "ey9_BWqEQQIo"
      },
      "source": [
        "訓練ループを実装します。並列で実行している各対局について、𝜀グリーディー方策で手を選択し終局するまで対局を進めます。終局したらまた初期局面から対局を行います。\n",
        "\n",
        "1手進めるごとに経験データをリプレイメモリに格納します。\n",
        "\n",
        "OPTIMIZE_PER_STEPS回に1回の間隔でパラメータの更新を行います。\n",
        "\n",
        "指定のイテレーション数(パラメータの更新回数)に達したら、モデルを保存して終了します。"
      ]
    },
    {
      "cell_type": "code",
      "execution_count": 14,
      "metadata": {
        "colab": {
          "base_uri": "https://localhost:8080/",
          "height": 83,
          "referenced_widgets": [
            "df831319ea834a6297642f86f85ff6be",
            "e9da9b783684445e8a5d85e890000d48",
            "65a5fccd4af74fd4aa2cab6d83a1222d",
            "87767f5589444895b4d194df60102d71",
            "7119249c3bdf4c9dbaabff51aaf96d12",
            "0103b8a07f1747f0955596f777d9ab73",
            "2a91af3dda294e819de42991e856ec61",
            "0cdb62490bdc4c3bba13d8aeea1c7b08"
          ]
        },
        "id": "tI0-062W5T7L",
        "outputId": "695ecc47-310f-44c7-de04-dedc5e64617d"
      },
      "outputs": [
        {
          "name": "stderr",
          "output_type": "stream",
          "text": [
            "C:\\Users\\yataka\\AppData\\Local\\Temp\\ipykernel_30312\\954009133.py:7: TqdmDeprecationWarning: This function will be removed in tqdm==5.0.0\n",
            "Please use `tqdm.notebook.tqdm` instead of `tqdm.tqdm_notebook`\n",
            "  pbar = tqdm(total=num_steps)\n"
          ]
        },
        {
          "data": {
            "application/vnd.jupyter.widget-view+json": {
              "model_id": "ffbf75a605a64e5bb4fdc5556fa0009c",
              "version_major": 2,
              "version_minor": 0
            },
            "text/plain": [
              "  0%|          | 0/240000 [00:00<?, ?it/s]"
            ]
          },
          "metadata": {},
          "output_type": "display_data"
        },
        {
          "name": "stdout",
          "output_type": "stream",
          "text": [
            "save model.pt\n",
            "Complete\n"
          ]
        }
      ],
      "source": [
        "######################################################################\n",
        "# main training loop\n",
        "\n",
        "num_iterations = 60000\n",
        "num_steps = num_iterations * OPTIMIZE_PER_STEPS\n",
        "iterations_done = 0\n",
        "pbar = tqdm(total=num_steps)\n",
        "for steps in range(num_steps):\n",
        "    # Initialize the environment and state\n",
        "    states = get_states(vecenv.envs)\n",
        "\n",
        "    # Select and perform an action\n",
        "    moves, actions = select_actions(states, vecenv.envs)\n",
        "    rewards, dones = vecenv.step(moves)\n",
        "\n",
        "    next_states = get_states(vecenv.envs)\n",
        "    for i, (env, state, action, reward, done, next_state) in enumerate(zip(vecenv.envs, states, actions, rewards, dones, next_states)):\n",
        "        state.unsqueeze_(0)\n",
        "        action.unsqueeze_(0)\n",
        "        next_state.unsqueeze_(0)\n",
        "\n",
        "        # Observe new state\n",
        "        if not done:\n",
        "            next_actions = list(env.board.legal_moves)\n",
        "        else:\n",
        "            next_state = None\n",
        "            next_actions = None\n",
        "\n",
        "        reward = torch.tensor([reward], device=device)\n",
        "\n",
        "        # Store the transition in memory\n",
        "        memory.push(state, action, next_state, next_actions, reward)\n",
        "\n",
        "    # Move to the next state\n",
        "    states = next_states\n",
        "    pbar.update()\n",
        "\n",
        "    if steps >= 59 and steps % OPTIMIZE_PER_STEPS == OPTIMIZE_PER_STEPS - 1:\n",
        "        iterations_done += 1\n",
        "\n",
        "        # Perform several episodes of the optimization (on the target network)\n",
        "        optimize_model()\n",
        "\n",
        "        pbar.set_description(f'loss = {losses[-1]:.3e}')\n",
        "\n",
        "        # Update the target network, copying all weights and biases in DQN\n",
        "        if steps // OPTIMIZE_PER_STEPS % TARGET_UPDATE == 0:\n",
        "            target_net.load_state_dict(policy_net.state_dict())\n",
        "\n",
        "modelfile = 'model.pt'\n",
        "print('save {}'.format(modelfile))\n",
        "torch.save({'state_dict': target_net.state_dict(), 'optimizer': optimizer.state_dict()}, modelfile)\n",
        "\n",
        "print('Complete')"
      ]
    },
    {
      "cell_type": "code",
      "execution_count": null,
      "metadata": {
        "colab": {
          "base_uri": "https://localhost:8080/",
          "height": 282
        },
        "id": "SMHfG9529KYD",
        "outputId": "af865d49-99f0-41d9-ca7c-ce6887418a89"
      },
      "outputs": [
        {
          "data": {
            "text/plain": [
              "[<matplotlib.lines.Line2D at 0x7fa265e17b38>]"
            ]
          },
          "execution_count": 28,
          "metadata": {
            "tags": []
          },
          "output_type": "execute_result"
        },
        {
          "data": {
            "image/png": "[encoded data removed]",
            "text/plain": [
              "<Figure size 432x288 with 1 Axes>"
            ]
          },
          "metadata": {
            "tags": []
          },
          "output_type": "display_data"
        }
      ],
      "source": [
        "import pandas as pd\n",
        "df = pd.DataFrame(losses)\n",
        "plt.plot(df.rolling(100).mean())"
      ]
    },
    {
      "cell_type": "markdown",
      "metadata": {
        "id": "nBekpfQ8BdPN"
      },
      "source": [
        "# 対局"
      ]
    },
    {
      "cell_type": "markdown",
      "metadata": {
        "id": "PZ1xI88VBlGs"
      },
      "source": [
        "## 対局プログラム"
      ]
    },
    {
      "cell_type": "markdown",
      "metadata": {
        "id": "aaPdWXKiQ4FR"
      },
      "source": [
        "### グリーディー戦略プレイヤー"
      ]
    },
    {
      "cell_type": "code",
      "execution_count": 15,
      "metadata": {
        "id": "nI08hEYMQ0_5"
      },
      "outputs": [],
      "source": [
        "class GreedyPlayer:\n",
        "    def __init__(self, model_path, device):\n",
        "        self.device = device\n",
        "        self.model = DQN().to(device)\n",
        "        checkpoint = torch.load(model_path)\n",
        "        self.model.load_state_dict(checkpoint['state_dict'])\n",
        "        self.model.eval()\n",
        "        self.features = np.empty((1, 2, 8, 8), np.float32)\n",
        "\n",
        "    def go(self, board):\n",
        "        with torch.no_grad():\n",
        "            board.piece_planes(self.features[0])\n",
        "            state = torch.from_numpy(self.features).to(self.device)\n",
        "            q = self.model(state)\n",
        "            # 合法手に絞る\n",
        "            legal_moves = list(board.legal_moves)\n",
        "            next_actions = torch.tensor([legal_moves], device=self.device, dtype=torch.long)\n",
        "            legal_q = q.gather(1, next_actions)\n",
        "            return legal_moves[legal_q.argmax(dim=1).item()]"
      ]
    },
    {
      "cell_type": "markdown",
      "metadata": {
        "id": "bPpxDMlMQ-Fg"
      },
      "source": [
        "### ランダムプレイヤー"
      ]
    },
    {
      "cell_type": "code",
      "execution_count": 16,
      "metadata": {
        "id": "OIgkdj0gRAEY"
      },
      "outputs": [],
      "source": [
        "class RandomPlayer:\n",
        "    def go(self, board):\n",
        "        legal_moves = board.legal_moves\n",
        "        if len(legal_moves) == 0:\n",
        "            return PASS\n",
        "        else:\n",
        "            return random.choice(list(legal_moves))"
      ]
    },
    {
      "cell_type": "markdown",
      "metadata": {
        "id": "6xoqsAi2RCQw"
      },
      "source": [
        "### 人間プレイヤー"
      ]
    },
    {
      "cell_type": "code",
      "execution_count": 17,
      "metadata": {
        "id": "6s-BiwxlRD3y"
      },
      "outputs": [],
      "source": [
        "RESIGN = -1\n",
        "QUIT = -2\n",
        "\n",
        "class HumanPlayer:\n",
        "    def go(self, board):\n",
        "        legal_moves = board.legal_moves\n",
        "        if len(legal_moves) == 0:\n",
        "            return PASS\n",
        "        else:\n",
        "            while True:\n",
        "                move_str = input()\n",
        "                if move_str == 'resign':\n",
        "                    return RESIGN\n",
        "                elif move_str == 'quit':\n",
        "                    return QUIT\n",
        "                try:\n",
        "                    move = move_from_str(move_str)\n",
        "                except:\n",
        "                    print('invalid string')\n",
        "                    continue\n",
        "                if board.is_legal(move):\n",
        "                    return move"
      ]
    },
    {
      "cell_type": "markdown",
      "metadata": {
        "id": "CEjFl7LCRGtR"
      },
      "source": [
        "### 対局プログラム"
      ]
    },
    {
      "cell_type": "code",
      "execution_count": 18,
      "metadata": {
        "id": "ZAT4ynaGRIt4"
      },
      "outputs": [],
      "source": [
        "def main(player1, player2, model1='model.pt', model2=None, games=1, is_display=True):\n",
        "    if is_display:\n",
        "        try:\n",
        "            is_jupyter = get_ipython().__class__.__name__ != 'TerminalInteractiveShell'\n",
        "            if is_jupyter:\n",
        "                from IPython.display import SVG, display\n",
        "        except NameError:\n",
        "            is_jupyter = False\n",
        "\n",
        "    players = []\n",
        "    for player, model in zip([player1, player2], [model1, model2]):\n",
        "        if player == 'random':\n",
        "            players.append(RandomPlayer())\n",
        "        elif player == 'greedy':\n",
        "            players.append(GreedyPlayer(model, device))\n",
        "        elif player == 'human':\n",
        "            players.append(HumanPlayer())\n",
        "        else:\n",
        "            raise RuntimeError(f'{player} not found')\n",
        "\n",
        "    black_won_count = 0\n",
        "    white_won_count = 0\n",
        "    draw_count = 0\n",
        "    board = Board()\n",
        "    for n in range(games):\n",
        "        print(f'game {n}')\n",
        "        board.reset()\n",
        "        move = None\n",
        "\n",
        "        i = 0\n",
        "        while not board.is_game_over():\n",
        "            i += 1\n",
        "\n",
        "            if is_display:\n",
        "                print(f'{i}: ' + ('black' if board.turn == BLACK_TURN else 'white'))\n",
        "                if is_jupyter:\n",
        "                    display(SVG(board.to_svg(move)))\n",
        "                else:\n",
        "                    print(board)\n",
        "\n",
        "            if board.puttable_num() == 0:\n",
        "                move = PASS\n",
        "            else:\n",
        "                player = players[(i - 1) % 2]\n",
        "                move = player.go(board)\n",
        "                if isinstance(player, HumanPlayer):\n",
        "                    if move == RESIGN:\n",
        "                        break\n",
        "                    elif move == QUIT:\n",
        "                        return\n",
        "                assert board.is_legal(move)\n",
        "\n",
        "            if is_display:\n",
        "                print(move_to_str(move))\n",
        "\n",
        "            board.move(move)\n",
        "\n",
        "        if isinstance(player, HumanPlayer) and move == RESIGN:\n",
        "            if board.turn == BLACK_TURN:\n",
        "                print('white won')\n",
        "                white_won_count += 1\n",
        "            else:\n",
        "                print('black won')\n",
        "                black_won_count += 1\n",
        "            continue\n",
        "\n",
        "        if is_display:\n",
        "            if is_jupyter:\n",
        "                display(SVG(board.to_svg(move)))\n",
        "            else:\n",
        "                print(board)\n",
        "\n",
        "        if board.turn == BLACK_TURN:\n",
        "            piece_nums = [board.piece_num(), board.opponent_piece_num()]\n",
        "        else:\n",
        "            piece_nums = [board.opponent_piece_num(), board.piece_num()]\n",
        "\n",
        "        print(f'result black={piece_nums[0]} white={piece_nums[1]}')\n",
        "        if piece_nums[0] > piece_nums[1]:\n",
        "            print('black won')\n",
        "            black_won_count += 1\n",
        "        elif piece_nums[1] > piece_nums[0]:\n",
        "            print('white won')\n",
        "            white_won_count += 1\n",
        "        else:\n",
        "            print('draw')\n",
        "            draw_count += 1\n",
        "\n",
        "    print(f'black:{black_won_count} white:{white_won_count} draw:{draw_count}')"
      ]
    },
    {
      "cell_type": "markdown",
      "metadata": {
        "id": "PPMR24GtBwHt"
      },
      "source": [
        "## ランダムプレイヤーと対局"
      ]
    },
    {
      "cell_type": "code",
      "execution_count": 19,
      "metadata": {
        "colab": {
          "base_uri": "https://localhost:8080/",
          "height": 1000
        },
        "id": "pI0xJcArELpV",
        "outputId": "0b74c8a9-2784-4275-b6eb-c09f7684af1c"
      },
      "outputs": [
        {
          "name": "stdout",
          "output_type": "stream",
          "text": [
            "game 0\n",
            "1: black\n"
          ]
        },
        {
          "data": {
            "image/svg+xml": "<svg xmlns=\"http://www.w3.org/2000/svg\" xmlns:xlink=\"http://www.w3.org/1999/xlink\" version=\"1.1\" width=\"215.0\" height=\"215.0\" viewBox=\"0 0 172 172\"><defs><g id=\"black\"><circle cx=\"10\" cy=\"10\" r=\"8.5\" fill=\"black\"/></g><g id=\"white\"><circle cx=\"10\" cy=\"10\" r=\"8.5\" fill=\"white\"/></g></defs><rect fill=\"green\" height=\"161\" width=\"161\" x=\"10\" y=\"10\"/><g stroke=\"black\"><rect width=\"161\" height=\"161\" stroke-width=\"1.5\" fill=\"none\" x=\"10\" y=\"10\"/><line stroke-width=\"1.0\" x1=\"10.5\" x2=\"170.5\" y1=\"30.5\" y2=\"30.5\"/><line stroke-width=\"1.0\" x1=\"10.5\" x2=\"170.5\" y1=\"50.5\" y2=\"50.5\"/><line stroke-width=\"1.0\" x1=\"10.5\" x2=\"170.5\" y1=\"70.5\" y2=\"70.5\"/><line stroke-width=\"1.0\" x1=\"10.5\" x2=\"170.5\" y1=\"90.5\" y2=\"90.5\"/><line stroke-width=\"1.0\" x1=\"10.5\" x2=\"170.5\" y1=\"110.5\" y2=\"110.5\"/><line stroke-width=\"1.0\" x1=\"10.5\" x2=\"170.5\" y1=\"130.5\" y2=\"130.5\"/><line stroke-width=\"1.0\" x1=\"10.5\" x2=\"170.5\" y1=\"150.5\" y2=\"150.5\"/><line stroke-width=\"1.0\" x1=\"30.5\" x2=\"30.5\" y1=\"10.5\" y2=\"170.5\"/><line stroke-width=\"1.0\" x1=\"50.5\" x2=\"50.5\" y1=\"10.5\" y2=\"170.5\"/><line stroke-width=\"1.0\" x1=\"70.5\" x2=\"70.5\" y1=\"10.5\" y2=\"170.5\"/><line stroke-width=\"1.0\" x1=\"90.5\" x2=\"90.5\" y1=\"10.5\" y2=\"170.5\"/><line stroke-width=\"1.0\" x1=\"110.5\" x2=\"110.5\" y1=\"10.5\" y2=\"170.5\"/><line stroke-width=\"1.0\" x1=\"130.5\" x2=\"130.5\" y1=\"10.5\" y2=\"170.5\"/><line stroke-width=\"1.0\" x1=\"150.5\" x2=\"150.5\" y1=\"10.5\" y2=\"170.5\"/></g><g><text font-family=\"serif\" font-size=\"9.5\" text-anchor=\"middle\" x=\"20.5\" y=\"8\">a</text><text font-family=\"serif\" font-size=\"9.5\" text-anchor=\"middle\" x=\"40.5\" y=\"8\">b</text><text font-family=\"serif\" font-size=\"9.5\" text-anchor=\"middle\" x=\"60.5\" y=\"8\">c</text><text font-family=\"serif\" font-size=\"9.5\" text-anchor=\"middle\" x=\"80.5\" y=\"8\">d</text><text font-family=\"serif\" font-size=\"9.5\" text-anchor=\"middle\" x=\"100.5\" y=\"8\">e</text><text font-family=\"serif\" font-size=\"9.5\" text-anchor=\"middle\" x=\"120.5\" y=\"8\">f</text><text font-family=\"serif\" font-size=\"9.5\" text-anchor=\"middle\" x=\"140.5\" y=\"8\">g</text><text font-family=\"serif\" font-size=\"9.5\" text-anchor=\"middle\" x=\"160.5\" y=\"8\">h</text><text font-family=\"serif\" font-size=\"9.5\" x=\"2.5\" y=\"23.5\">1</text><text font-family=\"serif\" font-size=\"9.5\" x=\"2.5\" y=\"43.5\">2</text><text font-family=\"serif\" font-size=\"9.5\" x=\"2.5\" y=\"63.5\">3</text><text font-family=\"serif\" font-size=\"9.5\" x=\"2.5\" y=\"83.5\">4</text><text font-family=\"serif\" font-size=\"9.5\" x=\"2.5\" y=\"103.5\">5</text><text font-family=\"serif\" font-size=\"9.5\" x=\"2.5\" y=\"123.5\">6</text><text font-family=\"serif\" font-size=\"9.5\" x=\"2.5\" y=\"143.5\">7</text><text font-family=\"serif\" font-size=\"9.5\" x=\"2.5\" y=\"163.5\">8</text></g><use xlink:href=\"#white\" x=\"70.5\" y=\"70.5\"/><use xlink:href=\"#black\" x=\"90.5\" y=\"70.5\"/><use xlink:href=\"#black\" x=\"70.5\" y=\"90.5\"/><use xlink:href=\"#white\" x=\"90.5\" y=\"90.5\"/></svg>",
            "text/plain": [
              "<IPython.core.display.SVG object>"
            ]
          },
          "metadata": {},
          "output_type": "display_data"
        },
        {
          "name": "stdout",
          "output_type": "stream",
          "text": [
            "d3\n",
            "2: white\n"
          ]
        },
        {
          "data": {
            "image/svg+xml": "<svg xmlns=\"http://www.w3.org/2000/svg\" xmlns:xlink=\"http://www.w3.org/1999/xlink\" version=\"1.1\" width=\"215.0\" height=\"215.0\" viewBox=\"0 0 172 172\"><defs><g id=\"black\"><circle cx=\"10\" cy=\"10\" r=\"8.5\" fill=\"black\"/></g><g id=\"white\"><circle cx=\"10\" cy=\"10\" r=\"8.5\" fill=\"white\"/></g></defs><rect fill=\"green\" height=\"161\" width=\"161\" x=\"10\" y=\"10\"/><rect x=\"70.5\" y=\"50.5\" width=\"20\" height=\"20\" fill=\"#8bbf83\"/><g stroke=\"black\"><rect width=\"161\" height=\"161\" stroke-width=\"1.5\" fill=\"none\" x=\"10\" y=\"10\"/><line stroke-width=\"1.0\" x1=\"10.5\" x2=\"170.5\" y1=\"30.5\" y2=\"30.5\"/><line stroke-width=\"1.0\" x1=\"10.5\" x2=\"170.5\" y1=\"50.5\" y2=\"50.5\"/><line stroke-width=\"1.0\" x1=\"10.5\" x2=\"170.5\" y1=\"70.5\" y2=\"70.5\"/><line stroke-width=\"1.0\" x1=\"10.5\" x2=\"170.5\" y1=\"90.5\" y2=\"90.5\"/><line stroke-width=\"1.0\" x1=\"10.5\" x2=\"170.5\" y1=\"110.5\" y2=\"110.5\"/><line stroke-width=\"1.0\" x1=\"10.5\" x2=\"170.5\" y1=\"130.5\" y2=\"130.5\"/><line stroke-width=\"1.0\" x1=\"10.5\" x2=\"170.5\" y1=\"150.5\" y2=\"150.5\"/><line stroke-width=\"1.0\" x1=\"30.5\" x2=\"30.5\" y1=\"10.5\" y2=\"170.5\"/><line stroke-width=\"1.0\" x1=\"50.5\" x2=\"50.5\" y1=\"10.5\" y2=\"170.5\"/><line stroke-width=\"1.0\" x1=\"70.5\" x2=\"70.5\" y1=\"10.5\" y2=\"170.5\"/><line stroke-width=\"1.0\" x1=\"90.5\" x2=\"90.5\" y1=\"10.5\" y2=\"170.5\"/><line stroke-width=\"1.0\" x1=\"110.5\" x2=\"110.5\" y1=\"10.5\" y2=\"170.5\"/><line stroke-width=\"1.0\" x1=\"130.5\" x2=\"130.5\" y1=\"10.5\" y2=\"170.5\"/><line stroke-width=\"1.0\" x1=\"150.5\" x2=\"150.5\" y1=\"10.5\" y2=\"170.5\"/></g><g><text font-family=\"serif\" font-size=\"9.5\" text-anchor=\"middle\" x=\"20.5\" y=\"8\">a</text><text font-family=\"serif\" font-size=\"9.5\" text-anchor=\"middle\" x=\"40.5\" y=\"8\">b</text><text font-family=\"serif\" font-size=\"9.5\" text-anchor=\"middle\" x=\"60.5\" y=\"8\">c</text><text font-family=\"serif\" font-size=\"9.5\" text-anchor=\"middle\" x=\"80.5\" y=\"8\">d</text><text font-family=\"serif\" font-size=\"9.5\" text-anchor=\"middle\" x=\"100.5\" y=\"8\">e</text><text font-family=\"serif\" font-size=\"9.5\" text-anchor=\"middle\" x=\"120.5\" y=\"8\">f</text><text font-family=\"serif\" font-size=\"9.5\" text-anchor=\"middle\" x=\"140.5\" y=\"8\">g</text><text font-family=\"serif\" font-size=\"9.5\" text-anchor=\"middle\" x=\"160.5\" y=\"8\">h</text><text font-family=\"serif\" font-size=\"9.5\" x=\"2.5\" y=\"23.5\">1</text><text font-family=\"serif\" font-size=\"9.5\" x=\"2.5\" y=\"43.5\">2</text><text font-family=\"serif\" font-size=\"9.5\" x=\"2.5\" y=\"63.5\">3</text><text font-family=\"serif\" font-size=\"9.5\" x=\"2.5\" y=\"83.5\">4</text><text font-family=\"serif\" font-size=\"9.5\" x=\"2.5\" y=\"103.5\">5</text><text font-family=\"serif\" font-size=\"9.5\" x=\"2.5\" y=\"123.5\">6</text><text font-family=\"serif\" font-size=\"9.5\" x=\"2.5\" y=\"143.5\">7</text><text font-family=\"serif\" font-size=\"9.5\" x=\"2.5\" y=\"163.5\">8</text></g><use xlink:href=\"#black\" x=\"70.5\" y=\"50.5\"/><use xlink:href=\"#black\" x=\"70.5\" y=\"70.5\"/><use xlink:href=\"#black\" x=\"90.5\" y=\"70.5\"/><use xlink:href=\"#black\" x=\"70.5\" y=\"90.5\"/><use xlink:href=\"#white\" x=\"90.5\" y=\"90.5\"/></svg>",
            "text/plain": [
              "<IPython.core.display.SVG object>"
            ]
          },
          "metadata": {},
          "output_type": "display_data"
        },
        {
          "name": "stdout",
          "output_type": "stream",
          "text": [
            "e3\n",
            "3: black\n"
          ]
        },
        {
          "data": {
            "image/svg+xml": "<svg xmlns=\"http://www.w3.org/2000/svg\" xmlns:xlink=\"http://www.w3.org/1999/xlink\" version=\"1.1\" width=\"215.0\" height=\"215.0\" viewBox=\"0 0 172 172\"><defs><g id=\"black\"><circle cx=\"10\" cy=\"10\" r=\"8.5\" fill=\"black\"/></g><g id=\"white\"><circle cx=\"10\" cy=\"10\" r=\"8.5\" fill=\"white\"/></g></defs><rect fill=\"green\" height=\"161\" width=\"161\" x=\"10\" y=\"10\"/><rect x=\"90.5\" y=\"50.5\" width=\"20\" height=\"20\" fill=\"#8bbf83\"/><g stroke=\"black\"><rect width=\"161\" height=\"161\" stroke-width=\"1.5\" fill=\"none\" x=\"10\" y=\"10\"/><line stroke-width=\"1.0\" x1=\"10.5\" x2=\"170.5\" y1=\"30.5\" y2=\"30.5\"/><line stroke-width=\"1.0\" x1=\"10.5\" x2=\"170.5\" y1=\"50.5\" y2=\"50.5\"/><line stroke-width=\"1.0\" x1=\"10.5\" x2=\"170.5\" y1=\"70.5\" y2=\"70.5\"/><line stroke-width=\"1.0\" x1=\"10.5\" x2=\"170.5\" y1=\"90.5\" y2=\"90.5\"/><line stroke-width=\"1.0\" x1=\"10.5\" x2=\"170.5\" y1=\"110.5\" y2=\"110.5\"/><line stroke-width=\"1.0\" x1=\"10.5\" x2=\"170.5\" y1=\"130.5\" y2=\"130.5\"/><line stroke-width=\"1.0\" x1=\"10.5\" x2=\"170.5\" y1=\"150.5\" y2=\"150.5\"/><line stroke-width=\"1.0\" x1=\"30.5\" x2=\"30.5\" y1=\"10.5\" y2=\"170.5\"/><line stroke-width=\"1.0\" x1=\"50.5\" x2=\"50.5\" y1=\"10.5\" y2=\"170.5\"/><line stroke-width=\"1.0\" x1=\"70.5\" x2=\"70.5\" y1=\"10.5\" y2=\"170.5\"/><line stroke-width=\"1.0\" x1=\"90.5\" x2=\"90.5\" y1=\"10.5\" y2=\"170.5\"/><line stroke-width=\"1.0\" x1=\"110.5\" x2=\"110.5\" y1=\"10.5\" y2=\"170.5\"/><line stroke-width=\"1.0\" x1=\"130.5\" x2=\"130.5\" y1=\"10.5\" y2=\"170.5\"/><line stroke-width=\"1.0\" x1=\"150.5\" x2=\"150.5\" y1=\"10.5\" y2=\"170.5\"/></g><g><text font-family=\"serif\" font-size=\"9.5\" text-anchor=\"middle\" x=\"20.5\" y=\"8\">a</text><text font-family=\"serif\" font-size=\"9.5\" text-anchor=\"middle\" x=\"40.5\" y=\"8\">b</text><text font-family=\"serif\" font-size=\"9.5\" text-anchor=\"middle\" x=\"60.5\" y=\"8\">c</text><text font-family=\"serif\" font-size=\"9.5\" text-anchor=\"middle\" x=\"80.5\" y=\"8\">d</text><text font-family=\"serif\" font-size=\"9.5\" text-anchor=\"middle\" x=\"100.5\" y=\"8\">e</text><text font-family=\"serif\" font-size=\"9.5\" text-anchor=\"middle\" x=\"120.5\" y=\"8\">f</text><text font-family=\"serif\" font-size=\"9.5\" text-anchor=\"middle\" x=\"140.5\" y=\"8\">g</text><text font-family=\"serif\" font-size=\"9.5\" text-anchor=\"middle\" x=\"160.5\" y=\"8\">h</text><text font-family=\"serif\" font-size=\"9.5\" x=\"2.5\" y=\"23.5\">1</text><text font-family=\"serif\" font-size=\"9.5\" x=\"2.5\" y=\"43.5\">2</text><text font-family=\"serif\" font-size=\"9.5\" x=\"2.5\" y=\"63.5\">3</text><text font-family=\"serif\" font-size=\"9.5\" x=\"2.5\" y=\"83.5\">4</text><text font-family=\"serif\" font-size=\"9.5\" x=\"2.5\" y=\"103.5\">5</text><text font-family=\"serif\" font-size=\"9.5\" x=\"2.5\" y=\"123.5\">6</text><text font-family=\"serif\" font-size=\"9.5\" x=\"2.5\" y=\"143.5\">7</text><text font-family=\"serif\" font-size=\"9.5\" x=\"2.5\" y=\"163.5\">8</text></g><use xlink:href=\"#black\" x=\"70.5\" y=\"50.5\"/><use xlink:href=\"#white\" x=\"90.5\" y=\"50.5\"/><use xlink:href=\"#black\" x=\"70.5\" y=\"70.5\"/><use xlink:href=\"#white\" x=\"90.5\" y=\"70.5\"/><use xlink:href=\"#black\" x=\"70.5\" y=\"90.5\"/><use xlink:href=\"#white\" x=\"90.5\" y=\"90.5\"/></svg>",
            "text/plain": [
              "<IPython.core.display.SVG object>"
            ]
          },
          "metadata": {},
          "output_type": "display_data"
        },
        {
          "name": "stdout",
          "output_type": "stream",
          "text": [
            "f4\n",
            "4: white\n"
          ]
        },
        {
          "data": {
            "image/svg+xml": "<svg xmlns=\"http://www.w3.org/2000/svg\" xmlns:xlink=\"http://www.w3.org/1999/xlink\" version=\"1.1\" width=\"215.0\" height=\"215.0\" viewBox=\"0 0 172 172\"><defs><g id=\"black\"><circle cx=\"10\" cy=\"10\" r=\"8.5\" fill=\"black\"/></g><g id=\"white\"><circle cx=\"10\" cy=\"10\" r=\"8.5\" fill=\"white\"/></g></defs><rect fill=\"green\" height=\"161\" width=\"161\" x=\"10\" y=\"10\"/><rect x=\"110.5\" y=\"70.5\" width=\"20\" height=\"20\" fill=\"#8bbf83\"/><g stroke=\"black\"><rect width=\"161\" height=\"161\" stroke-width=\"1.5\" fill=\"none\" x=\"10\" y=\"10\"/><line stroke-width=\"1.0\" x1=\"10.5\" x2=\"170.5\" y1=\"30.5\" y2=\"30.5\"/><line stroke-width=\"1.0\" x1=\"10.5\" x2=\"170.5\" y1=\"50.5\" y2=\"50.5\"/><line stroke-width=\"1.0\" x1=\"10.5\" x2=\"170.5\" y1=\"70.5\" y2=\"70.5\"/><line stroke-width=\"1.0\" x1=\"10.5\" x2=\"170.5\" y1=\"90.5\" y2=\"90.5\"/><line stroke-width=\"1.0\" x1=\"10.5\" x2=\"170.5\" y1=\"110.5\" y2=\"110.5\"/><line stroke-width=\"1.0\" x1=\"10.5\" x2=\"170.5\" y1=\"130.5\" y2=\"130.5\"/><line stroke-width=\"1.0\" x1=\"10.5\" x2=\"170.5\" y1=\"150.5\" y2=\"150.5\"/><line stroke-width=\"1.0\" x1=\"30.5\" x2=\"30.5\" y1=\"10.5\" y2=\"170.5\"/><line stroke-width=\"1.0\" x1=\"50.5\" x2=\"50.5\" y1=\"10.5\" y2=\"170.5\"/><line stroke-width=\"1.0\" x1=\"70.5\" x2=\"70.5\" y1=\"10.5\" y2=\"170.5\"/><line stroke-width=\"1.0\" x1=\"90.5\" x2=\"90.5\" y1=\"10.5\" y2=\"170.5\"/><line stroke-width=\"1.0\" x1=\"110.5\" x2=\"110.5\" y1=\"10.5\" y2=\"170.5\"/><line stroke-width=\"1.0\" x1=\"130.5\" x2=\"130.5\" y1=\"10.5\" y2=\"170.5\"/><line stroke-width=\"1.0\" x1=\"150.5\" x2=\"150.5\" y1=\"10.5\" y2=\"170.5\"/></g><g><text font-family=\"serif\" font-size=\"9.5\" text-anchor=\"middle\" x=\"20.5\" y=\"8\">a</text><text font-family=\"serif\" font-size=\"9.5\" text-anchor=\"middle\" x=\"40.5\" y=\"8\">b</text><text font-family=\"serif\" font-size=\"9.5\" text-anchor=\"middle\" x=\"60.5\" y=\"8\">c</text><text font-family=\"serif\" font-size=\"9.5\" text-anchor=\"middle\" x=\"80.5\" y=\"8\">d</text><text font-family=\"serif\" font-size=\"9.5\" text-anchor=\"middle\" x=\"100.5\" y=\"8\">e</text><text font-family=\"serif\" font-size=\"9.5\" text-anchor=\"middle\" x=\"120.5\" y=\"8\">f</text><text font-family=\"serif\" font-size=\"9.5\" text-anchor=\"middle\" x=\"140.5\" y=\"8\">g</text><text font-family=\"serif\" font-size=\"9.5\" text-anchor=\"middle\" x=\"160.5\" y=\"8\">h</text><text font-family=\"serif\" font-size=\"9.5\" x=\"2.5\" y=\"23.5\">1</text><text font-family=\"serif\" font-size=\"9.5\" x=\"2.5\" y=\"43.5\">2</text><text font-family=\"serif\" font-size=\"9.5\" x=\"2.5\" y=\"63.5\">3</text><text font-family=\"serif\" font-size=\"9.5\" x=\"2.5\" y=\"83.5\">4</text><text font-family=\"serif\" font-size=\"9.5\" x=\"2.5\" y=\"103.5\">5</text><text font-family=\"serif\" font-size=\"9.5\" x=\"2.5\" y=\"123.5\">6</text><text font-family=\"serif\" font-size=\"9.5\" x=\"2.5\" y=\"143.5\">7</text><text font-family=\"serif\" font-size=\"9.5\" x=\"2.5\" y=\"163.5\">8</text></g><use xlink:href=\"#black\" x=\"70.5\" y=\"50.5\"/><use xlink:href=\"#white\" x=\"90.5\" y=\"50.5\"/><use xlink:href=\"#black\" x=\"70.5\" y=\"70.5\"/><use xlink:href=\"#black\" x=\"90.5\" y=\"70.5\"/><use xlink:href=\"#black\" x=\"110.5\" y=\"70.5\"/><use xlink:href=\"#black\" x=\"70.5\" y=\"90.5\"/><use xlink:href=\"#white\" x=\"90.5\" y=\"90.5\"/></svg>",
            "text/plain": [
              "<IPython.core.display.SVG object>"
            ]
          },
          "metadata": {},
          "output_type": "display_data"
        },
        {
          "name": "stdout",
          "output_type": "stream",
          "text": [
            "g3\n",
            "5: black\n"
          ]
        },
        {
          "data": {
            "image/svg+xml": "<svg xmlns=\"http://www.w3.org/2000/svg\" xmlns:xlink=\"http://www.w3.org/1999/xlink\" version=\"1.1\" width=\"215.0\" height=\"215.0\" viewBox=\"0 0 172 172\"><defs><g id=\"black\"><circle cx=\"10\" cy=\"10\" r=\"8.5\" fill=\"black\"/></g><g id=\"white\"><circle cx=\"10\" cy=\"10\" r=\"8.5\" fill=\"white\"/></g></defs><rect fill=\"green\" height=\"161\" width=\"161\" x=\"10\" y=\"10\"/><rect x=\"130.5\" y=\"50.5\" width=\"20\" height=\"20\" fill=\"#8bbf83\"/><g stroke=\"black\"><rect width=\"161\" height=\"161\" stroke-width=\"1.5\" fill=\"none\" x=\"10\" y=\"10\"/><line stroke-width=\"1.0\" x1=\"10.5\" x2=\"170.5\" y1=\"30.5\" y2=\"30.5\"/><line stroke-width=\"1.0\" x1=\"10.5\" x2=\"170.5\" y1=\"50.5\" y2=\"50.5\"/><line stroke-width=\"1.0\" x1=\"10.5\" x2=\"170.5\" y1=\"70.5\" y2=\"70.5\"/><line stroke-width=\"1.0\" x1=\"10.5\" x2=\"170.5\" y1=\"90.5\" y2=\"90.5\"/><line stroke-width=\"1.0\" x1=\"10.5\" x2=\"170.5\" y1=\"110.5\" y2=\"110.5\"/><line stroke-width=\"1.0\" x1=\"10.5\" x2=\"170.5\" y1=\"130.5\" y2=\"130.5\"/><line stroke-width=\"1.0\" x1=\"10.5\" x2=\"170.5\" y1=\"150.5\" y2=\"150.5\"/><line stroke-width=\"1.0\" x1=\"30.5\" x2=\"30.5\" y1=\"10.5\" y2=\"170.5\"/><line stroke-width=\"1.0\" x1=\"50.5\" x2=\"50.5\" y1=\"10.5\" y2=\"170.5\"/><line stroke-width=\"1.0\" x1=\"70.5\" x2=\"70.5\" y1=\"10.5\" y2=\"170.5\"/><line stroke-width=\"1.0\" x1=\"90.5\" x2=\"90.5\" y1=\"10.5\" y2=\"170.5\"/><line stroke-width=\"1.0\" x1=\"110.5\" x2=\"110.5\" y1=\"10.5\" y2=\"170.5\"/><line stroke-width=\"1.0\" x1=\"130.5\" x2=\"130.5\" y1=\"10.5\" y2=\"170.5\"/><line stroke-width=\"1.0\" x1=\"150.5\" x2=\"150.5\" y1=\"10.5\" y2=\"170.5\"/></g><g><text font-family=\"serif\" font-size=\"9.5\" text-anchor=\"middle\" x=\"20.5\" y=\"8\">a</text><text font-family=\"serif\" font-size=\"9.5\" text-anchor=\"middle\" x=\"40.5\" y=\"8\">b</text><text font-family=\"serif\" font-size=\"9.5\" text-anchor=\"middle\" x=\"60.5\" y=\"8\">c</text><text font-family=\"serif\" font-size=\"9.5\" text-anchor=\"middle\" x=\"80.5\" y=\"8\">d</text><text font-family=\"serif\" font-size=\"9.5\" text-anchor=\"middle\" x=\"100.5\" y=\"8\">e</text><text font-family=\"serif\" font-size=\"9.5\" text-anchor=\"middle\" x=\"120.5\" y=\"8\">f</text><text font-family=\"serif\" font-size=\"9.5\" text-anchor=\"middle\" x=\"140.5\" y=\"8\">g</text><text font-family=\"serif\" font-size=\"9.5\" text-anchor=\"middle\" x=\"160.5\" y=\"8\">h</text><text font-family=\"serif\" font-size=\"9.5\" x=\"2.5\" y=\"23.5\">1</text><text font-family=\"serif\" font-size=\"9.5\" x=\"2.5\" y=\"43.5\">2</text><text font-family=\"serif\" font-size=\"9.5\" x=\"2.5\" y=\"63.5\">3</text><text font-family=\"serif\" font-size=\"9.5\" x=\"2.5\" y=\"83.5\">4</text><text font-family=\"serif\" font-size=\"9.5\" x=\"2.5\" y=\"103.5\">5</text><text font-family=\"serif\" font-size=\"9.5\" x=\"2.5\" y=\"123.5\">6</text><text font-family=\"serif\" font-size=\"9.5\" x=\"2.5\" y=\"143.5\">7</text><text font-family=\"serif\" font-size=\"9.5\" x=\"2.5\" y=\"163.5\">8</text></g><use xlink:href=\"#black\" x=\"70.5\" y=\"50.5\"/><use xlink:href=\"#white\" x=\"90.5\" y=\"50.5\"/><use xlink:href=\"#white\" x=\"130.5\" y=\"50.5\"/><use xlink:href=\"#black\" x=\"70.5\" y=\"70.5\"/><use xlink:href=\"#black\" x=\"90.5\" y=\"70.5\"/><use xlink:href=\"#white\" x=\"110.5\" y=\"70.5\"/><use xlink:href=\"#black\" x=\"70.5\" y=\"90.5\"/><use xlink:href=\"#white\" x=\"90.5\" y=\"90.5\"/></svg>",
            "text/plain": [
              "<IPython.core.display.SVG object>"
            ]
          },
          "metadata": {},
          "output_type": "display_data"
        },
        {
          "name": "stdout",
          "output_type": "stream",
          "text": [
            "g4\n",
            "6: white\n"
          ]
        },
        {
          "data": {
            "image/svg+xml": "<svg xmlns=\"http://www.w3.org/2000/svg\" xmlns:xlink=\"http://www.w3.org/1999/xlink\" version=\"1.1\" width=\"215.0\" height=\"215.0\" viewBox=\"0 0 172 172\"><defs><g id=\"black\"><circle cx=\"10\" cy=\"10\" r=\"8.5\" fill=\"black\"/></g><g id=\"white\"><circle cx=\"10\" cy=\"10\" r=\"8.5\" fill=\"white\"/></g></defs><rect fill=\"green\" height=\"161\" width=\"161\" x=\"10\" y=\"10\"/><rect x=\"130.5\" y=\"70.5\" width=\"20\" height=\"20\" fill=\"#8bbf83\"/><g stroke=\"black\"><rect width=\"161\" height=\"161\" stroke-width=\"1.5\" fill=\"none\" x=\"10\" y=\"10\"/><line stroke-width=\"1.0\" x1=\"10.5\" x2=\"170.5\" y1=\"30.5\" y2=\"30.5\"/><line stroke-width=\"1.0\" x1=\"10.5\" x2=\"170.5\" y1=\"50.5\" y2=\"50.5\"/><line stroke-width=\"1.0\" x1=\"10.5\" x2=\"170.5\" y1=\"70.5\" y2=\"70.5\"/><line stroke-width=\"1.0\" x1=\"10.5\" x2=\"170.5\" y1=\"90.5\" y2=\"90.5\"/><line stroke-width=\"1.0\" x1=\"10.5\" x2=\"170.5\" y1=\"110.5\" y2=\"110.5\"/><line stroke-width=\"1.0\" x1=\"10.5\" x2=\"170.5\" y1=\"130.5\" y2=\"130.5\"/><line stroke-width=\"1.0\" x1=\"10.5\" x2=\"170.5\" y1=\"150.5\" y2=\"150.5\"/><line stroke-width=\"1.0\" x1=\"30.5\" x2=\"30.5\" y1=\"10.5\" y2=\"170.5\"/><line stroke-width=\"1.0\" x1=\"50.5\" x2=\"50.5\" y1=\"10.5\" y2=\"170.5\"/><line stroke-width=\"1.0\" x1=\"70.5\" x2=\"70.5\" y1=\"10.5\" y2=\"170.5\"/><line stroke-width=\"1.0\" x1=\"90.5\" x2=\"90.5\" y1=\"10.5\" y2=\"170.5\"/><line stroke-width=\"1.0\" x1=\"110.5\" x2=\"110.5\" y1=\"10.5\" y2=\"170.5\"/><line stroke-width=\"1.0\" x1=\"130.5\" x2=\"130.5\" y1=\"10.5\" y2=\"170.5\"/><line stroke-width=\"1.0\" x1=\"150.5\" x2=\"150.5\" y1=\"10.5\" y2=\"170.5\"/></g><g><text font-family=\"serif\" font-size=\"9.5\" text-anchor=\"middle\" x=\"20.5\" y=\"8\">a</text><text font-family=\"serif\" font-size=\"9.5\" text-anchor=\"middle\" x=\"40.5\" y=\"8\">b</text><text font-family=\"serif\" font-size=\"9.5\" text-anchor=\"middle\" x=\"60.5\" y=\"8\">c</text><text font-family=\"serif\" font-size=\"9.5\" text-anchor=\"middle\" x=\"80.5\" y=\"8\">d</text><text font-family=\"serif\" font-size=\"9.5\" text-anchor=\"middle\" x=\"100.5\" y=\"8\">e</text><text font-family=\"serif\" font-size=\"9.5\" text-anchor=\"middle\" x=\"120.5\" y=\"8\">f</text><text font-family=\"serif\" font-size=\"9.5\" text-anchor=\"middle\" x=\"140.5\" y=\"8\">g</text><text font-family=\"serif\" font-size=\"9.5\" text-anchor=\"middle\" x=\"160.5\" y=\"8\">h</text><text font-family=\"serif\" font-size=\"9.5\" x=\"2.5\" y=\"23.5\">1</text><text font-family=\"serif\" font-size=\"9.5\" x=\"2.5\" y=\"43.5\">2</text><text font-family=\"serif\" font-size=\"9.5\" x=\"2.5\" y=\"63.5\">3</text><text font-family=\"serif\" font-size=\"9.5\" x=\"2.5\" y=\"83.5\">4</text><text font-family=\"serif\" font-size=\"9.5\" x=\"2.5\" y=\"103.5\">5</text><text font-family=\"serif\" font-size=\"9.5\" x=\"2.5\" y=\"123.5\">6</text><text font-family=\"serif\" font-size=\"9.5\" x=\"2.5\" y=\"143.5\">7</text><text font-family=\"serif\" font-size=\"9.5\" x=\"2.5\" y=\"163.5\">8</text></g><use xlink:href=\"#black\" x=\"70.5\" y=\"50.5\"/><use xlink:href=\"#white\" x=\"90.5\" y=\"50.5\"/><use xlink:href=\"#white\" x=\"130.5\" y=\"50.5\"/><use xlink:href=\"#black\" x=\"70.5\" y=\"70.5\"/><use xlink:href=\"#black\" x=\"90.5\" y=\"70.5\"/><use xlink:href=\"#black\" x=\"110.5\" y=\"70.5\"/><use xlink:href=\"#black\" x=\"130.5\" y=\"70.5\"/><use xlink:href=\"#black\" x=\"70.5\" y=\"90.5\"/><use xlink:href=\"#white\" x=\"90.5\" y=\"90.5\"/></svg>",
            "text/plain": [
              "<IPython.core.display.SVG object>"
            ]
          },
          "metadata": {},
          "output_type": "display_data"
        },
        {
          "name": "stdout",
          "output_type": "stream",
          "text": [
            "c5\n",
            "7: black\n"
          ]
        },
        {
          "data": {
            "image/svg+xml": "<svg xmlns=\"http://www.w3.org/2000/svg\" xmlns:xlink=\"http://www.w3.org/1999/xlink\" version=\"1.1\" width=\"215.0\" height=\"215.0\" viewBox=\"0 0 172 172\"><defs><g id=\"black\"><circle cx=\"10\" cy=\"10\" r=\"8.5\" fill=\"black\"/></g><g id=\"white\"><circle cx=\"10\" cy=\"10\" r=\"8.5\" fill=\"white\"/></g></defs><rect fill=\"green\" height=\"161\" width=\"161\" x=\"10\" y=\"10\"/><rect x=\"50.5\" y=\"90.5\" width=\"20\" height=\"20\" fill=\"#8bbf83\"/><g stroke=\"black\"><rect width=\"161\" height=\"161\" stroke-width=\"1.5\" fill=\"none\" x=\"10\" y=\"10\"/><line stroke-width=\"1.0\" x1=\"10.5\" x2=\"170.5\" y1=\"30.5\" y2=\"30.5\"/><line stroke-width=\"1.0\" x1=\"10.5\" x2=\"170.5\" y1=\"50.5\" y2=\"50.5\"/><line stroke-width=\"1.0\" x1=\"10.5\" x2=\"170.5\" y1=\"70.5\" y2=\"70.5\"/><line stroke-width=\"1.0\" x1=\"10.5\" x2=\"170.5\" y1=\"90.5\" y2=\"90.5\"/><line stroke-width=\"1.0\" x1=\"10.5\" x2=\"170.5\" y1=\"110.5\" y2=\"110.5\"/><line stroke-width=\"1.0\" x1=\"10.5\" x2=\"170.5\" y1=\"130.5\" y2=\"130.5\"/><line stroke-width=\"1.0\" x1=\"10.5\" x2=\"170.5\" y1=\"150.5\" y2=\"150.5\"/><line stroke-width=\"1.0\" x1=\"30.5\" x2=\"30.5\" y1=\"10.5\" y2=\"170.5\"/><line stroke-width=\"1.0\" x1=\"50.5\" x2=\"50.5\" y1=\"10.5\" y2=\"170.5\"/><line stroke-width=\"1.0\" x1=\"70.5\" x2=\"70.5\" y1=\"10.5\" y2=\"170.5\"/><line stroke-width=\"1.0\" x1=\"90.5\" x2=\"90.5\" y1=\"10.5\" y2=\"170.5\"/><line stroke-width=\"1.0\" x1=\"110.5\" x2=\"110.5\" y1=\"10.5\" y2=\"170.5\"/><line stroke-width=\"1.0\" x1=\"130.5\" x2=\"130.5\" y1=\"10.5\" y2=\"170.5\"/><line stroke-width=\"1.0\" x1=\"150.5\" x2=\"150.5\" y1=\"10.5\" y2=\"170.5\"/></g><g><text font-family=\"serif\" font-size=\"9.5\" text-anchor=\"middle\" x=\"20.5\" y=\"8\">a</text><text font-family=\"serif\" font-size=\"9.5\" text-anchor=\"middle\" x=\"40.5\" y=\"8\">b</text><text font-family=\"serif\" font-size=\"9.5\" text-anchor=\"middle\" x=\"60.5\" y=\"8\">c</text><text font-family=\"serif\" font-size=\"9.5\" text-anchor=\"middle\" x=\"80.5\" y=\"8\">d</text><text font-family=\"serif\" font-size=\"9.5\" text-anchor=\"middle\" x=\"100.5\" y=\"8\">e</text><text font-family=\"serif\" font-size=\"9.5\" text-anchor=\"middle\" x=\"120.5\" y=\"8\">f</text><text font-family=\"serif\" font-size=\"9.5\" text-anchor=\"middle\" x=\"140.5\" y=\"8\">g</text><text font-family=\"serif\" font-size=\"9.5\" text-anchor=\"middle\" x=\"160.5\" y=\"8\">h</text><text font-family=\"serif\" font-size=\"9.5\" x=\"2.5\" y=\"23.5\">1</text><text font-family=\"serif\" font-size=\"9.5\" x=\"2.5\" y=\"43.5\">2</text><text font-family=\"serif\" font-size=\"9.5\" x=\"2.5\" y=\"63.5\">3</text><text font-family=\"serif\" font-size=\"9.5\" x=\"2.5\" y=\"83.5\">4</text><text font-family=\"serif\" font-size=\"9.5\" x=\"2.5\" y=\"103.5\">5</text><text font-family=\"serif\" font-size=\"9.5\" x=\"2.5\" y=\"123.5\">6</text><text font-family=\"serif\" font-size=\"9.5\" x=\"2.5\" y=\"143.5\">7</text><text font-family=\"serif\" font-size=\"9.5\" x=\"2.5\" y=\"163.5\">8</text></g><use xlink:href=\"#black\" x=\"70.5\" y=\"50.5\"/><use xlink:href=\"#white\" x=\"90.5\" y=\"50.5\"/><use xlink:href=\"#white\" x=\"130.5\" y=\"50.5\"/><use xlink:href=\"#white\" x=\"70.5\" y=\"70.5\"/><use xlink:href=\"#black\" x=\"90.5\" y=\"70.5\"/><use xlink:href=\"#black\" x=\"110.5\" y=\"70.5\"/><use xlink:href=\"#black\" x=\"130.5\" y=\"70.5\"/><use xlink:href=\"#white\" x=\"50.5\" y=\"90.5\"/><use xlink:href=\"#white\" x=\"70.5\" y=\"90.5\"/><use xlink:href=\"#white\" x=\"90.5\" y=\"90.5\"/></svg>",
            "text/plain": [
              "<IPython.core.display.SVG object>"
            ]
          },
          "metadata": {},
          "output_type": "display_data"
        },
        {
          "name": "stdout",
          "output_type": "stream",
          "text": [
            "f3\n",
            "8: white\n"
          ]
        },
        {
          "data": {
            "image/svg+xml": "<svg xmlns=\"http://www.w3.org/2000/svg\" xmlns:xlink=\"http://www.w3.org/1999/xlink\" version=\"1.1\" width=\"215.0\" height=\"215.0\" viewBox=\"0 0 172 172\"><defs><g id=\"black\"><circle cx=\"10\" cy=\"10\" r=\"8.5\" fill=\"black\"/></g><g id=\"white\"><circle cx=\"10\" cy=\"10\" r=\"8.5\" fill=\"white\"/></g></defs><rect fill=\"green\" height=\"161\" width=\"161\" x=\"10\" y=\"10\"/><rect x=\"110.5\" y=\"50.5\" width=\"20\" height=\"20\" fill=\"#8bbf83\"/><g stroke=\"black\"><rect width=\"161\" height=\"161\" stroke-width=\"1.5\" fill=\"none\" x=\"10\" y=\"10\"/><line stroke-width=\"1.0\" x1=\"10.5\" x2=\"170.5\" y1=\"30.5\" y2=\"30.5\"/><line stroke-width=\"1.0\" x1=\"10.5\" x2=\"170.5\" y1=\"50.5\" y2=\"50.5\"/><line stroke-width=\"1.0\" x1=\"10.5\" x2=\"170.5\" y1=\"70.5\" y2=\"70.5\"/><line stroke-width=\"1.0\" x1=\"10.5\" x2=\"170.5\" y1=\"90.5\" y2=\"90.5\"/><line stroke-width=\"1.0\" x1=\"10.5\" x2=\"170.5\" y1=\"110.5\" y2=\"110.5\"/><line stroke-width=\"1.0\" x1=\"10.5\" x2=\"170.5\" y1=\"130.5\" y2=\"130.5\"/><line stroke-width=\"1.0\" x1=\"10.5\" x2=\"170.5\" y1=\"150.5\" y2=\"150.5\"/><line stroke-width=\"1.0\" x1=\"30.5\" x2=\"30.5\" y1=\"10.5\" y2=\"170.5\"/><line stroke-width=\"1.0\" x1=\"50.5\" x2=\"50.5\" y1=\"10.5\" y2=\"170.5\"/><line stroke-width=\"1.0\" x1=\"70.5\" x2=\"70.5\" y1=\"10.5\" y2=\"170.5\"/><line stroke-width=\"1.0\" x1=\"90.5\" x2=\"90.5\" y1=\"10.5\" y2=\"170.5\"/><line stroke-width=\"1.0\" x1=\"110.5\" x2=\"110.5\" y1=\"10.5\" y2=\"170.5\"/><line stroke-width=\"1.0\" x1=\"130.5\" x2=\"130.5\" y1=\"10.5\" y2=\"170.5\"/><line stroke-width=\"1.0\" x1=\"150.5\" x2=\"150.5\" y1=\"10.5\" y2=\"170.5\"/></g><g><text font-family=\"serif\" font-size=\"9.5\" text-anchor=\"middle\" x=\"20.5\" y=\"8\">a</text><text font-family=\"serif\" font-size=\"9.5\" text-anchor=\"middle\" x=\"40.5\" y=\"8\">b</text><text font-family=\"serif\" font-size=\"9.5\" text-anchor=\"middle\" x=\"60.5\" y=\"8\">c</text><text font-family=\"serif\" font-size=\"9.5\" text-anchor=\"middle\" x=\"80.5\" y=\"8\">d</text><text font-family=\"serif\" font-size=\"9.5\" text-anchor=\"middle\" x=\"100.5\" y=\"8\">e</text><text font-family=\"serif\" font-size=\"9.5\" text-anchor=\"middle\" x=\"120.5\" y=\"8\">f</text><text font-family=\"serif\" font-size=\"9.5\" text-anchor=\"middle\" x=\"140.5\" y=\"8\">g</text><text font-family=\"serif\" font-size=\"9.5\" text-anchor=\"middle\" x=\"160.5\" y=\"8\">h</text><text font-family=\"serif\" font-size=\"9.5\" x=\"2.5\" y=\"23.5\">1</text><text font-family=\"serif\" font-size=\"9.5\" x=\"2.5\" y=\"43.5\">2</text><text font-family=\"serif\" font-size=\"9.5\" x=\"2.5\" y=\"63.5\">3</text><text font-family=\"serif\" font-size=\"9.5\" x=\"2.5\" y=\"83.5\">4</text><text font-family=\"serif\" font-size=\"9.5\" x=\"2.5\" y=\"103.5\">5</text><text font-family=\"serif\" font-size=\"9.5\" x=\"2.5\" y=\"123.5\">6</text><text font-family=\"serif\" font-size=\"9.5\" x=\"2.5\" y=\"143.5\">7</text><text font-family=\"serif\" font-size=\"9.5\" x=\"2.5\" y=\"163.5\">8</text></g><use xlink:href=\"#black\" x=\"70.5\" y=\"50.5\"/><use xlink:href=\"#black\" x=\"90.5\" y=\"50.5\"/><use xlink:href=\"#black\" x=\"110.5\" y=\"50.5\"/><use xlink:href=\"#white\" x=\"130.5\" y=\"50.5\"/><use xlink:href=\"#white\" x=\"70.5\" y=\"70.5\"/><use xlink:href=\"#black\" x=\"90.5\" y=\"70.5\"/><use xlink:href=\"#black\" x=\"110.5\" y=\"70.5\"/><use xlink:href=\"#black\" x=\"130.5\" y=\"70.5\"/><use xlink:href=\"#white\" x=\"50.5\" y=\"90.5\"/><use xlink:href=\"#white\" x=\"70.5\" y=\"90.5\"/><use xlink:href=\"#white\" x=\"90.5\" y=\"90.5\"/></svg>",
            "text/plain": [
              "<IPython.core.display.SVG object>"
            ]
          },
          "metadata": {},
          "output_type": "display_data"
        },
        {
          "name": "stdout",
          "output_type": "stream",
          "text": [
            "f2\n",
            "9: black\n"
          ]
        },
        {
          "data": {
            "image/svg+xml": "<svg xmlns=\"http://www.w3.org/2000/svg\" xmlns:xlink=\"http://www.w3.org/1999/xlink\" version=\"1.1\" width=\"215.0\" height=\"215.0\" viewBox=\"0 0 172 172\"><defs><g id=\"black\"><circle cx=\"10\" cy=\"10\" r=\"8.5\" fill=\"black\"/></g><g id=\"white\"><circle cx=\"10\" cy=\"10\" r=\"8.5\" fill=\"white\"/></g></defs><rect fill=\"green\" height=\"161\" width=\"161\" x=\"10\" y=\"10\"/><rect x=\"110.5\" y=\"30.5\" width=\"20\" height=\"20\" fill=\"#8bbf83\"/><g stroke=\"black\"><rect width=\"161\" height=\"161\" stroke-width=\"1.5\" fill=\"none\" x=\"10\" y=\"10\"/><line stroke-width=\"1.0\" x1=\"10.5\" x2=\"170.5\" y1=\"30.5\" y2=\"30.5\"/><line stroke-width=\"1.0\" x1=\"10.5\" x2=\"170.5\" y1=\"50.5\" y2=\"50.5\"/><line stroke-width=\"1.0\" x1=\"10.5\" x2=\"170.5\" y1=\"70.5\" y2=\"70.5\"/><line stroke-width=\"1.0\" x1=\"10.5\" x2=\"170.5\" y1=\"90.5\" y2=\"90.5\"/><line stroke-width=\"1.0\" x1=\"10.5\" x2=\"170.5\" y1=\"110.5\" y2=\"110.5\"/><line stroke-width=\"1.0\" x1=\"10.5\" x2=\"170.5\" y1=\"130.5\" y2=\"130.5\"/><line stroke-width=\"1.0\" x1=\"10.5\" x2=\"170.5\" y1=\"150.5\" y2=\"150.5\"/><line stroke-width=\"1.0\" x1=\"30.5\" x2=\"30.5\" y1=\"10.5\" y2=\"170.5\"/><line stroke-width=\"1.0\" x1=\"50.5\" x2=\"50.5\" y1=\"10.5\" y2=\"170.5\"/><line stroke-width=\"1.0\" x1=\"70.5\" x2=\"70.5\" y1=\"10.5\" y2=\"170.5\"/><line stroke-width=\"1.0\" x1=\"90.5\" x2=\"90.5\" y1=\"10.5\" y2=\"170.5\"/><line stroke-width=\"1.0\" x1=\"110.5\" x2=\"110.5\" y1=\"10.5\" y2=\"170.5\"/><line stroke-width=\"1.0\" x1=\"130.5\" x2=\"130.5\" y1=\"10.5\" y2=\"170.5\"/><line stroke-width=\"1.0\" x1=\"150.5\" x2=\"150.5\" y1=\"10.5\" y2=\"170.5\"/></g><g><text font-family=\"serif\" font-size=\"9.5\" text-anchor=\"middle\" x=\"20.5\" y=\"8\">a</text><text font-family=\"serif\" font-size=\"9.5\" text-anchor=\"middle\" x=\"40.5\" y=\"8\">b</text><text font-family=\"serif\" font-size=\"9.5\" text-anchor=\"middle\" x=\"60.5\" y=\"8\">c</text><text font-family=\"serif\" font-size=\"9.5\" text-anchor=\"middle\" x=\"80.5\" y=\"8\">d</text><text font-family=\"serif\" font-size=\"9.5\" text-anchor=\"middle\" x=\"100.5\" y=\"8\">e</text><text font-family=\"serif\" font-size=\"9.5\" text-anchor=\"middle\" x=\"120.5\" y=\"8\">f</text><text font-family=\"serif\" font-size=\"9.5\" text-anchor=\"middle\" x=\"140.5\" y=\"8\">g</text><text font-family=\"serif\" font-size=\"9.5\" text-anchor=\"middle\" x=\"160.5\" y=\"8\">h</text><text font-family=\"serif\" font-size=\"9.5\" x=\"2.5\" y=\"23.5\">1</text><text font-family=\"serif\" font-size=\"9.5\" x=\"2.5\" y=\"43.5\">2</text><text font-family=\"serif\" font-size=\"9.5\" x=\"2.5\" y=\"63.5\">3</text><text font-family=\"serif\" font-size=\"9.5\" x=\"2.5\" y=\"83.5\">4</text><text font-family=\"serif\" font-size=\"9.5\" x=\"2.5\" y=\"103.5\">5</text><text font-family=\"serif\" font-size=\"9.5\" x=\"2.5\" y=\"123.5\">6</text><text font-family=\"serif\" font-size=\"9.5\" x=\"2.5\" y=\"143.5\">7</text><text font-family=\"serif\" font-size=\"9.5\" x=\"2.5\" y=\"163.5\">8</text></g><use xlink:href=\"#white\" x=\"110.5\" y=\"30.5\"/><use xlink:href=\"#black\" x=\"70.5\" y=\"50.5\"/><use xlink:href=\"#white\" x=\"90.5\" y=\"50.5\"/><use xlink:href=\"#black\" x=\"110.5\" y=\"50.5\"/><use xlink:href=\"#white\" x=\"130.5\" y=\"50.5\"/><use xlink:href=\"#white\" x=\"70.5\" y=\"70.5\"/><use xlink:href=\"#black\" x=\"90.5\" y=\"70.5\"/><use xlink:href=\"#black\" x=\"110.5\" y=\"70.5\"/><use xlink:href=\"#black\" x=\"130.5\" y=\"70.5\"/><use xlink:href=\"#white\" x=\"50.5\" y=\"90.5\"/><use xlink:href=\"#white\" x=\"70.5\" y=\"90.5\"/><use xlink:href=\"#white\" x=\"90.5\" y=\"90.5\"/></svg>",
            "text/plain": [
              "<IPython.core.display.SVG object>"
            ]
          },
          "metadata": {},
          "output_type": "display_data"
        },
        {
          "name": "stdout",
          "output_type": "stream",
          "text": [
            "f1\n",
            "10: white\n"
          ]
        },
        {
          "data": {
            "image/svg+xml": "<svg xmlns=\"http://www.w3.org/2000/svg\" xmlns:xlink=\"http://www.w3.org/1999/xlink\" version=\"1.1\" width=\"215.0\" height=\"215.0\" viewBox=\"0 0 172 172\"><defs><g id=\"black\"><circle cx=\"10\" cy=\"10\" r=\"8.5\" fill=\"black\"/></g><g id=\"white\"><circle cx=\"10\" cy=\"10\" r=\"8.5\" fill=\"white\"/></g></defs><rect fill=\"green\" height=\"161\" width=\"161\" x=\"10\" y=\"10\"/><rect x=\"110.5\" y=\"10.5\" width=\"20\" height=\"20\" fill=\"#8bbf83\"/><g stroke=\"black\"><rect width=\"161\" height=\"161\" stroke-width=\"1.5\" fill=\"none\" x=\"10\" y=\"10\"/><line stroke-width=\"1.0\" x1=\"10.5\" x2=\"170.5\" y1=\"30.5\" y2=\"30.5\"/><line stroke-width=\"1.0\" x1=\"10.5\" x2=\"170.5\" y1=\"50.5\" y2=\"50.5\"/><line stroke-width=\"1.0\" x1=\"10.5\" x2=\"170.5\" y1=\"70.5\" y2=\"70.5\"/><line stroke-width=\"1.0\" x1=\"10.5\" x2=\"170.5\" y1=\"90.5\" y2=\"90.5\"/><line stroke-width=\"1.0\" x1=\"10.5\" x2=\"170.5\" y1=\"110.5\" y2=\"110.5\"/><line stroke-width=\"1.0\" x1=\"10.5\" x2=\"170.5\" y1=\"130.5\" y2=\"130.5\"/><line stroke-width=\"1.0\" x1=\"10.5\" x2=\"170.5\" y1=\"150.5\" y2=\"150.5\"/><line stroke-width=\"1.0\" x1=\"30.5\" x2=\"30.5\" y1=\"10.5\" y2=\"170.5\"/><line stroke-width=\"1.0\" x1=\"50.5\" x2=\"50.5\" y1=\"10.5\" y2=\"170.5\"/><line stroke-width=\"1.0\" x1=\"70.5\" x2=\"70.5\" y1=\"10.5\" y2=\"170.5\"/><line stroke-width=\"1.0\" x1=\"90.5\" x2=\"90.5\" y1=\"10.5\" y2=\"170.5\"/><line stroke-width=\"1.0\" x1=\"110.5\" x2=\"110.5\" y1=\"10.5\" y2=\"170.5\"/><line stroke-width=\"1.0\" x1=\"130.5\" x2=\"130.5\" y1=\"10.5\" y2=\"170.5\"/><line stroke-width=\"1.0\" x1=\"150.5\" x2=\"150.5\" y1=\"10.5\" y2=\"170.5\"/></g><g><text font-family=\"serif\" font-size=\"9.5\" text-anchor=\"middle\" x=\"20.5\" y=\"8\">a</text><text font-family=\"serif\" font-size=\"9.5\" text-anchor=\"middle\" x=\"40.5\" y=\"8\">b</text><text font-family=\"serif\" font-size=\"9.5\" text-anchor=\"middle\" x=\"60.5\" y=\"8\">c</text><text font-family=\"serif\" font-size=\"9.5\" text-anchor=\"middle\" x=\"80.5\" y=\"8\">d</text><text font-family=\"serif\" font-size=\"9.5\" text-anchor=\"middle\" x=\"100.5\" y=\"8\">e</text><text font-family=\"serif\" font-size=\"9.5\" text-anchor=\"middle\" x=\"120.5\" y=\"8\">f</text><text font-family=\"serif\" font-size=\"9.5\" text-anchor=\"middle\" x=\"140.5\" y=\"8\">g</text><text font-family=\"serif\" font-size=\"9.5\" text-anchor=\"middle\" x=\"160.5\" y=\"8\">h</text><text font-family=\"serif\" font-size=\"9.5\" x=\"2.5\" y=\"23.5\">1</text><text font-family=\"serif\" font-size=\"9.5\" x=\"2.5\" y=\"43.5\">2</text><text font-family=\"serif\" font-size=\"9.5\" x=\"2.5\" y=\"63.5\">3</text><text font-family=\"serif\" font-size=\"9.5\" x=\"2.5\" y=\"83.5\">4</text><text font-family=\"serif\" font-size=\"9.5\" x=\"2.5\" y=\"103.5\">5</text><text font-family=\"serif\" font-size=\"9.5\" x=\"2.5\" y=\"123.5\">6</text><text font-family=\"serif\" font-size=\"9.5\" x=\"2.5\" y=\"143.5\">7</text><text font-family=\"serif\" font-size=\"9.5\" x=\"2.5\" y=\"163.5\">8</text></g><use xlink:href=\"#black\" x=\"110.5\" y=\"10.5\"/><use xlink:href=\"#black\" x=\"110.5\" y=\"30.5\"/><use xlink:href=\"#black\" x=\"70.5\" y=\"50.5\"/><use xlink:href=\"#white\" x=\"90.5\" y=\"50.5\"/><use xlink:href=\"#black\" x=\"110.5\" y=\"50.5\"/><use xlink:href=\"#white\" x=\"130.5\" y=\"50.5\"/><use xlink:href=\"#white\" x=\"70.5\" y=\"70.5\"/><use xlink:href=\"#black\" x=\"90.5\" y=\"70.5\"/><use xlink:href=\"#black\" x=\"110.5\" y=\"70.5\"/><use xlink:href=\"#black\" x=\"130.5\" y=\"70.5\"/><use xlink:href=\"#white\" x=\"50.5\" y=\"90.5\"/><use xlink:href=\"#white\" x=\"70.5\" y=\"90.5\"/><use xlink:href=\"#white\" x=\"90.5\" y=\"90.5\"/></svg>",
            "text/plain": [
              "<IPython.core.display.SVG object>"
            ]
          },
          "metadata": {},
          "output_type": "display_data"
        },
        {
          "name": "stdout",
          "output_type": "stream",
          "text": [
            "h4\n",
            "11: black\n"
          ]
        },
        {
          "data": {
            "image/svg+xml": "<svg xmlns=\"http://www.w3.org/2000/svg\" xmlns:xlink=\"http://www.w3.org/1999/xlink\" version=\"1.1\" width=\"215.0\" height=\"215.0\" viewBox=\"0 0 172 172\"><defs><g id=\"black\"><circle cx=\"10\" cy=\"10\" r=\"8.5\" fill=\"black\"/></g><g id=\"white\"><circle cx=\"10\" cy=\"10\" r=\"8.5\" fill=\"white\"/></g></defs><rect fill=\"green\" height=\"161\" width=\"161\" x=\"10\" y=\"10\"/><rect x=\"150.5\" y=\"70.5\" width=\"20\" height=\"20\" fill=\"#8bbf83\"/><g stroke=\"black\"><rect width=\"161\" height=\"161\" stroke-width=\"1.5\" fill=\"none\" x=\"10\" y=\"10\"/><line stroke-width=\"1.0\" x1=\"10.5\" x2=\"170.5\" y1=\"30.5\" y2=\"30.5\"/><line stroke-width=\"1.0\" x1=\"10.5\" x2=\"170.5\" y1=\"50.5\" y2=\"50.5\"/><line stroke-width=\"1.0\" x1=\"10.5\" x2=\"170.5\" y1=\"70.5\" y2=\"70.5\"/><line stroke-width=\"1.0\" x1=\"10.5\" x2=\"170.5\" y1=\"90.5\" y2=\"90.5\"/><line stroke-width=\"1.0\" x1=\"10.5\" x2=\"170.5\" y1=\"110.5\" y2=\"110.5\"/><line stroke-width=\"1.0\" x1=\"10.5\" x2=\"170.5\" y1=\"130.5\" y2=\"130.5\"/><line stroke-width=\"1.0\" x1=\"10.5\" x2=\"170.5\" y1=\"150.5\" y2=\"150.5\"/><line stroke-width=\"1.0\" x1=\"30.5\" x2=\"30.5\" y1=\"10.5\" y2=\"170.5\"/><line stroke-width=\"1.0\" x1=\"50.5\" x2=\"50.5\" y1=\"10.5\" y2=\"170.5\"/><line stroke-width=\"1.0\" x1=\"70.5\" x2=\"70.5\" y1=\"10.5\" y2=\"170.5\"/><line stroke-width=\"1.0\" x1=\"90.5\" x2=\"90.5\" y1=\"10.5\" y2=\"170.5\"/><line stroke-width=\"1.0\" x1=\"110.5\" x2=\"110.5\" y1=\"10.5\" y2=\"170.5\"/><line stroke-width=\"1.0\" x1=\"130.5\" x2=\"130.5\" y1=\"10.5\" y2=\"170.5\"/><line stroke-width=\"1.0\" x1=\"150.5\" x2=\"150.5\" y1=\"10.5\" y2=\"170.5\"/></g><g><text font-family=\"serif\" font-size=\"9.5\" text-anchor=\"middle\" x=\"20.5\" y=\"8\">a</text><text font-family=\"serif\" font-size=\"9.5\" text-anchor=\"middle\" x=\"40.5\" y=\"8\">b</text><text font-family=\"serif\" font-size=\"9.5\" text-anchor=\"middle\" x=\"60.5\" y=\"8\">c</text><text font-family=\"serif\" font-size=\"9.5\" text-anchor=\"middle\" x=\"80.5\" y=\"8\">d</text><text font-family=\"serif\" font-size=\"9.5\" text-anchor=\"middle\" x=\"100.5\" y=\"8\">e</text><text font-family=\"serif\" font-size=\"9.5\" text-anchor=\"middle\" x=\"120.5\" y=\"8\">f</text><text font-family=\"serif\" font-size=\"9.5\" text-anchor=\"middle\" x=\"140.5\" y=\"8\">g</text><text font-family=\"serif\" font-size=\"9.5\" text-anchor=\"middle\" x=\"160.5\" y=\"8\">h</text><text font-family=\"serif\" font-size=\"9.5\" x=\"2.5\" y=\"23.5\">1</text><text font-family=\"serif\" font-size=\"9.5\" x=\"2.5\" y=\"43.5\">2</text><text font-family=\"serif\" font-size=\"9.5\" x=\"2.5\" y=\"63.5\">3</text><text font-family=\"serif\" font-size=\"9.5\" x=\"2.5\" y=\"83.5\">4</text><text font-family=\"serif\" font-size=\"9.5\" x=\"2.5\" y=\"103.5\">5</text><text font-family=\"serif\" font-size=\"9.5\" x=\"2.5\" y=\"123.5\">6</text><text font-family=\"serif\" font-size=\"9.5\" x=\"2.5\" y=\"143.5\">7</text><text font-family=\"serif\" font-size=\"9.5\" x=\"2.5\" y=\"163.5\">8</text></g><use xlink:href=\"#black\" x=\"110.5\" y=\"10.5\"/><use xlink:href=\"#black\" x=\"110.5\" y=\"30.5\"/><use xlink:href=\"#black\" x=\"70.5\" y=\"50.5\"/><use xlink:href=\"#white\" x=\"90.5\" y=\"50.5\"/><use xlink:href=\"#black\" x=\"110.5\" y=\"50.5\"/><use xlink:href=\"#white\" x=\"130.5\" y=\"50.5\"/><use xlink:href=\"#white\" x=\"70.5\" y=\"70.5\"/><use xlink:href=\"#white\" x=\"90.5\" y=\"70.5\"/><use xlink:href=\"#white\" x=\"110.5\" y=\"70.5\"/><use xlink:href=\"#white\" x=\"130.5\" y=\"70.5\"/><use xlink:href=\"#white\" x=\"150.5\" y=\"70.5\"/><use xlink:href=\"#white\" x=\"50.5\" y=\"90.5\"/><use xlink:href=\"#white\" x=\"70.5\" y=\"90.5\"/><use xlink:href=\"#white\" x=\"90.5\" y=\"90.5\"/></svg>",
            "text/plain": [
              "<IPython.core.display.SVG object>"
            ]
          },
          "metadata": {},
          "output_type": "display_data"
        },
        {
          "name": "stdout",
          "output_type": "stream",
          "text": [
            "h3\n",
            "12: white\n"
          ]
        },
        {
          "data": {
            "image/svg+xml": "<svg xmlns=\"http://www.w3.org/2000/svg\" xmlns:xlink=\"http://www.w3.org/1999/xlink\" version=\"1.1\" width=\"215.0\" height=\"215.0\" viewBox=\"0 0 172 172\"><defs><g id=\"black\"><circle cx=\"10\" cy=\"10\" r=\"8.5\" fill=\"black\"/></g><g id=\"white\"><circle cx=\"10\" cy=\"10\" r=\"8.5\" fill=\"white\"/></g></defs><rect fill=\"green\" height=\"161\" width=\"161\" x=\"10\" y=\"10\"/><rect x=\"150.5\" y=\"50.5\" width=\"20\" height=\"20\" fill=\"#8bbf83\"/><g stroke=\"black\"><rect width=\"161\" height=\"161\" stroke-width=\"1.5\" fill=\"none\" x=\"10\" y=\"10\"/><line stroke-width=\"1.0\" x1=\"10.5\" x2=\"170.5\" y1=\"30.5\" y2=\"30.5\"/><line stroke-width=\"1.0\" x1=\"10.5\" x2=\"170.5\" y1=\"50.5\" y2=\"50.5\"/><line stroke-width=\"1.0\" x1=\"10.5\" x2=\"170.5\" y1=\"70.5\" y2=\"70.5\"/><line stroke-width=\"1.0\" x1=\"10.5\" x2=\"170.5\" y1=\"90.5\" y2=\"90.5\"/><line stroke-width=\"1.0\" x1=\"10.5\" x2=\"170.5\" y1=\"110.5\" y2=\"110.5\"/><line stroke-width=\"1.0\" x1=\"10.5\" x2=\"170.5\" y1=\"130.5\" y2=\"130.5\"/><line stroke-width=\"1.0\" x1=\"10.5\" x2=\"170.5\" y1=\"150.5\" y2=\"150.5\"/><line stroke-width=\"1.0\" x1=\"30.5\" x2=\"30.5\" y1=\"10.5\" y2=\"170.5\"/><line stroke-width=\"1.0\" x1=\"50.5\" x2=\"50.5\" y1=\"10.5\" y2=\"170.5\"/><line stroke-width=\"1.0\" x1=\"70.5\" x2=\"70.5\" y1=\"10.5\" y2=\"170.5\"/><line stroke-width=\"1.0\" x1=\"90.5\" x2=\"90.5\" y1=\"10.5\" y2=\"170.5\"/><line stroke-width=\"1.0\" x1=\"110.5\" x2=\"110.5\" y1=\"10.5\" y2=\"170.5\"/><line stroke-width=\"1.0\" x1=\"130.5\" x2=\"130.5\" y1=\"10.5\" y2=\"170.5\"/><line stroke-width=\"1.0\" x1=\"150.5\" x2=\"150.5\" y1=\"10.5\" y2=\"170.5\"/></g><g><text font-family=\"serif\" font-size=\"9.5\" text-anchor=\"middle\" x=\"20.5\" y=\"8\">a</text><text font-family=\"serif\" font-size=\"9.5\" text-anchor=\"middle\" x=\"40.5\" y=\"8\">b</text><text font-family=\"serif\" font-size=\"9.5\" text-anchor=\"middle\" x=\"60.5\" y=\"8\">c</text><text font-family=\"serif\" font-size=\"9.5\" text-anchor=\"middle\" x=\"80.5\" y=\"8\">d</text><text font-family=\"serif\" font-size=\"9.5\" text-anchor=\"middle\" x=\"100.5\" y=\"8\">e</text><text font-family=\"serif\" font-size=\"9.5\" text-anchor=\"middle\" x=\"120.5\" y=\"8\">f</text><text font-family=\"serif\" font-size=\"9.5\" text-anchor=\"middle\" x=\"140.5\" y=\"8\">g</text><text font-family=\"serif\" font-size=\"9.5\" text-anchor=\"middle\" x=\"160.5\" y=\"8\">h</text><text font-family=\"serif\" font-size=\"9.5\" x=\"2.5\" y=\"23.5\">1</text><text font-family=\"serif\" font-size=\"9.5\" x=\"2.5\" y=\"43.5\">2</text><text font-family=\"serif\" font-size=\"9.5\" x=\"2.5\" y=\"63.5\">3</text><text font-family=\"serif\" font-size=\"9.5\" x=\"2.5\" y=\"83.5\">4</text><text font-family=\"serif\" font-size=\"9.5\" x=\"2.5\" y=\"103.5\">5</text><text font-family=\"serif\" font-size=\"9.5\" x=\"2.5\" y=\"123.5\">6</text><text font-family=\"serif\" font-size=\"9.5\" x=\"2.5\" y=\"143.5\">7</text><text font-family=\"serif\" font-size=\"9.5\" x=\"2.5\" y=\"163.5\">8</text></g><use xlink:href=\"#black\" x=\"110.5\" y=\"10.5\"/><use xlink:href=\"#black\" x=\"110.5\" y=\"30.5\"/><use xlink:href=\"#black\" x=\"70.5\" y=\"50.5\"/><use xlink:href=\"#white\" x=\"90.5\" y=\"50.5\"/><use xlink:href=\"#black\" x=\"110.5\" y=\"50.5\"/><use xlink:href=\"#black\" x=\"130.5\" y=\"50.5\"/><use xlink:href=\"#black\" x=\"150.5\" y=\"50.5\"/><use xlink:href=\"#white\" x=\"70.5\" y=\"70.5\"/><use xlink:href=\"#white\" x=\"90.5\" y=\"70.5\"/><use xlink:href=\"#white\" x=\"110.5\" y=\"70.5\"/><use xlink:href=\"#white\" x=\"130.5\" y=\"70.5\"/><use xlink:href=\"#white\" x=\"150.5\" y=\"70.5\"/><use xlink:href=\"#white\" x=\"50.5\" y=\"90.5\"/><use xlink:href=\"#white\" x=\"70.5\" y=\"90.5\"/><use xlink:href=\"#white\" x=\"90.5\" y=\"90.5\"/></svg>",
            "text/plain": [
              "<IPython.core.display.SVG object>"
            ]
          },
          "metadata": {},
          "output_type": "display_data"
        },
        {
          "name": "stdout",
          "output_type": "stream",
          "text": [
            "g1\n",
            "13: black\n"
          ]
        },
        {
          "data": {
            "image/svg+xml": "<svg xmlns=\"http://www.w3.org/2000/svg\" xmlns:xlink=\"http://www.w3.org/1999/xlink\" version=\"1.1\" width=\"215.0\" height=\"215.0\" viewBox=\"0 0 172 172\"><defs><g id=\"black\"><circle cx=\"10\" cy=\"10\" r=\"8.5\" fill=\"black\"/></g><g id=\"white\"><circle cx=\"10\" cy=\"10\" r=\"8.5\" fill=\"white\"/></g></defs><rect fill=\"green\" height=\"161\" width=\"161\" x=\"10\" y=\"10\"/><rect x=\"130.5\" y=\"10.5\" width=\"20\" height=\"20\" fill=\"#8bbf83\"/><g stroke=\"black\"><rect width=\"161\" height=\"161\" stroke-width=\"1.5\" fill=\"none\" x=\"10\" y=\"10\"/><line stroke-width=\"1.0\" x1=\"10.5\" x2=\"170.5\" y1=\"30.5\" y2=\"30.5\"/><line stroke-width=\"1.0\" x1=\"10.5\" x2=\"170.5\" y1=\"50.5\" y2=\"50.5\"/><line stroke-width=\"1.0\" x1=\"10.5\" x2=\"170.5\" y1=\"70.5\" y2=\"70.5\"/><line stroke-width=\"1.0\" x1=\"10.5\" x2=\"170.5\" y1=\"90.5\" y2=\"90.5\"/><line stroke-width=\"1.0\" x1=\"10.5\" x2=\"170.5\" y1=\"110.5\" y2=\"110.5\"/><line stroke-width=\"1.0\" x1=\"10.5\" x2=\"170.5\" y1=\"130.5\" y2=\"130.5\"/><line stroke-width=\"1.0\" x1=\"10.5\" x2=\"170.5\" y1=\"150.5\" y2=\"150.5\"/><line stroke-width=\"1.0\" x1=\"30.5\" x2=\"30.5\" y1=\"10.5\" y2=\"170.5\"/><line stroke-width=\"1.0\" x1=\"50.5\" x2=\"50.5\" y1=\"10.5\" y2=\"170.5\"/><line stroke-width=\"1.0\" x1=\"70.5\" x2=\"70.5\" y1=\"10.5\" y2=\"170.5\"/><line stroke-width=\"1.0\" x1=\"90.5\" x2=\"90.5\" y1=\"10.5\" y2=\"170.5\"/><line stroke-width=\"1.0\" x1=\"110.5\" x2=\"110.5\" y1=\"10.5\" y2=\"170.5\"/><line stroke-width=\"1.0\" x1=\"130.5\" x2=\"130.5\" y1=\"10.5\" y2=\"170.5\"/><line stroke-width=\"1.0\" x1=\"150.5\" x2=\"150.5\" y1=\"10.5\" y2=\"170.5\"/></g><g><text font-family=\"serif\" font-size=\"9.5\" text-anchor=\"middle\" x=\"20.5\" y=\"8\">a</text><text font-family=\"serif\" font-size=\"9.5\" text-anchor=\"middle\" x=\"40.5\" y=\"8\">b</text><text font-family=\"serif\" font-size=\"9.5\" text-anchor=\"middle\" x=\"60.5\" y=\"8\">c</text><text font-family=\"serif\" font-size=\"9.5\" text-anchor=\"middle\" x=\"80.5\" y=\"8\">d</text><text font-family=\"serif\" font-size=\"9.5\" text-anchor=\"middle\" x=\"100.5\" y=\"8\">e</text><text font-family=\"serif\" font-size=\"9.5\" text-anchor=\"middle\" x=\"120.5\" y=\"8\">f</text><text font-family=\"serif\" font-size=\"9.5\" text-anchor=\"middle\" x=\"140.5\" y=\"8\">g</text><text font-family=\"serif\" font-size=\"9.5\" text-anchor=\"middle\" x=\"160.5\" y=\"8\">h</text><text font-family=\"serif\" font-size=\"9.5\" x=\"2.5\" y=\"23.5\">1</text><text font-family=\"serif\" font-size=\"9.5\" x=\"2.5\" y=\"43.5\">2</text><text font-family=\"serif\" font-size=\"9.5\" x=\"2.5\" y=\"63.5\">3</text><text font-family=\"serif\" font-size=\"9.5\" x=\"2.5\" y=\"83.5\">4</text><text font-family=\"serif\" font-size=\"9.5\" x=\"2.5\" y=\"103.5\">5</text><text font-family=\"serif\" font-size=\"9.5\" x=\"2.5\" y=\"123.5\">6</text><text font-family=\"serif\" font-size=\"9.5\" x=\"2.5\" y=\"143.5\">7</text><text font-family=\"serif\" font-size=\"9.5\" x=\"2.5\" y=\"163.5\">8</text></g><use xlink:href=\"#black\" x=\"110.5\" y=\"10.5\"/><use xlink:href=\"#white\" x=\"130.5\" y=\"10.5\"/><use xlink:href=\"#white\" x=\"110.5\" y=\"30.5\"/><use xlink:href=\"#black\" x=\"70.5\" y=\"50.5\"/><use xlink:href=\"#white\" x=\"90.5\" y=\"50.5\"/><use xlink:href=\"#black\" x=\"110.5\" y=\"50.5\"/><use xlink:href=\"#black\" x=\"130.5\" y=\"50.5\"/><use xlink:href=\"#black\" x=\"150.5\" y=\"50.5\"/><use xlink:href=\"#white\" x=\"70.5\" y=\"70.5\"/><use xlink:href=\"#white\" x=\"90.5\" y=\"70.5\"/><use xlink:href=\"#white\" x=\"110.5\" y=\"70.5\"/><use xlink:href=\"#white\" x=\"130.5\" y=\"70.5\"/><use xlink:href=\"#white\" x=\"150.5\" y=\"70.5\"/><use xlink:href=\"#white\" x=\"50.5\" y=\"90.5\"/><use xlink:href=\"#white\" x=\"70.5\" y=\"90.5\"/><use xlink:href=\"#white\" x=\"90.5\" y=\"90.5\"/></svg>",
            "text/plain": [
              "<IPython.core.display.SVG object>"
            ]
          },
          "metadata": {},
          "output_type": "display_data"
        },
        {
          "name": "stdout",
          "output_type": "stream",
          "text": [
            "h1\n",
            "14: white\n"
          ]
        },
        {
          "data": {
            "image/svg+xml": "<svg xmlns=\"http://www.w3.org/2000/svg\" xmlns:xlink=\"http://www.w3.org/1999/xlink\" version=\"1.1\" width=\"215.0\" height=\"215.0\" viewBox=\"0 0 172 172\"><defs><g id=\"black\"><circle cx=\"10\" cy=\"10\" r=\"8.5\" fill=\"black\"/></g><g id=\"white\"><circle cx=\"10\" cy=\"10\" r=\"8.5\" fill=\"white\"/></g></defs><rect fill=\"green\" height=\"161\" width=\"161\" x=\"10\" y=\"10\"/><rect x=\"150.5\" y=\"10.5\" width=\"20\" height=\"20\" fill=\"#8bbf83\"/><g stroke=\"black\"><rect width=\"161\" height=\"161\" stroke-width=\"1.5\" fill=\"none\" x=\"10\" y=\"10\"/><line stroke-width=\"1.0\" x1=\"10.5\" x2=\"170.5\" y1=\"30.5\" y2=\"30.5\"/><line stroke-width=\"1.0\" x1=\"10.5\" x2=\"170.5\" y1=\"50.5\" y2=\"50.5\"/><line stroke-width=\"1.0\" x1=\"10.5\" x2=\"170.5\" y1=\"70.5\" y2=\"70.5\"/><line stroke-width=\"1.0\" x1=\"10.5\" x2=\"170.5\" y1=\"90.5\" y2=\"90.5\"/><line stroke-width=\"1.0\" x1=\"10.5\" x2=\"170.5\" y1=\"110.5\" y2=\"110.5\"/><line stroke-width=\"1.0\" x1=\"10.5\" x2=\"170.5\" y1=\"130.5\" y2=\"130.5\"/><line stroke-width=\"1.0\" x1=\"10.5\" x2=\"170.5\" y1=\"150.5\" y2=\"150.5\"/><line stroke-width=\"1.0\" x1=\"30.5\" x2=\"30.5\" y1=\"10.5\" y2=\"170.5\"/><line stroke-width=\"1.0\" x1=\"50.5\" x2=\"50.5\" y1=\"10.5\" y2=\"170.5\"/><line stroke-width=\"1.0\" x1=\"70.5\" x2=\"70.5\" y1=\"10.5\" y2=\"170.5\"/><line stroke-width=\"1.0\" x1=\"90.5\" x2=\"90.5\" y1=\"10.5\" y2=\"170.5\"/><line stroke-width=\"1.0\" x1=\"110.5\" x2=\"110.5\" y1=\"10.5\" y2=\"170.5\"/><line stroke-width=\"1.0\" x1=\"130.5\" x2=\"130.5\" y1=\"10.5\" y2=\"170.5\"/><line stroke-width=\"1.0\" x1=\"150.5\" x2=\"150.5\" y1=\"10.5\" y2=\"170.5\"/></g><g><text font-family=\"serif\" font-size=\"9.5\" text-anchor=\"middle\" x=\"20.5\" y=\"8\">a</text><text font-family=\"serif\" font-size=\"9.5\" text-anchor=\"middle\" x=\"40.5\" y=\"8\">b</text><text font-family=\"serif\" font-size=\"9.5\" text-anchor=\"middle\" x=\"60.5\" y=\"8\">c</text><text font-family=\"serif\" font-size=\"9.5\" text-anchor=\"middle\" x=\"80.5\" y=\"8\">d</text><text font-family=\"serif\" font-size=\"9.5\" text-anchor=\"middle\" x=\"100.5\" y=\"8\">e</text><text font-family=\"serif\" font-size=\"9.5\" text-anchor=\"middle\" x=\"120.5\" y=\"8\">f</text><text font-family=\"serif\" font-size=\"9.5\" text-anchor=\"middle\" x=\"140.5\" y=\"8\">g</text><text font-family=\"serif\" font-size=\"9.5\" text-anchor=\"middle\" x=\"160.5\" y=\"8\">h</text><text font-family=\"serif\" font-size=\"9.5\" x=\"2.5\" y=\"23.5\">1</text><text font-family=\"serif\" font-size=\"9.5\" x=\"2.5\" y=\"43.5\">2</text><text font-family=\"serif\" font-size=\"9.5\" x=\"2.5\" y=\"63.5\">3</text><text font-family=\"serif\" font-size=\"9.5\" x=\"2.5\" y=\"83.5\">4</text><text font-family=\"serif\" font-size=\"9.5\" x=\"2.5\" y=\"103.5\">5</text><text font-family=\"serif\" font-size=\"9.5\" x=\"2.5\" y=\"123.5\">6</text><text font-family=\"serif\" font-size=\"9.5\" x=\"2.5\" y=\"143.5\">7</text><text font-family=\"serif\" font-size=\"9.5\" x=\"2.5\" y=\"163.5\">8</text></g><use xlink:href=\"#black\" x=\"110.5\" y=\"10.5\"/><use xlink:href=\"#black\" x=\"130.5\" y=\"10.5\"/><use xlink:href=\"#black\" x=\"150.5\" y=\"10.5\"/><use xlink:href=\"#white\" x=\"110.5\" y=\"30.5\"/><use xlink:href=\"#black\" x=\"70.5\" y=\"50.5\"/><use xlink:href=\"#white\" x=\"90.5\" y=\"50.5\"/><use xlink:href=\"#black\" x=\"110.5\" y=\"50.5\"/><use xlink:href=\"#black\" x=\"130.5\" y=\"50.5\"/><use xlink:href=\"#black\" x=\"150.5\" y=\"50.5\"/><use xlink:href=\"#white\" x=\"70.5\" y=\"70.5\"/><use xlink:href=\"#white\" x=\"90.5\" y=\"70.5\"/><use xlink:href=\"#white\" x=\"110.5\" y=\"70.5\"/><use xlink:href=\"#white\" x=\"130.5\" y=\"70.5\"/><use xlink:href=\"#white\" x=\"150.5\" y=\"70.5\"/><use xlink:href=\"#white\" x=\"50.5\" y=\"90.5\"/><use xlink:href=\"#white\" x=\"70.5\" y=\"90.5\"/><use xlink:href=\"#white\" x=\"90.5\" y=\"90.5\"/></svg>",
            "text/plain": [
              "<IPython.core.display.SVG object>"
            ]
          },
          "metadata": {},
          "output_type": "display_data"
        },
        {
          "name": "stdout",
          "output_type": "stream",
          "text": [
            "e2\n",
            "15: black\n"
          ]
        },
        {
          "data": {
            "image/svg+xml": "<svg xmlns=\"http://www.w3.org/2000/svg\" xmlns:xlink=\"http://www.w3.org/1999/xlink\" version=\"1.1\" width=\"215.0\" height=\"215.0\" viewBox=\"0 0 172 172\"><defs><g id=\"black\"><circle cx=\"10\" cy=\"10\" r=\"8.5\" fill=\"black\"/></g><g id=\"white\"><circle cx=\"10\" cy=\"10\" r=\"8.5\" fill=\"white\"/></g></defs><rect fill=\"green\" height=\"161\" width=\"161\" x=\"10\" y=\"10\"/><rect x=\"90.5\" y=\"30.5\" width=\"20\" height=\"20\" fill=\"#8bbf83\"/><g stroke=\"black\"><rect width=\"161\" height=\"161\" stroke-width=\"1.5\" fill=\"none\" x=\"10\" y=\"10\"/><line stroke-width=\"1.0\" x1=\"10.5\" x2=\"170.5\" y1=\"30.5\" y2=\"30.5\"/><line stroke-width=\"1.0\" x1=\"10.5\" x2=\"170.5\" y1=\"50.5\" y2=\"50.5\"/><line stroke-width=\"1.0\" x1=\"10.5\" x2=\"170.5\" y1=\"70.5\" y2=\"70.5\"/><line stroke-width=\"1.0\" x1=\"10.5\" x2=\"170.5\" y1=\"90.5\" y2=\"90.5\"/><line stroke-width=\"1.0\" x1=\"10.5\" x2=\"170.5\" y1=\"110.5\" y2=\"110.5\"/><line stroke-width=\"1.0\" x1=\"10.5\" x2=\"170.5\" y1=\"130.5\" y2=\"130.5\"/><line stroke-width=\"1.0\" x1=\"10.5\" x2=\"170.5\" y1=\"150.5\" y2=\"150.5\"/><line stroke-width=\"1.0\" x1=\"30.5\" x2=\"30.5\" y1=\"10.5\" y2=\"170.5\"/><line stroke-width=\"1.0\" x1=\"50.5\" x2=\"50.5\" y1=\"10.5\" y2=\"170.5\"/><line stroke-width=\"1.0\" x1=\"70.5\" x2=\"70.5\" y1=\"10.5\" y2=\"170.5\"/><line stroke-width=\"1.0\" x1=\"90.5\" x2=\"90.5\" y1=\"10.5\" y2=\"170.5\"/><line stroke-width=\"1.0\" x1=\"110.5\" x2=\"110.5\" y1=\"10.5\" y2=\"170.5\"/><line stroke-width=\"1.0\" x1=\"130.5\" x2=\"130.5\" y1=\"10.5\" y2=\"170.5\"/><line stroke-width=\"1.0\" x1=\"150.5\" x2=\"150.5\" y1=\"10.5\" y2=\"170.5\"/></g><g><text font-family=\"serif\" font-size=\"9.5\" text-anchor=\"middle\" x=\"20.5\" y=\"8\">a</text><text font-family=\"serif\" font-size=\"9.5\" text-anchor=\"middle\" x=\"40.5\" y=\"8\">b</text><text font-family=\"serif\" font-size=\"9.5\" text-anchor=\"middle\" x=\"60.5\" y=\"8\">c</text><text font-family=\"serif\" font-size=\"9.5\" text-anchor=\"middle\" x=\"80.5\" y=\"8\">d</text><text font-family=\"serif\" font-size=\"9.5\" text-anchor=\"middle\" x=\"100.5\" y=\"8\">e</text><text font-family=\"serif\" font-size=\"9.5\" text-anchor=\"middle\" x=\"120.5\" y=\"8\">f</text><text font-family=\"serif\" font-size=\"9.5\" text-anchor=\"middle\" x=\"140.5\" y=\"8\">g</text><text font-family=\"serif\" font-size=\"9.5\" text-anchor=\"middle\" x=\"160.5\" y=\"8\">h</text><text font-family=\"serif\" font-size=\"9.5\" x=\"2.5\" y=\"23.5\">1</text><text font-family=\"serif\" font-size=\"9.5\" x=\"2.5\" y=\"43.5\">2</text><text font-family=\"serif\" font-size=\"9.5\" x=\"2.5\" y=\"63.5\">3</text><text font-family=\"serif\" font-size=\"9.5\" x=\"2.5\" y=\"83.5\">4</text><text font-family=\"serif\" font-size=\"9.5\" x=\"2.5\" y=\"103.5\">5</text><text font-family=\"serif\" font-size=\"9.5\" x=\"2.5\" y=\"123.5\">6</text><text font-family=\"serif\" font-size=\"9.5\" x=\"2.5\" y=\"143.5\">7</text><text font-family=\"serif\" font-size=\"9.5\" x=\"2.5\" y=\"163.5\">8</text></g><use xlink:href=\"#black\" x=\"110.5\" y=\"10.5\"/><use xlink:href=\"#black\" x=\"130.5\" y=\"10.5\"/><use xlink:href=\"#black\" x=\"150.5\" y=\"10.5\"/><use xlink:href=\"#white\" x=\"90.5\" y=\"30.5\"/><use xlink:href=\"#white\" x=\"110.5\" y=\"30.5\"/><use xlink:href=\"#black\" x=\"70.5\" y=\"50.5\"/><use xlink:href=\"#white\" x=\"90.5\" y=\"50.5\"/><use xlink:href=\"#white\" x=\"110.5\" y=\"50.5\"/><use xlink:href=\"#black\" x=\"130.5\" y=\"50.5\"/><use xlink:href=\"#black\" x=\"150.5\" y=\"50.5\"/><use xlink:href=\"#white\" x=\"70.5\" y=\"70.5\"/><use xlink:href=\"#white\" x=\"90.5\" y=\"70.5\"/><use xlink:href=\"#white\" x=\"110.5\" y=\"70.5\"/><use xlink:href=\"#white\" x=\"130.5\" y=\"70.5\"/><use xlink:href=\"#white\" x=\"150.5\" y=\"70.5\"/><use xlink:href=\"#white\" x=\"50.5\" y=\"90.5\"/><use xlink:href=\"#white\" x=\"70.5\" y=\"90.5\"/><use xlink:href=\"#white\" x=\"90.5\" y=\"90.5\"/></svg>",
            "text/plain": [
              "<IPython.core.display.SVG object>"
            ]
          },
          "metadata": {},
          "output_type": "display_data"
        },
        {
          "name": "stdout",
          "output_type": "stream",
          "text": [
            "h5\n",
            "16: white\n"
          ]
        },
        {
          "data": {
            "image/svg+xml": "<svg xmlns=\"http://www.w3.org/2000/svg\" xmlns:xlink=\"http://www.w3.org/1999/xlink\" version=\"1.1\" width=\"215.0\" height=\"215.0\" viewBox=\"0 0 172 172\"><defs><g id=\"black\"><circle cx=\"10\" cy=\"10\" r=\"8.5\" fill=\"black\"/></g><g id=\"white\"><circle cx=\"10\" cy=\"10\" r=\"8.5\" fill=\"white\"/></g></defs><rect fill=\"green\" height=\"161\" width=\"161\" x=\"10\" y=\"10\"/><rect x=\"150.5\" y=\"90.5\" width=\"20\" height=\"20\" fill=\"#8bbf83\"/><g stroke=\"black\"><rect width=\"161\" height=\"161\" stroke-width=\"1.5\" fill=\"none\" x=\"10\" y=\"10\"/><line stroke-width=\"1.0\" x1=\"10.5\" x2=\"170.5\" y1=\"30.5\" y2=\"30.5\"/><line stroke-width=\"1.0\" x1=\"10.5\" x2=\"170.5\" y1=\"50.5\" y2=\"50.5\"/><line stroke-width=\"1.0\" x1=\"10.5\" x2=\"170.5\" y1=\"70.5\" y2=\"70.5\"/><line stroke-width=\"1.0\" x1=\"10.5\" x2=\"170.5\" y1=\"90.5\" y2=\"90.5\"/><line stroke-width=\"1.0\" x1=\"10.5\" x2=\"170.5\" y1=\"110.5\" y2=\"110.5\"/><line stroke-width=\"1.0\" x1=\"10.5\" x2=\"170.5\" y1=\"130.5\" y2=\"130.5\"/><line stroke-width=\"1.0\" x1=\"10.5\" x2=\"170.5\" y1=\"150.5\" y2=\"150.5\"/><line stroke-width=\"1.0\" x1=\"30.5\" x2=\"30.5\" y1=\"10.5\" y2=\"170.5\"/><line stroke-width=\"1.0\" x1=\"50.5\" x2=\"50.5\" y1=\"10.5\" y2=\"170.5\"/><line stroke-width=\"1.0\" x1=\"70.5\" x2=\"70.5\" y1=\"10.5\" y2=\"170.5\"/><line stroke-width=\"1.0\" x1=\"90.5\" x2=\"90.5\" y1=\"10.5\" y2=\"170.5\"/><line stroke-width=\"1.0\" x1=\"110.5\" x2=\"110.5\" y1=\"10.5\" y2=\"170.5\"/><line stroke-width=\"1.0\" x1=\"130.5\" x2=\"130.5\" y1=\"10.5\" y2=\"170.5\"/><line stroke-width=\"1.0\" x1=\"150.5\" x2=\"150.5\" y1=\"10.5\" y2=\"170.5\"/></g><g><text font-family=\"serif\" font-size=\"9.5\" text-anchor=\"middle\" x=\"20.5\" y=\"8\">a</text><text font-family=\"serif\" font-size=\"9.5\" text-anchor=\"middle\" x=\"40.5\" y=\"8\">b</text><text font-family=\"serif\" font-size=\"9.5\" text-anchor=\"middle\" x=\"60.5\" y=\"8\">c</text><text font-family=\"serif\" font-size=\"9.5\" text-anchor=\"middle\" x=\"80.5\" y=\"8\">d</text><text font-family=\"serif\" font-size=\"9.5\" text-anchor=\"middle\" x=\"100.5\" y=\"8\">e</text><text font-family=\"serif\" font-size=\"9.5\" text-anchor=\"middle\" x=\"120.5\" y=\"8\">f</text><text font-family=\"serif\" font-size=\"9.5\" text-anchor=\"middle\" x=\"140.5\" y=\"8\">g</text><text font-family=\"serif\" font-size=\"9.5\" text-anchor=\"middle\" x=\"160.5\" y=\"8\">h</text><text font-family=\"serif\" font-size=\"9.5\" x=\"2.5\" y=\"23.5\">1</text><text font-family=\"serif\" font-size=\"9.5\" x=\"2.5\" y=\"43.5\">2</text><text font-family=\"serif\" font-size=\"9.5\" x=\"2.5\" y=\"63.5\">3</text><text font-family=\"serif\" font-size=\"9.5\" x=\"2.5\" y=\"83.5\">4</text><text font-family=\"serif\" font-size=\"9.5\" x=\"2.5\" y=\"103.5\">5</text><text font-family=\"serif\" font-size=\"9.5\" x=\"2.5\" y=\"123.5\">6</text><text font-family=\"serif\" font-size=\"9.5\" x=\"2.5\" y=\"143.5\">7</text><text font-family=\"serif\" font-size=\"9.5\" x=\"2.5\" y=\"163.5\">8</text></g><use xlink:href=\"#black\" x=\"110.5\" y=\"10.5\"/><use xlink:href=\"#black\" x=\"130.5\" y=\"10.5\"/><use xlink:href=\"#black\" x=\"150.5\" y=\"10.5\"/><use xlink:href=\"#white\" x=\"90.5\" y=\"30.5\"/><use xlink:href=\"#white\" x=\"110.5\" y=\"30.5\"/><use xlink:href=\"#black\" x=\"70.5\" y=\"50.5\"/><use xlink:href=\"#white\" x=\"90.5\" y=\"50.5\"/><use xlink:href=\"#white\" x=\"110.5\" y=\"50.5\"/><use xlink:href=\"#black\" x=\"130.5\" y=\"50.5\"/><use xlink:href=\"#black\" x=\"150.5\" y=\"50.5\"/><use xlink:href=\"#white\" x=\"70.5\" y=\"70.5\"/><use xlink:href=\"#white\" x=\"90.5\" y=\"70.5\"/><use xlink:href=\"#white\" x=\"110.5\" y=\"70.5\"/><use xlink:href=\"#white\" x=\"130.5\" y=\"70.5\"/><use xlink:href=\"#black\" x=\"150.5\" y=\"70.5\"/><use xlink:href=\"#white\" x=\"50.5\" y=\"90.5\"/><use xlink:href=\"#white\" x=\"70.5\" y=\"90.5\"/><use xlink:href=\"#white\" x=\"90.5\" y=\"90.5\"/><use xlink:href=\"#black\" x=\"150.5\" y=\"90.5\"/></svg>",
            "text/plain": [
              "<IPython.core.display.SVG object>"
            ]
          },
          "metadata": {},
          "output_type": "display_data"
        },
        {
          "name": "stdout",
          "output_type": "stream",
          "text": [
            "c2\n",
            "17: black\n"
          ]
        },
        {
          "data": {
            "image/svg+xml": "<svg xmlns=\"http://www.w3.org/2000/svg\" xmlns:xlink=\"http://www.w3.org/1999/xlink\" version=\"1.1\" width=\"215.0\" height=\"215.0\" viewBox=\"0 0 172 172\"><defs><g id=\"black\"><circle cx=\"10\" cy=\"10\" r=\"8.5\" fill=\"black\"/></g><g id=\"white\"><circle cx=\"10\" cy=\"10\" r=\"8.5\" fill=\"white\"/></g></defs><rect fill=\"green\" height=\"161\" width=\"161\" x=\"10\" y=\"10\"/><rect x=\"50.5\" y=\"30.5\" width=\"20\" height=\"20\" fill=\"#8bbf83\"/><g stroke=\"black\"><rect width=\"161\" height=\"161\" stroke-width=\"1.5\" fill=\"none\" x=\"10\" y=\"10\"/><line stroke-width=\"1.0\" x1=\"10.5\" x2=\"170.5\" y1=\"30.5\" y2=\"30.5\"/><line stroke-width=\"1.0\" x1=\"10.5\" x2=\"170.5\" y1=\"50.5\" y2=\"50.5\"/><line stroke-width=\"1.0\" x1=\"10.5\" x2=\"170.5\" y1=\"70.5\" y2=\"70.5\"/><line stroke-width=\"1.0\" x1=\"10.5\" x2=\"170.5\" y1=\"90.5\" y2=\"90.5\"/><line stroke-width=\"1.0\" x1=\"10.5\" x2=\"170.5\" y1=\"110.5\" y2=\"110.5\"/><line stroke-width=\"1.0\" x1=\"10.5\" x2=\"170.5\" y1=\"130.5\" y2=\"130.5\"/><line stroke-width=\"1.0\" x1=\"10.5\" x2=\"170.5\" y1=\"150.5\" y2=\"150.5\"/><line stroke-width=\"1.0\" x1=\"30.5\" x2=\"30.5\" y1=\"10.5\" y2=\"170.5\"/><line stroke-width=\"1.0\" x1=\"50.5\" x2=\"50.5\" y1=\"10.5\" y2=\"170.5\"/><line stroke-width=\"1.0\" x1=\"70.5\" x2=\"70.5\" y1=\"10.5\" y2=\"170.5\"/><line stroke-width=\"1.0\" x1=\"90.5\" x2=\"90.5\" y1=\"10.5\" y2=\"170.5\"/><line stroke-width=\"1.0\" x1=\"110.5\" x2=\"110.5\" y1=\"10.5\" y2=\"170.5\"/><line stroke-width=\"1.0\" x1=\"130.5\" x2=\"130.5\" y1=\"10.5\" y2=\"170.5\"/><line stroke-width=\"1.0\" x1=\"150.5\" x2=\"150.5\" y1=\"10.5\" y2=\"170.5\"/></g><g><text font-family=\"serif\" font-size=\"9.5\" text-anchor=\"middle\" x=\"20.5\" y=\"8\">a</text><text font-family=\"serif\" font-size=\"9.5\" text-anchor=\"middle\" x=\"40.5\" y=\"8\">b</text><text font-family=\"serif\" font-size=\"9.5\" text-anchor=\"middle\" x=\"60.5\" y=\"8\">c</text><text font-family=\"serif\" font-size=\"9.5\" text-anchor=\"middle\" x=\"80.5\" y=\"8\">d</text><text font-family=\"serif\" font-size=\"9.5\" text-anchor=\"middle\" x=\"100.5\" y=\"8\">e</text><text font-family=\"serif\" font-size=\"9.5\" text-anchor=\"middle\" x=\"120.5\" y=\"8\">f</text><text font-family=\"serif\" font-size=\"9.5\" text-anchor=\"middle\" x=\"140.5\" y=\"8\">g</text><text font-family=\"serif\" font-size=\"9.5\" text-anchor=\"middle\" x=\"160.5\" y=\"8\">h</text><text font-family=\"serif\" font-size=\"9.5\" x=\"2.5\" y=\"23.5\">1</text><text font-family=\"serif\" font-size=\"9.5\" x=\"2.5\" y=\"43.5\">2</text><text font-family=\"serif\" font-size=\"9.5\" x=\"2.5\" y=\"63.5\">3</text><text font-family=\"serif\" font-size=\"9.5\" x=\"2.5\" y=\"83.5\">4</text><text font-family=\"serif\" font-size=\"9.5\" x=\"2.5\" y=\"103.5\">5</text><text font-family=\"serif\" font-size=\"9.5\" x=\"2.5\" y=\"123.5\">6</text><text font-family=\"serif\" font-size=\"9.5\" x=\"2.5\" y=\"143.5\">7</text><text font-family=\"serif\" font-size=\"9.5\" x=\"2.5\" y=\"163.5\">8</text></g><use xlink:href=\"#black\" x=\"110.5\" y=\"10.5\"/><use xlink:href=\"#black\" x=\"130.5\" y=\"10.5\"/><use xlink:href=\"#black\" x=\"150.5\" y=\"10.5\"/><use xlink:href=\"#white\" x=\"50.5\" y=\"30.5\"/><use xlink:href=\"#white\" x=\"90.5\" y=\"30.5\"/><use xlink:href=\"#white\" x=\"110.5\" y=\"30.5\"/><use xlink:href=\"#white\" x=\"70.5\" y=\"50.5\"/><use xlink:href=\"#white\" x=\"90.5\" y=\"50.5\"/><use xlink:href=\"#white\" x=\"110.5\" y=\"50.5\"/><use xlink:href=\"#black\" x=\"130.5\" y=\"50.5\"/><use xlink:href=\"#black\" x=\"150.5\" y=\"50.5\"/><use xlink:href=\"#white\" x=\"70.5\" y=\"70.5\"/><use xlink:href=\"#white\" x=\"90.5\" y=\"70.5\"/><use xlink:href=\"#white\" x=\"110.5\" y=\"70.5\"/><use xlink:href=\"#white\" x=\"130.5\" y=\"70.5\"/><use xlink:href=\"#black\" x=\"150.5\" y=\"70.5\"/><use xlink:href=\"#white\" x=\"50.5\" y=\"90.5\"/><use xlink:href=\"#white\" x=\"70.5\" y=\"90.5\"/><use xlink:href=\"#white\" x=\"90.5\" y=\"90.5\"/><use xlink:href=\"#black\" x=\"150.5\" y=\"90.5\"/></svg>",
            "text/plain": [
              "<IPython.core.display.SVG object>"
            ]
          },
          "metadata": {},
          "output_type": "display_data"
        },
        {
          "name": "stdout",
          "output_type": "stream",
          "text": [
            "g5\n",
            "18: white\n"
          ]
        },
        {
          "data": {
            "image/svg+xml": "<svg xmlns=\"http://www.w3.org/2000/svg\" xmlns:xlink=\"http://www.w3.org/1999/xlink\" version=\"1.1\" width=\"215.0\" height=\"215.0\" viewBox=\"0 0 172 172\"><defs><g id=\"black\"><circle cx=\"10\" cy=\"10\" r=\"8.5\" fill=\"black\"/></g><g id=\"white\"><circle cx=\"10\" cy=\"10\" r=\"8.5\" fill=\"white\"/></g></defs><rect fill=\"green\" height=\"161\" width=\"161\" x=\"10\" y=\"10\"/><rect x=\"130.5\" y=\"90.5\" width=\"20\" height=\"20\" fill=\"#8bbf83\"/><g stroke=\"black\"><rect width=\"161\" height=\"161\" stroke-width=\"1.5\" fill=\"none\" x=\"10\" y=\"10\"/><line stroke-width=\"1.0\" x1=\"10.5\" x2=\"170.5\" y1=\"30.5\" y2=\"30.5\"/><line stroke-width=\"1.0\" x1=\"10.5\" x2=\"170.5\" y1=\"50.5\" y2=\"50.5\"/><line stroke-width=\"1.0\" x1=\"10.5\" x2=\"170.5\" y1=\"70.5\" y2=\"70.5\"/><line stroke-width=\"1.0\" x1=\"10.5\" x2=\"170.5\" y1=\"90.5\" y2=\"90.5\"/><line stroke-width=\"1.0\" x1=\"10.5\" x2=\"170.5\" y1=\"110.5\" y2=\"110.5\"/><line stroke-width=\"1.0\" x1=\"10.5\" x2=\"170.5\" y1=\"130.5\" y2=\"130.5\"/><line stroke-width=\"1.0\" x1=\"10.5\" x2=\"170.5\" y1=\"150.5\" y2=\"150.5\"/><line stroke-width=\"1.0\" x1=\"30.5\" x2=\"30.5\" y1=\"10.5\" y2=\"170.5\"/><line stroke-width=\"1.0\" x1=\"50.5\" x2=\"50.5\" y1=\"10.5\" y2=\"170.5\"/><line stroke-width=\"1.0\" x1=\"70.5\" x2=\"70.5\" y1=\"10.5\" y2=\"170.5\"/><line stroke-width=\"1.0\" x1=\"90.5\" x2=\"90.5\" y1=\"10.5\" y2=\"170.5\"/><line stroke-width=\"1.0\" x1=\"110.5\" x2=\"110.5\" y1=\"10.5\" y2=\"170.5\"/><line stroke-width=\"1.0\" x1=\"130.5\" x2=\"130.5\" y1=\"10.5\" y2=\"170.5\"/><line stroke-width=\"1.0\" x1=\"150.5\" x2=\"150.5\" y1=\"10.5\" y2=\"170.5\"/></g><g><text font-family=\"serif\" font-size=\"9.5\" text-anchor=\"middle\" x=\"20.5\" y=\"8\">a</text><text font-family=\"serif\" font-size=\"9.5\" text-anchor=\"middle\" x=\"40.5\" y=\"8\">b</text><text font-family=\"serif\" font-size=\"9.5\" text-anchor=\"middle\" x=\"60.5\" y=\"8\">c</text><text font-family=\"serif\" font-size=\"9.5\" text-anchor=\"middle\" x=\"80.5\" y=\"8\">d</text><text font-family=\"serif\" font-size=\"9.5\" text-anchor=\"middle\" x=\"100.5\" y=\"8\">e</text><text font-family=\"serif\" font-size=\"9.5\" text-anchor=\"middle\" x=\"120.5\" y=\"8\">f</text><text font-family=\"serif\" font-size=\"9.5\" text-anchor=\"middle\" x=\"140.5\" y=\"8\">g</text><text font-family=\"serif\" font-size=\"9.5\" text-anchor=\"middle\" x=\"160.5\" y=\"8\">h</text><text font-family=\"serif\" font-size=\"9.5\" x=\"2.5\" y=\"23.5\">1</text><text font-family=\"serif\" font-size=\"9.5\" x=\"2.5\" y=\"43.5\">2</text><text font-family=\"serif\" font-size=\"9.5\" x=\"2.5\" y=\"63.5\">3</text><text font-family=\"serif\" font-size=\"9.5\" x=\"2.5\" y=\"83.5\">4</text><text font-family=\"serif\" font-size=\"9.5\" x=\"2.5\" y=\"103.5\">5</text><text font-family=\"serif\" font-size=\"9.5\" x=\"2.5\" y=\"123.5\">6</text><text font-family=\"serif\" font-size=\"9.5\" x=\"2.5\" y=\"143.5\">7</text><text font-family=\"serif\" font-size=\"9.5\" x=\"2.5\" y=\"163.5\">8</text></g><use xlink:href=\"#black\" x=\"110.5\" y=\"10.5\"/><use xlink:href=\"#black\" x=\"130.5\" y=\"10.5\"/><use xlink:href=\"#black\" x=\"150.5\" y=\"10.5\"/><use xlink:href=\"#white\" x=\"50.5\" y=\"30.5\"/><use xlink:href=\"#white\" x=\"90.5\" y=\"30.5\"/><use xlink:href=\"#white\" x=\"110.5\" y=\"30.5\"/><use xlink:href=\"#white\" x=\"70.5\" y=\"50.5\"/><use xlink:href=\"#white\" x=\"90.5\" y=\"50.5\"/><use xlink:href=\"#white\" x=\"110.5\" y=\"50.5\"/><use xlink:href=\"#black\" x=\"130.5\" y=\"50.5\"/><use xlink:href=\"#black\" x=\"150.5\" y=\"50.5\"/><use xlink:href=\"#white\" x=\"70.5\" y=\"70.5\"/><use xlink:href=\"#white\" x=\"90.5\" y=\"70.5\"/><use xlink:href=\"#white\" x=\"110.5\" y=\"70.5\"/><use xlink:href=\"#black\" x=\"130.5\" y=\"70.5\"/><use xlink:href=\"#black\" x=\"150.5\" y=\"70.5\"/><use xlink:href=\"#white\" x=\"50.5\" y=\"90.5\"/><use xlink:href=\"#white\" x=\"70.5\" y=\"90.5\"/><use xlink:href=\"#white\" x=\"90.5\" y=\"90.5\"/><use xlink:href=\"#black\" x=\"130.5\" y=\"90.5\"/><use xlink:href=\"#black\" x=\"150.5\" y=\"90.5\"/></svg>",
            "text/plain": [
              "<IPython.core.display.SVG object>"
            ]
          },
          "metadata": {},
          "output_type": "display_data"
        },
        {
          "name": "stdout",
          "output_type": "stream",
          "text": [
            "h6\n",
            "19: black\n"
          ]
        },
        {
          "data": {
            "image/svg+xml": "<svg xmlns=\"http://www.w3.org/2000/svg\" xmlns:xlink=\"http://www.w3.org/1999/xlink\" version=\"1.1\" width=\"215.0\" height=\"215.0\" viewBox=\"0 0 172 172\"><defs><g id=\"black\"><circle cx=\"10\" cy=\"10\" r=\"8.5\" fill=\"black\"/></g><g id=\"white\"><circle cx=\"10\" cy=\"10\" r=\"8.5\" fill=\"white\"/></g></defs><rect fill=\"green\" height=\"161\" width=\"161\" x=\"10\" y=\"10\"/><rect x=\"150.5\" y=\"110.5\" width=\"20\" height=\"20\" fill=\"#8bbf83\"/><g stroke=\"black\"><rect width=\"161\" height=\"161\" stroke-width=\"1.5\" fill=\"none\" x=\"10\" y=\"10\"/><line stroke-width=\"1.0\" x1=\"10.5\" x2=\"170.5\" y1=\"30.5\" y2=\"30.5\"/><line stroke-width=\"1.0\" x1=\"10.5\" x2=\"170.5\" y1=\"50.5\" y2=\"50.5\"/><line stroke-width=\"1.0\" x1=\"10.5\" x2=\"170.5\" y1=\"70.5\" y2=\"70.5\"/><line stroke-width=\"1.0\" x1=\"10.5\" x2=\"170.5\" y1=\"90.5\" y2=\"90.5\"/><line stroke-width=\"1.0\" x1=\"10.5\" x2=\"170.5\" y1=\"110.5\" y2=\"110.5\"/><line stroke-width=\"1.0\" x1=\"10.5\" x2=\"170.5\" y1=\"130.5\" y2=\"130.5\"/><line stroke-width=\"1.0\" x1=\"10.5\" x2=\"170.5\" y1=\"150.5\" y2=\"150.5\"/><line stroke-width=\"1.0\" x1=\"30.5\" x2=\"30.5\" y1=\"10.5\" y2=\"170.5\"/><line stroke-width=\"1.0\" x1=\"50.5\" x2=\"50.5\" y1=\"10.5\" y2=\"170.5\"/><line stroke-width=\"1.0\" x1=\"70.5\" x2=\"70.5\" y1=\"10.5\" y2=\"170.5\"/><line stroke-width=\"1.0\" x1=\"90.5\" x2=\"90.5\" y1=\"10.5\" y2=\"170.5\"/><line stroke-width=\"1.0\" x1=\"110.5\" x2=\"110.5\" y1=\"10.5\" y2=\"170.5\"/><line stroke-width=\"1.0\" x1=\"130.5\" x2=\"130.5\" y1=\"10.5\" y2=\"170.5\"/><line stroke-width=\"1.0\" x1=\"150.5\" x2=\"150.5\" y1=\"10.5\" y2=\"170.5\"/></g><g><text font-family=\"serif\" font-size=\"9.5\" text-anchor=\"middle\" x=\"20.5\" y=\"8\">a</text><text font-family=\"serif\" font-size=\"9.5\" text-anchor=\"middle\" x=\"40.5\" y=\"8\">b</text><text font-family=\"serif\" font-size=\"9.5\" text-anchor=\"middle\" x=\"60.5\" y=\"8\">c</text><text font-family=\"serif\" font-size=\"9.5\" text-anchor=\"middle\" x=\"80.5\" y=\"8\">d</text><text font-family=\"serif\" font-size=\"9.5\" text-anchor=\"middle\" x=\"100.5\" y=\"8\">e</text><text font-family=\"serif\" font-size=\"9.5\" text-anchor=\"middle\" x=\"120.5\" y=\"8\">f</text><text font-family=\"serif\" font-size=\"9.5\" text-anchor=\"middle\" x=\"140.5\" y=\"8\">g</text><text font-family=\"serif\" font-size=\"9.5\" text-anchor=\"middle\" x=\"160.5\" y=\"8\">h</text><text font-family=\"serif\" font-size=\"9.5\" x=\"2.5\" y=\"23.5\">1</text><text font-family=\"serif\" font-size=\"9.5\" x=\"2.5\" y=\"43.5\">2</text><text font-family=\"serif\" font-size=\"9.5\" x=\"2.5\" y=\"63.5\">3</text><text font-family=\"serif\" font-size=\"9.5\" x=\"2.5\" y=\"83.5\">4</text><text font-family=\"serif\" font-size=\"9.5\" x=\"2.5\" y=\"103.5\">5</text><text font-family=\"serif\" font-size=\"9.5\" x=\"2.5\" y=\"123.5\">6</text><text font-family=\"serif\" font-size=\"9.5\" x=\"2.5\" y=\"143.5\">7</text><text font-family=\"serif\" font-size=\"9.5\" x=\"2.5\" y=\"163.5\">8</text></g><use xlink:href=\"#black\" x=\"110.5\" y=\"10.5\"/><use xlink:href=\"#black\" x=\"130.5\" y=\"10.5\"/><use xlink:href=\"#black\" x=\"150.5\" y=\"10.5\"/><use xlink:href=\"#white\" x=\"50.5\" y=\"30.5\"/><use xlink:href=\"#white\" x=\"90.5\" y=\"30.5\"/><use xlink:href=\"#white\" x=\"110.5\" y=\"30.5\"/><use xlink:href=\"#white\" x=\"70.5\" y=\"50.5\"/><use xlink:href=\"#white\" x=\"90.5\" y=\"50.5\"/><use xlink:href=\"#white\" x=\"110.5\" y=\"50.5\"/><use xlink:href=\"#black\" x=\"130.5\" y=\"50.5\"/><use xlink:href=\"#black\" x=\"150.5\" y=\"50.5\"/><use xlink:href=\"#white\" x=\"70.5\" y=\"70.5\"/><use xlink:href=\"#white\" x=\"90.5\" y=\"70.5\"/><use xlink:href=\"#white\" x=\"110.5\" y=\"70.5\"/><use xlink:href=\"#black\" x=\"130.5\" y=\"70.5\"/><use xlink:href=\"#black\" x=\"150.5\" y=\"70.5\"/><use xlink:href=\"#white\" x=\"50.5\" y=\"90.5\"/><use xlink:href=\"#white\" x=\"70.5\" y=\"90.5\"/><use xlink:href=\"#white\" x=\"90.5\" y=\"90.5\"/><use xlink:href=\"#white\" x=\"130.5\" y=\"90.5\"/><use xlink:href=\"#black\" x=\"150.5\" y=\"90.5\"/><use xlink:href=\"#white\" x=\"150.5\" y=\"110.5\"/></svg>",
            "text/plain": [
              "<IPython.core.display.SVG object>"
            ]
          },
          "metadata": {},
          "output_type": "display_data"
        },
        {
          "name": "stdout",
          "output_type": "stream",
          "text": [
            "h7\n",
            "20: white\n"
          ]
        },
        {
          "data": {
            "image/svg+xml": "<svg xmlns=\"http://www.w3.org/2000/svg\" xmlns:xlink=\"http://www.w3.org/1999/xlink\" version=\"1.1\" width=\"215.0\" height=\"215.0\" viewBox=\"0 0 172 172\"><defs><g id=\"black\"><circle cx=\"10\" cy=\"10\" r=\"8.5\" fill=\"black\"/></g><g id=\"white\"><circle cx=\"10\" cy=\"10\" r=\"8.5\" fill=\"white\"/></g></defs><rect fill=\"green\" height=\"161\" width=\"161\" x=\"10\" y=\"10\"/><rect x=\"150.5\" y=\"130.5\" width=\"20\" height=\"20\" fill=\"#8bbf83\"/><g stroke=\"black\"><rect width=\"161\" height=\"161\" stroke-width=\"1.5\" fill=\"none\" x=\"10\" y=\"10\"/><line stroke-width=\"1.0\" x1=\"10.5\" x2=\"170.5\" y1=\"30.5\" y2=\"30.5\"/><line stroke-width=\"1.0\" x1=\"10.5\" x2=\"170.5\" y1=\"50.5\" y2=\"50.5\"/><line stroke-width=\"1.0\" x1=\"10.5\" x2=\"170.5\" y1=\"70.5\" y2=\"70.5\"/><line stroke-width=\"1.0\" x1=\"10.5\" x2=\"170.5\" y1=\"90.5\" y2=\"90.5\"/><line stroke-width=\"1.0\" x1=\"10.5\" x2=\"170.5\" y1=\"110.5\" y2=\"110.5\"/><line stroke-width=\"1.0\" x1=\"10.5\" x2=\"170.5\" y1=\"130.5\" y2=\"130.5\"/><line stroke-width=\"1.0\" x1=\"10.5\" x2=\"170.5\" y1=\"150.5\" y2=\"150.5\"/><line stroke-width=\"1.0\" x1=\"30.5\" x2=\"30.5\" y1=\"10.5\" y2=\"170.5\"/><line stroke-width=\"1.0\" x1=\"50.5\" x2=\"50.5\" y1=\"10.5\" y2=\"170.5\"/><line stroke-width=\"1.0\" x1=\"70.5\" x2=\"70.5\" y1=\"10.5\" y2=\"170.5\"/><line stroke-width=\"1.0\" x1=\"90.5\" x2=\"90.5\" y1=\"10.5\" y2=\"170.5\"/><line stroke-width=\"1.0\" x1=\"110.5\" x2=\"110.5\" y1=\"10.5\" y2=\"170.5\"/><line stroke-width=\"1.0\" x1=\"130.5\" x2=\"130.5\" y1=\"10.5\" y2=\"170.5\"/><line stroke-width=\"1.0\" x1=\"150.5\" x2=\"150.5\" y1=\"10.5\" y2=\"170.5\"/></g><g><text font-family=\"serif\" font-size=\"9.5\" text-anchor=\"middle\" x=\"20.5\" y=\"8\">a</text><text font-family=\"serif\" font-size=\"9.5\" text-anchor=\"middle\" x=\"40.5\" y=\"8\">b</text><text font-family=\"serif\" font-size=\"9.5\" text-anchor=\"middle\" x=\"60.5\" y=\"8\">c</text><text font-family=\"serif\" font-size=\"9.5\" text-anchor=\"middle\" x=\"80.5\" y=\"8\">d</text><text font-family=\"serif\" font-size=\"9.5\" text-anchor=\"middle\" x=\"100.5\" y=\"8\">e</text><text font-family=\"serif\" font-size=\"9.5\" text-anchor=\"middle\" x=\"120.5\" y=\"8\">f</text><text font-family=\"serif\" font-size=\"9.5\" text-anchor=\"middle\" x=\"140.5\" y=\"8\">g</text><text font-family=\"serif\" font-size=\"9.5\" text-anchor=\"middle\" x=\"160.5\" y=\"8\">h</text><text font-family=\"serif\" font-size=\"9.5\" x=\"2.5\" y=\"23.5\">1</text><text font-family=\"serif\" font-size=\"9.5\" x=\"2.5\" y=\"43.5\">2</text><text font-family=\"serif\" font-size=\"9.5\" x=\"2.5\" y=\"63.5\">3</text><text font-family=\"serif\" font-size=\"9.5\" x=\"2.5\" y=\"83.5\">4</text><text font-family=\"serif\" font-size=\"9.5\" x=\"2.5\" y=\"103.5\">5</text><text font-family=\"serif\" font-size=\"9.5\" x=\"2.5\" y=\"123.5\">6</text><text font-family=\"serif\" font-size=\"9.5\" x=\"2.5\" y=\"143.5\">7</text><text font-family=\"serif\" font-size=\"9.5\" x=\"2.5\" y=\"163.5\">8</text></g><use xlink:href=\"#black\" x=\"110.5\" y=\"10.5\"/><use xlink:href=\"#black\" x=\"130.5\" y=\"10.5\"/><use xlink:href=\"#black\" x=\"150.5\" y=\"10.5\"/><use xlink:href=\"#white\" x=\"50.5\" y=\"30.5\"/><use xlink:href=\"#white\" x=\"90.5\" y=\"30.5\"/><use xlink:href=\"#white\" x=\"110.5\" y=\"30.5\"/><use xlink:href=\"#white\" x=\"70.5\" y=\"50.5\"/><use xlink:href=\"#white\" x=\"90.5\" y=\"50.5\"/><use xlink:href=\"#white\" x=\"110.5\" y=\"50.5\"/><use xlink:href=\"#black\" x=\"130.5\" y=\"50.5\"/><use xlink:href=\"#black\" x=\"150.5\" y=\"50.5\"/><use xlink:href=\"#white\" x=\"70.5\" y=\"70.5\"/><use xlink:href=\"#white\" x=\"90.5\" y=\"70.5\"/><use xlink:href=\"#white\" x=\"110.5\" y=\"70.5\"/><use xlink:href=\"#black\" x=\"130.5\" y=\"70.5\"/><use xlink:href=\"#black\" x=\"150.5\" y=\"70.5\"/><use xlink:href=\"#white\" x=\"50.5\" y=\"90.5\"/><use xlink:href=\"#white\" x=\"70.5\" y=\"90.5\"/><use xlink:href=\"#white\" x=\"90.5\" y=\"90.5\"/><use xlink:href=\"#white\" x=\"130.5\" y=\"90.5\"/><use xlink:href=\"#black\" x=\"150.5\" y=\"90.5\"/><use xlink:href=\"#black\" x=\"150.5\" y=\"110.5\"/><use xlink:href=\"#black\" x=\"150.5\" y=\"130.5\"/></svg>",
            "text/plain": [
              "<IPython.core.display.SVG object>"
            ]
          },
          "metadata": {},
          "output_type": "display_data"
        },
        {
          "name": "stdout",
          "output_type": "stream",
          "text": [
            "h2\n",
            "21: black\n"
          ]
        },
        {
          "data": {
            "image/svg+xml": "<svg xmlns=\"http://www.w3.org/2000/svg\" xmlns:xlink=\"http://www.w3.org/1999/xlink\" version=\"1.1\" width=\"215.0\" height=\"215.0\" viewBox=\"0 0 172 172\"><defs><g id=\"black\"><circle cx=\"10\" cy=\"10\" r=\"8.5\" fill=\"black\"/></g><g id=\"white\"><circle cx=\"10\" cy=\"10\" r=\"8.5\" fill=\"white\"/></g></defs><rect fill=\"green\" height=\"161\" width=\"161\" x=\"10\" y=\"10\"/><rect x=\"150.5\" y=\"30.5\" width=\"20\" height=\"20\" fill=\"#8bbf83\"/><g stroke=\"black\"><rect width=\"161\" height=\"161\" stroke-width=\"1.5\" fill=\"none\" x=\"10\" y=\"10\"/><line stroke-width=\"1.0\" x1=\"10.5\" x2=\"170.5\" y1=\"30.5\" y2=\"30.5\"/><line stroke-width=\"1.0\" x1=\"10.5\" x2=\"170.5\" y1=\"50.5\" y2=\"50.5\"/><line stroke-width=\"1.0\" x1=\"10.5\" x2=\"170.5\" y1=\"70.5\" y2=\"70.5\"/><line stroke-width=\"1.0\" x1=\"10.5\" x2=\"170.5\" y1=\"90.5\" y2=\"90.5\"/><line stroke-width=\"1.0\" x1=\"10.5\" x2=\"170.5\" y1=\"110.5\" y2=\"110.5\"/><line stroke-width=\"1.0\" x1=\"10.5\" x2=\"170.5\" y1=\"130.5\" y2=\"130.5\"/><line stroke-width=\"1.0\" x1=\"10.5\" x2=\"170.5\" y1=\"150.5\" y2=\"150.5\"/><line stroke-width=\"1.0\" x1=\"30.5\" x2=\"30.5\" y1=\"10.5\" y2=\"170.5\"/><line stroke-width=\"1.0\" x1=\"50.5\" x2=\"50.5\" y1=\"10.5\" y2=\"170.5\"/><line stroke-width=\"1.0\" x1=\"70.5\" x2=\"70.5\" y1=\"10.5\" y2=\"170.5\"/><line stroke-width=\"1.0\" x1=\"90.5\" x2=\"90.5\" y1=\"10.5\" y2=\"170.5\"/><line stroke-width=\"1.0\" x1=\"110.5\" x2=\"110.5\" y1=\"10.5\" y2=\"170.5\"/><line stroke-width=\"1.0\" x1=\"130.5\" x2=\"130.5\" y1=\"10.5\" y2=\"170.5\"/><line stroke-width=\"1.0\" x1=\"150.5\" x2=\"150.5\" y1=\"10.5\" y2=\"170.5\"/></g><g><text font-family=\"serif\" font-size=\"9.5\" text-anchor=\"middle\" x=\"20.5\" y=\"8\">a</text><text font-family=\"serif\" font-size=\"9.5\" text-anchor=\"middle\" x=\"40.5\" y=\"8\">b</text><text font-family=\"serif\" font-size=\"9.5\" text-anchor=\"middle\" x=\"60.5\" y=\"8\">c</text><text font-family=\"serif\" font-size=\"9.5\" text-anchor=\"middle\" x=\"80.5\" y=\"8\">d</text><text font-family=\"serif\" font-size=\"9.5\" text-anchor=\"middle\" x=\"100.5\" y=\"8\">e</text><text font-family=\"serif\" font-size=\"9.5\" text-anchor=\"middle\" x=\"120.5\" y=\"8\">f</text><text font-family=\"serif\" font-size=\"9.5\" text-anchor=\"middle\" x=\"140.5\" y=\"8\">g</text><text font-family=\"serif\" font-size=\"9.5\" text-anchor=\"middle\" x=\"160.5\" y=\"8\">h</text><text font-family=\"serif\" font-size=\"9.5\" x=\"2.5\" y=\"23.5\">1</text><text font-family=\"serif\" font-size=\"9.5\" x=\"2.5\" y=\"43.5\">2</text><text font-family=\"serif\" font-size=\"9.5\" x=\"2.5\" y=\"63.5\">3</text><text font-family=\"serif\" font-size=\"9.5\" x=\"2.5\" y=\"83.5\">4</text><text font-family=\"serif\" font-size=\"9.5\" x=\"2.5\" y=\"103.5\">5</text><text font-family=\"serif\" font-size=\"9.5\" x=\"2.5\" y=\"123.5\">6</text><text font-family=\"serif\" font-size=\"9.5\" x=\"2.5\" y=\"143.5\">7</text><text font-family=\"serif\" font-size=\"9.5\" x=\"2.5\" y=\"163.5\">8</text></g><use xlink:href=\"#black\" x=\"110.5\" y=\"10.5\"/><use xlink:href=\"#black\" x=\"130.5\" y=\"10.5\"/><use xlink:href=\"#black\" x=\"150.5\" y=\"10.5\"/><use xlink:href=\"#white\" x=\"50.5\" y=\"30.5\"/><use xlink:href=\"#white\" x=\"90.5\" y=\"30.5\"/><use xlink:href=\"#white\" x=\"110.5\" y=\"30.5\"/><use xlink:href=\"#white\" x=\"150.5\" y=\"30.5\"/><use xlink:href=\"#white\" x=\"70.5\" y=\"50.5\"/><use xlink:href=\"#white\" x=\"90.5\" y=\"50.5\"/><use xlink:href=\"#white\" x=\"110.5\" y=\"50.5\"/><use xlink:href=\"#white\" x=\"130.5\" y=\"50.5\"/><use xlink:href=\"#black\" x=\"150.5\" y=\"50.5\"/><use xlink:href=\"#white\" x=\"70.5\" y=\"70.5\"/><use xlink:href=\"#white\" x=\"90.5\" y=\"70.5\"/><use xlink:href=\"#white\" x=\"110.5\" y=\"70.5\"/><use xlink:href=\"#black\" x=\"130.5\" y=\"70.5\"/><use xlink:href=\"#black\" x=\"150.5\" y=\"70.5\"/><use xlink:href=\"#white\" x=\"50.5\" y=\"90.5\"/><use xlink:href=\"#white\" x=\"70.5\" y=\"90.5\"/><use xlink:href=\"#white\" x=\"90.5\" y=\"90.5\"/><use xlink:href=\"#white\" x=\"130.5\" y=\"90.5\"/><use xlink:href=\"#black\" x=\"150.5\" y=\"90.5\"/><use xlink:href=\"#black\" x=\"150.5\" y=\"110.5\"/><use xlink:href=\"#black\" x=\"150.5\" y=\"130.5\"/></svg>",
            "text/plain": [
              "<IPython.core.display.SVG object>"
            ]
          },
          "metadata": {},
          "output_type": "display_data"
        },
        {
          "name": "stdout",
          "output_type": "stream",
          "text": [
            "g2\n",
            "22: white\n"
          ]
        },
        {
          "data": {
            "image/svg+xml": "<svg xmlns=\"http://www.w3.org/2000/svg\" xmlns:xlink=\"http://www.w3.org/1999/xlink\" version=\"1.1\" width=\"215.0\" height=\"215.0\" viewBox=\"0 0 172 172\"><defs><g id=\"black\"><circle cx=\"10\" cy=\"10\" r=\"8.5\" fill=\"black\"/></g><g id=\"white\"><circle cx=\"10\" cy=\"10\" r=\"8.5\" fill=\"white\"/></g></defs><rect fill=\"green\" height=\"161\" width=\"161\" x=\"10\" y=\"10\"/><rect x=\"130.5\" y=\"30.5\" width=\"20\" height=\"20\" fill=\"#8bbf83\"/><g stroke=\"black\"><rect width=\"161\" height=\"161\" stroke-width=\"1.5\" fill=\"none\" x=\"10\" y=\"10\"/><line stroke-width=\"1.0\" x1=\"10.5\" x2=\"170.5\" y1=\"30.5\" y2=\"30.5\"/><line stroke-width=\"1.0\" x1=\"10.5\" x2=\"170.5\" y1=\"50.5\" y2=\"50.5\"/><line stroke-width=\"1.0\" x1=\"10.5\" x2=\"170.5\" y1=\"70.5\" y2=\"70.5\"/><line stroke-width=\"1.0\" x1=\"10.5\" x2=\"170.5\" y1=\"90.5\" y2=\"90.5\"/><line stroke-width=\"1.0\" x1=\"10.5\" x2=\"170.5\" y1=\"110.5\" y2=\"110.5\"/><line stroke-width=\"1.0\" x1=\"10.5\" x2=\"170.5\" y1=\"130.5\" y2=\"130.5\"/><line stroke-width=\"1.0\" x1=\"10.5\" x2=\"170.5\" y1=\"150.5\" y2=\"150.5\"/><line stroke-width=\"1.0\" x1=\"30.5\" x2=\"30.5\" y1=\"10.5\" y2=\"170.5\"/><line stroke-width=\"1.0\" x1=\"50.5\" x2=\"50.5\" y1=\"10.5\" y2=\"170.5\"/><line stroke-width=\"1.0\" x1=\"70.5\" x2=\"70.5\" y1=\"10.5\" y2=\"170.5\"/><line stroke-width=\"1.0\" x1=\"90.5\" x2=\"90.5\" y1=\"10.5\" y2=\"170.5\"/><line stroke-width=\"1.0\" x1=\"110.5\" x2=\"110.5\" y1=\"10.5\" y2=\"170.5\"/><line stroke-width=\"1.0\" x1=\"130.5\" x2=\"130.5\" y1=\"10.5\" y2=\"170.5\"/><line stroke-width=\"1.0\" x1=\"150.5\" x2=\"150.5\" y1=\"10.5\" y2=\"170.5\"/></g><g><text font-family=\"serif\" font-size=\"9.5\" text-anchor=\"middle\" x=\"20.5\" y=\"8\">a</text><text font-family=\"serif\" font-size=\"9.5\" text-anchor=\"middle\" x=\"40.5\" y=\"8\">b</text><text font-family=\"serif\" font-size=\"9.5\" text-anchor=\"middle\" x=\"60.5\" y=\"8\">c</text><text font-family=\"serif\" font-size=\"9.5\" text-anchor=\"middle\" x=\"80.5\" y=\"8\">d</text><text font-family=\"serif\" font-size=\"9.5\" text-anchor=\"middle\" x=\"100.5\" y=\"8\">e</text><text font-family=\"serif\" font-size=\"9.5\" text-anchor=\"middle\" x=\"120.5\" y=\"8\">f</text><text font-family=\"serif\" font-size=\"9.5\" text-anchor=\"middle\" x=\"140.5\" y=\"8\">g</text><text font-family=\"serif\" font-size=\"9.5\" text-anchor=\"middle\" x=\"160.5\" y=\"8\">h</text><text font-family=\"serif\" font-size=\"9.5\" x=\"2.5\" y=\"23.5\">1</text><text font-family=\"serif\" font-size=\"9.5\" x=\"2.5\" y=\"43.5\">2</text><text font-family=\"serif\" font-size=\"9.5\" x=\"2.5\" y=\"63.5\">3</text><text font-family=\"serif\" font-size=\"9.5\" x=\"2.5\" y=\"83.5\">4</text><text font-family=\"serif\" font-size=\"9.5\" x=\"2.5\" y=\"103.5\">5</text><text font-family=\"serif\" font-size=\"9.5\" x=\"2.5\" y=\"123.5\">6</text><text font-family=\"serif\" font-size=\"9.5\" x=\"2.5\" y=\"143.5\">7</text><text font-family=\"serif\" font-size=\"9.5\" x=\"2.5\" y=\"163.5\">8</text></g><use xlink:href=\"#black\" x=\"110.5\" y=\"10.5\"/><use xlink:href=\"#black\" x=\"130.5\" y=\"10.5\"/><use xlink:href=\"#black\" x=\"150.5\" y=\"10.5\"/><use xlink:href=\"#white\" x=\"50.5\" y=\"30.5\"/><use xlink:href=\"#white\" x=\"90.5\" y=\"30.5\"/><use xlink:href=\"#white\" x=\"110.5\" y=\"30.5\"/><use xlink:href=\"#black\" x=\"130.5\" y=\"30.5\"/><use xlink:href=\"#white\" x=\"150.5\" y=\"30.5\"/><use xlink:href=\"#white\" x=\"70.5\" y=\"50.5\"/><use xlink:href=\"#white\" x=\"90.5\" y=\"50.5\"/><use xlink:href=\"#white\" x=\"110.5\" y=\"50.5\"/><use xlink:href=\"#black\" x=\"130.5\" y=\"50.5\"/><use xlink:href=\"#black\" x=\"150.5\" y=\"50.5\"/><use xlink:href=\"#white\" x=\"70.5\" y=\"70.5\"/><use xlink:href=\"#white\" x=\"90.5\" y=\"70.5\"/><use xlink:href=\"#white\" x=\"110.5\" y=\"70.5\"/><use xlink:href=\"#black\" x=\"130.5\" y=\"70.5\"/><use xlink:href=\"#black\" x=\"150.5\" y=\"70.5\"/><use xlink:href=\"#white\" x=\"50.5\" y=\"90.5\"/><use xlink:href=\"#white\" x=\"70.5\" y=\"90.5\"/><use xlink:href=\"#white\" x=\"90.5\" y=\"90.5\"/><use xlink:href=\"#white\" x=\"130.5\" y=\"90.5\"/><use xlink:href=\"#black\" x=\"150.5\" y=\"90.5\"/><use xlink:href=\"#black\" x=\"150.5\" y=\"110.5\"/><use xlink:href=\"#black\" x=\"150.5\" y=\"130.5\"/></svg>",
            "text/plain": [
              "<IPython.core.display.SVG object>"
            ]
          },
          "metadata": {},
          "output_type": "display_data"
        },
        {
          "name": "stdout",
          "output_type": "stream",
          "text": [
            "h8\n",
            "23: black\n"
          ]
        },
        {
          "data": {
            "image/svg+xml": "<svg xmlns=\"http://www.w3.org/2000/svg\" xmlns:xlink=\"http://www.w3.org/1999/xlink\" version=\"1.1\" width=\"215.0\" height=\"215.0\" viewBox=\"0 0 172 172\"><defs><g id=\"black\"><circle cx=\"10\" cy=\"10\" r=\"8.5\" fill=\"black\"/></g><g id=\"white\"><circle cx=\"10\" cy=\"10\" r=\"8.5\" fill=\"white\"/></g></defs><rect fill=\"green\" height=\"161\" width=\"161\" x=\"10\" y=\"10\"/><rect x=\"150.5\" y=\"150.5\" width=\"20\" height=\"20\" fill=\"#8bbf83\"/><g stroke=\"black\"><rect width=\"161\" height=\"161\" stroke-width=\"1.5\" fill=\"none\" x=\"10\" y=\"10\"/><line stroke-width=\"1.0\" x1=\"10.5\" x2=\"170.5\" y1=\"30.5\" y2=\"30.5\"/><line stroke-width=\"1.0\" x1=\"10.5\" x2=\"170.5\" y1=\"50.5\" y2=\"50.5\"/><line stroke-width=\"1.0\" x1=\"10.5\" x2=\"170.5\" y1=\"70.5\" y2=\"70.5\"/><line stroke-width=\"1.0\" x1=\"10.5\" x2=\"170.5\" y1=\"90.5\" y2=\"90.5\"/><line stroke-width=\"1.0\" x1=\"10.5\" x2=\"170.5\" y1=\"110.5\" y2=\"110.5\"/><line stroke-width=\"1.0\" x1=\"10.5\" x2=\"170.5\" y1=\"130.5\" y2=\"130.5\"/><line stroke-width=\"1.0\" x1=\"10.5\" x2=\"170.5\" y1=\"150.5\" y2=\"150.5\"/><line stroke-width=\"1.0\" x1=\"30.5\" x2=\"30.5\" y1=\"10.5\" y2=\"170.5\"/><line stroke-width=\"1.0\" x1=\"50.5\" x2=\"50.5\" y1=\"10.5\" y2=\"170.5\"/><line stroke-width=\"1.0\" x1=\"70.5\" x2=\"70.5\" y1=\"10.5\" y2=\"170.5\"/><line stroke-width=\"1.0\" x1=\"90.5\" x2=\"90.5\" y1=\"10.5\" y2=\"170.5\"/><line stroke-width=\"1.0\" x1=\"110.5\" x2=\"110.5\" y1=\"10.5\" y2=\"170.5\"/><line stroke-width=\"1.0\" x1=\"130.5\" x2=\"130.5\" y1=\"10.5\" y2=\"170.5\"/><line stroke-width=\"1.0\" x1=\"150.5\" x2=\"150.5\" y1=\"10.5\" y2=\"170.5\"/></g><g><text font-family=\"serif\" font-size=\"9.5\" text-anchor=\"middle\" x=\"20.5\" y=\"8\">a</text><text font-family=\"serif\" font-size=\"9.5\" text-anchor=\"middle\" x=\"40.5\" y=\"8\">b</text><text font-family=\"serif\" font-size=\"9.5\" text-anchor=\"middle\" x=\"60.5\" y=\"8\">c</text><text font-family=\"serif\" font-size=\"9.5\" text-anchor=\"middle\" x=\"80.5\" y=\"8\">d</text><text font-family=\"serif\" font-size=\"9.5\" text-anchor=\"middle\" x=\"100.5\" y=\"8\">e</text><text font-family=\"serif\" font-size=\"9.5\" text-anchor=\"middle\" x=\"120.5\" y=\"8\">f</text><text font-family=\"serif\" font-size=\"9.5\" text-anchor=\"middle\" x=\"140.5\" y=\"8\">g</text><text font-family=\"serif\" font-size=\"9.5\" text-anchor=\"middle\" x=\"160.5\" y=\"8\">h</text><text font-family=\"serif\" font-size=\"9.5\" x=\"2.5\" y=\"23.5\">1</text><text font-family=\"serif\" font-size=\"9.5\" x=\"2.5\" y=\"43.5\">2</text><text font-family=\"serif\" font-size=\"9.5\" x=\"2.5\" y=\"63.5\">3</text><text font-family=\"serif\" font-size=\"9.5\" x=\"2.5\" y=\"83.5\">4</text><text font-family=\"serif\" font-size=\"9.5\" x=\"2.5\" y=\"103.5\">5</text><text font-family=\"serif\" font-size=\"9.5\" x=\"2.5\" y=\"123.5\">6</text><text font-family=\"serif\" font-size=\"9.5\" x=\"2.5\" y=\"143.5\">7</text><text font-family=\"serif\" font-size=\"9.5\" x=\"2.5\" y=\"163.5\">8</text></g><use xlink:href=\"#black\" x=\"110.5\" y=\"10.5\"/><use xlink:href=\"#black\" x=\"130.5\" y=\"10.5\"/><use xlink:href=\"#black\" x=\"150.5\" y=\"10.5\"/><use xlink:href=\"#white\" x=\"50.5\" y=\"30.5\"/><use xlink:href=\"#white\" x=\"90.5\" y=\"30.5\"/><use xlink:href=\"#white\" x=\"110.5\" y=\"30.5\"/><use xlink:href=\"#black\" x=\"130.5\" y=\"30.5\"/><use xlink:href=\"#white\" x=\"150.5\" y=\"30.5\"/><use xlink:href=\"#white\" x=\"70.5\" y=\"50.5\"/><use xlink:href=\"#white\" x=\"90.5\" y=\"50.5\"/><use xlink:href=\"#white\" x=\"110.5\" y=\"50.5\"/><use xlink:href=\"#black\" x=\"130.5\" y=\"50.5\"/><use xlink:href=\"#white\" x=\"150.5\" y=\"50.5\"/><use xlink:href=\"#white\" x=\"70.5\" y=\"70.5\"/><use xlink:href=\"#white\" x=\"90.5\" y=\"70.5\"/><use xlink:href=\"#white\" x=\"110.5\" y=\"70.5\"/><use xlink:href=\"#black\" x=\"130.5\" y=\"70.5\"/><use xlink:href=\"#white\" x=\"150.5\" y=\"70.5\"/><use xlink:href=\"#white\" x=\"50.5\" y=\"90.5\"/><use xlink:href=\"#white\" x=\"70.5\" y=\"90.5\"/><use xlink:href=\"#white\" x=\"90.5\" y=\"90.5\"/><use xlink:href=\"#white\" x=\"130.5\" y=\"90.5\"/><use xlink:href=\"#white\" x=\"150.5\" y=\"90.5\"/><use xlink:href=\"#white\" x=\"150.5\" y=\"110.5\"/><use xlink:href=\"#white\" x=\"150.5\" y=\"130.5\"/><use xlink:href=\"#white\" x=\"150.5\" y=\"150.5\"/></svg>",
            "text/plain": [
              "<IPython.core.display.SVG object>"
            ]
          },
          "metadata": {},
          "output_type": "display_data"
        },
        {
          "name": "stdout",
          "output_type": "stream",
          "text": [
            "d2\n",
            "24: white\n"
          ]
        },
        {
          "data": {
            "image/svg+xml": "<svg xmlns=\"http://www.w3.org/2000/svg\" xmlns:xlink=\"http://www.w3.org/1999/xlink\" version=\"1.1\" width=\"215.0\" height=\"215.0\" viewBox=\"0 0 172 172\"><defs><g id=\"black\"><circle cx=\"10\" cy=\"10\" r=\"8.5\" fill=\"black\"/></g><g id=\"white\"><circle cx=\"10\" cy=\"10\" r=\"8.5\" fill=\"white\"/></g></defs><rect fill=\"green\" height=\"161\" width=\"161\" x=\"10\" y=\"10\"/><rect x=\"70.5\" y=\"30.5\" width=\"20\" height=\"20\" fill=\"#8bbf83\"/><g stroke=\"black\"><rect width=\"161\" height=\"161\" stroke-width=\"1.5\" fill=\"none\" x=\"10\" y=\"10\"/><line stroke-width=\"1.0\" x1=\"10.5\" x2=\"170.5\" y1=\"30.5\" y2=\"30.5\"/><line stroke-width=\"1.0\" x1=\"10.5\" x2=\"170.5\" y1=\"50.5\" y2=\"50.5\"/><line stroke-width=\"1.0\" x1=\"10.5\" x2=\"170.5\" y1=\"70.5\" y2=\"70.5\"/><line stroke-width=\"1.0\" x1=\"10.5\" x2=\"170.5\" y1=\"90.5\" y2=\"90.5\"/><line stroke-width=\"1.0\" x1=\"10.5\" x2=\"170.5\" y1=\"110.5\" y2=\"110.5\"/><line stroke-width=\"1.0\" x1=\"10.5\" x2=\"170.5\" y1=\"130.5\" y2=\"130.5\"/><line stroke-width=\"1.0\" x1=\"10.5\" x2=\"170.5\" y1=\"150.5\" y2=\"150.5\"/><line stroke-width=\"1.0\" x1=\"30.5\" x2=\"30.5\" y1=\"10.5\" y2=\"170.5\"/><line stroke-width=\"1.0\" x1=\"50.5\" x2=\"50.5\" y1=\"10.5\" y2=\"170.5\"/><line stroke-width=\"1.0\" x1=\"70.5\" x2=\"70.5\" y1=\"10.5\" y2=\"170.5\"/><line stroke-width=\"1.0\" x1=\"90.5\" x2=\"90.5\" y1=\"10.5\" y2=\"170.5\"/><line stroke-width=\"1.0\" x1=\"110.5\" x2=\"110.5\" y1=\"10.5\" y2=\"170.5\"/><line stroke-width=\"1.0\" x1=\"130.5\" x2=\"130.5\" y1=\"10.5\" y2=\"170.5\"/><line stroke-width=\"1.0\" x1=\"150.5\" x2=\"150.5\" y1=\"10.5\" y2=\"170.5\"/></g><g><text font-family=\"serif\" font-size=\"9.5\" text-anchor=\"middle\" x=\"20.5\" y=\"8\">a</text><text font-family=\"serif\" font-size=\"9.5\" text-anchor=\"middle\" x=\"40.5\" y=\"8\">b</text><text font-family=\"serif\" font-size=\"9.5\" text-anchor=\"middle\" x=\"60.5\" y=\"8\">c</text><text font-family=\"serif\" font-size=\"9.5\" text-anchor=\"middle\" x=\"80.5\" y=\"8\">d</text><text font-family=\"serif\" font-size=\"9.5\" text-anchor=\"middle\" x=\"100.5\" y=\"8\">e</text><text font-family=\"serif\" font-size=\"9.5\" text-anchor=\"middle\" x=\"120.5\" y=\"8\">f</text><text font-family=\"serif\" font-size=\"9.5\" text-anchor=\"middle\" x=\"140.5\" y=\"8\">g</text><text font-family=\"serif\" font-size=\"9.5\" text-anchor=\"middle\" x=\"160.5\" y=\"8\">h</text><text font-family=\"serif\" font-size=\"9.5\" x=\"2.5\" y=\"23.5\">1</text><text font-family=\"serif\" font-size=\"9.5\" x=\"2.5\" y=\"43.5\">2</text><text font-family=\"serif\" font-size=\"9.5\" x=\"2.5\" y=\"63.5\">3</text><text font-family=\"serif\" font-size=\"9.5\" x=\"2.5\" y=\"83.5\">4</text><text font-family=\"serif\" font-size=\"9.5\" x=\"2.5\" y=\"103.5\">5</text><text font-family=\"serif\" font-size=\"9.5\" x=\"2.5\" y=\"123.5\">6</text><text font-family=\"serif\" font-size=\"9.5\" x=\"2.5\" y=\"143.5\">7</text><text font-family=\"serif\" font-size=\"9.5\" x=\"2.5\" y=\"163.5\">8</text></g><use xlink:href=\"#black\" x=\"110.5\" y=\"10.5\"/><use xlink:href=\"#black\" x=\"130.5\" y=\"10.5\"/><use xlink:href=\"#black\" x=\"150.5\" y=\"10.5\"/><use xlink:href=\"#white\" x=\"50.5\" y=\"30.5\"/><use xlink:href=\"#black\" x=\"70.5\" y=\"30.5\"/><use xlink:href=\"#black\" x=\"90.5\" y=\"30.5\"/><use xlink:href=\"#black\" x=\"110.5\" y=\"30.5\"/><use xlink:href=\"#black\" x=\"130.5\" y=\"30.5\"/><use xlink:href=\"#white\" x=\"150.5\" y=\"30.5\"/><use xlink:href=\"#white\" x=\"70.5\" y=\"50.5\"/><use xlink:href=\"#white\" x=\"90.5\" y=\"50.5\"/><use xlink:href=\"#white\" x=\"110.5\" y=\"50.5\"/><use xlink:href=\"#black\" x=\"130.5\" y=\"50.5\"/><use xlink:href=\"#white\" x=\"150.5\" y=\"50.5\"/><use xlink:href=\"#white\" x=\"70.5\" y=\"70.5\"/><use xlink:href=\"#white\" x=\"90.5\" y=\"70.5\"/><use xlink:href=\"#white\" x=\"110.5\" y=\"70.5\"/><use xlink:href=\"#black\" x=\"130.5\" y=\"70.5\"/><use xlink:href=\"#white\" x=\"150.5\" y=\"70.5\"/><use xlink:href=\"#white\" x=\"50.5\" y=\"90.5\"/><use xlink:href=\"#white\" x=\"70.5\" y=\"90.5\"/><use xlink:href=\"#white\" x=\"90.5\" y=\"90.5\"/><use xlink:href=\"#white\" x=\"130.5\" y=\"90.5\"/><use xlink:href=\"#white\" x=\"150.5\" y=\"90.5\"/><use xlink:href=\"#white\" x=\"150.5\" y=\"110.5\"/><use xlink:href=\"#white\" x=\"150.5\" y=\"130.5\"/><use xlink:href=\"#white\" x=\"150.5\" y=\"150.5\"/></svg>",
            "text/plain": [
              "<IPython.core.display.SVG object>"
            ]
          },
          "metadata": {},
          "output_type": "display_data"
        },
        {
          "name": "stdout",
          "output_type": "stream",
          "text": [
            "d1\n",
            "25: black\n"
          ]
        },
        {
          "data": {
            "image/svg+xml": "<svg xmlns=\"http://www.w3.org/2000/svg\" xmlns:xlink=\"http://www.w3.org/1999/xlink\" version=\"1.1\" width=\"215.0\" height=\"215.0\" viewBox=\"0 0 172 172\"><defs><g id=\"black\"><circle cx=\"10\" cy=\"10\" r=\"8.5\" fill=\"black\"/></g><g id=\"white\"><circle cx=\"10\" cy=\"10\" r=\"8.5\" fill=\"white\"/></g></defs><rect fill=\"green\" height=\"161\" width=\"161\" x=\"10\" y=\"10\"/><rect x=\"70.5\" y=\"10.5\" width=\"20\" height=\"20\" fill=\"#8bbf83\"/><g stroke=\"black\"><rect width=\"161\" height=\"161\" stroke-width=\"1.5\" fill=\"none\" x=\"10\" y=\"10\"/><line stroke-width=\"1.0\" x1=\"10.5\" x2=\"170.5\" y1=\"30.5\" y2=\"30.5\"/><line stroke-width=\"1.0\" x1=\"10.5\" x2=\"170.5\" y1=\"50.5\" y2=\"50.5\"/><line stroke-width=\"1.0\" x1=\"10.5\" x2=\"170.5\" y1=\"70.5\" y2=\"70.5\"/><line stroke-width=\"1.0\" x1=\"10.5\" x2=\"170.5\" y1=\"90.5\" y2=\"90.5\"/><line stroke-width=\"1.0\" x1=\"10.5\" x2=\"170.5\" y1=\"110.5\" y2=\"110.5\"/><line stroke-width=\"1.0\" x1=\"10.5\" x2=\"170.5\" y1=\"130.5\" y2=\"130.5\"/><line stroke-width=\"1.0\" x1=\"10.5\" x2=\"170.5\" y1=\"150.5\" y2=\"150.5\"/><line stroke-width=\"1.0\" x1=\"30.5\" x2=\"30.5\" y1=\"10.5\" y2=\"170.5\"/><line stroke-width=\"1.0\" x1=\"50.5\" x2=\"50.5\" y1=\"10.5\" y2=\"170.5\"/><line stroke-width=\"1.0\" x1=\"70.5\" x2=\"70.5\" y1=\"10.5\" y2=\"170.5\"/><line stroke-width=\"1.0\" x1=\"90.5\" x2=\"90.5\" y1=\"10.5\" y2=\"170.5\"/><line stroke-width=\"1.0\" x1=\"110.5\" x2=\"110.5\" y1=\"10.5\" y2=\"170.5\"/><line stroke-width=\"1.0\" x1=\"130.5\" x2=\"130.5\" y1=\"10.5\" y2=\"170.5\"/><line stroke-width=\"1.0\" x1=\"150.5\" x2=\"150.5\" y1=\"10.5\" y2=\"170.5\"/></g><g><text font-family=\"serif\" font-size=\"9.5\" text-anchor=\"middle\" x=\"20.5\" y=\"8\">a</text><text font-family=\"serif\" font-size=\"9.5\" text-anchor=\"middle\" x=\"40.5\" y=\"8\">b</text><text font-family=\"serif\" font-size=\"9.5\" text-anchor=\"middle\" x=\"60.5\" y=\"8\">c</text><text font-family=\"serif\" font-size=\"9.5\" text-anchor=\"middle\" x=\"80.5\" y=\"8\">d</text><text font-family=\"serif\" font-size=\"9.5\" text-anchor=\"middle\" x=\"100.5\" y=\"8\">e</text><text font-family=\"serif\" font-size=\"9.5\" text-anchor=\"middle\" x=\"120.5\" y=\"8\">f</text><text font-family=\"serif\" font-size=\"9.5\" text-anchor=\"middle\" x=\"140.5\" y=\"8\">g</text><text font-family=\"serif\" font-size=\"9.5\" text-anchor=\"middle\" x=\"160.5\" y=\"8\">h</text><text font-family=\"serif\" font-size=\"9.5\" x=\"2.5\" y=\"23.5\">1</text><text font-family=\"serif\" font-size=\"9.5\" x=\"2.5\" y=\"43.5\">2</text><text font-family=\"serif\" font-size=\"9.5\" x=\"2.5\" y=\"63.5\">3</text><text font-family=\"serif\" font-size=\"9.5\" x=\"2.5\" y=\"83.5\">4</text><text font-family=\"serif\" font-size=\"9.5\" x=\"2.5\" y=\"103.5\">5</text><text font-family=\"serif\" font-size=\"9.5\" x=\"2.5\" y=\"123.5\">6</text><text font-family=\"serif\" font-size=\"9.5\" x=\"2.5\" y=\"143.5\">7</text><text font-family=\"serif\" font-size=\"9.5\" x=\"2.5\" y=\"163.5\">8</text></g><use xlink:href=\"#white\" x=\"70.5\" y=\"10.5\"/><use xlink:href=\"#black\" x=\"110.5\" y=\"10.5\"/><use xlink:href=\"#black\" x=\"130.5\" y=\"10.5\"/><use xlink:href=\"#black\" x=\"150.5\" y=\"10.5\"/><use xlink:href=\"#white\" x=\"50.5\" y=\"30.5\"/><use xlink:href=\"#white\" x=\"70.5\" y=\"30.5\"/><use xlink:href=\"#white\" x=\"90.5\" y=\"30.5\"/><use xlink:href=\"#black\" x=\"110.5\" y=\"30.5\"/><use xlink:href=\"#black\" x=\"130.5\" y=\"30.5\"/><use xlink:href=\"#white\" x=\"150.5\" y=\"30.5\"/><use xlink:href=\"#white\" x=\"70.5\" y=\"50.5\"/><use xlink:href=\"#white\" x=\"90.5\" y=\"50.5\"/><use xlink:href=\"#white\" x=\"110.5\" y=\"50.5\"/><use xlink:href=\"#black\" x=\"130.5\" y=\"50.5\"/><use xlink:href=\"#white\" x=\"150.5\" y=\"50.5\"/><use xlink:href=\"#white\" x=\"70.5\" y=\"70.5\"/><use xlink:href=\"#white\" x=\"90.5\" y=\"70.5\"/><use xlink:href=\"#white\" x=\"110.5\" y=\"70.5\"/><use xlink:href=\"#black\" x=\"130.5\" y=\"70.5\"/><use xlink:href=\"#white\" x=\"150.5\" y=\"70.5\"/><use xlink:href=\"#white\" x=\"50.5\" y=\"90.5\"/><use xlink:href=\"#white\" x=\"70.5\" y=\"90.5\"/><use xlink:href=\"#white\" x=\"90.5\" y=\"90.5\"/><use xlink:href=\"#white\" x=\"130.5\" y=\"90.5\"/><use xlink:href=\"#white\" x=\"150.5\" y=\"90.5\"/><use xlink:href=\"#white\" x=\"150.5\" y=\"110.5\"/><use xlink:href=\"#white\" x=\"150.5\" y=\"130.5\"/><use xlink:href=\"#white\" x=\"150.5\" y=\"150.5\"/></svg>",
            "text/plain": [
              "<IPython.core.display.SVG object>"
            ]
          },
          "metadata": {},
          "output_type": "display_data"
        },
        {
          "name": "stdout",
          "output_type": "stream",
          "text": [
            "g6\n",
            "26: white\n"
          ]
        },
        {
          "data": {
            "image/svg+xml": "<svg xmlns=\"http://www.w3.org/2000/svg\" xmlns:xlink=\"http://www.w3.org/1999/xlink\" version=\"1.1\" width=\"215.0\" height=\"215.0\" viewBox=\"0 0 172 172\"><defs><g id=\"black\"><circle cx=\"10\" cy=\"10\" r=\"8.5\" fill=\"black\"/></g><g id=\"white\"><circle cx=\"10\" cy=\"10\" r=\"8.5\" fill=\"white\"/></g></defs><rect fill=\"green\" height=\"161\" width=\"161\" x=\"10\" y=\"10\"/><rect x=\"130.5\" y=\"110.5\" width=\"20\" height=\"20\" fill=\"#8bbf83\"/><g stroke=\"black\"><rect width=\"161\" height=\"161\" stroke-width=\"1.5\" fill=\"none\" x=\"10\" y=\"10\"/><line stroke-width=\"1.0\" x1=\"10.5\" x2=\"170.5\" y1=\"30.5\" y2=\"30.5\"/><line stroke-width=\"1.0\" x1=\"10.5\" x2=\"170.5\" y1=\"50.5\" y2=\"50.5\"/><line stroke-width=\"1.0\" x1=\"10.5\" x2=\"170.5\" y1=\"70.5\" y2=\"70.5\"/><line stroke-width=\"1.0\" x1=\"10.5\" x2=\"170.5\" y1=\"90.5\" y2=\"90.5\"/><line stroke-width=\"1.0\" x1=\"10.5\" x2=\"170.5\" y1=\"110.5\" y2=\"110.5\"/><line stroke-width=\"1.0\" x1=\"10.5\" x2=\"170.5\" y1=\"130.5\" y2=\"130.5\"/><line stroke-width=\"1.0\" x1=\"10.5\" x2=\"170.5\" y1=\"150.5\" y2=\"150.5\"/><line stroke-width=\"1.0\" x1=\"30.5\" x2=\"30.5\" y1=\"10.5\" y2=\"170.5\"/><line stroke-width=\"1.0\" x1=\"50.5\" x2=\"50.5\" y1=\"10.5\" y2=\"170.5\"/><line stroke-width=\"1.0\" x1=\"70.5\" x2=\"70.5\" y1=\"10.5\" y2=\"170.5\"/><line stroke-width=\"1.0\" x1=\"90.5\" x2=\"90.5\" y1=\"10.5\" y2=\"170.5\"/><line stroke-width=\"1.0\" x1=\"110.5\" x2=\"110.5\" y1=\"10.5\" y2=\"170.5\"/><line stroke-width=\"1.0\" x1=\"130.5\" x2=\"130.5\" y1=\"10.5\" y2=\"170.5\"/><line stroke-width=\"1.0\" x1=\"150.5\" x2=\"150.5\" y1=\"10.5\" y2=\"170.5\"/></g><g><text font-family=\"serif\" font-size=\"9.5\" text-anchor=\"middle\" x=\"20.5\" y=\"8\">a</text><text font-family=\"serif\" font-size=\"9.5\" text-anchor=\"middle\" x=\"40.5\" y=\"8\">b</text><text font-family=\"serif\" font-size=\"9.5\" text-anchor=\"middle\" x=\"60.5\" y=\"8\">c</text><text font-family=\"serif\" font-size=\"9.5\" text-anchor=\"middle\" x=\"80.5\" y=\"8\">d</text><text font-family=\"serif\" font-size=\"9.5\" text-anchor=\"middle\" x=\"100.5\" y=\"8\">e</text><text font-family=\"serif\" font-size=\"9.5\" text-anchor=\"middle\" x=\"120.5\" y=\"8\">f</text><text font-family=\"serif\" font-size=\"9.5\" text-anchor=\"middle\" x=\"140.5\" y=\"8\">g</text><text font-family=\"serif\" font-size=\"9.5\" text-anchor=\"middle\" x=\"160.5\" y=\"8\">h</text><text font-family=\"serif\" font-size=\"9.5\" x=\"2.5\" y=\"23.5\">1</text><text font-family=\"serif\" font-size=\"9.5\" x=\"2.5\" y=\"43.5\">2</text><text font-family=\"serif\" font-size=\"9.5\" x=\"2.5\" y=\"63.5\">3</text><text font-family=\"serif\" font-size=\"9.5\" x=\"2.5\" y=\"83.5\">4</text><text font-family=\"serif\" font-size=\"9.5\" x=\"2.5\" y=\"103.5\">5</text><text font-family=\"serif\" font-size=\"9.5\" x=\"2.5\" y=\"123.5\">6</text><text font-family=\"serif\" font-size=\"9.5\" x=\"2.5\" y=\"143.5\">7</text><text font-family=\"serif\" font-size=\"9.5\" x=\"2.5\" y=\"163.5\">8</text></g><use xlink:href=\"#white\" x=\"70.5\" y=\"10.5\"/><use xlink:href=\"#black\" x=\"110.5\" y=\"10.5\"/><use xlink:href=\"#black\" x=\"130.5\" y=\"10.5\"/><use xlink:href=\"#black\" x=\"150.5\" y=\"10.5\"/><use xlink:href=\"#white\" x=\"50.5\" y=\"30.5\"/><use xlink:href=\"#white\" x=\"70.5\" y=\"30.5\"/><use xlink:href=\"#white\" x=\"90.5\" y=\"30.5\"/><use xlink:href=\"#black\" x=\"110.5\" y=\"30.5\"/><use xlink:href=\"#black\" x=\"130.5\" y=\"30.5\"/><use xlink:href=\"#white\" x=\"150.5\" y=\"30.5\"/><use xlink:href=\"#white\" x=\"70.5\" y=\"50.5\"/><use xlink:href=\"#white\" x=\"90.5\" y=\"50.5\"/><use xlink:href=\"#white\" x=\"110.5\" y=\"50.5\"/><use xlink:href=\"#black\" x=\"130.5\" y=\"50.5\"/><use xlink:href=\"#white\" x=\"150.5\" y=\"50.5\"/><use xlink:href=\"#white\" x=\"70.5\" y=\"70.5\"/><use xlink:href=\"#white\" x=\"90.5\" y=\"70.5\"/><use xlink:href=\"#white\" x=\"110.5\" y=\"70.5\"/><use xlink:href=\"#black\" x=\"130.5\" y=\"70.5\"/><use xlink:href=\"#white\" x=\"150.5\" y=\"70.5\"/><use xlink:href=\"#white\" x=\"50.5\" y=\"90.5\"/><use xlink:href=\"#white\" x=\"70.5\" y=\"90.5\"/><use xlink:href=\"#white\" x=\"90.5\" y=\"90.5\"/><use xlink:href=\"#black\" x=\"130.5\" y=\"90.5\"/><use xlink:href=\"#white\" x=\"150.5\" y=\"90.5\"/><use xlink:href=\"#black\" x=\"130.5\" y=\"110.5\"/><use xlink:href=\"#white\" x=\"150.5\" y=\"110.5\"/><use xlink:href=\"#white\" x=\"150.5\" y=\"130.5\"/><use xlink:href=\"#white\" x=\"150.5\" y=\"150.5\"/></svg>",
            "text/plain": [
              "<IPython.core.display.SVG object>"
            ]
          },
          "metadata": {},
          "output_type": "display_data"
        },
        {
          "name": "stdout",
          "output_type": "stream",
          "text": [
            "f5\n",
            "27: black\n"
          ]
        },
        {
          "data": {
            "image/svg+xml": "<svg xmlns=\"http://www.w3.org/2000/svg\" xmlns:xlink=\"http://www.w3.org/1999/xlink\" version=\"1.1\" width=\"215.0\" height=\"215.0\" viewBox=\"0 0 172 172\"><defs><g id=\"black\"><circle cx=\"10\" cy=\"10\" r=\"8.5\" fill=\"black\"/></g><g id=\"white\"><circle cx=\"10\" cy=\"10\" r=\"8.5\" fill=\"white\"/></g></defs><rect fill=\"green\" height=\"161\" width=\"161\" x=\"10\" y=\"10\"/><rect x=\"110.5\" y=\"90.5\" width=\"20\" height=\"20\" fill=\"#8bbf83\"/><g stroke=\"black\"><rect width=\"161\" height=\"161\" stroke-width=\"1.5\" fill=\"none\" x=\"10\" y=\"10\"/><line stroke-width=\"1.0\" x1=\"10.5\" x2=\"170.5\" y1=\"30.5\" y2=\"30.5\"/><line stroke-width=\"1.0\" x1=\"10.5\" x2=\"170.5\" y1=\"50.5\" y2=\"50.5\"/><line stroke-width=\"1.0\" x1=\"10.5\" x2=\"170.5\" y1=\"70.5\" y2=\"70.5\"/><line stroke-width=\"1.0\" x1=\"10.5\" x2=\"170.5\" y1=\"90.5\" y2=\"90.5\"/><line stroke-width=\"1.0\" x1=\"10.5\" x2=\"170.5\" y1=\"110.5\" y2=\"110.5\"/><line stroke-width=\"1.0\" x1=\"10.5\" x2=\"170.5\" y1=\"130.5\" y2=\"130.5\"/><line stroke-width=\"1.0\" x1=\"10.5\" x2=\"170.5\" y1=\"150.5\" y2=\"150.5\"/><line stroke-width=\"1.0\" x1=\"30.5\" x2=\"30.5\" y1=\"10.5\" y2=\"170.5\"/><line stroke-width=\"1.0\" x1=\"50.5\" x2=\"50.5\" y1=\"10.5\" y2=\"170.5\"/><line stroke-width=\"1.0\" x1=\"70.5\" x2=\"70.5\" y1=\"10.5\" y2=\"170.5\"/><line stroke-width=\"1.0\" x1=\"90.5\" x2=\"90.5\" y1=\"10.5\" y2=\"170.5\"/><line stroke-width=\"1.0\" x1=\"110.5\" x2=\"110.5\" y1=\"10.5\" y2=\"170.5\"/><line stroke-width=\"1.0\" x1=\"130.5\" x2=\"130.5\" y1=\"10.5\" y2=\"170.5\"/><line stroke-width=\"1.0\" x1=\"150.5\" x2=\"150.5\" y1=\"10.5\" y2=\"170.5\"/></g><g><text font-family=\"serif\" font-size=\"9.5\" text-anchor=\"middle\" x=\"20.5\" y=\"8\">a</text><text font-family=\"serif\" font-size=\"9.5\" text-anchor=\"middle\" x=\"40.5\" y=\"8\">b</text><text font-family=\"serif\" font-size=\"9.5\" text-anchor=\"middle\" x=\"60.5\" y=\"8\">c</text><text font-family=\"serif\" font-size=\"9.5\" text-anchor=\"middle\" x=\"80.5\" y=\"8\">d</text><text font-family=\"serif\" font-size=\"9.5\" text-anchor=\"middle\" x=\"100.5\" y=\"8\">e</text><text font-family=\"serif\" font-size=\"9.5\" text-anchor=\"middle\" x=\"120.5\" y=\"8\">f</text><text font-family=\"serif\" font-size=\"9.5\" text-anchor=\"middle\" x=\"140.5\" y=\"8\">g</text><text font-family=\"serif\" font-size=\"9.5\" text-anchor=\"middle\" x=\"160.5\" y=\"8\">h</text><text font-family=\"serif\" font-size=\"9.5\" x=\"2.5\" y=\"23.5\">1</text><text font-family=\"serif\" font-size=\"9.5\" x=\"2.5\" y=\"43.5\">2</text><text font-family=\"serif\" font-size=\"9.5\" x=\"2.5\" y=\"63.5\">3</text><text font-family=\"serif\" font-size=\"9.5\" x=\"2.5\" y=\"83.5\">4</text><text font-family=\"serif\" font-size=\"9.5\" x=\"2.5\" y=\"103.5\">5</text><text font-family=\"serif\" font-size=\"9.5\" x=\"2.5\" y=\"123.5\">6</text><text font-family=\"serif\" font-size=\"9.5\" x=\"2.5\" y=\"143.5\">7</text><text font-family=\"serif\" font-size=\"9.5\" x=\"2.5\" y=\"163.5\">8</text></g><use xlink:href=\"#white\" x=\"70.5\" y=\"10.5\"/><use xlink:href=\"#black\" x=\"110.5\" y=\"10.5\"/><use xlink:href=\"#black\" x=\"130.5\" y=\"10.5\"/><use xlink:href=\"#black\" x=\"150.5\" y=\"10.5\"/><use xlink:href=\"#white\" x=\"50.5\" y=\"30.5\"/><use xlink:href=\"#white\" x=\"70.5\" y=\"30.5\"/><use xlink:href=\"#white\" x=\"90.5\" y=\"30.5\"/><use xlink:href=\"#black\" x=\"110.5\" y=\"30.5\"/><use xlink:href=\"#black\" x=\"130.5\" y=\"30.5\"/><use xlink:href=\"#white\" x=\"150.5\" y=\"30.5\"/><use xlink:href=\"#white\" x=\"70.5\" y=\"50.5\"/><use xlink:href=\"#white\" x=\"90.5\" y=\"50.5\"/><use xlink:href=\"#white\" x=\"110.5\" y=\"50.5\"/><use xlink:href=\"#black\" x=\"130.5\" y=\"50.5\"/><use xlink:href=\"#white\" x=\"150.5\" y=\"50.5\"/><use xlink:href=\"#white\" x=\"70.5\" y=\"70.5\"/><use xlink:href=\"#white\" x=\"90.5\" y=\"70.5\"/><use xlink:href=\"#white\" x=\"110.5\" y=\"70.5\"/><use xlink:href=\"#white\" x=\"130.5\" y=\"70.5\"/><use xlink:href=\"#white\" x=\"150.5\" y=\"70.5\"/><use xlink:href=\"#white\" x=\"50.5\" y=\"90.5\"/><use xlink:href=\"#white\" x=\"70.5\" y=\"90.5\"/><use xlink:href=\"#white\" x=\"90.5\" y=\"90.5\"/><use xlink:href=\"#white\" x=\"110.5\" y=\"90.5\"/><use xlink:href=\"#white\" x=\"130.5\" y=\"90.5\"/><use xlink:href=\"#white\" x=\"150.5\" y=\"90.5\"/><use xlink:href=\"#white\" x=\"130.5\" y=\"110.5\"/><use xlink:href=\"#white\" x=\"150.5\" y=\"110.5\"/><use xlink:href=\"#white\" x=\"150.5\" y=\"130.5\"/><use xlink:href=\"#white\" x=\"150.5\" y=\"150.5\"/></svg>",
            "text/plain": [
              "<IPython.core.display.SVG object>"
            ]
          },
          "metadata": {},
          "output_type": "display_data"
        },
        {
          "name": "stdout",
          "output_type": "stream",
          "text": [
            "f6\n",
            "28: white\n"
          ]
        },
        {
          "data": {
            "image/svg+xml": "<svg xmlns=\"http://www.w3.org/2000/svg\" xmlns:xlink=\"http://www.w3.org/1999/xlink\" version=\"1.1\" width=\"215.0\" height=\"215.0\" viewBox=\"0 0 172 172\"><defs><g id=\"black\"><circle cx=\"10\" cy=\"10\" r=\"8.5\" fill=\"black\"/></g><g id=\"white\"><circle cx=\"10\" cy=\"10\" r=\"8.5\" fill=\"white\"/></g></defs><rect fill=\"green\" height=\"161\" width=\"161\" x=\"10\" y=\"10\"/><rect x=\"110.5\" y=\"110.5\" width=\"20\" height=\"20\" fill=\"#8bbf83\"/><g stroke=\"black\"><rect width=\"161\" height=\"161\" stroke-width=\"1.5\" fill=\"none\" x=\"10\" y=\"10\"/><line stroke-width=\"1.0\" x1=\"10.5\" x2=\"170.5\" y1=\"30.5\" y2=\"30.5\"/><line stroke-width=\"1.0\" x1=\"10.5\" x2=\"170.5\" y1=\"50.5\" y2=\"50.5\"/><line stroke-width=\"1.0\" x1=\"10.5\" x2=\"170.5\" y1=\"70.5\" y2=\"70.5\"/><line stroke-width=\"1.0\" x1=\"10.5\" x2=\"170.5\" y1=\"90.5\" y2=\"90.5\"/><line stroke-width=\"1.0\" x1=\"10.5\" x2=\"170.5\" y1=\"110.5\" y2=\"110.5\"/><line stroke-width=\"1.0\" x1=\"10.5\" x2=\"170.5\" y1=\"130.5\" y2=\"130.5\"/><line stroke-width=\"1.0\" x1=\"10.5\" x2=\"170.5\" y1=\"150.5\" y2=\"150.5\"/><line stroke-width=\"1.0\" x1=\"30.5\" x2=\"30.5\" y1=\"10.5\" y2=\"170.5\"/><line stroke-width=\"1.0\" x1=\"50.5\" x2=\"50.5\" y1=\"10.5\" y2=\"170.5\"/><line stroke-width=\"1.0\" x1=\"70.5\" x2=\"70.5\" y1=\"10.5\" y2=\"170.5\"/><line stroke-width=\"1.0\" x1=\"90.5\" x2=\"90.5\" y1=\"10.5\" y2=\"170.5\"/><line stroke-width=\"1.0\" x1=\"110.5\" x2=\"110.5\" y1=\"10.5\" y2=\"170.5\"/><line stroke-width=\"1.0\" x1=\"130.5\" x2=\"130.5\" y1=\"10.5\" y2=\"170.5\"/><line stroke-width=\"1.0\" x1=\"150.5\" x2=\"150.5\" y1=\"10.5\" y2=\"170.5\"/></g><g><text font-family=\"serif\" font-size=\"9.5\" text-anchor=\"middle\" x=\"20.5\" y=\"8\">a</text><text font-family=\"serif\" font-size=\"9.5\" text-anchor=\"middle\" x=\"40.5\" y=\"8\">b</text><text font-family=\"serif\" font-size=\"9.5\" text-anchor=\"middle\" x=\"60.5\" y=\"8\">c</text><text font-family=\"serif\" font-size=\"9.5\" text-anchor=\"middle\" x=\"80.5\" y=\"8\">d</text><text font-family=\"serif\" font-size=\"9.5\" text-anchor=\"middle\" x=\"100.5\" y=\"8\">e</text><text font-family=\"serif\" font-size=\"9.5\" text-anchor=\"middle\" x=\"120.5\" y=\"8\">f</text><text font-family=\"serif\" font-size=\"9.5\" text-anchor=\"middle\" x=\"140.5\" y=\"8\">g</text><text font-family=\"serif\" font-size=\"9.5\" text-anchor=\"middle\" x=\"160.5\" y=\"8\">h</text><text font-family=\"serif\" font-size=\"9.5\" x=\"2.5\" y=\"23.5\">1</text><text font-family=\"serif\" font-size=\"9.5\" x=\"2.5\" y=\"43.5\">2</text><text font-family=\"serif\" font-size=\"9.5\" x=\"2.5\" y=\"63.5\">3</text><text font-family=\"serif\" font-size=\"9.5\" x=\"2.5\" y=\"83.5\">4</text><text font-family=\"serif\" font-size=\"9.5\" x=\"2.5\" y=\"103.5\">5</text><text font-family=\"serif\" font-size=\"9.5\" x=\"2.5\" y=\"123.5\">6</text><text font-family=\"serif\" font-size=\"9.5\" x=\"2.5\" y=\"143.5\">7</text><text font-family=\"serif\" font-size=\"9.5\" x=\"2.5\" y=\"163.5\">8</text></g><use xlink:href=\"#white\" x=\"70.5\" y=\"10.5\"/><use xlink:href=\"#black\" x=\"110.5\" y=\"10.5\"/><use xlink:href=\"#black\" x=\"130.5\" y=\"10.5\"/><use xlink:href=\"#black\" x=\"150.5\" y=\"10.5\"/><use xlink:href=\"#white\" x=\"50.5\" y=\"30.5\"/><use xlink:href=\"#white\" x=\"70.5\" y=\"30.5\"/><use xlink:href=\"#white\" x=\"90.5\" y=\"30.5\"/><use xlink:href=\"#black\" x=\"110.5\" y=\"30.5\"/><use xlink:href=\"#black\" x=\"130.5\" y=\"30.5\"/><use xlink:href=\"#white\" x=\"150.5\" y=\"30.5\"/><use xlink:href=\"#white\" x=\"70.5\" y=\"50.5\"/><use xlink:href=\"#white\" x=\"90.5\" y=\"50.5\"/><use xlink:href=\"#black\" x=\"110.5\" y=\"50.5\"/><use xlink:href=\"#black\" x=\"130.5\" y=\"50.5\"/><use xlink:href=\"#white\" x=\"150.5\" y=\"50.5\"/><use xlink:href=\"#white\" x=\"70.5\" y=\"70.5\"/><use xlink:href=\"#white\" x=\"90.5\" y=\"70.5\"/><use xlink:href=\"#black\" x=\"110.5\" y=\"70.5\"/><use xlink:href=\"#white\" x=\"130.5\" y=\"70.5\"/><use xlink:href=\"#white\" x=\"150.5\" y=\"70.5\"/><use xlink:href=\"#white\" x=\"50.5\" y=\"90.5\"/><use xlink:href=\"#white\" x=\"70.5\" y=\"90.5\"/><use xlink:href=\"#white\" x=\"90.5\" y=\"90.5\"/><use xlink:href=\"#black\" x=\"110.5\" y=\"90.5\"/><use xlink:href=\"#white\" x=\"130.5\" y=\"90.5\"/><use xlink:href=\"#white\" x=\"150.5\" y=\"90.5\"/><use xlink:href=\"#black\" x=\"110.5\" y=\"110.5\"/><use xlink:href=\"#white\" x=\"130.5\" y=\"110.5\"/><use xlink:href=\"#white\" x=\"150.5\" y=\"110.5\"/><use xlink:href=\"#white\" x=\"150.5\" y=\"130.5\"/><use xlink:href=\"#white\" x=\"150.5\" y=\"150.5\"/></svg>",
            "text/plain": [
              "<IPython.core.display.SVG object>"
            ]
          },
          "metadata": {},
          "output_type": "display_data"
        },
        {
          "name": "stdout",
          "output_type": "stream",
          "text": [
            "g7\n",
            "29: black\n"
          ]
        },
        {
          "data": {
            "image/svg+xml": "<svg xmlns=\"http://www.w3.org/2000/svg\" xmlns:xlink=\"http://www.w3.org/1999/xlink\" version=\"1.1\" width=\"215.0\" height=\"215.0\" viewBox=\"0 0 172 172\"><defs><g id=\"black\"><circle cx=\"10\" cy=\"10\" r=\"8.5\" fill=\"black\"/></g><g id=\"white\"><circle cx=\"10\" cy=\"10\" r=\"8.5\" fill=\"white\"/></g></defs><rect fill=\"green\" height=\"161\" width=\"161\" x=\"10\" y=\"10\"/><rect x=\"130.5\" y=\"130.5\" width=\"20\" height=\"20\" fill=\"#8bbf83\"/><g stroke=\"black\"><rect width=\"161\" height=\"161\" stroke-width=\"1.5\" fill=\"none\" x=\"10\" y=\"10\"/><line stroke-width=\"1.0\" x1=\"10.5\" x2=\"170.5\" y1=\"30.5\" y2=\"30.5\"/><line stroke-width=\"1.0\" x1=\"10.5\" x2=\"170.5\" y1=\"50.5\" y2=\"50.5\"/><line stroke-width=\"1.0\" x1=\"10.5\" x2=\"170.5\" y1=\"70.5\" y2=\"70.5\"/><line stroke-width=\"1.0\" x1=\"10.5\" x2=\"170.5\" y1=\"90.5\" y2=\"90.5\"/><line stroke-width=\"1.0\" x1=\"10.5\" x2=\"170.5\" y1=\"110.5\" y2=\"110.5\"/><line stroke-width=\"1.0\" x1=\"10.5\" x2=\"170.5\" y1=\"130.5\" y2=\"130.5\"/><line stroke-width=\"1.0\" x1=\"10.5\" x2=\"170.5\" y1=\"150.5\" y2=\"150.5\"/><line stroke-width=\"1.0\" x1=\"30.5\" x2=\"30.5\" y1=\"10.5\" y2=\"170.5\"/><line stroke-width=\"1.0\" x1=\"50.5\" x2=\"50.5\" y1=\"10.5\" y2=\"170.5\"/><line stroke-width=\"1.0\" x1=\"70.5\" x2=\"70.5\" y1=\"10.5\" y2=\"170.5\"/><line stroke-width=\"1.0\" x1=\"90.5\" x2=\"90.5\" y1=\"10.5\" y2=\"170.5\"/><line stroke-width=\"1.0\" x1=\"110.5\" x2=\"110.5\" y1=\"10.5\" y2=\"170.5\"/><line stroke-width=\"1.0\" x1=\"130.5\" x2=\"130.5\" y1=\"10.5\" y2=\"170.5\"/><line stroke-width=\"1.0\" x1=\"150.5\" x2=\"150.5\" y1=\"10.5\" y2=\"170.5\"/></g><g><text font-family=\"serif\" font-size=\"9.5\" text-anchor=\"middle\" x=\"20.5\" y=\"8\">a</text><text font-family=\"serif\" font-size=\"9.5\" text-anchor=\"middle\" x=\"40.5\" y=\"8\">b</text><text font-family=\"serif\" font-size=\"9.5\" text-anchor=\"middle\" x=\"60.5\" y=\"8\">c</text><text font-family=\"serif\" font-size=\"9.5\" text-anchor=\"middle\" x=\"80.5\" y=\"8\">d</text><text font-family=\"serif\" font-size=\"9.5\" text-anchor=\"middle\" x=\"100.5\" y=\"8\">e</text><text font-family=\"serif\" font-size=\"9.5\" text-anchor=\"middle\" x=\"120.5\" y=\"8\">f</text><text font-family=\"serif\" font-size=\"9.5\" text-anchor=\"middle\" x=\"140.5\" y=\"8\">g</text><text font-family=\"serif\" font-size=\"9.5\" text-anchor=\"middle\" x=\"160.5\" y=\"8\">h</text><text font-family=\"serif\" font-size=\"9.5\" x=\"2.5\" y=\"23.5\">1</text><text font-family=\"serif\" font-size=\"9.5\" x=\"2.5\" y=\"43.5\">2</text><text font-family=\"serif\" font-size=\"9.5\" x=\"2.5\" y=\"63.5\">3</text><text font-family=\"serif\" font-size=\"9.5\" x=\"2.5\" y=\"83.5\">4</text><text font-family=\"serif\" font-size=\"9.5\" x=\"2.5\" y=\"103.5\">5</text><text font-family=\"serif\" font-size=\"9.5\" x=\"2.5\" y=\"123.5\">6</text><text font-family=\"serif\" font-size=\"9.5\" x=\"2.5\" y=\"143.5\">7</text><text font-family=\"serif\" font-size=\"9.5\" x=\"2.5\" y=\"163.5\">8</text></g><use xlink:href=\"#white\" x=\"70.5\" y=\"10.5\"/><use xlink:href=\"#black\" x=\"110.5\" y=\"10.5\"/><use xlink:href=\"#black\" x=\"130.5\" y=\"10.5\"/><use xlink:href=\"#black\" x=\"150.5\" y=\"10.5\"/><use xlink:href=\"#white\" x=\"50.5\" y=\"30.5\"/><use xlink:href=\"#white\" x=\"70.5\" y=\"30.5\"/><use xlink:href=\"#white\" x=\"90.5\" y=\"30.5\"/><use xlink:href=\"#black\" x=\"110.5\" y=\"30.5\"/><use xlink:href=\"#black\" x=\"130.5\" y=\"30.5\"/><use xlink:href=\"#white\" x=\"150.5\" y=\"30.5\"/><use xlink:href=\"#white\" x=\"70.5\" y=\"50.5\"/><use xlink:href=\"#white\" x=\"90.5\" y=\"50.5\"/><use xlink:href=\"#black\" x=\"110.5\" y=\"50.5\"/><use xlink:href=\"#black\" x=\"130.5\" y=\"50.5\"/><use xlink:href=\"#white\" x=\"150.5\" y=\"50.5\"/><use xlink:href=\"#white\" x=\"70.5\" y=\"70.5\"/><use xlink:href=\"#white\" x=\"90.5\" y=\"70.5\"/><use xlink:href=\"#black\" x=\"110.5\" y=\"70.5\"/><use xlink:href=\"#white\" x=\"130.5\" y=\"70.5\"/><use xlink:href=\"#white\" x=\"150.5\" y=\"70.5\"/><use xlink:href=\"#white\" x=\"50.5\" y=\"90.5\"/><use xlink:href=\"#white\" x=\"70.5\" y=\"90.5\"/><use xlink:href=\"#white\" x=\"90.5\" y=\"90.5\"/><use xlink:href=\"#black\" x=\"110.5\" y=\"90.5\"/><use xlink:href=\"#white\" x=\"130.5\" y=\"90.5\"/><use xlink:href=\"#white\" x=\"150.5\" y=\"90.5\"/><use xlink:href=\"#white\" x=\"110.5\" y=\"110.5\"/><use xlink:href=\"#white\" x=\"130.5\" y=\"110.5\"/><use xlink:href=\"#white\" x=\"150.5\" y=\"110.5\"/><use xlink:href=\"#white\" x=\"130.5\" y=\"130.5\"/><use xlink:href=\"#white\" x=\"150.5\" y=\"130.5\"/><use xlink:href=\"#white\" x=\"150.5\" y=\"150.5\"/></svg>",
            "text/plain": [
              "<IPython.core.display.SVG object>"
            ]
          },
          "metadata": {},
          "output_type": "display_data"
        },
        {
          "name": "stdout",
          "output_type": "stream",
          "text": [
            "c3\n",
            "30: white\n"
          ]
        },
        {
          "data": {
            "image/svg+xml": "<svg xmlns=\"http://www.w3.org/2000/svg\" xmlns:xlink=\"http://www.w3.org/1999/xlink\" version=\"1.1\" width=\"215.0\" height=\"215.0\" viewBox=\"0 0 172 172\"><defs><g id=\"black\"><circle cx=\"10\" cy=\"10\" r=\"8.5\" fill=\"black\"/></g><g id=\"white\"><circle cx=\"10\" cy=\"10\" r=\"8.5\" fill=\"white\"/></g></defs><rect fill=\"green\" height=\"161\" width=\"161\" x=\"10\" y=\"10\"/><rect x=\"50.5\" y=\"50.5\" width=\"20\" height=\"20\" fill=\"#8bbf83\"/><g stroke=\"black\"><rect width=\"161\" height=\"161\" stroke-width=\"1.5\" fill=\"none\" x=\"10\" y=\"10\"/><line stroke-width=\"1.0\" x1=\"10.5\" x2=\"170.5\" y1=\"30.5\" y2=\"30.5\"/><line stroke-width=\"1.0\" x1=\"10.5\" x2=\"170.5\" y1=\"50.5\" y2=\"50.5\"/><line stroke-width=\"1.0\" x1=\"10.5\" x2=\"170.5\" y1=\"70.5\" y2=\"70.5\"/><line stroke-width=\"1.0\" x1=\"10.5\" x2=\"170.5\" y1=\"90.5\" y2=\"90.5\"/><line stroke-width=\"1.0\" x1=\"10.5\" x2=\"170.5\" y1=\"110.5\" y2=\"110.5\"/><line stroke-width=\"1.0\" x1=\"10.5\" x2=\"170.5\" y1=\"130.5\" y2=\"130.5\"/><line stroke-width=\"1.0\" x1=\"10.5\" x2=\"170.5\" y1=\"150.5\" y2=\"150.5\"/><line stroke-width=\"1.0\" x1=\"30.5\" x2=\"30.5\" y1=\"10.5\" y2=\"170.5\"/><line stroke-width=\"1.0\" x1=\"50.5\" x2=\"50.5\" y1=\"10.5\" y2=\"170.5\"/><line stroke-width=\"1.0\" x1=\"70.5\" x2=\"70.5\" y1=\"10.5\" y2=\"170.5\"/><line stroke-width=\"1.0\" x1=\"90.5\" x2=\"90.5\" y1=\"10.5\" y2=\"170.5\"/><line stroke-width=\"1.0\" x1=\"110.5\" x2=\"110.5\" y1=\"10.5\" y2=\"170.5\"/><line stroke-width=\"1.0\" x1=\"130.5\" x2=\"130.5\" y1=\"10.5\" y2=\"170.5\"/><line stroke-width=\"1.0\" x1=\"150.5\" x2=\"150.5\" y1=\"10.5\" y2=\"170.5\"/></g><g><text font-family=\"serif\" font-size=\"9.5\" text-anchor=\"middle\" x=\"20.5\" y=\"8\">a</text><text font-family=\"serif\" font-size=\"9.5\" text-anchor=\"middle\" x=\"40.5\" y=\"8\">b</text><text font-family=\"serif\" font-size=\"9.5\" text-anchor=\"middle\" x=\"60.5\" y=\"8\">c</text><text font-family=\"serif\" font-size=\"9.5\" text-anchor=\"middle\" x=\"80.5\" y=\"8\">d</text><text font-family=\"serif\" font-size=\"9.5\" text-anchor=\"middle\" x=\"100.5\" y=\"8\">e</text><text font-family=\"serif\" font-size=\"9.5\" text-anchor=\"middle\" x=\"120.5\" y=\"8\">f</text><text font-family=\"serif\" font-size=\"9.5\" text-anchor=\"middle\" x=\"140.5\" y=\"8\">g</text><text font-family=\"serif\" font-size=\"9.5\" text-anchor=\"middle\" x=\"160.5\" y=\"8\">h</text><text font-family=\"serif\" font-size=\"9.5\" x=\"2.5\" y=\"23.5\">1</text><text font-family=\"serif\" font-size=\"9.5\" x=\"2.5\" y=\"43.5\">2</text><text font-family=\"serif\" font-size=\"9.5\" x=\"2.5\" y=\"63.5\">3</text><text font-family=\"serif\" font-size=\"9.5\" x=\"2.5\" y=\"83.5\">4</text><text font-family=\"serif\" font-size=\"9.5\" x=\"2.5\" y=\"103.5\">5</text><text font-family=\"serif\" font-size=\"9.5\" x=\"2.5\" y=\"123.5\">6</text><text font-family=\"serif\" font-size=\"9.5\" x=\"2.5\" y=\"143.5\">7</text><text font-family=\"serif\" font-size=\"9.5\" x=\"2.5\" y=\"163.5\">8</text></g><use xlink:href=\"#white\" x=\"70.5\" y=\"10.5\"/><use xlink:href=\"#black\" x=\"110.5\" y=\"10.5\"/><use xlink:href=\"#black\" x=\"130.5\" y=\"10.5\"/><use xlink:href=\"#black\" x=\"150.5\" y=\"10.5\"/><use xlink:href=\"#white\" x=\"50.5\" y=\"30.5\"/><use xlink:href=\"#white\" x=\"70.5\" y=\"30.5\"/><use xlink:href=\"#white\" x=\"90.5\" y=\"30.5\"/><use xlink:href=\"#black\" x=\"110.5\" y=\"30.5\"/><use xlink:href=\"#black\" x=\"130.5\" y=\"30.5\"/><use xlink:href=\"#white\" x=\"150.5\" y=\"30.5\"/><use xlink:href=\"#black\" x=\"50.5\" y=\"50.5\"/><use xlink:href=\"#black\" x=\"70.5\" y=\"50.5\"/><use xlink:href=\"#black\" x=\"90.5\" y=\"50.5\"/><use xlink:href=\"#black\" x=\"110.5\" y=\"50.5\"/><use xlink:href=\"#black\" x=\"130.5\" y=\"50.5\"/><use xlink:href=\"#white\" x=\"150.5\" y=\"50.5\"/><use xlink:href=\"#white\" x=\"70.5\" y=\"70.5\"/><use xlink:href=\"#white\" x=\"90.5\" y=\"70.5\"/><use xlink:href=\"#black\" x=\"110.5\" y=\"70.5\"/><use xlink:href=\"#white\" x=\"130.5\" y=\"70.5\"/><use xlink:href=\"#white\" x=\"150.5\" y=\"70.5\"/><use xlink:href=\"#white\" x=\"50.5\" y=\"90.5\"/><use xlink:href=\"#white\" x=\"70.5\" y=\"90.5\"/><use xlink:href=\"#white\" x=\"90.5\" y=\"90.5\"/><use xlink:href=\"#black\" x=\"110.5\" y=\"90.5\"/><use xlink:href=\"#white\" x=\"130.5\" y=\"90.5\"/><use xlink:href=\"#white\" x=\"150.5\" y=\"90.5\"/><use xlink:href=\"#white\" x=\"110.5\" y=\"110.5\"/><use xlink:href=\"#white\" x=\"130.5\" y=\"110.5\"/><use xlink:href=\"#white\" x=\"150.5\" y=\"110.5\"/><use xlink:href=\"#white\" x=\"130.5\" y=\"130.5\"/><use xlink:href=\"#white\" x=\"150.5\" y=\"130.5\"/><use xlink:href=\"#white\" x=\"150.5\" y=\"150.5\"/></svg>",
            "text/plain": [
              "<IPython.core.display.SVG object>"
            ]
          },
          "metadata": {},
          "output_type": "display_data"
        },
        {
          "name": "stdout",
          "output_type": "stream",
          "text": [
            "c4\n",
            "31: black\n"
          ]
        },
        {
          "data": {
            "image/svg+xml": "<svg xmlns=\"http://www.w3.org/2000/svg\" xmlns:xlink=\"http://www.w3.org/1999/xlink\" version=\"1.1\" width=\"215.0\" height=\"215.0\" viewBox=\"0 0 172 172\"><defs><g id=\"black\"><circle cx=\"10\" cy=\"10\" r=\"8.5\" fill=\"black\"/></g><g id=\"white\"><circle cx=\"10\" cy=\"10\" r=\"8.5\" fill=\"white\"/></g></defs><rect fill=\"green\" height=\"161\" width=\"161\" x=\"10\" y=\"10\"/><rect x=\"50.5\" y=\"70.5\" width=\"20\" height=\"20\" fill=\"#8bbf83\"/><g stroke=\"black\"><rect width=\"161\" height=\"161\" stroke-width=\"1.5\" fill=\"none\" x=\"10\" y=\"10\"/><line stroke-width=\"1.0\" x1=\"10.5\" x2=\"170.5\" y1=\"30.5\" y2=\"30.5\"/><line stroke-width=\"1.0\" x1=\"10.5\" x2=\"170.5\" y1=\"50.5\" y2=\"50.5\"/><line stroke-width=\"1.0\" x1=\"10.5\" x2=\"170.5\" y1=\"70.5\" y2=\"70.5\"/><line stroke-width=\"1.0\" x1=\"10.5\" x2=\"170.5\" y1=\"90.5\" y2=\"90.5\"/><line stroke-width=\"1.0\" x1=\"10.5\" x2=\"170.5\" y1=\"110.5\" y2=\"110.5\"/><line stroke-width=\"1.0\" x1=\"10.5\" x2=\"170.5\" y1=\"130.5\" y2=\"130.5\"/><line stroke-width=\"1.0\" x1=\"10.5\" x2=\"170.5\" y1=\"150.5\" y2=\"150.5\"/><line stroke-width=\"1.0\" x1=\"30.5\" x2=\"30.5\" y1=\"10.5\" y2=\"170.5\"/><line stroke-width=\"1.0\" x1=\"50.5\" x2=\"50.5\" y1=\"10.5\" y2=\"170.5\"/><line stroke-width=\"1.0\" x1=\"70.5\" x2=\"70.5\" y1=\"10.5\" y2=\"170.5\"/><line stroke-width=\"1.0\" x1=\"90.5\" x2=\"90.5\" y1=\"10.5\" y2=\"170.5\"/><line stroke-width=\"1.0\" x1=\"110.5\" x2=\"110.5\" y1=\"10.5\" y2=\"170.5\"/><line stroke-width=\"1.0\" x1=\"130.5\" x2=\"130.5\" y1=\"10.5\" y2=\"170.5\"/><line stroke-width=\"1.0\" x1=\"150.5\" x2=\"150.5\" y1=\"10.5\" y2=\"170.5\"/></g><g><text font-family=\"serif\" font-size=\"9.5\" text-anchor=\"middle\" x=\"20.5\" y=\"8\">a</text><text font-family=\"serif\" font-size=\"9.5\" text-anchor=\"middle\" x=\"40.5\" y=\"8\">b</text><text font-family=\"serif\" font-size=\"9.5\" text-anchor=\"middle\" x=\"60.5\" y=\"8\">c</text><text font-family=\"serif\" font-size=\"9.5\" text-anchor=\"middle\" x=\"80.5\" y=\"8\">d</text><text font-family=\"serif\" font-size=\"9.5\" text-anchor=\"middle\" x=\"100.5\" y=\"8\">e</text><text font-family=\"serif\" font-size=\"9.5\" text-anchor=\"middle\" x=\"120.5\" y=\"8\">f</text><text font-family=\"serif\" font-size=\"9.5\" text-anchor=\"middle\" x=\"140.5\" y=\"8\">g</text><text font-family=\"serif\" font-size=\"9.5\" text-anchor=\"middle\" x=\"160.5\" y=\"8\">h</text><text font-family=\"serif\" font-size=\"9.5\" x=\"2.5\" y=\"23.5\">1</text><text font-family=\"serif\" font-size=\"9.5\" x=\"2.5\" y=\"43.5\">2</text><text font-family=\"serif\" font-size=\"9.5\" x=\"2.5\" y=\"63.5\">3</text><text font-family=\"serif\" font-size=\"9.5\" x=\"2.5\" y=\"83.5\">4</text><text font-family=\"serif\" font-size=\"9.5\" x=\"2.5\" y=\"103.5\">5</text><text font-family=\"serif\" font-size=\"9.5\" x=\"2.5\" y=\"123.5\">6</text><text font-family=\"serif\" font-size=\"9.5\" x=\"2.5\" y=\"143.5\">7</text><text font-family=\"serif\" font-size=\"9.5\" x=\"2.5\" y=\"163.5\">8</text></g><use xlink:href=\"#white\" x=\"70.5\" y=\"10.5\"/><use xlink:href=\"#black\" x=\"110.5\" y=\"10.5\"/><use xlink:href=\"#black\" x=\"130.5\" y=\"10.5\"/><use xlink:href=\"#black\" x=\"150.5\" y=\"10.5\"/><use xlink:href=\"#white\" x=\"50.5\" y=\"30.5\"/><use xlink:href=\"#white\" x=\"70.5\" y=\"30.5\"/><use xlink:href=\"#white\" x=\"90.5\" y=\"30.5\"/><use xlink:href=\"#black\" x=\"110.5\" y=\"30.5\"/><use xlink:href=\"#black\" x=\"130.5\" y=\"30.5\"/><use xlink:href=\"#white\" x=\"150.5\" y=\"30.5\"/><use xlink:href=\"#white\" x=\"50.5\" y=\"50.5\"/><use xlink:href=\"#white\" x=\"70.5\" y=\"50.5\"/><use xlink:href=\"#black\" x=\"90.5\" y=\"50.5\"/><use xlink:href=\"#black\" x=\"110.5\" y=\"50.5\"/><use xlink:href=\"#black\" x=\"130.5\" y=\"50.5\"/><use xlink:href=\"#white\" x=\"150.5\" y=\"50.5\"/><use xlink:href=\"#white\" x=\"50.5\" y=\"70.5\"/><use xlink:href=\"#white\" x=\"70.5\" y=\"70.5\"/><use xlink:href=\"#white\" x=\"90.5\" y=\"70.5\"/><use xlink:href=\"#black\" x=\"110.5\" y=\"70.5\"/><use xlink:href=\"#white\" x=\"130.5\" y=\"70.5\"/><use xlink:href=\"#white\" x=\"150.5\" y=\"70.5\"/><use xlink:href=\"#white\" x=\"50.5\" y=\"90.5\"/><use xlink:href=\"#white\" x=\"70.5\" y=\"90.5\"/><use xlink:href=\"#white\" x=\"90.5\" y=\"90.5\"/><use xlink:href=\"#black\" x=\"110.5\" y=\"90.5\"/><use xlink:href=\"#white\" x=\"130.5\" y=\"90.5\"/><use xlink:href=\"#white\" x=\"150.5\" y=\"90.5\"/><use xlink:href=\"#white\" x=\"110.5\" y=\"110.5\"/><use xlink:href=\"#white\" x=\"130.5\" y=\"110.5\"/><use xlink:href=\"#white\" x=\"150.5\" y=\"110.5\"/><use xlink:href=\"#white\" x=\"130.5\" y=\"130.5\"/><use xlink:href=\"#white\" x=\"150.5\" y=\"130.5\"/><use xlink:href=\"#white\" x=\"150.5\" y=\"150.5\"/></svg>",
            "text/plain": [
              "<IPython.core.display.SVG object>"
            ]
          },
          "metadata": {},
          "output_type": "display_data"
        },
        {
          "name": "stdout",
          "output_type": "stream",
          "text": [
            "e1\n",
            "32: white\n"
          ]
        },
        {
          "data": {
            "image/svg+xml": "<svg xmlns=\"http://www.w3.org/2000/svg\" xmlns:xlink=\"http://www.w3.org/1999/xlink\" version=\"1.1\" width=\"215.0\" height=\"215.0\" viewBox=\"0 0 172 172\"><defs><g id=\"black\"><circle cx=\"10\" cy=\"10\" r=\"8.5\" fill=\"black\"/></g><g id=\"white\"><circle cx=\"10\" cy=\"10\" r=\"8.5\" fill=\"white\"/></g></defs><rect fill=\"green\" height=\"161\" width=\"161\" x=\"10\" y=\"10\"/><rect x=\"90.5\" y=\"10.5\" width=\"20\" height=\"20\" fill=\"#8bbf83\"/><g stroke=\"black\"><rect width=\"161\" height=\"161\" stroke-width=\"1.5\" fill=\"none\" x=\"10\" y=\"10\"/><line stroke-width=\"1.0\" x1=\"10.5\" x2=\"170.5\" y1=\"30.5\" y2=\"30.5\"/><line stroke-width=\"1.0\" x1=\"10.5\" x2=\"170.5\" y1=\"50.5\" y2=\"50.5\"/><line stroke-width=\"1.0\" x1=\"10.5\" x2=\"170.5\" y1=\"70.5\" y2=\"70.5\"/><line stroke-width=\"1.0\" x1=\"10.5\" x2=\"170.5\" y1=\"90.5\" y2=\"90.5\"/><line stroke-width=\"1.0\" x1=\"10.5\" x2=\"170.5\" y1=\"110.5\" y2=\"110.5\"/><line stroke-width=\"1.0\" x1=\"10.5\" x2=\"170.5\" y1=\"130.5\" y2=\"130.5\"/><line stroke-width=\"1.0\" x1=\"10.5\" x2=\"170.5\" y1=\"150.5\" y2=\"150.5\"/><line stroke-width=\"1.0\" x1=\"30.5\" x2=\"30.5\" y1=\"10.5\" y2=\"170.5\"/><line stroke-width=\"1.0\" x1=\"50.5\" x2=\"50.5\" y1=\"10.5\" y2=\"170.5\"/><line stroke-width=\"1.0\" x1=\"70.5\" x2=\"70.5\" y1=\"10.5\" y2=\"170.5\"/><line stroke-width=\"1.0\" x1=\"90.5\" x2=\"90.5\" y1=\"10.5\" y2=\"170.5\"/><line stroke-width=\"1.0\" x1=\"110.5\" x2=\"110.5\" y1=\"10.5\" y2=\"170.5\"/><line stroke-width=\"1.0\" x1=\"130.5\" x2=\"130.5\" y1=\"10.5\" y2=\"170.5\"/><line stroke-width=\"1.0\" x1=\"150.5\" x2=\"150.5\" y1=\"10.5\" y2=\"170.5\"/></g><g><text font-family=\"serif\" font-size=\"9.5\" text-anchor=\"middle\" x=\"20.5\" y=\"8\">a</text><text font-family=\"serif\" font-size=\"9.5\" text-anchor=\"middle\" x=\"40.5\" y=\"8\">b</text><text font-family=\"serif\" font-size=\"9.5\" text-anchor=\"middle\" x=\"60.5\" y=\"8\">c</text><text font-family=\"serif\" font-size=\"9.5\" text-anchor=\"middle\" x=\"80.5\" y=\"8\">d</text><text font-family=\"serif\" font-size=\"9.5\" text-anchor=\"middle\" x=\"100.5\" y=\"8\">e</text><text font-family=\"serif\" font-size=\"9.5\" text-anchor=\"middle\" x=\"120.5\" y=\"8\">f</text><text font-family=\"serif\" font-size=\"9.5\" text-anchor=\"middle\" x=\"140.5\" y=\"8\">g</text><text font-family=\"serif\" font-size=\"9.5\" text-anchor=\"middle\" x=\"160.5\" y=\"8\">h</text><text font-family=\"serif\" font-size=\"9.5\" x=\"2.5\" y=\"23.5\">1</text><text font-family=\"serif\" font-size=\"9.5\" x=\"2.5\" y=\"43.5\">2</text><text font-family=\"serif\" font-size=\"9.5\" x=\"2.5\" y=\"63.5\">3</text><text font-family=\"serif\" font-size=\"9.5\" x=\"2.5\" y=\"83.5\">4</text><text font-family=\"serif\" font-size=\"9.5\" x=\"2.5\" y=\"103.5\">5</text><text font-family=\"serif\" font-size=\"9.5\" x=\"2.5\" y=\"123.5\">6</text><text font-family=\"serif\" font-size=\"9.5\" x=\"2.5\" y=\"143.5\">7</text><text font-family=\"serif\" font-size=\"9.5\" x=\"2.5\" y=\"163.5\">8</text></g><use xlink:href=\"#white\" x=\"70.5\" y=\"10.5\"/><use xlink:href=\"#black\" x=\"90.5\" y=\"10.5\"/><use xlink:href=\"#black\" x=\"110.5\" y=\"10.5\"/><use xlink:href=\"#black\" x=\"130.5\" y=\"10.5\"/><use xlink:href=\"#black\" x=\"150.5\" y=\"10.5\"/><use xlink:href=\"#white\" x=\"50.5\" y=\"30.5\"/><use xlink:href=\"#white\" x=\"70.5\" y=\"30.5\"/><use xlink:href=\"#black\" x=\"90.5\" y=\"30.5\"/><use xlink:href=\"#black\" x=\"110.5\" y=\"30.5\"/><use xlink:href=\"#black\" x=\"130.5\" y=\"30.5\"/><use xlink:href=\"#white\" x=\"150.5\" y=\"30.5\"/><use xlink:href=\"#white\" x=\"50.5\" y=\"50.5\"/><use xlink:href=\"#white\" x=\"70.5\" y=\"50.5\"/><use xlink:href=\"#black\" x=\"90.5\" y=\"50.5\"/><use xlink:href=\"#black\" x=\"110.5\" y=\"50.5\"/><use xlink:href=\"#black\" x=\"130.5\" y=\"50.5\"/><use xlink:href=\"#white\" x=\"150.5\" y=\"50.5\"/><use xlink:href=\"#white\" x=\"50.5\" y=\"70.5\"/><use xlink:href=\"#white\" x=\"70.5\" y=\"70.5\"/><use xlink:href=\"#white\" x=\"90.5\" y=\"70.5\"/><use xlink:href=\"#black\" x=\"110.5\" y=\"70.5\"/><use xlink:href=\"#white\" x=\"130.5\" y=\"70.5\"/><use xlink:href=\"#white\" x=\"150.5\" y=\"70.5\"/><use xlink:href=\"#white\" x=\"50.5\" y=\"90.5\"/><use xlink:href=\"#white\" x=\"70.5\" y=\"90.5\"/><use xlink:href=\"#white\" x=\"90.5\" y=\"90.5\"/><use xlink:href=\"#black\" x=\"110.5\" y=\"90.5\"/><use xlink:href=\"#white\" x=\"130.5\" y=\"90.5\"/><use xlink:href=\"#white\" x=\"150.5\" y=\"90.5\"/><use xlink:href=\"#white\" x=\"110.5\" y=\"110.5\"/><use xlink:href=\"#white\" x=\"130.5\" y=\"110.5\"/><use xlink:href=\"#white\" x=\"150.5\" y=\"110.5\"/><use xlink:href=\"#white\" x=\"130.5\" y=\"130.5\"/><use xlink:href=\"#white\" x=\"150.5\" y=\"130.5\"/><use xlink:href=\"#white\" x=\"150.5\" y=\"150.5\"/></svg>",
            "text/plain": [
              "<IPython.core.display.SVG object>"
            ]
          },
          "metadata": {},
          "output_type": "display_data"
        },
        {
          "name": "stdout",
          "output_type": "stream",
          "text": [
            "e6\n",
            "33: black\n"
          ]
        },
        {
          "data": {
            "image/svg+xml": "<svg xmlns=\"http://www.w3.org/2000/svg\" xmlns:xlink=\"http://www.w3.org/1999/xlink\" version=\"1.1\" width=\"215.0\" height=\"215.0\" viewBox=\"0 0 172 172\"><defs><g id=\"black\"><circle cx=\"10\" cy=\"10\" r=\"8.5\" fill=\"black\"/></g><g id=\"white\"><circle cx=\"10\" cy=\"10\" r=\"8.5\" fill=\"white\"/></g></defs><rect fill=\"green\" height=\"161\" width=\"161\" x=\"10\" y=\"10\"/><rect x=\"90.5\" y=\"110.5\" width=\"20\" height=\"20\" fill=\"#8bbf83\"/><g stroke=\"black\"><rect width=\"161\" height=\"161\" stroke-width=\"1.5\" fill=\"none\" x=\"10\" y=\"10\"/><line stroke-width=\"1.0\" x1=\"10.5\" x2=\"170.5\" y1=\"30.5\" y2=\"30.5\"/><line stroke-width=\"1.0\" x1=\"10.5\" x2=\"170.5\" y1=\"50.5\" y2=\"50.5\"/><line stroke-width=\"1.0\" x1=\"10.5\" x2=\"170.5\" y1=\"70.5\" y2=\"70.5\"/><line stroke-width=\"1.0\" x1=\"10.5\" x2=\"170.5\" y1=\"90.5\" y2=\"90.5\"/><line stroke-width=\"1.0\" x1=\"10.5\" x2=\"170.5\" y1=\"110.5\" y2=\"110.5\"/><line stroke-width=\"1.0\" x1=\"10.5\" x2=\"170.5\" y1=\"130.5\" y2=\"130.5\"/><line stroke-width=\"1.0\" x1=\"10.5\" x2=\"170.5\" y1=\"150.5\" y2=\"150.5\"/><line stroke-width=\"1.0\" x1=\"30.5\" x2=\"30.5\" y1=\"10.5\" y2=\"170.5\"/><line stroke-width=\"1.0\" x1=\"50.5\" x2=\"50.5\" y1=\"10.5\" y2=\"170.5\"/><line stroke-width=\"1.0\" x1=\"70.5\" x2=\"70.5\" y1=\"10.5\" y2=\"170.5\"/><line stroke-width=\"1.0\" x1=\"90.5\" x2=\"90.5\" y1=\"10.5\" y2=\"170.5\"/><line stroke-width=\"1.0\" x1=\"110.5\" x2=\"110.5\" y1=\"10.5\" y2=\"170.5\"/><line stroke-width=\"1.0\" x1=\"130.5\" x2=\"130.5\" y1=\"10.5\" y2=\"170.5\"/><line stroke-width=\"1.0\" x1=\"150.5\" x2=\"150.5\" y1=\"10.5\" y2=\"170.5\"/></g><g><text font-family=\"serif\" font-size=\"9.5\" text-anchor=\"middle\" x=\"20.5\" y=\"8\">a</text><text font-family=\"serif\" font-size=\"9.5\" text-anchor=\"middle\" x=\"40.5\" y=\"8\">b</text><text font-family=\"serif\" font-size=\"9.5\" text-anchor=\"middle\" x=\"60.5\" y=\"8\">c</text><text font-family=\"serif\" font-size=\"9.5\" text-anchor=\"middle\" x=\"80.5\" y=\"8\">d</text><text font-family=\"serif\" font-size=\"9.5\" text-anchor=\"middle\" x=\"100.5\" y=\"8\">e</text><text font-family=\"serif\" font-size=\"9.5\" text-anchor=\"middle\" x=\"120.5\" y=\"8\">f</text><text font-family=\"serif\" font-size=\"9.5\" text-anchor=\"middle\" x=\"140.5\" y=\"8\">g</text><text font-family=\"serif\" font-size=\"9.5\" text-anchor=\"middle\" x=\"160.5\" y=\"8\">h</text><text font-family=\"serif\" font-size=\"9.5\" x=\"2.5\" y=\"23.5\">1</text><text font-family=\"serif\" font-size=\"9.5\" x=\"2.5\" y=\"43.5\">2</text><text font-family=\"serif\" font-size=\"9.5\" x=\"2.5\" y=\"63.5\">3</text><text font-family=\"serif\" font-size=\"9.5\" x=\"2.5\" y=\"83.5\">4</text><text font-family=\"serif\" font-size=\"9.5\" x=\"2.5\" y=\"103.5\">5</text><text font-family=\"serif\" font-size=\"9.5\" x=\"2.5\" y=\"123.5\">6</text><text font-family=\"serif\" font-size=\"9.5\" x=\"2.5\" y=\"143.5\">7</text><text font-family=\"serif\" font-size=\"9.5\" x=\"2.5\" y=\"163.5\">8</text></g><use xlink:href=\"#white\" x=\"70.5\" y=\"10.5\"/><use xlink:href=\"#black\" x=\"90.5\" y=\"10.5\"/><use xlink:href=\"#black\" x=\"110.5\" y=\"10.5\"/><use xlink:href=\"#black\" x=\"130.5\" y=\"10.5\"/><use xlink:href=\"#black\" x=\"150.5\" y=\"10.5\"/><use xlink:href=\"#white\" x=\"50.5\" y=\"30.5\"/><use xlink:href=\"#white\" x=\"70.5\" y=\"30.5\"/><use xlink:href=\"#black\" x=\"90.5\" y=\"30.5\"/><use xlink:href=\"#black\" x=\"110.5\" y=\"30.5\"/><use xlink:href=\"#black\" x=\"130.5\" y=\"30.5\"/><use xlink:href=\"#white\" x=\"150.5\" y=\"30.5\"/><use xlink:href=\"#white\" x=\"50.5\" y=\"50.5\"/><use xlink:href=\"#white\" x=\"70.5\" y=\"50.5\"/><use xlink:href=\"#black\" x=\"90.5\" y=\"50.5\"/><use xlink:href=\"#black\" x=\"110.5\" y=\"50.5\"/><use xlink:href=\"#black\" x=\"130.5\" y=\"50.5\"/><use xlink:href=\"#white\" x=\"150.5\" y=\"50.5\"/><use xlink:href=\"#white\" x=\"50.5\" y=\"70.5\"/><use xlink:href=\"#white\" x=\"70.5\" y=\"70.5\"/><use xlink:href=\"#white\" x=\"90.5\" y=\"70.5\"/><use xlink:href=\"#black\" x=\"110.5\" y=\"70.5\"/><use xlink:href=\"#white\" x=\"130.5\" y=\"70.5\"/><use xlink:href=\"#white\" x=\"150.5\" y=\"70.5\"/><use xlink:href=\"#white\" x=\"50.5\" y=\"90.5\"/><use xlink:href=\"#white\" x=\"70.5\" y=\"90.5\"/><use xlink:href=\"#white\" x=\"90.5\" y=\"90.5\"/><use xlink:href=\"#white\" x=\"110.5\" y=\"90.5\"/><use xlink:href=\"#white\" x=\"130.5\" y=\"90.5\"/><use xlink:href=\"#white\" x=\"150.5\" y=\"90.5\"/><use xlink:href=\"#white\" x=\"90.5\" y=\"110.5\"/><use xlink:href=\"#white\" x=\"110.5\" y=\"110.5\"/><use xlink:href=\"#white\" x=\"130.5\" y=\"110.5\"/><use xlink:href=\"#white\" x=\"150.5\" y=\"110.5\"/><use xlink:href=\"#white\" x=\"130.5\" y=\"130.5\"/><use xlink:href=\"#white\" x=\"150.5\" y=\"130.5\"/><use xlink:href=\"#white\" x=\"150.5\" y=\"150.5\"/></svg>",
            "text/plain": [
              "<IPython.core.display.SVG object>"
            ]
          },
          "metadata": {},
          "output_type": "display_data"
        },
        {
          "name": "stdout",
          "output_type": "stream",
          "text": [
            "e7\n",
            "34: white\n"
          ]
        },
        {
          "data": {
            "image/svg+xml": "<svg xmlns=\"http://www.w3.org/2000/svg\" xmlns:xlink=\"http://www.w3.org/1999/xlink\" version=\"1.1\" width=\"215.0\" height=\"215.0\" viewBox=\"0 0 172 172\"><defs><g id=\"black\"><circle cx=\"10\" cy=\"10\" r=\"8.5\" fill=\"black\"/></g><g id=\"white\"><circle cx=\"10\" cy=\"10\" r=\"8.5\" fill=\"white\"/></g></defs><rect fill=\"green\" height=\"161\" width=\"161\" x=\"10\" y=\"10\"/><rect x=\"90.5\" y=\"130.5\" width=\"20\" height=\"20\" fill=\"#8bbf83\"/><g stroke=\"black\"><rect width=\"161\" height=\"161\" stroke-width=\"1.5\" fill=\"none\" x=\"10\" y=\"10\"/><line stroke-width=\"1.0\" x1=\"10.5\" x2=\"170.5\" y1=\"30.5\" y2=\"30.5\"/><line stroke-width=\"1.0\" x1=\"10.5\" x2=\"170.5\" y1=\"50.5\" y2=\"50.5\"/><line stroke-width=\"1.0\" x1=\"10.5\" x2=\"170.5\" y1=\"70.5\" y2=\"70.5\"/><line stroke-width=\"1.0\" x1=\"10.5\" x2=\"170.5\" y1=\"90.5\" y2=\"90.5\"/><line stroke-width=\"1.0\" x1=\"10.5\" x2=\"170.5\" y1=\"110.5\" y2=\"110.5\"/><line stroke-width=\"1.0\" x1=\"10.5\" x2=\"170.5\" y1=\"130.5\" y2=\"130.5\"/><line stroke-width=\"1.0\" x1=\"10.5\" x2=\"170.5\" y1=\"150.5\" y2=\"150.5\"/><line stroke-width=\"1.0\" x1=\"30.5\" x2=\"30.5\" y1=\"10.5\" y2=\"170.5\"/><line stroke-width=\"1.0\" x1=\"50.5\" x2=\"50.5\" y1=\"10.5\" y2=\"170.5\"/><line stroke-width=\"1.0\" x1=\"70.5\" x2=\"70.5\" y1=\"10.5\" y2=\"170.5\"/><line stroke-width=\"1.0\" x1=\"90.5\" x2=\"90.5\" y1=\"10.5\" y2=\"170.5\"/><line stroke-width=\"1.0\" x1=\"110.5\" x2=\"110.5\" y1=\"10.5\" y2=\"170.5\"/><line stroke-width=\"1.0\" x1=\"130.5\" x2=\"130.5\" y1=\"10.5\" y2=\"170.5\"/><line stroke-width=\"1.0\" x1=\"150.5\" x2=\"150.5\" y1=\"10.5\" y2=\"170.5\"/></g><g><text font-family=\"serif\" font-size=\"9.5\" text-anchor=\"middle\" x=\"20.5\" y=\"8\">a</text><text font-family=\"serif\" font-size=\"9.5\" text-anchor=\"middle\" x=\"40.5\" y=\"8\">b</text><text font-family=\"serif\" font-size=\"9.5\" text-anchor=\"middle\" x=\"60.5\" y=\"8\">c</text><text font-family=\"serif\" font-size=\"9.5\" text-anchor=\"middle\" x=\"80.5\" y=\"8\">d</text><text font-family=\"serif\" font-size=\"9.5\" text-anchor=\"middle\" x=\"100.5\" y=\"8\">e</text><text font-family=\"serif\" font-size=\"9.5\" text-anchor=\"middle\" x=\"120.5\" y=\"8\">f</text><text font-family=\"serif\" font-size=\"9.5\" text-anchor=\"middle\" x=\"140.5\" y=\"8\">g</text><text font-family=\"serif\" font-size=\"9.5\" text-anchor=\"middle\" x=\"160.5\" y=\"8\">h</text><text font-family=\"serif\" font-size=\"9.5\" x=\"2.5\" y=\"23.5\">1</text><text font-family=\"serif\" font-size=\"9.5\" x=\"2.5\" y=\"43.5\">2</text><text font-family=\"serif\" font-size=\"9.5\" x=\"2.5\" y=\"63.5\">3</text><text font-family=\"serif\" font-size=\"9.5\" x=\"2.5\" y=\"83.5\">4</text><text font-family=\"serif\" font-size=\"9.5\" x=\"2.5\" y=\"103.5\">5</text><text font-family=\"serif\" font-size=\"9.5\" x=\"2.5\" y=\"123.5\">6</text><text font-family=\"serif\" font-size=\"9.5\" x=\"2.5\" y=\"143.5\">7</text><text font-family=\"serif\" font-size=\"9.5\" x=\"2.5\" y=\"163.5\">8</text></g><use xlink:href=\"#white\" x=\"70.5\" y=\"10.5\"/><use xlink:href=\"#black\" x=\"90.5\" y=\"10.5\"/><use xlink:href=\"#black\" x=\"110.5\" y=\"10.5\"/><use xlink:href=\"#black\" x=\"130.5\" y=\"10.5\"/><use xlink:href=\"#black\" x=\"150.5\" y=\"10.5\"/><use xlink:href=\"#white\" x=\"50.5\" y=\"30.5\"/><use xlink:href=\"#white\" x=\"70.5\" y=\"30.5\"/><use xlink:href=\"#black\" x=\"90.5\" y=\"30.5\"/><use xlink:href=\"#black\" x=\"110.5\" y=\"30.5\"/><use xlink:href=\"#black\" x=\"130.5\" y=\"30.5\"/><use xlink:href=\"#white\" x=\"150.5\" y=\"30.5\"/><use xlink:href=\"#white\" x=\"50.5\" y=\"50.5\"/><use xlink:href=\"#white\" x=\"70.5\" y=\"50.5\"/><use xlink:href=\"#black\" x=\"90.5\" y=\"50.5\"/><use xlink:href=\"#black\" x=\"110.5\" y=\"50.5\"/><use xlink:href=\"#black\" x=\"130.5\" y=\"50.5\"/><use xlink:href=\"#white\" x=\"150.5\" y=\"50.5\"/><use xlink:href=\"#white\" x=\"50.5\" y=\"70.5\"/><use xlink:href=\"#white\" x=\"70.5\" y=\"70.5\"/><use xlink:href=\"#black\" x=\"90.5\" y=\"70.5\"/><use xlink:href=\"#black\" x=\"110.5\" y=\"70.5\"/><use xlink:href=\"#white\" x=\"130.5\" y=\"70.5\"/><use xlink:href=\"#white\" x=\"150.5\" y=\"70.5\"/><use xlink:href=\"#white\" x=\"50.5\" y=\"90.5\"/><use xlink:href=\"#white\" x=\"70.5\" y=\"90.5\"/><use xlink:href=\"#black\" x=\"90.5\" y=\"90.5\"/><use xlink:href=\"#white\" x=\"110.5\" y=\"90.5\"/><use xlink:href=\"#white\" x=\"130.5\" y=\"90.5\"/><use xlink:href=\"#white\" x=\"150.5\" y=\"90.5\"/><use xlink:href=\"#black\" x=\"90.5\" y=\"110.5\"/><use xlink:href=\"#white\" x=\"110.5\" y=\"110.5\"/><use xlink:href=\"#white\" x=\"130.5\" y=\"110.5\"/><use xlink:href=\"#white\" x=\"150.5\" y=\"110.5\"/><use xlink:href=\"#black\" x=\"90.5\" y=\"130.5\"/><use xlink:href=\"#white\" x=\"130.5\" y=\"130.5\"/><use xlink:href=\"#white\" x=\"150.5\" y=\"130.5\"/><use xlink:href=\"#white\" x=\"150.5\" y=\"150.5\"/></svg>",
            "text/plain": [
              "<IPython.core.display.SVG object>"
            ]
          },
          "metadata": {},
          "output_type": "display_data"
        },
        {
          "name": "stdout",
          "output_type": "stream",
          "text": [
            "d7\n",
            "35: black\n"
          ]
        },
        {
          "data": {
            "image/svg+xml": "<svg xmlns=\"http://www.w3.org/2000/svg\" xmlns:xlink=\"http://www.w3.org/1999/xlink\" version=\"1.1\" width=\"215.0\" height=\"215.0\" viewBox=\"0 0 172 172\"><defs><g id=\"black\"><circle cx=\"10\" cy=\"10\" r=\"8.5\" fill=\"black\"/></g><g id=\"white\"><circle cx=\"10\" cy=\"10\" r=\"8.5\" fill=\"white\"/></g></defs><rect fill=\"green\" height=\"161\" width=\"161\" x=\"10\" y=\"10\"/><rect x=\"70.5\" y=\"130.5\" width=\"20\" height=\"20\" fill=\"#8bbf83\"/><g stroke=\"black\"><rect width=\"161\" height=\"161\" stroke-width=\"1.5\" fill=\"none\" x=\"10\" y=\"10\"/><line stroke-width=\"1.0\" x1=\"10.5\" x2=\"170.5\" y1=\"30.5\" y2=\"30.5\"/><line stroke-width=\"1.0\" x1=\"10.5\" x2=\"170.5\" y1=\"50.5\" y2=\"50.5\"/><line stroke-width=\"1.0\" x1=\"10.5\" x2=\"170.5\" y1=\"70.5\" y2=\"70.5\"/><line stroke-width=\"1.0\" x1=\"10.5\" x2=\"170.5\" y1=\"90.5\" y2=\"90.5\"/><line stroke-width=\"1.0\" x1=\"10.5\" x2=\"170.5\" y1=\"110.5\" y2=\"110.5\"/><line stroke-width=\"1.0\" x1=\"10.5\" x2=\"170.5\" y1=\"130.5\" y2=\"130.5\"/><line stroke-width=\"1.0\" x1=\"10.5\" x2=\"170.5\" y1=\"150.5\" y2=\"150.5\"/><line stroke-width=\"1.0\" x1=\"30.5\" x2=\"30.5\" y1=\"10.5\" y2=\"170.5\"/><line stroke-width=\"1.0\" x1=\"50.5\" x2=\"50.5\" y1=\"10.5\" y2=\"170.5\"/><line stroke-width=\"1.0\" x1=\"70.5\" x2=\"70.5\" y1=\"10.5\" y2=\"170.5\"/><line stroke-width=\"1.0\" x1=\"90.5\" x2=\"90.5\" y1=\"10.5\" y2=\"170.5\"/><line stroke-width=\"1.0\" x1=\"110.5\" x2=\"110.5\" y1=\"10.5\" y2=\"170.5\"/><line stroke-width=\"1.0\" x1=\"130.5\" x2=\"130.5\" y1=\"10.5\" y2=\"170.5\"/><line stroke-width=\"1.0\" x1=\"150.5\" x2=\"150.5\" y1=\"10.5\" y2=\"170.5\"/></g><g><text font-family=\"serif\" font-size=\"9.5\" text-anchor=\"middle\" x=\"20.5\" y=\"8\">a</text><text font-family=\"serif\" font-size=\"9.5\" text-anchor=\"middle\" x=\"40.5\" y=\"8\">b</text><text font-family=\"serif\" font-size=\"9.5\" text-anchor=\"middle\" x=\"60.5\" y=\"8\">c</text><text font-family=\"serif\" font-size=\"9.5\" text-anchor=\"middle\" x=\"80.5\" y=\"8\">d</text><text font-family=\"serif\" font-size=\"9.5\" text-anchor=\"middle\" x=\"100.5\" y=\"8\">e</text><text font-family=\"serif\" font-size=\"9.5\" text-anchor=\"middle\" x=\"120.5\" y=\"8\">f</text><text font-family=\"serif\" font-size=\"9.5\" text-anchor=\"middle\" x=\"140.5\" y=\"8\">g</text><text font-family=\"serif\" font-size=\"9.5\" text-anchor=\"middle\" x=\"160.5\" y=\"8\">h</text><text font-family=\"serif\" font-size=\"9.5\" x=\"2.5\" y=\"23.5\">1</text><text font-family=\"serif\" font-size=\"9.5\" x=\"2.5\" y=\"43.5\">2</text><text font-family=\"serif\" font-size=\"9.5\" x=\"2.5\" y=\"63.5\">3</text><text font-family=\"serif\" font-size=\"9.5\" x=\"2.5\" y=\"83.5\">4</text><text font-family=\"serif\" font-size=\"9.5\" x=\"2.5\" y=\"103.5\">5</text><text font-family=\"serif\" font-size=\"9.5\" x=\"2.5\" y=\"123.5\">6</text><text font-family=\"serif\" font-size=\"9.5\" x=\"2.5\" y=\"143.5\">7</text><text font-family=\"serif\" font-size=\"9.5\" x=\"2.5\" y=\"163.5\">8</text></g><use xlink:href=\"#white\" x=\"70.5\" y=\"10.5\"/><use xlink:href=\"#black\" x=\"90.5\" y=\"10.5\"/><use xlink:href=\"#black\" x=\"110.5\" y=\"10.5\"/><use xlink:href=\"#black\" x=\"130.5\" y=\"10.5\"/><use xlink:href=\"#black\" x=\"150.5\" y=\"10.5\"/><use xlink:href=\"#white\" x=\"50.5\" y=\"30.5\"/><use xlink:href=\"#white\" x=\"70.5\" y=\"30.5\"/><use xlink:href=\"#black\" x=\"90.5\" y=\"30.5\"/><use xlink:href=\"#black\" x=\"110.5\" y=\"30.5\"/><use xlink:href=\"#black\" x=\"130.5\" y=\"30.5\"/><use xlink:href=\"#white\" x=\"150.5\" y=\"30.5\"/><use xlink:href=\"#white\" x=\"50.5\" y=\"50.5\"/><use xlink:href=\"#white\" x=\"70.5\" y=\"50.5\"/><use xlink:href=\"#black\" x=\"90.5\" y=\"50.5\"/><use xlink:href=\"#black\" x=\"110.5\" y=\"50.5\"/><use xlink:href=\"#black\" x=\"130.5\" y=\"50.5\"/><use xlink:href=\"#white\" x=\"150.5\" y=\"50.5\"/><use xlink:href=\"#white\" x=\"50.5\" y=\"70.5\"/><use xlink:href=\"#white\" x=\"70.5\" y=\"70.5\"/><use xlink:href=\"#black\" x=\"90.5\" y=\"70.5\"/><use xlink:href=\"#black\" x=\"110.5\" y=\"70.5\"/><use xlink:href=\"#white\" x=\"130.5\" y=\"70.5\"/><use xlink:href=\"#white\" x=\"150.5\" y=\"70.5\"/><use xlink:href=\"#white\" x=\"50.5\" y=\"90.5\"/><use xlink:href=\"#white\" x=\"70.5\" y=\"90.5\"/><use xlink:href=\"#black\" x=\"90.5\" y=\"90.5\"/><use xlink:href=\"#white\" x=\"110.5\" y=\"90.5\"/><use xlink:href=\"#white\" x=\"130.5\" y=\"90.5\"/><use xlink:href=\"#white\" x=\"150.5\" y=\"90.5\"/><use xlink:href=\"#white\" x=\"90.5\" y=\"110.5\"/><use xlink:href=\"#white\" x=\"110.5\" y=\"110.5\"/><use xlink:href=\"#white\" x=\"130.5\" y=\"110.5\"/><use xlink:href=\"#white\" x=\"150.5\" y=\"110.5\"/><use xlink:href=\"#white\" x=\"70.5\" y=\"130.5\"/><use xlink:href=\"#black\" x=\"90.5\" y=\"130.5\"/><use xlink:href=\"#white\" x=\"130.5\" y=\"130.5\"/><use xlink:href=\"#white\" x=\"150.5\" y=\"130.5\"/><use xlink:href=\"#white\" x=\"150.5\" y=\"150.5\"/></svg>",
            "text/plain": [
              "<IPython.core.display.SVG object>"
            ]
          },
          "metadata": {},
          "output_type": "display_data"
        },
        {
          "name": "stdout",
          "output_type": "stream",
          "text": [
            "f7\n",
            "36: white\n"
          ]
        },
        {
          "data": {
            "image/svg+xml": "<svg xmlns=\"http://www.w3.org/2000/svg\" xmlns:xlink=\"http://www.w3.org/1999/xlink\" version=\"1.1\" width=\"215.0\" height=\"215.0\" viewBox=\"0 0 172 172\"><defs><g id=\"black\"><circle cx=\"10\" cy=\"10\" r=\"8.5\" fill=\"black\"/></g><g id=\"white\"><circle cx=\"10\" cy=\"10\" r=\"8.5\" fill=\"white\"/></g></defs><rect fill=\"green\" height=\"161\" width=\"161\" x=\"10\" y=\"10\"/><rect x=\"110.5\" y=\"130.5\" width=\"20\" height=\"20\" fill=\"#8bbf83\"/><g stroke=\"black\"><rect width=\"161\" height=\"161\" stroke-width=\"1.5\" fill=\"none\" x=\"10\" y=\"10\"/><line stroke-width=\"1.0\" x1=\"10.5\" x2=\"170.5\" y1=\"30.5\" y2=\"30.5\"/><line stroke-width=\"1.0\" x1=\"10.5\" x2=\"170.5\" y1=\"50.5\" y2=\"50.5\"/><line stroke-width=\"1.0\" x1=\"10.5\" x2=\"170.5\" y1=\"70.5\" y2=\"70.5\"/><line stroke-width=\"1.0\" x1=\"10.5\" x2=\"170.5\" y1=\"90.5\" y2=\"90.5\"/><line stroke-width=\"1.0\" x1=\"10.5\" x2=\"170.5\" y1=\"110.5\" y2=\"110.5\"/><line stroke-width=\"1.0\" x1=\"10.5\" x2=\"170.5\" y1=\"130.5\" y2=\"130.5\"/><line stroke-width=\"1.0\" x1=\"10.5\" x2=\"170.5\" y1=\"150.5\" y2=\"150.5\"/><line stroke-width=\"1.0\" x1=\"30.5\" x2=\"30.5\" y1=\"10.5\" y2=\"170.5\"/><line stroke-width=\"1.0\" x1=\"50.5\" x2=\"50.5\" y1=\"10.5\" y2=\"170.5\"/><line stroke-width=\"1.0\" x1=\"70.5\" x2=\"70.5\" y1=\"10.5\" y2=\"170.5\"/><line stroke-width=\"1.0\" x1=\"90.5\" x2=\"90.5\" y1=\"10.5\" y2=\"170.5\"/><line stroke-width=\"1.0\" x1=\"110.5\" x2=\"110.5\" y1=\"10.5\" y2=\"170.5\"/><line stroke-width=\"1.0\" x1=\"130.5\" x2=\"130.5\" y1=\"10.5\" y2=\"170.5\"/><line stroke-width=\"1.0\" x1=\"150.5\" x2=\"150.5\" y1=\"10.5\" y2=\"170.5\"/></g><g><text font-family=\"serif\" font-size=\"9.5\" text-anchor=\"middle\" x=\"20.5\" y=\"8\">a</text><text font-family=\"serif\" font-size=\"9.5\" text-anchor=\"middle\" x=\"40.5\" y=\"8\">b</text><text font-family=\"serif\" font-size=\"9.5\" text-anchor=\"middle\" x=\"60.5\" y=\"8\">c</text><text font-family=\"serif\" font-size=\"9.5\" text-anchor=\"middle\" x=\"80.5\" y=\"8\">d</text><text font-family=\"serif\" font-size=\"9.5\" text-anchor=\"middle\" x=\"100.5\" y=\"8\">e</text><text font-family=\"serif\" font-size=\"9.5\" text-anchor=\"middle\" x=\"120.5\" y=\"8\">f</text><text font-family=\"serif\" font-size=\"9.5\" text-anchor=\"middle\" x=\"140.5\" y=\"8\">g</text><text font-family=\"serif\" font-size=\"9.5\" text-anchor=\"middle\" x=\"160.5\" y=\"8\">h</text><text font-family=\"serif\" font-size=\"9.5\" x=\"2.5\" y=\"23.5\">1</text><text font-family=\"serif\" font-size=\"9.5\" x=\"2.5\" y=\"43.5\">2</text><text font-family=\"serif\" font-size=\"9.5\" x=\"2.5\" y=\"63.5\">3</text><text font-family=\"serif\" font-size=\"9.5\" x=\"2.5\" y=\"83.5\">4</text><text font-family=\"serif\" font-size=\"9.5\" x=\"2.5\" y=\"103.5\">5</text><text font-family=\"serif\" font-size=\"9.5\" x=\"2.5\" y=\"123.5\">6</text><text font-family=\"serif\" font-size=\"9.5\" x=\"2.5\" y=\"143.5\">7</text><text font-family=\"serif\" font-size=\"9.5\" x=\"2.5\" y=\"163.5\">8</text></g><use xlink:href=\"#white\" x=\"70.5\" y=\"10.5\"/><use xlink:href=\"#black\" x=\"90.5\" y=\"10.5\"/><use xlink:href=\"#black\" x=\"110.5\" y=\"10.5\"/><use xlink:href=\"#black\" x=\"130.5\" y=\"10.5\"/><use xlink:href=\"#black\" x=\"150.5\" y=\"10.5\"/><use xlink:href=\"#white\" x=\"50.5\" y=\"30.5\"/><use xlink:href=\"#white\" x=\"70.5\" y=\"30.5\"/><use xlink:href=\"#black\" x=\"90.5\" y=\"30.5\"/><use xlink:href=\"#black\" x=\"110.5\" y=\"30.5\"/><use xlink:href=\"#black\" x=\"130.5\" y=\"30.5\"/><use xlink:href=\"#white\" x=\"150.5\" y=\"30.5\"/><use xlink:href=\"#white\" x=\"50.5\" y=\"50.5\"/><use xlink:href=\"#white\" x=\"70.5\" y=\"50.5\"/><use xlink:href=\"#black\" x=\"90.5\" y=\"50.5\"/><use xlink:href=\"#black\" x=\"110.5\" y=\"50.5\"/><use xlink:href=\"#black\" x=\"130.5\" y=\"50.5\"/><use xlink:href=\"#white\" x=\"150.5\" y=\"50.5\"/><use xlink:href=\"#white\" x=\"50.5\" y=\"70.5\"/><use xlink:href=\"#white\" x=\"70.5\" y=\"70.5\"/><use xlink:href=\"#black\" x=\"90.5\" y=\"70.5\"/><use xlink:href=\"#black\" x=\"110.5\" y=\"70.5\"/><use xlink:href=\"#white\" x=\"130.5\" y=\"70.5\"/><use xlink:href=\"#white\" x=\"150.5\" y=\"70.5\"/><use xlink:href=\"#white\" x=\"50.5\" y=\"90.5\"/><use xlink:href=\"#white\" x=\"70.5\" y=\"90.5\"/><use xlink:href=\"#black\" x=\"90.5\" y=\"90.5\"/><use xlink:href=\"#black\" x=\"110.5\" y=\"90.5\"/><use xlink:href=\"#white\" x=\"130.5\" y=\"90.5\"/><use xlink:href=\"#white\" x=\"150.5\" y=\"90.5\"/><use xlink:href=\"#white\" x=\"90.5\" y=\"110.5\"/><use xlink:href=\"#black\" x=\"110.5\" y=\"110.5\"/><use xlink:href=\"#white\" x=\"130.5\" y=\"110.5\"/><use xlink:href=\"#white\" x=\"150.5\" y=\"110.5\"/><use xlink:href=\"#white\" x=\"70.5\" y=\"130.5\"/><use xlink:href=\"#black\" x=\"90.5\" y=\"130.5\"/><use xlink:href=\"#black\" x=\"110.5\" y=\"130.5\"/><use xlink:href=\"#white\" x=\"130.5\" y=\"130.5\"/><use xlink:href=\"#white\" x=\"150.5\" y=\"130.5\"/><use xlink:href=\"#white\" x=\"150.5\" y=\"150.5\"/></svg>",
            "text/plain": [
              "<IPython.core.display.SVG object>"
            ]
          },
          "metadata": {},
          "output_type": "display_data"
        },
        {
          "name": "stdout",
          "output_type": "stream",
          "text": [
            "g8\n",
            "37: black\n"
          ]
        },
        {
          "data": {
            "image/svg+xml": "<svg xmlns=\"http://www.w3.org/2000/svg\" xmlns:xlink=\"http://www.w3.org/1999/xlink\" version=\"1.1\" width=\"215.0\" height=\"215.0\" viewBox=\"0 0 172 172\"><defs><g id=\"black\"><circle cx=\"10\" cy=\"10\" r=\"8.5\" fill=\"black\"/></g><g id=\"white\"><circle cx=\"10\" cy=\"10\" r=\"8.5\" fill=\"white\"/></g></defs><rect fill=\"green\" height=\"161\" width=\"161\" x=\"10\" y=\"10\"/><rect x=\"130.5\" y=\"150.5\" width=\"20\" height=\"20\" fill=\"#8bbf83\"/><g stroke=\"black\"><rect width=\"161\" height=\"161\" stroke-width=\"1.5\" fill=\"none\" x=\"10\" y=\"10\"/><line stroke-width=\"1.0\" x1=\"10.5\" x2=\"170.5\" y1=\"30.5\" y2=\"30.5\"/><line stroke-width=\"1.0\" x1=\"10.5\" x2=\"170.5\" y1=\"50.5\" y2=\"50.5\"/><line stroke-width=\"1.0\" x1=\"10.5\" x2=\"170.5\" y1=\"70.5\" y2=\"70.5\"/><line stroke-width=\"1.0\" x1=\"10.5\" x2=\"170.5\" y1=\"90.5\" y2=\"90.5\"/><line stroke-width=\"1.0\" x1=\"10.5\" x2=\"170.5\" y1=\"110.5\" y2=\"110.5\"/><line stroke-width=\"1.0\" x1=\"10.5\" x2=\"170.5\" y1=\"130.5\" y2=\"130.5\"/><line stroke-width=\"1.0\" x1=\"10.5\" x2=\"170.5\" y1=\"150.5\" y2=\"150.5\"/><line stroke-width=\"1.0\" x1=\"30.5\" x2=\"30.5\" y1=\"10.5\" y2=\"170.5\"/><line stroke-width=\"1.0\" x1=\"50.5\" x2=\"50.5\" y1=\"10.5\" y2=\"170.5\"/><line stroke-width=\"1.0\" x1=\"70.5\" x2=\"70.5\" y1=\"10.5\" y2=\"170.5\"/><line stroke-width=\"1.0\" x1=\"90.5\" x2=\"90.5\" y1=\"10.5\" y2=\"170.5\"/><line stroke-width=\"1.0\" x1=\"110.5\" x2=\"110.5\" y1=\"10.5\" y2=\"170.5\"/><line stroke-width=\"1.0\" x1=\"130.5\" x2=\"130.5\" y1=\"10.5\" y2=\"170.5\"/><line stroke-width=\"1.0\" x1=\"150.5\" x2=\"150.5\" y1=\"10.5\" y2=\"170.5\"/></g><g><text font-family=\"serif\" font-size=\"9.5\" text-anchor=\"middle\" x=\"20.5\" y=\"8\">a</text><text font-family=\"serif\" font-size=\"9.5\" text-anchor=\"middle\" x=\"40.5\" y=\"8\">b</text><text font-family=\"serif\" font-size=\"9.5\" text-anchor=\"middle\" x=\"60.5\" y=\"8\">c</text><text font-family=\"serif\" font-size=\"9.5\" text-anchor=\"middle\" x=\"80.5\" y=\"8\">d</text><text font-family=\"serif\" font-size=\"9.5\" text-anchor=\"middle\" x=\"100.5\" y=\"8\">e</text><text font-family=\"serif\" font-size=\"9.5\" text-anchor=\"middle\" x=\"120.5\" y=\"8\">f</text><text font-family=\"serif\" font-size=\"9.5\" text-anchor=\"middle\" x=\"140.5\" y=\"8\">g</text><text font-family=\"serif\" font-size=\"9.5\" text-anchor=\"middle\" x=\"160.5\" y=\"8\">h</text><text font-family=\"serif\" font-size=\"9.5\" x=\"2.5\" y=\"23.5\">1</text><text font-family=\"serif\" font-size=\"9.5\" x=\"2.5\" y=\"43.5\">2</text><text font-family=\"serif\" font-size=\"9.5\" x=\"2.5\" y=\"63.5\">3</text><text font-family=\"serif\" font-size=\"9.5\" x=\"2.5\" y=\"83.5\">4</text><text font-family=\"serif\" font-size=\"9.5\" x=\"2.5\" y=\"103.5\">5</text><text font-family=\"serif\" font-size=\"9.5\" x=\"2.5\" y=\"123.5\">6</text><text font-family=\"serif\" font-size=\"9.5\" x=\"2.5\" y=\"143.5\">7</text><text font-family=\"serif\" font-size=\"9.5\" x=\"2.5\" y=\"163.5\">8</text></g><use xlink:href=\"#white\" x=\"70.5\" y=\"10.5\"/><use xlink:href=\"#black\" x=\"90.5\" y=\"10.5\"/><use xlink:href=\"#black\" x=\"110.5\" y=\"10.5\"/><use xlink:href=\"#black\" x=\"130.5\" y=\"10.5\"/><use xlink:href=\"#black\" x=\"150.5\" y=\"10.5\"/><use xlink:href=\"#white\" x=\"50.5\" y=\"30.5\"/><use xlink:href=\"#white\" x=\"70.5\" y=\"30.5\"/><use xlink:href=\"#black\" x=\"90.5\" y=\"30.5\"/><use xlink:href=\"#black\" x=\"110.5\" y=\"30.5\"/><use xlink:href=\"#black\" x=\"130.5\" y=\"30.5\"/><use xlink:href=\"#white\" x=\"150.5\" y=\"30.5\"/><use xlink:href=\"#white\" x=\"50.5\" y=\"50.5\"/><use xlink:href=\"#white\" x=\"70.5\" y=\"50.5\"/><use xlink:href=\"#black\" x=\"90.5\" y=\"50.5\"/><use xlink:href=\"#black\" x=\"110.5\" y=\"50.5\"/><use xlink:href=\"#black\" x=\"130.5\" y=\"50.5\"/><use xlink:href=\"#white\" x=\"150.5\" y=\"50.5\"/><use xlink:href=\"#white\" x=\"50.5\" y=\"70.5\"/><use xlink:href=\"#white\" x=\"70.5\" y=\"70.5\"/><use xlink:href=\"#black\" x=\"90.5\" y=\"70.5\"/><use xlink:href=\"#black\" x=\"110.5\" y=\"70.5\"/><use xlink:href=\"#white\" x=\"130.5\" y=\"70.5\"/><use xlink:href=\"#white\" x=\"150.5\" y=\"70.5\"/><use xlink:href=\"#white\" x=\"50.5\" y=\"90.5\"/><use xlink:href=\"#white\" x=\"70.5\" y=\"90.5\"/><use xlink:href=\"#black\" x=\"90.5\" y=\"90.5\"/><use xlink:href=\"#black\" x=\"110.5\" y=\"90.5\"/><use xlink:href=\"#white\" x=\"130.5\" y=\"90.5\"/><use xlink:href=\"#white\" x=\"150.5\" y=\"90.5\"/><use xlink:href=\"#white\" x=\"90.5\" y=\"110.5\"/><use xlink:href=\"#black\" x=\"110.5\" y=\"110.5\"/><use xlink:href=\"#white\" x=\"130.5\" y=\"110.5\"/><use xlink:href=\"#white\" x=\"150.5\" y=\"110.5\"/><use xlink:href=\"#white\" x=\"70.5\" y=\"130.5\"/><use xlink:href=\"#black\" x=\"90.5\" y=\"130.5\"/><use xlink:href=\"#white\" x=\"110.5\" y=\"130.5\"/><use xlink:href=\"#white\" x=\"130.5\" y=\"130.5\"/><use xlink:href=\"#white\" x=\"150.5\" y=\"130.5\"/><use xlink:href=\"#white\" x=\"130.5\" y=\"150.5\"/><use xlink:href=\"#white\" x=\"150.5\" y=\"150.5\"/></svg>",
            "text/plain": [
              "<IPython.core.display.SVG object>"
            ]
          },
          "metadata": {},
          "output_type": "display_data"
        },
        {
          "name": "stdout",
          "output_type": "stream",
          "text": [
            "d6\n",
            "38: white\n"
          ]
        },
        {
          "data": {
            "image/svg+xml": "<svg xmlns=\"http://www.w3.org/2000/svg\" xmlns:xlink=\"http://www.w3.org/1999/xlink\" version=\"1.1\" width=\"215.0\" height=\"215.0\" viewBox=\"0 0 172 172\"><defs><g id=\"black\"><circle cx=\"10\" cy=\"10\" r=\"8.5\" fill=\"black\"/></g><g id=\"white\"><circle cx=\"10\" cy=\"10\" r=\"8.5\" fill=\"white\"/></g></defs><rect fill=\"green\" height=\"161\" width=\"161\" x=\"10\" y=\"10\"/><rect x=\"70.5\" y=\"110.5\" width=\"20\" height=\"20\" fill=\"#8bbf83\"/><g stroke=\"black\"><rect width=\"161\" height=\"161\" stroke-width=\"1.5\" fill=\"none\" x=\"10\" y=\"10\"/><line stroke-width=\"1.0\" x1=\"10.5\" x2=\"170.5\" y1=\"30.5\" y2=\"30.5\"/><line stroke-width=\"1.0\" x1=\"10.5\" x2=\"170.5\" y1=\"50.5\" y2=\"50.5\"/><line stroke-width=\"1.0\" x1=\"10.5\" x2=\"170.5\" y1=\"70.5\" y2=\"70.5\"/><line stroke-width=\"1.0\" x1=\"10.5\" x2=\"170.5\" y1=\"90.5\" y2=\"90.5\"/><line stroke-width=\"1.0\" x1=\"10.5\" x2=\"170.5\" y1=\"110.5\" y2=\"110.5\"/><line stroke-width=\"1.0\" x1=\"10.5\" x2=\"170.5\" y1=\"130.5\" y2=\"130.5\"/><line stroke-width=\"1.0\" x1=\"10.5\" x2=\"170.5\" y1=\"150.5\" y2=\"150.5\"/><line stroke-width=\"1.0\" x1=\"30.5\" x2=\"30.5\" y1=\"10.5\" y2=\"170.5\"/><line stroke-width=\"1.0\" x1=\"50.5\" x2=\"50.5\" y1=\"10.5\" y2=\"170.5\"/><line stroke-width=\"1.0\" x1=\"70.5\" x2=\"70.5\" y1=\"10.5\" y2=\"170.5\"/><line stroke-width=\"1.0\" x1=\"90.5\" x2=\"90.5\" y1=\"10.5\" y2=\"170.5\"/><line stroke-width=\"1.0\" x1=\"110.5\" x2=\"110.5\" y1=\"10.5\" y2=\"170.5\"/><line stroke-width=\"1.0\" x1=\"130.5\" x2=\"130.5\" y1=\"10.5\" y2=\"170.5\"/><line stroke-width=\"1.0\" x1=\"150.5\" x2=\"150.5\" y1=\"10.5\" y2=\"170.5\"/></g><g><text font-family=\"serif\" font-size=\"9.5\" text-anchor=\"middle\" x=\"20.5\" y=\"8\">a</text><text font-family=\"serif\" font-size=\"9.5\" text-anchor=\"middle\" x=\"40.5\" y=\"8\">b</text><text font-family=\"serif\" font-size=\"9.5\" text-anchor=\"middle\" x=\"60.5\" y=\"8\">c</text><text font-family=\"serif\" font-size=\"9.5\" text-anchor=\"middle\" x=\"80.5\" y=\"8\">d</text><text font-family=\"serif\" font-size=\"9.5\" text-anchor=\"middle\" x=\"100.5\" y=\"8\">e</text><text font-family=\"serif\" font-size=\"9.5\" text-anchor=\"middle\" x=\"120.5\" y=\"8\">f</text><text font-family=\"serif\" font-size=\"9.5\" text-anchor=\"middle\" x=\"140.5\" y=\"8\">g</text><text font-family=\"serif\" font-size=\"9.5\" text-anchor=\"middle\" x=\"160.5\" y=\"8\">h</text><text font-family=\"serif\" font-size=\"9.5\" x=\"2.5\" y=\"23.5\">1</text><text font-family=\"serif\" font-size=\"9.5\" x=\"2.5\" y=\"43.5\">2</text><text font-family=\"serif\" font-size=\"9.5\" x=\"2.5\" y=\"63.5\">3</text><text font-family=\"serif\" font-size=\"9.5\" x=\"2.5\" y=\"83.5\">4</text><text font-family=\"serif\" font-size=\"9.5\" x=\"2.5\" y=\"103.5\">5</text><text font-family=\"serif\" font-size=\"9.5\" x=\"2.5\" y=\"123.5\">6</text><text font-family=\"serif\" font-size=\"9.5\" x=\"2.5\" y=\"143.5\">7</text><text font-family=\"serif\" font-size=\"9.5\" x=\"2.5\" y=\"163.5\">8</text></g><use xlink:href=\"#white\" x=\"70.5\" y=\"10.5\"/><use xlink:href=\"#black\" x=\"90.5\" y=\"10.5\"/><use xlink:href=\"#black\" x=\"110.5\" y=\"10.5\"/><use xlink:href=\"#black\" x=\"130.5\" y=\"10.5\"/><use xlink:href=\"#black\" x=\"150.5\" y=\"10.5\"/><use xlink:href=\"#white\" x=\"50.5\" y=\"30.5\"/><use xlink:href=\"#white\" x=\"70.5\" y=\"30.5\"/><use xlink:href=\"#black\" x=\"90.5\" y=\"30.5\"/><use xlink:href=\"#black\" x=\"110.5\" y=\"30.5\"/><use xlink:href=\"#black\" x=\"130.5\" y=\"30.5\"/><use xlink:href=\"#white\" x=\"150.5\" y=\"30.5\"/><use xlink:href=\"#white\" x=\"50.5\" y=\"50.5\"/><use xlink:href=\"#white\" x=\"70.5\" y=\"50.5\"/><use xlink:href=\"#black\" x=\"90.5\" y=\"50.5\"/><use xlink:href=\"#black\" x=\"110.5\" y=\"50.5\"/><use xlink:href=\"#black\" x=\"130.5\" y=\"50.5\"/><use xlink:href=\"#white\" x=\"150.5\" y=\"50.5\"/><use xlink:href=\"#white\" x=\"50.5\" y=\"70.5\"/><use xlink:href=\"#white\" x=\"70.5\" y=\"70.5\"/><use xlink:href=\"#black\" x=\"90.5\" y=\"70.5\"/><use xlink:href=\"#black\" x=\"110.5\" y=\"70.5\"/><use xlink:href=\"#white\" x=\"130.5\" y=\"70.5\"/><use xlink:href=\"#white\" x=\"150.5\" y=\"70.5\"/><use xlink:href=\"#white\" x=\"50.5\" y=\"90.5\"/><use xlink:href=\"#white\" x=\"70.5\" y=\"90.5\"/><use xlink:href=\"#black\" x=\"90.5\" y=\"90.5\"/><use xlink:href=\"#black\" x=\"110.5\" y=\"90.5\"/><use xlink:href=\"#white\" x=\"130.5\" y=\"90.5\"/><use xlink:href=\"#white\" x=\"150.5\" y=\"90.5\"/><use xlink:href=\"#black\" x=\"70.5\" y=\"110.5\"/><use xlink:href=\"#black\" x=\"90.5\" y=\"110.5\"/><use xlink:href=\"#black\" x=\"110.5\" y=\"110.5\"/><use xlink:href=\"#white\" x=\"130.5\" y=\"110.5\"/><use xlink:href=\"#white\" x=\"150.5\" y=\"110.5\"/><use xlink:href=\"#white\" x=\"70.5\" y=\"130.5\"/><use xlink:href=\"#black\" x=\"90.5\" y=\"130.5\"/><use xlink:href=\"#white\" x=\"110.5\" y=\"130.5\"/><use xlink:href=\"#white\" x=\"130.5\" y=\"130.5\"/><use xlink:href=\"#white\" x=\"150.5\" y=\"130.5\"/><use xlink:href=\"#white\" x=\"130.5\" y=\"150.5\"/><use xlink:href=\"#white\" x=\"150.5\" y=\"150.5\"/></svg>",
            "text/plain": [
              "<IPython.core.display.SVG object>"
            ]
          },
          "metadata": {},
          "output_type": "display_data"
        },
        {
          "name": "stdout",
          "output_type": "stream",
          "text": [
            "c7\n",
            "39: black\n"
          ]
        },
        {
          "data": {
            "image/svg+xml": "<svg xmlns=\"http://www.w3.org/2000/svg\" xmlns:xlink=\"http://www.w3.org/1999/xlink\" version=\"1.1\" width=\"215.0\" height=\"215.0\" viewBox=\"0 0 172 172\"><defs><g id=\"black\"><circle cx=\"10\" cy=\"10\" r=\"8.5\" fill=\"black\"/></g><g id=\"white\"><circle cx=\"10\" cy=\"10\" r=\"8.5\" fill=\"white\"/></g></defs><rect fill=\"green\" height=\"161\" width=\"161\" x=\"10\" y=\"10\"/><rect x=\"50.5\" y=\"130.5\" width=\"20\" height=\"20\" fill=\"#8bbf83\"/><g stroke=\"black\"><rect width=\"161\" height=\"161\" stroke-width=\"1.5\" fill=\"none\" x=\"10\" y=\"10\"/><line stroke-width=\"1.0\" x1=\"10.5\" x2=\"170.5\" y1=\"30.5\" y2=\"30.5\"/><line stroke-width=\"1.0\" x1=\"10.5\" x2=\"170.5\" y1=\"50.5\" y2=\"50.5\"/><line stroke-width=\"1.0\" x1=\"10.5\" x2=\"170.5\" y1=\"70.5\" y2=\"70.5\"/><line stroke-width=\"1.0\" x1=\"10.5\" x2=\"170.5\" y1=\"90.5\" y2=\"90.5\"/><line stroke-width=\"1.0\" x1=\"10.5\" x2=\"170.5\" y1=\"110.5\" y2=\"110.5\"/><line stroke-width=\"1.0\" x1=\"10.5\" x2=\"170.5\" y1=\"130.5\" y2=\"130.5\"/><line stroke-width=\"1.0\" x1=\"10.5\" x2=\"170.5\" y1=\"150.5\" y2=\"150.5\"/><line stroke-width=\"1.0\" x1=\"30.5\" x2=\"30.5\" y1=\"10.5\" y2=\"170.5\"/><line stroke-width=\"1.0\" x1=\"50.5\" x2=\"50.5\" y1=\"10.5\" y2=\"170.5\"/><line stroke-width=\"1.0\" x1=\"70.5\" x2=\"70.5\" y1=\"10.5\" y2=\"170.5\"/><line stroke-width=\"1.0\" x1=\"90.5\" x2=\"90.5\" y1=\"10.5\" y2=\"170.5\"/><line stroke-width=\"1.0\" x1=\"110.5\" x2=\"110.5\" y1=\"10.5\" y2=\"170.5\"/><line stroke-width=\"1.0\" x1=\"130.5\" x2=\"130.5\" y1=\"10.5\" y2=\"170.5\"/><line stroke-width=\"1.0\" x1=\"150.5\" x2=\"150.5\" y1=\"10.5\" y2=\"170.5\"/></g><g><text font-family=\"serif\" font-size=\"9.5\" text-anchor=\"middle\" x=\"20.5\" y=\"8\">a</text><text font-family=\"serif\" font-size=\"9.5\" text-anchor=\"middle\" x=\"40.5\" y=\"8\">b</text><text font-family=\"serif\" font-size=\"9.5\" text-anchor=\"middle\" x=\"60.5\" y=\"8\">c</text><text font-family=\"serif\" font-size=\"9.5\" text-anchor=\"middle\" x=\"80.5\" y=\"8\">d</text><text font-family=\"serif\" font-size=\"9.5\" text-anchor=\"middle\" x=\"100.5\" y=\"8\">e</text><text font-family=\"serif\" font-size=\"9.5\" text-anchor=\"middle\" x=\"120.5\" y=\"8\">f</text><text font-family=\"serif\" font-size=\"9.5\" text-anchor=\"middle\" x=\"140.5\" y=\"8\">g</text><text font-family=\"serif\" font-size=\"9.5\" text-anchor=\"middle\" x=\"160.5\" y=\"8\">h</text><text font-family=\"serif\" font-size=\"9.5\" x=\"2.5\" y=\"23.5\">1</text><text font-family=\"serif\" font-size=\"9.5\" x=\"2.5\" y=\"43.5\">2</text><text font-family=\"serif\" font-size=\"9.5\" x=\"2.5\" y=\"63.5\">3</text><text font-family=\"serif\" font-size=\"9.5\" x=\"2.5\" y=\"83.5\">4</text><text font-family=\"serif\" font-size=\"9.5\" x=\"2.5\" y=\"103.5\">5</text><text font-family=\"serif\" font-size=\"9.5\" x=\"2.5\" y=\"123.5\">6</text><text font-family=\"serif\" font-size=\"9.5\" x=\"2.5\" y=\"143.5\">7</text><text font-family=\"serif\" font-size=\"9.5\" x=\"2.5\" y=\"163.5\">8</text></g><use xlink:href=\"#white\" x=\"70.5\" y=\"10.5\"/><use xlink:href=\"#black\" x=\"90.5\" y=\"10.5\"/><use xlink:href=\"#black\" x=\"110.5\" y=\"10.5\"/><use xlink:href=\"#black\" x=\"130.5\" y=\"10.5\"/><use xlink:href=\"#black\" x=\"150.5\" y=\"10.5\"/><use xlink:href=\"#white\" x=\"50.5\" y=\"30.5\"/><use xlink:href=\"#white\" x=\"70.5\" y=\"30.5\"/><use xlink:href=\"#black\" x=\"90.5\" y=\"30.5\"/><use xlink:href=\"#black\" x=\"110.5\" y=\"30.5\"/><use xlink:href=\"#black\" x=\"130.5\" y=\"30.5\"/><use xlink:href=\"#white\" x=\"150.5\" y=\"30.5\"/><use xlink:href=\"#white\" x=\"50.5\" y=\"50.5\"/><use xlink:href=\"#white\" x=\"70.5\" y=\"50.5\"/><use xlink:href=\"#black\" x=\"90.5\" y=\"50.5\"/><use xlink:href=\"#black\" x=\"110.5\" y=\"50.5\"/><use xlink:href=\"#white\" x=\"130.5\" y=\"50.5\"/><use xlink:href=\"#white\" x=\"150.5\" y=\"50.5\"/><use xlink:href=\"#white\" x=\"50.5\" y=\"70.5\"/><use xlink:href=\"#white\" x=\"70.5\" y=\"70.5\"/><use xlink:href=\"#black\" x=\"90.5\" y=\"70.5\"/><use xlink:href=\"#white\" x=\"110.5\" y=\"70.5\"/><use xlink:href=\"#white\" x=\"130.5\" y=\"70.5\"/><use xlink:href=\"#white\" x=\"150.5\" y=\"70.5\"/><use xlink:href=\"#white\" x=\"50.5\" y=\"90.5\"/><use xlink:href=\"#white\" x=\"70.5\" y=\"90.5\"/><use xlink:href=\"#white\" x=\"90.5\" y=\"90.5\"/><use xlink:href=\"#black\" x=\"110.5\" y=\"90.5\"/><use xlink:href=\"#white\" x=\"130.5\" y=\"90.5\"/><use xlink:href=\"#white\" x=\"150.5\" y=\"90.5\"/><use xlink:href=\"#white\" x=\"70.5\" y=\"110.5\"/><use xlink:href=\"#black\" x=\"90.5\" y=\"110.5\"/><use xlink:href=\"#black\" x=\"110.5\" y=\"110.5\"/><use xlink:href=\"#white\" x=\"130.5\" y=\"110.5\"/><use xlink:href=\"#white\" x=\"150.5\" y=\"110.5\"/><use xlink:href=\"#white\" x=\"50.5\" y=\"130.5\"/><use xlink:href=\"#white\" x=\"70.5\" y=\"130.5\"/><use xlink:href=\"#black\" x=\"90.5\" y=\"130.5\"/><use xlink:href=\"#white\" x=\"110.5\" y=\"130.5\"/><use xlink:href=\"#white\" x=\"130.5\" y=\"130.5\"/><use xlink:href=\"#white\" x=\"150.5\" y=\"130.5\"/><use xlink:href=\"#white\" x=\"130.5\" y=\"150.5\"/><use xlink:href=\"#white\" x=\"150.5\" y=\"150.5\"/></svg>",
            "text/plain": [
              "<IPython.core.display.SVG object>"
            ]
          },
          "metadata": {},
          "output_type": "display_data"
        },
        {
          "name": "stdout",
          "output_type": "stream",
          "text": [
            "f8\n",
            "40: white\n"
          ]
        },
        {
          "data": {
            "image/svg+xml": "<svg xmlns=\"http://www.w3.org/2000/svg\" xmlns:xlink=\"http://www.w3.org/1999/xlink\" version=\"1.1\" width=\"215.0\" height=\"215.0\" viewBox=\"0 0 172 172\"><defs><g id=\"black\"><circle cx=\"10\" cy=\"10\" r=\"8.5\" fill=\"black\"/></g><g id=\"white\"><circle cx=\"10\" cy=\"10\" r=\"8.5\" fill=\"white\"/></g></defs><rect fill=\"green\" height=\"161\" width=\"161\" x=\"10\" y=\"10\"/><rect x=\"110.5\" y=\"150.5\" width=\"20\" height=\"20\" fill=\"#8bbf83\"/><g stroke=\"black\"><rect width=\"161\" height=\"161\" stroke-width=\"1.5\" fill=\"none\" x=\"10\" y=\"10\"/><line stroke-width=\"1.0\" x1=\"10.5\" x2=\"170.5\" y1=\"30.5\" y2=\"30.5\"/><line stroke-width=\"1.0\" x1=\"10.5\" x2=\"170.5\" y1=\"50.5\" y2=\"50.5\"/><line stroke-width=\"1.0\" x1=\"10.5\" x2=\"170.5\" y1=\"70.5\" y2=\"70.5\"/><line stroke-width=\"1.0\" x1=\"10.5\" x2=\"170.5\" y1=\"90.5\" y2=\"90.5\"/><line stroke-width=\"1.0\" x1=\"10.5\" x2=\"170.5\" y1=\"110.5\" y2=\"110.5\"/><line stroke-width=\"1.0\" x1=\"10.5\" x2=\"170.5\" y1=\"130.5\" y2=\"130.5\"/><line stroke-width=\"1.0\" x1=\"10.5\" x2=\"170.5\" y1=\"150.5\" y2=\"150.5\"/><line stroke-width=\"1.0\" x1=\"30.5\" x2=\"30.5\" y1=\"10.5\" y2=\"170.5\"/><line stroke-width=\"1.0\" x1=\"50.5\" x2=\"50.5\" y1=\"10.5\" y2=\"170.5\"/><line stroke-width=\"1.0\" x1=\"70.5\" x2=\"70.5\" y1=\"10.5\" y2=\"170.5\"/><line stroke-width=\"1.0\" x1=\"90.5\" x2=\"90.5\" y1=\"10.5\" y2=\"170.5\"/><line stroke-width=\"1.0\" x1=\"110.5\" x2=\"110.5\" y1=\"10.5\" y2=\"170.5\"/><line stroke-width=\"1.0\" x1=\"130.5\" x2=\"130.5\" y1=\"10.5\" y2=\"170.5\"/><line stroke-width=\"1.0\" x1=\"150.5\" x2=\"150.5\" y1=\"10.5\" y2=\"170.5\"/></g><g><text font-family=\"serif\" font-size=\"9.5\" text-anchor=\"middle\" x=\"20.5\" y=\"8\">a</text><text font-family=\"serif\" font-size=\"9.5\" text-anchor=\"middle\" x=\"40.5\" y=\"8\">b</text><text font-family=\"serif\" font-size=\"9.5\" text-anchor=\"middle\" x=\"60.5\" y=\"8\">c</text><text font-family=\"serif\" font-size=\"9.5\" text-anchor=\"middle\" x=\"80.5\" y=\"8\">d</text><text font-family=\"serif\" font-size=\"9.5\" text-anchor=\"middle\" x=\"100.5\" y=\"8\">e</text><text font-family=\"serif\" font-size=\"9.5\" text-anchor=\"middle\" x=\"120.5\" y=\"8\">f</text><text font-family=\"serif\" font-size=\"9.5\" text-anchor=\"middle\" x=\"140.5\" y=\"8\">g</text><text font-family=\"serif\" font-size=\"9.5\" text-anchor=\"middle\" x=\"160.5\" y=\"8\">h</text><text font-family=\"serif\" font-size=\"9.5\" x=\"2.5\" y=\"23.5\">1</text><text font-family=\"serif\" font-size=\"9.5\" x=\"2.5\" y=\"43.5\">2</text><text font-family=\"serif\" font-size=\"9.5\" x=\"2.5\" y=\"63.5\">3</text><text font-family=\"serif\" font-size=\"9.5\" x=\"2.5\" y=\"83.5\">4</text><text font-family=\"serif\" font-size=\"9.5\" x=\"2.5\" y=\"103.5\">5</text><text font-family=\"serif\" font-size=\"9.5\" x=\"2.5\" y=\"123.5\">6</text><text font-family=\"serif\" font-size=\"9.5\" x=\"2.5\" y=\"143.5\">7</text><text font-family=\"serif\" font-size=\"9.5\" x=\"2.5\" y=\"163.5\">8</text></g><use xlink:href=\"#white\" x=\"70.5\" y=\"10.5\"/><use xlink:href=\"#black\" x=\"90.5\" y=\"10.5\"/><use xlink:href=\"#black\" x=\"110.5\" y=\"10.5\"/><use xlink:href=\"#black\" x=\"130.5\" y=\"10.5\"/><use xlink:href=\"#black\" x=\"150.5\" y=\"10.5\"/><use xlink:href=\"#white\" x=\"50.5\" y=\"30.5\"/><use xlink:href=\"#white\" x=\"70.5\" y=\"30.5\"/><use xlink:href=\"#black\" x=\"90.5\" y=\"30.5\"/><use xlink:href=\"#black\" x=\"110.5\" y=\"30.5\"/><use xlink:href=\"#black\" x=\"130.5\" y=\"30.5\"/><use xlink:href=\"#white\" x=\"150.5\" y=\"30.5\"/><use xlink:href=\"#white\" x=\"50.5\" y=\"50.5\"/><use xlink:href=\"#white\" x=\"70.5\" y=\"50.5\"/><use xlink:href=\"#black\" x=\"90.5\" y=\"50.5\"/><use xlink:href=\"#black\" x=\"110.5\" y=\"50.5\"/><use xlink:href=\"#white\" x=\"130.5\" y=\"50.5\"/><use xlink:href=\"#white\" x=\"150.5\" y=\"50.5\"/><use xlink:href=\"#white\" x=\"50.5\" y=\"70.5\"/><use xlink:href=\"#white\" x=\"70.5\" y=\"70.5\"/><use xlink:href=\"#black\" x=\"90.5\" y=\"70.5\"/><use xlink:href=\"#white\" x=\"110.5\" y=\"70.5\"/><use xlink:href=\"#white\" x=\"130.5\" y=\"70.5\"/><use xlink:href=\"#white\" x=\"150.5\" y=\"70.5\"/><use xlink:href=\"#white\" x=\"50.5\" y=\"90.5\"/><use xlink:href=\"#white\" x=\"70.5\" y=\"90.5\"/><use xlink:href=\"#white\" x=\"90.5\" y=\"90.5\"/><use xlink:href=\"#black\" x=\"110.5\" y=\"90.5\"/><use xlink:href=\"#white\" x=\"130.5\" y=\"90.5\"/><use xlink:href=\"#white\" x=\"150.5\" y=\"90.5\"/><use xlink:href=\"#white\" x=\"70.5\" y=\"110.5\"/><use xlink:href=\"#black\" x=\"90.5\" y=\"110.5\"/><use xlink:href=\"#black\" x=\"110.5\" y=\"110.5\"/><use xlink:href=\"#white\" x=\"130.5\" y=\"110.5\"/><use xlink:href=\"#white\" x=\"150.5\" y=\"110.5\"/><use xlink:href=\"#white\" x=\"50.5\" y=\"130.5\"/><use xlink:href=\"#white\" x=\"70.5\" y=\"130.5\"/><use xlink:href=\"#black\" x=\"90.5\" y=\"130.5\"/><use xlink:href=\"#black\" x=\"110.5\" y=\"130.5\"/><use xlink:href=\"#white\" x=\"130.5\" y=\"130.5\"/><use xlink:href=\"#white\" x=\"150.5\" y=\"130.5\"/><use xlink:href=\"#black\" x=\"110.5\" y=\"150.5\"/><use xlink:href=\"#white\" x=\"130.5\" y=\"150.5\"/><use xlink:href=\"#white\" x=\"150.5\" y=\"150.5\"/></svg>",
            "text/plain": [
              "<IPython.core.display.SVG object>"
            ]
          },
          "metadata": {},
          "output_type": "display_data"
        },
        {
          "name": "stdout",
          "output_type": "stream",
          "text": [
            "d8\n",
            "41: black\n"
          ]
        },
        {
          "data": {
            "image/svg+xml": "<svg xmlns=\"http://www.w3.org/2000/svg\" xmlns:xlink=\"http://www.w3.org/1999/xlink\" version=\"1.1\" width=\"215.0\" height=\"215.0\" viewBox=\"0 0 172 172\"><defs><g id=\"black\"><circle cx=\"10\" cy=\"10\" r=\"8.5\" fill=\"black\"/></g><g id=\"white\"><circle cx=\"10\" cy=\"10\" r=\"8.5\" fill=\"white\"/></g></defs><rect fill=\"green\" height=\"161\" width=\"161\" x=\"10\" y=\"10\"/><rect x=\"70.5\" y=\"150.5\" width=\"20\" height=\"20\" fill=\"#8bbf83\"/><g stroke=\"black\"><rect width=\"161\" height=\"161\" stroke-width=\"1.5\" fill=\"none\" x=\"10\" y=\"10\"/><line stroke-width=\"1.0\" x1=\"10.5\" x2=\"170.5\" y1=\"30.5\" y2=\"30.5\"/><line stroke-width=\"1.0\" x1=\"10.5\" x2=\"170.5\" y1=\"50.5\" y2=\"50.5\"/><line stroke-width=\"1.0\" x1=\"10.5\" x2=\"170.5\" y1=\"70.5\" y2=\"70.5\"/><line stroke-width=\"1.0\" x1=\"10.5\" x2=\"170.5\" y1=\"90.5\" y2=\"90.5\"/><line stroke-width=\"1.0\" x1=\"10.5\" x2=\"170.5\" y1=\"110.5\" y2=\"110.5\"/><line stroke-width=\"1.0\" x1=\"10.5\" x2=\"170.5\" y1=\"130.5\" y2=\"130.5\"/><line stroke-width=\"1.0\" x1=\"10.5\" x2=\"170.5\" y1=\"150.5\" y2=\"150.5\"/><line stroke-width=\"1.0\" x1=\"30.5\" x2=\"30.5\" y1=\"10.5\" y2=\"170.5\"/><line stroke-width=\"1.0\" x1=\"50.5\" x2=\"50.5\" y1=\"10.5\" y2=\"170.5\"/><line stroke-width=\"1.0\" x1=\"70.5\" x2=\"70.5\" y1=\"10.5\" y2=\"170.5\"/><line stroke-width=\"1.0\" x1=\"90.5\" x2=\"90.5\" y1=\"10.5\" y2=\"170.5\"/><line stroke-width=\"1.0\" x1=\"110.5\" x2=\"110.5\" y1=\"10.5\" y2=\"170.5\"/><line stroke-width=\"1.0\" x1=\"130.5\" x2=\"130.5\" y1=\"10.5\" y2=\"170.5\"/><line stroke-width=\"1.0\" x1=\"150.5\" x2=\"150.5\" y1=\"10.5\" y2=\"170.5\"/></g><g><text font-family=\"serif\" font-size=\"9.5\" text-anchor=\"middle\" x=\"20.5\" y=\"8\">a</text><text font-family=\"serif\" font-size=\"9.5\" text-anchor=\"middle\" x=\"40.5\" y=\"8\">b</text><text font-family=\"serif\" font-size=\"9.5\" text-anchor=\"middle\" x=\"60.5\" y=\"8\">c</text><text font-family=\"serif\" font-size=\"9.5\" text-anchor=\"middle\" x=\"80.5\" y=\"8\">d</text><text font-family=\"serif\" font-size=\"9.5\" text-anchor=\"middle\" x=\"100.5\" y=\"8\">e</text><text font-family=\"serif\" font-size=\"9.5\" text-anchor=\"middle\" x=\"120.5\" y=\"8\">f</text><text font-family=\"serif\" font-size=\"9.5\" text-anchor=\"middle\" x=\"140.5\" y=\"8\">g</text><text font-family=\"serif\" font-size=\"9.5\" text-anchor=\"middle\" x=\"160.5\" y=\"8\">h</text><text font-family=\"serif\" font-size=\"9.5\" x=\"2.5\" y=\"23.5\">1</text><text font-family=\"serif\" font-size=\"9.5\" x=\"2.5\" y=\"43.5\">2</text><text font-family=\"serif\" font-size=\"9.5\" x=\"2.5\" y=\"63.5\">3</text><text font-family=\"serif\" font-size=\"9.5\" x=\"2.5\" y=\"83.5\">4</text><text font-family=\"serif\" font-size=\"9.5\" x=\"2.5\" y=\"103.5\">5</text><text font-family=\"serif\" font-size=\"9.5\" x=\"2.5\" y=\"123.5\">6</text><text font-family=\"serif\" font-size=\"9.5\" x=\"2.5\" y=\"143.5\">7</text><text font-family=\"serif\" font-size=\"9.5\" x=\"2.5\" y=\"163.5\">8</text></g><use xlink:href=\"#white\" x=\"70.5\" y=\"10.5\"/><use xlink:href=\"#black\" x=\"90.5\" y=\"10.5\"/><use xlink:href=\"#black\" x=\"110.5\" y=\"10.5\"/><use xlink:href=\"#black\" x=\"130.5\" y=\"10.5\"/><use xlink:href=\"#black\" x=\"150.5\" y=\"10.5\"/><use xlink:href=\"#white\" x=\"50.5\" y=\"30.5\"/><use xlink:href=\"#white\" x=\"70.5\" y=\"30.5\"/><use xlink:href=\"#black\" x=\"90.5\" y=\"30.5\"/><use xlink:href=\"#black\" x=\"110.5\" y=\"30.5\"/><use xlink:href=\"#black\" x=\"130.5\" y=\"30.5\"/><use xlink:href=\"#white\" x=\"150.5\" y=\"30.5\"/><use xlink:href=\"#white\" x=\"50.5\" y=\"50.5\"/><use xlink:href=\"#white\" x=\"70.5\" y=\"50.5\"/><use xlink:href=\"#black\" x=\"90.5\" y=\"50.5\"/><use xlink:href=\"#black\" x=\"110.5\" y=\"50.5\"/><use xlink:href=\"#white\" x=\"130.5\" y=\"50.5\"/><use xlink:href=\"#white\" x=\"150.5\" y=\"50.5\"/><use xlink:href=\"#white\" x=\"50.5\" y=\"70.5\"/><use xlink:href=\"#white\" x=\"70.5\" y=\"70.5\"/><use xlink:href=\"#black\" x=\"90.5\" y=\"70.5\"/><use xlink:href=\"#white\" x=\"110.5\" y=\"70.5\"/><use xlink:href=\"#white\" x=\"130.5\" y=\"70.5\"/><use xlink:href=\"#white\" x=\"150.5\" y=\"70.5\"/><use xlink:href=\"#white\" x=\"50.5\" y=\"90.5\"/><use xlink:href=\"#white\" x=\"70.5\" y=\"90.5\"/><use xlink:href=\"#white\" x=\"90.5\" y=\"90.5\"/><use xlink:href=\"#black\" x=\"110.5\" y=\"90.5\"/><use xlink:href=\"#white\" x=\"130.5\" y=\"90.5\"/><use xlink:href=\"#white\" x=\"150.5\" y=\"90.5\"/><use xlink:href=\"#white\" x=\"70.5\" y=\"110.5\"/><use xlink:href=\"#black\" x=\"90.5\" y=\"110.5\"/><use xlink:href=\"#white\" x=\"110.5\" y=\"110.5\"/><use xlink:href=\"#white\" x=\"130.5\" y=\"110.5\"/><use xlink:href=\"#white\" x=\"150.5\" y=\"110.5\"/><use xlink:href=\"#white\" x=\"50.5\" y=\"130.5\"/><use xlink:href=\"#white\" x=\"70.5\" y=\"130.5\"/><use xlink:href=\"#white\" x=\"90.5\" y=\"130.5\"/><use xlink:href=\"#black\" x=\"110.5\" y=\"130.5\"/><use xlink:href=\"#white\" x=\"130.5\" y=\"130.5\"/><use xlink:href=\"#white\" x=\"150.5\" y=\"130.5\"/><use xlink:href=\"#white\" x=\"70.5\" y=\"150.5\"/><use xlink:href=\"#black\" x=\"110.5\" y=\"150.5\"/><use xlink:href=\"#white\" x=\"130.5\" y=\"150.5\"/><use xlink:href=\"#white\" x=\"150.5\" y=\"150.5\"/></svg>",
            "text/plain": [
              "<IPython.core.display.SVG object>"
            ]
          },
          "metadata": {},
          "output_type": "display_data"
        },
        {
          "name": "stdout",
          "output_type": "stream",
          "text": [
            "e8\n",
            "42: white\n"
          ]
        },
        {
          "data": {
            "image/svg+xml": "<svg xmlns=\"http://www.w3.org/2000/svg\" xmlns:xlink=\"http://www.w3.org/1999/xlink\" version=\"1.1\" width=\"215.0\" height=\"215.0\" viewBox=\"0 0 172 172\"><defs><g id=\"black\"><circle cx=\"10\" cy=\"10\" r=\"8.5\" fill=\"black\"/></g><g id=\"white\"><circle cx=\"10\" cy=\"10\" r=\"8.5\" fill=\"white\"/></g></defs><rect fill=\"green\" height=\"161\" width=\"161\" x=\"10\" y=\"10\"/><rect x=\"90.5\" y=\"150.5\" width=\"20\" height=\"20\" fill=\"#8bbf83\"/><g stroke=\"black\"><rect width=\"161\" height=\"161\" stroke-width=\"1.5\" fill=\"none\" x=\"10\" y=\"10\"/><line stroke-width=\"1.0\" x1=\"10.5\" x2=\"170.5\" y1=\"30.5\" y2=\"30.5\"/><line stroke-width=\"1.0\" x1=\"10.5\" x2=\"170.5\" y1=\"50.5\" y2=\"50.5\"/><line stroke-width=\"1.0\" x1=\"10.5\" x2=\"170.5\" y1=\"70.5\" y2=\"70.5\"/><line stroke-width=\"1.0\" x1=\"10.5\" x2=\"170.5\" y1=\"90.5\" y2=\"90.5\"/><line stroke-width=\"1.0\" x1=\"10.5\" x2=\"170.5\" y1=\"110.5\" y2=\"110.5\"/><line stroke-width=\"1.0\" x1=\"10.5\" x2=\"170.5\" y1=\"130.5\" y2=\"130.5\"/><line stroke-width=\"1.0\" x1=\"10.5\" x2=\"170.5\" y1=\"150.5\" y2=\"150.5\"/><line stroke-width=\"1.0\" x1=\"30.5\" x2=\"30.5\" y1=\"10.5\" y2=\"170.5\"/><line stroke-width=\"1.0\" x1=\"50.5\" x2=\"50.5\" y1=\"10.5\" y2=\"170.5\"/><line stroke-width=\"1.0\" x1=\"70.5\" x2=\"70.5\" y1=\"10.5\" y2=\"170.5\"/><line stroke-width=\"1.0\" x1=\"90.5\" x2=\"90.5\" y1=\"10.5\" y2=\"170.5\"/><line stroke-width=\"1.0\" x1=\"110.5\" x2=\"110.5\" y1=\"10.5\" y2=\"170.5\"/><line stroke-width=\"1.0\" x1=\"130.5\" x2=\"130.5\" y1=\"10.5\" y2=\"170.5\"/><line stroke-width=\"1.0\" x1=\"150.5\" x2=\"150.5\" y1=\"10.5\" y2=\"170.5\"/></g><g><text font-family=\"serif\" font-size=\"9.5\" text-anchor=\"middle\" x=\"20.5\" y=\"8\">a</text><text font-family=\"serif\" font-size=\"9.5\" text-anchor=\"middle\" x=\"40.5\" y=\"8\">b</text><text font-family=\"serif\" font-size=\"9.5\" text-anchor=\"middle\" x=\"60.5\" y=\"8\">c</text><text font-family=\"serif\" font-size=\"9.5\" text-anchor=\"middle\" x=\"80.5\" y=\"8\">d</text><text font-family=\"serif\" font-size=\"9.5\" text-anchor=\"middle\" x=\"100.5\" y=\"8\">e</text><text font-family=\"serif\" font-size=\"9.5\" text-anchor=\"middle\" x=\"120.5\" y=\"8\">f</text><text font-family=\"serif\" font-size=\"9.5\" text-anchor=\"middle\" x=\"140.5\" y=\"8\">g</text><text font-family=\"serif\" font-size=\"9.5\" text-anchor=\"middle\" x=\"160.5\" y=\"8\">h</text><text font-family=\"serif\" font-size=\"9.5\" x=\"2.5\" y=\"23.5\">1</text><text font-family=\"serif\" font-size=\"9.5\" x=\"2.5\" y=\"43.5\">2</text><text font-family=\"serif\" font-size=\"9.5\" x=\"2.5\" y=\"63.5\">3</text><text font-family=\"serif\" font-size=\"9.5\" x=\"2.5\" y=\"83.5\">4</text><text font-family=\"serif\" font-size=\"9.5\" x=\"2.5\" y=\"103.5\">5</text><text font-family=\"serif\" font-size=\"9.5\" x=\"2.5\" y=\"123.5\">6</text><text font-family=\"serif\" font-size=\"9.5\" x=\"2.5\" y=\"143.5\">7</text><text font-family=\"serif\" font-size=\"9.5\" x=\"2.5\" y=\"163.5\">8</text></g><use xlink:href=\"#white\" x=\"70.5\" y=\"10.5\"/><use xlink:href=\"#black\" x=\"90.5\" y=\"10.5\"/><use xlink:href=\"#black\" x=\"110.5\" y=\"10.5\"/><use xlink:href=\"#black\" x=\"130.5\" y=\"10.5\"/><use xlink:href=\"#black\" x=\"150.5\" y=\"10.5\"/><use xlink:href=\"#white\" x=\"50.5\" y=\"30.5\"/><use xlink:href=\"#white\" x=\"70.5\" y=\"30.5\"/><use xlink:href=\"#black\" x=\"90.5\" y=\"30.5\"/><use xlink:href=\"#black\" x=\"110.5\" y=\"30.5\"/><use xlink:href=\"#black\" x=\"130.5\" y=\"30.5\"/><use xlink:href=\"#white\" x=\"150.5\" y=\"30.5\"/><use xlink:href=\"#white\" x=\"50.5\" y=\"50.5\"/><use xlink:href=\"#white\" x=\"70.5\" y=\"50.5\"/><use xlink:href=\"#black\" x=\"90.5\" y=\"50.5\"/><use xlink:href=\"#black\" x=\"110.5\" y=\"50.5\"/><use xlink:href=\"#white\" x=\"130.5\" y=\"50.5\"/><use xlink:href=\"#white\" x=\"150.5\" y=\"50.5\"/><use xlink:href=\"#white\" x=\"50.5\" y=\"70.5\"/><use xlink:href=\"#white\" x=\"70.5\" y=\"70.5\"/><use xlink:href=\"#black\" x=\"90.5\" y=\"70.5\"/><use xlink:href=\"#white\" x=\"110.5\" y=\"70.5\"/><use xlink:href=\"#white\" x=\"130.5\" y=\"70.5\"/><use xlink:href=\"#white\" x=\"150.5\" y=\"70.5\"/><use xlink:href=\"#white\" x=\"50.5\" y=\"90.5\"/><use xlink:href=\"#white\" x=\"70.5\" y=\"90.5\"/><use xlink:href=\"#white\" x=\"90.5\" y=\"90.5\"/><use xlink:href=\"#black\" x=\"110.5\" y=\"90.5\"/><use xlink:href=\"#white\" x=\"130.5\" y=\"90.5\"/><use xlink:href=\"#white\" x=\"150.5\" y=\"90.5\"/><use xlink:href=\"#white\" x=\"70.5\" y=\"110.5\"/><use xlink:href=\"#black\" x=\"90.5\" y=\"110.5\"/><use xlink:href=\"#white\" x=\"110.5\" y=\"110.5\"/><use xlink:href=\"#white\" x=\"130.5\" y=\"110.5\"/><use xlink:href=\"#white\" x=\"150.5\" y=\"110.5\"/><use xlink:href=\"#white\" x=\"50.5\" y=\"130.5\"/><use xlink:href=\"#white\" x=\"70.5\" y=\"130.5\"/><use xlink:href=\"#black\" x=\"90.5\" y=\"130.5\"/><use xlink:href=\"#black\" x=\"110.5\" y=\"130.5\"/><use xlink:href=\"#white\" x=\"130.5\" y=\"130.5\"/><use xlink:href=\"#white\" x=\"150.5\" y=\"130.5\"/><use xlink:href=\"#white\" x=\"70.5\" y=\"150.5\"/><use xlink:href=\"#black\" x=\"90.5\" y=\"150.5\"/><use xlink:href=\"#black\" x=\"110.5\" y=\"150.5\"/><use xlink:href=\"#white\" x=\"130.5\" y=\"150.5\"/><use xlink:href=\"#white\" x=\"150.5\" y=\"150.5\"/></svg>",
            "text/plain": [
              "<IPython.core.display.SVG object>"
            ]
          },
          "metadata": {},
          "output_type": "display_data"
        },
        {
          "name": "stdout",
          "output_type": "stream",
          "text": [
            "pass\n",
            "43: black\n"
          ]
        },
        {
          "data": {
            "image/svg+xml": "<svg xmlns=\"http://www.w3.org/2000/svg\" xmlns:xlink=\"http://www.w3.org/1999/xlink\" version=\"1.1\" width=\"215.0\" height=\"215.0\" viewBox=\"0 0 172 172\"><defs><g id=\"black\"><circle cx=\"10\" cy=\"10\" r=\"8.5\" fill=\"black\"/></g><g id=\"white\"><circle cx=\"10\" cy=\"10\" r=\"8.5\" fill=\"white\"/></g></defs><rect fill=\"green\" height=\"161\" width=\"161\" x=\"10\" y=\"10\"/><g stroke=\"black\"><rect width=\"161\" height=\"161\" stroke-width=\"1.5\" fill=\"none\" x=\"10\" y=\"10\"/><line stroke-width=\"1.0\" x1=\"10.5\" x2=\"170.5\" y1=\"30.5\" y2=\"30.5\"/><line stroke-width=\"1.0\" x1=\"10.5\" x2=\"170.5\" y1=\"50.5\" y2=\"50.5\"/><line stroke-width=\"1.0\" x1=\"10.5\" x2=\"170.5\" y1=\"70.5\" y2=\"70.5\"/><line stroke-width=\"1.0\" x1=\"10.5\" x2=\"170.5\" y1=\"90.5\" y2=\"90.5\"/><line stroke-width=\"1.0\" x1=\"10.5\" x2=\"170.5\" y1=\"110.5\" y2=\"110.5\"/><line stroke-width=\"1.0\" x1=\"10.5\" x2=\"170.5\" y1=\"130.5\" y2=\"130.5\"/><line stroke-width=\"1.0\" x1=\"10.5\" x2=\"170.5\" y1=\"150.5\" y2=\"150.5\"/><line stroke-width=\"1.0\" x1=\"30.5\" x2=\"30.5\" y1=\"10.5\" y2=\"170.5\"/><line stroke-width=\"1.0\" x1=\"50.5\" x2=\"50.5\" y1=\"10.5\" y2=\"170.5\"/><line stroke-width=\"1.0\" x1=\"70.5\" x2=\"70.5\" y1=\"10.5\" y2=\"170.5\"/><line stroke-width=\"1.0\" x1=\"90.5\" x2=\"90.5\" y1=\"10.5\" y2=\"170.5\"/><line stroke-width=\"1.0\" x1=\"110.5\" x2=\"110.5\" y1=\"10.5\" y2=\"170.5\"/><line stroke-width=\"1.0\" x1=\"130.5\" x2=\"130.5\" y1=\"10.5\" y2=\"170.5\"/><line stroke-width=\"1.0\" x1=\"150.5\" x2=\"150.5\" y1=\"10.5\" y2=\"170.5\"/></g><g><text font-family=\"serif\" font-size=\"9.5\" text-anchor=\"middle\" x=\"20.5\" y=\"8\">a</text><text font-family=\"serif\" font-size=\"9.5\" text-anchor=\"middle\" x=\"40.5\" y=\"8\">b</text><text font-family=\"serif\" font-size=\"9.5\" text-anchor=\"middle\" x=\"60.5\" y=\"8\">c</text><text font-family=\"serif\" font-size=\"9.5\" text-anchor=\"middle\" x=\"80.5\" y=\"8\">d</text><text font-family=\"serif\" font-size=\"9.5\" text-anchor=\"middle\" x=\"100.5\" y=\"8\">e</text><text font-family=\"serif\" font-size=\"9.5\" text-anchor=\"middle\" x=\"120.5\" y=\"8\">f</text><text font-family=\"serif\" font-size=\"9.5\" text-anchor=\"middle\" x=\"140.5\" y=\"8\">g</text><text font-family=\"serif\" font-size=\"9.5\" text-anchor=\"middle\" x=\"160.5\" y=\"8\">h</text><text font-family=\"serif\" font-size=\"9.5\" x=\"2.5\" y=\"23.5\">1</text><text font-family=\"serif\" font-size=\"9.5\" x=\"2.5\" y=\"43.5\">2</text><text font-family=\"serif\" font-size=\"9.5\" x=\"2.5\" y=\"63.5\">3</text><text font-family=\"serif\" font-size=\"9.5\" x=\"2.5\" y=\"83.5\">4</text><text font-family=\"serif\" font-size=\"9.5\" x=\"2.5\" y=\"103.5\">5</text><text font-family=\"serif\" font-size=\"9.5\" x=\"2.5\" y=\"123.5\">6</text><text font-family=\"serif\" font-size=\"9.5\" x=\"2.5\" y=\"143.5\">7</text><text font-family=\"serif\" font-size=\"9.5\" x=\"2.5\" y=\"163.5\">8</text></g><use xlink:href=\"#white\" x=\"70.5\" y=\"10.5\"/><use xlink:href=\"#black\" x=\"90.5\" y=\"10.5\"/><use xlink:href=\"#black\" x=\"110.5\" y=\"10.5\"/><use xlink:href=\"#black\" x=\"130.5\" y=\"10.5\"/><use xlink:href=\"#black\" x=\"150.5\" y=\"10.5\"/><use xlink:href=\"#white\" x=\"50.5\" y=\"30.5\"/><use xlink:href=\"#white\" x=\"70.5\" y=\"30.5\"/><use xlink:href=\"#black\" x=\"90.5\" y=\"30.5\"/><use xlink:href=\"#black\" x=\"110.5\" y=\"30.5\"/><use xlink:href=\"#black\" x=\"130.5\" y=\"30.5\"/><use xlink:href=\"#white\" x=\"150.5\" y=\"30.5\"/><use xlink:href=\"#white\" x=\"50.5\" y=\"50.5\"/><use xlink:href=\"#white\" x=\"70.5\" y=\"50.5\"/><use xlink:href=\"#black\" x=\"90.5\" y=\"50.5\"/><use xlink:href=\"#black\" x=\"110.5\" y=\"50.5\"/><use xlink:href=\"#white\" x=\"130.5\" y=\"50.5\"/><use xlink:href=\"#white\" x=\"150.5\" y=\"50.5\"/><use xlink:href=\"#white\" x=\"50.5\" y=\"70.5\"/><use xlink:href=\"#white\" x=\"70.5\" y=\"70.5\"/><use xlink:href=\"#black\" x=\"90.5\" y=\"70.5\"/><use xlink:href=\"#white\" x=\"110.5\" y=\"70.5\"/><use xlink:href=\"#white\" x=\"130.5\" y=\"70.5\"/><use xlink:href=\"#white\" x=\"150.5\" y=\"70.5\"/><use xlink:href=\"#white\" x=\"50.5\" y=\"90.5\"/><use xlink:href=\"#white\" x=\"70.5\" y=\"90.5\"/><use xlink:href=\"#white\" x=\"90.5\" y=\"90.5\"/><use xlink:href=\"#black\" x=\"110.5\" y=\"90.5\"/><use xlink:href=\"#white\" x=\"130.5\" y=\"90.5\"/><use xlink:href=\"#white\" x=\"150.5\" y=\"90.5\"/><use xlink:href=\"#white\" x=\"70.5\" y=\"110.5\"/><use xlink:href=\"#black\" x=\"90.5\" y=\"110.5\"/><use xlink:href=\"#white\" x=\"110.5\" y=\"110.5\"/><use xlink:href=\"#white\" x=\"130.5\" y=\"110.5\"/><use xlink:href=\"#white\" x=\"150.5\" y=\"110.5\"/><use xlink:href=\"#white\" x=\"50.5\" y=\"130.5\"/><use xlink:href=\"#white\" x=\"70.5\" y=\"130.5\"/><use xlink:href=\"#black\" x=\"90.5\" y=\"130.5\"/><use xlink:href=\"#black\" x=\"110.5\" y=\"130.5\"/><use xlink:href=\"#white\" x=\"130.5\" y=\"130.5\"/><use xlink:href=\"#white\" x=\"150.5\" y=\"130.5\"/><use xlink:href=\"#white\" x=\"70.5\" y=\"150.5\"/><use xlink:href=\"#black\" x=\"90.5\" y=\"150.5\"/><use xlink:href=\"#black\" x=\"110.5\" y=\"150.5\"/><use xlink:href=\"#white\" x=\"130.5\" y=\"150.5\"/><use xlink:href=\"#white\" x=\"150.5\" y=\"150.5\"/></svg>",
            "text/plain": [
              "<IPython.core.display.SVG object>"
            ]
          },
          "metadata": {},
          "output_type": "display_data"
        },
        {
          "name": "stdout",
          "output_type": "stream",
          "text": [
            "c6\n",
            "44: white\n"
          ]
        },
        {
          "data": {
            "image/svg+xml": "<svg xmlns=\"http://www.w3.org/2000/svg\" xmlns:xlink=\"http://www.w3.org/1999/xlink\" version=\"1.1\" width=\"215.0\" height=\"215.0\" viewBox=\"0 0 172 172\"><defs><g id=\"black\"><circle cx=\"10\" cy=\"10\" r=\"8.5\" fill=\"black\"/></g><g id=\"white\"><circle cx=\"10\" cy=\"10\" r=\"8.5\" fill=\"white\"/></g></defs><rect fill=\"green\" height=\"161\" width=\"161\" x=\"10\" y=\"10\"/><rect x=\"50.5\" y=\"110.5\" width=\"20\" height=\"20\" fill=\"#8bbf83\"/><g stroke=\"black\"><rect width=\"161\" height=\"161\" stroke-width=\"1.5\" fill=\"none\" x=\"10\" y=\"10\"/><line stroke-width=\"1.0\" x1=\"10.5\" x2=\"170.5\" y1=\"30.5\" y2=\"30.5\"/><line stroke-width=\"1.0\" x1=\"10.5\" x2=\"170.5\" y1=\"50.5\" y2=\"50.5\"/><line stroke-width=\"1.0\" x1=\"10.5\" x2=\"170.5\" y1=\"70.5\" y2=\"70.5\"/><line stroke-width=\"1.0\" x1=\"10.5\" x2=\"170.5\" y1=\"90.5\" y2=\"90.5\"/><line stroke-width=\"1.0\" x1=\"10.5\" x2=\"170.5\" y1=\"110.5\" y2=\"110.5\"/><line stroke-width=\"1.0\" x1=\"10.5\" x2=\"170.5\" y1=\"130.5\" y2=\"130.5\"/><line stroke-width=\"1.0\" x1=\"10.5\" x2=\"170.5\" y1=\"150.5\" y2=\"150.5\"/><line stroke-width=\"1.0\" x1=\"30.5\" x2=\"30.5\" y1=\"10.5\" y2=\"170.5\"/><line stroke-width=\"1.0\" x1=\"50.5\" x2=\"50.5\" y1=\"10.5\" y2=\"170.5\"/><line stroke-width=\"1.0\" x1=\"70.5\" x2=\"70.5\" y1=\"10.5\" y2=\"170.5\"/><line stroke-width=\"1.0\" x1=\"90.5\" x2=\"90.5\" y1=\"10.5\" y2=\"170.5\"/><line stroke-width=\"1.0\" x1=\"110.5\" x2=\"110.5\" y1=\"10.5\" y2=\"170.5\"/><line stroke-width=\"1.0\" x1=\"130.5\" x2=\"130.5\" y1=\"10.5\" y2=\"170.5\"/><line stroke-width=\"1.0\" x1=\"150.5\" x2=\"150.5\" y1=\"10.5\" y2=\"170.5\"/></g><g><text font-family=\"serif\" font-size=\"9.5\" text-anchor=\"middle\" x=\"20.5\" y=\"8\">a</text><text font-family=\"serif\" font-size=\"9.5\" text-anchor=\"middle\" x=\"40.5\" y=\"8\">b</text><text font-family=\"serif\" font-size=\"9.5\" text-anchor=\"middle\" x=\"60.5\" y=\"8\">c</text><text font-family=\"serif\" font-size=\"9.5\" text-anchor=\"middle\" x=\"80.5\" y=\"8\">d</text><text font-family=\"serif\" font-size=\"9.5\" text-anchor=\"middle\" x=\"100.5\" y=\"8\">e</text><text font-family=\"serif\" font-size=\"9.5\" text-anchor=\"middle\" x=\"120.5\" y=\"8\">f</text><text font-family=\"serif\" font-size=\"9.5\" text-anchor=\"middle\" x=\"140.5\" y=\"8\">g</text><text font-family=\"serif\" font-size=\"9.5\" text-anchor=\"middle\" x=\"160.5\" y=\"8\">h</text><text font-family=\"serif\" font-size=\"9.5\" x=\"2.5\" y=\"23.5\">1</text><text font-family=\"serif\" font-size=\"9.5\" x=\"2.5\" y=\"43.5\">2</text><text font-family=\"serif\" font-size=\"9.5\" x=\"2.5\" y=\"63.5\">3</text><text font-family=\"serif\" font-size=\"9.5\" x=\"2.5\" y=\"83.5\">4</text><text font-family=\"serif\" font-size=\"9.5\" x=\"2.5\" y=\"103.5\">5</text><text font-family=\"serif\" font-size=\"9.5\" x=\"2.5\" y=\"123.5\">6</text><text font-family=\"serif\" font-size=\"9.5\" x=\"2.5\" y=\"143.5\">7</text><text font-family=\"serif\" font-size=\"9.5\" x=\"2.5\" y=\"163.5\">8</text></g><use xlink:href=\"#white\" x=\"70.5\" y=\"10.5\"/><use xlink:href=\"#black\" x=\"90.5\" y=\"10.5\"/><use xlink:href=\"#black\" x=\"110.5\" y=\"10.5\"/><use xlink:href=\"#black\" x=\"130.5\" y=\"10.5\"/><use xlink:href=\"#black\" x=\"150.5\" y=\"10.5\"/><use xlink:href=\"#white\" x=\"50.5\" y=\"30.5\"/><use xlink:href=\"#white\" x=\"70.5\" y=\"30.5\"/><use xlink:href=\"#black\" x=\"90.5\" y=\"30.5\"/><use xlink:href=\"#black\" x=\"110.5\" y=\"30.5\"/><use xlink:href=\"#black\" x=\"130.5\" y=\"30.5\"/><use xlink:href=\"#white\" x=\"150.5\" y=\"30.5\"/><use xlink:href=\"#white\" x=\"50.5\" y=\"50.5\"/><use xlink:href=\"#white\" x=\"70.5\" y=\"50.5\"/><use xlink:href=\"#black\" x=\"90.5\" y=\"50.5\"/><use xlink:href=\"#black\" x=\"110.5\" y=\"50.5\"/><use xlink:href=\"#white\" x=\"130.5\" y=\"50.5\"/><use xlink:href=\"#white\" x=\"150.5\" y=\"50.5\"/><use xlink:href=\"#white\" x=\"50.5\" y=\"70.5\"/><use xlink:href=\"#white\" x=\"70.5\" y=\"70.5\"/><use xlink:href=\"#black\" x=\"90.5\" y=\"70.5\"/><use xlink:href=\"#white\" x=\"110.5\" y=\"70.5\"/><use xlink:href=\"#white\" x=\"130.5\" y=\"70.5\"/><use xlink:href=\"#white\" x=\"150.5\" y=\"70.5\"/><use xlink:href=\"#white\" x=\"50.5\" y=\"90.5\"/><use xlink:href=\"#black\" x=\"70.5\" y=\"90.5\"/><use xlink:href=\"#white\" x=\"90.5\" y=\"90.5\"/><use xlink:href=\"#black\" x=\"110.5\" y=\"90.5\"/><use xlink:href=\"#white\" x=\"130.5\" y=\"90.5\"/><use xlink:href=\"#white\" x=\"150.5\" y=\"90.5\"/><use xlink:href=\"#black\" x=\"50.5\" y=\"110.5\"/><use xlink:href=\"#black\" x=\"70.5\" y=\"110.5\"/><use xlink:href=\"#black\" x=\"90.5\" y=\"110.5\"/><use xlink:href=\"#white\" x=\"110.5\" y=\"110.5\"/><use xlink:href=\"#white\" x=\"130.5\" y=\"110.5\"/><use xlink:href=\"#white\" x=\"150.5\" y=\"110.5\"/><use xlink:href=\"#white\" x=\"50.5\" y=\"130.5\"/><use xlink:href=\"#black\" x=\"70.5\" y=\"130.5\"/><use xlink:href=\"#black\" x=\"90.5\" y=\"130.5\"/><use xlink:href=\"#black\" x=\"110.5\" y=\"130.5\"/><use xlink:href=\"#white\" x=\"130.5\" y=\"130.5\"/><use xlink:href=\"#white\" x=\"150.5\" y=\"130.5\"/><use xlink:href=\"#white\" x=\"70.5\" y=\"150.5\"/><use xlink:href=\"#black\" x=\"90.5\" y=\"150.5\"/><use xlink:href=\"#black\" x=\"110.5\" y=\"150.5\"/><use xlink:href=\"#white\" x=\"130.5\" y=\"150.5\"/><use xlink:href=\"#white\" x=\"150.5\" y=\"150.5\"/></svg>",
            "text/plain": [
              "<IPython.core.display.SVG object>"
            ]
          },
          "metadata": {},
          "output_type": "display_data"
        },
        {
          "name": "stdout",
          "output_type": "stream",
          "text": [
            "b6\n",
            "45: black\n"
          ]
        },
        {
          "data": {
            "image/svg+xml": "<svg xmlns=\"http://www.w3.org/2000/svg\" xmlns:xlink=\"http://www.w3.org/1999/xlink\" version=\"1.1\" width=\"215.0\" height=\"215.0\" viewBox=\"0 0 172 172\"><defs><g id=\"black\"><circle cx=\"10\" cy=\"10\" r=\"8.5\" fill=\"black\"/></g><g id=\"white\"><circle cx=\"10\" cy=\"10\" r=\"8.5\" fill=\"white\"/></g></defs><rect fill=\"green\" height=\"161\" width=\"161\" x=\"10\" y=\"10\"/><rect x=\"30.5\" y=\"110.5\" width=\"20\" height=\"20\" fill=\"#8bbf83\"/><g stroke=\"black\"><rect width=\"161\" height=\"161\" stroke-width=\"1.5\" fill=\"none\" x=\"10\" y=\"10\"/><line stroke-width=\"1.0\" x1=\"10.5\" x2=\"170.5\" y1=\"30.5\" y2=\"30.5\"/><line stroke-width=\"1.0\" x1=\"10.5\" x2=\"170.5\" y1=\"50.5\" y2=\"50.5\"/><line stroke-width=\"1.0\" x1=\"10.5\" x2=\"170.5\" y1=\"70.5\" y2=\"70.5\"/><line stroke-width=\"1.0\" x1=\"10.5\" x2=\"170.5\" y1=\"90.5\" y2=\"90.5\"/><line stroke-width=\"1.0\" x1=\"10.5\" x2=\"170.5\" y1=\"110.5\" y2=\"110.5\"/><line stroke-width=\"1.0\" x1=\"10.5\" x2=\"170.5\" y1=\"130.5\" y2=\"130.5\"/><line stroke-width=\"1.0\" x1=\"10.5\" x2=\"170.5\" y1=\"150.5\" y2=\"150.5\"/><line stroke-width=\"1.0\" x1=\"30.5\" x2=\"30.5\" y1=\"10.5\" y2=\"170.5\"/><line stroke-width=\"1.0\" x1=\"50.5\" x2=\"50.5\" y1=\"10.5\" y2=\"170.5\"/><line stroke-width=\"1.0\" x1=\"70.5\" x2=\"70.5\" y1=\"10.5\" y2=\"170.5\"/><line stroke-width=\"1.0\" x1=\"90.5\" x2=\"90.5\" y1=\"10.5\" y2=\"170.5\"/><line stroke-width=\"1.0\" x1=\"110.5\" x2=\"110.5\" y1=\"10.5\" y2=\"170.5\"/><line stroke-width=\"1.0\" x1=\"130.5\" x2=\"130.5\" y1=\"10.5\" y2=\"170.5\"/><line stroke-width=\"1.0\" x1=\"150.5\" x2=\"150.5\" y1=\"10.5\" y2=\"170.5\"/></g><g><text font-family=\"serif\" font-size=\"9.5\" text-anchor=\"middle\" x=\"20.5\" y=\"8\">a</text><text font-family=\"serif\" font-size=\"9.5\" text-anchor=\"middle\" x=\"40.5\" y=\"8\">b</text><text font-family=\"serif\" font-size=\"9.5\" text-anchor=\"middle\" x=\"60.5\" y=\"8\">c</text><text font-family=\"serif\" font-size=\"9.5\" text-anchor=\"middle\" x=\"80.5\" y=\"8\">d</text><text font-family=\"serif\" font-size=\"9.5\" text-anchor=\"middle\" x=\"100.5\" y=\"8\">e</text><text font-family=\"serif\" font-size=\"9.5\" text-anchor=\"middle\" x=\"120.5\" y=\"8\">f</text><text font-family=\"serif\" font-size=\"9.5\" text-anchor=\"middle\" x=\"140.5\" y=\"8\">g</text><text font-family=\"serif\" font-size=\"9.5\" text-anchor=\"middle\" x=\"160.5\" y=\"8\">h</text><text font-family=\"serif\" font-size=\"9.5\" x=\"2.5\" y=\"23.5\">1</text><text font-family=\"serif\" font-size=\"9.5\" x=\"2.5\" y=\"43.5\">2</text><text font-family=\"serif\" font-size=\"9.5\" x=\"2.5\" y=\"63.5\">3</text><text font-family=\"serif\" font-size=\"9.5\" x=\"2.5\" y=\"83.5\">4</text><text font-family=\"serif\" font-size=\"9.5\" x=\"2.5\" y=\"103.5\">5</text><text font-family=\"serif\" font-size=\"9.5\" x=\"2.5\" y=\"123.5\">6</text><text font-family=\"serif\" font-size=\"9.5\" x=\"2.5\" y=\"143.5\">7</text><text font-family=\"serif\" font-size=\"9.5\" x=\"2.5\" y=\"163.5\">8</text></g><use xlink:href=\"#white\" x=\"70.5\" y=\"10.5\"/><use xlink:href=\"#black\" x=\"90.5\" y=\"10.5\"/><use xlink:href=\"#black\" x=\"110.5\" y=\"10.5\"/><use xlink:href=\"#black\" x=\"130.5\" y=\"10.5\"/><use xlink:href=\"#black\" x=\"150.5\" y=\"10.5\"/><use xlink:href=\"#white\" x=\"50.5\" y=\"30.5\"/><use xlink:href=\"#white\" x=\"70.5\" y=\"30.5\"/><use xlink:href=\"#black\" x=\"90.5\" y=\"30.5\"/><use xlink:href=\"#black\" x=\"110.5\" y=\"30.5\"/><use xlink:href=\"#black\" x=\"130.5\" y=\"30.5\"/><use xlink:href=\"#white\" x=\"150.5\" y=\"30.5\"/><use xlink:href=\"#white\" x=\"50.5\" y=\"50.5\"/><use xlink:href=\"#white\" x=\"70.5\" y=\"50.5\"/><use xlink:href=\"#black\" x=\"90.5\" y=\"50.5\"/><use xlink:href=\"#black\" x=\"110.5\" y=\"50.5\"/><use xlink:href=\"#white\" x=\"130.5\" y=\"50.5\"/><use xlink:href=\"#white\" x=\"150.5\" y=\"50.5\"/><use xlink:href=\"#white\" x=\"50.5\" y=\"70.5\"/><use xlink:href=\"#white\" x=\"70.5\" y=\"70.5\"/><use xlink:href=\"#black\" x=\"90.5\" y=\"70.5\"/><use xlink:href=\"#white\" x=\"110.5\" y=\"70.5\"/><use xlink:href=\"#white\" x=\"130.5\" y=\"70.5\"/><use xlink:href=\"#white\" x=\"150.5\" y=\"70.5\"/><use xlink:href=\"#white\" x=\"50.5\" y=\"90.5\"/><use xlink:href=\"#black\" x=\"70.5\" y=\"90.5\"/><use xlink:href=\"#white\" x=\"90.5\" y=\"90.5\"/><use xlink:href=\"#black\" x=\"110.5\" y=\"90.5\"/><use xlink:href=\"#white\" x=\"130.5\" y=\"90.5\"/><use xlink:href=\"#white\" x=\"150.5\" y=\"90.5\"/><use xlink:href=\"#white\" x=\"30.5\" y=\"110.5\"/><use xlink:href=\"#white\" x=\"50.5\" y=\"110.5\"/><use xlink:href=\"#white\" x=\"70.5\" y=\"110.5\"/><use xlink:href=\"#white\" x=\"90.5\" y=\"110.5\"/><use xlink:href=\"#white\" x=\"110.5\" y=\"110.5\"/><use xlink:href=\"#white\" x=\"130.5\" y=\"110.5\"/><use xlink:href=\"#white\" x=\"150.5\" y=\"110.5\"/><use xlink:href=\"#white\" x=\"50.5\" y=\"130.5\"/><use xlink:href=\"#black\" x=\"70.5\" y=\"130.5\"/><use xlink:href=\"#black\" x=\"90.5\" y=\"130.5\"/><use xlink:href=\"#black\" x=\"110.5\" y=\"130.5\"/><use xlink:href=\"#white\" x=\"130.5\" y=\"130.5\"/><use xlink:href=\"#white\" x=\"150.5\" y=\"130.5\"/><use xlink:href=\"#white\" x=\"70.5\" y=\"150.5\"/><use xlink:href=\"#black\" x=\"90.5\" y=\"150.5\"/><use xlink:href=\"#black\" x=\"110.5\" y=\"150.5\"/><use xlink:href=\"#white\" x=\"130.5\" y=\"150.5\"/><use xlink:href=\"#white\" x=\"150.5\" y=\"150.5\"/></svg>",
            "text/plain": [
              "<IPython.core.display.SVG object>"
            ]
          },
          "metadata": {},
          "output_type": "display_data"
        },
        {
          "name": "stdout",
          "output_type": "stream",
          "text": [
            "c8\n",
            "46: white\n"
          ]
        },
        {
          "data": {
            "image/svg+xml": "<svg xmlns=\"http://www.w3.org/2000/svg\" xmlns:xlink=\"http://www.w3.org/1999/xlink\" version=\"1.1\" width=\"215.0\" height=\"215.0\" viewBox=\"0 0 172 172\"><defs><g id=\"black\"><circle cx=\"10\" cy=\"10\" r=\"8.5\" fill=\"black\"/></g><g id=\"white\"><circle cx=\"10\" cy=\"10\" r=\"8.5\" fill=\"white\"/></g></defs><rect fill=\"green\" height=\"161\" width=\"161\" x=\"10\" y=\"10\"/><rect x=\"50.5\" y=\"150.5\" width=\"20\" height=\"20\" fill=\"#8bbf83\"/><g stroke=\"black\"><rect width=\"161\" height=\"161\" stroke-width=\"1.5\" fill=\"none\" x=\"10\" y=\"10\"/><line stroke-width=\"1.0\" x1=\"10.5\" x2=\"170.5\" y1=\"30.5\" y2=\"30.5\"/><line stroke-width=\"1.0\" x1=\"10.5\" x2=\"170.5\" y1=\"50.5\" y2=\"50.5\"/><line stroke-width=\"1.0\" x1=\"10.5\" x2=\"170.5\" y1=\"70.5\" y2=\"70.5\"/><line stroke-width=\"1.0\" x1=\"10.5\" x2=\"170.5\" y1=\"90.5\" y2=\"90.5\"/><line stroke-width=\"1.0\" x1=\"10.5\" x2=\"170.5\" y1=\"110.5\" y2=\"110.5\"/><line stroke-width=\"1.0\" x1=\"10.5\" x2=\"170.5\" y1=\"130.5\" y2=\"130.5\"/><line stroke-width=\"1.0\" x1=\"10.5\" x2=\"170.5\" y1=\"150.5\" y2=\"150.5\"/><line stroke-width=\"1.0\" x1=\"30.5\" x2=\"30.5\" y1=\"10.5\" y2=\"170.5\"/><line stroke-width=\"1.0\" x1=\"50.5\" x2=\"50.5\" y1=\"10.5\" y2=\"170.5\"/><line stroke-width=\"1.0\" x1=\"70.5\" x2=\"70.5\" y1=\"10.5\" y2=\"170.5\"/><line stroke-width=\"1.0\" x1=\"90.5\" x2=\"90.5\" y1=\"10.5\" y2=\"170.5\"/><line stroke-width=\"1.0\" x1=\"110.5\" x2=\"110.5\" y1=\"10.5\" y2=\"170.5\"/><line stroke-width=\"1.0\" x1=\"130.5\" x2=\"130.5\" y1=\"10.5\" y2=\"170.5\"/><line stroke-width=\"1.0\" x1=\"150.5\" x2=\"150.5\" y1=\"10.5\" y2=\"170.5\"/></g><g><text font-family=\"serif\" font-size=\"9.5\" text-anchor=\"middle\" x=\"20.5\" y=\"8\">a</text><text font-family=\"serif\" font-size=\"9.5\" text-anchor=\"middle\" x=\"40.5\" y=\"8\">b</text><text font-family=\"serif\" font-size=\"9.5\" text-anchor=\"middle\" x=\"60.5\" y=\"8\">c</text><text font-family=\"serif\" font-size=\"9.5\" text-anchor=\"middle\" x=\"80.5\" y=\"8\">d</text><text font-family=\"serif\" font-size=\"9.5\" text-anchor=\"middle\" x=\"100.5\" y=\"8\">e</text><text font-family=\"serif\" font-size=\"9.5\" text-anchor=\"middle\" x=\"120.5\" y=\"8\">f</text><text font-family=\"serif\" font-size=\"9.5\" text-anchor=\"middle\" x=\"140.5\" y=\"8\">g</text><text font-family=\"serif\" font-size=\"9.5\" text-anchor=\"middle\" x=\"160.5\" y=\"8\">h</text><text font-family=\"serif\" font-size=\"9.5\" x=\"2.5\" y=\"23.5\">1</text><text font-family=\"serif\" font-size=\"9.5\" x=\"2.5\" y=\"43.5\">2</text><text font-family=\"serif\" font-size=\"9.5\" x=\"2.5\" y=\"63.5\">3</text><text font-family=\"serif\" font-size=\"9.5\" x=\"2.5\" y=\"83.5\">4</text><text font-family=\"serif\" font-size=\"9.5\" x=\"2.5\" y=\"103.5\">5</text><text font-family=\"serif\" font-size=\"9.5\" x=\"2.5\" y=\"123.5\">6</text><text font-family=\"serif\" font-size=\"9.5\" x=\"2.5\" y=\"143.5\">7</text><text font-family=\"serif\" font-size=\"9.5\" x=\"2.5\" y=\"163.5\">8</text></g><use xlink:href=\"#white\" x=\"70.5\" y=\"10.5\"/><use xlink:href=\"#black\" x=\"90.5\" y=\"10.5\"/><use xlink:href=\"#black\" x=\"110.5\" y=\"10.5\"/><use xlink:href=\"#black\" x=\"130.5\" y=\"10.5\"/><use xlink:href=\"#black\" x=\"150.5\" y=\"10.5\"/><use xlink:href=\"#white\" x=\"50.5\" y=\"30.5\"/><use xlink:href=\"#white\" x=\"70.5\" y=\"30.5\"/><use xlink:href=\"#black\" x=\"90.5\" y=\"30.5\"/><use xlink:href=\"#black\" x=\"110.5\" y=\"30.5\"/><use xlink:href=\"#black\" x=\"130.5\" y=\"30.5\"/><use xlink:href=\"#white\" x=\"150.5\" y=\"30.5\"/><use xlink:href=\"#white\" x=\"50.5\" y=\"50.5\"/><use xlink:href=\"#white\" x=\"70.5\" y=\"50.5\"/><use xlink:href=\"#black\" x=\"90.5\" y=\"50.5\"/><use xlink:href=\"#black\" x=\"110.5\" y=\"50.5\"/><use xlink:href=\"#white\" x=\"130.5\" y=\"50.5\"/><use xlink:href=\"#white\" x=\"150.5\" y=\"50.5\"/><use xlink:href=\"#white\" x=\"50.5\" y=\"70.5\"/><use xlink:href=\"#white\" x=\"70.5\" y=\"70.5\"/><use xlink:href=\"#black\" x=\"90.5\" y=\"70.5\"/><use xlink:href=\"#white\" x=\"110.5\" y=\"70.5\"/><use xlink:href=\"#white\" x=\"130.5\" y=\"70.5\"/><use xlink:href=\"#white\" x=\"150.5\" y=\"70.5\"/><use xlink:href=\"#white\" x=\"50.5\" y=\"90.5\"/><use xlink:href=\"#black\" x=\"70.5\" y=\"90.5\"/><use xlink:href=\"#white\" x=\"90.5\" y=\"90.5\"/><use xlink:href=\"#black\" x=\"110.5\" y=\"90.5\"/><use xlink:href=\"#white\" x=\"130.5\" y=\"90.5\"/><use xlink:href=\"#white\" x=\"150.5\" y=\"90.5\"/><use xlink:href=\"#white\" x=\"30.5\" y=\"110.5\"/><use xlink:href=\"#white\" x=\"50.5\" y=\"110.5\"/><use xlink:href=\"#white\" x=\"70.5\" y=\"110.5\"/><use xlink:href=\"#white\" x=\"90.5\" y=\"110.5\"/><use xlink:href=\"#white\" x=\"110.5\" y=\"110.5\"/><use xlink:href=\"#white\" x=\"130.5\" y=\"110.5\"/><use xlink:href=\"#white\" x=\"150.5\" y=\"110.5\"/><use xlink:href=\"#white\" x=\"50.5\" y=\"130.5\"/><use xlink:href=\"#black\" x=\"70.5\" y=\"130.5\"/><use xlink:href=\"#black\" x=\"90.5\" y=\"130.5\"/><use xlink:href=\"#black\" x=\"110.5\" y=\"130.5\"/><use xlink:href=\"#white\" x=\"130.5\" y=\"130.5\"/><use xlink:href=\"#white\" x=\"150.5\" y=\"130.5\"/><use xlink:href=\"#black\" x=\"50.5\" y=\"150.5\"/><use xlink:href=\"#black\" x=\"70.5\" y=\"150.5\"/><use xlink:href=\"#black\" x=\"90.5\" y=\"150.5\"/><use xlink:href=\"#black\" x=\"110.5\" y=\"150.5\"/><use xlink:href=\"#white\" x=\"130.5\" y=\"150.5\"/><use xlink:href=\"#white\" x=\"150.5\" y=\"150.5\"/></svg>",
            "text/plain": [
              "<IPython.core.display.SVG object>"
            ]
          },
          "metadata": {},
          "output_type": "display_data"
        },
        {
          "name": "stdout",
          "output_type": "stream",
          "text": [
            "b8\n",
            "47: black\n"
          ]
        },
        {
          "data": {
            "image/svg+xml": "<svg xmlns=\"http://www.w3.org/2000/svg\" xmlns:xlink=\"http://www.w3.org/1999/xlink\" version=\"1.1\" width=\"215.0\" height=\"215.0\" viewBox=\"0 0 172 172\"><defs><g id=\"black\"><circle cx=\"10\" cy=\"10\" r=\"8.5\" fill=\"black\"/></g><g id=\"white\"><circle cx=\"10\" cy=\"10\" r=\"8.5\" fill=\"white\"/></g></defs><rect fill=\"green\" height=\"161\" width=\"161\" x=\"10\" y=\"10\"/><rect x=\"30.5\" y=\"150.5\" width=\"20\" height=\"20\" fill=\"#8bbf83\"/><g stroke=\"black\"><rect width=\"161\" height=\"161\" stroke-width=\"1.5\" fill=\"none\" x=\"10\" y=\"10\"/><line stroke-width=\"1.0\" x1=\"10.5\" x2=\"170.5\" y1=\"30.5\" y2=\"30.5\"/><line stroke-width=\"1.0\" x1=\"10.5\" x2=\"170.5\" y1=\"50.5\" y2=\"50.5\"/><line stroke-width=\"1.0\" x1=\"10.5\" x2=\"170.5\" y1=\"70.5\" y2=\"70.5\"/><line stroke-width=\"1.0\" x1=\"10.5\" x2=\"170.5\" y1=\"90.5\" y2=\"90.5\"/><line stroke-width=\"1.0\" x1=\"10.5\" x2=\"170.5\" y1=\"110.5\" y2=\"110.5\"/><line stroke-width=\"1.0\" x1=\"10.5\" x2=\"170.5\" y1=\"130.5\" y2=\"130.5\"/><line stroke-width=\"1.0\" x1=\"10.5\" x2=\"170.5\" y1=\"150.5\" y2=\"150.5\"/><line stroke-width=\"1.0\" x1=\"30.5\" x2=\"30.5\" y1=\"10.5\" y2=\"170.5\"/><line stroke-width=\"1.0\" x1=\"50.5\" x2=\"50.5\" y1=\"10.5\" y2=\"170.5\"/><line stroke-width=\"1.0\" x1=\"70.5\" x2=\"70.5\" y1=\"10.5\" y2=\"170.5\"/><line stroke-width=\"1.0\" x1=\"90.5\" x2=\"90.5\" y1=\"10.5\" y2=\"170.5\"/><line stroke-width=\"1.0\" x1=\"110.5\" x2=\"110.5\" y1=\"10.5\" y2=\"170.5\"/><line stroke-width=\"1.0\" x1=\"130.5\" x2=\"130.5\" y1=\"10.5\" y2=\"170.5\"/><line stroke-width=\"1.0\" x1=\"150.5\" x2=\"150.5\" y1=\"10.5\" y2=\"170.5\"/></g><g><text font-family=\"serif\" font-size=\"9.5\" text-anchor=\"middle\" x=\"20.5\" y=\"8\">a</text><text font-family=\"serif\" font-size=\"9.5\" text-anchor=\"middle\" x=\"40.5\" y=\"8\">b</text><text font-family=\"serif\" font-size=\"9.5\" text-anchor=\"middle\" x=\"60.5\" y=\"8\">c</text><text font-family=\"serif\" font-size=\"9.5\" text-anchor=\"middle\" x=\"80.5\" y=\"8\">d</text><text font-family=\"serif\" font-size=\"9.5\" text-anchor=\"middle\" x=\"100.5\" y=\"8\">e</text><text font-family=\"serif\" font-size=\"9.5\" text-anchor=\"middle\" x=\"120.5\" y=\"8\">f</text><text font-family=\"serif\" font-size=\"9.5\" text-anchor=\"middle\" x=\"140.5\" y=\"8\">g</text><text font-family=\"serif\" font-size=\"9.5\" text-anchor=\"middle\" x=\"160.5\" y=\"8\">h</text><text font-family=\"serif\" font-size=\"9.5\" x=\"2.5\" y=\"23.5\">1</text><text font-family=\"serif\" font-size=\"9.5\" x=\"2.5\" y=\"43.5\">2</text><text font-family=\"serif\" font-size=\"9.5\" x=\"2.5\" y=\"63.5\">3</text><text font-family=\"serif\" font-size=\"9.5\" x=\"2.5\" y=\"83.5\">4</text><text font-family=\"serif\" font-size=\"9.5\" x=\"2.5\" y=\"103.5\">5</text><text font-family=\"serif\" font-size=\"9.5\" x=\"2.5\" y=\"123.5\">6</text><text font-family=\"serif\" font-size=\"9.5\" x=\"2.5\" y=\"143.5\">7</text><text font-family=\"serif\" font-size=\"9.5\" x=\"2.5\" y=\"163.5\">8</text></g><use xlink:href=\"#white\" x=\"70.5\" y=\"10.5\"/><use xlink:href=\"#black\" x=\"90.5\" y=\"10.5\"/><use xlink:href=\"#black\" x=\"110.5\" y=\"10.5\"/><use xlink:href=\"#black\" x=\"130.5\" y=\"10.5\"/><use xlink:href=\"#black\" x=\"150.5\" y=\"10.5\"/><use xlink:href=\"#white\" x=\"50.5\" y=\"30.5\"/><use xlink:href=\"#white\" x=\"70.5\" y=\"30.5\"/><use xlink:href=\"#black\" x=\"90.5\" y=\"30.5\"/><use xlink:href=\"#black\" x=\"110.5\" y=\"30.5\"/><use xlink:href=\"#black\" x=\"130.5\" y=\"30.5\"/><use xlink:href=\"#white\" x=\"150.5\" y=\"30.5\"/><use xlink:href=\"#white\" x=\"50.5\" y=\"50.5\"/><use xlink:href=\"#white\" x=\"70.5\" y=\"50.5\"/><use xlink:href=\"#black\" x=\"90.5\" y=\"50.5\"/><use xlink:href=\"#black\" x=\"110.5\" y=\"50.5\"/><use xlink:href=\"#white\" x=\"130.5\" y=\"50.5\"/><use xlink:href=\"#white\" x=\"150.5\" y=\"50.5\"/><use xlink:href=\"#white\" x=\"50.5\" y=\"70.5\"/><use xlink:href=\"#white\" x=\"70.5\" y=\"70.5\"/><use xlink:href=\"#black\" x=\"90.5\" y=\"70.5\"/><use xlink:href=\"#white\" x=\"110.5\" y=\"70.5\"/><use xlink:href=\"#white\" x=\"130.5\" y=\"70.5\"/><use xlink:href=\"#white\" x=\"150.5\" y=\"70.5\"/><use xlink:href=\"#white\" x=\"50.5\" y=\"90.5\"/><use xlink:href=\"#black\" x=\"70.5\" y=\"90.5\"/><use xlink:href=\"#white\" x=\"90.5\" y=\"90.5\"/><use xlink:href=\"#black\" x=\"110.5\" y=\"90.5\"/><use xlink:href=\"#white\" x=\"130.5\" y=\"90.5\"/><use xlink:href=\"#white\" x=\"150.5\" y=\"90.5\"/><use xlink:href=\"#white\" x=\"30.5\" y=\"110.5\"/><use xlink:href=\"#white\" x=\"50.5\" y=\"110.5\"/><use xlink:href=\"#white\" x=\"70.5\" y=\"110.5\"/><use xlink:href=\"#white\" x=\"90.5\" y=\"110.5\"/><use xlink:href=\"#white\" x=\"110.5\" y=\"110.5\"/><use xlink:href=\"#white\" x=\"130.5\" y=\"110.5\"/><use xlink:href=\"#white\" x=\"150.5\" y=\"110.5\"/><use xlink:href=\"#white\" x=\"50.5\" y=\"130.5\"/><use xlink:href=\"#black\" x=\"70.5\" y=\"130.5\"/><use xlink:href=\"#black\" x=\"90.5\" y=\"130.5\"/><use xlink:href=\"#black\" x=\"110.5\" y=\"130.5\"/><use xlink:href=\"#white\" x=\"130.5\" y=\"130.5\"/><use xlink:href=\"#white\" x=\"150.5\" y=\"130.5\"/><use xlink:href=\"#white\" x=\"30.5\" y=\"150.5\"/><use xlink:href=\"#white\" x=\"50.5\" y=\"150.5\"/><use xlink:href=\"#white\" x=\"70.5\" y=\"150.5\"/><use xlink:href=\"#white\" x=\"90.5\" y=\"150.5\"/><use xlink:href=\"#white\" x=\"110.5\" y=\"150.5\"/><use xlink:href=\"#white\" x=\"130.5\" y=\"150.5\"/><use xlink:href=\"#white\" x=\"150.5\" y=\"150.5\"/></svg>",
            "text/plain": [
              "<IPython.core.display.SVG object>"
            ]
          },
          "metadata": {},
          "output_type": "display_data"
        },
        {
          "name": "stdout",
          "output_type": "stream",
          "text": [
            "c1\n",
            "48: white\n"
          ]
        },
        {
          "data": {
            "image/svg+xml": "<svg xmlns=\"http://www.w3.org/2000/svg\" xmlns:xlink=\"http://www.w3.org/1999/xlink\" version=\"1.1\" width=\"215.0\" height=\"215.0\" viewBox=\"0 0 172 172\"><defs><g id=\"black\"><circle cx=\"10\" cy=\"10\" r=\"8.5\" fill=\"black\"/></g><g id=\"white\"><circle cx=\"10\" cy=\"10\" r=\"8.5\" fill=\"white\"/></g></defs><rect fill=\"green\" height=\"161\" width=\"161\" x=\"10\" y=\"10\"/><rect x=\"50.5\" y=\"10.5\" width=\"20\" height=\"20\" fill=\"#8bbf83\"/><g stroke=\"black\"><rect width=\"161\" height=\"161\" stroke-width=\"1.5\" fill=\"none\" x=\"10\" y=\"10\"/><line stroke-width=\"1.0\" x1=\"10.5\" x2=\"170.5\" y1=\"30.5\" y2=\"30.5\"/><line stroke-width=\"1.0\" x1=\"10.5\" x2=\"170.5\" y1=\"50.5\" y2=\"50.5\"/><line stroke-width=\"1.0\" x1=\"10.5\" x2=\"170.5\" y1=\"70.5\" y2=\"70.5\"/><line stroke-width=\"1.0\" x1=\"10.5\" x2=\"170.5\" y1=\"90.5\" y2=\"90.5\"/><line stroke-width=\"1.0\" x1=\"10.5\" x2=\"170.5\" y1=\"110.5\" y2=\"110.5\"/><line stroke-width=\"1.0\" x1=\"10.5\" x2=\"170.5\" y1=\"130.5\" y2=\"130.5\"/><line stroke-width=\"1.0\" x1=\"10.5\" x2=\"170.5\" y1=\"150.5\" y2=\"150.5\"/><line stroke-width=\"1.0\" x1=\"30.5\" x2=\"30.5\" y1=\"10.5\" y2=\"170.5\"/><line stroke-width=\"1.0\" x1=\"50.5\" x2=\"50.5\" y1=\"10.5\" y2=\"170.5\"/><line stroke-width=\"1.0\" x1=\"70.5\" x2=\"70.5\" y1=\"10.5\" y2=\"170.5\"/><line stroke-width=\"1.0\" x1=\"90.5\" x2=\"90.5\" y1=\"10.5\" y2=\"170.5\"/><line stroke-width=\"1.0\" x1=\"110.5\" x2=\"110.5\" y1=\"10.5\" y2=\"170.5\"/><line stroke-width=\"1.0\" x1=\"130.5\" x2=\"130.5\" y1=\"10.5\" y2=\"170.5\"/><line stroke-width=\"1.0\" x1=\"150.5\" x2=\"150.5\" y1=\"10.5\" y2=\"170.5\"/></g><g><text font-family=\"serif\" font-size=\"9.5\" text-anchor=\"middle\" x=\"20.5\" y=\"8\">a</text><text font-family=\"serif\" font-size=\"9.5\" text-anchor=\"middle\" x=\"40.5\" y=\"8\">b</text><text font-family=\"serif\" font-size=\"9.5\" text-anchor=\"middle\" x=\"60.5\" y=\"8\">c</text><text font-family=\"serif\" font-size=\"9.5\" text-anchor=\"middle\" x=\"80.5\" y=\"8\">d</text><text font-family=\"serif\" font-size=\"9.5\" text-anchor=\"middle\" x=\"100.5\" y=\"8\">e</text><text font-family=\"serif\" font-size=\"9.5\" text-anchor=\"middle\" x=\"120.5\" y=\"8\">f</text><text font-family=\"serif\" font-size=\"9.5\" text-anchor=\"middle\" x=\"140.5\" y=\"8\">g</text><text font-family=\"serif\" font-size=\"9.5\" text-anchor=\"middle\" x=\"160.5\" y=\"8\">h</text><text font-family=\"serif\" font-size=\"9.5\" x=\"2.5\" y=\"23.5\">1</text><text font-family=\"serif\" font-size=\"9.5\" x=\"2.5\" y=\"43.5\">2</text><text font-family=\"serif\" font-size=\"9.5\" x=\"2.5\" y=\"63.5\">3</text><text font-family=\"serif\" font-size=\"9.5\" x=\"2.5\" y=\"83.5\">4</text><text font-family=\"serif\" font-size=\"9.5\" x=\"2.5\" y=\"103.5\">5</text><text font-family=\"serif\" font-size=\"9.5\" x=\"2.5\" y=\"123.5\">6</text><text font-family=\"serif\" font-size=\"9.5\" x=\"2.5\" y=\"143.5\">7</text><text font-family=\"serif\" font-size=\"9.5\" x=\"2.5\" y=\"163.5\">8</text></g><use xlink:href=\"#black\" x=\"50.5\" y=\"10.5\"/><use xlink:href=\"#black\" x=\"70.5\" y=\"10.5\"/><use xlink:href=\"#black\" x=\"90.5\" y=\"10.5\"/><use xlink:href=\"#black\" x=\"110.5\" y=\"10.5\"/><use xlink:href=\"#black\" x=\"130.5\" y=\"10.5\"/><use xlink:href=\"#black\" x=\"150.5\" y=\"10.5\"/><use xlink:href=\"#white\" x=\"50.5\" y=\"30.5\"/><use xlink:href=\"#black\" x=\"70.5\" y=\"30.5\"/><use xlink:href=\"#black\" x=\"90.5\" y=\"30.5\"/><use xlink:href=\"#black\" x=\"110.5\" y=\"30.5\"/><use xlink:href=\"#black\" x=\"130.5\" y=\"30.5\"/><use xlink:href=\"#white\" x=\"150.5\" y=\"30.5\"/><use xlink:href=\"#white\" x=\"50.5\" y=\"50.5\"/><use xlink:href=\"#white\" x=\"70.5\" y=\"50.5\"/><use xlink:href=\"#black\" x=\"90.5\" y=\"50.5\"/><use xlink:href=\"#black\" x=\"110.5\" y=\"50.5\"/><use xlink:href=\"#white\" x=\"130.5\" y=\"50.5\"/><use xlink:href=\"#white\" x=\"150.5\" y=\"50.5\"/><use xlink:href=\"#white\" x=\"50.5\" y=\"70.5\"/><use xlink:href=\"#white\" x=\"70.5\" y=\"70.5\"/><use xlink:href=\"#black\" x=\"90.5\" y=\"70.5\"/><use xlink:href=\"#white\" x=\"110.5\" y=\"70.5\"/><use xlink:href=\"#white\" x=\"130.5\" y=\"70.5\"/><use xlink:href=\"#white\" x=\"150.5\" y=\"70.5\"/><use xlink:href=\"#white\" x=\"50.5\" y=\"90.5\"/><use xlink:href=\"#black\" x=\"70.5\" y=\"90.5\"/><use xlink:href=\"#white\" x=\"90.5\" y=\"90.5\"/><use xlink:href=\"#black\" x=\"110.5\" y=\"90.5\"/><use xlink:href=\"#white\" x=\"130.5\" y=\"90.5\"/><use xlink:href=\"#white\" x=\"150.5\" y=\"90.5\"/><use xlink:href=\"#white\" x=\"30.5\" y=\"110.5\"/><use xlink:href=\"#white\" x=\"50.5\" y=\"110.5\"/><use xlink:href=\"#white\" x=\"70.5\" y=\"110.5\"/><use xlink:href=\"#white\" x=\"90.5\" y=\"110.5\"/><use xlink:href=\"#white\" x=\"110.5\" y=\"110.5\"/><use xlink:href=\"#white\" x=\"130.5\" y=\"110.5\"/><use xlink:href=\"#white\" x=\"150.5\" y=\"110.5\"/><use xlink:href=\"#white\" x=\"50.5\" y=\"130.5\"/><use xlink:href=\"#black\" x=\"70.5\" y=\"130.5\"/><use xlink:href=\"#black\" x=\"90.5\" y=\"130.5\"/><use xlink:href=\"#black\" x=\"110.5\" y=\"130.5\"/><use xlink:href=\"#white\" x=\"130.5\" y=\"130.5\"/><use xlink:href=\"#white\" x=\"150.5\" y=\"130.5\"/><use xlink:href=\"#white\" x=\"30.5\" y=\"150.5\"/><use xlink:href=\"#white\" x=\"50.5\" y=\"150.5\"/><use xlink:href=\"#white\" x=\"70.5\" y=\"150.5\"/><use xlink:href=\"#white\" x=\"90.5\" y=\"150.5\"/><use xlink:href=\"#white\" x=\"110.5\" y=\"150.5\"/><use xlink:href=\"#white\" x=\"130.5\" y=\"150.5\"/><use xlink:href=\"#white\" x=\"150.5\" y=\"150.5\"/></svg>",
            "text/plain": [
              "<IPython.core.display.SVG object>"
            ]
          },
          "metadata": {},
          "output_type": "display_data"
        },
        {
          "name": "stdout",
          "output_type": "stream",
          "text": [
            "pass\n",
            "49: black\n"
          ]
        },
        {
          "data": {
            "image/svg+xml": "<svg xmlns=\"http://www.w3.org/2000/svg\" xmlns:xlink=\"http://www.w3.org/1999/xlink\" version=\"1.1\" width=\"215.0\" height=\"215.0\" viewBox=\"0 0 172 172\"><defs><g id=\"black\"><circle cx=\"10\" cy=\"10\" r=\"8.5\" fill=\"black\"/></g><g id=\"white\"><circle cx=\"10\" cy=\"10\" r=\"8.5\" fill=\"white\"/></g></defs><rect fill=\"green\" height=\"161\" width=\"161\" x=\"10\" y=\"10\"/><g stroke=\"black\"><rect width=\"161\" height=\"161\" stroke-width=\"1.5\" fill=\"none\" x=\"10\" y=\"10\"/><line stroke-width=\"1.0\" x1=\"10.5\" x2=\"170.5\" y1=\"30.5\" y2=\"30.5\"/><line stroke-width=\"1.0\" x1=\"10.5\" x2=\"170.5\" y1=\"50.5\" y2=\"50.5\"/><line stroke-width=\"1.0\" x1=\"10.5\" x2=\"170.5\" y1=\"70.5\" y2=\"70.5\"/><line stroke-width=\"1.0\" x1=\"10.5\" x2=\"170.5\" y1=\"90.5\" y2=\"90.5\"/><line stroke-width=\"1.0\" x1=\"10.5\" x2=\"170.5\" y1=\"110.5\" y2=\"110.5\"/><line stroke-width=\"1.0\" x1=\"10.5\" x2=\"170.5\" y1=\"130.5\" y2=\"130.5\"/><line stroke-width=\"1.0\" x1=\"10.5\" x2=\"170.5\" y1=\"150.5\" y2=\"150.5\"/><line stroke-width=\"1.0\" x1=\"30.5\" x2=\"30.5\" y1=\"10.5\" y2=\"170.5\"/><line stroke-width=\"1.0\" x1=\"50.5\" x2=\"50.5\" y1=\"10.5\" y2=\"170.5\"/><line stroke-width=\"1.0\" x1=\"70.5\" x2=\"70.5\" y1=\"10.5\" y2=\"170.5\"/><line stroke-width=\"1.0\" x1=\"90.5\" x2=\"90.5\" y1=\"10.5\" y2=\"170.5\"/><line stroke-width=\"1.0\" x1=\"110.5\" x2=\"110.5\" y1=\"10.5\" y2=\"170.5\"/><line stroke-width=\"1.0\" x1=\"130.5\" x2=\"130.5\" y1=\"10.5\" y2=\"170.5\"/><line stroke-width=\"1.0\" x1=\"150.5\" x2=\"150.5\" y1=\"10.5\" y2=\"170.5\"/></g><g><text font-family=\"serif\" font-size=\"9.5\" text-anchor=\"middle\" x=\"20.5\" y=\"8\">a</text><text font-family=\"serif\" font-size=\"9.5\" text-anchor=\"middle\" x=\"40.5\" y=\"8\">b</text><text font-family=\"serif\" font-size=\"9.5\" text-anchor=\"middle\" x=\"60.5\" y=\"8\">c</text><text font-family=\"serif\" font-size=\"9.5\" text-anchor=\"middle\" x=\"80.5\" y=\"8\">d</text><text font-family=\"serif\" font-size=\"9.5\" text-anchor=\"middle\" x=\"100.5\" y=\"8\">e</text><text font-family=\"serif\" font-size=\"9.5\" text-anchor=\"middle\" x=\"120.5\" y=\"8\">f</text><text font-family=\"serif\" font-size=\"9.5\" text-anchor=\"middle\" x=\"140.5\" y=\"8\">g</text><text font-family=\"serif\" font-size=\"9.5\" text-anchor=\"middle\" x=\"160.5\" y=\"8\">h</text><text font-family=\"serif\" font-size=\"9.5\" x=\"2.5\" y=\"23.5\">1</text><text font-family=\"serif\" font-size=\"9.5\" x=\"2.5\" y=\"43.5\">2</text><text font-family=\"serif\" font-size=\"9.5\" x=\"2.5\" y=\"63.5\">3</text><text font-family=\"serif\" font-size=\"9.5\" x=\"2.5\" y=\"83.5\">4</text><text font-family=\"serif\" font-size=\"9.5\" x=\"2.5\" y=\"103.5\">5</text><text font-family=\"serif\" font-size=\"9.5\" x=\"2.5\" y=\"123.5\">6</text><text font-family=\"serif\" font-size=\"9.5\" x=\"2.5\" y=\"143.5\">7</text><text font-family=\"serif\" font-size=\"9.5\" x=\"2.5\" y=\"163.5\">8</text></g><use xlink:href=\"#black\" x=\"50.5\" y=\"10.5\"/><use xlink:href=\"#black\" x=\"70.5\" y=\"10.5\"/><use xlink:href=\"#black\" x=\"90.5\" y=\"10.5\"/><use xlink:href=\"#black\" x=\"110.5\" y=\"10.5\"/><use xlink:href=\"#black\" x=\"130.5\" y=\"10.5\"/><use xlink:href=\"#black\" x=\"150.5\" y=\"10.5\"/><use xlink:href=\"#white\" x=\"50.5\" y=\"30.5\"/><use xlink:href=\"#black\" x=\"70.5\" y=\"30.5\"/><use xlink:href=\"#black\" x=\"90.5\" y=\"30.5\"/><use xlink:href=\"#black\" x=\"110.5\" y=\"30.5\"/><use xlink:href=\"#black\" x=\"130.5\" y=\"30.5\"/><use xlink:href=\"#white\" x=\"150.5\" y=\"30.5\"/><use xlink:href=\"#white\" x=\"50.5\" y=\"50.5\"/><use xlink:href=\"#white\" x=\"70.5\" y=\"50.5\"/><use xlink:href=\"#black\" x=\"90.5\" y=\"50.5\"/><use xlink:href=\"#black\" x=\"110.5\" y=\"50.5\"/><use xlink:href=\"#white\" x=\"130.5\" y=\"50.5\"/><use xlink:href=\"#white\" x=\"150.5\" y=\"50.5\"/><use xlink:href=\"#white\" x=\"50.5\" y=\"70.5\"/><use xlink:href=\"#white\" x=\"70.5\" y=\"70.5\"/><use xlink:href=\"#black\" x=\"90.5\" y=\"70.5\"/><use xlink:href=\"#white\" x=\"110.5\" y=\"70.5\"/><use xlink:href=\"#white\" x=\"130.5\" y=\"70.5\"/><use xlink:href=\"#white\" x=\"150.5\" y=\"70.5\"/><use xlink:href=\"#white\" x=\"50.5\" y=\"90.5\"/><use xlink:href=\"#black\" x=\"70.5\" y=\"90.5\"/><use xlink:href=\"#white\" x=\"90.5\" y=\"90.5\"/><use xlink:href=\"#black\" x=\"110.5\" y=\"90.5\"/><use xlink:href=\"#white\" x=\"130.5\" y=\"90.5\"/><use xlink:href=\"#white\" x=\"150.5\" y=\"90.5\"/><use xlink:href=\"#white\" x=\"30.5\" y=\"110.5\"/><use xlink:href=\"#white\" x=\"50.5\" y=\"110.5\"/><use xlink:href=\"#white\" x=\"70.5\" y=\"110.5\"/><use xlink:href=\"#white\" x=\"90.5\" y=\"110.5\"/><use xlink:href=\"#white\" x=\"110.5\" y=\"110.5\"/><use xlink:href=\"#white\" x=\"130.5\" y=\"110.5\"/><use xlink:href=\"#white\" x=\"150.5\" y=\"110.5\"/><use xlink:href=\"#white\" x=\"50.5\" y=\"130.5\"/><use xlink:href=\"#black\" x=\"70.5\" y=\"130.5\"/><use xlink:href=\"#black\" x=\"90.5\" y=\"130.5\"/><use xlink:href=\"#black\" x=\"110.5\" y=\"130.5\"/><use xlink:href=\"#white\" x=\"130.5\" y=\"130.5\"/><use xlink:href=\"#white\" x=\"150.5\" y=\"130.5\"/><use xlink:href=\"#white\" x=\"30.5\" y=\"150.5\"/><use xlink:href=\"#white\" x=\"50.5\" y=\"150.5\"/><use xlink:href=\"#white\" x=\"70.5\" y=\"150.5\"/><use xlink:href=\"#white\" x=\"90.5\" y=\"150.5\"/><use xlink:href=\"#white\" x=\"110.5\" y=\"150.5\"/><use xlink:href=\"#white\" x=\"130.5\" y=\"150.5\"/><use xlink:href=\"#white\" x=\"150.5\" y=\"150.5\"/></svg>",
            "text/plain": [
              "<IPython.core.display.SVG object>"
            ]
          },
          "metadata": {},
          "output_type": "display_data"
        },
        {
          "name": "stdout",
          "output_type": "stream",
          "text": [
            "b1\n",
            "50: white\n"
          ]
        },
        {
          "data": {
            "image/svg+xml": "<svg xmlns=\"http://www.w3.org/2000/svg\" xmlns:xlink=\"http://www.w3.org/1999/xlink\" version=\"1.1\" width=\"215.0\" height=\"215.0\" viewBox=\"0 0 172 172\"><defs><g id=\"black\"><circle cx=\"10\" cy=\"10\" r=\"8.5\" fill=\"black\"/></g><g id=\"white\"><circle cx=\"10\" cy=\"10\" r=\"8.5\" fill=\"white\"/></g></defs><rect fill=\"green\" height=\"161\" width=\"161\" x=\"10\" y=\"10\"/><rect x=\"30.5\" y=\"10.5\" width=\"20\" height=\"20\" fill=\"#8bbf83\"/><g stroke=\"black\"><rect width=\"161\" height=\"161\" stroke-width=\"1.5\" fill=\"none\" x=\"10\" y=\"10\"/><line stroke-width=\"1.0\" x1=\"10.5\" x2=\"170.5\" y1=\"30.5\" y2=\"30.5\"/><line stroke-width=\"1.0\" x1=\"10.5\" x2=\"170.5\" y1=\"50.5\" y2=\"50.5\"/><line stroke-width=\"1.0\" x1=\"10.5\" x2=\"170.5\" y1=\"70.5\" y2=\"70.5\"/><line stroke-width=\"1.0\" x1=\"10.5\" x2=\"170.5\" y1=\"90.5\" y2=\"90.5\"/><line stroke-width=\"1.0\" x1=\"10.5\" x2=\"170.5\" y1=\"110.5\" y2=\"110.5\"/><line stroke-width=\"1.0\" x1=\"10.5\" x2=\"170.5\" y1=\"130.5\" y2=\"130.5\"/><line stroke-width=\"1.0\" x1=\"10.5\" x2=\"170.5\" y1=\"150.5\" y2=\"150.5\"/><line stroke-width=\"1.0\" x1=\"30.5\" x2=\"30.5\" y1=\"10.5\" y2=\"170.5\"/><line stroke-width=\"1.0\" x1=\"50.5\" x2=\"50.5\" y1=\"10.5\" y2=\"170.5\"/><line stroke-width=\"1.0\" x1=\"70.5\" x2=\"70.5\" y1=\"10.5\" y2=\"170.5\"/><line stroke-width=\"1.0\" x1=\"90.5\" x2=\"90.5\" y1=\"10.5\" y2=\"170.5\"/><line stroke-width=\"1.0\" x1=\"110.5\" x2=\"110.5\" y1=\"10.5\" y2=\"170.5\"/><line stroke-width=\"1.0\" x1=\"130.5\" x2=\"130.5\" y1=\"10.5\" y2=\"170.5\"/><line stroke-width=\"1.0\" x1=\"150.5\" x2=\"150.5\" y1=\"10.5\" y2=\"170.5\"/></g><g><text font-family=\"serif\" font-size=\"9.5\" text-anchor=\"middle\" x=\"20.5\" y=\"8\">a</text><text font-family=\"serif\" font-size=\"9.5\" text-anchor=\"middle\" x=\"40.5\" y=\"8\">b</text><text font-family=\"serif\" font-size=\"9.5\" text-anchor=\"middle\" x=\"60.5\" y=\"8\">c</text><text font-family=\"serif\" font-size=\"9.5\" text-anchor=\"middle\" x=\"80.5\" y=\"8\">d</text><text font-family=\"serif\" font-size=\"9.5\" text-anchor=\"middle\" x=\"100.5\" y=\"8\">e</text><text font-family=\"serif\" font-size=\"9.5\" text-anchor=\"middle\" x=\"120.5\" y=\"8\">f</text><text font-family=\"serif\" font-size=\"9.5\" text-anchor=\"middle\" x=\"140.5\" y=\"8\">g</text><text font-family=\"serif\" font-size=\"9.5\" text-anchor=\"middle\" x=\"160.5\" y=\"8\">h</text><text font-family=\"serif\" font-size=\"9.5\" x=\"2.5\" y=\"23.5\">1</text><text font-family=\"serif\" font-size=\"9.5\" x=\"2.5\" y=\"43.5\">2</text><text font-family=\"serif\" font-size=\"9.5\" x=\"2.5\" y=\"63.5\">3</text><text font-family=\"serif\" font-size=\"9.5\" x=\"2.5\" y=\"83.5\">4</text><text font-family=\"serif\" font-size=\"9.5\" x=\"2.5\" y=\"103.5\">5</text><text font-family=\"serif\" font-size=\"9.5\" x=\"2.5\" y=\"123.5\">6</text><text font-family=\"serif\" font-size=\"9.5\" x=\"2.5\" y=\"143.5\">7</text><text font-family=\"serif\" font-size=\"9.5\" x=\"2.5\" y=\"163.5\">8</text></g><use xlink:href=\"#black\" x=\"30.5\" y=\"10.5\"/><use xlink:href=\"#black\" x=\"50.5\" y=\"10.5\"/><use xlink:href=\"#black\" x=\"70.5\" y=\"10.5\"/><use xlink:href=\"#black\" x=\"90.5\" y=\"10.5\"/><use xlink:href=\"#black\" x=\"110.5\" y=\"10.5\"/><use xlink:href=\"#black\" x=\"130.5\" y=\"10.5\"/><use xlink:href=\"#black\" x=\"150.5\" y=\"10.5\"/><use xlink:href=\"#black\" x=\"50.5\" y=\"30.5\"/><use xlink:href=\"#black\" x=\"70.5\" y=\"30.5\"/><use xlink:href=\"#black\" x=\"90.5\" y=\"30.5\"/><use xlink:href=\"#black\" x=\"110.5\" y=\"30.5\"/><use xlink:href=\"#black\" x=\"130.5\" y=\"30.5\"/><use xlink:href=\"#white\" x=\"150.5\" y=\"30.5\"/><use xlink:href=\"#white\" x=\"50.5\" y=\"50.5\"/><use xlink:href=\"#black\" x=\"70.5\" y=\"50.5\"/><use xlink:href=\"#black\" x=\"90.5\" y=\"50.5\"/><use xlink:href=\"#black\" x=\"110.5\" y=\"50.5\"/><use xlink:href=\"#white\" x=\"130.5\" y=\"50.5\"/><use xlink:href=\"#white\" x=\"150.5\" y=\"50.5\"/><use xlink:href=\"#white\" x=\"50.5\" y=\"70.5\"/><use xlink:href=\"#white\" x=\"70.5\" y=\"70.5\"/><use xlink:href=\"#black\" x=\"90.5\" y=\"70.5\"/><use xlink:href=\"#white\" x=\"110.5\" y=\"70.5\"/><use xlink:href=\"#white\" x=\"130.5\" y=\"70.5\"/><use xlink:href=\"#white\" x=\"150.5\" y=\"70.5\"/><use xlink:href=\"#white\" x=\"50.5\" y=\"90.5\"/><use xlink:href=\"#black\" x=\"70.5\" y=\"90.5\"/><use xlink:href=\"#white\" x=\"90.5\" y=\"90.5\"/><use xlink:href=\"#black\" x=\"110.5\" y=\"90.5\"/><use xlink:href=\"#white\" x=\"130.5\" y=\"90.5\"/><use xlink:href=\"#white\" x=\"150.5\" y=\"90.5\"/><use xlink:href=\"#white\" x=\"30.5\" y=\"110.5\"/><use xlink:href=\"#white\" x=\"50.5\" y=\"110.5\"/><use xlink:href=\"#white\" x=\"70.5\" y=\"110.5\"/><use xlink:href=\"#white\" x=\"90.5\" y=\"110.5\"/><use xlink:href=\"#white\" x=\"110.5\" y=\"110.5\"/><use xlink:href=\"#white\" x=\"130.5\" y=\"110.5\"/><use xlink:href=\"#white\" x=\"150.5\" y=\"110.5\"/><use xlink:href=\"#white\" x=\"50.5\" y=\"130.5\"/><use xlink:href=\"#black\" x=\"70.5\" y=\"130.5\"/><use xlink:href=\"#black\" x=\"90.5\" y=\"130.5\"/><use xlink:href=\"#black\" x=\"110.5\" y=\"130.5\"/><use xlink:href=\"#white\" x=\"130.5\" y=\"130.5\"/><use xlink:href=\"#white\" x=\"150.5\" y=\"130.5\"/><use xlink:href=\"#white\" x=\"30.5\" y=\"150.5\"/><use xlink:href=\"#white\" x=\"50.5\" y=\"150.5\"/><use xlink:href=\"#white\" x=\"70.5\" y=\"150.5\"/><use xlink:href=\"#white\" x=\"90.5\" y=\"150.5\"/><use xlink:href=\"#white\" x=\"110.5\" y=\"150.5\"/><use xlink:href=\"#white\" x=\"130.5\" y=\"150.5\"/><use xlink:href=\"#white\" x=\"150.5\" y=\"150.5\"/></svg>",
            "text/plain": [
              "<IPython.core.display.SVG object>"
            ]
          },
          "metadata": {},
          "output_type": "display_data"
        },
        {
          "name": "stdout",
          "output_type": "stream",
          "text": [
            "b2\n",
            "51: black\n"
          ]
        },
        {
          "data": {
            "image/svg+xml": "<svg xmlns=\"http://www.w3.org/2000/svg\" xmlns:xlink=\"http://www.w3.org/1999/xlink\" version=\"1.1\" width=\"215.0\" height=\"215.0\" viewBox=\"0 0 172 172\"><defs><g id=\"black\"><circle cx=\"10\" cy=\"10\" r=\"8.5\" fill=\"black\"/></g><g id=\"white\"><circle cx=\"10\" cy=\"10\" r=\"8.5\" fill=\"white\"/></g></defs><rect fill=\"green\" height=\"161\" width=\"161\" x=\"10\" y=\"10\"/><rect x=\"30.5\" y=\"30.5\" width=\"20\" height=\"20\" fill=\"#8bbf83\"/><g stroke=\"black\"><rect width=\"161\" height=\"161\" stroke-width=\"1.5\" fill=\"none\" x=\"10\" y=\"10\"/><line stroke-width=\"1.0\" x1=\"10.5\" x2=\"170.5\" y1=\"30.5\" y2=\"30.5\"/><line stroke-width=\"1.0\" x1=\"10.5\" x2=\"170.5\" y1=\"50.5\" y2=\"50.5\"/><line stroke-width=\"1.0\" x1=\"10.5\" x2=\"170.5\" y1=\"70.5\" y2=\"70.5\"/><line stroke-width=\"1.0\" x1=\"10.5\" x2=\"170.5\" y1=\"90.5\" y2=\"90.5\"/><line stroke-width=\"1.0\" x1=\"10.5\" x2=\"170.5\" y1=\"110.5\" y2=\"110.5\"/><line stroke-width=\"1.0\" x1=\"10.5\" x2=\"170.5\" y1=\"130.5\" y2=\"130.5\"/><line stroke-width=\"1.0\" x1=\"10.5\" x2=\"170.5\" y1=\"150.5\" y2=\"150.5\"/><line stroke-width=\"1.0\" x1=\"30.5\" x2=\"30.5\" y1=\"10.5\" y2=\"170.5\"/><line stroke-width=\"1.0\" x1=\"50.5\" x2=\"50.5\" y1=\"10.5\" y2=\"170.5\"/><line stroke-width=\"1.0\" x1=\"70.5\" x2=\"70.5\" y1=\"10.5\" y2=\"170.5\"/><line stroke-width=\"1.0\" x1=\"90.5\" x2=\"90.5\" y1=\"10.5\" y2=\"170.5\"/><line stroke-width=\"1.0\" x1=\"110.5\" x2=\"110.5\" y1=\"10.5\" y2=\"170.5\"/><line stroke-width=\"1.0\" x1=\"130.5\" x2=\"130.5\" y1=\"10.5\" y2=\"170.5\"/><line stroke-width=\"1.0\" x1=\"150.5\" x2=\"150.5\" y1=\"10.5\" y2=\"170.5\"/></g><g><text font-family=\"serif\" font-size=\"9.5\" text-anchor=\"middle\" x=\"20.5\" y=\"8\">a</text><text font-family=\"serif\" font-size=\"9.5\" text-anchor=\"middle\" x=\"40.5\" y=\"8\">b</text><text font-family=\"serif\" font-size=\"9.5\" text-anchor=\"middle\" x=\"60.5\" y=\"8\">c</text><text font-family=\"serif\" font-size=\"9.5\" text-anchor=\"middle\" x=\"80.5\" y=\"8\">d</text><text font-family=\"serif\" font-size=\"9.5\" text-anchor=\"middle\" x=\"100.5\" y=\"8\">e</text><text font-family=\"serif\" font-size=\"9.5\" text-anchor=\"middle\" x=\"120.5\" y=\"8\">f</text><text font-family=\"serif\" font-size=\"9.5\" text-anchor=\"middle\" x=\"140.5\" y=\"8\">g</text><text font-family=\"serif\" font-size=\"9.5\" text-anchor=\"middle\" x=\"160.5\" y=\"8\">h</text><text font-family=\"serif\" font-size=\"9.5\" x=\"2.5\" y=\"23.5\">1</text><text font-family=\"serif\" font-size=\"9.5\" x=\"2.5\" y=\"43.5\">2</text><text font-family=\"serif\" font-size=\"9.5\" x=\"2.5\" y=\"63.5\">3</text><text font-family=\"serif\" font-size=\"9.5\" x=\"2.5\" y=\"83.5\">4</text><text font-family=\"serif\" font-size=\"9.5\" x=\"2.5\" y=\"103.5\">5</text><text font-family=\"serif\" font-size=\"9.5\" x=\"2.5\" y=\"123.5\">6</text><text font-family=\"serif\" font-size=\"9.5\" x=\"2.5\" y=\"143.5\">7</text><text font-family=\"serif\" font-size=\"9.5\" x=\"2.5\" y=\"163.5\">8</text></g><use xlink:href=\"#black\" x=\"30.5\" y=\"10.5\"/><use xlink:href=\"#black\" x=\"50.5\" y=\"10.5\"/><use xlink:href=\"#black\" x=\"70.5\" y=\"10.5\"/><use xlink:href=\"#black\" x=\"90.5\" y=\"10.5\"/><use xlink:href=\"#black\" x=\"110.5\" y=\"10.5\"/><use xlink:href=\"#black\" x=\"130.5\" y=\"10.5\"/><use xlink:href=\"#black\" x=\"150.5\" y=\"10.5\"/><use xlink:href=\"#white\" x=\"30.5\" y=\"30.5\"/><use xlink:href=\"#white\" x=\"50.5\" y=\"30.5\"/><use xlink:href=\"#white\" x=\"70.5\" y=\"30.5\"/><use xlink:href=\"#white\" x=\"90.5\" y=\"30.5\"/><use xlink:href=\"#white\" x=\"110.5\" y=\"30.5\"/><use xlink:href=\"#white\" x=\"130.5\" y=\"30.5\"/><use xlink:href=\"#white\" x=\"150.5\" y=\"30.5\"/><use xlink:href=\"#white\" x=\"50.5\" y=\"50.5\"/><use xlink:href=\"#black\" x=\"70.5\" y=\"50.5\"/><use xlink:href=\"#black\" x=\"90.5\" y=\"50.5\"/><use xlink:href=\"#black\" x=\"110.5\" y=\"50.5\"/><use xlink:href=\"#white\" x=\"130.5\" y=\"50.5\"/><use xlink:href=\"#white\" x=\"150.5\" y=\"50.5\"/><use xlink:href=\"#white\" x=\"50.5\" y=\"70.5\"/><use xlink:href=\"#white\" x=\"70.5\" y=\"70.5\"/><use xlink:href=\"#black\" x=\"90.5\" y=\"70.5\"/><use xlink:href=\"#white\" x=\"110.5\" y=\"70.5\"/><use xlink:href=\"#white\" x=\"130.5\" y=\"70.5\"/><use xlink:href=\"#white\" x=\"150.5\" y=\"70.5\"/><use xlink:href=\"#white\" x=\"50.5\" y=\"90.5\"/><use xlink:href=\"#black\" x=\"70.5\" y=\"90.5\"/><use xlink:href=\"#white\" x=\"90.5\" y=\"90.5\"/><use xlink:href=\"#black\" x=\"110.5\" y=\"90.5\"/><use xlink:href=\"#white\" x=\"130.5\" y=\"90.5\"/><use xlink:href=\"#white\" x=\"150.5\" y=\"90.5\"/><use xlink:href=\"#white\" x=\"30.5\" y=\"110.5\"/><use xlink:href=\"#white\" x=\"50.5\" y=\"110.5\"/><use xlink:href=\"#white\" x=\"70.5\" y=\"110.5\"/><use xlink:href=\"#white\" x=\"90.5\" y=\"110.5\"/><use xlink:href=\"#white\" x=\"110.5\" y=\"110.5\"/><use xlink:href=\"#white\" x=\"130.5\" y=\"110.5\"/><use xlink:href=\"#white\" x=\"150.5\" y=\"110.5\"/><use xlink:href=\"#white\" x=\"50.5\" y=\"130.5\"/><use xlink:href=\"#black\" x=\"70.5\" y=\"130.5\"/><use xlink:href=\"#black\" x=\"90.5\" y=\"130.5\"/><use xlink:href=\"#black\" x=\"110.5\" y=\"130.5\"/><use xlink:href=\"#white\" x=\"130.5\" y=\"130.5\"/><use xlink:href=\"#white\" x=\"150.5\" y=\"130.5\"/><use xlink:href=\"#white\" x=\"30.5\" y=\"150.5\"/><use xlink:href=\"#white\" x=\"50.5\" y=\"150.5\"/><use xlink:href=\"#white\" x=\"70.5\" y=\"150.5\"/><use xlink:href=\"#white\" x=\"90.5\" y=\"150.5\"/><use xlink:href=\"#white\" x=\"110.5\" y=\"150.5\"/><use xlink:href=\"#white\" x=\"130.5\" y=\"150.5\"/><use xlink:href=\"#white\" x=\"150.5\" y=\"150.5\"/></svg>",
            "text/plain": [
              "<IPython.core.display.SVG object>"
            ]
          },
          "metadata": {},
          "output_type": "display_data"
        },
        {
          "name": "stdout",
          "output_type": "stream",
          "text": [
            "b4\n",
            "52: white\n"
          ]
        },
        {
          "data": {
            "image/svg+xml": "<svg xmlns=\"http://www.w3.org/2000/svg\" xmlns:xlink=\"http://www.w3.org/1999/xlink\" version=\"1.1\" width=\"215.0\" height=\"215.0\" viewBox=\"0 0 172 172\"><defs><g id=\"black\"><circle cx=\"10\" cy=\"10\" r=\"8.5\" fill=\"black\"/></g><g id=\"white\"><circle cx=\"10\" cy=\"10\" r=\"8.5\" fill=\"white\"/></g></defs><rect fill=\"green\" height=\"161\" width=\"161\" x=\"10\" y=\"10\"/><rect x=\"30.5\" y=\"70.5\" width=\"20\" height=\"20\" fill=\"#8bbf83\"/><g stroke=\"black\"><rect width=\"161\" height=\"161\" stroke-width=\"1.5\" fill=\"none\" x=\"10\" y=\"10\"/><line stroke-width=\"1.0\" x1=\"10.5\" x2=\"170.5\" y1=\"30.5\" y2=\"30.5\"/><line stroke-width=\"1.0\" x1=\"10.5\" x2=\"170.5\" y1=\"50.5\" y2=\"50.5\"/><line stroke-width=\"1.0\" x1=\"10.5\" x2=\"170.5\" y1=\"70.5\" y2=\"70.5\"/><line stroke-width=\"1.0\" x1=\"10.5\" x2=\"170.5\" y1=\"90.5\" y2=\"90.5\"/><line stroke-width=\"1.0\" x1=\"10.5\" x2=\"170.5\" y1=\"110.5\" y2=\"110.5\"/><line stroke-width=\"1.0\" x1=\"10.5\" x2=\"170.5\" y1=\"130.5\" y2=\"130.5\"/><line stroke-width=\"1.0\" x1=\"10.5\" x2=\"170.5\" y1=\"150.5\" y2=\"150.5\"/><line stroke-width=\"1.0\" x1=\"30.5\" x2=\"30.5\" y1=\"10.5\" y2=\"170.5\"/><line stroke-width=\"1.0\" x1=\"50.5\" x2=\"50.5\" y1=\"10.5\" y2=\"170.5\"/><line stroke-width=\"1.0\" x1=\"70.5\" x2=\"70.5\" y1=\"10.5\" y2=\"170.5\"/><line stroke-width=\"1.0\" x1=\"90.5\" x2=\"90.5\" y1=\"10.5\" y2=\"170.5\"/><line stroke-width=\"1.0\" x1=\"110.5\" x2=\"110.5\" y1=\"10.5\" y2=\"170.5\"/><line stroke-width=\"1.0\" x1=\"130.5\" x2=\"130.5\" y1=\"10.5\" y2=\"170.5\"/><line stroke-width=\"1.0\" x1=\"150.5\" x2=\"150.5\" y1=\"10.5\" y2=\"170.5\"/></g><g><text font-family=\"serif\" font-size=\"9.5\" text-anchor=\"middle\" x=\"20.5\" y=\"8\">a</text><text font-family=\"serif\" font-size=\"9.5\" text-anchor=\"middle\" x=\"40.5\" y=\"8\">b</text><text font-family=\"serif\" font-size=\"9.5\" text-anchor=\"middle\" x=\"60.5\" y=\"8\">c</text><text font-family=\"serif\" font-size=\"9.5\" text-anchor=\"middle\" x=\"80.5\" y=\"8\">d</text><text font-family=\"serif\" font-size=\"9.5\" text-anchor=\"middle\" x=\"100.5\" y=\"8\">e</text><text font-family=\"serif\" font-size=\"9.5\" text-anchor=\"middle\" x=\"120.5\" y=\"8\">f</text><text font-family=\"serif\" font-size=\"9.5\" text-anchor=\"middle\" x=\"140.5\" y=\"8\">g</text><text font-family=\"serif\" font-size=\"9.5\" text-anchor=\"middle\" x=\"160.5\" y=\"8\">h</text><text font-family=\"serif\" font-size=\"9.5\" x=\"2.5\" y=\"23.5\">1</text><text font-family=\"serif\" font-size=\"9.5\" x=\"2.5\" y=\"43.5\">2</text><text font-family=\"serif\" font-size=\"9.5\" x=\"2.5\" y=\"63.5\">3</text><text font-family=\"serif\" font-size=\"9.5\" x=\"2.5\" y=\"83.5\">4</text><text font-family=\"serif\" font-size=\"9.5\" x=\"2.5\" y=\"103.5\">5</text><text font-family=\"serif\" font-size=\"9.5\" x=\"2.5\" y=\"123.5\">6</text><text font-family=\"serif\" font-size=\"9.5\" x=\"2.5\" y=\"143.5\">7</text><text font-family=\"serif\" font-size=\"9.5\" x=\"2.5\" y=\"163.5\">8</text></g><use xlink:href=\"#black\" x=\"30.5\" y=\"10.5\"/><use xlink:href=\"#black\" x=\"50.5\" y=\"10.5\"/><use xlink:href=\"#black\" x=\"70.5\" y=\"10.5\"/><use xlink:href=\"#black\" x=\"90.5\" y=\"10.5\"/><use xlink:href=\"#black\" x=\"110.5\" y=\"10.5\"/><use xlink:href=\"#black\" x=\"130.5\" y=\"10.5\"/><use xlink:href=\"#black\" x=\"150.5\" y=\"10.5\"/><use xlink:href=\"#white\" x=\"30.5\" y=\"30.5\"/><use xlink:href=\"#white\" x=\"50.5\" y=\"30.5\"/><use xlink:href=\"#black\" x=\"70.5\" y=\"30.5\"/><use xlink:href=\"#white\" x=\"90.5\" y=\"30.5\"/><use xlink:href=\"#white\" x=\"110.5\" y=\"30.5\"/><use xlink:href=\"#white\" x=\"130.5\" y=\"30.5\"/><use xlink:href=\"#white\" x=\"150.5\" y=\"30.5\"/><use xlink:href=\"#black\" x=\"50.5\" y=\"50.5\"/><use xlink:href=\"#black\" x=\"70.5\" y=\"50.5\"/><use xlink:href=\"#black\" x=\"90.5\" y=\"50.5\"/><use xlink:href=\"#black\" x=\"110.5\" y=\"50.5\"/><use xlink:href=\"#white\" x=\"130.5\" y=\"50.5\"/><use xlink:href=\"#white\" x=\"150.5\" y=\"50.5\"/><use xlink:href=\"#black\" x=\"30.5\" y=\"70.5\"/><use xlink:href=\"#black\" x=\"50.5\" y=\"70.5\"/><use xlink:href=\"#black\" x=\"70.5\" y=\"70.5\"/><use xlink:href=\"#black\" x=\"90.5\" y=\"70.5\"/><use xlink:href=\"#white\" x=\"110.5\" y=\"70.5\"/><use xlink:href=\"#white\" x=\"130.5\" y=\"70.5\"/><use xlink:href=\"#white\" x=\"150.5\" y=\"70.5\"/><use xlink:href=\"#black\" x=\"50.5\" y=\"90.5\"/><use xlink:href=\"#black\" x=\"70.5\" y=\"90.5\"/><use xlink:href=\"#white\" x=\"90.5\" y=\"90.5\"/><use xlink:href=\"#black\" x=\"110.5\" y=\"90.5\"/><use xlink:href=\"#white\" x=\"130.5\" y=\"90.5\"/><use xlink:href=\"#white\" x=\"150.5\" y=\"90.5\"/><use xlink:href=\"#white\" x=\"30.5\" y=\"110.5\"/><use xlink:href=\"#white\" x=\"50.5\" y=\"110.5\"/><use xlink:href=\"#black\" x=\"70.5\" y=\"110.5\"/><use xlink:href=\"#white\" x=\"90.5\" y=\"110.5\"/><use xlink:href=\"#white\" x=\"110.5\" y=\"110.5\"/><use xlink:href=\"#white\" x=\"130.5\" y=\"110.5\"/><use xlink:href=\"#white\" x=\"150.5\" y=\"110.5\"/><use xlink:href=\"#white\" x=\"50.5\" y=\"130.5\"/><use xlink:href=\"#black\" x=\"70.5\" y=\"130.5\"/><use xlink:href=\"#black\" x=\"90.5\" y=\"130.5\"/><use xlink:href=\"#black\" x=\"110.5\" y=\"130.5\"/><use xlink:href=\"#white\" x=\"130.5\" y=\"130.5\"/><use xlink:href=\"#white\" x=\"150.5\" y=\"130.5\"/><use xlink:href=\"#white\" x=\"30.5\" y=\"150.5\"/><use xlink:href=\"#white\" x=\"50.5\" y=\"150.5\"/><use xlink:href=\"#white\" x=\"70.5\" y=\"150.5\"/><use xlink:href=\"#white\" x=\"90.5\" y=\"150.5\"/><use xlink:href=\"#white\" x=\"110.5\" y=\"150.5\"/><use xlink:href=\"#white\" x=\"130.5\" y=\"150.5\"/><use xlink:href=\"#white\" x=\"150.5\" y=\"150.5\"/></svg>",
            "text/plain": [
              "<IPython.core.display.SVG object>"
            ]
          },
          "metadata": {},
          "output_type": "display_data"
        },
        {
          "name": "stdout",
          "output_type": "stream",
          "text": [
            "b5\n",
            "53: black\n"
          ]
        },
        {
          "data": {
            "image/svg+xml": "<svg xmlns=\"http://www.w3.org/2000/svg\" xmlns:xlink=\"http://www.w3.org/1999/xlink\" version=\"1.1\" width=\"215.0\" height=\"215.0\" viewBox=\"0 0 172 172\"><defs><g id=\"black\"><circle cx=\"10\" cy=\"10\" r=\"8.5\" fill=\"black\"/></g><g id=\"white\"><circle cx=\"10\" cy=\"10\" r=\"8.5\" fill=\"white\"/></g></defs><rect fill=\"green\" height=\"161\" width=\"161\" x=\"10\" y=\"10\"/><rect x=\"30.5\" y=\"90.5\" width=\"20\" height=\"20\" fill=\"#8bbf83\"/><g stroke=\"black\"><rect width=\"161\" height=\"161\" stroke-width=\"1.5\" fill=\"none\" x=\"10\" y=\"10\"/><line stroke-width=\"1.0\" x1=\"10.5\" x2=\"170.5\" y1=\"30.5\" y2=\"30.5\"/><line stroke-width=\"1.0\" x1=\"10.5\" x2=\"170.5\" y1=\"50.5\" y2=\"50.5\"/><line stroke-width=\"1.0\" x1=\"10.5\" x2=\"170.5\" y1=\"70.5\" y2=\"70.5\"/><line stroke-width=\"1.0\" x1=\"10.5\" x2=\"170.5\" y1=\"90.5\" y2=\"90.5\"/><line stroke-width=\"1.0\" x1=\"10.5\" x2=\"170.5\" y1=\"110.5\" y2=\"110.5\"/><line stroke-width=\"1.0\" x1=\"10.5\" x2=\"170.5\" y1=\"130.5\" y2=\"130.5\"/><line stroke-width=\"1.0\" x1=\"10.5\" x2=\"170.5\" y1=\"150.5\" y2=\"150.5\"/><line stroke-width=\"1.0\" x1=\"30.5\" x2=\"30.5\" y1=\"10.5\" y2=\"170.5\"/><line stroke-width=\"1.0\" x1=\"50.5\" x2=\"50.5\" y1=\"10.5\" y2=\"170.5\"/><line stroke-width=\"1.0\" x1=\"70.5\" x2=\"70.5\" y1=\"10.5\" y2=\"170.5\"/><line stroke-width=\"1.0\" x1=\"90.5\" x2=\"90.5\" y1=\"10.5\" y2=\"170.5\"/><line stroke-width=\"1.0\" x1=\"110.5\" x2=\"110.5\" y1=\"10.5\" y2=\"170.5\"/><line stroke-width=\"1.0\" x1=\"130.5\" x2=\"130.5\" y1=\"10.5\" y2=\"170.5\"/><line stroke-width=\"1.0\" x1=\"150.5\" x2=\"150.5\" y1=\"10.5\" y2=\"170.5\"/></g><g><text font-family=\"serif\" font-size=\"9.5\" text-anchor=\"middle\" x=\"20.5\" y=\"8\">a</text><text font-family=\"serif\" font-size=\"9.5\" text-anchor=\"middle\" x=\"40.5\" y=\"8\">b</text><text font-family=\"serif\" font-size=\"9.5\" text-anchor=\"middle\" x=\"60.5\" y=\"8\">c</text><text font-family=\"serif\" font-size=\"9.5\" text-anchor=\"middle\" x=\"80.5\" y=\"8\">d</text><text font-family=\"serif\" font-size=\"9.5\" text-anchor=\"middle\" x=\"100.5\" y=\"8\">e</text><text font-family=\"serif\" font-size=\"9.5\" text-anchor=\"middle\" x=\"120.5\" y=\"8\">f</text><text font-family=\"serif\" font-size=\"9.5\" text-anchor=\"middle\" x=\"140.5\" y=\"8\">g</text><text font-family=\"serif\" font-size=\"9.5\" text-anchor=\"middle\" x=\"160.5\" y=\"8\">h</text><text font-family=\"serif\" font-size=\"9.5\" x=\"2.5\" y=\"23.5\">1</text><text font-family=\"serif\" font-size=\"9.5\" x=\"2.5\" y=\"43.5\">2</text><text font-family=\"serif\" font-size=\"9.5\" x=\"2.5\" y=\"63.5\">3</text><text font-family=\"serif\" font-size=\"9.5\" x=\"2.5\" y=\"83.5\">4</text><text font-family=\"serif\" font-size=\"9.5\" x=\"2.5\" y=\"103.5\">5</text><text font-family=\"serif\" font-size=\"9.5\" x=\"2.5\" y=\"123.5\">6</text><text font-family=\"serif\" font-size=\"9.5\" x=\"2.5\" y=\"143.5\">7</text><text font-family=\"serif\" font-size=\"9.5\" x=\"2.5\" y=\"163.5\">8</text></g><use xlink:href=\"#black\" x=\"30.5\" y=\"10.5\"/><use xlink:href=\"#black\" x=\"50.5\" y=\"10.5\"/><use xlink:href=\"#black\" x=\"70.5\" y=\"10.5\"/><use xlink:href=\"#black\" x=\"90.5\" y=\"10.5\"/><use xlink:href=\"#black\" x=\"110.5\" y=\"10.5\"/><use xlink:href=\"#black\" x=\"130.5\" y=\"10.5\"/><use xlink:href=\"#black\" x=\"150.5\" y=\"10.5\"/><use xlink:href=\"#white\" x=\"30.5\" y=\"30.5\"/><use xlink:href=\"#white\" x=\"50.5\" y=\"30.5\"/><use xlink:href=\"#black\" x=\"70.5\" y=\"30.5\"/><use xlink:href=\"#white\" x=\"90.5\" y=\"30.5\"/><use xlink:href=\"#white\" x=\"110.5\" y=\"30.5\"/><use xlink:href=\"#white\" x=\"130.5\" y=\"30.5\"/><use xlink:href=\"#white\" x=\"150.5\" y=\"30.5\"/><use xlink:href=\"#black\" x=\"50.5\" y=\"50.5\"/><use xlink:href=\"#white\" x=\"70.5\" y=\"50.5\"/><use xlink:href=\"#black\" x=\"90.5\" y=\"50.5\"/><use xlink:href=\"#black\" x=\"110.5\" y=\"50.5\"/><use xlink:href=\"#white\" x=\"130.5\" y=\"50.5\"/><use xlink:href=\"#white\" x=\"150.5\" y=\"50.5\"/><use xlink:href=\"#black\" x=\"30.5\" y=\"70.5\"/><use xlink:href=\"#white\" x=\"50.5\" y=\"70.5\"/><use xlink:href=\"#black\" x=\"70.5\" y=\"70.5\"/><use xlink:href=\"#black\" x=\"90.5\" y=\"70.5\"/><use xlink:href=\"#white\" x=\"110.5\" y=\"70.5\"/><use xlink:href=\"#white\" x=\"130.5\" y=\"70.5\"/><use xlink:href=\"#white\" x=\"150.5\" y=\"70.5\"/><use xlink:href=\"#white\" x=\"30.5\" y=\"90.5\"/><use xlink:href=\"#white\" x=\"50.5\" y=\"90.5\"/><use xlink:href=\"#white\" x=\"70.5\" y=\"90.5\"/><use xlink:href=\"#white\" x=\"90.5\" y=\"90.5\"/><use xlink:href=\"#black\" x=\"110.5\" y=\"90.5\"/><use xlink:href=\"#white\" x=\"130.5\" y=\"90.5\"/><use xlink:href=\"#white\" x=\"150.5\" y=\"90.5\"/><use xlink:href=\"#white\" x=\"30.5\" y=\"110.5\"/><use xlink:href=\"#white\" x=\"50.5\" y=\"110.5\"/><use xlink:href=\"#black\" x=\"70.5\" y=\"110.5\"/><use xlink:href=\"#white\" x=\"90.5\" y=\"110.5\"/><use xlink:href=\"#white\" x=\"110.5\" y=\"110.5\"/><use xlink:href=\"#white\" x=\"130.5\" y=\"110.5\"/><use xlink:href=\"#white\" x=\"150.5\" y=\"110.5\"/><use xlink:href=\"#white\" x=\"50.5\" y=\"130.5\"/><use xlink:href=\"#black\" x=\"70.5\" y=\"130.5\"/><use xlink:href=\"#black\" x=\"90.5\" y=\"130.5\"/><use xlink:href=\"#black\" x=\"110.5\" y=\"130.5\"/><use xlink:href=\"#white\" x=\"130.5\" y=\"130.5\"/><use xlink:href=\"#white\" x=\"150.5\" y=\"130.5\"/><use xlink:href=\"#white\" x=\"30.5\" y=\"150.5\"/><use xlink:href=\"#white\" x=\"50.5\" y=\"150.5\"/><use xlink:href=\"#white\" x=\"70.5\" y=\"150.5\"/><use xlink:href=\"#white\" x=\"90.5\" y=\"150.5\"/><use xlink:href=\"#white\" x=\"110.5\" y=\"150.5\"/><use xlink:href=\"#white\" x=\"130.5\" y=\"150.5\"/><use xlink:href=\"#white\" x=\"150.5\" y=\"150.5\"/></svg>",
            "text/plain": [
              "<IPython.core.display.SVG object>"
            ]
          },
          "metadata": {},
          "output_type": "display_data"
        },
        {
          "name": "stdout",
          "output_type": "stream",
          "text": [
            "a1\n",
            "54: white\n"
          ]
        },
        {
          "data": {
            "image/svg+xml": "<svg xmlns=\"http://www.w3.org/2000/svg\" xmlns:xlink=\"http://www.w3.org/1999/xlink\" version=\"1.1\" width=\"215.0\" height=\"215.0\" viewBox=\"0 0 172 172\"><defs><g id=\"black\"><circle cx=\"10\" cy=\"10\" r=\"8.5\" fill=\"black\"/></g><g id=\"white\"><circle cx=\"10\" cy=\"10\" r=\"8.5\" fill=\"white\"/></g></defs><rect fill=\"green\" height=\"161\" width=\"161\" x=\"10\" y=\"10\"/><rect x=\"10.5\" y=\"10.5\" width=\"20\" height=\"20\" fill=\"#8bbf83\"/><g stroke=\"black\"><rect width=\"161\" height=\"161\" stroke-width=\"1.5\" fill=\"none\" x=\"10\" y=\"10\"/><line stroke-width=\"1.0\" x1=\"10.5\" x2=\"170.5\" y1=\"30.5\" y2=\"30.5\"/><line stroke-width=\"1.0\" x1=\"10.5\" x2=\"170.5\" y1=\"50.5\" y2=\"50.5\"/><line stroke-width=\"1.0\" x1=\"10.5\" x2=\"170.5\" y1=\"70.5\" y2=\"70.5\"/><line stroke-width=\"1.0\" x1=\"10.5\" x2=\"170.5\" y1=\"90.5\" y2=\"90.5\"/><line stroke-width=\"1.0\" x1=\"10.5\" x2=\"170.5\" y1=\"110.5\" y2=\"110.5\"/><line stroke-width=\"1.0\" x1=\"10.5\" x2=\"170.5\" y1=\"130.5\" y2=\"130.5\"/><line stroke-width=\"1.0\" x1=\"10.5\" x2=\"170.5\" y1=\"150.5\" y2=\"150.5\"/><line stroke-width=\"1.0\" x1=\"30.5\" x2=\"30.5\" y1=\"10.5\" y2=\"170.5\"/><line stroke-width=\"1.0\" x1=\"50.5\" x2=\"50.5\" y1=\"10.5\" y2=\"170.5\"/><line stroke-width=\"1.0\" x1=\"70.5\" x2=\"70.5\" y1=\"10.5\" y2=\"170.5\"/><line stroke-width=\"1.0\" x1=\"90.5\" x2=\"90.5\" y1=\"10.5\" y2=\"170.5\"/><line stroke-width=\"1.0\" x1=\"110.5\" x2=\"110.5\" y1=\"10.5\" y2=\"170.5\"/><line stroke-width=\"1.0\" x1=\"130.5\" x2=\"130.5\" y1=\"10.5\" y2=\"170.5\"/><line stroke-width=\"1.0\" x1=\"150.5\" x2=\"150.5\" y1=\"10.5\" y2=\"170.5\"/></g><g><text font-family=\"serif\" font-size=\"9.5\" text-anchor=\"middle\" x=\"20.5\" y=\"8\">a</text><text font-family=\"serif\" font-size=\"9.5\" text-anchor=\"middle\" x=\"40.5\" y=\"8\">b</text><text font-family=\"serif\" font-size=\"9.5\" text-anchor=\"middle\" x=\"60.5\" y=\"8\">c</text><text font-family=\"serif\" font-size=\"9.5\" text-anchor=\"middle\" x=\"80.5\" y=\"8\">d</text><text font-family=\"serif\" font-size=\"9.5\" text-anchor=\"middle\" x=\"100.5\" y=\"8\">e</text><text font-family=\"serif\" font-size=\"9.5\" text-anchor=\"middle\" x=\"120.5\" y=\"8\">f</text><text font-family=\"serif\" font-size=\"9.5\" text-anchor=\"middle\" x=\"140.5\" y=\"8\">g</text><text font-family=\"serif\" font-size=\"9.5\" text-anchor=\"middle\" x=\"160.5\" y=\"8\">h</text><text font-family=\"serif\" font-size=\"9.5\" x=\"2.5\" y=\"23.5\">1</text><text font-family=\"serif\" font-size=\"9.5\" x=\"2.5\" y=\"43.5\">2</text><text font-family=\"serif\" font-size=\"9.5\" x=\"2.5\" y=\"63.5\">3</text><text font-family=\"serif\" font-size=\"9.5\" x=\"2.5\" y=\"83.5\">4</text><text font-family=\"serif\" font-size=\"9.5\" x=\"2.5\" y=\"103.5\">5</text><text font-family=\"serif\" font-size=\"9.5\" x=\"2.5\" y=\"123.5\">6</text><text font-family=\"serif\" font-size=\"9.5\" x=\"2.5\" y=\"143.5\">7</text><text font-family=\"serif\" font-size=\"9.5\" x=\"2.5\" y=\"163.5\">8</text></g><use xlink:href=\"#black\" x=\"10.5\" y=\"10.5\"/><use xlink:href=\"#black\" x=\"30.5\" y=\"10.5\"/><use xlink:href=\"#black\" x=\"50.5\" y=\"10.5\"/><use xlink:href=\"#black\" x=\"70.5\" y=\"10.5\"/><use xlink:href=\"#black\" x=\"90.5\" y=\"10.5\"/><use xlink:href=\"#black\" x=\"110.5\" y=\"10.5\"/><use xlink:href=\"#black\" x=\"130.5\" y=\"10.5\"/><use xlink:href=\"#black\" x=\"150.5\" y=\"10.5\"/><use xlink:href=\"#black\" x=\"30.5\" y=\"30.5\"/><use xlink:href=\"#white\" x=\"50.5\" y=\"30.5\"/><use xlink:href=\"#black\" x=\"70.5\" y=\"30.5\"/><use xlink:href=\"#white\" x=\"90.5\" y=\"30.5\"/><use xlink:href=\"#white\" x=\"110.5\" y=\"30.5\"/><use xlink:href=\"#white\" x=\"130.5\" y=\"30.5\"/><use xlink:href=\"#white\" x=\"150.5\" y=\"30.5\"/><use xlink:href=\"#black\" x=\"50.5\" y=\"50.5\"/><use xlink:href=\"#white\" x=\"70.5\" y=\"50.5\"/><use xlink:href=\"#black\" x=\"90.5\" y=\"50.5\"/><use xlink:href=\"#black\" x=\"110.5\" y=\"50.5\"/><use xlink:href=\"#white\" x=\"130.5\" y=\"50.5\"/><use xlink:href=\"#white\" x=\"150.5\" y=\"50.5\"/><use xlink:href=\"#black\" x=\"30.5\" y=\"70.5\"/><use xlink:href=\"#white\" x=\"50.5\" y=\"70.5\"/><use xlink:href=\"#black\" x=\"70.5\" y=\"70.5\"/><use xlink:href=\"#black\" x=\"90.5\" y=\"70.5\"/><use xlink:href=\"#white\" x=\"110.5\" y=\"70.5\"/><use xlink:href=\"#white\" x=\"130.5\" y=\"70.5\"/><use xlink:href=\"#white\" x=\"150.5\" y=\"70.5\"/><use xlink:href=\"#white\" x=\"30.5\" y=\"90.5\"/><use xlink:href=\"#white\" x=\"50.5\" y=\"90.5\"/><use xlink:href=\"#white\" x=\"70.5\" y=\"90.5\"/><use xlink:href=\"#white\" x=\"90.5\" y=\"90.5\"/><use xlink:href=\"#black\" x=\"110.5\" y=\"90.5\"/><use xlink:href=\"#white\" x=\"130.5\" y=\"90.5\"/><use xlink:href=\"#white\" x=\"150.5\" y=\"90.5\"/><use xlink:href=\"#white\" x=\"30.5\" y=\"110.5\"/><use xlink:href=\"#white\" x=\"50.5\" y=\"110.5\"/><use xlink:href=\"#black\" x=\"70.5\" y=\"110.5\"/><use xlink:href=\"#white\" x=\"90.5\" y=\"110.5\"/><use xlink:href=\"#white\" x=\"110.5\" y=\"110.5\"/><use xlink:href=\"#white\" x=\"130.5\" y=\"110.5\"/><use xlink:href=\"#white\" x=\"150.5\" y=\"110.5\"/><use xlink:href=\"#white\" x=\"50.5\" y=\"130.5\"/><use xlink:href=\"#black\" x=\"70.5\" y=\"130.5\"/><use xlink:href=\"#black\" x=\"90.5\" y=\"130.5\"/><use xlink:href=\"#black\" x=\"110.5\" y=\"130.5\"/><use xlink:href=\"#white\" x=\"130.5\" y=\"130.5\"/><use xlink:href=\"#white\" x=\"150.5\" y=\"130.5\"/><use xlink:href=\"#white\" x=\"30.5\" y=\"150.5\"/><use xlink:href=\"#white\" x=\"50.5\" y=\"150.5\"/><use xlink:href=\"#white\" x=\"70.5\" y=\"150.5\"/><use xlink:href=\"#white\" x=\"90.5\" y=\"150.5\"/><use xlink:href=\"#white\" x=\"110.5\" y=\"150.5\"/><use xlink:href=\"#white\" x=\"130.5\" y=\"150.5\"/><use xlink:href=\"#white\" x=\"150.5\" y=\"150.5\"/></svg>",
            "text/plain": [
              "<IPython.core.display.SVG object>"
            ]
          },
          "metadata": {},
          "output_type": "display_data"
        },
        {
          "name": "stdout",
          "output_type": "stream",
          "text": [
            "a2\n",
            "55: black\n"
          ]
        },
        {
          "data": {
            "image/svg+xml": "<svg xmlns=\"http://www.w3.org/2000/svg\" xmlns:xlink=\"http://www.w3.org/1999/xlink\" version=\"1.1\" width=\"215.0\" height=\"215.0\" viewBox=\"0 0 172 172\"><defs><g id=\"black\"><circle cx=\"10\" cy=\"10\" r=\"8.5\" fill=\"black\"/></g><g id=\"white\"><circle cx=\"10\" cy=\"10\" r=\"8.5\" fill=\"white\"/></g></defs><rect fill=\"green\" height=\"161\" width=\"161\" x=\"10\" y=\"10\"/><rect x=\"10.5\" y=\"30.5\" width=\"20\" height=\"20\" fill=\"#8bbf83\"/><g stroke=\"black\"><rect width=\"161\" height=\"161\" stroke-width=\"1.5\" fill=\"none\" x=\"10\" y=\"10\"/><line stroke-width=\"1.0\" x1=\"10.5\" x2=\"170.5\" y1=\"30.5\" y2=\"30.5\"/><line stroke-width=\"1.0\" x1=\"10.5\" x2=\"170.5\" y1=\"50.5\" y2=\"50.5\"/><line stroke-width=\"1.0\" x1=\"10.5\" x2=\"170.5\" y1=\"70.5\" y2=\"70.5\"/><line stroke-width=\"1.0\" x1=\"10.5\" x2=\"170.5\" y1=\"90.5\" y2=\"90.5\"/><line stroke-width=\"1.0\" x1=\"10.5\" x2=\"170.5\" y1=\"110.5\" y2=\"110.5\"/><line stroke-width=\"1.0\" x1=\"10.5\" x2=\"170.5\" y1=\"130.5\" y2=\"130.5\"/><line stroke-width=\"1.0\" x1=\"10.5\" x2=\"170.5\" y1=\"150.5\" y2=\"150.5\"/><line stroke-width=\"1.0\" x1=\"30.5\" x2=\"30.5\" y1=\"10.5\" y2=\"170.5\"/><line stroke-width=\"1.0\" x1=\"50.5\" x2=\"50.5\" y1=\"10.5\" y2=\"170.5\"/><line stroke-width=\"1.0\" x1=\"70.5\" x2=\"70.5\" y1=\"10.5\" y2=\"170.5\"/><line stroke-width=\"1.0\" x1=\"90.5\" x2=\"90.5\" y1=\"10.5\" y2=\"170.5\"/><line stroke-width=\"1.0\" x1=\"110.5\" x2=\"110.5\" y1=\"10.5\" y2=\"170.5\"/><line stroke-width=\"1.0\" x1=\"130.5\" x2=\"130.5\" y1=\"10.5\" y2=\"170.5\"/><line stroke-width=\"1.0\" x1=\"150.5\" x2=\"150.5\" y1=\"10.5\" y2=\"170.5\"/></g><g><text font-family=\"serif\" font-size=\"9.5\" text-anchor=\"middle\" x=\"20.5\" y=\"8\">a</text><text font-family=\"serif\" font-size=\"9.5\" text-anchor=\"middle\" x=\"40.5\" y=\"8\">b</text><text font-family=\"serif\" font-size=\"9.5\" text-anchor=\"middle\" x=\"60.5\" y=\"8\">c</text><text font-family=\"serif\" font-size=\"9.5\" text-anchor=\"middle\" x=\"80.5\" y=\"8\">d</text><text font-family=\"serif\" font-size=\"9.5\" text-anchor=\"middle\" x=\"100.5\" y=\"8\">e</text><text font-family=\"serif\" font-size=\"9.5\" text-anchor=\"middle\" x=\"120.5\" y=\"8\">f</text><text font-family=\"serif\" font-size=\"9.5\" text-anchor=\"middle\" x=\"140.5\" y=\"8\">g</text><text font-family=\"serif\" font-size=\"9.5\" text-anchor=\"middle\" x=\"160.5\" y=\"8\">h</text><text font-family=\"serif\" font-size=\"9.5\" x=\"2.5\" y=\"23.5\">1</text><text font-family=\"serif\" font-size=\"9.5\" x=\"2.5\" y=\"43.5\">2</text><text font-family=\"serif\" font-size=\"9.5\" x=\"2.5\" y=\"63.5\">3</text><text font-family=\"serif\" font-size=\"9.5\" x=\"2.5\" y=\"83.5\">4</text><text font-family=\"serif\" font-size=\"9.5\" x=\"2.5\" y=\"103.5\">5</text><text font-family=\"serif\" font-size=\"9.5\" x=\"2.5\" y=\"123.5\">6</text><text font-family=\"serif\" font-size=\"9.5\" x=\"2.5\" y=\"143.5\">7</text><text font-family=\"serif\" font-size=\"9.5\" x=\"2.5\" y=\"163.5\">8</text></g><use xlink:href=\"#black\" x=\"10.5\" y=\"10.5\"/><use xlink:href=\"#black\" x=\"30.5\" y=\"10.5\"/><use xlink:href=\"#black\" x=\"50.5\" y=\"10.5\"/><use xlink:href=\"#black\" x=\"70.5\" y=\"10.5\"/><use xlink:href=\"#black\" x=\"90.5\" y=\"10.5\"/><use xlink:href=\"#black\" x=\"110.5\" y=\"10.5\"/><use xlink:href=\"#black\" x=\"130.5\" y=\"10.5\"/><use xlink:href=\"#black\" x=\"150.5\" y=\"10.5\"/><use xlink:href=\"#white\" x=\"10.5\" y=\"30.5\"/><use xlink:href=\"#white\" x=\"30.5\" y=\"30.5\"/><use xlink:href=\"#white\" x=\"50.5\" y=\"30.5\"/><use xlink:href=\"#black\" x=\"70.5\" y=\"30.5\"/><use xlink:href=\"#white\" x=\"90.5\" y=\"30.5\"/><use xlink:href=\"#white\" x=\"110.5\" y=\"30.5\"/><use xlink:href=\"#white\" x=\"130.5\" y=\"30.5\"/><use xlink:href=\"#white\" x=\"150.5\" y=\"30.5\"/><use xlink:href=\"#black\" x=\"50.5\" y=\"50.5\"/><use xlink:href=\"#white\" x=\"70.5\" y=\"50.5\"/><use xlink:href=\"#black\" x=\"90.5\" y=\"50.5\"/><use xlink:href=\"#black\" x=\"110.5\" y=\"50.5\"/><use xlink:href=\"#white\" x=\"130.5\" y=\"50.5\"/><use xlink:href=\"#white\" x=\"150.5\" y=\"50.5\"/><use xlink:href=\"#black\" x=\"30.5\" y=\"70.5\"/><use xlink:href=\"#white\" x=\"50.5\" y=\"70.5\"/><use xlink:href=\"#black\" x=\"70.5\" y=\"70.5\"/><use xlink:href=\"#black\" x=\"90.5\" y=\"70.5\"/><use xlink:href=\"#white\" x=\"110.5\" y=\"70.5\"/><use xlink:href=\"#white\" x=\"130.5\" y=\"70.5\"/><use xlink:href=\"#white\" x=\"150.5\" y=\"70.5\"/><use xlink:href=\"#white\" x=\"30.5\" y=\"90.5\"/><use xlink:href=\"#white\" x=\"50.5\" y=\"90.5\"/><use xlink:href=\"#white\" x=\"70.5\" y=\"90.5\"/><use xlink:href=\"#white\" x=\"90.5\" y=\"90.5\"/><use xlink:href=\"#black\" x=\"110.5\" y=\"90.5\"/><use xlink:href=\"#white\" x=\"130.5\" y=\"90.5\"/><use xlink:href=\"#white\" x=\"150.5\" y=\"90.5\"/><use xlink:href=\"#white\" x=\"30.5\" y=\"110.5\"/><use xlink:href=\"#white\" x=\"50.5\" y=\"110.5\"/><use xlink:href=\"#black\" x=\"70.5\" y=\"110.5\"/><use xlink:href=\"#white\" x=\"90.5\" y=\"110.5\"/><use xlink:href=\"#white\" x=\"110.5\" y=\"110.5\"/><use xlink:href=\"#white\" x=\"130.5\" y=\"110.5\"/><use xlink:href=\"#white\" x=\"150.5\" y=\"110.5\"/><use xlink:href=\"#white\" x=\"50.5\" y=\"130.5\"/><use xlink:href=\"#black\" x=\"70.5\" y=\"130.5\"/><use xlink:href=\"#black\" x=\"90.5\" y=\"130.5\"/><use xlink:href=\"#black\" x=\"110.5\" y=\"130.5\"/><use xlink:href=\"#white\" x=\"130.5\" y=\"130.5\"/><use xlink:href=\"#white\" x=\"150.5\" y=\"130.5\"/><use xlink:href=\"#white\" x=\"30.5\" y=\"150.5\"/><use xlink:href=\"#white\" x=\"50.5\" y=\"150.5\"/><use xlink:href=\"#white\" x=\"70.5\" y=\"150.5\"/><use xlink:href=\"#white\" x=\"90.5\" y=\"150.5\"/><use xlink:href=\"#white\" x=\"110.5\" y=\"150.5\"/><use xlink:href=\"#white\" x=\"130.5\" y=\"150.5\"/><use xlink:href=\"#white\" x=\"150.5\" y=\"150.5\"/></svg>",
            "text/plain": [
              "<IPython.core.display.SVG object>"
            ]
          },
          "metadata": {},
          "output_type": "display_data"
        },
        {
          "name": "stdout",
          "output_type": "stream",
          "text": [
            "a3\n",
            "56: white\n"
          ]
        },
        {
          "data": {
            "image/svg+xml": "<svg xmlns=\"http://www.w3.org/2000/svg\" xmlns:xlink=\"http://www.w3.org/1999/xlink\" version=\"1.1\" width=\"215.0\" height=\"215.0\" viewBox=\"0 0 172 172\"><defs><g id=\"black\"><circle cx=\"10\" cy=\"10\" r=\"8.5\" fill=\"black\"/></g><g id=\"white\"><circle cx=\"10\" cy=\"10\" r=\"8.5\" fill=\"white\"/></g></defs><rect fill=\"green\" height=\"161\" width=\"161\" x=\"10\" y=\"10\"/><rect x=\"10.5\" y=\"50.5\" width=\"20\" height=\"20\" fill=\"#8bbf83\"/><g stroke=\"black\"><rect width=\"161\" height=\"161\" stroke-width=\"1.5\" fill=\"none\" x=\"10\" y=\"10\"/><line stroke-width=\"1.0\" x1=\"10.5\" x2=\"170.5\" y1=\"30.5\" y2=\"30.5\"/><line stroke-width=\"1.0\" x1=\"10.5\" x2=\"170.5\" y1=\"50.5\" y2=\"50.5\"/><line stroke-width=\"1.0\" x1=\"10.5\" x2=\"170.5\" y1=\"70.5\" y2=\"70.5\"/><line stroke-width=\"1.0\" x1=\"10.5\" x2=\"170.5\" y1=\"90.5\" y2=\"90.5\"/><line stroke-width=\"1.0\" x1=\"10.5\" x2=\"170.5\" y1=\"110.5\" y2=\"110.5\"/><line stroke-width=\"1.0\" x1=\"10.5\" x2=\"170.5\" y1=\"130.5\" y2=\"130.5\"/><line stroke-width=\"1.0\" x1=\"10.5\" x2=\"170.5\" y1=\"150.5\" y2=\"150.5\"/><line stroke-width=\"1.0\" x1=\"30.5\" x2=\"30.5\" y1=\"10.5\" y2=\"170.5\"/><line stroke-width=\"1.0\" x1=\"50.5\" x2=\"50.5\" y1=\"10.5\" y2=\"170.5\"/><line stroke-width=\"1.0\" x1=\"70.5\" x2=\"70.5\" y1=\"10.5\" y2=\"170.5\"/><line stroke-width=\"1.0\" x1=\"90.5\" x2=\"90.5\" y1=\"10.5\" y2=\"170.5\"/><line stroke-width=\"1.0\" x1=\"110.5\" x2=\"110.5\" y1=\"10.5\" y2=\"170.5\"/><line stroke-width=\"1.0\" x1=\"130.5\" x2=\"130.5\" y1=\"10.5\" y2=\"170.5\"/><line stroke-width=\"1.0\" x1=\"150.5\" x2=\"150.5\" y1=\"10.5\" y2=\"170.5\"/></g><g><text font-family=\"serif\" font-size=\"9.5\" text-anchor=\"middle\" x=\"20.5\" y=\"8\">a</text><text font-family=\"serif\" font-size=\"9.5\" text-anchor=\"middle\" x=\"40.5\" y=\"8\">b</text><text font-family=\"serif\" font-size=\"9.5\" text-anchor=\"middle\" x=\"60.5\" y=\"8\">c</text><text font-family=\"serif\" font-size=\"9.5\" text-anchor=\"middle\" x=\"80.5\" y=\"8\">d</text><text font-family=\"serif\" font-size=\"9.5\" text-anchor=\"middle\" x=\"100.5\" y=\"8\">e</text><text font-family=\"serif\" font-size=\"9.5\" text-anchor=\"middle\" x=\"120.5\" y=\"8\">f</text><text font-family=\"serif\" font-size=\"9.5\" text-anchor=\"middle\" x=\"140.5\" y=\"8\">g</text><text font-family=\"serif\" font-size=\"9.5\" text-anchor=\"middle\" x=\"160.5\" y=\"8\">h</text><text font-family=\"serif\" font-size=\"9.5\" x=\"2.5\" y=\"23.5\">1</text><text font-family=\"serif\" font-size=\"9.5\" x=\"2.5\" y=\"43.5\">2</text><text font-family=\"serif\" font-size=\"9.5\" x=\"2.5\" y=\"63.5\">3</text><text font-family=\"serif\" font-size=\"9.5\" x=\"2.5\" y=\"83.5\">4</text><text font-family=\"serif\" font-size=\"9.5\" x=\"2.5\" y=\"103.5\">5</text><text font-family=\"serif\" font-size=\"9.5\" x=\"2.5\" y=\"123.5\">6</text><text font-family=\"serif\" font-size=\"9.5\" x=\"2.5\" y=\"143.5\">7</text><text font-family=\"serif\" font-size=\"9.5\" x=\"2.5\" y=\"163.5\">8</text></g><use xlink:href=\"#black\" x=\"10.5\" y=\"10.5\"/><use xlink:href=\"#black\" x=\"30.5\" y=\"10.5\"/><use xlink:href=\"#black\" x=\"50.5\" y=\"10.5\"/><use xlink:href=\"#black\" x=\"70.5\" y=\"10.5\"/><use xlink:href=\"#black\" x=\"90.5\" y=\"10.5\"/><use xlink:href=\"#black\" x=\"110.5\" y=\"10.5\"/><use xlink:href=\"#black\" x=\"130.5\" y=\"10.5\"/><use xlink:href=\"#black\" x=\"150.5\" y=\"10.5\"/><use xlink:href=\"#black\" x=\"10.5\" y=\"30.5\"/><use xlink:href=\"#black\" x=\"30.5\" y=\"30.5\"/><use xlink:href=\"#white\" x=\"50.5\" y=\"30.5\"/><use xlink:href=\"#black\" x=\"70.5\" y=\"30.5\"/><use xlink:href=\"#white\" x=\"90.5\" y=\"30.5\"/><use xlink:href=\"#white\" x=\"110.5\" y=\"30.5\"/><use xlink:href=\"#white\" x=\"130.5\" y=\"30.5\"/><use xlink:href=\"#white\" x=\"150.5\" y=\"30.5\"/><use xlink:href=\"#black\" x=\"10.5\" y=\"50.5\"/><use xlink:href=\"#black\" x=\"50.5\" y=\"50.5\"/><use xlink:href=\"#white\" x=\"70.5\" y=\"50.5\"/><use xlink:href=\"#black\" x=\"90.5\" y=\"50.5\"/><use xlink:href=\"#black\" x=\"110.5\" y=\"50.5\"/><use xlink:href=\"#white\" x=\"130.5\" y=\"50.5\"/><use xlink:href=\"#white\" x=\"150.5\" y=\"50.5\"/><use xlink:href=\"#black\" x=\"30.5\" y=\"70.5\"/><use xlink:href=\"#white\" x=\"50.5\" y=\"70.5\"/><use xlink:href=\"#black\" x=\"70.5\" y=\"70.5\"/><use xlink:href=\"#black\" x=\"90.5\" y=\"70.5\"/><use xlink:href=\"#white\" x=\"110.5\" y=\"70.5\"/><use xlink:href=\"#white\" x=\"130.5\" y=\"70.5\"/><use xlink:href=\"#white\" x=\"150.5\" y=\"70.5\"/><use xlink:href=\"#white\" x=\"30.5\" y=\"90.5\"/><use xlink:href=\"#white\" x=\"50.5\" y=\"90.5\"/><use xlink:href=\"#white\" x=\"70.5\" y=\"90.5\"/><use xlink:href=\"#white\" x=\"90.5\" y=\"90.5\"/><use xlink:href=\"#black\" x=\"110.5\" y=\"90.5\"/><use xlink:href=\"#white\" x=\"130.5\" y=\"90.5\"/><use xlink:href=\"#white\" x=\"150.5\" y=\"90.5\"/><use xlink:href=\"#white\" x=\"30.5\" y=\"110.5\"/><use xlink:href=\"#white\" x=\"50.5\" y=\"110.5\"/><use xlink:href=\"#black\" x=\"70.5\" y=\"110.5\"/><use xlink:href=\"#white\" x=\"90.5\" y=\"110.5\"/><use xlink:href=\"#white\" x=\"110.5\" y=\"110.5\"/><use xlink:href=\"#white\" x=\"130.5\" y=\"110.5\"/><use xlink:href=\"#white\" x=\"150.5\" y=\"110.5\"/><use xlink:href=\"#white\" x=\"50.5\" y=\"130.5\"/><use xlink:href=\"#black\" x=\"70.5\" y=\"130.5\"/><use xlink:href=\"#black\" x=\"90.5\" y=\"130.5\"/><use xlink:href=\"#black\" x=\"110.5\" y=\"130.5\"/><use xlink:href=\"#white\" x=\"130.5\" y=\"130.5\"/><use xlink:href=\"#white\" x=\"150.5\" y=\"130.5\"/><use xlink:href=\"#white\" x=\"30.5\" y=\"150.5\"/><use xlink:href=\"#white\" x=\"50.5\" y=\"150.5\"/><use xlink:href=\"#white\" x=\"70.5\" y=\"150.5\"/><use xlink:href=\"#white\" x=\"90.5\" y=\"150.5\"/><use xlink:href=\"#white\" x=\"110.5\" y=\"150.5\"/><use xlink:href=\"#white\" x=\"130.5\" y=\"150.5\"/><use xlink:href=\"#white\" x=\"150.5\" y=\"150.5\"/></svg>",
            "text/plain": [
              "<IPython.core.display.SVG object>"
            ]
          },
          "metadata": {},
          "output_type": "display_data"
        },
        {
          "name": "stdout",
          "output_type": "stream",
          "text": [
            "a4\n",
            "57: black\n"
          ]
        },
        {
          "data": {
            "image/svg+xml": "<svg xmlns=\"http://www.w3.org/2000/svg\" xmlns:xlink=\"http://www.w3.org/1999/xlink\" version=\"1.1\" width=\"215.0\" height=\"215.0\" viewBox=\"0 0 172 172\"><defs><g id=\"black\"><circle cx=\"10\" cy=\"10\" r=\"8.5\" fill=\"black\"/></g><g id=\"white\"><circle cx=\"10\" cy=\"10\" r=\"8.5\" fill=\"white\"/></g></defs><rect fill=\"green\" height=\"161\" width=\"161\" x=\"10\" y=\"10\"/><rect x=\"10.5\" y=\"70.5\" width=\"20\" height=\"20\" fill=\"#8bbf83\"/><g stroke=\"black\"><rect width=\"161\" height=\"161\" stroke-width=\"1.5\" fill=\"none\" x=\"10\" y=\"10\"/><line stroke-width=\"1.0\" x1=\"10.5\" x2=\"170.5\" y1=\"30.5\" y2=\"30.5\"/><line stroke-width=\"1.0\" x1=\"10.5\" x2=\"170.5\" y1=\"50.5\" y2=\"50.5\"/><line stroke-width=\"1.0\" x1=\"10.5\" x2=\"170.5\" y1=\"70.5\" y2=\"70.5\"/><line stroke-width=\"1.0\" x1=\"10.5\" x2=\"170.5\" y1=\"90.5\" y2=\"90.5\"/><line stroke-width=\"1.0\" x1=\"10.5\" x2=\"170.5\" y1=\"110.5\" y2=\"110.5\"/><line stroke-width=\"1.0\" x1=\"10.5\" x2=\"170.5\" y1=\"130.5\" y2=\"130.5\"/><line stroke-width=\"1.0\" x1=\"10.5\" x2=\"170.5\" y1=\"150.5\" y2=\"150.5\"/><line stroke-width=\"1.0\" x1=\"30.5\" x2=\"30.5\" y1=\"10.5\" y2=\"170.5\"/><line stroke-width=\"1.0\" x1=\"50.5\" x2=\"50.5\" y1=\"10.5\" y2=\"170.5\"/><line stroke-width=\"1.0\" x1=\"70.5\" x2=\"70.5\" y1=\"10.5\" y2=\"170.5\"/><line stroke-width=\"1.0\" x1=\"90.5\" x2=\"90.5\" y1=\"10.5\" y2=\"170.5\"/><line stroke-width=\"1.0\" x1=\"110.5\" x2=\"110.5\" y1=\"10.5\" y2=\"170.5\"/><line stroke-width=\"1.0\" x1=\"130.5\" x2=\"130.5\" y1=\"10.5\" y2=\"170.5\"/><line stroke-width=\"1.0\" x1=\"150.5\" x2=\"150.5\" y1=\"10.5\" y2=\"170.5\"/></g><g><text font-family=\"serif\" font-size=\"9.5\" text-anchor=\"middle\" x=\"20.5\" y=\"8\">a</text><text font-family=\"serif\" font-size=\"9.5\" text-anchor=\"middle\" x=\"40.5\" y=\"8\">b</text><text font-family=\"serif\" font-size=\"9.5\" text-anchor=\"middle\" x=\"60.5\" y=\"8\">c</text><text font-family=\"serif\" font-size=\"9.5\" text-anchor=\"middle\" x=\"80.5\" y=\"8\">d</text><text font-family=\"serif\" font-size=\"9.5\" text-anchor=\"middle\" x=\"100.5\" y=\"8\">e</text><text font-family=\"serif\" font-size=\"9.5\" text-anchor=\"middle\" x=\"120.5\" y=\"8\">f</text><text font-family=\"serif\" font-size=\"9.5\" text-anchor=\"middle\" x=\"140.5\" y=\"8\">g</text><text font-family=\"serif\" font-size=\"9.5\" text-anchor=\"middle\" x=\"160.5\" y=\"8\">h</text><text font-family=\"serif\" font-size=\"9.5\" x=\"2.5\" y=\"23.5\">1</text><text font-family=\"serif\" font-size=\"9.5\" x=\"2.5\" y=\"43.5\">2</text><text font-family=\"serif\" font-size=\"9.5\" x=\"2.5\" y=\"63.5\">3</text><text font-family=\"serif\" font-size=\"9.5\" x=\"2.5\" y=\"83.5\">4</text><text font-family=\"serif\" font-size=\"9.5\" x=\"2.5\" y=\"103.5\">5</text><text font-family=\"serif\" font-size=\"9.5\" x=\"2.5\" y=\"123.5\">6</text><text font-family=\"serif\" font-size=\"9.5\" x=\"2.5\" y=\"143.5\">7</text><text font-family=\"serif\" font-size=\"9.5\" x=\"2.5\" y=\"163.5\">8</text></g><use xlink:href=\"#black\" x=\"10.5\" y=\"10.5\"/><use xlink:href=\"#black\" x=\"30.5\" y=\"10.5\"/><use xlink:href=\"#black\" x=\"50.5\" y=\"10.5\"/><use xlink:href=\"#black\" x=\"70.5\" y=\"10.5\"/><use xlink:href=\"#black\" x=\"90.5\" y=\"10.5\"/><use xlink:href=\"#black\" x=\"110.5\" y=\"10.5\"/><use xlink:href=\"#black\" x=\"130.5\" y=\"10.5\"/><use xlink:href=\"#black\" x=\"150.5\" y=\"10.5\"/><use xlink:href=\"#black\" x=\"10.5\" y=\"30.5\"/><use xlink:href=\"#black\" x=\"30.5\" y=\"30.5\"/><use xlink:href=\"#white\" x=\"50.5\" y=\"30.5\"/><use xlink:href=\"#black\" x=\"70.5\" y=\"30.5\"/><use xlink:href=\"#white\" x=\"90.5\" y=\"30.5\"/><use xlink:href=\"#white\" x=\"110.5\" y=\"30.5\"/><use xlink:href=\"#white\" x=\"130.5\" y=\"30.5\"/><use xlink:href=\"#white\" x=\"150.5\" y=\"30.5\"/><use xlink:href=\"#black\" x=\"10.5\" y=\"50.5\"/><use xlink:href=\"#black\" x=\"50.5\" y=\"50.5\"/><use xlink:href=\"#white\" x=\"70.5\" y=\"50.5\"/><use xlink:href=\"#black\" x=\"90.5\" y=\"50.5\"/><use xlink:href=\"#black\" x=\"110.5\" y=\"50.5\"/><use xlink:href=\"#white\" x=\"130.5\" y=\"50.5\"/><use xlink:href=\"#white\" x=\"150.5\" y=\"50.5\"/><use xlink:href=\"#white\" x=\"10.5\" y=\"70.5\"/><use xlink:href=\"#white\" x=\"30.5\" y=\"70.5\"/><use xlink:href=\"#white\" x=\"50.5\" y=\"70.5\"/><use xlink:href=\"#black\" x=\"70.5\" y=\"70.5\"/><use xlink:href=\"#black\" x=\"90.5\" y=\"70.5\"/><use xlink:href=\"#white\" x=\"110.5\" y=\"70.5\"/><use xlink:href=\"#white\" x=\"130.5\" y=\"70.5\"/><use xlink:href=\"#white\" x=\"150.5\" y=\"70.5\"/><use xlink:href=\"#white\" x=\"30.5\" y=\"90.5\"/><use xlink:href=\"#white\" x=\"50.5\" y=\"90.5\"/><use xlink:href=\"#white\" x=\"70.5\" y=\"90.5\"/><use xlink:href=\"#white\" x=\"90.5\" y=\"90.5\"/><use xlink:href=\"#black\" x=\"110.5\" y=\"90.5\"/><use xlink:href=\"#white\" x=\"130.5\" y=\"90.5\"/><use xlink:href=\"#white\" x=\"150.5\" y=\"90.5\"/><use xlink:href=\"#white\" x=\"30.5\" y=\"110.5\"/><use xlink:href=\"#white\" x=\"50.5\" y=\"110.5\"/><use xlink:href=\"#black\" x=\"70.5\" y=\"110.5\"/><use xlink:href=\"#white\" x=\"90.5\" y=\"110.5\"/><use xlink:href=\"#white\" x=\"110.5\" y=\"110.5\"/><use xlink:href=\"#white\" x=\"130.5\" y=\"110.5\"/><use xlink:href=\"#white\" x=\"150.5\" y=\"110.5\"/><use xlink:href=\"#white\" x=\"50.5\" y=\"130.5\"/><use xlink:href=\"#black\" x=\"70.5\" y=\"130.5\"/><use xlink:href=\"#black\" x=\"90.5\" y=\"130.5\"/><use xlink:href=\"#black\" x=\"110.5\" y=\"130.5\"/><use xlink:href=\"#white\" x=\"130.5\" y=\"130.5\"/><use xlink:href=\"#white\" x=\"150.5\" y=\"130.5\"/><use xlink:href=\"#white\" x=\"30.5\" y=\"150.5\"/><use xlink:href=\"#white\" x=\"50.5\" y=\"150.5\"/><use xlink:href=\"#white\" x=\"70.5\" y=\"150.5\"/><use xlink:href=\"#white\" x=\"90.5\" y=\"150.5\"/><use xlink:href=\"#white\" x=\"110.5\" y=\"150.5\"/><use xlink:href=\"#white\" x=\"130.5\" y=\"150.5\"/><use xlink:href=\"#white\" x=\"150.5\" y=\"150.5\"/></svg>",
            "text/plain": [
              "<IPython.core.display.SVG object>"
            ]
          },
          "metadata": {},
          "output_type": "display_data"
        },
        {
          "name": "stdout",
          "output_type": "stream",
          "text": [
            "b3\n",
            "58: white\n"
          ]
        },
        {
          "data": {
            "image/svg+xml": "<svg xmlns=\"http://www.w3.org/2000/svg\" xmlns:xlink=\"http://www.w3.org/1999/xlink\" version=\"1.1\" width=\"215.0\" height=\"215.0\" viewBox=\"0 0 172 172\"><defs><g id=\"black\"><circle cx=\"10\" cy=\"10\" r=\"8.5\" fill=\"black\"/></g><g id=\"white\"><circle cx=\"10\" cy=\"10\" r=\"8.5\" fill=\"white\"/></g></defs><rect fill=\"green\" height=\"161\" width=\"161\" x=\"10\" y=\"10\"/><rect x=\"30.5\" y=\"50.5\" width=\"20\" height=\"20\" fill=\"#8bbf83\"/><g stroke=\"black\"><rect width=\"161\" height=\"161\" stroke-width=\"1.5\" fill=\"none\" x=\"10\" y=\"10\"/><line stroke-width=\"1.0\" x1=\"10.5\" x2=\"170.5\" y1=\"30.5\" y2=\"30.5\"/><line stroke-width=\"1.0\" x1=\"10.5\" x2=\"170.5\" y1=\"50.5\" y2=\"50.5\"/><line stroke-width=\"1.0\" x1=\"10.5\" x2=\"170.5\" y1=\"70.5\" y2=\"70.5\"/><line stroke-width=\"1.0\" x1=\"10.5\" x2=\"170.5\" y1=\"90.5\" y2=\"90.5\"/><line stroke-width=\"1.0\" x1=\"10.5\" x2=\"170.5\" y1=\"110.5\" y2=\"110.5\"/><line stroke-width=\"1.0\" x1=\"10.5\" x2=\"170.5\" y1=\"130.5\" y2=\"130.5\"/><line stroke-width=\"1.0\" x1=\"10.5\" x2=\"170.5\" y1=\"150.5\" y2=\"150.5\"/><line stroke-width=\"1.0\" x1=\"30.5\" x2=\"30.5\" y1=\"10.5\" y2=\"170.5\"/><line stroke-width=\"1.0\" x1=\"50.5\" x2=\"50.5\" y1=\"10.5\" y2=\"170.5\"/><line stroke-width=\"1.0\" x1=\"70.5\" x2=\"70.5\" y1=\"10.5\" y2=\"170.5\"/><line stroke-width=\"1.0\" x1=\"90.5\" x2=\"90.5\" y1=\"10.5\" y2=\"170.5\"/><line stroke-width=\"1.0\" x1=\"110.5\" x2=\"110.5\" y1=\"10.5\" y2=\"170.5\"/><line stroke-width=\"1.0\" x1=\"130.5\" x2=\"130.5\" y1=\"10.5\" y2=\"170.5\"/><line stroke-width=\"1.0\" x1=\"150.5\" x2=\"150.5\" y1=\"10.5\" y2=\"170.5\"/></g><g><text font-family=\"serif\" font-size=\"9.5\" text-anchor=\"middle\" x=\"20.5\" y=\"8\">a</text><text font-family=\"serif\" font-size=\"9.5\" text-anchor=\"middle\" x=\"40.5\" y=\"8\">b</text><text font-family=\"serif\" font-size=\"9.5\" text-anchor=\"middle\" x=\"60.5\" y=\"8\">c</text><text font-family=\"serif\" font-size=\"9.5\" text-anchor=\"middle\" x=\"80.5\" y=\"8\">d</text><text font-family=\"serif\" font-size=\"9.5\" text-anchor=\"middle\" x=\"100.5\" y=\"8\">e</text><text font-family=\"serif\" font-size=\"9.5\" text-anchor=\"middle\" x=\"120.5\" y=\"8\">f</text><text font-family=\"serif\" font-size=\"9.5\" text-anchor=\"middle\" x=\"140.5\" y=\"8\">g</text><text font-family=\"serif\" font-size=\"9.5\" text-anchor=\"middle\" x=\"160.5\" y=\"8\">h</text><text font-family=\"serif\" font-size=\"9.5\" x=\"2.5\" y=\"23.5\">1</text><text font-family=\"serif\" font-size=\"9.5\" x=\"2.5\" y=\"43.5\">2</text><text font-family=\"serif\" font-size=\"9.5\" x=\"2.5\" y=\"63.5\">3</text><text font-family=\"serif\" font-size=\"9.5\" x=\"2.5\" y=\"83.5\">4</text><text font-family=\"serif\" font-size=\"9.5\" x=\"2.5\" y=\"103.5\">5</text><text font-family=\"serif\" font-size=\"9.5\" x=\"2.5\" y=\"123.5\">6</text><text font-family=\"serif\" font-size=\"9.5\" x=\"2.5\" y=\"143.5\">7</text><text font-family=\"serif\" font-size=\"9.5\" x=\"2.5\" y=\"163.5\">8</text></g><use xlink:href=\"#black\" x=\"10.5\" y=\"10.5\"/><use xlink:href=\"#black\" x=\"30.5\" y=\"10.5\"/><use xlink:href=\"#black\" x=\"50.5\" y=\"10.5\"/><use xlink:href=\"#black\" x=\"70.5\" y=\"10.5\"/><use xlink:href=\"#black\" x=\"90.5\" y=\"10.5\"/><use xlink:href=\"#black\" x=\"110.5\" y=\"10.5\"/><use xlink:href=\"#black\" x=\"130.5\" y=\"10.5\"/><use xlink:href=\"#black\" x=\"150.5\" y=\"10.5\"/><use xlink:href=\"#black\" x=\"10.5\" y=\"30.5\"/><use xlink:href=\"#black\" x=\"30.5\" y=\"30.5\"/><use xlink:href=\"#black\" x=\"50.5\" y=\"30.5\"/><use xlink:href=\"#black\" x=\"70.5\" y=\"30.5\"/><use xlink:href=\"#white\" x=\"90.5\" y=\"30.5\"/><use xlink:href=\"#white\" x=\"110.5\" y=\"30.5\"/><use xlink:href=\"#white\" x=\"130.5\" y=\"30.5\"/><use xlink:href=\"#white\" x=\"150.5\" y=\"30.5\"/><use xlink:href=\"#black\" x=\"10.5\" y=\"50.5\"/><use xlink:href=\"#black\" x=\"30.5\" y=\"50.5\"/><use xlink:href=\"#black\" x=\"50.5\" y=\"50.5\"/><use xlink:href=\"#white\" x=\"70.5\" y=\"50.5\"/><use xlink:href=\"#black\" x=\"90.5\" y=\"50.5\"/><use xlink:href=\"#black\" x=\"110.5\" y=\"50.5\"/><use xlink:href=\"#white\" x=\"130.5\" y=\"50.5\"/><use xlink:href=\"#white\" x=\"150.5\" y=\"50.5\"/><use xlink:href=\"#white\" x=\"10.5\" y=\"70.5\"/><use xlink:href=\"#white\" x=\"30.5\" y=\"70.5\"/><use xlink:href=\"#black\" x=\"50.5\" y=\"70.5\"/><use xlink:href=\"#black\" x=\"70.5\" y=\"70.5\"/><use xlink:href=\"#black\" x=\"90.5\" y=\"70.5\"/><use xlink:href=\"#white\" x=\"110.5\" y=\"70.5\"/><use xlink:href=\"#white\" x=\"130.5\" y=\"70.5\"/><use xlink:href=\"#white\" x=\"150.5\" y=\"70.5\"/><use xlink:href=\"#white\" x=\"30.5\" y=\"90.5\"/><use xlink:href=\"#white\" x=\"50.5\" y=\"90.5\"/><use xlink:href=\"#black\" x=\"70.5\" y=\"90.5\"/><use xlink:href=\"#white\" x=\"90.5\" y=\"90.5\"/><use xlink:href=\"#black\" x=\"110.5\" y=\"90.5\"/><use xlink:href=\"#white\" x=\"130.5\" y=\"90.5\"/><use xlink:href=\"#white\" x=\"150.5\" y=\"90.5\"/><use xlink:href=\"#white\" x=\"30.5\" y=\"110.5\"/><use xlink:href=\"#white\" x=\"50.5\" y=\"110.5\"/><use xlink:href=\"#black\" x=\"70.5\" y=\"110.5\"/><use xlink:href=\"#black\" x=\"90.5\" y=\"110.5\"/><use xlink:href=\"#white\" x=\"110.5\" y=\"110.5\"/><use xlink:href=\"#white\" x=\"130.5\" y=\"110.5\"/><use xlink:href=\"#white\" x=\"150.5\" y=\"110.5\"/><use xlink:href=\"#white\" x=\"50.5\" y=\"130.5\"/><use xlink:href=\"#black\" x=\"70.5\" y=\"130.5\"/><use xlink:href=\"#black\" x=\"90.5\" y=\"130.5\"/><use xlink:href=\"#black\" x=\"110.5\" y=\"130.5\"/><use xlink:href=\"#white\" x=\"130.5\" y=\"130.5\"/><use xlink:href=\"#white\" x=\"150.5\" y=\"130.5\"/><use xlink:href=\"#white\" x=\"30.5\" y=\"150.5\"/><use xlink:href=\"#white\" x=\"50.5\" y=\"150.5\"/><use xlink:href=\"#white\" x=\"70.5\" y=\"150.5\"/><use xlink:href=\"#white\" x=\"90.5\" y=\"150.5\"/><use xlink:href=\"#white\" x=\"110.5\" y=\"150.5\"/><use xlink:href=\"#white\" x=\"130.5\" y=\"150.5\"/><use xlink:href=\"#white\" x=\"150.5\" y=\"150.5\"/></svg>",
            "text/plain": [
              "<IPython.core.display.SVG object>"
            ]
          },
          "metadata": {},
          "output_type": "display_data"
        },
        {
          "name": "stdout",
          "output_type": "stream",
          "text": [
            "pass\n",
            "59: black\n"
          ]
        },
        {
          "data": {
            "image/svg+xml": "<svg xmlns=\"http://www.w3.org/2000/svg\" xmlns:xlink=\"http://www.w3.org/1999/xlink\" version=\"1.1\" width=\"215.0\" height=\"215.0\" viewBox=\"0 0 172 172\"><defs><g id=\"black\"><circle cx=\"10\" cy=\"10\" r=\"8.5\" fill=\"black\"/></g><g id=\"white\"><circle cx=\"10\" cy=\"10\" r=\"8.5\" fill=\"white\"/></g></defs><rect fill=\"green\" height=\"161\" width=\"161\" x=\"10\" y=\"10\"/><g stroke=\"black\"><rect width=\"161\" height=\"161\" stroke-width=\"1.5\" fill=\"none\" x=\"10\" y=\"10\"/><line stroke-width=\"1.0\" x1=\"10.5\" x2=\"170.5\" y1=\"30.5\" y2=\"30.5\"/><line stroke-width=\"1.0\" x1=\"10.5\" x2=\"170.5\" y1=\"50.5\" y2=\"50.5\"/><line stroke-width=\"1.0\" x1=\"10.5\" x2=\"170.5\" y1=\"70.5\" y2=\"70.5\"/><line stroke-width=\"1.0\" x1=\"10.5\" x2=\"170.5\" y1=\"90.5\" y2=\"90.5\"/><line stroke-width=\"1.0\" x1=\"10.5\" x2=\"170.5\" y1=\"110.5\" y2=\"110.5\"/><line stroke-width=\"1.0\" x1=\"10.5\" x2=\"170.5\" y1=\"130.5\" y2=\"130.5\"/><line stroke-width=\"1.0\" x1=\"10.5\" x2=\"170.5\" y1=\"150.5\" y2=\"150.5\"/><line stroke-width=\"1.0\" x1=\"30.5\" x2=\"30.5\" y1=\"10.5\" y2=\"170.5\"/><line stroke-width=\"1.0\" x1=\"50.5\" x2=\"50.5\" y1=\"10.5\" y2=\"170.5\"/><line stroke-width=\"1.0\" x1=\"70.5\" x2=\"70.5\" y1=\"10.5\" y2=\"170.5\"/><line stroke-width=\"1.0\" x1=\"90.5\" x2=\"90.5\" y1=\"10.5\" y2=\"170.5\"/><line stroke-width=\"1.0\" x1=\"110.5\" x2=\"110.5\" y1=\"10.5\" y2=\"170.5\"/><line stroke-width=\"1.0\" x1=\"130.5\" x2=\"130.5\" y1=\"10.5\" y2=\"170.5\"/><line stroke-width=\"1.0\" x1=\"150.5\" x2=\"150.5\" y1=\"10.5\" y2=\"170.5\"/></g><g><text font-family=\"serif\" font-size=\"9.5\" text-anchor=\"middle\" x=\"20.5\" y=\"8\">a</text><text font-family=\"serif\" font-size=\"9.5\" text-anchor=\"middle\" x=\"40.5\" y=\"8\">b</text><text font-family=\"serif\" font-size=\"9.5\" text-anchor=\"middle\" x=\"60.5\" y=\"8\">c</text><text font-family=\"serif\" font-size=\"9.5\" text-anchor=\"middle\" x=\"80.5\" y=\"8\">d</text><text font-family=\"serif\" font-size=\"9.5\" text-anchor=\"middle\" x=\"100.5\" y=\"8\">e</text><text font-family=\"serif\" font-size=\"9.5\" text-anchor=\"middle\" x=\"120.5\" y=\"8\">f</text><text font-family=\"serif\" font-size=\"9.5\" text-anchor=\"middle\" x=\"140.5\" y=\"8\">g</text><text font-family=\"serif\" font-size=\"9.5\" text-anchor=\"middle\" x=\"160.5\" y=\"8\">h</text><text font-family=\"serif\" font-size=\"9.5\" x=\"2.5\" y=\"23.5\">1</text><text font-family=\"serif\" font-size=\"9.5\" x=\"2.5\" y=\"43.5\">2</text><text font-family=\"serif\" font-size=\"9.5\" x=\"2.5\" y=\"63.5\">3</text><text font-family=\"serif\" font-size=\"9.5\" x=\"2.5\" y=\"83.5\">4</text><text font-family=\"serif\" font-size=\"9.5\" x=\"2.5\" y=\"103.5\">5</text><text font-family=\"serif\" font-size=\"9.5\" x=\"2.5\" y=\"123.5\">6</text><text font-family=\"serif\" font-size=\"9.5\" x=\"2.5\" y=\"143.5\">7</text><text font-family=\"serif\" font-size=\"9.5\" x=\"2.5\" y=\"163.5\">8</text></g><use xlink:href=\"#black\" x=\"10.5\" y=\"10.5\"/><use xlink:href=\"#black\" x=\"30.5\" y=\"10.5\"/><use xlink:href=\"#black\" x=\"50.5\" y=\"10.5\"/><use xlink:href=\"#black\" x=\"70.5\" y=\"10.5\"/><use xlink:href=\"#black\" x=\"90.5\" y=\"10.5\"/><use xlink:href=\"#black\" x=\"110.5\" y=\"10.5\"/><use xlink:href=\"#black\" x=\"130.5\" y=\"10.5\"/><use xlink:href=\"#black\" x=\"150.5\" y=\"10.5\"/><use xlink:href=\"#black\" x=\"10.5\" y=\"30.5\"/><use xlink:href=\"#black\" x=\"30.5\" y=\"30.5\"/><use xlink:href=\"#black\" x=\"50.5\" y=\"30.5\"/><use xlink:href=\"#black\" x=\"70.5\" y=\"30.5\"/><use xlink:href=\"#white\" x=\"90.5\" y=\"30.5\"/><use xlink:href=\"#white\" x=\"110.5\" y=\"30.5\"/><use xlink:href=\"#white\" x=\"130.5\" y=\"30.5\"/><use xlink:href=\"#white\" x=\"150.5\" y=\"30.5\"/><use xlink:href=\"#black\" x=\"10.5\" y=\"50.5\"/><use xlink:href=\"#black\" x=\"30.5\" y=\"50.5\"/><use xlink:href=\"#black\" x=\"50.5\" y=\"50.5\"/><use xlink:href=\"#white\" x=\"70.5\" y=\"50.5\"/><use xlink:href=\"#black\" x=\"90.5\" y=\"50.5\"/><use xlink:href=\"#black\" x=\"110.5\" y=\"50.5\"/><use xlink:href=\"#white\" x=\"130.5\" y=\"50.5\"/><use xlink:href=\"#white\" x=\"150.5\" y=\"50.5\"/><use xlink:href=\"#white\" x=\"10.5\" y=\"70.5\"/><use xlink:href=\"#white\" x=\"30.5\" y=\"70.5\"/><use xlink:href=\"#black\" x=\"50.5\" y=\"70.5\"/><use xlink:href=\"#black\" x=\"70.5\" y=\"70.5\"/><use xlink:href=\"#black\" x=\"90.5\" y=\"70.5\"/><use xlink:href=\"#white\" x=\"110.5\" y=\"70.5\"/><use xlink:href=\"#white\" x=\"130.5\" y=\"70.5\"/><use xlink:href=\"#white\" x=\"150.5\" y=\"70.5\"/><use xlink:href=\"#white\" x=\"30.5\" y=\"90.5\"/><use xlink:href=\"#white\" x=\"50.5\" y=\"90.5\"/><use xlink:href=\"#black\" x=\"70.5\" y=\"90.5\"/><use xlink:href=\"#white\" x=\"90.5\" y=\"90.5\"/><use xlink:href=\"#black\" x=\"110.5\" y=\"90.5\"/><use xlink:href=\"#white\" x=\"130.5\" y=\"90.5\"/><use xlink:href=\"#white\" x=\"150.5\" y=\"90.5\"/><use xlink:href=\"#white\" x=\"30.5\" y=\"110.5\"/><use xlink:href=\"#white\" x=\"50.5\" y=\"110.5\"/><use xlink:href=\"#black\" x=\"70.5\" y=\"110.5\"/><use xlink:href=\"#black\" x=\"90.5\" y=\"110.5\"/><use xlink:href=\"#white\" x=\"110.5\" y=\"110.5\"/><use xlink:href=\"#white\" x=\"130.5\" y=\"110.5\"/><use xlink:href=\"#white\" x=\"150.5\" y=\"110.5\"/><use xlink:href=\"#white\" x=\"50.5\" y=\"130.5\"/><use xlink:href=\"#black\" x=\"70.5\" y=\"130.5\"/><use xlink:href=\"#black\" x=\"90.5\" y=\"130.5\"/><use xlink:href=\"#black\" x=\"110.5\" y=\"130.5\"/><use xlink:href=\"#white\" x=\"130.5\" y=\"130.5\"/><use xlink:href=\"#white\" x=\"150.5\" y=\"130.5\"/><use xlink:href=\"#white\" x=\"30.5\" y=\"150.5\"/><use xlink:href=\"#white\" x=\"50.5\" y=\"150.5\"/><use xlink:href=\"#white\" x=\"70.5\" y=\"150.5\"/><use xlink:href=\"#white\" x=\"90.5\" y=\"150.5\"/><use xlink:href=\"#white\" x=\"110.5\" y=\"150.5\"/><use xlink:href=\"#white\" x=\"130.5\" y=\"150.5\"/><use xlink:href=\"#white\" x=\"150.5\" y=\"150.5\"/></svg>",
            "text/plain": [
              "<IPython.core.display.SVG object>"
            ]
          },
          "metadata": {},
          "output_type": "display_data"
        },
        {
          "name": "stdout",
          "output_type": "stream",
          "text": [
            "a5\n",
            "60: white\n"
          ]
        },
        {
          "data": {
            "image/svg+xml": "<svg xmlns=\"http://www.w3.org/2000/svg\" xmlns:xlink=\"http://www.w3.org/1999/xlink\" version=\"1.1\" width=\"215.0\" height=\"215.0\" viewBox=\"0 0 172 172\"><defs><g id=\"black\"><circle cx=\"10\" cy=\"10\" r=\"8.5\" fill=\"black\"/></g><g id=\"white\"><circle cx=\"10\" cy=\"10\" r=\"8.5\" fill=\"white\"/></g></defs><rect fill=\"green\" height=\"161\" width=\"161\" x=\"10\" y=\"10\"/><rect x=\"10.5\" y=\"90.5\" width=\"20\" height=\"20\" fill=\"#8bbf83\"/><g stroke=\"black\"><rect width=\"161\" height=\"161\" stroke-width=\"1.5\" fill=\"none\" x=\"10\" y=\"10\"/><line stroke-width=\"1.0\" x1=\"10.5\" x2=\"170.5\" y1=\"30.5\" y2=\"30.5\"/><line stroke-width=\"1.0\" x1=\"10.5\" x2=\"170.5\" y1=\"50.5\" y2=\"50.5\"/><line stroke-width=\"1.0\" x1=\"10.5\" x2=\"170.5\" y1=\"70.5\" y2=\"70.5\"/><line stroke-width=\"1.0\" x1=\"10.5\" x2=\"170.5\" y1=\"90.5\" y2=\"90.5\"/><line stroke-width=\"1.0\" x1=\"10.5\" x2=\"170.5\" y1=\"110.5\" y2=\"110.5\"/><line stroke-width=\"1.0\" x1=\"10.5\" x2=\"170.5\" y1=\"130.5\" y2=\"130.5\"/><line stroke-width=\"1.0\" x1=\"10.5\" x2=\"170.5\" y1=\"150.5\" y2=\"150.5\"/><line stroke-width=\"1.0\" x1=\"30.5\" x2=\"30.5\" y1=\"10.5\" y2=\"170.5\"/><line stroke-width=\"1.0\" x1=\"50.5\" x2=\"50.5\" y1=\"10.5\" y2=\"170.5\"/><line stroke-width=\"1.0\" x1=\"70.5\" x2=\"70.5\" y1=\"10.5\" y2=\"170.5\"/><line stroke-width=\"1.0\" x1=\"90.5\" x2=\"90.5\" y1=\"10.5\" y2=\"170.5\"/><line stroke-width=\"1.0\" x1=\"110.5\" x2=\"110.5\" y1=\"10.5\" y2=\"170.5\"/><line stroke-width=\"1.0\" x1=\"130.5\" x2=\"130.5\" y1=\"10.5\" y2=\"170.5\"/><line stroke-width=\"1.0\" x1=\"150.5\" x2=\"150.5\" y1=\"10.5\" y2=\"170.5\"/></g><g><text font-family=\"serif\" font-size=\"9.5\" text-anchor=\"middle\" x=\"20.5\" y=\"8\">a</text><text font-family=\"serif\" font-size=\"9.5\" text-anchor=\"middle\" x=\"40.5\" y=\"8\">b</text><text font-family=\"serif\" font-size=\"9.5\" text-anchor=\"middle\" x=\"60.5\" y=\"8\">c</text><text font-family=\"serif\" font-size=\"9.5\" text-anchor=\"middle\" x=\"80.5\" y=\"8\">d</text><text font-family=\"serif\" font-size=\"9.5\" text-anchor=\"middle\" x=\"100.5\" y=\"8\">e</text><text font-family=\"serif\" font-size=\"9.5\" text-anchor=\"middle\" x=\"120.5\" y=\"8\">f</text><text font-family=\"serif\" font-size=\"9.5\" text-anchor=\"middle\" x=\"140.5\" y=\"8\">g</text><text font-family=\"serif\" font-size=\"9.5\" text-anchor=\"middle\" x=\"160.5\" y=\"8\">h</text><text font-family=\"serif\" font-size=\"9.5\" x=\"2.5\" y=\"23.5\">1</text><text font-family=\"serif\" font-size=\"9.5\" x=\"2.5\" y=\"43.5\">2</text><text font-family=\"serif\" font-size=\"9.5\" x=\"2.5\" y=\"63.5\">3</text><text font-family=\"serif\" font-size=\"9.5\" x=\"2.5\" y=\"83.5\">4</text><text font-family=\"serif\" font-size=\"9.5\" x=\"2.5\" y=\"103.5\">5</text><text font-family=\"serif\" font-size=\"9.5\" x=\"2.5\" y=\"123.5\">6</text><text font-family=\"serif\" font-size=\"9.5\" x=\"2.5\" y=\"143.5\">7</text><text font-family=\"serif\" font-size=\"9.5\" x=\"2.5\" y=\"163.5\">8</text></g><use xlink:href=\"#black\" x=\"10.5\" y=\"10.5\"/><use xlink:href=\"#black\" x=\"30.5\" y=\"10.5\"/><use xlink:href=\"#black\" x=\"50.5\" y=\"10.5\"/><use xlink:href=\"#black\" x=\"70.5\" y=\"10.5\"/><use xlink:href=\"#black\" x=\"90.5\" y=\"10.5\"/><use xlink:href=\"#black\" x=\"110.5\" y=\"10.5\"/><use xlink:href=\"#black\" x=\"130.5\" y=\"10.5\"/><use xlink:href=\"#black\" x=\"150.5\" y=\"10.5\"/><use xlink:href=\"#black\" x=\"10.5\" y=\"30.5\"/><use xlink:href=\"#black\" x=\"30.5\" y=\"30.5\"/><use xlink:href=\"#black\" x=\"50.5\" y=\"30.5\"/><use xlink:href=\"#black\" x=\"70.5\" y=\"30.5\"/><use xlink:href=\"#white\" x=\"90.5\" y=\"30.5\"/><use xlink:href=\"#white\" x=\"110.5\" y=\"30.5\"/><use xlink:href=\"#white\" x=\"130.5\" y=\"30.5\"/><use xlink:href=\"#white\" x=\"150.5\" y=\"30.5\"/><use xlink:href=\"#black\" x=\"10.5\" y=\"50.5\"/><use xlink:href=\"#black\" x=\"30.5\" y=\"50.5\"/><use xlink:href=\"#black\" x=\"50.5\" y=\"50.5\"/><use xlink:href=\"#white\" x=\"70.5\" y=\"50.5\"/><use xlink:href=\"#black\" x=\"90.5\" y=\"50.5\"/><use xlink:href=\"#black\" x=\"110.5\" y=\"50.5\"/><use xlink:href=\"#white\" x=\"130.5\" y=\"50.5\"/><use xlink:href=\"#white\" x=\"150.5\" y=\"50.5\"/><use xlink:href=\"#black\" x=\"10.5\" y=\"70.5\"/><use xlink:href=\"#black\" x=\"30.5\" y=\"70.5\"/><use xlink:href=\"#black\" x=\"50.5\" y=\"70.5\"/><use xlink:href=\"#black\" x=\"70.5\" y=\"70.5\"/><use xlink:href=\"#black\" x=\"90.5\" y=\"70.5\"/><use xlink:href=\"#white\" x=\"110.5\" y=\"70.5\"/><use xlink:href=\"#white\" x=\"130.5\" y=\"70.5\"/><use xlink:href=\"#white\" x=\"150.5\" y=\"70.5\"/><use xlink:href=\"#black\" x=\"10.5\" y=\"90.5\"/><use xlink:href=\"#black\" x=\"30.5\" y=\"90.5\"/><use xlink:href=\"#black\" x=\"50.5\" y=\"90.5\"/><use xlink:href=\"#black\" x=\"70.5\" y=\"90.5\"/><use xlink:href=\"#white\" x=\"90.5\" y=\"90.5\"/><use xlink:href=\"#black\" x=\"110.5\" y=\"90.5\"/><use xlink:href=\"#white\" x=\"130.5\" y=\"90.5\"/><use xlink:href=\"#white\" x=\"150.5\" y=\"90.5\"/><use xlink:href=\"#white\" x=\"30.5\" y=\"110.5\"/><use xlink:href=\"#white\" x=\"50.5\" y=\"110.5\"/><use xlink:href=\"#black\" x=\"70.5\" y=\"110.5\"/><use xlink:href=\"#black\" x=\"90.5\" y=\"110.5\"/><use xlink:href=\"#white\" x=\"110.5\" y=\"110.5\"/><use xlink:href=\"#white\" x=\"130.5\" y=\"110.5\"/><use xlink:href=\"#white\" x=\"150.5\" y=\"110.5\"/><use xlink:href=\"#white\" x=\"50.5\" y=\"130.5\"/><use xlink:href=\"#black\" x=\"70.5\" y=\"130.5\"/><use xlink:href=\"#black\" x=\"90.5\" y=\"130.5\"/><use xlink:href=\"#black\" x=\"110.5\" y=\"130.5\"/><use xlink:href=\"#white\" x=\"130.5\" y=\"130.5\"/><use xlink:href=\"#white\" x=\"150.5\" y=\"130.5\"/><use xlink:href=\"#white\" x=\"30.5\" y=\"150.5\"/><use xlink:href=\"#white\" x=\"50.5\" y=\"150.5\"/><use xlink:href=\"#white\" x=\"70.5\" y=\"150.5\"/><use xlink:href=\"#white\" x=\"90.5\" y=\"150.5\"/><use xlink:href=\"#white\" x=\"110.5\" y=\"150.5\"/><use xlink:href=\"#white\" x=\"130.5\" y=\"150.5\"/><use xlink:href=\"#white\" x=\"150.5\" y=\"150.5\"/></svg>",
            "text/plain": [
              "<IPython.core.display.SVG object>"
            ]
          },
          "metadata": {},
          "output_type": "display_data"
        },
        {
          "name": "stdout",
          "output_type": "stream",
          "text": [
            "a6\n",
            "61: black\n"
          ]
        },
        {
          "data": {
            "image/svg+xml": "<svg xmlns=\"http://www.w3.org/2000/svg\" xmlns:xlink=\"http://www.w3.org/1999/xlink\" version=\"1.1\" width=\"215.0\" height=\"215.0\" viewBox=\"0 0 172 172\"><defs><g id=\"black\"><circle cx=\"10\" cy=\"10\" r=\"8.5\" fill=\"black\"/></g><g id=\"white\"><circle cx=\"10\" cy=\"10\" r=\"8.5\" fill=\"white\"/></g></defs><rect fill=\"green\" height=\"161\" width=\"161\" x=\"10\" y=\"10\"/><rect x=\"10.5\" y=\"110.5\" width=\"20\" height=\"20\" fill=\"#8bbf83\"/><g stroke=\"black\"><rect width=\"161\" height=\"161\" stroke-width=\"1.5\" fill=\"none\" x=\"10\" y=\"10\"/><line stroke-width=\"1.0\" x1=\"10.5\" x2=\"170.5\" y1=\"30.5\" y2=\"30.5\"/><line stroke-width=\"1.0\" x1=\"10.5\" x2=\"170.5\" y1=\"50.5\" y2=\"50.5\"/><line stroke-width=\"1.0\" x1=\"10.5\" x2=\"170.5\" y1=\"70.5\" y2=\"70.5\"/><line stroke-width=\"1.0\" x1=\"10.5\" x2=\"170.5\" y1=\"90.5\" y2=\"90.5\"/><line stroke-width=\"1.0\" x1=\"10.5\" x2=\"170.5\" y1=\"110.5\" y2=\"110.5\"/><line stroke-width=\"1.0\" x1=\"10.5\" x2=\"170.5\" y1=\"130.5\" y2=\"130.5\"/><line stroke-width=\"1.0\" x1=\"10.5\" x2=\"170.5\" y1=\"150.5\" y2=\"150.5\"/><line stroke-width=\"1.0\" x1=\"30.5\" x2=\"30.5\" y1=\"10.5\" y2=\"170.5\"/><line stroke-width=\"1.0\" x1=\"50.5\" x2=\"50.5\" y1=\"10.5\" y2=\"170.5\"/><line stroke-width=\"1.0\" x1=\"70.5\" x2=\"70.5\" y1=\"10.5\" y2=\"170.5\"/><line stroke-width=\"1.0\" x1=\"90.5\" x2=\"90.5\" y1=\"10.5\" y2=\"170.5\"/><line stroke-width=\"1.0\" x1=\"110.5\" x2=\"110.5\" y1=\"10.5\" y2=\"170.5\"/><line stroke-width=\"1.0\" x1=\"130.5\" x2=\"130.5\" y1=\"10.5\" y2=\"170.5\"/><line stroke-width=\"1.0\" x1=\"150.5\" x2=\"150.5\" y1=\"10.5\" y2=\"170.5\"/></g><g><text font-family=\"serif\" font-size=\"9.5\" text-anchor=\"middle\" x=\"20.5\" y=\"8\">a</text><text font-family=\"serif\" font-size=\"9.5\" text-anchor=\"middle\" x=\"40.5\" y=\"8\">b</text><text font-family=\"serif\" font-size=\"9.5\" text-anchor=\"middle\" x=\"60.5\" y=\"8\">c</text><text font-family=\"serif\" font-size=\"9.5\" text-anchor=\"middle\" x=\"80.5\" y=\"8\">d</text><text font-family=\"serif\" font-size=\"9.5\" text-anchor=\"middle\" x=\"100.5\" y=\"8\">e</text><text font-family=\"serif\" font-size=\"9.5\" text-anchor=\"middle\" x=\"120.5\" y=\"8\">f</text><text font-family=\"serif\" font-size=\"9.5\" text-anchor=\"middle\" x=\"140.5\" y=\"8\">g</text><text font-family=\"serif\" font-size=\"9.5\" text-anchor=\"middle\" x=\"160.5\" y=\"8\">h</text><text font-family=\"serif\" font-size=\"9.5\" x=\"2.5\" y=\"23.5\">1</text><text font-family=\"serif\" font-size=\"9.5\" x=\"2.5\" y=\"43.5\">2</text><text font-family=\"serif\" font-size=\"9.5\" x=\"2.5\" y=\"63.5\">3</text><text font-family=\"serif\" font-size=\"9.5\" x=\"2.5\" y=\"83.5\">4</text><text font-family=\"serif\" font-size=\"9.5\" x=\"2.5\" y=\"103.5\">5</text><text font-family=\"serif\" font-size=\"9.5\" x=\"2.5\" y=\"123.5\">6</text><text font-family=\"serif\" font-size=\"9.5\" x=\"2.5\" y=\"143.5\">7</text><text font-family=\"serif\" font-size=\"9.5\" x=\"2.5\" y=\"163.5\">8</text></g><use xlink:href=\"#black\" x=\"10.5\" y=\"10.5\"/><use xlink:href=\"#black\" x=\"30.5\" y=\"10.5\"/><use xlink:href=\"#black\" x=\"50.5\" y=\"10.5\"/><use xlink:href=\"#black\" x=\"70.5\" y=\"10.5\"/><use xlink:href=\"#black\" x=\"90.5\" y=\"10.5\"/><use xlink:href=\"#black\" x=\"110.5\" y=\"10.5\"/><use xlink:href=\"#black\" x=\"130.5\" y=\"10.5\"/><use xlink:href=\"#black\" x=\"150.5\" y=\"10.5\"/><use xlink:href=\"#black\" x=\"10.5\" y=\"30.5\"/><use xlink:href=\"#black\" x=\"30.5\" y=\"30.5\"/><use xlink:href=\"#black\" x=\"50.5\" y=\"30.5\"/><use xlink:href=\"#black\" x=\"70.5\" y=\"30.5\"/><use xlink:href=\"#white\" x=\"90.5\" y=\"30.5\"/><use xlink:href=\"#white\" x=\"110.5\" y=\"30.5\"/><use xlink:href=\"#white\" x=\"130.5\" y=\"30.5\"/><use xlink:href=\"#white\" x=\"150.5\" y=\"30.5\"/><use xlink:href=\"#black\" x=\"10.5\" y=\"50.5\"/><use xlink:href=\"#black\" x=\"30.5\" y=\"50.5\"/><use xlink:href=\"#black\" x=\"50.5\" y=\"50.5\"/><use xlink:href=\"#white\" x=\"70.5\" y=\"50.5\"/><use xlink:href=\"#black\" x=\"90.5\" y=\"50.5\"/><use xlink:href=\"#black\" x=\"110.5\" y=\"50.5\"/><use xlink:href=\"#white\" x=\"130.5\" y=\"50.5\"/><use xlink:href=\"#white\" x=\"150.5\" y=\"50.5\"/><use xlink:href=\"#black\" x=\"10.5\" y=\"70.5\"/><use xlink:href=\"#black\" x=\"30.5\" y=\"70.5\"/><use xlink:href=\"#white\" x=\"50.5\" y=\"70.5\"/><use xlink:href=\"#black\" x=\"70.5\" y=\"70.5\"/><use xlink:href=\"#black\" x=\"90.5\" y=\"70.5\"/><use xlink:href=\"#white\" x=\"110.5\" y=\"70.5\"/><use xlink:href=\"#white\" x=\"130.5\" y=\"70.5\"/><use xlink:href=\"#white\" x=\"150.5\" y=\"70.5\"/><use xlink:href=\"#black\" x=\"10.5\" y=\"90.5\"/><use xlink:href=\"#white\" x=\"30.5\" y=\"90.5\"/><use xlink:href=\"#black\" x=\"50.5\" y=\"90.5\"/><use xlink:href=\"#black\" x=\"70.5\" y=\"90.5\"/><use xlink:href=\"#white\" x=\"90.5\" y=\"90.5\"/><use xlink:href=\"#black\" x=\"110.5\" y=\"90.5\"/><use xlink:href=\"#white\" x=\"130.5\" y=\"90.5\"/><use xlink:href=\"#white\" x=\"150.5\" y=\"90.5\"/><use xlink:href=\"#white\" x=\"10.5\" y=\"110.5\"/><use xlink:href=\"#white\" x=\"30.5\" y=\"110.5\"/><use xlink:href=\"#white\" x=\"50.5\" y=\"110.5\"/><use xlink:href=\"#black\" x=\"70.5\" y=\"110.5\"/><use xlink:href=\"#black\" x=\"90.5\" y=\"110.5\"/><use xlink:href=\"#white\" x=\"110.5\" y=\"110.5\"/><use xlink:href=\"#white\" x=\"130.5\" y=\"110.5\"/><use xlink:href=\"#white\" x=\"150.5\" y=\"110.5\"/><use xlink:href=\"#white\" x=\"50.5\" y=\"130.5\"/><use xlink:href=\"#black\" x=\"70.5\" y=\"130.5\"/><use xlink:href=\"#black\" x=\"90.5\" y=\"130.5\"/><use xlink:href=\"#black\" x=\"110.5\" y=\"130.5\"/><use xlink:href=\"#white\" x=\"130.5\" y=\"130.5\"/><use xlink:href=\"#white\" x=\"150.5\" y=\"130.5\"/><use xlink:href=\"#white\" x=\"30.5\" y=\"150.5\"/><use xlink:href=\"#white\" x=\"50.5\" y=\"150.5\"/><use xlink:href=\"#white\" x=\"70.5\" y=\"150.5\"/><use xlink:href=\"#white\" x=\"90.5\" y=\"150.5\"/><use xlink:href=\"#white\" x=\"110.5\" y=\"150.5\"/><use xlink:href=\"#white\" x=\"130.5\" y=\"150.5\"/><use xlink:href=\"#white\" x=\"150.5\" y=\"150.5\"/></svg>",
            "text/plain": [
              "<IPython.core.display.SVG object>"
            ]
          },
          "metadata": {},
          "output_type": "display_data"
        },
        {
          "name": "stdout",
          "output_type": "stream",
          "text": [
            "a7\n",
            "62: white\n"
          ]
        },
        {
          "data": {
            "image/svg+xml": "<svg xmlns=\"http://www.w3.org/2000/svg\" xmlns:xlink=\"http://www.w3.org/1999/xlink\" version=\"1.1\" width=\"215.0\" height=\"215.0\" viewBox=\"0 0 172 172\"><defs><g id=\"black\"><circle cx=\"10\" cy=\"10\" r=\"8.5\" fill=\"black\"/></g><g id=\"white\"><circle cx=\"10\" cy=\"10\" r=\"8.5\" fill=\"white\"/></g></defs><rect fill=\"green\" height=\"161\" width=\"161\" x=\"10\" y=\"10\"/><rect x=\"10.5\" y=\"130.5\" width=\"20\" height=\"20\" fill=\"#8bbf83\"/><g stroke=\"black\"><rect width=\"161\" height=\"161\" stroke-width=\"1.5\" fill=\"none\" x=\"10\" y=\"10\"/><line stroke-width=\"1.0\" x1=\"10.5\" x2=\"170.5\" y1=\"30.5\" y2=\"30.5\"/><line stroke-width=\"1.0\" x1=\"10.5\" x2=\"170.5\" y1=\"50.5\" y2=\"50.5\"/><line stroke-width=\"1.0\" x1=\"10.5\" x2=\"170.5\" y1=\"70.5\" y2=\"70.5\"/><line stroke-width=\"1.0\" x1=\"10.5\" x2=\"170.5\" y1=\"90.5\" y2=\"90.5\"/><line stroke-width=\"1.0\" x1=\"10.5\" x2=\"170.5\" y1=\"110.5\" y2=\"110.5\"/><line stroke-width=\"1.0\" x1=\"10.5\" x2=\"170.5\" y1=\"130.5\" y2=\"130.5\"/><line stroke-width=\"1.0\" x1=\"10.5\" x2=\"170.5\" y1=\"150.5\" y2=\"150.5\"/><line stroke-width=\"1.0\" x1=\"30.5\" x2=\"30.5\" y1=\"10.5\" y2=\"170.5\"/><line stroke-width=\"1.0\" x1=\"50.5\" x2=\"50.5\" y1=\"10.5\" y2=\"170.5\"/><line stroke-width=\"1.0\" x1=\"70.5\" x2=\"70.5\" y1=\"10.5\" y2=\"170.5\"/><line stroke-width=\"1.0\" x1=\"90.5\" x2=\"90.5\" y1=\"10.5\" y2=\"170.5\"/><line stroke-width=\"1.0\" x1=\"110.5\" x2=\"110.5\" y1=\"10.5\" y2=\"170.5\"/><line stroke-width=\"1.0\" x1=\"130.5\" x2=\"130.5\" y1=\"10.5\" y2=\"170.5\"/><line stroke-width=\"1.0\" x1=\"150.5\" x2=\"150.5\" y1=\"10.5\" y2=\"170.5\"/></g><g><text font-family=\"serif\" font-size=\"9.5\" text-anchor=\"middle\" x=\"20.5\" y=\"8\">a</text><text font-family=\"serif\" font-size=\"9.5\" text-anchor=\"middle\" x=\"40.5\" y=\"8\">b</text><text font-family=\"serif\" font-size=\"9.5\" text-anchor=\"middle\" x=\"60.5\" y=\"8\">c</text><text font-family=\"serif\" font-size=\"9.5\" text-anchor=\"middle\" x=\"80.5\" y=\"8\">d</text><text font-family=\"serif\" font-size=\"9.5\" text-anchor=\"middle\" x=\"100.5\" y=\"8\">e</text><text font-family=\"serif\" font-size=\"9.5\" text-anchor=\"middle\" x=\"120.5\" y=\"8\">f</text><text font-family=\"serif\" font-size=\"9.5\" text-anchor=\"middle\" x=\"140.5\" y=\"8\">g</text><text font-family=\"serif\" font-size=\"9.5\" text-anchor=\"middle\" x=\"160.5\" y=\"8\">h</text><text font-family=\"serif\" font-size=\"9.5\" x=\"2.5\" y=\"23.5\">1</text><text font-family=\"serif\" font-size=\"9.5\" x=\"2.5\" y=\"43.5\">2</text><text font-family=\"serif\" font-size=\"9.5\" x=\"2.5\" y=\"63.5\">3</text><text font-family=\"serif\" font-size=\"9.5\" x=\"2.5\" y=\"83.5\">4</text><text font-family=\"serif\" font-size=\"9.5\" x=\"2.5\" y=\"103.5\">5</text><text font-family=\"serif\" font-size=\"9.5\" x=\"2.5\" y=\"123.5\">6</text><text font-family=\"serif\" font-size=\"9.5\" x=\"2.5\" y=\"143.5\">7</text><text font-family=\"serif\" font-size=\"9.5\" x=\"2.5\" y=\"163.5\">8</text></g><use xlink:href=\"#black\" x=\"10.5\" y=\"10.5\"/><use xlink:href=\"#black\" x=\"30.5\" y=\"10.5\"/><use xlink:href=\"#black\" x=\"50.5\" y=\"10.5\"/><use xlink:href=\"#black\" x=\"70.5\" y=\"10.5\"/><use xlink:href=\"#black\" x=\"90.5\" y=\"10.5\"/><use xlink:href=\"#black\" x=\"110.5\" y=\"10.5\"/><use xlink:href=\"#black\" x=\"130.5\" y=\"10.5\"/><use xlink:href=\"#black\" x=\"150.5\" y=\"10.5\"/><use xlink:href=\"#black\" x=\"10.5\" y=\"30.5\"/><use xlink:href=\"#black\" x=\"30.5\" y=\"30.5\"/><use xlink:href=\"#black\" x=\"50.5\" y=\"30.5\"/><use xlink:href=\"#black\" x=\"70.5\" y=\"30.5\"/><use xlink:href=\"#white\" x=\"90.5\" y=\"30.5\"/><use xlink:href=\"#white\" x=\"110.5\" y=\"30.5\"/><use xlink:href=\"#white\" x=\"130.5\" y=\"30.5\"/><use xlink:href=\"#white\" x=\"150.5\" y=\"30.5\"/><use xlink:href=\"#black\" x=\"10.5\" y=\"50.5\"/><use xlink:href=\"#black\" x=\"30.5\" y=\"50.5\"/><use xlink:href=\"#black\" x=\"50.5\" y=\"50.5\"/><use xlink:href=\"#white\" x=\"70.5\" y=\"50.5\"/><use xlink:href=\"#black\" x=\"90.5\" y=\"50.5\"/><use xlink:href=\"#black\" x=\"110.5\" y=\"50.5\"/><use xlink:href=\"#white\" x=\"130.5\" y=\"50.5\"/><use xlink:href=\"#white\" x=\"150.5\" y=\"50.5\"/><use xlink:href=\"#black\" x=\"10.5\" y=\"70.5\"/><use xlink:href=\"#black\" x=\"30.5\" y=\"70.5\"/><use xlink:href=\"#white\" x=\"50.5\" y=\"70.5\"/><use xlink:href=\"#black\" x=\"70.5\" y=\"70.5\"/><use xlink:href=\"#black\" x=\"90.5\" y=\"70.5\"/><use xlink:href=\"#white\" x=\"110.5\" y=\"70.5\"/><use xlink:href=\"#white\" x=\"130.5\" y=\"70.5\"/><use xlink:href=\"#white\" x=\"150.5\" y=\"70.5\"/><use xlink:href=\"#black\" x=\"10.5\" y=\"90.5\"/><use xlink:href=\"#white\" x=\"30.5\" y=\"90.5\"/><use xlink:href=\"#black\" x=\"50.5\" y=\"90.5\"/><use xlink:href=\"#black\" x=\"70.5\" y=\"90.5\"/><use xlink:href=\"#white\" x=\"90.5\" y=\"90.5\"/><use xlink:href=\"#black\" x=\"110.5\" y=\"90.5\"/><use xlink:href=\"#white\" x=\"130.5\" y=\"90.5\"/><use xlink:href=\"#white\" x=\"150.5\" y=\"90.5\"/><use xlink:href=\"#black\" x=\"10.5\" y=\"110.5\"/><use xlink:href=\"#black\" x=\"30.5\" y=\"110.5\"/><use xlink:href=\"#white\" x=\"50.5\" y=\"110.5\"/><use xlink:href=\"#black\" x=\"70.5\" y=\"110.5\"/><use xlink:href=\"#black\" x=\"90.5\" y=\"110.5\"/><use xlink:href=\"#white\" x=\"110.5\" y=\"110.5\"/><use xlink:href=\"#white\" x=\"130.5\" y=\"110.5\"/><use xlink:href=\"#white\" x=\"150.5\" y=\"110.5\"/><use xlink:href=\"#black\" x=\"10.5\" y=\"130.5\"/><use xlink:href=\"#white\" x=\"50.5\" y=\"130.5\"/><use xlink:href=\"#black\" x=\"70.5\" y=\"130.5\"/><use xlink:href=\"#black\" x=\"90.5\" y=\"130.5\"/><use xlink:href=\"#black\" x=\"110.5\" y=\"130.5\"/><use xlink:href=\"#white\" x=\"130.5\" y=\"130.5\"/><use xlink:href=\"#white\" x=\"150.5\" y=\"130.5\"/><use xlink:href=\"#white\" x=\"30.5\" y=\"150.5\"/><use xlink:href=\"#white\" x=\"50.5\" y=\"150.5\"/><use xlink:href=\"#white\" x=\"70.5\" y=\"150.5\"/><use xlink:href=\"#white\" x=\"90.5\" y=\"150.5\"/><use xlink:href=\"#white\" x=\"110.5\" y=\"150.5\"/><use xlink:href=\"#white\" x=\"130.5\" y=\"150.5\"/><use xlink:href=\"#white\" x=\"150.5\" y=\"150.5\"/></svg>",
            "text/plain": [
              "<IPython.core.display.SVG object>"
            ]
          },
          "metadata": {},
          "output_type": "display_data"
        },
        {
          "name": "stdout",
          "output_type": "stream",
          "text": [
            "b7\n",
            "63: black\n"
          ]
        },
        {
          "data": {
            "image/svg+xml": "<svg xmlns=\"http://www.w3.org/2000/svg\" xmlns:xlink=\"http://www.w3.org/1999/xlink\" version=\"1.1\" width=\"215.0\" height=\"215.0\" viewBox=\"0 0 172 172\"><defs><g id=\"black\"><circle cx=\"10\" cy=\"10\" r=\"8.5\" fill=\"black\"/></g><g id=\"white\"><circle cx=\"10\" cy=\"10\" r=\"8.5\" fill=\"white\"/></g></defs><rect fill=\"green\" height=\"161\" width=\"161\" x=\"10\" y=\"10\"/><rect x=\"30.5\" y=\"130.5\" width=\"20\" height=\"20\" fill=\"#8bbf83\"/><g stroke=\"black\"><rect width=\"161\" height=\"161\" stroke-width=\"1.5\" fill=\"none\" x=\"10\" y=\"10\"/><line stroke-width=\"1.0\" x1=\"10.5\" x2=\"170.5\" y1=\"30.5\" y2=\"30.5\"/><line stroke-width=\"1.0\" x1=\"10.5\" x2=\"170.5\" y1=\"50.5\" y2=\"50.5\"/><line stroke-width=\"1.0\" x1=\"10.5\" x2=\"170.5\" y1=\"70.5\" y2=\"70.5\"/><line stroke-width=\"1.0\" x1=\"10.5\" x2=\"170.5\" y1=\"90.5\" y2=\"90.5\"/><line stroke-width=\"1.0\" x1=\"10.5\" x2=\"170.5\" y1=\"110.5\" y2=\"110.5\"/><line stroke-width=\"1.0\" x1=\"10.5\" x2=\"170.5\" y1=\"130.5\" y2=\"130.5\"/><line stroke-width=\"1.0\" x1=\"10.5\" x2=\"170.5\" y1=\"150.5\" y2=\"150.5\"/><line stroke-width=\"1.0\" x1=\"30.5\" x2=\"30.5\" y1=\"10.5\" y2=\"170.5\"/><line stroke-width=\"1.0\" x1=\"50.5\" x2=\"50.5\" y1=\"10.5\" y2=\"170.5\"/><line stroke-width=\"1.0\" x1=\"70.5\" x2=\"70.5\" y1=\"10.5\" y2=\"170.5\"/><line stroke-width=\"1.0\" x1=\"90.5\" x2=\"90.5\" y1=\"10.5\" y2=\"170.5\"/><line stroke-width=\"1.0\" x1=\"110.5\" x2=\"110.5\" y1=\"10.5\" y2=\"170.5\"/><line stroke-width=\"1.0\" x1=\"130.5\" x2=\"130.5\" y1=\"10.5\" y2=\"170.5\"/><line stroke-width=\"1.0\" x1=\"150.5\" x2=\"150.5\" y1=\"10.5\" y2=\"170.5\"/></g><g><text font-family=\"serif\" font-size=\"9.5\" text-anchor=\"middle\" x=\"20.5\" y=\"8\">a</text><text font-family=\"serif\" font-size=\"9.5\" text-anchor=\"middle\" x=\"40.5\" y=\"8\">b</text><text font-family=\"serif\" font-size=\"9.5\" text-anchor=\"middle\" x=\"60.5\" y=\"8\">c</text><text font-family=\"serif\" font-size=\"9.5\" text-anchor=\"middle\" x=\"80.5\" y=\"8\">d</text><text font-family=\"serif\" font-size=\"9.5\" text-anchor=\"middle\" x=\"100.5\" y=\"8\">e</text><text font-family=\"serif\" font-size=\"9.5\" text-anchor=\"middle\" x=\"120.5\" y=\"8\">f</text><text font-family=\"serif\" font-size=\"9.5\" text-anchor=\"middle\" x=\"140.5\" y=\"8\">g</text><text font-family=\"serif\" font-size=\"9.5\" text-anchor=\"middle\" x=\"160.5\" y=\"8\">h</text><text font-family=\"serif\" font-size=\"9.5\" x=\"2.5\" y=\"23.5\">1</text><text font-family=\"serif\" font-size=\"9.5\" x=\"2.5\" y=\"43.5\">2</text><text font-family=\"serif\" font-size=\"9.5\" x=\"2.5\" y=\"63.5\">3</text><text font-family=\"serif\" font-size=\"9.5\" x=\"2.5\" y=\"83.5\">4</text><text font-family=\"serif\" font-size=\"9.5\" x=\"2.5\" y=\"103.5\">5</text><text font-family=\"serif\" font-size=\"9.5\" x=\"2.5\" y=\"123.5\">6</text><text font-family=\"serif\" font-size=\"9.5\" x=\"2.5\" y=\"143.5\">7</text><text font-family=\"serif\" font-size=\"9.5\" x=\"2.5\" y=\"163.5\">8</text></g><use xlink:href=\"#black\" x=\"10.5\" y=\"10.5\"/><use xlink:href=\"#black\" x=\"30.5\" y=\"10.5\"/><use xlink:href=\"#black\" x=\"50.5\" y=\"10.5\"/><use xlink:href=\"#black\" x=\"70.5\" y=\"10.5\"/><use xlink:href=\"#black\" x=\"90.5\" y=\"10.5\"/><use xlink:href=\"#black\" x=\"110.5\" y=\"10.5\"/><use xlink:href=\"#black\" x=\"130.5\" y=\"10.5\"/><use xlink:href=\"#black\" x=\"150.5\" y=\"10.5\"/><use xlink:href=\"#black\" x=\"10.5\" y=\"30.5\"/><use xlink:href=\"#black\" x=\"30.5\" y=\"30.5\"/><use xlink:href=\"#black\" x=\"50.5\" y=\"30.5\"/><use xlink:href=\"#black\" x=\"70.5\" y=\"30.5\"/><use xlink:href=\"#white\" x=\"90.5\" y=\"30.5\"/><use xlink:href=\"#white\" x=\"110.5\" y=\"30.5\"/><use xlink:href=\"#white\" x=\"130.5\" y=\"30.5\"/><use xlink:href=\"#white\" x=\"150.5\" y=\"30.5\"/><use xlink:href=\"#black\" x=\"10.5\" y=\"50.5\"/><use xlink:href=\"#black\" x=\"30.5\" y=\"50.5\"/><use xlink:href=\"#black\" x=\"50.5\" y=\"50.5\"/><use xlink:href=\"#white\" x=\"70.5\" y=\"50.5\"/><use xlink:href=\"#black\" x=\"90.5\" y=\"50.5\"/><use xlink:href=\"#black\" x=\"110.5\" y=\"50.5\"/><use xlink:href=\"#white\" x=\"130.5\" y=\"50.5\"/><use xlink:href=\"#white\" x=\"150.5\" y=\"50.5\"/><use xlink:href=\"#black\" x=\"10.5\" y=\"70.5\"/><use xlink:href=\"#black\" x=\"30.5\" y=\"70.5\"/><use xlink:href=\"#white\" x=\"50.5\" y=\"70.5\"/><use xlink:href=\"#black\" x=\"70.5\" y=\"70.5\"/><use xlink:href=\"#black\" x=\"90.5\" y=\"70.5\"/><use xlink:href=\"#white\" x=\"110.5\" y=\"70.5\"/><use xlink:href=\"#white\" x=\"130.5\" y=\"70.5\"/><use xlink:href=\"#white\" x=\"150.5\" y=\"70.5\"/><use xlink:href=\"#black\" x=\"10.5\" y=\"90.5\"/><use xlink:href=\"#white\" x=\"30.5\" y=\"90.5\"/><use xlink:href=\"#black\" x=\"50.5\" y=\"90.5\"/><use xlink:href=\"#black\" x=\"70.5\" y=\"90.5\"/><use xlink:href=\"#white\" x=\"90.5\" y=\"90.5\"/><use xlink:href=\"#black\" x=\"110.5\" y=\"90.5\"/><use xlink:href=\"#white\" x=\"130.5\" y=\"90.5\"/><use xlink:href=\"#white\" x=\"150.5\" y=\"90.5\"/><use xlink:href=\"#black\" x=\"10.5\" y=\"110.5\"/><use xlink:href=\"#white\" x=\"30.5\" y=\"110.5\"/><use xlink:href=\"#white\" x=\"50.5\" y=\"110.5\"/><use xlink:href=\"#black\" x=\"70.5\" y=\"110.5\"/><use xlink:href=\"#black\" x=\"90.5\" y=\"110.5\"/><use xlink:href=\"#white\" x=\"110.5\" y=\"110.5\"/><use xlink:href=\"#white\" x=\"130.5\" y=\"110.5\"/><use xlink:href=\"#white\" x=\"150.5\" y=\"110.5\"/><use xlink:href=\"#black\" x=\"10.5\" y=\"130.5\"/><use xlink:href=\"#white\" x=\"30.5\" y=\"130.5\"/><use xlink:href=\"#white\" x=\"50.5\" y=\"130.5\"/><use xlink:href=\"#black\" x=\"70.5\" y=\"130.5\"/><use xlink:href=\"#black\" x=\"90.5\" y=\"130.5\"/><use xlink:href=\"#black\" x=\"110.5\" y=\"130.5\"/><use xlink:href=\"#white\" x=\"130.5\" y=\"130.5\"/><use xlink:href=\"#white\" x=\"150.5\" y=\"130.5\"/><use xlink:href=\"#white\" x=\"30.5\" y=\"150.5\"/><use xlink:href=\"#white\" x=\"50.5\" y=\"150.5\"/><use xlink:href=\"#white\" x=\"70.5\" y=\"150.5\"/><use xlink:href=\"#white\" x=\"90.5\" y=\"150.5\"/><use xlink:href=\"#white\" x=\"110.5\" y=\"150.5\"/><use xlink:href=\"#white\" x=\"130.5\" y=\"150.5\"/><use xlink:href=\"#white\" x=\"150.5\" y=\"150.5\"/></svg>",
            "text/plain": [
              "<IPython.core.display.SVG object>"
            ]
          },
          "metadata": {},
          "output_type": "display_data"
        },
        {
          "name": "stdout",
          "output_type": "stream",
          "text": [
            "a8\n"
          ]
        },
        {
          "data": {
            "image/svg+xml": "<svg xmlns=\"http://www.w3.org/2000/svg\" xmlns:xlink=\"http://www.w3.org/1999/xlink\" version=\"1.1\" width=\"215.0\" height=\"215.0\" viewBox=\"0 0 172 172\"><defs><g id=\"black\"><circle cx=\"10\" cy=\"10\" r=\"8.5\" fill=\"black\"/></g><g id=\"white\"><circle cx=\"10\" cy=\"10\" r=\"8.5\" fill=\"white\"/></g></defs><rect fill=\"green\" height=\"161\" width=\"161\" x=\"10\" y=\"10\"/><rect x=\"10.5\" y=\"150.5\" width=\"20\" height=\"20\" fill=\"#8bbf83\"/><g stroke=\"black\"><rect width=\"161\" height=\"161\" stroke-width=\"1.5\" fill=\"none\" x=\"10\" y=\"10\"/><line stroke-width=\"1.0\" x1=\"10.5\" x2=\"170.5\" y1=\"30.5\" y2=\"30.5\"/><line stroke-width=\"1.0\" x1=\"10.5\" x2=\"170.5\" y1=\"50.5\" y2=\"50.5\"/><line stroke-width=\"1.0\" x1=\"10.5\" x2=\"170.5\" y1=\"70.5\" y2=\"70.5\"/><line stroke-width=\"1.0\" x1=\"10.5\" x2=\"170.5\" y1=\"90.5\" y2=\"90.5\"/><line stroke-width=\"1.0\" x1=\"10.5\" x2=\"170.5\" y1=\"110.5\" y2=\"110.5\"/><line stroke-width=\"1.0\" x1=\"10.5\" x2=\"170.5\" y1=\"130.5\" y2=\"130.5\"/><line stroke-width=\"1.0\" x1=\"10.5\" x2=\"170.5\" y1=\"150.5\" y2=\"150.5\"/><line stroke-width=\"1.0\" x1=\"30.5\" x2=\"30.5\" y1=\"10.5\" y2=\"170.5\"/><line stroke-width=\"1.0\" x1=\"50.5\" x2=\"50.5\" y1=\"10.5\" y2=\"170.5\"/><line stroke-width=\"1.0\" x1=\"70.5\" x2=\"70.5\" y1=\"10.5\" y2=\"170.5\"/><line stroke-width=\"1.0\" x1=\"90.5\" x2=\"90.5\" y1=\"10.5\" y2=\"170.5\"/><line stroke-width=\"1.0\" x1=\"110.5\" x2=\"110.5\" y1=\"10.5\" y2=\"170.5\"/><line stroke-width=\"1.0\" x1=\"130.5\" x2=\"130.5\" y1=\"10.5\" y2=\"170.5\"/><line stroke-width=\"1.0\" x1=\"150.5\" x2=\"150.5\" y1=\"10.5\" y2=\"170.5\"/></g><g><text font-family=\"serif\" font-size=\"9.5\" text-anchor=\"middle\" x=\"20.5\" y=\"8\">a</text><text font-family=\"serif\" font-size=\"9.5\" text-anchor=\"middle\" x=\"40.5\" y=\"8\">b</text><text font-family=\"serif\" font-size=\"9.5\" text-anchor=\"middle\" x=\"60.5\" y=\"8\">c</text><text font-family=\"serif\" font-size=\"9.5\" text-anchor=\"middle\" x=\"80.5\" y=\"8\">d</text><text font-family=\"serif\" font-size=\"9.5\" text-anchor=\"middle\" x=\"100.5\" y=\"8\">e</text><text font-family=\"serif\" font-size=\"9.5\" text-anchor=\"middle\" x=\"120.5\" y=\"8\">f</text><text font-family=\"serif\" font-size=\"9.5\" text-anchor=\"middle\" x=\"140.5\" y=\"8\">g</text><text font-family=\"serif\" font-size=\"9.5\" text-anchor=\"middle\" x=\"160.5\" y=\"8\">h</text><text font-family=\"serif\" font-size=\"9.5\" x=\"2.5\" y=\"23.5\">1</text><text font-family=\"serif\" font-size=\"9.5\" x=\"2.5\" y=\"43.5\">2</text><text font-family=\"serif\" font-size=\"9.5\" x=\"2.5\" y=\"63.5\">3</text><text font-family=\"serif\" font-size=\"9.5\" x=\"2.5\" y=\"83.5\">4</text><text font-family=\"serif\" font-size=\"9.5\" x=\"2.5\" y=\"103.5\">5</text><text font-family=\"serif\" font-size=\"9.5\" x=\"2.5\" y=\"123.5\">6</text><text font-family=\"serif\" font-size=\"9.5\" x=\"2.5\" y=\"143.5\">7</text><text font-family=\"serif\" font-size=\"9.5\" x=\"2.5\" y=\"163.5\">8</text></g><use xlink:href=\"#black\" x=\"10.5\" y=\"10.5\"/><use xlink:href=\"#black\" x=\"30.5\" y=\"10.5\"/><use xlink:href=\"#black\" x=\"50.5\" y=\"10.5\"/><use xlink:href=\"#black\" x=\"70.5\" y=\"10.5\"/><use xlink:href=\"#black\" x=\"90.5\" y=\"10.5\"/><use xlink:href=\"#black\" x=\"110.5\" y=\"10.5\"/><use xlink:href=\"#black\" x=\"130.5\" y=\"10.5\"/><use xlink:href=\"#black\" x=\"150.5\" y=\"10.5\"/><use xlink:href=\"#black\" x=\"10.5\" y=\"30.5\"/><use xlink:href=\"#black\" x=\"30.5\" y=\"30.5\"/><use xlink:href=\"#black\" x=\"50.5\" y=\"30.5\"/><use xlink:href=\"#black\" x=\"70.5\" y=\"30.5\"/><use xlink:href=\"#white\" x=\"90.5\" y=\"30.5\"/><use xlink:href=\"#white\" x=\"110.5\" y=\"30.5\"/><use xlink:href=\"#white\" x=\"130.5\" y=\"30.5\"/><use xlink:href=\"#white\" x=\"150.5\" y=\"30.5\"/><use xlink:href=\"#black\" x=\"10.5\" y=\"50.5\"/><use xlink:href=\"#black\" x=\"30.5\" y=\"50.5\"/><use xlink:href=\"#black\" x=\"50.5\" y=\"50.5\"/><use xlink:href=\"#white\" x=\"70.5\" y=\"50.5\"/><use xlink:href=\"#black\" x=\"90.5\" y=\"50.5\"/><use xlink:href=\"#black\" x=\"110.5\" y=\"50.5\"/><use xlink:href=\"#white\" x=\"130.5\" y=\"50.5\"/><use xlink:href=\"#white\" x=\"150.5\" y=\"50.5\"/><use xlink:href=\"#black\" x=\"10.5\" y=\"70.5\"/><use xlink:href=\"#black\" x=\"30.5\" y=\"70.5\"/><use xlink:href=\"#white\" x=\"50.5\" y=\"70.5\"/><use xlink:href=\"#black\" x=\"70.5\" y=\"70.5\"/><use xlink:href=\"#black\" x=\"90.5\" y=\"70.5\"/><use xlink:href=\"#white\" x=\"110.5\" y=\"70.5\"/><use xlink:href=\"#white\" x=\"130.5\" y=\"70.5\"/><use xlink:href=\"#white\" x=\"150.5\" y=\"70.5\"/><use xlink:href=\"#black\" x=\"10.5\" y=\"90.5\"/><use xlink:href=\"#white\" x=\"30.5\" y=\"90.5\"/><use xlink:href=\"#black\" x=\"50.5\" y=\"90.5\"/><use xlink:href=\"#black\" x=\"70.5\" y=\"90.5\"/><use xlink:href=\"#white\" x=\"90.5\" y=\"90.5\"/><use xlink:href=\"#black\" x=\"110.5\" y=\"90.5\"/><use xlink:href=\"#white\" x=\"130.5\" y=\"90.5\"/><use xlink:href=\"#white\" x=\"150.5\" y=\"90.5\"/><use xlink:href=\"#black\" x=\"10.5\" y=\"110.5\"/><use xlink:href=\"#white\" x=\"30.5\" y=\"110.5\"/><use xlink:href=\"#black\" x=\"50.5\" y=\"110.5\"/><use xlink:href=\"#black\" x=\"70.5\" y=\"110.5\"/><use xlink:href=\"#black\" x=\"90.5\" y=\"110.5\"/><use xlink:href=\"#white\" x=\"110.5\" y=\"110.5\"/><use xlink:href=\"#white\" x=\"130.5\" y=\"110.5\"/><use xlink:href=\"#white\" x=\"150.5\" y=\"110.5\"/><use xlink:href=\"#black\" x=\"10.5\" y=\"130.5\"/><use xlink:href=\"#black\" x=\"30.5\" y=\"130.5\"/><use xlink:href=\"#white\" x=\"50.5\" y=\"130.5\"/><use xlink:href=\"#black\" x=\"70.5\" y=\"130.5\"/><use xlink:href=\"#black\" x=\"90.5\" y=\"130.5\"/><use xlink:href=\"#black\" x=\"110.5\" y=\"130.5\"/><use xlink:href=\"#white\" x=\"130.5\" y=\"130.5\"/><use xlink:href=\"#white\" x=\"150.5\" y=\"130.5\"/><use xlink:href=\"#black\" x=\"10.5\" y=\"150.5\"/><use xlink:href=\"#white\" x=\"30.5\" y=\"150.5\"/><use xlink:href=\"#white\" x=\"50.5\" y=\"150.5\"/><use xlink:href=\"#white\" x=\"70.5\" y=\"150.5\"/><use xlink:href=\"#white\" x=\"90.5\" y=\"150.5\"/><use xlink:href=\"#white\" x=\"110.5\" y=\"150.5\"/><use xlink:href=\"#white\" x=\"130.5\" y=\"150.5\"/><use xlink:href=\"#white\" x=\"150.5\" y=\"150.5\"/></svg>",
            "text/plain": [
              "<IPython.core.display.SVG object>"
            ]
          },
          "metadata": {},
          "output_type": "display_data"
        },
        {
          "name": "stdout",
          "output_type": "stream",
          "text": [
            "result black=35 white=29\n",
            "black won\n",
            "black:1 white:0 draw:0\n"
          ]
        }
      ],
      "source": [
        "main('greedy', 'random', model1='model.pt')"
      ]
    },
    {
      "cell_type": "markdown",
      "metadata": {
        "id": "aByeEl1XHnHW"
      },
      "source": [
        "## ランダムプレイヤーと連続対局"
      ]
    },
    {
      "cell_type": "code",
      "execution_count": 22,
      "metadata": {
        "colab": {
          "base_uri": "https://localhost:8080/",
          "height": 1000
        },
        "id": "2tPkYX06Hqid",
        "outputId": "133e760d-4696-44c7-b72d-18c7889b4359"
      },
      "outputs": [
        {
          "name": "stdout",
          "output_type": "stream",
          "text": [
            "game 0\n",
            "result black=56 white=8\n",
            "black won\n",
            "game 1\n",
            "result black=55 white=9\n",
            "black won\n",
            "game 2\n",
            "result black=42 white=22\n",
            "black won\n",
            "game 3\n",
            "result black=58 white=6\n",
            "black won\n",
            "game 4\n",
            "result black=51 white=13\n",
            "black won\n",
            "game 5\n",
            "result black=49 white=15\n",
            "black won\n",
            "game 6\n",
            "result black=55 white=9\n",
            "black won\n",
            "game 7\n",
            "result black=43 white=21\n",
            "black won\n",
            "game 8\n",
            "result black=55 white=9\n",
            "black won\n",
            "game 9\n",
            "result black=47 white=17\n",
            "black won\n",
            "game 10\n",
            "result black=48 white=16\n",
            "black won\n",
            "game 11\n",
            "result black=57 white=7\n",
            "black won\n",
            "game 12\n",
            "result black=50 white=14\n",
            "black won\n",
            "game 13\n",
            "result black=48 white=16\n",
            "black won\n",
            "game 14\n",
            "result black=44 white=20\n",
            "black won\n",
            "game 15\n",
            "result black=56 white=8\n",
            "black won\n",
            "game 16\n",
            "result black=57 white=7\n",
            "black won\n",
            "game 17\n",
            "result black=54 white=10\n",
            "black won\n",
            "game 18\n",
            "result black=44 white=20\n",
            "black won\n",
            "game 19\n",
            "result black=60 white=4\n",
            "black won\n",
            "game 20\n",
            "result black=47 white=17\n",
            "black won\n",
            "game 21\n",
            "result black=48 white=16\n",
            "black won\n",
            "game 22\n",
            "result black=46 white=18\n",
            "black won\n",
            "game 23\n",
            "result black=0 white=14\n",
            "white won\n",
            "game 24\n",
            "result black=51 white=13\n",
            "black won\n",
            "game 25\n",
            "result black=28 white=36\n",
            "white won\n",
            "game 26\n",
            "result black=58 white=6\n",
            "black won\n",
            "game 27\n",
            "result black=46 white=18\n",
            "black won\n",
            "game 28\n",
            "result black=52 white=12\n",
            "black won\n",
            "game 29\n",
            "result black=53 white=11\n",
            "black won\n",
            "game 30\n",
            "result black=48 white=16\n",
            "black won\n",
            "game 31\n",
            "result black=44 white=20\n",
            "black won\n",
            "game 32\n",
            "result black=51 white=13\n",
            "black won\n",
            "game 33\n",
            "result black=40 white=24\n",
            "black won\n",
            "game 34\n",
            "result black=49 white=15\n",
            "black won\n",
            "game 35\n",
            "result black=46 white=18\n",
            "black won\n",
            "game 36\n",
            "result black=43 white=21\n",
            "black won\n",
            "game 37\n",
            "result black=45 white=19\n",
            "black won\n",
            "game 38\n",
            "result black=50 white=14\n",
            "black won\n",
            "game 39\n",
            "result black=49 white=15\n",
            "black won\n",
            "game 40\n",
            "result black=47 white=17\n",
            "black won\n",
            "game 41\n",
            "result black=48 white=16\n",
            "black won\n",
            "game 42\n",
            "result black=34 white=30\n",
            "black won\n",
            "game 43\n",
            "result black=40 white=24\n",
            "black won\n",
            "game 44\n",
            "result black=46 white=18\n",
            "black won\n",
            "game 45\n",
            "result black=57 white=7\n",
            "black won\n",
            "game 46\n",
            "result black=49 white=15\n",
            "black won\n",
            "game 47\n",
            "result black=48 white=16\n",
            "black won\n",
            "game 48\n",
            "result black=54 white=10\n",
            "black won\n",
            "game 49\n",
            "result black=44 white=20\n",
            "black won\n",
            "game 50\n",
            "result black=49 white=15\n",
            "black won\n",
            "game 51\n",
            "result black=37 white=27\n",
            "black won\n",
            "game 52\n",
            "result black=49 white=15\n",
            "black won\n",
            "game 53\n",
            "result black=45 white=19\n",
            "black won\n",
            "game 54\n",
            "result black=47 white=17\n",
            "black won\n",
            "game 55\n",
            "result black=59 white=5\n",
            "black won\n",
            "game 56\n",
            "result black=57 white=7\n",
            "black won\n",
            "game 57\n",
            "result black=54 white=10\n",
            "black won\n",
            "game 58\n",
            "result black=53 white=11\n",
            "black won\n",
            "game 59\n",
            "result black=51 white=13\n",
            "black won\n",
            "game 60\n",
            "result black=56 white=7\n",
            "black won\n",
            "game 61\n",
            "result black=49 white=15\n",
            "black won\n",
            "game 62\n",
            "result black=49 white=15\n",
            "black won\n",
            "game 63\n",
            "result black=52 white=12\n",
            "black won\n",
            "game 64\n",
            "result black=48 white=16\n",
            "black won\n",
            "game 65\n",
            "result black=55 white=9\n",
            "black won\n",
            "game 66\n",
            "result black=56 white=8\n",
            "black won\n",
            "game 67\n",
            "result black=43 white=21\n",
            "black won\n",
            "game 68\n",
            "result black=54 white=10\n",
            "black won\n",
            "game 69\n",
            "result black=54 white=10\n",
            "black won\n",
            "game 70\n",
            "result black=35 white=29\n",
            "black won\n",
            "game 71\n",
            "result black=57 white=7\n",
            "black won\n",
            "game 72\n",
            "result black=53 white=10\n",
            "black won\n",
            "game 73\n",
            "result black=41 white=23\n",
            "black won\n",
            "game 74\n",
            "result black=50 white=13\n",
            "black won\n",
            "game 75\n",
            "result black=62 white=2\n",
            "black won\n",
            "game 76\n",
            "result black=44 white=20\n",
            "black won\n",
            "game 77\n",
            "result black=56 white=8\n",
            "black won\n",
            "game 78\n",
            "result black=47 white=17\n",
            "black won\n",
            "game 79\n",
            "result black=52 white=12\n",
            "black won\n",
            "game 80\n",
            "result black=32 white=31\n",
            "black won\n",
            "game 81\n",
            "result black=38 white=26\n",
            "black won\n",
            "game 82\n",
            "result black=53 white=11\n",
            "black won\n",
            "game 83\n",
            "result black=45 white=19\n",
            "black won\n",
            "game 84\n",
            "result black=56 white=8\n",
            "black won\n",
            "game 85\n",
            "result black=42 white=22\n",
            "black won\n",
            "game 86\n",
            "result black=52 white=12\n",
            "black won\n",
            "game 87\n",
            "result black=44 white=20\n",
            "black won\n",
            "game 88\n",
            "result black=51 white=13\n",
            "black won\n",
            "game 89\n",
            "result black=45 white=19\n",
            "black won\n",
            "game 90\n",
            "result black=60 white=4\n",
            "black won\n",
            "game 91\n",
            "result black=55 white=9\n",
            "black won\n",
            "game 92\n",
            "result black=45 white=19\n",
            "black won\n",
            "game 93\n",
            "result black=54 white=10\n",
            "black won\n",
            "game 94\n",
            "result black=41 white=23\n",
            "black won\n",
            "game 95\n",
            "result black=48 white=16\n",
            "black won\n",
            "game 96\n",
            "result black=55 white=9\n",
            "black won\n",
            "game 97\n",
            "result black=56 white=8\n",
            "black won\n",
            "game 98\n",
            "result black=60 white=0\n",
            "black won\n",
            "game 99\n",
            "result black=47 white=17\n",
            "black won\n",
            "game 100\n",
            "result black=49 white=15\n",
            "black won\n",
            "game 101\n",
            "result black=57 white=7\n",
            "black won\n",
            "game 102\n",
            "result black=37 white=27\n",
            "black won\n",
            "game 103\n",
            "result black=48 white=16\n",
            "black won\n",
            "game 104\n",
            "result black=51 white=13\n",
            "black won\n",
            "game 105\n",
            "result black=47 white=17\n",
            "black won\n",
            "game 106\n",
            "result black=57 white=6\n",
            "black won\n",
            "game 107\n",
            "result black=53 white=0\n",
            "black won\n",
            "game 108\n",
            "result black=45 white=19\n",
            "black won\n",
            "game 109\n",
            "result black=50 white=14\n",
            "black won\n",
            "game 110\n",
            "result black=36 white=28\n",
            "black won\n",
            "game 111\n",
            "result black=53 white=11\n",
            "black won\n",
            "game 112\n",
            "result black=44 white=20\n",
            "black won\n",
            "game 113\n",
            "result black=42 white=22\n",
            "black won\n",
            "game 114\n",
            "result black=51 white=13\n",
            "black won\n",
            "game 115\n",
            "result black=54 white=10\n",
            "black won\n",
            "game 116\n",
            "result black=52 white=12\n",
            "black won\n",
            "game 117\n",
            "result black=46 white=18\n",
            "black won\n",
            "game 118\n",
            "result black=54 white=10\n",
            "black won\n",
            "game 119\n",
            "result black=52 white=11\n",
            "black won\n",
            "game 120\n",
            "result black=54 white=10\n",
            "black won\n",
            "game 121\n",
            "result black=47 white=17\n",
            "black won\n",
            "game 122\n",
            "result black=53 white=11\n",
            "black won\n",
            "game 123\n",
            "result black=57 white=7\n",
            "black won\n",
            "game 124\n",
            "result black=27 white=37\n",
            "white won\n",
            "game 125\n",
            "result black=54 white=10\n",
            "black won\n",
            "game 126\n",
            "result black=53 white=11\n",
            "black won\n",
            "game 127\n",
            "result black=46 white=18\n",
            "black won\n",
            "game 128\n",
            "result black=43 white=21\n",
            "black won\n",
            "game 129\n",
            "result black=44 white=20\n",
            "black won\n",
            "game 130\n",
            "result black=47 white=17\n",
            "black won\n",
            "game 131\n",
            "result black=41 white=23\n",
            "black won\n",
            "game 132\n",
            "result black=35 white=29\n",
            "black won\n",
            "game 133\n",
            "result black=48 white=16\n",
            "black won\n",
            "game 134\n",
            "result black=50 white=14\n",
            "black won\n",
            "game 135\n",
            "result black=58 white=6\n",
            "black won\n",
            "game 136\n",
            "result black=59 white=5\n",
            "black won\n",
            "game 137\n",
            "result black=54 white=10\n",
            "black won\n",
            "game 138\n",
            "result black=56 white=8\n",
            "black won\n",
            "game 139\n",
            "result black=57 white=7\n",
            "black won\n",
            "game 140\n",
            "result black=58 white=6\n",
            "black won\n",
            "game 141\n",
            "result black=56 white=8\n",
            "black won\n",
            "game 142\n",
            "result black=49 white=15\n",
            "black won\n",
            "game 143\n",
            "result black=55 white=9\n",
            "black won\n",
            "game 144\n",
            "result black=34 white=30\n",
            "black won\n",
            "game 145\n",
            "result black=43 white=21\n",
            "black won\n",
            "game 146\n",
            "result black=51 white=13\n",
            "black won\n",
            "game 147\n",
            "result black=63 white=1\n",
            "black won\n",
            "game 148\n",
            "result black=54 white=10\n",
            "black won\n",
            "game 149\n",
            "result black=51 white=13\n",
            "black won\n",
            "game 150\n",
            "result black=54 white=10\n",
            "black won\n",
            "game 151\n",
            "result black=51 white=13\n",
            "black won\n",
            "game 152\n",
            "result black=46 white=18\n",
            "black won\n",
            "game 153\n",
            "result black=53 white=11\n",
            "black won\n",
            "game 154\n",
            "result black=54 white=10\n",
            "black won\n",
            "game 155\n",
            "result black=48 white=16\n",
            "black won\n",
            "game 156\n",
            "result black=49 white=15\n",
            "black won\n",
            "game 157\n",
            "result black=52 white=12\n",
            "black won\n",
            "game 158\n",
            "result black=39 white=25\n",
            "black won\n",
            "game 159\n",
            "result black=42 white=22\n",
            "black won\n",
            "game 160\n",
            "result black=58 white=6\n",
            "black won\n",
            "game 161\n",
            "result black=52 white=12\n",
            "black won\n",
            "game 162\n",
            "result black=58 white=6\n",
            "black won\n",
            "game 163\n",
            "result black=36 white=28\n",
            "black won\n",
            "game 164\n",
            "result black=48 white=16\n",
            "black won\n",
            "game 165\n",
            "result black=47 white=17\n",
            "black won\n",
            "game 166\n",
            "result black=50 white=14\n",
            "black won\n",
            "game 167\n",
            "result black=50 white=14\n",
            "black won\n",
            "game 168\n",
            "result black=42 white=22\n",
            "black won\n",
            "game 169\n",
            "result black=57 white=7\n",
            "black won\n",
            "game 170\n",
            "result black=48 white=0\n",
            "black won\n",
            "game 171\n",
            "result black=34 white=30\n",
            "black won\n",
            "game 172\n",
            "result black=45 white=19\n",
            "black won\n",
            "game 173\n",
            "result black=51 white=13\n",
            "black won\n",
            "game 174\n",
            "result black=45 white=19\n",
            "black won\n",
            "game 175\n",
            "result black=54 white=10\n",
            "black won\n",
            "game 176\n",
            "result black=50 white=14\n",
            "black won\n",
            "game 177\n",
            "result black=38 white=26\n",
            "black won\n",
            "game 178\n",
            "result black=47 white=17\n",
            "black won\n",
            "game 179\n",
            "result black=55 white=0\n",
            "black won\n",
            "game 180\n",
            "result black=51 white=13\n",
            "black won\n",
            "game 181\n",
            "result black=47 white=17\n",
            "black won\n",
            "game 182\n",
            "result black=37 white=27\n",
            "black won\n",
            "game 183\n",
            "result black=43 white=21\n",
            "black won\n",
            "game 184\n",
            "result black=48 white=16\n",
            "black won\n",
            "game 185\n",
            "result black=51 white=12\n",
            "black won\n",
            "game 186\n",
            "result black=47 white=17\n",
            "black won\n",
            "game 187\n",
            "result black=47 white=17\n",
            "black won\n",
            "game 188\n",
            "result black=50 white=14\n",
            "black won\n",
            "game 189\n",
            "result black=49 white=15\n",
            "black won\n",
            "game 190\n",
            "result black=41 white=23\n",
            "black won\n",
            "game 191\n",
            "result black=50 white=14\n",
            "black won\n",
            "game 192\n",
            "result black=62 white=1\n",
            "black won\n",
            "game 193\n",
            "result black=59 white=5\n",
            "black won\n",
            "game 194\n",
            "result black=56 white=8\n",
            "black won\n",
            "game 195\n",
            "result black=41 white=23\n",
            "black won\n",
            "game 196\n",
            "result black=41 white=23\n",
            "black won\n",
            "game 197\n",
            "result black=47 white=17\n",
            "black won\n",
            "game 198\n",
            "result black=50 white=14\n",
            "black won\n",
            "game 199\n",
            "result black=45 white=19\n",
            "black won\n",
            "game 200\n",
            "result black=54 white=10\n",
            "black won\n",
            "game 201\n",
            "result black=50 white=14\n",
            "black won\n",
            "game 202\n",
            "result black=46 white=18\n",
            "black won\n",
            "game 203\n",
            "result black=52 white=12\n",
            "black won\n",
            "game 204\n",
            "result black=52 white=12\n",
            "black won\n",
            "game 205\n",
            "result black=47 white=17\n",
            "black won\n",
            "game 206\n",
            "result black=46 white=18\n",
            "black won\n",
            "game 207\n",
            "result black=50 white=14\n",
            "black won\n",
            "game 208\n",
            "result black=32 white=32\n",
            "draw\n",
            "game 209\n",
            "result black=50 white=14\n",
            "black won\n",
            "game 210\n",
            "result black=59 white=5\n",
            "black won\n",
            "game 211\n",
            "result black=46 white=6\n",
            "black won\n",
            "game 212\n",
            "result black=42 white=22\n",
            "black won\n",
            "game 213\n",
            "result black=41 white=23\n",
            "black won\n",
            "game 214\n",
            "result black=44 white=20\n",
            "black won\n",
            "game 215\n",
            "result black=57 white=7\n",
            "black won\n",
            "game 216\n",
            "result black=37 white=27\n",
            "black won\n",
            "game 217\n",
            "result black=54 white=10\n",
            "black won\n",
            "game 218\n",
            "result black=42 white=22\n",
            "black won\n",
            "game 219\n",
            "result black=39 white=25\n",
            "black won\n",
            "game 220\n",
            "result black=49 white=15\n",
            "black won\n",
            "game 221\n",
            "result black=50 white=14\n",
            "black won\n",
            "game 222\n",
            "result black=58 white=6\n",
            "black won\n",
            "game 223\n",
            "result black=46 white=18\n",
            "black won\n",
            "game 224\n",
            "result black=54 white=10\n",
            "black won\n",
            "game 225\n",
            "result black=51 white=13\n",
            "black won\n",
            "game 226\n",
            "result black=47 white=17\n",
            "black won\n",
            "game 227\n",
            "result black=53 white=11\n",
            "black won\n",
            "game 228\n",
            "result black=47 white=17\n",
            "black won\n",
            "game 229\n",
            "result black=53 white=11\n",
            "black won\n",
            "game 230\n",
            "result black=52 white=12\n",
            "black won\n",
            "game 231\n",
            "result black=51 white=13\n",
            "black won\n",
            "game 232\n",
            "result black=50 white=14\n",
            "black won\n",
            "game 233\n",
            "result black=54 white=10\n",
            "black won\n",
            "game 234\n",
            "result black=45 white=19\n",
            "black won\n",
            "game 235\n",
            "result black=39 white=25\n",
            "black won\n",
            "game 236\n",
            "result black=44 white=20\n",
            "black won\n",
            "game 237\n",
            "result black=48 white=16\n",
            "black won\n",
            "game 238\n",
            "result black=37 white=27\n",
            "black won\n",
            "game 239\n",
            "result black=42 white=22\n",
            "black won\n",
            "game 240\n",
            "result black=42 white=22\n",
            "black won\n",
            "game 241\n",
            "result black=52 white=12\n",
            "black won\n",
            "game 242\n",
            "result black=57 white=7\n",
            "black won\n",
            "game 243\n",
            "result black=56 white=8\n",
            "black won\n",
            "game 244\n",
            "result black=47 white=17\n",
            "black won\n",
            "game 245\n",
            "result black=50 white=14\n",
            "black won\n",
            "game 246\n",
            "result black=47 white=17\n",
            "black won\n",
            "game 247\n",
            "result black=52 white=12\n",
            "black won\n",
            "game 248\n",
            "result black=51 white=13\n",
            "black won\n",
            "game 249\n",
            "result black=53 white=11\n",
            "black won\n",
            "game 250\n",
            "result black=48 white=16\n",
            "black won\n",
            "game 251\n",
            "result black=58 white=6\n",
            "black won\n",
            "game 252\n",
            "result black=47 white=17\n",
            "black won\n",
            "game 253\n",
            "result black=50 white=14\n",
            "black won\n",
            "game 254\n",
            "result black=53 white=10\n",
            "black won\n",
            "game 255\n",
            "result black=57 white=7\n",
            "black won\n",
            "game 256\n",
            "result black=48 white=16\n",
            "black won\n",
            "game 257\n",
            "result black=46 white=18\n",
            "black won\n",
            "game 258\n",
            "result black=52 white=12\n",
            "black won\n",
            "game 259\n",
            "result black=42 white=22\n",
            "black won\n",
            "game 260\n",
            "result black=37 white=27\n",
            "black won\n",
            "game 261\n",
            "result black=51 white=13\n",
            "black won\n",
            "game 262\n",
            "result black=58 white=6\n",
            "black won\n",
            "game 263\n",
            "result black=51 white=13\n",
            "black won\n",
            "game 264\n",
            "result black=44 white=20\n",
            "black won\n",
            "game 265\n",
            "result black=47 white=17\n",
            "black won\n",
            "game 266\n",
            "result black=54 white=10\n",
            "black won\n",
            "game 267\n",
            "result black=56 white=8\n",
            "black won\n",
            "game 268\n",
            "result black=47 white=17\n",
            "black won\n",
            "game 269\n",
            "result black=51 white=13\n",
            "black won\n",
            "game 270\n",
            "result black=44 white=20\n",
            "black won\n",
            "game 271\n",
            "result black=45 white=19\n",
            "black won\n",
            "game 272\n",
            "result black=56 white=8\n",
            "black won\n",
            "game 273\n",
            "result black=33 white=31\n",
            "black won\n",
            "game 274\n",
            "result black=51 white=13\n",
            "black won\n",
            "game 275\n",
            "result black=58 white=6\n",
            "black won\n",
            "game 276\n",
            "result black=50 white=14\n",
            "black won\n",
            "game 277\n",
            "result black=46 white=18\n",
            "black won\n",
            "game 278\n",
            "result black=51 white=13\n",
            "black won\n",
            "game 279\n",
            "result black=42 white=22\n",
            "black won\n",
            "game 280\n",
            "result black=49 white=15\n",
            "black won\n",
            "game 281\n",
            "result black=46 white=18\n",
            "black won\n",
            "game 282\n",
            "result black=41 white=23\n",
            "black won\n",
            "game 283\n",
            "result black=52 white=12\n",
            "black won\n",
            "game 284\n",
            "result black=45 white=19\n",
            "black won\n",
            "game 285\n",
            "result black=45 white=19\n",
            "black won\n",
            "game 286\n",
            "result black=50 white=14\n",
            "black won\n",
            "game 287\n",
            "result black=52 white=12\n",
            "black won\n",
            "game 288\n",
            "result black=59 white=4\n",
            "black won\n",
            "game 289\n",
            "result black=57 white=7\n",
            "black won\n",
            "game 290\n",
            "result black=52 white=12\n",
            "black won\n",
            "game 291\n",
            "result black=47 white=16\n",
            "black won\n",
            "game 292\n",
            "result black=46 white=18\n",
            "black won\n",
            "game 293\n",
            "result black=52 white=12\n",
            "black won\n",
            "game 294\n",
            "result black=45 white=19\n",
            "black won\n",
            "game 295\n",
            "result black=48 white=16\n",
            "black won\n",
            "game 296\n",
            "result black=46 white=18\n",
            "black won\n",
            "game 297\n",
            "result black=52 white=11\n",
            "black won\n",
            "game 298\n",
            "result black=54 white=10\n",
            "black won\n",
            "game 299\n",
            "result black=50 white=14\n",
            "black won\n",
            "game 300\n",
            "result black=58 white=6\n",
            "black won\n",
            "game 301\n",
            "result black=48 white=0\n",
            "black won\n",
            "game 302\n",
            "result black=48 white=16\n",
            "black won\n",
            "game 303\n",
            "result black=43 white=21\n",
            "black won\n",
            "game 304\n",
            "result black=34 white=30\n",
            "black won\n",
            "game 305\n",
            "result black=45 white=19\n",
            "black won\n",
            "game 306\n",
            "result black=45 white=19\n",
            "black won\n",
            "game 307\n",
            "result black=48 white=16\n",
            "black won\n",
            "game 308\n",
            "result black=46 white=18\n",
            "black won\n",
            "game 309\n",
            "result black=48 white=16\n",
            "black won\n",
            "game 310\n",
            "result black=37 white=27\n",
            "black won\n",
            "game 311\n",
            "result black=34 white=30\n",
            "black won\n",
            "game 312\n",
            "result black=47 white=17\n",
            "black won\n",
            "game 313\n",
            "result black=41 white=23\n",
            "black won\n",
            "game 314\n",
            "result black=44 white=20\n",
            "black won\n",
            "game 315\n",
            "result black=53 white=11\n",
            "black won\n",
            "game 316\n",
            "result black=58 white=6\n",
            "black won\n",
            "game 317\n",
            "result black=57 white=7\n",
            "black won\n",
            "game 318\n",
            "result black=49 white=15\n",
            "black won\n",
            "game 319\n",
            "result black=56 white=8\n",
            "black won\n",
            "game 320\n",
            "result black=45 white=19\n",
            "black won\n",
            "game 321\n",
            "result black=41 white=23\n",
            "black won\n",
            "game 322\n",
            "result black=0 white=24\n",
            "white won\n",
            "game 323\n",
            "result black=47 white=17\n",
            "black won\n",
            "game 324\n",
            "result black=36 white=28\n",
            "black won\n",
            "game 325\n",
            "result black=52 white=12\n",
            "black won\n",
            "game 326\n",
            "result black=54 white=10\n",
            "black won\n",
            "game 327\n",
            "result black=52 white=12\n",
            "black won\n",
            "game 328\n",
            "result black=42 white=22\n",
            "black won\n",
            "game 329\n",
            "result black=52 white=12\n",
            "black won\n",
            "game 330\n",
            "result black=51 white=13\n",
            "black won\n",
            "game 331\n",
            "result black=47 white=17\n",
            "black won\n",
            "game 332\n",
            "result black=48 white=16\n",
            "black won\n",
            "game 333\n",
            "result black=48 white=16\n",
            "black won\n",
            "game 334\n",
            "result black=49 white=15\n",
            "black won\n",
            "game 335\n",
            "result black=45 white=19\n",
            "black won\n",
            "game 336\n",
            "result black=42 white=22\n",
            "black won\n",
            "game 337\n",
            "result black=41 white=23\n",
            "black won\n",
            "game 338\n",
            "result black=57 white=7\n",
            "black won\n",
            "game 339\n",
            "result black=53 white=9\n",
            "black won\n",
            "game 340\n",
            "result black=50 white=14\n",
            "black won\n",
            "game 341\n",
            "result black=45 white=19\n",
            "black won\n",
            "game 342\n",
            "result black=50 white=14\n",
            "black won\n",
            "game 343\n",
            "result black=60 white=4\n",
            "black won\n",
            "game 344\n",
            "result black=52 white=12\n",
            "black won\n",
            "game 345\n",
            "result black=50 white=14\n",
            "black won\n",
            "game 346\n",
            "result black=49 white=15\n",
            "black won\n",
            "game 347\n",
            "result black=51 white=13\n",
            "black won\n",
            "game 348\n",
            "result black=51 white=13\n",
            "black won\n",
            "game 349\n",
            "result black=52 white=12\n",
            "black won\n",
            "game 350\n",
            "result black=45 white=19\n",
            "black won\n",
            "game 351\n",
            "result black=59 white=5\n",
            "black won\n",
            "game 352\n",
            "result black=51 white=13\n",
            "black won\n",
            "game 353\n",
            "result black=55 white=3\n",
            "black won\n",
            "game 354\n",
            "result black=50 white=14\n",
            "black won\n",
            "game 355\n",
            "result black=50 white=14\n",
            "black won\n",
            "game 356\n",
            "result black=57 white=7\n",
            "black won\n",
            "game 357\n",
            "result black=50 white=14\n",
            "black won\n",
            "game 358\n",
            "result black=54 white=10\n",
            "black won\n",
            "game 359\n",
            "result black=43 white=21\n",
            "black won\n",
            "game 360\n",
            "result black=51 white=13\n",
            "black won\n",
            "game 361\n",
            "result black=46 white=18\n",
            "black won\n",
            "game 362\n",
            "result black=47 white=17\n",
            "black won\n",
            "game 363\n",
            "result black=37 white=27\n",
            "black won\n",
            "game 364\n",
            "result black=47 white=17\n",
            "black won\n",
            "game 365\n",
            "result black=50 white=14\n",
            "black won\n",
            "game 366\n",
            "result black=42 white=22\n",
            "black won\n",
            "game 367\n",
            "result black=46 white=18\n",
            "black won\n",
            "game 368\n",
            "result black=46 white=18\n",
            "black won\n",
            "game 369\n",
            "result black=60 white=4\n",
            "black won\n",
            "game 370\n",
            "result black=39 white=25\n",
            "black won\n",
            "game 371\n",
            "result black=45 white=19\n",
            "black won\n",
            "game 372\n",
            "result black=57 white=7\n",
            "black won\n",
            "game 373\n",
            "result black=39 white=25\n",
            "black won\n",
            "game 374\n",
            "result black=46 white=18\n",
            "black won\n",
            "game 375\n",
            "result black=48 white=16\n",
            "black won\n",
            "game 376\n",
            "result black=49 white=15\n",
            "black won\n",
            "game 377\n",
            "result black=57 white=7\n",
            "black won\n",
            "game 378\n",
            "result black=45 white=19\n",
            "black won\n",
            "game 379\n",
            "result black=51 white=13\n",
            "black won\n",
            "game 380\n",
            "result black=47 white=17\n",
            "black won\n",
            "game 381\n",
            "result black=47 white=17\n",
            "black won\n",
            "game 382\n",
            "result black=44 white=20\n",
            "black won\n",
            "game 383\n",
            "result black=38 white=26\n",
            "black won\n",
            "game 384\n",
            "result black=44 white=20\n",
            "black won\n",
            "game 385\n",
            "result black=47 white=17\n",
            "black won\n",
            "game 386\n",
            "result black=53 white=11\n",
            "black won\n",
            "game 387\n",
            "result black=50 white=14\n",
            "black won\n",
            "game 388\n",
            "result black=51 white=13\n",
            "black won\n",
            "game 389\n",
            "result black=45 white=19\n",
            "black won\n",
            "game 390\n",
            "result black=46 white=18\n",
            "black won\n",
            "game 391\n",
            "result black=45 white=19\n",
            "black won\n",
            "game 392\n",
            "result black=42 white=22\n",
            "black won\n",
            "game 393\n",
            "result black=49 white=15\n",
            "black won\n",
            "game 394\n",
            "result black=49 white=0\n",
            "black won\n",
            "game 395\n",
            "result black=48 white=16\n",
            "black won\n",
            "game 396\n",
            "result black=50 white=14\n",
            "black won\n",
            "game 397\n",
            "result black=52 white=12\n",
            "black won\n",
            "game 398\n",
            "result black=53 white=11\n",
            "black won\n",
            "game 399\n",
            "result black=53 white=9\n",
            "black won\n",
            "game 400\n",
            "result black=51 white=13\n",
            "black won\n",
            "game 401\n",
            "result black=51 white=13\n",
            "black won\n",
            "game 402\n",
            "result black=46 white=18\n",
            "black won\n",
            "game 403\n",
            "result black=51 white=13\n",
            "black won\n",
            "game 404\n",
            "result black=40 white=24\n",
            "black won\n",
            "game 405\n",
            "result black=46 white=18\n",
            "black won\n",
            "game 406\n",
            "result black=44 white=20\n",
            "black won\n",
            "game 407\n",
            "result black=56 white=8\n",
            "black won\n",
            "game 408\n",
            "result black=52 white=0\n",
            "black won\n",
            "game 409\n",
            "result black=59 white=3\n",
            "black won\n",
            "game 410\n",
            "result black=52 white=12\n",
            "black won\n",
            "game 411\n",
            "result black=44 white=20\n",
            "black won\n",
            "game 412\n",
            "result black=53 white=11\n",
            "black won\n",
            "game 413\n",
            "result black=59 white=4\n",
            "black won\n",
            "game 414\n",
            "result black=42 white=22\n",
            "black won\n",
            "game 415\n",
            "result black=45 white=19\n",
            "black won\n",
            "game 416\n",
            "result black=44 white=20\n",
            "black won\n",
            "game 417\n",
            "result black=45 white=19\n",
            "black won\n",
            "game 418\n",
            "result black=38 white=26\n",
            "black won\n",
            "game 419\n",
            "result black=53 white=11\n",
            "black won\n",
            "game 420\n",
            "result black=55 white=9\n",
            "black won\n",
            "game 421\n",
            "result black=59 white=5\n",
            "black won\n",
            "game 422\n",
            "result black=51 white=13\n",
            "black won\n",
            "game 423\n",
            "result black=44 white=19\n",
            "black won\n",
            "game 424\n",
            "result black=41 white=23\n",
            "black won\n",
            "game 425\n",
            "result black=55 white=8\n",
            "black won\n",
            "game 426\n",
            "result black=46 white=18\n",
            "black won\n",
            "game 427\n",
            "result black=49 white=15\n",
            "black won\n",
            "game 428\n",
            "result black=41 white=23\n",
            "black won\n",
            "game 429\n",
            "result black=44 white=20\n",
            "black won\n",
            "game 430\n",
            "result black=56 white=6\n",
            "black won\n",
            "game 431\n",
            "result black=48 white=16\n",
            "black won\n",
            "game 432\n",
            "result black=53 white=11\n",
            "black won\n",
            "game 433\n",
            "result black=48 white=16\n",
            "black won\n",
            "game 434\n",
            "result black=51 white=13\n",
            "black won\n",
            "game 435\n",
            "result black=57 white=7\n",
            "black won\n",
            "game 436\n",
            "result black=43 white=21\n",
            "black won\n",
            "game 437\n",
            "result black=42 white=22\n",
            "black won\n",
            "game 438\n",
            "result black=56 white=7\n",
            "black won\n",
            "game 439\n",
            "result black=48 white=16\n",
            "black won\n",
            "game 440\n",
            "result black=46 white=18\n",
            "black won\n",
            "game 441\n",
            "result black=49 white=15\n",
            "black won\n",
            "game 442\n",
            "result black=36 white=28\n",
            "black won\n",
            "game 443\n",
            "result black=38 white=26\n",
            "black won\n",
            "game 444\n",
            "result black=45 white=19\n",
            "black won\n",
            "game 445\n",
            "result black=40 white=24\n",
            "black won\n",
            "game 446\n",
            "result black=53 white=11\n",
            "black won\n",
            "game 447\n",
            "result black=54 white=10\n",
            "black won\n",
            "game 448\n",
            "result black=58 white=6\n",
            "black won\n",
            "game 449\n",
            "result black=54 white=10\n",
            "black won\n",
            "game 450\n",
            "result black=58 white=6\n",
            "black won\n",
            "game 451\n",
            "result black=48 white=16\n",
            "black won\n",
            "game 452\n",
            "result black=51 white=13\n",
            "black won\n",
            "game 453\n",
            "result black=41 white=23\n",
            "black won\n",
            "game 454\n",
            "result black=39 white=25\n",
            "black won\n",
            "game 455\n",
            "result black=52 white=12\n",
            "black won\n",
            "game 456\n",
            "result black=56 white=8\n",
            "black won\n",
            "game 457\n",
            "result black=38 white=26\n",
            "black won\n",
            "game 458\n",
            "result black=37 white=27\n",
            "black won\n",
            "game 459\n",
            "result black=43 white=21\n",
            "black won\n",
            "game 460\n",
            "result black=51 white=13\n",
            "black won\n",
            "game 461\n",
            "result black=53 white=11\n",
            "black won\n",
            "game 462\n",
            "result black=54 white=10\n",
            "black won\n",
            "game 463\n",
            "result black=44 white=20\n",
            "black won\n",
            "game 464\n",
            "result black=49 white=15\n",
            "black won\n",
            "game 465\n",
            "result black=50 white=14\n",
            "black won\n",
            "game 466\n",
            "result black=24 white=39\n",
            "white won\n",
            "game 467\n",
            "result black=40 white=24\n",
            "black won\n",
            "game 468\n",
            "result black=53 white=11\n",
            "black won\n",
            "game 469\n",
            "result black=41 white=23\n",
            "black won\n",
            "game 470\n",
            "result black=35 white=29\n",
            "black won\n",
            "game 471\n",
            "result black=48 white=16\n",
            "black won\n",
            "game 472\n",
            "result black=59 white=3\n",
            "black won\n",
            "game 473\n",
            "result black=48 white=16\n",
            "black won\n",
            "game 474\n",
            "result black=57 white=7\n",
            "black won\n",
            "game 475\n",
            "result black=54 white=10\n",
            "black won\n",
            "game 476\n",
            "result black=57 white=7\n",
            "black won\n",
            "game 477\n",
            "result black=47 white=17\n",
            "black won\n",
            "game 478\n",
            "result black=50 white=14\n",
            "black won\n",
            "game 479\n",
            "result black=51 white=13\n",
            "black won\n",
            "game 480\n",
            "result black=49 white=15\n",
            "black won\n",
            "game 481\n",
            "result black=45 white=19\n",
            "black won\n",
            "game 482\n",
            "result black=32 white=32\n",
            "draw\n",
            "game 483\n",
            "result black=49 white=15\n",
            "black won\n",
            "game 484\n",
            "result black=44 white=20\n",
            "black won\n",
            "game 485\n",
            "result black=51 white=13\n",
            "black won\n",
            "game 486\n",
            "result black=57 white=7\n",
            "black won\n",
            "game 487\n",
            "result black=60 white=4\n",
            "black won\n",
            "game 488\n",
            "result black=58 white=6\n",
            "black won\n",
            "game 489\n",
            "result black=39 white=25\n",
            "black won\n",
            "game 490\n",
            "result black=51 white=13\n",
            "black won\n",
            "game 491\n",
            "result black=47 white=17\n",
            "black won\n",
            "game 492\n",
            "result black=35 white=29\n",
            "black won\n",
            "game 493\n",
            "result black=32 white=32\n",
            "draw\n",
            "game 494\n",
            "result black=41 white=23\n",
            "black won\n",
            "game 495\n",
            "result black=45 white=19\n",
            "black won\n",
            "game 496\n",
            "result black=47 white=17\n",
            "black won\n",
            "game 497\n",
            "result black=52 white=12\n",
            "black won\n",
            "game 498\n",
            "result black=52 white=12\n",
            "black won\n",
            "game 499\n",
            "result black=53 white=11\n",
            "black won\n",
            "game 500\n",
            "result black=56 white=8\n",
            "black won\n",
            "game 501\n",
            "result black=45 white=19\n",
            "black won\n",
            "game 502\n",
            "result black=60 white=4\n",
            "black won\n",
            "game 503\n",
            "result black=42 white=22\n",
            "black won\n",
            "game 504\n",
            "result black=43 white=21\n",
            "black won\n",
            "game 505\n",
            "result black=54 white=10\n",
            "black won\n",
            "game 506\n",
            "result black=57 white=7\n",
            "black won\n",
            "game 507\n",
            "result black=41 white=23\n",
            "black won\n",
            "game 508\n",
            "result black=46 white=18\n",
            "black won\n",
            "game 509\n",
            "result black=57 white=7\n",
            "black won\n",
            "game 510\n",
            "result black=49 white=15\n",
            "black won\n",
            "game 511\n",
            "result black=47 white=17\n",
            "black won\n",
            "game 512\n",
            "result black=41 white=23\n",
            "black won\n",
            "game 513\n",
            "result black=44 white=20\n",
            "black won\n",
            "game 514\n",
            "result black=45 white=19\n",
            "black won\n",
            "game 515\n",
            "result black=47 white=17\n",
            "black won\n",
            "game 516\n",
            "result black=42 white=22\n",
            "black won\n",
            "game 517\n",
            "result black=35 white=29\n",
            "black won\n",
            "game 518\n",
            "result black=40 white=24\n",
            "black won\n",
            "game 519\n",
            "result black=49 white=15\n",
            "black won\n",
            "game 520\n",
            "result black=52 white=12\n",
            "black won\n",
            "game 521\n",
            "result black=0 white=14\n",
            "white won\n",
            "game 522\n",
            "result black=53 white=11\n",
            "black won\n",
            "game 523\n",
            "result black=52 white=12\n",
            "black won\n",
            "game 524\n",
            "result black=55 white=9\n",
            "black won\n",
            "game 525\n",
            "result black=57 white=7\n",
            "black won\n",
            "game 526\n",
            "result black=43 white=21\n",
            "black won\n",
            "game 527\n",
            "result black=48 white=16\n",
            "black won\n",
            "game 528\n",
            "result black=45 white=19\n",
            "black won\n",
            "game 529\n",
            "result black=53 white=11\n",
            "black won\n",
            "game 530\n",
            "result black=49 white=15\n",
            "black won\n",
            "game 531\n",
            "result black=49 white=15\n",
            "black won\n",
            "game 532\n",
            "result black=61 white=3\n",
            "black won\n",
            "game 533\n",
            "result black=37 white=27\n",
            "black won\n",
            "game 534\n",
            "result black=46 white=18\n",
            "black won\n",
            "game 535\n",
            "result black=55 white=9\n",
            "black won\n",
            "game 536\n",
            "result black=60 white=4\n",
            "black won\n",
            "game 537\n",
            "result black=50 white=14\n",
            "black won\n",
            "game 538\n",
            "result black=52 white=12\n",
            "black won\n",
            "game 539\n",
            "result black=33 white=31\n",
            "black won\n",
            "game 540\n",
            "result black=53 white=11\n",
            "black won\n",
            "game 541\n",
            "result black=43 white=21\n",
            "black won\n",
            "game 542\n",
            "result black=46 white=18\n",
            "black won\n",
            "game 543\n",
            "result black=37 white=27\n",
            "black won\n",
            "game 544\n",
            "result black=43 white=21\n",
            "black won\n",
            "game 545\n",
            "result black=31 white=33\n",
            "white won\n",
            "game 546\n",
            "result black=37 white=27\n",
            "black won\n",
            "game 547\n",
            "result black=51 white=13\n",
            "black won\n",
            "game 548\n",
            "result black=55 white=9\n",
            "black won\n",
            "game 549\n",
            "result black=46 white=18\n",
            "black won\n",
            "game 550\n",
            "result black=50 white=14\n",
            "black won\n",
            "game 551\n",
            "result black=45 white=19\n",
            "black won\n",
            "game 552\n",
            "result black=44 white=20\n",
            "black won\n",
            "game 553\n",
            "result black=50 white=14\n",
            "black won\n",
            "game 554\n",
            "result black=53 white=11\n",
            "black won\n",
            "game 555\n",
            "result black=50 white=14\n",
            "black won\n",
            "game 556\n",
            "result black=42 white=22\n",
            "black won\n",
            "game 557\n",
            "result black=48 white=16\n",
            "black won\n",
            "game 558\n",
            "result black=54 white=10\n",
            "black won\n",
            "game 559\n",
            "result black=21 white=43\n",
            "white won\n",
            "game 560\n",
            "result black=47 white=17\n",
            "black won\n",
            "game 561\n",
            "result black=51 white=13\n",
            "black won\n",
            "game 562\n",
            "result black=51 white=13\n",
            "black won\n",
            "game 563\n",
            "result black=50 white=14\n",
            "black won\n",
            "game 564\n",
            "result black=50 white=14\n",
            "black won\n",
            "game 565\n",
            "result black=45 white=19\n",
            "black won\n",
            "game 566\n",
            "result black=51 white=13\n",
            "black won\n",
            "game 567\n",
            "result black=53 white=10\n",
            "black won\n",
            "game 568\n",
            "result black=52 white=12\n",
            "black won\n",
            "game 569\n",
            "result black=63 white=1\n",
            "black won\n",
            "game 570\n",
            "result black=43 white=21\n",
            "black won\n",
            "game 571\n",
            "result black=51 white=13\n",
            "black won\n",
            "game 572\n",
            "result black=50 white=14\n",
            "black won\n",
            "game 573\n",
            "result black=39 white=25\n",
            "black won\n",
            "game 574\n",
            "result black=58 white=6\n",
            "black won\n",
            "game 575\n",
            "result black=56 white=8\n",
            "black won\n",
            "game 576\n",
            "result black=57 white=7\n",
            "black won\n",
            "game 577\n",
            "result black=54 white=10\n",
            "black won\n",
            "game 578\n",
            "result black=49 white=15\n",
            "black won\n",
            "game 579\n",
            "result black=32 white=32\n",
            "draw\n",
            "game 580\n",
            "result black=52 white=12\n",
            "black won\n",
            "game 581\n",
            "result black=39 white=25\n",
            "black won\n",
            "game 582\n",
            "result black=44 white=20\n",
            "black won\n",
            "game 583\n",
            "result black=42 white=22\n",
            "black won\n",
            "game 584\n",
            "result black=51 white=13\n",
            "black won\n",
            "game 585\n",
            "result black=56 white=8\n",
            "black won\n",
            "game 586\n",
            "result black=41 white=23\n",
            "black won\n",
            "game 587\n",
            "result black=48 white=16\n",
            "black won\n",
            "game 588\n",
            "result black=44 white=20\n",
            "black won\n",
            "game 589\n",
            "result black=53 white=11\n",
            "black won\n",
            "game 590\n",
            "result black=53 white=11\n",
            "black won\n",
            "game 591\n",
            "result black=48 white=16\n",
            "black won\n",
            "game 592\n",
            "result black=47 white=17\n",
            "black won\n",
            "game 593\n",
            "result black=43 white=21\n",
            "black won\n",
            "game 594\n",
            "result black=46 white=18\n",
            "black won\n",
            "game 595\n",
            "result black=49 white=15\n",
            "black won\n",
            "game 596\n",
            "result black=55 white=9\n",
            "black won\n",
            "game 597\n",
            "result black=54 white=10\n",
            "black won\n",
            "game 598\n",
            "result black=52 white=3\n",
            "black won\n",
            "game 599\n",
            "result black=50 white=14\n",
            "black won\n",
            "game 600\n",
            "result black=48 white=16\n",
            "black won\n",
            "game 601\n",
            "result black=52 white=12\n",
            "black won\n",
            "game 602\n",
            "result black=51 white=13\n",
            "black won\n",
            "game 603\n",
            "result black=60 white=4\n",
            "black won\n",
            "game 604\n",
            "result black=47 white=17\n",
            "black won\n",
            "game 605\n",
            "result black=43 white=21\n",
            "black won\n",
            "game 606\n",
            "result black=0 white=22\n",
            "white won\n",
            "game 607\n",
            "result black=52 white=12\n",
            "black won\n",
            "game 608\n",
            "result black=44 white=20\n",
            "black won\n",
            "game 609\n",
            "result black=50 white=14\n",
            "black won\n",
            "game 610\n",
            "result black=46 white=18\n",
            "black won\n",
            "game 611\n",
            "result black=41 white=23\n",
            "black won\n",
            "game 612\n",
            "result black=51 white=13\n",
            "black won\n",
            "game 613\n",
            "result black=42 white=22\n",
            "black won\n",
            "game 614\n",
            "result black=53 white=11\n",
            "black won\n",
            "game 615\n",
            "result black=39 white=25\n",
            "black won\n",
            "game 616\n",
            "result black=44 white=20\n",
            "black won\n",
            "game 617\n",
            "result black=52 white=12\n",
            "black won\n",
            "game 618\n",
            "result black=43 white=21\n",
            "black won\n",
            "game 619\n",
            "result black=36 white=28\n",
            "black won\n",
            "game 620\n",
            "result black=40 white=24\n",
            "black won\n",
            "game 621\n",
            "result black=42 white=22\n",
            "black won\n",
            "game 622\n",
            "result black=46 white=18\n",
            "black won\n",
            "game 623\n",
            "result black=52 white=12\n",
            "black won\n",
            "game 624\n",
            "result black=54 white=10\n",
            "black won\n",
            "game 625\n",
            "result black=44 white=20\n",
            "black won\n",
            "game 626\n",
            "result black=53 white=11\n",
            "black won\n",
            "game 627\n",
            "result black=37 white=27\n",
            "black won\n",
            "game 628\n",
            "result black=54 white=10\n",
            "black won\n",
            "game 629\n",
            "result black=36 white=28\n",
            "black won\n",
            "game 630\n",
            "result black=56 white=0\n",
            "black won\n",
            "game 631\n",
            "result black=49 white=15\n",
            "black won\n",
            "game 632\n",
            "result black=54 white=10\n",
            "black won\n",
            "game 633\n",
            "result black=44 white=20\n",
            "black won\n",
            "game 634\n",
            "result black=59 white=5\n",
            "black won\n",
            "game 635\n",
            "result black=44 white=20\n",
            "black won\n",
            "game 636\n",
            "result black=52 white=12\n",
            "black won\n",
            "game 637\n",
            "result black=57 white=7\n",
            "black won\n",
            "game 638\n",
            "result black=48 white=0\n",
            "black won\n",
            "game 639\n",
            "result black=49 white=15\n",
            "black won\n",
            "game 640\n",
            "result black=45 white=19\n",
            "black won\n",
            "game 641\n",
            "result black=45 white=19\n",
            "black won\n",
            "game 642\n",
            "result black=52 white=12\n",
            "black won\n",
            "game 643\n",
            "result black=46 white=18\n",
            "black won\n",
            "game 644\n",
            "result black=57 white=7\n",
            "black won\n",
            "game 645\n",
            "result black=53 white=11\n",
            "black won\n",
            "game 646\n",
            "result black=47 white=17\n",
            "black won\n",
            "game 647\n",
            "result black=53 white=11\n",
            "black won\n",
            "game 648\n",
            "result black=45 white=19\n",
            "black won\n",
            "game 649\n",
            "result black=43 white=21\n",
            "black won\n",
            "game 650\n",
            "result black=39 white=25\n",
            "black won\n",
            "game 651\n",
            "result black=43 white=21\n",
            "black won\n",
            "game 652\n",
            "result black=45 white=19\n",
            "black won\n",
            "game 653\n",
            "result black=49 white=15\n",
            "black won\n",
            "game 654\n",
            "result black=49 white=15\n",
            "black won\n",
            "game 655\n",
            "result black=41 white=23\n",
            "black won\n",
            "game 656\n",
            "result black=55 white=9\n",
            "black won\n",
            "game 657\n",
            "result black=51 white=13\n",
            "black won\n",
            "game 658\n",
            "result black=49 white=15\n",
            "black won\n",
            "game 659\n",
            "result black=55 white=9\n",
            "black won\n",
            "game 660\n",
            "result black=52 white=12\n",
            "black won\n",
            "game 661\n",
            "result black=48 white=16\n",
            "black won\n",
            "game 662\n",
            "result black=54 white=10\n",
            "black won\n",
            "game 663\n",
            "result black=45 white=19\n",
            "black won\n",
            "game 664\n",
            "result black=45 white=19\n",
            "black won\n",
            "game 665\n",
            "result black=56 white=8\n",
            "black won\n",
            "game 666\n",
            "result black=48 white=16\n",
            "black won\n",
            "game 667\n",
            "result black=41 white=23\n",
            "black won\n",
            "game 668\n",
            "result black=48 white=0\n",
            "black won\n",
            "game 669\n",
            "result black=48 white=16\n",
            "black won\n",
            "game 670\n",
            "result black=49 white=14\n",
            "black won\n",
            "game 671\n",
            "result black=32 white=32\n",
            "draw\n",
            "game 672\n",
            "result black=36 white=28\n",
            "black won\n",
            "game 673\n",
            "result black=56 white=8\n",
            "black won\n",
            "game 674\n",
            "result black=43 white=21\n",
            "black won\n",
            "game 675\n",
            "result black=49 white=15\n",
            "black won\n",
            "game 676\n",
            "result black=35 white=29\n",
            "black won\n",
            "game 677\n",
            "result black=50 white=14\n",
            "black won\n",
            "game 678\n",
            "result black=58 white=0\n",
            "black won\n",
            "game 679\n",
            "result black=37 white=27\n",
            "black won\n",
            "game 680\n",
            "result black=64 white=0\n",
            "black won\n",
            "game 681\n",
            "result black=57 white=7\n",
            "black won\n",
            "game 682\n",
            "result black=51 white=13\n",
            "black won\n",
            "game 683\n",
            "result black=60 white=4\n",
            "black won\n",
            "game 684\n",
            "result black=42 white=22\n",
            "black won\n",
            "game 685\n",
            "result black=44 white=20\n",
            "black won\n",
            "game 686\n",
            "result black=43 white=21\n",
            "black won\n",
            "game 687\n",
            "result black=52 white=12\n",
            "black won\n",
            "game 688\n",
            "result black=44 white=20\n",
            "black won\n",
            "game 689\n",
            "result black=43 white=21\n",
            "black won\n",
            "game 690\n",
            "result black=52 white=12\n",
            "black won\n",
            "game 691\n",
            "result black=40 white=24\n",
            "black won\n",
            "game 692\n",
            "result black=40 white=24\n",
            "black won\n",
            "game 693\n",
            "result black=52 white=12\n",
            "black won\n",
            "game 694\n",
            "result black=42 white=22\n",
            "black won\n",
            "game 695\n",
            "result black=44 white=20\n",
            "black won\n",
            "game 696\n",
            "result black=56 white=8\n",
            "black won\n",
            "game 697\n",
            "result black=47 white=17\n",
            "black won\n",
            "game 698\n",
            "result black=54 white=10\n",
            "black won\n",
            "game 699\n",
            "result black=53 white=11\n",
            "black won\n",
            "game 700\n",
            "result black=52 white=12\n",
            "black won\n",
            "game 701\n",
            "result black=44 white=20\n",
            "black won\n",
            "game 702\n",
            "result black=47 white=17\n",
            "black won\n",
            "game 703\n",
            "result black=44 white=0\n",
            "black won\n",
            "game 704\n",
            "result black=30 white=34\n",
            "white won\n",
            "game 705\n",
            "result black=54 white=10\n",
            "black won\n",
            "game 706\n",
            "result black=52 white=12\n",
            "black won\n",
            "game 707\n",
            "result black=51 white=13\n",
            "black won\n",
            "game 708\n",
            "result black=53 white=11\n",
            "black won\n",
            "game 709\n",
            "result black=48 white=16\n",
            "black won\n",
            "game 710\n",
            "result black=52 white=12\n",
            "black won\n",
            "game 711\n",
            "result black=42 white=22\n",
            "black won\n",
            "game 712\n",
            "result black=56 white=8\n",
            "black won\n",
            "game 713\n",
            "result black=32 white=32\n",
            "draw\n",
            "game 714\n",
            "result black=53 white=11\n",
            "black won\n",
            "game 715\n",
            "result black=48 white=16\n",
            "black won\n",
            "game 716\n",
            "result black=50 white=14\n",
            "black won\n",
            "game 717\n",
            "result black=51 white=13\n",
            "black won\n",
            "game 718\n",
            "result black=47 white=17\n",
            "black won\n",
            "game 719\n",
            "result black=39 white=25\n",
            "black won\n",
            "game 720\n",
            "result black=52 white=12\n",
            "black won\n",
            "game 721\n",
            "result black=49 white=15\n",
            "black won\n",
            "game 722\n",
            "result black=51 white=13\n",
            "black won\n",
            "game 723\n",
            "result black=48 white=16\n",
            "black won\n",
            "game 724\n",
            "result black=54 white=10\n",
            "black won\n",
            "game 725\n",
            "result black=43 white=21\n",
            "black won\n",
            "game 726\n",
            "result black=59 white=1\n",
            "black won\n",
            "game 727\n",
            "result black=53 white=3\n",
            "black won\n",
            "game 728\n",
            "result black=50 white=14\n",
            "black won\n",
            "game 729\n",
            "result black=52 white=12\n",
            "black won\n",
            "game 730\n",
            "result black=44 white=20\n",
            "black won\n",
            "game 731\n",
            "result black=0 white=16\n",
            "white won\n",
            "game 732\n",
            "result black=53 white=11\n",
            "black won\n",
            "game 733\n",
            "result black=47 white=17\n",
            "black won\n",
            "game 734\n",
            "result black=51 white=13\n",
            "black won\n",
            "game 735\n",
            "result black=50 white=13\n",
            "black won\n",
            "game 736\n",
            "result black=50 white=14\n",
            "black won\n",
            "game 737\n",
            "result black=46 white=18\n",
            "black won\n",
            "game 738\n",
            "result black=47 white=17\n",
            "black won\n",
            "game 739\n",
            "result black=43 white=20\n",
            "black won\n",
            "game 740\n",
            "result black=57 white=7\n",
            "black won\n",
            "game 741\n",
            "result black=38 white=26\n",
            "black won\n",
            "game 742\n",
            "result black=46 white=18\n",
            "black won\n",
            "game 743\n",
            "result black=46 white=18\n",
            "black won\n",
            "game 744\n",
            "result black=47 white=17\n",
            "black won\n",
            "game 745\n",
            "result black=57 white=7\n",
            "black won\n",
            "game 746\n",
            "result black=51 white=13\n",
            "black won\n",
            "game 747\n",
            "result black=52 white=12\n",
            "black won\n",
            "game 748\n",
            "result black=48 white=16\n",
            "black won\n",
            "game 749\n",
            "result black=52 white=12\n",
            "black won\n",
            "game 750\n",
            "result black=54 white=10\n",
            "black won\n",
            "game 751\n",
            "result black=49 white=15\n",
            "black won\n",
            "game 752\n",
            "result black=46 white=18\n",
            "black won\n",
            "game 753\n",
            "result black=51 white=13\n",
            "black won\n",
            "game 754\n",
            "result black=44 white=20\n",
            "black won\n",
            "game 755\n",
            "result black=39 white=25\n",
            "black won\n",
            "game 756\n",
            "result black=48 white=16\n",
            "black won\n",
            "game 757\n",
            "result black=42 white=22\n",
            "black won\n",
            "game 758\n",
            "result black=39 white=25\n",
            "black won\n",
            "game 759\n",
            "result black=41 white=23\n",
            "black won\n",
            "game 760\n",
            "result black=48 white=16\n",
            "black won\n",
            "game 761\n",
            "result black=44 white=20\n",
            "black won\n",
            "game 762\n",
            "result black=54 white=10\n",
            "black won\n",
            "game 763\n",
            "result black=39 white=25\n",
            "black won\n",
            "game 764\n",
            "result black=64 white=0\n",
            "black won\n",
            "game 765\n",
            "result black=49 white=15\n",
            "black won\n",
            "game 766\n",
            "result black=50 white=14\n",
            "black won\n",
            "game 767\n",
            "result black=43 white=21\n",
            "black won\n",
            "game 768\n",
            "result black=48 white=16\n",
            "black won\n",
            "game 769\n",
            "result black=59 white=4\n",
            "black won\n",
            "game 770\n",
            "result black=57 white=7\n",
            "black won\n",
            "game 771\n",
            "result black=48 white=16\n",
            "black won\n",
            "game 772\n",
            "result black=55 white=9\n",
            "black won\n",
            "game 773\n",
            "result black=49 white=15\n",
            "black won\n",
            "game 774\n",
            "result black=53 white=11\n",
            "black won\n",
            "game 775\n",
            "result black=42 white=22\n",
            "black won\n",
            "game 776\n",
            "result black=40 white=24\n",
            "black won\n",
            "game 777\n",
            "result black=57 white=6\n",
            "black won\n",
            "game 778\n",
            "result black=0 white=30\n",
            "white won\n",
            "game 779\n",
            "result black=56 white=8\n",
            "black won\n",
            "game 780\n",
            "result black=37 white=26\n",
            "black won\n",
            "game 781\n",
            "result black=49 white=15\n",
            "black won\n",
            "game 782\n",
            "result black=44 white=20\n",
            "black won\n",
            "game 783\n",
            "result black=43 white=21\n",
            "black won\n",
            "game 784\n",
            "result black=58 white=6\n",
            "black won\n",
            "game 785\n",
            "result black=46 white=18\n",
            "black won\n",
            "game 786\n",
            "result black=49 white=15\n",
            "black won\n",
            "game 787\n",
            "result black=50 white=14\n",
            "black won\n",
            "game 788\n",
            "result black=49 white=15\n",
            "black won\n",
            "game 789\n",
            "result black=47 white=17\n",
            "black won\n",
            "game 790\n",
            "result black=53 white=11\n",
            "black won\n",
            "game 791\n",
            "result black=54 white=10\n",
            "black won\n",
            "game 792\n",
            "result black=42 white=22\n",
            "black won\n",
            "game 793\n",
            "result black=49 white=15\n",
            "black won\n",
            "game 794\n",
            "result black=48 white=16\n",
            "black won\n",
            "game 795\n",
            "result black=49 white=15\n",
            "black won\n",
            "game 796\n",
            "result black=50 white=14\n",
            "black won\n",
            "game 797\n",
            "result black=46 white=18\n",
            "black won\n",
            "game 798\n",
            "result black=46 white=18\n",
            "black won\n",
            "game 799\n",
            "result black=47 white=17\n",
            "black won\n",
            "game 800\n",
            "result black=44 white=20\n",
            "black won\n",
            "game 801\n",
            "result black=51 white=13\n",
            "black won\n",
            "game 802\n",
            "result black=43 white=21\n",
            "black won\n",
            "game 803\n",
            "result black=45 white=19\n",
            "black won\n",
            "game 804\n",
            "result black=46 white=18\n",
            "black won\n",
            "game 805\n",
            "result black=42 white=22\n",
            "black won\n",
            "game 806\n",
            "result black=37 white=27\n",
            "black won\n",
            "game 807\n",
            "result black=56 white=8\n",
            "black won\n",
            "game 808\n",
            "result black=32 white=32\n",
            "draw\n",
            "game 809\n",
            "result black=39 white=25\n",
            "black won\n",
            "game 810\n",
            "result black=39 white=25\n",
            "black won\n",
            "game 811\n",
            "result black=37 white=27\n",
            "black won\n",
            "game 812\n",
            "result black=55 white=9\n",
            "black won\n",
            "game 813\n",
            "result black=41 white=23\n",
            "black won\n",
            "game 814\n",
            "result black=57 white=7\n",
            "black won\n",
            "game 815\n",
            "result black=39 white=25\n",
            "black won\n",
            "game 816\n",
            "result black=56 white=7\n",
            "black won\n",
            "game 817\n",
            "result black=48 white=16\n",
            "black won\n",
            "game 818\n",
            "result black=46 white=18\n",
            "black won\n",
            "game 819\n",
            "result black=51 white=13\n",
            "black won\n",
            "game 820\n",
            "result black=45 white=19\n",
            "black won\n",
            "game 821\n",
            "result black=47 white=17\n",
            "black won\n",
            "game 822\n",
            "result black=58 white=6\n",
            "black won\n",
            "game 823\n",
            "result black=37 white=27\n",
            "black won\n",
            "game 824\n",
            "result black=51 white=13\n",
            "black won\n",
            "game 825\n",
            "result black=33 white=31\n",
            "black won\n",
            "game 826\n",
            "result black=49 white=15\n",
            "black won\n",
            "game 827\n",
            "result black=57 white=7\n",
            "black won\n",
            "game 828\n",
            "result black=0 white=14\n",
            "white won\n",
            "game 829\n",
            "result black=54 white=10\n",
            "black won\n",
            "game 830\n",
            "result black=36 white=28\n",
            "black won\n",
            "game 831\n",
            "result black=53 white=11\n",
            "black won\n",
            "game 832\n",
            "result black=63 white=1\n",
            "black won\n",
            "game 833\n",
            "result black=43 white=21\n",
            "black won\n",
            "game 834\n",
            "result black=61 white=2\n",
            "black won\n",
            "game 835\n",
            "result black=48 white=16\n",
            "black won\n",
            "game 836\n",
            "result black=51 white=13\n",
            "black won\n",
            "game 837\n",
            "result black=45 white=19\n",
            "black won\n",
            "game 838\n",
            "result black=49 white=15\n",
            "black won\n",
            "game 839\n",
            "result black=47 white=17\n",
            "black won\n",
            "game 840\n",
            "result black=58 white=6\n",
            "black won\n",
            "game 841\n",
            "result black=57 white=0\n",
            "black won\n",
            "game 842\n",
            "result black=46 white=18\n",
            "black won\n",
            "game 843\n",
            "result black=47 white=17\n",
            "black won\n",
            "game 844\n",
            "result black=48 white=16\n",
            "black won\n",
            "game 845\n",
            "result black=39 white=25\n",
            "black won\n",
            "game 846\n",
            "result black=48 white=16\n",
            "black won\n",
            "game 847\n",
            "result black=45 white=19\n",
            "black won\n",
            "game 848\n",
            "result black=49 white=15\n",
            "black won\n",
            "game 849\n",
            "result black=44 white=20\n",
            "black won\n",
            "game 850\n",
            "result black=42 white=22\n",
            "black won\n",
            "game 851\n",
            "result black=55 white=9\n",
            "black won\n",
            "game 852\n",
            "result black=40 white=24\n",
            "black won\n",
            "game 853\n",
            "result black=37 white=27\n",
            "black won\n",
            "game 854\n",
            "result black=39 white=25\n",
            "black won\n",
            "game 855\n",
            "result black=47 white=17\n",
            "black won\n",
            "game 856\n",
            "result black=51 white=13\n",
            "black won\n",
            "game 857\n",
            "result black=43 white=21\n",
            "black won\n",
            "game 858\n",
            "result black=48 white=16\n",
            "black won\n",
            "game 859\n",
            "result black=57 white=1\n",
            "black won\n",
            "game 860\n",
            "result black=45 white=19\n",
            "black won\n",
            "game 861\n",
            "result black=55 white=9\n",
            "black won\n",
            "game 862\n",
            "result black=43 white=21\n",
            "black won\n",
            "game 863\n",
            "result black=47 white=17\n",
            "black won\n",
            "game 864\n",
            "result black=51 white=13\n",
            "black won\n",
            "game 865\n",
            "result black=50 white=14\n",
            "black won\n",
            "game 866\n",
            "result black=49 white=15\n",
            "black won\n",
            "game 867\n",
            "result black=44 white=20\n",
            "black won\n",
            "game 868\n",
            "result black=55 white=9\n",
            "black won\n",
            "game 869\n",
            "result black=55 white=9\n",
            "black won\n",
            "game 870\n",
            "result black=44 white=20\n",
            "black won\n",
            "game 871\n",
            "result black=43 white=21\n",
            "black won\n",
            "game 872\n",
            "result black=41 white=23\n",
            "black won\n",
            "game 873\n",
            "result black=43 white=21\n",
            "black won\n",
            "game 874\n",
            "result black=52 white=12\n",
            "black won\n",
            "game 875\n",
            "result black=55 white=9\n",
            "black won\n",
            "game 876\n",
            "result black=53 white=10\n",
            "black won\n",
            "game 877\n",
            "result black=49 white=15\n",
            "black won\n",
            "game 878\n",
            "result black=33 white=31\n",
            "black won\n",
            "game 879\n",
            "result black=50 white=14\n",
            "black won\n",
            "game 880\n",
            "result black=50 white=14\n",
            "black won\n",
            "game 881\n",
            "result black=51 white=13\n",
            "black won\n",
            "game 882\n",
            "result black=49 white=15\n",
            "black won\n",
            "game 883\n",
            "result black=51 white=13\n",
            "black won\n",
            "game 884\n",
            "result black=45 white=19\n",
            "black won\n",
            "game 885\n",
            "result black=51 white=13\n",
            "black won\n",
            "game 886\n",
            "result black=44 white=20\n",
            "black won\n",
            "game 887\n",
            "result black=53 white=11\n",
            "black won\n",
            "game 888\n",
            "result black=34 white=30\n",
            "black won\n",
            "game 889\n",
            "result black=48 white=16\n",
            "black won\n",
            "game 890\n",
            "result black=46 white=18\n",
            "black won\n",
            "game 891\n",
            "result black=39 white=25\n",
            "black won\n",
            "game 892\n",
            "result black=58 white=4\n",
            "black won\n",
            "game 893\n",
            "result black=61 white=3\n",
            "black won\n",
            "game 894\n",
            "result black=48 white=16\n",
            "black won\n",
            "game 895\n",
            "result black=43 white=21\n",
            "black won\n",
            "game 896\n",
            "result black=53 white=11\n",
            "black won\n",
            "game 897\n",
            "result black=44 white=20\n",
            "black won\n",
            "game 898\n",
            "result black=42 white=22\n",
            "black won\n",
            "game 899\n",
            "result black=48 white=16\n",
            "black won\n",
            "game 900\n",
            "result black=49 white=15\n",
            "black won\n",
            "game 901\n",
            "result black=48 white=16\n",
            "black won\n",
            "game 902\n",
            "result black=44 white=20\n",
            "black won\n",
            "game 903\n",
            "result black=49 white=15\n",
            "black won\n",
            "game 904\n",
            "result black=49 white=15\n",
            "black won\n",
            "game 905\n",
            "result black=51 white=13\n",
            "black won\n",
            "game 906\n",
            "result black=49 white=15\n",
            "black won\n",
            "game 907\n",
            "result black=44 white=20\n",
            "black won\n",
            "game 908\n",
            "result black=56 white=7\n",
            "black won\n",
            "game 909\n",
            "result black=45 white=19\n",
            "black won\n",
            "game 910\n",
            "result black=57 white=6\n",
            "black won\n",
            "game 911\n",
            "result black=48 white=16\n",
            "black won\n",
            "game 912\n",
            "result black=40 white=24\n",
            "black won\n",
            "game 913\n",
            "result black=49 white=15\n",
            "black won\n",
            "game 914\n",
            "result black=50 white=14\n",
            "black won\n",
            "game 915\n",
            "result black=40 white=24\n",
            "black won\n",
            "game 916\n",
            "result black=52 white=12\n",
            "black won\n",
            "game 917\n",
            "result black=48 white=16\n",
            "black won\n",
            "game 918\n",
            "result black=30 white=34\n",
            "white won\n",
            "game 919\n",
            "result black=40 white=24\n",
            "black won\n",
            "game 920\n",
            "result black=42 white=22\n",
            "black won\n",
            "game 921\n",
            "result black=43 white=21\n",
            "black won\n",
            "game 922\n",
            "result black=56 white=7\n",
            "black won\n",
            "game 923\n",
            "result black=42 white=22\n",
            "black won\n",
            "game 924\n",
            "result black=39 white=25\n",
            "black won\n",
            "game 925\n",
            "result black=61 white=3\n",
            "black won\n",
            "game 926\n",
            "result black=40 white=24\n",
            "black won\n",
            "game 927\n",
            "result black=49 white=15\n",
            "black won\n",
            "game 928\n",
            "result black=49 white=15\n",
            "black won\n",
            "game 929\n",
            "result black=45 white=19\n",
            "black won\n",
            "game 930\n",
            "result black=42 white=22\n",
            "black won\n",
            "game 931\n",
            "result black=36 white=28\n",
            "black won\n",
            "game 932\n",
            "result black=48 white=16\n",
            "black won\n",
            "game 933\n",
            "result black=34 white=30\n",
            "black won\n",
            "game 934\n",
            "result black=51 white=13\n",
            "black won\n",
            "game 935\n",
            "result black=49 white=15\n",
            "black won\n",
            "game 936\n",
            "result black=55 white=9\n",
            "black won\n",
            "game 937\n",
            "result black=48 white=16\n",
            "black won\n",
            "game 938\n",
            "result black=41 white=23\n",
            "black won\n",
            "game 939\n",
            "result black=49 white=15\n",
            "black won\n",
            "game 940\n",
            "result black=43 white=21\n",
            "black won\n",
            "game 941\n",
            "result black=59 white=5\n",
            "black won\n",
            "game 942\n",
            "result black=42 white=22\n",
            "black won\n",
            "game 943\n",
            "result black=41 white=23\n",
            "black won\n",
            "game 944\n",
            "result black=57 white=7\n",
            "black won\n",
            "game 945\n",
            "result black=41 white=23\n",
            "black won\n",
            "game 946\n",
            "result black=50 white=14\n",
            "black won\n",
            "game 947\n",
            "result black=45 white=19\n",
            "black won\n",
            "game 948\n",
            "result black=46 white=18\n",
            "black won\n",
            "game 949\n",
            "result black=47 white=17\n",
            "black won\n",
            "game 950\n",
            "result black=51 white=13\n",
            "black won\n",
            "game 951\n",
            "result black=54 white=10\n",
            "black won\n",
            "game 952\n",
            "result black=40 white=24\n",
            "black won\n",
            "game 953\n",
            "result black=51 white=13\n",
            "black won\n",
            "game 954\n",
            "result black=41 white=23\n",
            "black won\n",
            "game 955\n",
            "result black=50 white=14\n",
            "black won\n",
            "game 956\n",
            "result black=57 white=7\n",
            "black won\n",
            "game 957\n",
            "result black=57 white=7\n",
            "black won\n",
            "game 958\n",
            "result black=55 white=8\n",
            "black won\n",
            "game 959\n",
            "result black=59 white=5\n",
            "black won\n",
            "game 960\n",
            "result black=52 white=12\n",
            "black won\n",
            "game 961\n",
            "result black=59 white=4\n",
            "black won\n",
            "game 962\n",
            "result black=48 white=16\n",
            "black won\n",
            "game 963\n",
            "result black=46 white=18\n",
            "black won\n",
            "game 964\n",
            "result black=51 white=13\n",
            "black won\n",
            "game 965\n",
            "result black=50 white=14\n",
            "black won\n",
            "game 966\n",
            "result black=46 white=18\n",
            "black won\n",
            "game 967\n",
            "result black=57 white=0\n",
            "black won\n",
            "game 968\n",
            "result black=43 white=21\n",
            "black won\n",
            "game 969\n",
            "result black=55 white=9\n",
            "black won\n",
            "game 970\n",
            "result black=50 white=14\n",
            "black won\n",
            "game 971\n",
            "result black=55 white=8\n",
            "black won\n",
            "game 972\n",
            "result black=45 white=19\n",
            "black won\n",
            "game 973\n",
            "result black=53 white=11\n",
            "black won\n",
            "game 974\n",
            "result black=50 white=14\n",
            "black won\n",
            "game 975\n",
            "result black=52 white=12\n",
            "black won\n",
            "game 976\n",
            "result black=41 white=23\n",
            "black won\n",
            "game 977\n",
            "result black=52 white=12\n",
            "black won\n",
            "game 978\n",
            "result black=45 white=19\n",
            "black won\n",
            "game 979\n",
            "result black=56 white=8\n",
            "black won\n",
            "game 980\n",
            "result black=46 white=18\n",
            "black won\n",
            "game 981\n",
            "result black=52 white=12\n",
            "black won\n",
            "game 982\n",
            "result black=53 white=11\n",
            "black won\n",
            "game 983\n",
            "result black=56 white=1\n",
            "black won\n",
            "game 984\n",
            "result black=37 white=27\n",
            "black won\n",
            "game 985\n",
            "result black=45 white=0\n",
            "black won\n",
            "game 986\n",
            "result black=54 white=10\n",
            "black won\n",
            "game 987\n",
            "result black=51 white=13\n",
            "black won\n",
            "game 988\n",
            "result black=51 white=13\n",
            "black won\n",
            "game 989\n",
            "result black=44 white=20\n",
            "black won\n",
            "game 990\n",
            "result black=48 white=16\n",
            "black won\n",
            "game 991\n",
            "result black=41 white=23\n",
            "black won\n",
            "game 992\n",
            "result black=50 white=14\n",
            "black won\n",
            "game 993\n",
            "result black=52 white=12\n",
            "black won\n",
            "game 994\n",
            "result black=41 white=23\n",
            "black won\n",
            "game 995\n",
            "result black=45 white=19\n",
            "black won\n",
            "game 996\n",
            "result black=62 white=1\n",
            "black won\n",
            "game 997\n",
            "result black=53 white=11\n",
            "black won\n",
            "game 998\n",
            "result black=49 white=15\n",
            "black won\n",
            "game 999\n",
            "result black=50 white=14\n",
            "black won\n",
            "black:979 white:14 draw:7\n"
          ]
        }
      ],
      "source": [
        "main('greedy', 'random', model1='model.pt', games=1000, is_display=False)"
      ]
    },
    {
      "cell_type": "markdown",
      "metadata": {
        "id": "eIBQ5-MfLZIt"
      },
      "source": [
        "## 人間と対局"
      ]
    },
    {
      "cell_type": "code",
      "execution_count": null,
      "metadata": {
        "colab": {
          "base_uri": "https://localhost:8080/",
          "height": 1000
        },
        "id": "uwufAf65LO5-",
        "outputId": "c4839f9e-5c70-447f-c051-403387033f1c"
      },
      "outputs": [
        {
          "name": "stdout",
          "output_type": "stream",
          "text": [
            "game 0\n",
            "1: black\n"
          ]
        },
        {
          "data": {
            "image/svg+xml": "<svg height=\"215.0\" version=\"1.1\" viewBox=\"0 0 172 172\" width=\"215.0\" xmlns=\"http://www.w3.org/2000/svg\" xmlns:xlink=\"http://www.w3.org/1999/xlink\"><defs><g id=\"black\"><circle cx=\"10\" cy=\"10\" fill=\"black\" r=\"8.5\"/></g><g id=\"white\"><circle cx=\"10\" cy=\"10\" fill=\"white\" r=\"8.5\"/></g></defs><rect fill=\"green\" height=\"161\" width=\"161\" x=\"10\" y=\"10\"/><g stroke=\"black\"><rect fill=\"none\" height=\"161\" stroke-width=\"1.5\" width=\"161\" x=\"10\" y=\"10\"/><line stroke-width=\"1.0\" x1=\"10.5\" x2=\"170.5\" y1=\"30.5\" y2=\"30.5\"/><line stroke-width=\"1.0\" x1=\"10.5\" x2=\"170.5\" y1=\"50.5\" y2=\"50.5\"/><line stroke-width=\"1.0\" x1=\"10.5\" x2=\"170.5\" y1=\"70.5\" y2=\"70.5\"/><line stroke-width=\"1.0\" x1=\"10.5\" x2=\"170.5\" y1=\"90.5\" y2=\"90.5\"/><line stroke-width=\"1.0\" x1=\"10.5\" x2=\"170.5\" y1=\"110.5\" y2=\"110.5\"/><line stroke-width=\"1.0\" x1=\"10.5\" x2=\"170.5\" y1=\"130.5\" y2=\"130.5\"/><line stroke-width=\"1.0\" x1=\"10.5\" x2=\"170.5\" y1=\"150.5\" y2=\"150.5\"/><line stroke-width=\"1.0\" x1=\"30.5\" x2=\"30.5\" y1=\"10.5\" y2=\"170.5\"/><line stroke-width=\"1.0\" x1=\"50.5\" x2=\"50.5\" y1=\"10.5\" y2=\"170.5\"/><line stroke-width=\"1.0\" x1=\"70.5\" x2=\"70.5\" y1=\"10.5\" y2=\"170.5\"/><line stroke-width=\"1.0\" x1=\"90.5\" x2=\"90.5\" y1=\"10.5\" y2=\"170.5\"/><line stroke-width=\"1.0\" x1=\"110.5\" x2=\"110.5\" y1=\"10.5\" y2=\"170.5\"/><line stroke-width=\"1.0\" x1=\"130.5\" x2=\"130.5\" y1=\"10.5\" y2=\"170.5\"/><line stroke-width=\"1.0\" x1=\"150.5\" x2=\"150.5\" y1=\"10.5\" y2=\"170.5\"/></g><g><text font-family=\"serif\" font-size=\"9.5\" text-anchor=\"middle\" x=\"20.5\" y=\"8\">a</text><text font-family=\"serif\" font-size=\"9.5\" text-anchor=\"middle\" x=\"40.5\" y=\"8\">b</text><text font-family=\"serif\" font-size=\"9.5\" text-anchor=\"middle\" x=\"60.5\" y=\"8\">c</text><text font-family=\"serif\" font-size=\"9.5\" text-anchor=\"middle\" x=\"80.5\" y=\"8\">d</text><text font-family=\"serif\" font-size=\"9.5\" text-anchor=\"middle\" x=\"100.5\" y=\"8\">e</text><text font-family=\"serif\" font-size=\"9.5\" text-anchor=\"middle\" x=\"120.5\" y=\"8\">f</text><text font-family=\"serif\" font-size=\"9.5\" text-anchor=\"middle\" x=\"140.5\" y=\"8\">g</text><text font-family=\"serif\" font-size=\"9.5\" text-anchor=\"middle\" x=\"160.5\" y=\"8\">h</text><text font-family=\"serif\" font-size=\"9.5\" x=\"2.5\" y=\"23.5\">1</text><text font-family=\"serif\" font-size=\"9.5\" x=\"2.5\" y=\"43.5\">2</text><text font-family=\"serif\" font-size=\"9.5\" x=\"2.5\" y=\"63.5\">3</text><text font-family=\"serif\" font-size=\"9.5\" x=\"2.5\" y=\"83.5\">4</text><text font-family=\"serif\" font-size=\"9.5\" x=\"2.5\" y=\"103.5\">5</text><text font-family=\"serif\" font-size=\"9.5\" x=\"2.5\" y=\"123.5\">6</text><text font-family=\"serif\" font-size=\"9.5\" x=\"2.5\" y=\"143.5\">7</text><text font-family=\"serif\" font-size=\"9.5\" x=\"2.5\" y=\"163.5\">8</text></g><use x=\"70.5\" xlink:href=\"#white\" y=\"70.5\"/><use x=\"90.5\" xlink:href=\"#black\" y=\"70.5\"/><use x=\"70.5\" xlink:href=\"#black\" y=\"90.5\"/><use x=\"90.5\" xlink:href=\"#white\" y=\"90.5\"/></svg>",
            "text/plain": [
              "<IPython.core.display.SVG object>"
            ]
          },
          "metadata": {
            "tags": []
          },
          "output_type": "display_data"
        },
        {
          "name": "stdout",
          "output_type": "stream",
          "text": [
            "f5\n",
            "2: white\n"
          ]
        },
        {
          "data": {
            "image/svg+xml": "<svg height=\"215.0\" version=\"1.1\" viewBox=\"0 0 172 172\" width=\"215.0\" xmlns=\"http://www.w3.org/2000/svg\" xmlns:xlink=\"http://www.w3.org/1999/xlink\"><defs><g id=\"black\"><circle cx=\"10\" cy=\"10\" fill=\"black\" r=\"8.5\"/></g><g id=\"white\"><circle cx=\"10\" cy=\"10\" fill=\"white\" r=\"8.5\"/></g></defs><rect fill=\"green\" height=\"161\" width=\"161\" x=\"10\" y=\"10\"/><rect fill=\"#8bbf83\" height=\"20\" width=\"20\" x=\"110.5\" y=\"90.5\"/><g stroke=\"black\"><rect fill=\"none\" height=\"161\" stroke-width=\"1.5\" width=\"161\" x=\"10\" y=\"10\"/><line stroke-width=\"1.0\" x1=\"10.5\" x2=\"170.5\" y1=\"30.5\" y2=\"30.5\"/><line stroke-width=\"1.0\" x1=\"10.5\" x2=\"170.5\" y1=\"50.5\" y2=\"50.5\"/><line stroke-width=\"1.0\" x1=\"10.5\" x2=\"170.5\" y1=\"70.5\" y2=\"70.5\"/><line stroke-width=\"1.0\" x1=\"10.5\" x2=\"170.5\" y1=\"90.5\" y2=\"90.5\"/><line stroke-width=\"1.0\" x1=\"10.5\" x2=\"170.5\" y1=\"110.5\" y2=\"110.5\"/><line stroke-width=\"1.0\" x1=\"10.5\" x2=\"170.5\" y1=\"130.5\" y2=\"130.5\"/><line stroke-width=\"1.0\" x1=\"10.5\" x2=\"170.5\" y1=\"150.5\" y2=\"150.5\"/><line stroke-width=\"1.0\" x1=\"30.5\" x2=\"30.5\" y1=\"10.5\" y2=\"170.5\"/><line stroke-width=\"1.0\" x1=\"50.5\" x2=\"50.5\" y1=\"10.5\" y2=\"170.5\"/><line stroke-width=\"1.0\" x1=\"70.5\" x2=\"70.5\" y1=\"10.5\" y2=\"170.5\"/><line stroke-width=\"1.0\" x1=\"90.5\" x2=\"90.5\" y1=\"10.5\" y2=\"170.5\"/><line stroke-width=\"1.0\" x1=\"110.5\" x2=\"110.5\" y1=\"10.5\" y2=\"170.5\"/><line stroke-width=\"1.0\" x1=\"130.5\" x2=\"130.5\" y1=\"10.5\" y2=\"170.5\"/><line stroke-width=\"1.0\" x1=\"150.5\" x2=\"150.5\" y1=\"10.5\" y2=\"170.5\"/></g><g><text font-family=\"serif\" font-size=\"9.5\" text-anchor=\"middle\" x=\"20.5\" y=\"8\">a</text><text font-family=\"serif\" font-size=\"9.5\" text-anchor=\"middle\" x=\"40.5\" y=\"8\">b</text><text font-family=\"serif\" font-size=\"9.5\" text-anchor=\"middle\" x=\"60.5\" y=\"8\">c</text><text font-family=\"serif\" font-size=\"9.5\" text-anchor=\"middle\" x=\"80.5\" y=\"8\">d</text><text font-family=\"serif\" font-size=\"9.5\" text-anchor=\"middle\" x=\"100.5\" y=\"8\">e</text><text font-family=\"serif\" font-size=\"9.5\" text-anchor=\"middle\" x=\"120.5\" y=\"8\">f</text><text font-family=\"serif\" font-size=\"9.5\" text-anchor=\"middle\" x=\"140.5\" y=\"8\">g</text><text font-family=\"serif\" font-size=\"9.5\" text-anchor=\"middle\" x=\"160.5\" y=\"8\">h</text><text font-family=\"serif\" font-size=\"9.5\" x=\"2.5\" y=\"23.5\">1</text><text font-family=\"serif\" font-size=\"9.5\" x=\"2.5\" y=\"43.5\">2</text><text font-family=\"serif\" font-size=\"9.5\" x=\"2.5\" y=\"63.5\">3</text><text font-family=\"serif\" font-size=\"9.5\" x=\"2.5\" y=\"83.5\">4</text><text font-family=\"serif\" font-size=\"9.5\" x=\"2.5\" y=\"103.5\">5</text><text font-family=\"serif\" font-size=\"9.5\" x=\"2.5\" y=\"123.5\">6</text><text font-family=\"serif\" font-size=\"9.5\" x=\"2.5\" y=\"143.5\">7</text><text font-family=\"serif\" font-size=\"9.5\" x=\"2.5\" y=\"163.5\">8</text></g><use x=\"70.5\" xlink:href=\"#white\" y=\"70.5\"/><use x=\"90.5\" xlink:href=\"#black\" y=\"70.5\"/><use x=\"70.5\" xlink:href=\"#black\" y=\"90.5\"/><use x=\"90.5\" xlink:href=\"#black\" y=\"90.5\"/><use x=\"110.5\" xlink:href=\"#black\" y=\"90.5\"/></svg>",
            "text/plain": [
              "<IPython.core.display.SVG object>"
            ]
          },
          "metadata": {
            "tags": []
          },
          "output_type": "display_data"
        },
        {
          "name": "stdout",
          "output_type": "stream",
          "text": [
            "f4\n",
            "f4\n",
            "3: black\n"
          ]
        },
        {
          "data": {
            "image/svg+xml": "<svg height=\"215.0\" version=\"1.1\" viewBox=\"0 0 172 172\" width=\"215.0\" xmlns=\"http://www.w3.org/2000/svg\" xmlns:xlink=\"http://www.w3.org/1999/xlink\"><defs><g id=\"black\"><circle cx=\"10\" cy=\"10\" fill=\"black\" r=\"8.5\"/></g><g id=\"white\"><circle cx=\"10\" cy=\"10\" fill=\"white\" r=\"8.5\"/></g></defs><rect fill=\"green\" height=\"161\" width=\"161\" x=\"10\" y=\"10\"/><rect fill=\"#8bbf83\" height=\"20\" width=\"20\" x=\"110.5\" y=\"70.5\"/><g stroke=\"black\"><rect fill=\"none\" height=\"161\" stroke-width=\"1.5\" width=\"161\" x=\"10\" y=\"10\"/><line stroke-width=\"1.0\" x1=\"10.5\" x2=\"170.5\" y1=\"30.5\" y2=\"30.5\"/><line stroke-width=\"1.0\" x1=\"10.5\" x2=\"170.5\" y1=\"50.5\" y2=\"50.5\"/><line stroke-width=\"1.0\" x1=\"10.5\" x2=\"170.5\" y1=\"70.5\" y2=\"70.5\"/><line stroke-width=\"1.0\" x1=\"10.5\" x2=\"170.5\" y1=\"90.5\" y2=\"90.5\"/><line stroke-width=\"1.0\" x1=\"10.5\" x2=\"170.5\" y1=\"110.5\" y2=\"110.5\"/><line stroke-width=\"1.0\" x1=\"10.5\" x2=\"170.5\" y1=\"130.5\" y2=\"130.5\"/><line stroke-width=\"1.0\" x1=\"10.5\" x2=\"170.5\" y1=\"150.5\" y2=\"150.5\"/><line stroke-width=\"1.0\" x1=\"30.5\" x2=\"30.5\" y1=\"10.5\" y2=\"170.5\"/><line stroke-width=\"1.0\" x1=\"50.5\" x2=\"50.5\" y1=\"10.5\" y2=\"170.5\"/><line stroke-width=\"1.0\" x1=\"70.5\" x2=\"70.5\" y1=\"10.5\" y2=\"170.5\"/><line stroke-width=\"1.0\" x1=\"90.5\" x2=\"90.5\" y1=\"10.5\" y2=\"170.5\"/><line stroke-width=\"1.0\" x1=\"110.5\" x2=\"110.5\" y1=\"10.5\" y2=\"170.5\"/><line stroke-width=\"1.0\" x1=\"130.5\" x2=\"130.5\" y1=\"10.5\" y2=\"170.5\"/><line stroke-width=\"1.0\" x1=\"150.5\" x2=\"150.5\" y1=\"10.5\" y2=\"170.5\"/></g><g><text font-family=\"serif\" font-size=\"9.5\" text-anchor=\"middle\" x=\"20.5\" y=\"8\">a</text><text font-family=\"serif\" font-size=\"9.5\" text-anchor=\"middle\" x=\"40.5\" y=\"8\">b</text><text font-family=\"serif\" font-size=\"9.5\" text-anchor=\"middle\" x=\"60.5\" y=\"8\">c</text><text font-family=\"serif\" font-size=\"9.5\" text-anchor=\"middle\" x=\"80.5\" y=\"8\">d</text><text font-family=\"serif\" font-size=\"9.5\" text-anchor=\"middle\" x=\"100.5\" y=\"8\">e</text><text font-family=\"serif\" font-size=\"9.5\" text-anchor=\"middle\" x=\"120.5\" y=\"8\">f</text><text font-family=\"serif\" font-size=\"9.5\" text-anchor=\"middle\" x=\"140.5\" y=\"8\">g</text><text font-family=\"serif\" font-size=\"9.5\" text-anchor=\"middle\" x=\"160.5\" y=\"8\">h</text><text font-family=\"serif\" font-size=\"9.5\" x=\"2.5\" y=\"23.5\">1</text><text font-family=\"serif\" font-size=\"9.5\" x=\"2.5\" y=\"43.5\">2</text><text font-family=\"serif\" font-size=\"9.5\" x=\"2.5\" y=\"63.5\">3</text><text font-family=\"serif\" font-size=\"9.5\" x=\"2.5\" y=\"83.5\">4</text><text font-family=\"serif\" font-size=\"9.5\" x=\"2.5\" y=\"103.5\">5</text><text font-family=\"serif\" font-size=\"9.5\" x=\"2.5\" y=\"123.5\">6</text><text font-family=\"serif\" font-size=\"9.5\" x=\"2.5\" y=\"143.5\">7</text><text font-family=\"serif\" font-size=\"9.5\" x=\"2.5\" y=\"163.5\">8</text></g><use x=\"70.5\" xlink:href=\"#white\" y=\"70.5\"/><use x=\"90.5\" xlink:href=\"#white\" y=\"70.5\"/><use x=\"110.5\" xlink:href=\"#white\" y=\"70.5\"/><use x=\"70.5\" xlink:href=\"#black\" y=\"90.5\"/><use x=\"90.5\" xlink:href=\"#black\" y=\"90.5\"/><use x=\"110.5\" xlink:href=\"#black\" y=\"90.5\"/></svg>",
            "text/plain": [
              "<IPython.core.display.SVG object>"
            ]
          },
          "metadata": {
            "tags": []
          },
          "output_type": "display_data"
        },
        {
          "name": "stdout",
          "output_type": "stream",
          "text": [
            "c3\n",
            "4: white\n"
          ]
        },
        {
          "data": {
            "image/svg+xml": "<svg height=\"215.0\" version=\"1.1\" viewBox=\"0 0 172 172\" width=\"215.0\" xmlns=\"http://www.w3.org/2000/svg\" xmlns:xlink=\"http://www.w3.org/1999/xlink\"><defs><g id=\"black\"><circle cx=\"10\" cy=\"10\" fill=\"black\" r=\"8.5\"/></g><g id=\"white\"><circle cx=\"10\" cy=\"10\" fill=\"white\" r=\"8.5\"/></g></defs><rect fill=\"green\" height=\"161\" width=\"161\" x=\"10\" y=\"10\"/><rect fill=\"#8bbf83\" height=\"20\" width=\"20\" x=\"50.5\" y=\"50.5\"/><g stroke=\"black\"><rect fill=\"none\" height=\"161\" stroke-width=\"1.5\" width=\"161\" x=\"10\" y=\"10\"/><line stroke-width=\"1.0\" x1=\"10.5\" x2=\"170.5\" y1=\"30.5\" y2=\"30.5\"/><line stroke-width=\"1.0\" x1=\"10.5\" x2=\"170.5\" y1=\"50.5\" y2=\"50.5\"/><line stroke-width=\"1.0\" x1=\"10.5\" x2=\"170.5\" y1=\"70.5\" y2=\"70.5\"/><line stroke-width=\"1.0\" x1=\"10.5\" x2=\"170.5\" y1=\"90.5\" y2=\"90.5\"/><line stroke-width=\"1.0\" x1=\"10.5\" x2=\"170.5\" y1=\"110.5\" y2=\"110.5\"/><line stroke-width=\"1.0\" x1=\"10.5\" x2=\"170.5\" y1=\"130.5\" y2=\"130.5\"/><line stroke-width=\"1.0\" x1=\"10.5\" x2=\"170.5\" y1=\"150.5\" y2=\"150.5\"/><line stroke-width=\"1.0\" x1=\"30.5\" x2=\"30.5\" y1=\"10.5\" y2=\"170.5\"/><line stroke-width=\"1.0\" x1=\"50.5\" x2=\"50.5\" y1=\"10.5\" y2=\"170.5\"/><line stroke-width=\"1.0\" x1=\"70.5\" x2=\"70.5\" y1=\"10.5\" y2=\"170.5\"/><line stroke-width=\"1.0\" x1=\"90.5\" x2=\"90.5\" y1=\"10.5\" y2=\"170.5\"/><line stroke-width=\"1.0\" x1=\"110.5\" x2=\"110.5\" y1=\"10.5\" y2=\"170.5\"/><line stroke-width=\"1.0\" x1=\"130.5\" x2=\"130.5\" y1=\"10.5\" y2=\"170.5\"/><line stroke-width=\"1.0\" x1=\"150.5\" x2=\"150.5\" y1=\"10.5\" y2=\"170.5\"/></g><g><text font-family=\"serif\" font-size=\"9.5\" text-anchor=\"middle\" x=\"20.5\" y=\"8\">a</text><text font-family=\"serif\" font-size=\"9.5\" text-anchor=\"middle\" x=\"40.5\" y=\"8\">b</text><text font-family=\"serif\" font-size=\"9.5\" text-anchor=\"middle\" x=\"60.5\" y=\"8\">c</text><text font-family=\"serif\" font-size=\"9.5\" text-anchor=\"middle\" x=\"80.5\" y=\"8\">d</text><text font-family=\"serif\" font-size=\"9.5\" text-anchor=\"middle\" x=\"100.5\" y=\"8\">e</text><text font-family=\"serif\" font-size=\"9.5\" text-anchor=\"middle\" x=\"120.5\" y=\"8\">f</text><text font-family=\"serif\" font-size=\"9.5\" text-anchor=\"middle\" x=\"140.5\" y=\"8\">g</text><text font-family=\"serif\" font-size=\"9.5\" text-anchor=\"middle\" x=\"160.5\" y=\"8\">h</text><text font-family=\"serif\" font-size=\"9.5\" x=\"2.5\" y=\"23.5\">1</text><text font-family=\"serif\" font-size=\"9.5\" x=\"2.5\" y=\"43.5\">2</text><text font-family=\"serif\" font-size=\"9.5\" x=\"2.5\" y=\"63.5\">3</text><text font-family=\"serif\" font-size=\"9.5\" x=\"2.5\" y=\"83.5\">4</text><text font-family=\"serif\" font-size=\"9.5\" x=\"2.5\" y=\"103.5\">5</text><text font-family=\"serif\" font-size=\"9.5\" x=\"2.5\" y=\"123.5\">6</text><text font-family=\"serif\" font-size=\"9.5\" x=\"2.5\" y=\"143.5\">7</text><text font-family=\"serif\" font-size=\"9.5\" x=\"2.5\" y=\"163.5\">8</text></g><use x=\"50.5\" xlink:href=\"#black\" y=\"50.5\"/><use x=\"70.5\" xlink:href=\"#black\" y=\"70.5\"/><use x=\"90.5\" xlink:href=\"#white\" y=\"70.5\"/><use x=\"110.5\" xlink:href=\"#white\" y=\"70.5\"/><use x=\"70.5\" xlink:href=\"#black\" y=\"90.5\"/><use x=\"90.5\" xlink:href=\"#black\" y=\"90.5\"/><use x=\"110.5\" xlink:href=\"#black\" y=\"90.5\"/></svg>",
            "text/plain": [
              "<IPython.core.display.SVG object>"
            ]
          },
          "metadata": {
            "tags": []
          },
          "output_type": "display_data"
        },
        {
          "name": "stdout",
          "output_type": "stream",
          "text": [
            "f6\n",
            "f6\n",
            "5: black\n"
          ]
        },
        {
          "data": {
            "image/svg+xml": "<svg height=\"215.0\" version=\"1.1\" viewBox=\"0 0 172 172\" width=\"215.0\" xmlns=\"http://www.w3.org/2000/svg\" xmlns:xlink=\"http://www.w3.org/1999/xlink\"><defs><g id=\"black\"><circle cx=\"10\" cy=\"10\" fill=\"black\" r=\"8.5\"/></g><g id=\"white\"><circle cx=\"10\" cy=\"10\" fill=\"white\" r=\"8.5\"/></g></defs><rect fill=\"green\" height=\"161\" width=\"161\" x=\"10\" y=\"10\"/><rect fill=\"#8bbf83\" height=\"20\" width=\"20\" x=\"110.5\" y=\"110.5\"/><g stroke=\"black\"><rect fill=\"none\" height=\"161\" stroke-width=\"1.5\" width=\"161\" x=\"10\" y=\"10\"/><line stroke-width=\"1.0\" x1=\"10.5\" x2=\"170.5\" y1=\"30.5\" y2=\"30.5\"/><line stroke-width=\"1.0\" x1=\"10.5\" x2=\"170.5\" y1=\"50.5\" y2=\"50.5\"/><line stroke-width=\"1.0\" x1=\"10.5\" x2=\"170.5\" y1=\"70.5\" y2=\"70.5\"/><line stroke-width=\"1.0\" x1=\"10.5\" x2=\"170.5\" y1=\"90.5\" y2=\"90.5\"/><line stroke-width=\"1.0\" x1=\"10.5\" x2=\"170.5\" y1=\"110.5\" y2=\"110.5\"/><line stroke-width=\"1.0\" x1=\"10.5\" x2=\"170.5\" y1=\"130.5\" y2=\"130.5\"/><line stroke-width=\"1.0\" x1=\"10.5\" x2=\"170.5\" y1=\"150.5\" y2=\"150.5\"/><line stroke-width=\"1.0\" x1=\"30.5\" x2=\"30.5\" y1=\"10.5\" y2=\"170.5\"/><line stroke-width=\"1.0\" x1=\"50.5\" x2=\"50.5\" y1=\"10.5\" y2=\"170.5\"/><line stroke-width=\"1.0\" x1=\"70.5\" x2=\"70.5\" y1=\"10.5\" y2=\"170.5\"/><line stroke-width=\"1.0\" x1=\"90.5\" x2=\"90.5\" y1=\"10.5\" y2=\"170.5\"/><line stroke-width=\"1.0\" x1=\"110.5\" x2=\"110.5\" y1=\"10.5\" y2=\"170.5\"/><line stroke-width=\"1.0\" x1=\"130.5\" x2=\"130.5\" y1=\"10.5\" y2=\"170.5\"/><line stroke-width=\"1.0\" x1=\"150.5\" x2=\"150.5\" y1=\"10.5\" y2=\"170.5\"/></g><g><text font-family=\"serif\" font-size=\"9.5\" text-anchor=\"middle\" x=\"20.5\" y=\"8\">a</text><text font-family=\"serif\" font-size=\"9.5\" text-anchor=\"middle\" x=\"40.5\" y=\"8\">b</text><text font-family=\"serif\" font-size=\"9.5\" text-anchor=\"middle\" x=\"60.5\" y=\"8\">c</text><text font-family=\"serif\" font-size=\"9.5\" text-anchor=\"middle\" x=\"80.5\" y=\"8\">d</text><text font-family=\"serif\" font-size=\"9.5\" text-anchor=\"middle\" x=\"100.5\" y=\"8\">e</text><text font-family=\"serif\" font-size=\"9.5\" text-anchor=\"middle\" x=\"120.5\" y=\"8\">f</text><text font-family=\"serif\" font-size=\"9.5\" text-anchor=\"middle\" x=\"140.5\" y=\"8\">g</text><text font-family=\"serif\" font-size=\"9.5\" text-anchor=\"middle\" x=\"160.5\" y=\"8\">h</text><text font-family=\"serif\" font-size=\"9.5\" x=\"2.5\" y=\"23.5\">1</text><text font-family=\"serif\" font-size=\"9.5\" x=\"2.5\" y=\"43.5\">2</text><text font-family=\"serif\" font-size=\"9.5\" x=\"2.5\" y=\"63.5\">3</text><text font-family=\"serif\" font-size=\"9.5\" x=\"2.5\" y=\"83.5\">4</text><text font-family=\"serif\" font-size=\"9.5\" x=\"2.5\" y=\"103.5\">5</text><text font-family=\"serif\" font-size=\"9.5\" x=\"2.5\" y=\"123.5\">6</text><text font-family=\"serif\" font-size=\"9.5\" x=\"2.5\" y=\"143.5\">7</text><text font-family=\"serif\" font-size=\"9.5\" x=\"2.5\" y=\"163.5\">8</text></g><use x=\"50.5\" xlink:href=\"#black\" y=\"50.5\"/><use x=\"70.5\" xlink:href=\"#black\" y=\"70.5\"/><use x=\"90.5\" xlink:href=\"#white\" y=\"70.5\"/><use x=\"110.5\" xlink:href=\"#white\" y=\"70.5\"/><use x=\"70.5\" xlink:href=\"#black\" y=\"90.5\"/><use x=\"90.5\" xlink:href=\"#black\" y=\"90.5\"/><use x=\"110.5\" xlink:href=\"#white\" y=\"90.5\"/><use x=\"110.5\" xlink:href=\"#white\" y=\"110.5\"/></svg>",
            "text/plain": [
              "<IPython.core.display.SVG object>"
            ]
          },
          "metadata": {
            "tags": []
          },
          "output_type": "display_data"
        },
        {
          "name": "stdout",
          "output_type": "stream",
          "text": [
            "g5\n",
            "6: white\n"
          ]
        },
        {
          "data": {
            "image/svg+xml": "<svg height=\"215.0\" version=\"1.1\" viewBox=\"0 0 172 172\" width=\"215.0\" xmlns=\"http://www.w3.org/2000/svg\" xmlns:xlink=\"http://www.w3.org/1999/xlink\"><defs><g id=\"black\"><circle cx=\"10\" cy=\"10\" fill=\"black\" r=\"8.5\"/></g><g id=\"white\"><circle cx=\"10\" cy=\"10\" fill=\"white\" r=\"8.5\"/></g></defs><rect fill=\"green\" height=\"161\" width=\"161\" x=\"10\" y=\"10\"/><rect fill=\"#8bbf83\" height=\"20\" width=\"20\" x=\"130.5\" y=\"90.5\"/><g stroke=\"black\"><rect fill=\"none\" height=\"161\" stroke-width=\"1.5\" width=\"161\" x=\"10\" y=\"10\"/><line stroke-width=\"1.0\" x1=\"10.5\" x2=\"170.5\" y1=\"30.5\" y2=\"30.5\"/><line stroke-width=\"1.0\" x1=\"10.5\" x2=\"170.5\" y1=\"50.5\" y2=\"50.5\"/><line stroke-width=\"1.0\" x1=\"10.5\" x2=\"170.5\" y1=\"70.5\" y2=\"70.5\"/><line stroke-width=\"1.0\" x1=\"10.5\" x2=\"170.5\" y1=\"90.5\" y2=\"90.5\"/><line stroke-width=\"1.0\" x1=\"10.5\" x2=\"170.5\" y1=\"110.5\" y2=\"110.5\"/><line stroke-width=\"1.0\" x1=\"10.5\" x2=\"170.5\" y1=\"130.5\" y2=\"130.5\"/><line stroke-width=\"1.0\" x1=\"10.5\" x2=\"170.5\" y1=\"150.5\" y2=\"150.5\"/><line stroke-width=\"1.0\" x1=\"30.5\" x2=\"30.5\" y1=\"10.5\" y2=\"170.5\"/><line stroke-width=\"1.0\" x1=\"50.5\" x2=\"50.5\" y1=\"10.5\" y2=\"170.5\"/><line stroke-width=\"1.0\" x1=\"70.5\" x2=\"70.5\" y1=\"10.5\" y2=\"170.5\"/><line stroke-width=\"1.0\" x1=\"90.5\" x2=\"90.5\" y1=\"10.5\" y2=\"170.5\"/><line stroke-width=\"1.0\" x1=\"110.5\" x2=\"110.5\" y1=\"10.5\" y2=\"170.5\"/><line stroke-width=\"1.0\" x1=\"130.5\" x2=\"130.5\" y1=\"10.5\" y2=\"170.5\"/><line stroke-width=\"1.0\" x1=\"150.5\" x2=\"150.5\" y1=\"10.5\" y2=\"170.5\"/></g><g><text font-family=\"serif\" font-size=\"9.5\" text-anchor=\"middle\" x=\"20.5\" y=\"8\">a</text><text font-family=\"serif\" font-size=\"9.5\" text-anchor=\"middle\" x=\"40.5\" y=\"8\">b</text><text font-family=\"serif\" font-size=\"9.5\" text-anchor=\"middle\" x=\"60.5\" y=\"8\">c</text><text font-family=\"serif\" font-size=\"9.5\" text-anchor=\"middle\" x=\"80.5\" y=\"8\">d</text><text font-family=\"serif\" font-size=\"9.5\" text-anchor=\"middle\" x=\"100.5\" y=\"8\">e</text><text font-family=\"serif\" font-size=\"9.5\" text-anchor=\"middle\" x=\"120.5\" y=\"8\">f</text><text font-family=\"serif\" font-size=\"9.5\" text-anchor=\"middle\" x=\"140.5\" y=\"8\">g</text><text font-family=\"serif\" font-size=\"9.5\" text-anchor=\"middle\" x=\"160.5\" y=\"8\">h</text><text font-family=\"serif\" font-size=\"9.5\" x=\"2.5\" y=\"23.5\">1</text><text font-family=\"serif\" font-size=\"9.5\" x=\"2.5\" y=\"43.5\">2</text><text font-family=\"serif\" font-size=\"9.5\" x=\"2.5\" y=\"63.5\">3</text><text font-family=\"serif\" font-size=\"9.5\" x=\"2.5\" y=\"83.5\">4</text><text font-family=\"serif\" font-size=\"9.5\" x=\"2.5\" y=\"103.5\">5</text><text font-family=\"serif\" font-size=\"9.5\" x=\"2.5\" y=\"123.5\">6</text><text font-family=\"serif\" font-size=\"9.5\" x=\"2.5\" y=\"143.5\">7</text><text font-family=\"serif\" font-size=\"9.5\" x=\"2.5\" y=\"163.5\">8</text></g><use x=\"50.5\" xlink:href=\"#black\" y=\"50.5\"/><use x=\"70.5\" xlink:href=\"#black\" y=\"70.5\"/><use x=\"90.5\" xlink:href=\"#white\" y=\"70.5\"/><use x=\"110.5\" xlink:href=\"#white\" y=\"70.5\"/><use x=\"70.5\" xlink:href=\"#black\" y=\"90.5\"/><use x=\"90.5\" xlink:href=\"#black\" y=\"90.5\"/><use x=\"110.5\" xlink:href=\"#black\" y=\"90.5\"/><use x=\"130.5\" xlink:href=\"#black\" y=\"90.5\"/><use x=\"110.5\" xlink:href=\"#white\" y=\"110.5\"/></svg>",
            "text/plain": [
              "<IPython.core.display.SVG object>"
            ]
          },
          "metadata": {
            "tags": []
          },
          "output_type": "display_data"
        },
        {
          "name": "stdout",
          "output_type": "stream",
          "text": [
            "c6\n",
            "c6\n",
            "7: black\n"
          ]
        },
        {
          "data": {
            "image/svg+xml": "<svg height=\"215.0\" version=\"1.1\" viewBox=\"0 0 172 172\" width=\"215.0\" xmlns=\"http://www.w3.org/2000/svg\" xmlns:xlink=\"http://www.w3.org/1999/xlink\"><defs><g id=\"black\"><circle cx=\"10\" cy=\"10\" fill=\"black\" r=\"8.5\"/></g><g id=\"white\"><circle cx=\"10\" cy=\"10\" fill=\"white\" r=\"8.5\"/></g></defs><rect fill=\"green\" height=\"161\" width=\"161\" x=\"10\" y=\"10\"/><rect fill=\"#8bbf83\" height=\"20\" width=\"20\" x=\"50.5\" y=\"110.5\"/><g stroke=\"black\"><rect fill=\"none\" height=\"161\" stroke-width=\"1.5\" width=\"161\" x=\"10\" y=\"10\"/><line stroke-width=\"1.0\" x1=\"10.5\" x2=\"170.5\" y1=\"30.5\" y2=\"30.5\"/><line stroke-width=\"1.0\" x1=\"10.5\" x2=\"170.5\" y1=\"50.5\" y2=\"50.5\"/><line stroke-width=\"1.0\" x1=\"10.5\" x2=\"170.5\" y1=\"70.5\" y2=\"70.5\"/><line stroke-width=\"1.0\" x1=\"10.5\" x2=\"170.5\" y1=\"90.5\" y2=\"90.5\"/><line stroke-width=\"1.0\" x1=\"10.5\" x2=\"170.5\" y1=\"110.5\" y2=\"110.5\"/><line stroke-width=\"1.0\" x1=\"10.5\" x2=\"170.5\" y1=\"130.5\" y2=\"130.5\"/><line stroke-width=\"1.0\" x1=\"10.5\" x2=\"170.5\" y1=\"150.5\" y2=\"150.5\"/><line stroke-width=\"1.0\" x1=\"30.5\" x2=\"30.5\" y1=\"10.5\" y2=\"170.5\"/><line stroke-width=\"1.0\" x1=\"50.5\" x2=\"50.5\" y1=\"10.5\" y2=\"170.5\"/><line stroke-width=\"1.0\" x1=\"70.5\" x2=\"70.5\" y1=\"10.5\" y2=\"170.5\"/><line stroke-width=\"1.0\" x1=\"90.5\" x2=\"90.5\" y1=\"10.5\" y2=\"170.5\"/><line stroke-width=\"1.0\" x1=\"110.5\" x2=\"110.5\" y1=\"10.5\" y2=\"170.5\"/><line stroke-width=\"1.0\" x1=\"130.5\" x2=\"130.5\" y1=\"10.5\" y2=\"170.5\"/><line stroke-width=\"1.0\" x1=\"150.5\" x2=\"150.5\" y1=\"10.5\" y2=\"170.5\"/></g><g><text font-family=\"serif\" font-size=\"9.5\" text-anchor=\"middle\" x=\"20.5\" y=\"8\">a</text><text font-family=\"serif\" font-size=\"9.5\" text-anchor=\"middle\" x=\"40.5\" y=\"8\">b</text><text font-family=\"serif\" font-size=\"9.5\" text-anchor=\"middle\" x=\"60.5\" y=\"8\">c</text><text font-family=\"serif\" font-size=\"9.5\" text-anchor=\"middle\" x=\"80.5\" y=\"8\">d</text><text font-family=\"serif\" font-size=\"9.5\" text-anchor=\"middle\" x=\"100.5\" y=\"8\">e</text><text font-family=\"serif\" font-size=\"9.5\" text-anchor=\"middle\" x=\"120.5\" y=\"8\">f</text><text font-family=\"serif\" font-size=\"9.5\" text-anchor=\"middle\" x=\"140.5\" y=\"8\">g</text><text font-family=\"serif\" font-size=\"9.5\" text-anchor=\"middle\" x=\"160.5\" y=\"8\">h</text><text font-family=\"serif\" font-size=\"9.5\" x=\"2.5\" y=\"23.5\">1</text><text font-family=\"serif\" font-size=\"9.5\" x=\"2.5\" y=\"43.5\">2</text><text font-family=\"serif\" font-size=\"9.5\" x=\"2.5\" y=\"63.5\">3</text><text font-family=\"serif\" font-size=\"9.5\" x=\"2.5\" y=\"83.5\">4</text><text font-family=\"serif\" font-size=\"9.5\" x=\"2.5\" y=\"103.5\">5</text><text font-family=\"serif\" font-size=\"9.5\" x=\"2.5\" y=\"123.5\">6</text><text font-family=\"serif\" font-size=\"9.5\" x=\"2.5\" y=\"143.5\">7</text><text font-family=\"serif\" font-size=\"9.5\" x=\"2.5\" y=\"163.5\">8</text></g><use x=\"50.5\" xlink:href=\"#black\" y=\"50.5\"/><use x=\"70.5\" xlink:href=\"#black\" y=\"70.5\"/><use x=\"90.5\" xlink:href=\"#white\" y=\"70.5\"/><use x=\"110.5\" xlink:href=\"#white\" y=\"70.5\"/><use x=\"70.5\" xlink:href=\"#white\" y=\"90.5\"/><use x=\"90.5\" xlink:href=\"#black\" y=\"90.5\"/><use x=\"110.5\" xlink:href=\"#black\" y=\"90.5\"/><use x=\"130.5\" xlink:href=\"#black\" y=\"90.5\"/><use x=\"50.5\" xlink:href=\"#white\" y=\"110.5\"/><use x=\"110.5\" xlink:href=\"#white\" y=\"110.5\"/></svg>",
            "text/plain": [
              "<IPython.core.display.SVG object>"
            ]
          },
          "metadata": {
            "tags": []
          },
          "output_type": "display_data"
        },
        {
          "name": "stdout",
          "output_type": "stream",
          "text": [
            "e3\n",
            "8: white\n"
          ]
        },
        {
          "data": {
            "image/svg+xml": "<svg height=\"215.0\" version=\"1.1\" viewBox=\"0 0 172 172\" width=\"215.0\" xmlns=\"http://www.w3.org/2000/svg\" xmlns:xlink=\"http://www.w3.org/1999/xlink\"><defs><g id=\"black\"><circle cx=\"10\" cy=\"10\" fill=\"black\" r=\"8.5\"/></g><g id=\"white\"><circle cx=\"10\" cy=\"10\" fill=\"white\" r=\"8.5\"/></g></defs><rect fill=\"green\" height=\"161\" width=\"161\" x=\"10\" y=\"10\"/><rect fill=\"#8bbf83\" height=\"20\" width=\"20\" x=\"90.5\" y=\"50.5\"/><g stroke=\"black\"><rect fill=\"none\" height=\"161\" stroke-width=\"1.5\" width=\"161\" x=\"10\" y=\"10\"/><line stroke-width=\"1.0\" x1=\"10.5\" x2=\"170.5\" y1=\"30.5\" y2=\"30.5\"/><line stroke-width=\"1.0\" x1=\"10.5\" x2=\"170.5\" y1=\"50.5\" y2=\"50.5\"/><line stroke-width=\"1.0\" x1=\"10.5\" x2=\"170.5\" y1=\"70.5\" y2=\"70.5\"/><line stroke-width=\"1.0\" x1=\"10.5\" x2=\"170.5\" y1=\"90.5\" y2=\"90.5\"/><line stroke-width=\"1.0\" x1=\"10.5\" x2=\"170.5\" y1=\"110.5\" y2=\"110.5\"/><line stroke-width=\"1.0\" x1=\"10.5\" x2=\"170.5\" y1=\"130.5\" y2=\"130.5\"/><line stroke-width=\"1.0\" x1=\"10.5\" x2=\"170.5\" y1=\"150.5\" y2=\"150.5\"/><line stroke-width=\"1.0\" x1=\"30.5\" x2=\"30.5\" y1=\"10.5\" y2=\"170.5\"/><line stroke-width=\"1.0\" x1=\"50.5\" x2=\"50.5\" y1=\"10.5\" y2=\"170.5\"/><line stroke-width=\"1.0\" x1=\"70.5\" x2=\"70.5\" y1=\"10.5\" y2=\"170.5\"/><line stroke-width=\"1.0\" x1=\"90.5\" x2=\"90.5\" y1=\"10.5\" y2=\"170.5\"/><line stroke-width=\"1.0\" x1=\"110.5\" x2=\"110.5\" y1=\"10.5\" y2=\"170.5\"/><line stroke-width=\"1.0\" x1=\"130.5\" x2=\"130.5\" y1=\"10.5\" y2=\"170.5\"/><line stroke-width=\"1.0\" x1=\"150.5\" x2=\"150.5\" y1=\"10.5\" y2=\"170.5\"/></g><g><text font-family=\"serif\" font-size=\"9.5\" text-anchor=\"middle\" x=\"20.5\" y=\"8\">a</text><text font-family=\"serif\" font-size=\"9.5\" text-anchor=\"middle\" x=\"40.5\" y=\"8\">b</text><text font-family=\"serif\" font-size=\"9.5\" text-anchor=\"middle\" x=\"60.5\" y=\"8\">c</text><text font-family=\"serif\" font-size=\"9.5\" text-anchor=\"middle\" x=\"80.5\" y=\"8\">d</text><text font-family=\"serif\" font-size=\"9.5\" text-anchor=\"middle\" x=\"100.5\" y=\"8\">e</text><text font-family=\"serif\" font-size=\"9.5\" text-anchor=\"middle\" x=\"120.5\" y=\"8\">f</text><text font-family=\"serif\" font-size=\"9.5\" text-anchor=\"middle\" x=\"140.5\" y=\"8\">g</text><text font-family=\"serif\" font-size=\"9.5\" text-anchor=\"middle\" x=\"160.5\" y=\"8\">h</text><text font-family=\"serif\" font-size=\"9.5\" x=\"2.5\" y=\"23.5\">1</text><text font-family=\"serif\" font-size=\"9.5\" x=\"2.5\" y=\"43.5\">2</text><text font-family=\"serif\" font-size=\"9.5\" x=\"2.5\" y=\"63.5\">3</text><text font-family=\"serif\" font-size=\"9.5\" x=\"2.5\" y=\"83.5\">4</text><text font-family=\"serif\" font-size=\"9.5\" x=\"2.5\" y=\"103.5\">5</text><text font-family=\"serif\" font-size=\"9.5\" x=\"2.5\" y=\"123.5\">6</text><text font-family=\"serif\" font-size=\"9.5\" x=\"2.5\" y=\"143.5\">7</text><text font-family=\"serif\" font-size=\"9.5\" x=\"2.5\" y=\"163.5\">8</text></g><use x=\"50.5\" xlink:href=\"#black\" y=\"50.5\"/><use x=\"90.5\" xlink:href=\"#black\" y=\"50.5\"/><use x=\"70.5\" xlink:href=\"#black\" y=\"70.5\"/><use x=\"90.5\" xlink:href=\"#black\" y=\"70.5\"/><use x=\"110.5\" xlink:href=\"#black\" y=\"70.5\"/><use x=\"70.5\" xlink:href=\"#white\" y=\"90.5\"/><use x=\"90.5\" xlink:href=\"#black\" y=\"90.5\"/><use x=\"110.5\" xlink:href=\"#black\" y=\"90.5\"/><use x=\"130.5\" xlink:href=\"#black\" y=\"90.5\"/><use x=\"50.5\" xlink:href=\"#white\" y=\"110.5\"/><use x=\"110.5\" xlink:href=\"#white\" y=\"110.5\"/></svg>",
            "text/plain": [
              "<IPython.core.display.SVG object>"
            ]
          },
          "metadata": {
            "tags": []
          },
          "output_type": "display_data"
        },
        {
          "name": "stdout",
          "output_type": "stream",
          "text": [
            "d3\n",
            "d3\n",
            "9: black\n"
          ]
        },
        {
          "data": {
            "image/svg+xml": "<svg height=\"215.0\" version=\"1.1\" viewBox=\"0 0 172 172\" width=\"215.0\" xmlns=\"http://www.w3.org/2000/svg\" xmlns:xlink=\"http://www.w3.org/1999/xlink\"><defs><g id=\"black\"><circle cx=\"10\" cy=\"10\" fill=\"black\" r=\"8.5\"/></g><g id=\"white\"><circle cx=\"10\" cy=\"10\" fill=\"white\" r=\"8.5\"/></g></defs><rect fill=\"green\" height=\"161\" width=\"161\" x=\"10\" y=\"10\"/><rect fill=\"#8bbf83\" height=\"20\" width=\"20\" x=\"70.5\" y=\"50.5\"/><g stroke=\"black\"><rect fill=\"none\" height=\"161\" stroke-width=\"1.5\" width=\"161\" x=\"10\" y=\"10\"/><line stroke-width=\"1.0\" x1=\"10.5\" x2=\"170.5\" y1=\"30.5\" y2=\"30.5\"/><line stroke-width=\"1.0\" x1=\"10.5\" x2=\"170.5\" y1=\"50.5\" y2=\"50.5\"/><line stroke-width=\"1.0\" x1=\"10.5\" x2=\"170.5\" y1=\"70.5\" y2=\"70.5\"/><line stroke-width=\"1.0\" x1=\"10.5\" x2=\"170.5\" y1=\"90.5\" y2=\"90.5\"/><line stroke-width=\"1.0\" x1=\"10.5\" x2=\"170.5\" y1=\"110.5\" y2=\"110.5\"/><line stroke-width=\"1.0\" x1=\"10.5\" x2=\"170.5\" y1=\"130.5\" y2=\"130.5\"/><line stroke-width=\"1.0\" x1=\"10.5\" x2=\"170.5\" y1=\"150.5\" y2=\"150.5\"/><line stroke-width=\"1.0\" x1=\"30.5\" x2=\"30.5\" y1=\"10.5\" y2=\"170.5\"/><line stroke-width=\"1.0\" x1=\"50.5\" x2=\"50.5\" y1=\"10.5\" y2=\"170.5\"/><line stroke-width=\"1.0\" x1=\"70.5\" x2=\"70.5\" y1=\"10.5\" y2=\"170.5\"/><line stroke-width=\"1.0\" x1=\"90.5\" x2=\"90.5\" y1=\"10.5\" y2=\"170.5\"/><line stroke-width=\"1.0\" x1=\"110.5\" x2=\"110.5\" y1=\"10.5\" y2=\"170.5\"/><line stroke-width=\"1.0\" x1=\"130.5\" x2=\"130.5\" y1=\"10.5\" y2=\"170.5\"/><line stroke-width=\"1.0\" x1=\"150.5\" x2=\"150.5\" y1=\"10.5\" y2=\"170.5\"/></g><g><text font-family=\"serif\" font-size=\"9.5\" text-anchor=\"middle\" x=\"20.5\" y=\"8\">a</text><text font-family=\"serif\" font-size=\"9.5\" text-anchor=\"middle\" x=\"40.5\" y=\"8\">b</text><text font-family=\"serif\" font-size=\"9.5\" text-anchor=\"middle\" x=\"60.5\" y=\"8\">c</text><text font-family=\"serif\" font-size=\"9.5\" text-anchor=\"middle\" x=\"80.5\" y=\"8\">d</text><text font-family=\"serif\" font-size=\"9.5\" text-anchor=\"middle\" x=\"100.5\" y=\"8\">e</text><text font-family=\"serif\" font-size=\"9.5\" text-anchor=\"middle\" x=\"120.5\" y=\"8\">f</text><text font-family=\"serif\" font-size=\"9.5\" text-anchor=\"middle\" x=\"140.5\" y=\"8\">g</text><text font-family=\"serif\" font-size=\"9.5\" text-anchor=\"middle\" x=\"160.5\" y=\"8\">h</text><text font-family=\"serif\" font-size=\"9.5\" x=\"2.5\" y=\"23.5\">1</text><text font-family=\"serif\" font-size=\"9.5\" x=\"2.5\" y=\"43.5\">2</text><text font-family=\"serif\" font-size=\"9.5\" x=\"2.5\" y=\"63.5\">3</text><text font-family=\"serif\" font-size=\"9.5\" x=\"2.5\" y=\"83.5\">4</text><text font-family=\"serif\" font-size=\"9.5\" x=\"2.5\" y=\"103.5\">5</text><text font-family=\"serif\" font-size=\"9.5\" x=\"2.5\" y=\"123.5\">6</text><text font-family=\"serif\" font-size=\"9.5\" x=\"2.5\" y=\"143.5\">7</text><text font-family=\"serif\" font-size=\"9.5\" x=\"2.5\" y=\"163.5\">8</text></g><use x=\"50.5\" xlink:href=\"#black\" y=\"50.5\"/><use x=\"70.5\" xlink:href=\"#white\" y=\"50.5\"/><use x=\"90.5\" xlink:href=\"#black\" y=\"50.5\"/><use x=\"70.5\" xlink:href=\"#white\" y=\"70.5\"/><use x=\"90.5\" xlink:href=\"#black\" y=\"70.5\"/><use x=\"110.5\" xlink:href=\"#black\" y=\"70.5\"/><use x=\"70.5\" xlink:href=\"#white\" y=\"90.5\"/><use x=\"90.5\" xlink:href=\"#black\" y=\"90.5\"/><use x=\"110.5\" xlink:href=\"#black\" y=\"90.5\"/><use x=\"130.5\" xlink:href=\"#black\" y=\"90.5\"/><use x=\"50.5\" xlink:href=\"#white\" y=\"110.5\"/><use x=\"110.5\" xlink:href=\"#white\" y=\"110.5\"/></svg>",
            "text/plain": [
              "<IPython.core.display.SVG object>"
            ]
          },
          "metadata": {
            "tags": []
          },
          "output_type": "display_data"
        },
        {
          "name": "stdout",
          "output_type": "stream",
          "text": [
            "c2\n",
            "10: white\n"
          ]
        },
        {
          "data": {
            "image/svg+xml": "<svg height=\"215.0\" version=\"1.1\" viewBox=\"0 0 172 172\" width=\"215.0\" xmlns=\"http://www.w3.org/2000/svg\" xmlns:xlink=\"http://www.w3.org/1999/xlink\"><defs><g id=\"black\"><circle cx=\"10\" cy=\"10\" fill=\"black\" r=\"8.5\"/></g><g id=\"white\"><circle cx=\"10\" cy=\"10\" fill=\"white\" r=\"8.5\"/></g></defs><rect fill=\"green\" height=\"161\" width=\"161\" x=\"10\" y=\"10\"/><rect fill=\"#8bbf83\" height=\"20\" width=\"20\" x=\"50.5\" y=\"30.5\"/><g stroke=\"black\"><rect fill=\"none\" height=\"161\" stroke-width=\"1.5\" width=\"161\" x=\"10\" y=\"10\"/><line stroke-width=\"1.0\" x1=\"10.5\" x2=\"170.5\" y1=\"30.5\" y2=\"30.5\"/><line stroke-width=\"1.0\" x1=\"10.5\" x2=\"170.5\" y1=\"50.5\" y2=\"50.5\"/><line stroke-width=\"1.0\" x1=\"10.5\" x2=\"170.5\" y1=\"70.5\" y2=\"70.5\"/><line stroke-width=\"1.0\" x1=\"10.5\" x2=\"170.5\" y1=\"90.5\" y2=\"90.5\"/><line stroke-width=\"1.0\" x1=\"10.5\" x2=\"170.5\" y1=\"110.5\" y2=\"110.5\"/><line stroke-width=\"1.0\" x1=\"10.5\" x2=\"170.5\" y1=\"130.5\" y2=\"130.5\"/><line stroke-width=\"1.0\" x1=\"10.5\" x2=\"170.5\" y1=\"150.5\" y2=\"150.5\"/><line stroke-width=\"1.0\" x1=\"30.5\" x2=\"30.5\" y1=\"10.5\" y2=\"170.5\"/><line stroke-width=\"1.0\" x1=\"50.5\" x2=\"50.5\" y1=\"10.5\" y2=\"170.5\"/><line stroke-width=\"1.0\" x1=\"70.5\" x2=\"70.5\" y1=\"10.5\" y2=\"170.5\"/><line stroke-width=\"1.0\" x1=\"90.5\" x2=\"90.5\" y1=\"10.5\" y2=\"170.5\"/><line stroke-width=\"1.0\" x1=\"110.5\" x2=\"110.5\" y1=\"10.5\" y2=\"170.5\"/><line stroke-width=\"1.0\" x1=\"130.5\" x2=\"130.5\" y1=\"10.5\" y2=\"170.5\"/><line stroke-width=\"1.0\" x1=\"150.5\" x2=\"150.5\" y1=\"10.5\" y2=\"170.5\"/></g><g><text font-family=\"serif\" font-size=\"9.5\" text-anchor=\"middle\" x=\"20.5\" y=\"8\">a</text><text font-family=\"serif\" font-size=\"9.5\" text-anchor=\"middle\" x=\"40.5\" y=\"8\">b</text><text font-family=\"serif\" font-size=\"9.5\" text-anchor=\"middle\" x=\"60.5\" y=\"8\">c</text><text font-family=\"serif\" font-size=\"9.5\" text-anchor=\"middle\" x=\"80.5\" y=\"8\">d</text><text font-family=\"serif\" font-size=\"9.5\" text-anchor=\"middle\" x=\"100.5\" y=\"8\">e</text><text font-family=\"serif\" font-size=\"9.5\" text-anchor=\"middle\" x=\"120.5\" y=\"8\">f</text><text font-family=\"serif\" font-size=\"9.5\" text-anchor=\"middle\" x=\"140.5\" y=\"8\">g</text><text font-family=\"serif\" font-size=\"9.5\" text-anchor=\"middle\" x=\"160.5\" y=\"8\">h</text><text font-family=\"serif\" font-size=\"9.5\" x=\"2.5\" y=\"23.5\">1</text><text font-family=\"serif\" font-size=\"9.5\" x=\"2.5\" y=\"43.5\">2</text><text font-family=\"serif\" font-size=\"9.5\" x=\"2.5\" y=\"63.5\">3</text><text font-family=\"serif\" font-size=\"9.5\" x=\"2.5\" y=\"83.5\">4</text><text font-family=\"serif\" font-size=\"9.5\" x=\"2.5\" y=\"103.5\">5</text><text font-family=\"serif\" font-size=\"9.5\" x=\"2.5\" y=\"123.5\">6</text><text font-family=\"serif\" font-size=\"9.5\" x=\"2.5\" y=\"143.5\">7</text><text font-family=\"serif\" font-size=\"9.5\" x=\"2.5\" y=\"163.5\">8</text></g><use x=\"50.5\" xlink:href=\"#black\" y=\"30.5\"/><use x=\"50.5\" xlink:href=\"#black\" y=\"50.5\"/><use x=\"70.5\" xlink:href=\"#black\" y=\"50.5\"/><use x=\"90.5\" xlink:href=\"#black\" y=\"50.5\"/><use x=\"70.5\" xlink:href=\"#white\" y=\"70.5\"/><use x=\"90.5\" xlink:href=\"#black\" y=\"70.5\"/><use x=\"110.5\" xlink:href=\"#black\" y=\"70.5\"/><use x=\"70.5\" xlink:href=\"#white\" y=\"90.5\"/><use x=\"90.5\" xlink:href=\"#black\" y=\"90.5\"/><use x=\"110.5\" xlink:href=\"#black\" y=\"90.5\"/><use x=\"130.5\" xlink:href=\"#black\" y=\"90.5\"/><use x=\"50.5\" xlink:href=\"#white\" y=\"110.5\"/><use x=\"110.5\" xlink:href=\"#white\" y=\"110.5\"/></svg>",
            "text/plain": [
              "<IPython.core.display.SVG object>"
            ]
          },
          "metadata": {
            "tags": []
          },
          "output_type": "display_data"
        },
        {
          "name": "stdout",
          "output_type": "stream",
          "text": [
            "f3\n",
            "f3\n",
            "11: black\n"
          ]
        },
        {
          "data": {
            "image/svg+xml": "<svg height=\"215.0\" version=\"1.1\" viewBox=\"0 0 172 172\" width=\"215.0\" xmlns=\"http://www.w3.org/2000/svg\" xmlns:xlink=\"http://www.w3.org/1999/xlink\"><defs><g id=\"black\"><circle cx=\"10\" cy=\"10\" fill=\"black\" r=\"8.5\"/></g><g id=\"white\"><circle cx=\"10\" cy=\"10\" fill=\"white\" r=\"8.5\"/></g></defs><rect fill=\"green\" height=\"161\" width=\"161\" x=\"10\" y=\"10\"/><rect fill=\"#8bbf83\" height=\"20\" width=\"20\" x=\"110.5\" y=\"50.5\"/><g stroke=\"black\"><rect fill=\"none\" height=\"161\" stroke-width=\"1.5\" width=\"161\" x=\"10\" y=\"10\"/><line stroke-width=\"1.0\" x1=\"10.5\" x2=\"170.5\" y1=\"30.5\" y2=\"30.5\"/><line stroke-width=\"1.0\" x1=\"10.5\" x2=\"170.5\" y1=\"50.5\" y2=\"50.5\"/><line stroke-width=\"1.0\" x1=\"10.5\" x2=\"170.5\" y1=\"70.5\" y2=\"70.5\"/><line stroke-width=\"1.0\" x1=\"10.5\" x2=\"170.5\" y1=\"90.5\" y2=\"90.5\"/><line stroke-width=\"1.0\" x1=\"10.5\" x2=\"170.5\" y1=\"110.5\" y2=\"110.5\"/><line stroke-width=\"1.0\" x1=\"10.5\" x2=\"170.5\" y1=\"130.5\" y2=\"130.5\"/><line stroke-width=\"1.0\" x1=\"10.5\" x2=\"170.5\" y1=\"150.5\" y2=\"150.5\"/><line stroke-width=\"1.0\" x1=\"30.5\" x2=\"30.5\" y1=\"10.5\" y2=\"170.5\"/><line stroke-width=\"1.0\" x1=\"50.5\" x2=\"50.5\" y1=\"10.5\" y2=\"170.5\"/><line stroke-width=\"1.0\" x1=\"70.5\" x2=\"70.5\" y1=\"10.5\" y2=\"170.5\"/><line stroke-width=\"1.0\" x1=\"90.5\" x2=\"90.5\" y1=\"10.5\" y2=\"170.5\"/><line stroke-width=\"1.0\" x1=\"110.5\" x2=\"110.5\" y1=\"10.5\" y2=\"170.5\"/><line stroke-width=\"1.0\" x1=\"130.5\" x2=\"130.5\" y1=\"10.5\" y2=\"170.5\"/><line stroke-width=\"1.0\" x1=\"150.5\" x2=\"150.5\" y1=\"10.5\" y2=\"170.5\"/></g><g><text font-family=\"serif\" font-size=\"9.5\" text-anchor=\"middle\" x=\"20.5\" y=\"8\">a</text><text font-family=\"serif\" font-size=\"9.5\" text-anchor=\"middle\" x=\"40.5\" y=\"8\">b</text><text font-family=\"serif\" font-size=\"9.5\" text-anchor=\"middle\" x=\"60.5\" y=\"8\">c</text><text font-family=\"serif\" font-size=\"9.5\" text-anchor=\"middle\" x=\"80.5\" y=\"8\">d</text><text font-family=\"serif\" font-size=\"9.5\" text-anchor=\"middle\" x=\"100.5\" y=\"8\">e</text><text font-family=\"serif\" font-size=\"9.5\" text-anchor=\"middle\" x=\"120.5\" y=\"8\">f</text><text font-family=\"serif\" font-size=\"9.5\" text-anchor=\"middle\" x=\"140.5\" y=\"8\">g</text><text font-family=\"serif\" font-size=\"9.5\" text-anchor=\"middle\" x=\"160.5\" y=\"8\">h</text><text font-family=\"serif\" font-size=\"9.5\" x=\"2.5\" y=\"23.5\">1</text><text font-family=\"serif\" font-size=\"9.5\" x=\"2.5\" y=\"43.5\">2</text><text font-family=\"serif\" font-size=\"9.5\" x=\"2.5\" y=\"63.5\">3</text><text font-family=\"serif\" font-size=\"9.5\" x=\"2.5\" y=\"83.5\">4</text><text font-family=\"serif\" font-size=\"9.5\" x=\"2.5\" y=\"103.5\">5</text><text font-family=\"serif\" font-size=\"9.5\" x=\"2.5\" y=\"123.5\">6</text><text font-family=\"serif\" font-size=\"9.5\" x=\"2.5\" y=\"143.5\">7</text><text font-family=\"serif\" font-size=\"9.5\" x=\"2.5\" y=\"163.5\">8</text></g><use x=\"50.5\" xlink:href=\"#black\" y=\"30.5\"/><use x=\"50.5\" xlink:href=\"#black\" y=\"50.5\"/><use x=\"70.5\" xlink:href=\"#black\" y=\"50.5\"/><use x=\"90.5\" xlink:href=\"#black\" y=\"50.5\"/><use x=\"110.5\" xlink:href=\"#white\" y=\"50.5\"/><use x=\"70.5\" xlink:href=\"#white\" y=\"70.5\"/><use x=\"90.5\" xlink:href=\"#white\" y=\"70.5\"/><use x=\"110.5\" xlink:href=\"#white\" y=\"70.5\"/><use x=\"70.5\" xlink:href=\"#white\" y=\"90.5\"/><use x=\"90.5\" xlink:href=\"#black\" y=\"90.5\"/><use x=\"110.5\" xlink:href=\"#white\" y=\"90.5\"/><use x=\"130.5\" xlink:href=\"#black\" y=\"90.5\"/><use x=\"50.5\" xlink:href=\"#white\" y=\"110.5\"/><use x=\"110.5\" xlink:href=\"#white\" y=\"110.5\"/></svg>",
            "text/plain": [
              "<IPython.core.display.SVG object>"
            ]
          },
          "metadata": {
            "tags": []
          },
          "output_type": "display_data"
        },
        {
          "name": "stdout",
          "output_type": "stream",
          "text": [
            "g3\n",
            "12: white\n"
          ]
        },
        {
          "data": {
            "image/svg+xml": "<svg height=\"215.0\" version=\"1.1\" viewBox=\"0 0 172 172\" width=\"215.0\" xmlns=\"http://www.w3.org/2000/svg\" xmlns:xlink=\"http://www.w3.org/1999/xlink\"><defs><g id=\"black\"><circle cx=\"10\" cy=\"10\" fill=\"black\" r=\"8.5\"/></g><g id=\"white\"><circle cx=\"10\" cy=\"10\" fill=\"white\" r=\"8.5\"/></g></defs><rect fill=\"green\" height=\"161\" width=\"161\" x=\"10\" y=\"10\"/><rect fill=\"#8bbf83\" height=\"20\" width=\"20\" x=\"130.5\" y=\"50.5\"/><g stroke=\"black\"><rect fill=\"none\" height=\"161\" stroke-width=\"1.5\" width=\"161\" x=\"10\" y=\"10\"/><line stroke-width=\"1.0\" x1=\"10.5\" x2=\"170.5\" y1=\"30.5\" y2=\"30.5\"/><line stroke-width=\"1.0\" x1=\"10.5\" x2=\"170.5\" y1=\"50.5\" y2=\"50.5\"/><line stroke-width=\"1.0\" x1=\"10.5\" x2=\"170.5\" y1=\"70.5\" y2=\"70.5\"/><line stroke-width=\"1.0\" x1=\"10.5\" x2=\"170.5\" y1=\"90.5\" y2=\"90.5\"/><line stroke-width=\"1.0\" x1=\"10.5\" x2=\"170.5\" y1=\"110.5\" y2=\"110.5\"/><line stroke-width=\"1.0\" x1=\"10.5\" x2=\"170.5\" y1=\"130.5\" y2=\"130.5\"/><line stroke-width=\"1.0\" x1=\"10.5\" x2=\"170.5\" y1=\"150.5\" y2=\"150.5\"/><line stroke-width=\"1.0\" x1=\"30.5\" x2=\"30.5\" y1=\"10.5\" y2=\"170.5\"/><line stroke-width=\"1.0\" x1=\"50.5\" x2=\"50.5\" y1=\"10.5\" y2=\"170.5\"/><line stroke-width=\"1.0\" x1=\"70.5\" x2=\"70.5\" y1=\"10.5\" y2=\"170.5\"/><line stroke-width=\"1.0\" x1=\"90.5\" x2=\"90.5\" y1=\"10.5\" y2=\"170.5\"/><line stroke-width=\"1.0\" x1=\"110.5\" x2=\"110.5\" y1=\"10.5\" y2=\"170.5\"/><line stroke-width=\"1.0\" x1=\"130.5\" x2=\"130.5\" y1=\"10.5\" y2=\"170.5\"/><line stroke-width=\"1.0\" x1=\"150.5\" x2=\"150.5\" y1=\"10.5\" y2=\"170.5\"/></g><g><text font-family=\"serif\" font-size=\"9.5\" text-anchor=\"middle\" x=\"20.5\" y=\"8\">a</text><text font-family=\"serif\" font-size=\"9.5\" text-anchor=\"middle\" x=\"40.5\" y=\"8\">b</text><text font-family=\"serif\" font-size=\"9.5\" text-anchor=\"middle\" x=\"60.5\" y=\"8\">c</text><text font-family=\"serif\" font-size=\"9.5\" text-anchor=\"middle\" x=\"80.5\" y=\"8\">d</text><text font-family=\"serif\" font-size=\"9.5\" text-anchor=\"middle\" x=\"100.5\" y=\"8\">e</text><text font-family=\"serif\" font-size=\"9.5\" text-anchor=\"middle\" x=\"120.5\" y=\"8\">f</text><text font-family=\"serif\" font-size=\"9.5\" text-anchor=\"middle\" x=\"140.5\" y=\"8\">g</text><text font-family=\"serif\" font-size=\"9.5\" text-anchor=\"middle\" x=\"160.5\" y=\"8\">h</text><text font-family=\"serif\" font-size=\"9.5\" x=\"2.5\" y=\"23.5\">1</text><text font-family=\"serif\" font-size=\"9.5\" x=\"2.5\" y=\"43.5\">2</text><text font-family=\"serif\" font-size=\"9.5\" x=\"2.5\" y=\"63.5\">3</text><text font-family=\"serif\" font-size=\"9.5\" x=\"2.5\" y=\"83.5\">4</text><text font-family=\"serif\" font-size=\"9.5\" x=\"2.5\" y=\"103.5\">5</text><text font-family=\"serif\" font-size=\"9.5\" x=\"2.5\" y=\"123.5\">6</text><text font-family=\"serif\" font-size=\"9.5\" x=\"2.5\" y=\"143.5\">7</text><text font-family=\"serif\" font-size=\"9.5\" x=\"2.5\" y=\"163.5\">8</text></g><use x=\"50.5\" xlink:href=\"#black\" y=\"30.5\"/><use x=\"50.5\" xlink:href=\"#black\" y=\"50.5\"/><use x=\"70.5\" xlink:href=\"#black\" y=\"50.5\"/><use x=\"90.5\" xlink:href=\"#black\" y=\"50.5\"/><use x=\"110.5\" xlink:href=\"#black\" y=\"50.5\"/><use x=\"130.5\" xlink:href=\"#black\" y=\"50.5\"/><use x=\"70.5\" xlink:href=\"#white\" y=\"70.5\"/><use x=\"90.5\" xlink:href=\"#white\" y=\"70.5\"/><use x=\"110.5\" xlink:href=\"#black\" y=\"70.5\"/><use x=\"70.5\" xlink:href=\"#white\" y=\"90.5\"/><use x=\"90.5\" xlink:href=\"#black\" y=\"90.5\"/><use x=\"110.5\" xlink:href=\"#white\" y=\"90.5\"/><use x=\"130.5\" xlink:href=\"#black\" y=\"90.5\"/><use x=\"50.5\" xlink:href=\"#white\" y=\"110.5\"/><use x=\"110.5\" xlink:href=\"#white\" y=\"110.5\"/></svg>",
            "text/plain": [
              "<IPython.core.display.SVG object>"
            ]
          },
          "metadata": {
            "tags": []
          },
          "output_type": "display_data"
        },
        {
          "name": "stdout",
          "output_type": "stream",
          "text": [
            "g4\n",
            "g4\n",
            "13: black\n"
          ]
        },
        {
          "data": {
            "image/svg+xml": "<svg height=\"215.0\" version=\"1.1\" viewBox=\"0 0 172 172\" width=\"215.0\" xmlns=\"http://www.w3.org/2000/svg\" xmlns:xlink=\"http://www.w3.org/1999/xlink\"><defs><g id=\"black\"><circle cx=\"10\" cy=\"10\" fill=\"black\" r=\"8.5\"/></g><g id=\"white\"><circle cx=\"10\" cy=\"10\" fill=\"white\" r=\"8.5\"/></g></defs><rect fill=\"green\" height=\"161\" width=\"161\" x=\"10\" y=\"10\"/><rect fill=\"#8bbf83\" height=\"20\" width=\"20\" x=\"130.5\" y=\"70.5\"/><g stroke=\"black\"><rect fill=\"none\" height=\"161\" stroke-width=\"1.5\" width=\"161\" x=\"10\" y=\"10\"/><line stroke-width=\"1.0\" x1=\"10.5\" x2=\"170.5\" y1=\"30.5\" y2=\"30.5\"/><line stroke-width=\"1.0\" x1=\"10.5\" x2=\"170.5\" y1=\"50.5\" y2=\"50.5\"/><line stroke-width=\"1.0\" x1=\"10.5\" x2=\"170.5\" y1=\"70.5\" y2=\"70.5\"/><line stroke-width=\"1.0\" x1=\"10.5\" x2=\"170.5\" y1=\"90.5\" y2=\"90.5\"/><line stroke-width=\"1.0\" x1=\"10.5\" x2=\"170.5\" y1=\"110.5\" y2=\"110.5\"/><line stroke-width=\"1.0\" x1=\"10.5\" x2=\"170.5\" y1=\"130.5\" y2=\"130.5\"/><line stroke-width=\"1.0\" x1=\"10.5\" x2=\"170.5\" y1=\"150.5\" y2=\"150.5\"/><line stroke-width=\"1.0\" x1=\"30.5\" x2=\"30.5\" y1=\"10.5\" y2=\"170.5\"/><line stroke-width=\"1.0\" x1=\"50.5\" x2=\"50.5\" y1=\"10.5\" y2=\"170.5\"/><line stroke-width=\"1.0\" x1=\"70.5\" x2=\"70.5\" y1=\"10.5\" y2=\"170.5\"/><line stroke-width=\"1.0\" x1=\"90.5\" x2=\"90.5\" y1=\"10.5\" y2=\"170.5\"/><line stroke-width=\"1.0\" x1=\"110.5\" x2=\"110.5\" y1=\"10.5\" y2=\"170.5\"/><line stroke-width=\"1.0\" x1=\"130.5\" x2=\"130.5\" y1=\"10.5\" y2=\"170.5\"/><line stroke-width=\"1.0\" x1=\"150.5\" x2=\"150.5\" y1=\"10.5\" y2=\"170.5\"/></g><g><text font-family=\"serif\" font-size=\"9.5\" text-anchor=\"middle\" x=\"20.5\" y=\"8\">a</text><text font-family=\"serif\" font-size=\"9.5\" text-anchor=\"middle\" x=\"40.5\" y=\"8\">b</text><text font-family=\"serif\" font-size=\"9.5\" text-anchor=\"middle\" x=\"60.5\" y=\"8\">c</text><text font-family=\"serif\" font-size=\"9.5\" text-anchor=\"middle\" x=\"80.5\" y=\"8\">d</text><text font-family=\"serif\" font-size=\"9.5\" text-anchor=\"middle\" x=\"100.5\" y=\"8\">e</text><text font-family=\"serif\" font-size=\"9.5\" text-anchor=\"middle\" x=\"120.5\" y=\"8\">f</text><text font-family=\"serif\" font-size=\"9.5\" text-anchor=\"middle\" x=\"140.5\" y=\"8\">g</text><text font-family=\"serif\" font-size=\"9.5\" text-anchor=\"middle\" x=\"160.5\" y=\"8\">h</text><text font-family=\"serif\" font-size=\"9.5\" x=\"2.5\" y=\"23.5\">1</text><text font-family=\"serif\" font-size=\"9.5\" x=\"2.5\" y=\"43.5\">2</text><text font-family=\"serif\" font-size=\"9.5\" x=\"2.5\" y=\"63.5\">3</text><text font-family=\"serif\" font-size=\"9.5\" x=\"2.5\" y=\"83.5\">4</text><text font-family=\"serif\" font-size=\"9.5\" x=\"2.5\" y=\"103.5\">5</text><text font-family=\"serif\" font-size=\"9.5\" x=\"2.5\" y=\"123.5\">6</text><text font-family=\"serif\" font-size=\"9.5\" x=\"2.5\" y=\"143.5\">7</text><text font-family=\"serif\" font-size=\"9.5\" x=\"2.5\" y=\"163.5\">8</text></g><use x=\"50.5\" xlink:href=\"#black\" y=\"30.5\"/><use x=\"50.5\" xlink:href=\"#black\" y=\"50.5\"/><use x=\"70.5\" xlink:href=\"#black\" y=\"50.5\"/><use x=\"90.5\" xlink:href=\"#black\" y=\"50.5\"/><use x=\"110.5\" xlink:href=\"#black\" y=\"50.5\"/><use x=\"130.5\" xlink:href=\"#black\" y=\"50.5\"/><use x=\"70.5\" xlink:href=\"#white\" y=\"70.5\"/><use x=\"90.5\" xlink:href=\"#white\" y=\"70.5\"/><use x=\"110.5\" xlink:href=\"#white\" y=\"70.5\"/><use x=\"130.5\" xlink:href=\"#white\" y=\"70.5\"/><use x=\"70.5\" xlink:href=\"#white\" y=\"90.5\"/><use x=\"90.5\" xlink:href=\"#black\" y=\"90.5\"/><use x=\"110.5\" xlink:href=\"#white\" y=\"90.5\"/><use x=\"130.5\" xlink:href=\"#black\" y=\"90.5\"/><use x=\"50.5\" xlink:href=\"#white\" y=\"110.5\"/><use x=\"110.5\" xlink:href=\"#white\" y=\"110.5\"/></svg>",
            "text/plain": [
              "<IPython.core.display.SVG object>"
            ]
          },
          "metadata": {
            "tags": []
          },
          "output_type": "display_data"
        },
        {
          "name": "stdout",
          "output_type": "stream",
          "text": [
            "g6\n",
            "14: white\n"
          ]
        },
        {
          "data": {
            "image/svg+xml": "<svg height=\"215.0\" version=\"1.1\" viewBox=\"0 0 172 172\" width=\"215.0\" xmlns=\"http://www.w3.org/2000/svg\" xmlns:xlink=\"http://www.w3.org/1999/xlink\"><defs><g id=\"black\"><circle cx=\"10\" cy=\"10\" fill=\"black\" r=\"8.5\"/></g><g id=\"white\"><circle cx=\"10\" cy=\"10\" fill=\"white\" r=\"8.5\"/></g></defs><rect fill=\"green\" height=\"161\" width=\"161\" x=\"10\" y=\"10\"/><rect fill=\"#8bbf83\" height=\"20\" width=\"20\" x=\"130.5\" y=\"110.5\"/><g stroke=\"black\"><rect fill=\"none\" height=\"161\" stroke-width=\"1.5\" width=\"161\" x=\"10\" y=\"10\"/><line stroke-width=\"1.0\" x1=\"10.5\" x2=\"170.5\" y1=\"30.5\" y2=\"30.5\"/><line stroke-width=\"1.0\" x1=\"10.5\" x2=\"170.5\" y1=\"50.5\" y2=\"50.5\"/><line stroke-width=\"1.0\" x1=\"10.5\" x2=\"170.5\" y1=\"70.5\" y2=\"70.5\"/><line stroke-width=\"1.0\" x1=\"10.5\" x2=\"170.5\" y1=\"90.5\" y2=\"90.5\"/><line stroke-width=\"1.0\" x1=\"10.5\" x2=\"170.5\" y1=\"110.5\" y2=\"110.5\"/><line stroke-width=\"1.0\" x1=\"10.5\" x2=\"170.5\" y1=\"130.5\" y2=\"130.5\"/><line stroke-width=\"1.0\" x1=\"10.5\" x2=\"170.5\" y1=\"150.5\" y2=\"150.5\"/><line stroke-width=\"1.0\" x1=\"30.5\" x2=\"30.5\" y1=\"10.5\" y2=\"170.5\"/><line stroke-width=\"1.0\" x1=\"50.5\" x2=\"50.5\" y1=\"10.5\" y2=\"170.5\"/><line stroke-width=\"1.0\" x1=\"70.5\" x2=\"70.5\" y1=\"10.5\" y2=\"170.5\"/><line stroke-width=\"1.0\" x1=\"90.5\" x2=\"90.5\" y1=\"10.5\" y2=\"170.5\"/><line stroke-width=\"1.0\" x1=\"110.5\" x2=\"110.5\" y1=\"10.5\" y2=\"170.5\"/><line stroke-width=\"1.0\" x1=\"130.5\" x2=\"130.5\" y1=\"10.5\" y2=\"170.5\"/><line stroke-width=\"1.0\" x1=\"150.5\" x2=\"150.5\" y1=\"10.5\" y2=\"170.5\"/></g><g><text font-family=\"serif\" font-size=\"9.5\" text-anchor=\"middle\" x=\"20.5\" y=\"8\">a</text><text font-family=\"serif\" font-size=\"9.5\" text-anchor=\"middle\" x=\"40.5\" y=\"8\">b</text><text font-family=\"serif\" font-size=\"9.5\" text-anchor=\"middle\" x=\"60.5\" y=\"8\">c</text><text font-family=\"serif\" font-size=\"9.5\" text-anchor=\"middle\" x=\"80.5\" y=\"8\">d</text><text font-family=\"serif\" font-size=\"9.5\" text-anchor=\"middle\" x=\"100.5\" y=\"8\">e</text><text font-family=\"serif\" font-size=\"9.5\" text-anchor=\"middle\" x=\"120.5\" y=\"8\">f</text><text font-family=\"serif\" font-size=\"9.5\" text-anchor=\"middle\" x=\"140.5\" y=\"8\">g</text><text font-family=\"serif\" font-size=\"9.5\" text-anchor=\"middle\" x=\"160.5\" y=\"8\">h</text><text font-family=\"serif\" font-size=\"9.5\" x=\"2.5\" y=\"23.5\">1</text><text font-family=\"serif\" font-size=\"9.5\" x=\"2.5\" y=\"43.5\">2</text><text font-family=\"serif\" font-size=\"9.5\" x=\"2.5\" y=\"63.5\">3</text><text font-family=\"serif\" font-size=\"9.5\" x=\"2.5\" y=\"83.5\">4</text><text font-family=\"serif\" font-size=\"9.5\" x=\"2.5\" y=\"103.5\">5</text><text font-family=\"serif\" font-size=\"9.5\" x=\"2.5\" y=\"123.5\">6</text><text font-family=\"serif\" font-size=\"9.5\" x=\"2.5\" y=\"143.5\">7</text><text font-family=\"serif\" font-size=\"9.5\" x=\"2.5\" y=\"163.5\">8</text></g><use x=\"50.5\" xlink:href=\"#black\" y=\"30.5\"/><use x=\"50.5\" xlink:href=\"#black\" y=\"50.5\"/><use x=\"70.5\" xlink:href=\"#black\" y=\"50.5\"/><use x=\"90.5\" xlink:href=\"#black\" y=\"50.5\"/><use x=\"110.5\" xlink:href=\"#black\" y=\"50.5\"/><use x=\"130.5\" xlink:href=\"#black\" y=\"50.5\"/><use x=\"70.5\" xlink:href=\"#white\" y=\"70.5\"/><use x=\"90.5\" xlink:href=\"#black\" y=\"70.5\"/><use x=\"110.5\" xlink:href=\"#white\" y=\"70.5\"/><use x=\"130.5\" xlink:href=\"#white\" y=\"70.5\"/><use x=\"70.5\" xlink:href=\"#white\" y=\"90.5\"/><use x=\"90.5\" xlink:href=\"#black\" y=\"90.5\"/><use x=\"110.5\" xlink:href=\"#black\" y=\"90.5\"/><use x=\"130.5\" xlink:href=\"#black\" y=\"90.5\"/><use x=\"50.5\" xlink:href=\"#white\" y=\"110.5\"/><use x=\"110.5\" xlink:href=\"#white\" y=\"110.5\"/><use x=\"130.5\" xlink:href=\"#black\" y=\"110.5\"/></svg>",
            "text/plain": [
              "<IPython.core.display.SVG object>"
            ]
          },
          "metadata": {
            "tags": []
          },
          "output_type": "display_data"
        },
        {
          "name": "stdout",
          "output_type": "stream",
          "text": [
            "h6\n",
            "h6\n",
            "15: black\n"
          ]
        },
        {
          "data": {
            "image/svg+xml": "<svg height=\"215.0\" version=\"1.1\" viewBox=\"0 0 172 172\" width=\"215.0\" xmlns=\"http://www.w3.org/2000/svg\" xmlns:xlink=\"http://www.w3.org/1999/xlink\"><defs><g id=\"black\"><circle cx=\"10\" cy=\"10\" fill=\"black\" r=\"8.5\"/></g><g id=\"white\"><circle cx=\"10\" cy=\"10\" fill=\"white\" r=\"8.5\"/></g></defs><rect fill=\"green\" height=\"161\" width=\"161\" x=\"10\" y=\"10\"/><rect fill=\"#8bbf83\" height=\"20\" width=\"20\" x=\"150.5\" y=\"110.5\"/><g stroke=\"black\"><rect fill=\"none\" height=\"161\" stroke-width=\"1.5\" width=\"161\" x=\"10\" y=\"10\"/><line stroke-width=\"1.0\" x1=\"10.5\" x2=\"170.5\" y1=\"30.5\" y2=\"30.5\"/><line stroke-width=\"1.0\" x1=\"10.5\" x2=\"170.5\" y1=\"50.5\" y2=\"50.5\"/><line stroke-width=\"1.0\" x1=\"10.5\" x2=\"170.5\" y1=\"70.5\" y2=\"70.5\"/><line stroke-width=\"1.0\" x1=\"10.5\" x2=\"170.5\" y1=\"90.5\" y2=\"90.5\"/><line stroke-width=\"1.0\" x1=\"10.5\" x2=\"170.5\" y1=\"110.5\" y2=\"110.5\"/><line stroke-width=\"1.0\" x1=\"10.5\" x2=\"170.5\" y1=\"130.5\" y2=\"130.5\"/><line stroke-width=\"1.0\" x1=\"10.5\" x2=\"170.5\" y1=\"150.5\" y2=\"150.5\"/><line stroke-width=\"1.0\" x1=\"30.5\" x2=\"30.5\" y1=\"10.5\" y2=\"170.5\"/><line stroke-width=\"1.0\" x1=\"50.5\" x2=\"50.5\" y1=\"10.5\" y2=\"170.5\"/><line stroke-width=\"1.0\" x1=\"70.5\" x2=\"70.5\" y1=\"10.5\" y2=\"170.5\"/><line stroke-width=\"1.0\" x1=\"90.5\" x2=\"90.5\" y1=\"10.5\" y2=\"170.5\"/><line stroke-width=\"1.0\" x1=\"110.5\" x2=\"110.5\" y1=\"10.5\" y2=\"170.5\"/><line stroke-width=\"1.0\" x1=\"130.5\" x2=\"130.5\" y1=\"10.5\" y2=\"170.5\"/><line stroke-width=\"1.0\" x1=\"150.5\" x2=\"150.5\" y1=\"10.5\" y2=\"170.5\"/></g><g><text font-family=\"serif\" font-size=\"9.5\" text-anchor=\"middle\" x=\"20.5\" y=\"8\">a</text><text font-family=\"serif\" font-size=\"9.5\" text-anchor=\"middle\" x=\"40.5\" y=\"8\">b</text><text font-family=\"serif\" font-size=\"9.5\" text-anchor=\"middle\" x=\"60.5\" y=\"8\">c</text><text font-family=\"serif\" font-size=\"9.5\" text-anchor=\"middle\" x=\"80.5\" y=\"8\">d</text><text font-family=\"serif\" font-size=\"9.5\" text-anchor=\"middle\" x=\"100.5\" y=\"8\">e</text><text font-family=\"serif\" font-size=\"9.5\" text-anchor=\"middle\" x=\"120.5\" y=\"8\">f</text><text font-family=\"serif\" font-size=\"9.5\" text-anchor=\"middle\" x=\"140.5\" y=\"8\">g</text><text font-family=\"serif\" font-size=\"9.5\" text-anchor=\"middle\" x=\"160.5\" y=\"8\">h</text><text font-family=\"serif\" font-size=\"9.5\" x=\"2.5\" y=\"23.5\">1</text><text font-family=\"serif\" font-size=\"9.5\" x=\"2.5\" y=\"43.5\">2</text><text font-family=\"serif\" font-size=\"9.5\" x=\"2.5\" y=\"63.5\">3</text><text font-family=\"serif\" font-size=\"9.5\" x=\"2.5\" y=\"83.5\">4</text><text font-family=\"serif\" font-size=\"9.5\" x=\"2.5\" y=\"103.5\">5</text><text font-family=\"serif\" font-size=\"9.5\" x=\"2.5\" y=\"123.5\">6</text><text font-family=\"serif\" font-size=\"9.5\" x=\"2.5\" y=\"143.5\">7</text><text font-family=\"serif\" font-size=\"9.5\" x=\"2.5\" y=\"163.5\">8</text></g><use x=\"50.5\" xlink:href=\"#black\" y=\"30.5\"/><use x=\"50.5\" xlink:href=\"#black\" y=\"50.5\"/><use x=\"70.5\" xlink:href=\"#black\" y=\"50.5\"/><use x=\"90.5\" xlink:href=\"#black\" y=\"50.5\"/><use x=\"110.5\" xlink:href=\"#black\" y=\"50.5\"/><use x=\"130.5\" xlink:href=\"#black\" y=\"50.5\"/><use x=\"70.5\" xlink:href=\"#white\" y=\"70.5\"/><use x=\"90.5\" xlink:href=\"#black\" y=\"70.5\"/><use x=\"110.5\" xlink:href=\"#white\" y=\"70.5\"/><use x=\"130.5\" xlink:href=\"#white\" y=\"70.5\"/><use x=\"70.5\" xlink:href=\"#white\" y=\"90.5\"/><use x=\"90.5\" xlink:href=\"#black\" y=\"90.5\"/><use x=\"110.5\" xlink:href=\"#black\" y=\"90.5\"/><use x=\"130.5\" xlink:href=\"#white\" y=\"90.5\"/><use x=\"50.5\" xlink:href=\"#white\" y=\"110.5\"/><use x=\"110.5\" xlink:href=\"#white\" y=\"110.5\"/><use x=\"130.5\" xlink:href=\"#white\" y=\"110.5\"/><use x=\"150.5\" xlink:href=\"#white\" y=\"110.5\"/></svg>",
            "text/plain": [
              "<IPython.core.display.SVG object>"
            ]
          },
          "metadata": {
            "tags": []
          },
          "output_type": "display_data"
        },
        {
          "name": "stdout",
          "output_type": "stream",
          "text": [
            "h3\n",
            "16: white\n"
          ]
        },
        {
          "data": {
            "image/svg+xml": "<svg height=\"215.0\" version=\"1.1\" viewBox=\"0 0 172 172\" width=\"215.0\" xmlns=\"http://www.w3.org/2000/svg\" xmlns:xlink=\"http://www.w3.org/1999/xlink\"><defs><g id=\"black\"><circle cx=\"10\" cy=\"10\" fill=\"black\" r=\"8.5\"/></g><g id=\"white\"><circle cx=\"10\" cy=\"10\" fill=\"white\" r=\"8.5\"/></g></defs><rect fill=\"green\" height=\"161\" width=\"161\" x=\"10\" y=\"10\"/><rect fill=\"#8bbf83\" height=\"20\" width=\"20\" x=\"150.5\" y=\"50.5\"/><g stroke=\"black\"><rect fill=\"none\" height=\"161\" stroke-width=\"1.5\" width=\"161\" x=\"10\" y=\"10\"/><line stroke-width=\"1.0\" x1=\"10.5\" x2=\"170.5\" y1=\"30.5\" y2=\"30.5\"/><line stroke-width=\"1.0\" x1=\"10.5\" x2=\"170.5\" y1=\"50.5\" y2=\"50.5\"/><line stroke-width=\"1.0\" x1=\"10.5\" x2=\"170.5\" y1=\"70.5\" y2=\"70.5\"/><line stroke-width=\"1.0\" x1=\"10.5\" x2=\"170.5\" y1=\"90.5\" y2=\"90.5\"/><line stroke-width=\"1.0\" x1=\"10.5\" x2=\"170.5\" y1=\"110.5\" y2=\"110.5\"/><line stroke-width=\"1.0\" x1=\"10.5\" x2=\"170.5\" y1=\"130.5\" y2=\"130.5\"/><line stroke-width=\"1.0\" x1=\"10.5\" x2=\"170.5\" y1=\"150.5\" y2=\"150.5\"/><line stroke-width=\"1.0\" x1=\"30.5\" x2=\"30.5\" y1=\"10.5\" y2=\"170.5\"/><line stroke-width=\"1.0\" x1=\"50.5\" x2=\"50.5\" y1=\"10.5\" y2=\"170.5\"/><line stroke-width=\"1.0\" x1=\"70.5\" x2=\"70.5\" y1=\"10.5\" y2=\"170.5\"/><line stroke-width=\"1.0\" x1=\"90.5\" x2=\"90.5\" y1=\"10.5\" y2=\"170.5\"/><line stroke-width=\"1.0\" x1=\"110.5\" x2=\"110.5\" y1=\"10.5\" y2=\"170.5\"/><line stroke-width=\"1.0\" x1=\"130.5\" x2=\"130.5\" y1=\"10.5\" y2=\"170.5\"/><line stroke-width=\"1.0\" x1=\"150.5\" x2=\"150.5\" y1=\"10.5\" y2=\"170.5\"/></g><g><text font-family=\"serif\" font-size=\"9.5\" text-anchor=\"middle\" x=\"20.5\" y=\"8\">a</text><text font-family=\"serif\" font-size=\"9.5\" text-anchor=\"middle\" x=\"40.5\" y=\"8\">b</text><text font-family=\"serif\" font-size=\"9.5\" text-anchor=\"middle\" x=\"60.5\" y=\"8\">c</text><text font-family=\"serif\" font-size=\"9.5\" text-anchor=\"middle\" x=\"80.5\" y=\"8\">d</text><text font-family=\"serif\" font-size=\"9.5\" text-anchor=\"middle\" x=\"100.5\" y=\"8\">e</text><text font-family=\"serif\" font-size=\"9.5\" text-anchor=\"middle\" x=\"120.5\" y=\"8\">f</text><text font-family=\"serif\" font-size=\"9.5\" text-anchor=\"middle\" x=\"140.5\" y=\"8\">g</text><text font-family=\"serif\" font-size=\"9.5\" text-anchor=\"middle\" x=\"160.5\" y=\"8\">h</text><text font-family=\"serif\" font-size=\"9.5\" x=\"2.5\" y=\"23.5\">1</text><text font-family=\"serif\" font-size=\"9.5\" x=\"2.5\" y=\"43.5\">2</text><text font-family=\"serif\" font-size=\"9.5\" x=\"2.5\" y=\"63.5\">3</text><text font-family=\"serif\" font-size=\"9.5\" x=\"2.5\" y=\"83.5\">4</text><text font-family=\"serif\" font-size=\"9.5\" x=\"2.5\" y=\"103.5\">5</text><text font-family=\"serif\" font-size=\"9.5\" x=\"2.5\" y=\"123.5\">6</text><text font-family=\"serif\" font-size=\"9.5\" x=\"2.5\" y=\"143.5\">7</text><text font-family=\"serif\" font-size=\"9.5\" x=\"2.5\" y=\"163.5\">8</text></g><use x=\"50.5\" xlink:href=\"#black\" y=\"30.5\"/><use x=\"50.5\" xlink:href=\"#black\" y=\"50.5\"/><use x=\"70.5\" xlink:href=\"#black\" y=\"50.5\"/><use x=\"90.5\" xlink:href=\"#black\" y=\"50.5\"/><use x=\"110.5\" xlink:href=\"#black\" y=\"50.5\"/><use x=\"130.5\" xlink:href=\"#black\" y=\"50.5\"/><use x=\"150.5\" xlink:href=\"#black\" y=\"50.5\"/><use x=\"70.5\" xlink:href=\"#white\" y=\"70.5\"/><use x=\"90.5\" xlink:href=\"#black\" y=\"70.5\"/><use x=\"110.5\" xlink:href=\"#white\" y=\"70.5\"/><use x=\"130.5\" xlink:href=\"#black\" y=\"70.5\"/><use x=\"70.5\" xlink:href=\"#white\" y=\"90.5\"/><use x=\"90.5\" xlink:href=\"#black\" y=\"90.5\"/><use x=\"110.5\" xlink:href=\"#black\" y=\"90.5\"/><use x=\"130.5\" xlink:href=\"#white\" y=\"90.5\"/><use x=\"50.5\" xlink:href=\"#white\" y=\"110.5\"/><use x=\"110.5\" xlink:href=\"#white\" y=\"110.5\"/><use x=\"130.5\" xlink:href=\"#white\" y=\"110.5\"/><use x=\"150.5\" xlink:href=\"#white\" y=\"110.5\"/></svg>",
            "text/plain": [
              "<IPython.core.display.SVG object>"
            ]
          },
          "metadata": {
            "tags": []
          },
          "output_type": "display_data"
        },
        {
          "name": "stdout",
          "output_type": "stream",
          "text": [
            "d6\n",
            "d6\n",
            "17: black\n"
          ]
        },
        {
          "data": {
            "image/svg+xml": "<svg height=\"215.0\" version=\"1.1\" viewBox=\"0 0 172 172\" width=\"215.0\" xmlns=\"http://www.w3.org/2000/svg\" xmlns:xlink=\"http://www.w3.org/1999/xlink\"><defs><g id=\"black\"><circle cx=\"10\" cy=\"10\" fill=\"black\" r=\"8.5\"/></g><g id=\"white\"><circle cx=\"10\" cy=\"10\" fill=\"white\" r=\"8.5\"/></g></defs><rect fill=\"green\" height=\"161\" width=\"161\" x=\"10\" y=\"10\"/><rect fill=\"#8bbf83\" height=\"20\" width=\"20\" x=\"70.5\" y=\"110.5\"/><g stroke=\"black\"><rect fill=\"none\" height=\"161\" stroke-width=\"1.5\" width=\"161\" x=\"10\" y=\"10\"/><line stroke-width=\"1.0\" x1=\"10.5\" x2=\"170.5\" y1=\"30.5\" y2=\"30.5\"/><line stroke-width=\"1.0\" x1=\"10.5\" x2=\"170.5\" y1=\"50.5\" y2=\"50.5\"/><line stroke-width=\"1.0\" x1=\"10.5\" x2=\"170.5\" y1=\"70.5\" y2=\"70.5\"/><line stroke-width=\"1.0\" x1=\"10.5\" x2=\"170.5\" y1=\"90.5\" y2=\"90.5\"/><line stroke-width=\"1.0\" x1=\"10.5\" x2=\"170.5\" y1=\"110.5\" y2=\"110.5\"/><line stroke-width=\"1.0\" x1=\"10.5\" x2=\"170.5\" y1=\"130.5\" y2=\"130.5\"/><line stroke-width=\"1.0\" x1=\"10.5\" x2=\"170.5\" y1=\"150.5\" y2=\"150.5\"/><line stroke-width=\"1.0\" x1=\"30.5\" x2=\"30.5\" y1=\"10.5\" y2=\"170.5\"/><line stroke-width=\"1.0\" x1=\"50.5\" x2=\"50.5\" y1=\"10.5\" y2=\"170.5\"/><line stroke-width=\"1.0\" x1=\"70.5\" x2=\"70.5\" y1=\"10.5\" y2=\"170.5\"/><line stroke-width=\"1.0\" x1=\"90.5\" x2=\"90.5\" y1=\"10.5\" y2=\"170.5\"/><line stroke-width=\"1.0\" x1=\"110.5\" x2=\"110.5\" y1=\"10.5\" y2=\"170.5\"/><line stroke-width=\"1.0\" x1=\"130.5\" x2=\"130.5\" y1=\"10.5\" y2=\"170.5\"/><line stroke-width=\"1.0\" x1=\"150.5\" x2=\"150.5\" y1=\"10.5\" y2=\"170.5\"/></g><g><text font-family=\"serif\" font-size=\"9.5\" text-anchor=\"middle\" x=\"20.5\" y=\"8\">a</text><text font-family=\"serif\" font-size=\"9.5\" text-anchor=\"middle\" x=\"40.5\" y=\"8\">b</text><text font-family=\"serif\" font-size=\"9.5\" text-anchor=\"middle\" x=\"60.5\" y=\"8\">c</text><text font-family=\"serif\" font-size=\"9.5\" text-anchor=\"middle\" x=\"80.5\" y=\"8\">d</text><text font-family=\"serif\" font-size=\"9.5\" text-anchor=\"middle\" x=\"100.5\" y=\"8\">e</text><text font-family=\"serif\" font-size=\"9.5\" text-anchor=\"middle\" x=\"120.5\" y=\"8\">f</text><text font-family=\"serif\" font-size=\"9.5\" text-anchor=\"middle\" x=\"140.5\" y=\"8\">g</text><text font-family=\"serif\" font-size=\"9.5\" text-anchor=\"middle\" x=\"160.5\" y=\"8\">h</text><text font-family=\"serif\" font-size=\"9.5\" x=\"2.5\" y=\"23.5\">1</text><text font-family=\"serif\" font-size=\"9.5\" x=\"2.5\" y=\"43.5\">2</text><text font-family=\"serif\" font-size=\"9.5\" x=\"2.5\" y=\"63.5\">3</text><text font-family=\"serif\" font-size=\"9.5\" x=\"2.5\" y=\"83.5\">4</text><text font-family=\"serif\" font-size=\"9.5\" x=\"2.5\" y=\"103.5\">5</text><text font-family=\"serif\" font-size=\"9.5\" x=\"2.5\" y=\"123.5\">6</text><text font-family=\"serif\" font-size=\"9.5\" x=\"2.5\" y=\"143.5\">7</text><text font-family=\"serif\" font-size=\"9.5\" x=\"2.5\" y=\"163.5\">8</text></g><use x=\"50.5\" xlink:href=\"#black\" y=\"30.5\"/><use x=\"50.5\" xlink:href=\"#black\" y=\"50.5\"/><use x=\"70.5\" xlink:href=\"#black\" y=\"50.5\"/><use x=\"90.5\" xlink:href=\"#black\" y=\"50.5\"/><use x=\"110.5\" xlink:href=\"#black\" y=\"50.5\"/><use x=\"130.5\" xlink:href=\"#black\" y=\"50.5\"/><use x=\"150.5\" xlink:href=\"#black\" y=\"50.5\"/><use x=\"70.5\" xlink:href=\"#white\" y=\"70.5\"/><use x=\"90.5\" xlink:href=\"#black\" y=\"70.5\"/><use x=\"110.5\" xlink:href=\"#white\" y=\"70.5\"/><use x=\"130.5\" xlink:href=\"#black\" y=\"70.5\"/><use x=\"70.5\" xlink:href=\"#white\" y=\"90.5\"/><use x=\"90.5\" xlink:href=\"#white\" y=\"90.5\"/><use x=\"110.5\" xlink:href=\"#black\" y=\"90.5\"/><use x=\"130.5\" xlink:href=\"#white\" y=\"90.5\"/><use x=\"50.5\" xlink:href=\"#white\" y=\"110.5\"/><use x=\"70.5\" xlink:href=\"#white\" y=\"110.5\"/><use x=\"110.5\" xlink:href=\"#white\" y=\"110.5\"/><use x=\"130.5\" xlink:href=\"#white\" y=\"110.5\"/><use x=\"150.5\" xlink:href=\"#white\" y=\"110.5\"/></svg>",
            "text/plain": [
              "<IPython.core.display.SVG object>"
            ]
          },
          "metadata": {
            "tags": []
          },
          "output_type": "display_data"
        },
        {
          "name": "stdout",
          "output_type": "stream",
          "text": [
            "h5\n",
            "18: white\n"
          ]
        },
        {
          "data": {
            "image/svg+xml": "<svg height=\"215.0\" version=\"1.1\" viewBox=\"0 0 172 172\" width=\"215.0\" xmlns=\"http://www.w3.org/2000/svg\" xmlns:xlink=\"http://www.w3.org/1999/xlink\"><defs><g id=\"black\"><circle cx=\"10\" cy=\"10\" fill=\"black\" r=\"8.5\"/></g><g id=\"white\"><circle cx=\"10\" cy=\"10\" fill=\"white\" r=\"8.5\"/></g></defs><rect fill=\"green\" height=\"161\" width=\"161\" x=\"10\" y=\"10\"/><rect fill=\"#8bbf83\" height=\"20\" width=\"20\" x=\"150.5\" y=\"90.5\"/><g stroke=\"black\"><rect fill=\"none\" height=\"161\" stroke-width=\"1.5\" width=\"161\" x=\"10\" y=\"10\"/><line stroke-width=\"1.0\" x1=\"10.5\" x2=\"170.5\" y1=\"30.5\" y2=\"30.5\"/><line stroke-width=\"1.0\" x1=\"10.5\" x2=\"170.5\" y1=\"50.5\" y2=\"50.5\"/><line stroke-width=\"1.0\" x1=\"10.5\" x2=\"170.5\" y1=\"70.5\" y2=\"70.5\"/><line stroke-width=\"1.0\" x1=\"10.5\" x2=\"170.5\" y1=\"90.5\" y2=\"90.5\"/><line stroke-width=\"1.0\" x1=\"10.5\" x2=\"170.5\" y1=\"110.5\" y2=\"110.5\"/><line stroke-width=\"1.0\" x1=\"10.5\" x2=\"170.5\" y1=\"130.5\" y2=\"130.5\"/><line stroke-width=\"1.0\" x1=\"10.5\" x2=\"170.5\" y1=\"150.5\" y2=\"150.5\"/><line stroke-width=\"1.0\" x1=\"30.5\" x2=\"30.5\" y1=\"10.5\" y2=\"170.5\"/><line stroke-width=\"1.0\" x1=\"50.5\" x2=\"50.5\" y1=\"10.5\" y2=\"170.5\"/><line stroke-width=\"1.0\" x1=\"70.5\" x2=\"70.5\" y1=\"10.5\" y2=\"170.5\"/><line stroke-width=\"1.0\" x1=\"90.5\" x2=\"90.5\" y1=\"10.5\" y2=\"170.5\"/><line stroke-width=\"1.0\" x1=\"110.5\" x2=\"110.5\" y1=\"10.5\" y2=\"170.5\"/><line stroke-width=\"1.0\" x1=\"130.5\" x2=\"130.5\" y1=\"10.5\" y2=\"170.5\"/><line stroke-width=\"1.0\" x1=\"150.5\" x2=\"150.5\" y1=\"10.5\" y2=\"170.5\"/></g><g><text font-family=\"serif\" font-size=\"9.5\" text-anchor=\"middle\" x=\"20.5\" y=\"8\">a</text><text font-family=\"serif\" font-size=\"9.5\" text-anchor=\"middle\" x=\"40.5\" y=\"8\">b</text><text font-family=\"serif\" font-size=\"9.5\" text-anchor=\"middle\" x=\"60.5\" y=\"8\">c</text><text font-family=\"serif\" font-size=\"9.5\" text-anchor=\"middle\" x=\"80.5\" y=\"8\">d</text><text font-family=\"serif\" font-size=\"9.5\" text-anchor=\"middle\" x=\"100.5\" y=\"8\">e</text><text font-family=\"serif\" font-size=\"9.5\" text-anchor=\"middle\" x=\"120.5\" y=\"8\">f</text><text font-family=\"serif\" font-size=\"9.5\" text-anchor=\"middle\" x=\"140.5\" y=\"8\">g</text><text font-family=\"serif\" font-size=\"9.5\" text-anchor=\"middle\" x=\"160.5\" y=\"8\">h</text><text font-family=\"serif\" font-size=\"9.5\" x=\"2.5\" y=\"23.5\">1</text><text font-family=\"serif\" font-size=\"9.5\" x=\"2.5\" y=\"43.5\">2</text><text font-family=\"serif\" font-size=\"9.5\" x=\"2.5\" y=\"63.5\">3</text><text font-family=\"serif\" font-size=\"9.5\" x=\"2.5\" y=\"83.5\">4</text><text font-family=\"serif\" font-size=\"9.5\" x=\"2.5\" y=\"103.5\">5</text><text font-family=\"serif\" font-size=\"9.5\" x=\"2.5\" y=\"123.5\">6</text><text font-family=\"serif\" font-size=\"9.5\" x=\"2.5\" y=\"143.5\">7</text><text font-family=\"serif\" font-size=\"9.5\" x=\"2.5\" y=\"163.5\">8</text></g><use x=\"50.5\" xlink:href=\"#black\" y=\"30.5\"/><use x=\"50.5\" xlink:href=\"#black\" y=\"50.5\"/><use x=\"70.5\" xlink:href=\"#black\" y=\"50.5\"/><use x=\"90.5\" xlink:href=\"#black\" y=\"50.5\"/><use x=\"110.5\" xlink:href=\"#black\" y=\"50.5\"/><use x=\"130.5\" xlink:href=\"#black\" y=\"50.5\"/><use x=\"150.5\" xlink:href=\"#black\" y=\"50.5\"/><use x=\"70.5\" xlink:href=\"#white\" y=\"70.5\"/><use x=\"90.5\" xlink:href=\"#black\" y=\"70.5\"/><use x=\"110.5\" xlink:href=\"#white\" y=\"70.5\"/><use x=\"130.5\" xlink:href=\"#black\" y=\"70.5\"/><use x=\"70.5\" xlink:href=\"#white\" y=\"90.5\"/><use x=\"90.5\" xlink:href=\"#white\" y=\"90.5\"/><use x=\"110.5\" xlink:href=\"#black\" y=\"90.5\"/><use x=\"130.5\" xlink:href=\"#black\" y=\"90.5\"/><use x=\"150.5\" xlink:href=\"#black\" y=\"90.5\"/><use x=\"50.5\" xlink:href=\"#white\" y=\"110.5\"/><use x=\"70.5\" xlink:href=\"#white\" y=\"110.5\"/><use x=\"110.5\" xlink:href=\"#white\" y=\"110.5\"/><use x=\"130.5\" xlink:href=\"#white\" y=\"110.5\"/><use x=\"150.5\" xlink:href=\"#white\" y=\"110.5\"/></svg>",
            "text/plain": [
              "<IPython.core.display.SVG object>"
            ]
          },
          "metadata": {
            "tags": []
          },
          "output_type": "display_data"
        },
        {
          "name": "stdout",
          "output_type": "stream",
          "text": [
            "h4\n",
            "h4\n",
            "19: black\n"
          ]
        },
        {
          "data": {
            "image/svg+xml": "<svg height=\"215.0\" version=\"1.1\" viewBox=\"0 0 172 172\" width=\"215.0\" xmlns=\"http://www.w3.org/2000/svg\" xmlns:xlink=\"http://www.w3.org/1999/xlink\"><defs><g id=\"black\"><circle cx=\"10\" cy=\"10\" fill=\"black\" r=\"8.5\"/></g><g id=\"white\"><circle cx=\"10\" cy=\"10\" fill=\"white\" r=\"8.5\"/></g></defs><rect fill=\"green\" height=\"161\" width=\"161\" x=\"10\" y=\"10\"/><rect fill=\"#8bbf83\" height=\"20\" width=\"20\" x=\"150.5\" y=\"70.5\"/><g stroke=\"black\"><rect fill=\"none\" height=\"161\" stroke-width=\"1.5\" width=\"161\" x=\"10\" y=\"10\"/><line stroke-width=\"1.0\" x1=\"10.5\" x2=\"170.5\" y1=\"30.5\" y2=\"30.5\"/><line stroke-width=\"1.0\" x1=\"10.5\" x2=\"170.5\" y1=\"50.5\" y2=\"50.5\"/><line stroke-width=\"1.0\" x1=\"10.5\" x2=\"170.5\" y1=\"70.5\" y2=\"70.5\"/><line stroke-width=\"1.0\" x1=\"10.5\" x2=\"170.5\" y1=\"90.5\" y2=\"90.5\"/><line stroke-width=\"1.0\" x1=\"10.5\" x2=\"170.5\" y1=\"110.5\" y2=\"110.5\"/><line stroke-width=\"1.0\" x1=\"10.5\" x2=\"170.5\" y1=\"130.5\" y2=\"130.5\"/><line stroke-width=\"1.0\" x1=\"10.5\" x2=\"170.5\" y1=\"150.5\" y2=\"150.5\"/><line stroke-width=\"1.0\" x1=\"30.5\" x2=\"30.5\" y1=\"10.5\" y2=\"170.5\"/><line stroke-width=\"1.0\" x1=\"50.5\" x2=\"50.5\" y1=\"10.5\" y2=\"170.5\"/><line stroke-width=\"1.0\" x1=\"70.5\" x2=\"70.5\" y1=\"10.5\" y2=\"170.5\"/><line stroke-width=\"1.0\" x1=\"90.5\" x2=\"90.5\" y1=\"10.5\" y2=\"170.5\"/><line stroke-width=\"1.0\" x1=\"110.5\" x2=\"110.5\" y1=\"10.5\" y2=\"170.5\"/><line stroke-width=\"1.0\" x1=\"130.5\" x2=\"130.5\" y1=\"10.5\" y2=\"170.5\"/><line stroke-width=\"1.0\" x1=\"150.5\" x2=\"150.5\" y1=\"10.5\" y2=\"170.5\"/></g><g><text font-family=\"serif\" font-size=\"9.5\" text-anchor=\"middle\" x=\"20.5\" y=\"8\">a</text><text font-family=\"serif\" font-size=\"9.5\" text-anchor=\"middle\" x=\"40.5\" y=\"8\">b</text><text font-family=\"serif\" font-size=\"9.5\" text-anchor=\"middle\" x=\"60.5\" y=\"8\">c</text><text font-family=\"serif\" font-size=\"9.5\" text-anchor=\"middle\" x=\"80.5\" y=\"8\">d</text><text font-family=\"serif\" font-size=\"9.5\" text-anchor=\"middle\" x=\"100.5\" y=\"8\">e</text><text font-family=\"serif\" font-size=\"9.5\" text-anchor=\"middle\" x=\"120.5\" y=\"8\">f</text><text font-family=\"serif\" font-size=\"9.5\" text-anchor=\"middle\" x=\"140.5\" y=\"8\">g</text><text font-family=\"serif\" font-size=\"9.5\" text-anchor=\"middle\" x=\"160.5\" y=\"8\">h</text><text font-family=\"serif\" font-size=\"9.5\" x=\"2.5\" y=\"23.5\">1</text><text font-family=\"serif\" font-size=\"9.5\" x=\"2.5\" y=\"43.5\">2</text><text font-family=\"serif\" font-size=\"9.5\" x=\"2.5\" y=\"63.5\">3</text><text font-family=\"serif\" font-size=\"9.5\" x=\"2.5\" y=\"83.5\">4</text><text font-family=\"serif\" font-size=\"9.5\" x=\"2.5\" y=\"103.5\">5</text><text font-family=\"serif\" font-size=\"9.5\" x=\"2.5\" y=\"123.5\">6</text><text font-family=\"serif\" font-size=\"9.5\" x=\"2.5\" y=\"143.5\">7</text><text font-family=\"serif\" font-size=\"9.5\" x=\"2.5\" y=\"163.5\">8</text></g><use x=\"50.5\" xlink:href=\"#black\" y=\"30.5\"/><use x=\"50.5\" xlink:href=\"#black\" y=\"50.5\"/><use x=\"70.5\" xlink:href=\"#black\" y=\"50.5\"/><use x=\"90.5\" xlink:href=\"#black\" y=\"50.5\"/><use x=\"110.5\" xlink:href=\"#black\" y=\"50.5\"/><use x=\"130.5\" xlink:href=\"#black\" y=\"50.5\"/><use x=\"150.5\" xlink:href=\"#black\" y=\"50.5\"/><use x=\"70.5\" xlink:href=\"#white\" y=\"70.5\"/><use x=\"90.5\" xlink:href=\"#black\" y=\"70.5\"/><use x=\"110.5\" xlink:href=\"#white\" y=\"70.5\"/><use x=\"130.5\" xlink:href=\"#white\" y=\"70.5\"/><use x=\"150.5\" xlink:href=\"#white\" y=\"70.5\"/><use x=\"70.5\" xlink:href=\"#white\" y=\"90.5\"/><use x=\"90.5\" xlink:href=\"#white\" y=\"90.5\"/><use x=\"110.5\" xlink:href=\"#black\" y=\"90.5\"/><use x=\"130.5\" xlink:href=\"#white\" y=\"90.5\"/><use x=\"150.5\" xlink:href=\"#white\" y=\"90.5\"/><use x=\"50.5\" xlink:href=\"#white\" y=\"110.5\"/><use x=\"70.5\" xlink:href=\"#white\" y=\"110.5\"/><use x=\"110.5\" xlink:href=\"#white\" y=\"110.5\"/><use x=\"130.5\" xlink:href=\"#white\" y=\"110.5\"/><use x=\"150.5\" xlink:href=\"#white\" y=\"110.5\"/></svg>",
            "text/plain": [
              "<IPython.core.display.SVG object>"
            ]
          },
          "metadata": {
            "tags": []
          },
          "output_type": "display_data"
        },
        {
          "name": "stdout",
          "output_type": "stream",
          "text": [
            "c5\n",
            "20: white\n"
          ]
        },
        {
          "data": {
            "image/svg+xml": "<svg height=\"215.0\" version=\"1.1\" viewBox=\"0 0 172 172\" width=\"215.0\" xmlns=\"http://www.w3.org/2000/svg\" xmlns:xlink=\"http://www.w3.org/1999/xlink\"><defs><g id=\"black\"><circle cx=\"10\" cy=\"10\" fill=\"black\" r=\"8.5\"/></g><g id=\"white\"><circle cx=\"10\" cy=\"10\" fill=\"white\" r=\"8.5\"/></g></defs><rect fill=\"green\" height=\"161\" width=\"161\" x=\"10\" y=\"10\"/><rect fill=\"#8bbf83\" height=\"20\" width=\"20\" x=\"50.5\" y=\"90.5\"/><g stroke=\"black\"><rect fill=\"none\" height=\"161\" stroke-width=\"1.5\" width=\"161\" x=\"10\" y=\"10\"/><line stroke-width=\"1.0\" x1=\"10.5\" x2=\"170.5\" y1=\"30.5\" y2=\"30.5\"/><line stroke-width=\"1.0\" x1=\"10.5\" x2=\"170.5\" y1=\"50.5\" y2=\"50.5\"/><line stroke-width=\"1.0\" x1=\"10.5\" x2=\"170.5\" y1=\"70.5\" y2=\"70.5\"/><line stroke-width=\"1.0\" x1=\"10.5\" x2=\"170.5\" y1=\"90.5\" y2=\"90.5\"/><line stroke-width=\"1.0\" x1=\"10.5\" x2=\"170.5\" y1=\"110.5\" y2=\"110.5\"/><line stroke-width=\"1.0\" x1=\"10.5\" x2=\"170.5\" y1=\"130.5\" y2=\"130.5\"/><line stroke-width=\"1.0\" x1=\"10.5\" x2=\"170.5\" y1=\"150.5\" y2=\"150.5\"/><line stroke-width=\"1.0\" x1=\"30.5\" x2=\"30.5\" y1=\"10.5\" y2=\"170.5\"/><line stroke-width=\"1.0\" x1=\"50.5\" x2=\"50.5\" y1=\"10.5\" y2=\"170.5\"/><line stroke-width=\"1.0\" x1=\"70.5\" x2=\"70.5\" y1=\"10.5\" y2=\"170.5\"/><line stroke-width=\"1.0\" x1=\"90.5\" x2=\"90.5\" y1=\"10.5\" y2=\"170.5\"/><line stroke-width=\"1.0\" x1=\"110.5\" x2=\"110.5\" y1=\"10.5\" y2=\"170.5\"/><line stroke-width=\"1.0\" x1=\"130.5\" x2=\"130.5\" y1=\"10.5\" y2=\"170.5\"/><line stroke-width=\"1.0\" x1=\"150.5\" x2=\"150.5\" y1=\"10.5\" y2=\"170.5\"/></g><g><text font-family=\"serif\" font-size=\"9.5\" text-anchor=\"middle\" x=\"20.5\" y=\"8\">a</text><text font-family=\"serif\" font-size=\"9.5\" text-anchor=\"middle\" x=\"40.5\" y=\"8\">b</text><text font-family=\"serif\" font-size=\"9.5\" text-anchor=\"middle\" x=\"60.5\" y=\"8\">c</text><text font-family=\"serif\" font-size=\"9.5\" text-anchor=\"middle\" x=\"80.5\" y=\"8\">d</text><text font-family=\"serif\" font-size=\"9.5\" text-anchor=\"middle\" x=\"100.5\" y=\"8\">e</text><text font-family=\"serif\" font-size=\"9.5\" text-anchor=\"middle\" x=\"120.5\" y=\"8\">f</text><text font-family=\"serif\" font-size=\"9.5\" text-anchor=\"middle\" x=\"140.5\" y=\"8\">g</text><text font-family=\"serif\" font-size=\"9.5\" text-anchor=\"middle\" x=\"160.5\" y=\"8\">h</text><text font-family=\"serif\" font-size=\"9.5\" x=\"2.5\" y=\"23.5\">1</text><text font-family=\"serif\" font-size=\"9.5\" x=\"2.5\" y=\"43.5\">2</text><text font-family=\"serif\" font-size=\"9.5\" x=\"2.5\" y=\"63.5\">3</text><text font-family=\"serif\" font-size=\"9.5\" x=\"2.5\" y=\"83.5\">4</text><text font-family=\"serif\" font-size=\"9.5\" x=\"2.5\" y=\"103.5\">5</text><text font-family=\"serif\" font-size=\"9.5\" x=\"2.5\" y=\"123.5\">6</text><text font-family=\"serif\" font-size=\"9.5\" x=\"2.5\" y=\"143.5\">7</text><text font-family=\"serif\" font-size=\"9.5\" x=\"2.5\" y=\"163.5\">8</text></g><use x=\"50.5\" xlink:href=\"#black\" y=\"30.5\"/><use x=\"50.5\" xlink:href=\"#black\" y=\"50.5\"/><use x=\"70.5\" xlink:href=\"#black\" y=\"50.5\"/><use x=\"90.5\" xlink:href=\"#black\" y=\"50.5\"/><use x=\"110.5\" xlink:href=\"#black\" y=\"50.5\"/><use x=\"130.5\" xlink:href=\"#black\" y=\"50.5\"/><use x=\"150.5\" xlink:href=\"#black\" y=\"50.5\"/><use x=\"70.5\" xlink:href=\"#black\" y=\"70.5\"/><use x=\"90.5\" xlink:href=\"#black\" y=\"70.5\"/><use x=\"110.5\" xlink:href=\"#white\" y=\"70.5\"/><use x=\"130.5\" xlink:href=\"#white\" y=\"70.5\"/><use x=\"150.5\" xlink:href=\"#white\" y=\"70.5\"/><use x=\"50.5\" xlink:href=\"#black\" y=\"90.5\"/><use x=\"70.5\" xlink:href=\"#black\" y=\"90.5\"/><use x=\"90.5\" xlink:href=\"#black\" y=\"90.5\"/><use x=\"110.5\" xlink:href=\"#black\" y=\"90.5\"/><use x=\"130.5\" xlink:href=\"#white\" y=\"90.5\"/><use x=\"150.5\" xlink:href=\"#white\" y=\"90.5\"/><use x=\"50.5\" xlink:href=\"#white\" y=\"110.5\"/><use x=\"70.5\" xlink:href=\"#white\" y=\"110.5\"/><use x=\"110.5\" xlink:href=\"#white\" y=\"110.5\"/><use x=\"130.5\" xlink:href=\"#white\" y=\"110.5\"/><use x=\"150.5\" xlink:href=\"#white\" y=\"110.5\"/></svg>",
            "text/plain": [
              "<IPython.core.display.SVG object>"
            ]
          },
          "metadata": {
            "tags": []
          },
          "output_type": "display_data"
        },
        {
          "name": "stdout",
          "output_type": "stream",
          "text": [
            "h2\n",
            "h2\n",
            "21: black\n"
          ]
        },
        {
          "data": {
            "image/svg+xml": "<svg height=\"215.0\" version=\"1.1\" viewBox=\"0 0 172 172\" width=\"215.0\" xmlns=\"http://www.w3.org/2000/svg\" xmlns:xlink=\"http://www.w3.org/1999/xlink\"><defs><g id=\"black\"><circle cx=\"10\" cy=\"10\" fill=\"black\" r=\"8.5\"/></g><g id=\"white\"><circle cx=\"10\" cy=\"10\" fill=\"white\" r=\"8.5\"/></g></defs><rect fill=\"green\" height=\"161\" width=\"161\" x=\"10\" y=\"10\"/><rect fill=\"#8bbf83\" height=\"20\" width=\"20\" x=\"150.5\" y=\"30.5\"/><g stroke=\"black\"><rect fill=\"none\" height=\"161\" stroke-width=\"1.5\" width=\"161\" x=\"10\" y=\"10\"/><line stroke-width=\"1.0\" x1=\"10.5\" x2=\"170.5\" y1=\"30.5\" y2=\"30.5\"/><line stroke-width=\"1.0\" x1=\"10.5\" x2=\"170.5\" y1=\"50.5\" y2=\"50.5\"/><line stroke-width=\"1.0\" x1=\"10.5\" x2=\"170.5\" y1=\"70.5\" y2=\"70.5\"/><line stroke-width=\"1.0\" x1=\"10.5\" x2=\"170.5\" y1=\"90.5\" y2=\"90.5\"/><line stroke-width=\"1.0\" x1=\"10.5\" x2=\"170.5\" y1=\"110.5\" y2=\"110.5\"/><line stroke-width=\"1.0\" x1=\"10.5\" x2=\"170.5\" y1=\"130.5\" y2=\"130.5\"/><line stroke-width=\"1.0\" x1=\"10.5\" x2=\"170.5\" y1=\"150.5\" y2=\"150.5\"/><line stroke-width=\"1.0\" x1=\"30.5\" x2=\"30.5\" y1=\"10.5\" y2=\"170.5\"/><line stroke-width=\"1.0\" x1=\"50.5\" x2=\"50.5\" y1=\"10.5\" y2=\"170.5\"/><line stroke-width=\"1.0\" x1=\"70.5\" x2=\"70.5\" y1=\"10.5\" y2=\"170.5\"/><line stroke-width=\"1.0\" x1=\"90.5\" x2=\"90.5\" y1=\"10.5\" y2=\"170.5\"/><line stroke-width=\"1.0\" x1=\"110.5\" x2=\"110.5\" y1=\"10.5\" y2=\"170.5\"/><line stroke-width=\"1.0\" x1=\"130.5\" x2=\"130.5\" y1=\"10.5\" y2=\"170.5\"/><line stroke-width=\"1.0\" x1=\"150.5\" x2=\"150.5\" y1=\"10.5\" y2=\"170.5\"/></g><g><text font-family=\"serif\" font-size=\"9.5\" text-anchor=\"middle\" x=\"20.5\" y=\"8\">a</text><text font-family=\"serif\" font-size=\"9.5\" text-anchor=\"middle\" x=\"40.5\" y=\"8\">b</text><text font-family=\"serif\" font-size=\"9.5\" text-anchor=\"middle\" x=\"60.5\" y=\"8\">c</text><text font-family=\"serif\" font-size=\"9.5\" text-anchor=\"middle\" x=\"80.5\" y=\"8\">d</text><text font-family=\"serif\" font-size=\"9.5\" text-anchor=\"middle\" x=\"100.5\" y=\"8\">e</text><text font-family=\"serif\" font-size=\"9.5\" text-anchor=\"middle\" x=\"120.5\" y=\"8\">f</text><text font-family=\"serif\" font-size=\"9.5\" text-anchor=\"middle\" x=\"140.5\" y=\"8\">g</text><text font-family=\"serif\" font-size=\"9.5\" text-anchor=\"middle\" x=\"160.5\" y=\"8\">h</text><text font-family=\"serif\" font-size=\"9.5\" x=\"2.5\" y=\"23.5\">1</text><text font-family=\"serif\" font-size=\"9.5\" x=\"2.5\" y=\"43.5\">2</text><text font-family=\"serif\" font-size=\"9.5\" x=\"2.5\" y=\"63.5\">3</text><text font-family=\"serif\" font-size=\"9.5\" x=\"2.5\" y=\"83.5\">4</text><text font-family=\"serif\" font-size=\"9.5\" x=\"2.5\" y=\"103.5\">5</text><text font-family=\"serif\" font-size=\"9.5\" x=\"2.5\" y=\"123.5\">6</text><text font-family=\"serif\" font-size=\"9.5\" x=\"2.5\" y=\"143.5\">7</text><text font-family=\"serif\" font-size=\"9.5\" x=\"2.5\" y=\"163.5\">8</text></g><use x=\"50.5\" xlink:href=\"#black\" y=\"30.5\"/><use x=\"150.5\" xlink:href=\"#white\" y=\"30.5\"/><use x=\"50.5\" xlink:href=\"#black\" y=\"50.5\"/><use x=\"70.5\" xlink:href=\"#black\" y=\"50.5\"/><use x=\"90.5\" xlink:href=\"#black\" y=\"50.5\"/><use x=\"110.5\" xlink:href=\"#black\" y=\"50.5\"/><use x=\"130.5\" xlink:href=\"#white\" y=\"50.5\"/><use x=\"150.5\" xlink:href=\"#white\" y=\"50.5\"/><use x=\"70.5\" xlink:href=\"#black\" y=\"70.5\"/><use x=\"90.5\" xlink:href=\"#black\" y=\"70.5\"/><use x=\"110.5\" xlink:href=\"#white\" y=\"70.5\"/><use x=\"130.5\" xlink:href=\"#white\" y=\"70.5\"/><use x=\"150.5\" xlink:href=\"#white\" y=\"70.5\"/><use x=\"50.5\" xlink:href=\"#black\" y=\"90.5\"/><use x=\"70.5\" xlink:href=\"#black\" y=\"90.5\"/><use x=\"90.5\" xlink:href=\"#black\" y=\"90.5\"/><use x=\"110.5\" xlink:href=\"#black\" y=\"90.5\"/><use x=\"130.5\" xlink:href=\"#white\" y=\"90.5\"/><use x=\"150.5\" xlink:href=\"#white\" y=\"90.5\"/><use x=\"50.5\" xlink:href=\"#white\" y=\"110.5\"/><use x=\"70.5\" xlink:href=\"#white\" y=\"110.5\"/><use x=\"110.5\" xlink:href=\"#white\" y=\"110.5\"/><use x=\"130.5\" xlink:href=\"#white\" y=\"110.5\"/><use x=\"150.5\" xlink:href=\"#white\" y=\"110.5\"/></svg>",
            "text/plain": [
              "<IPython.core.display.SVG object>"
            ]
          },
          "metadata": {
            "tags": []
          },
          "output_type": "display_data"
        },
        {
          "name": "stdout",
          "output_type": "stream",
          "text": [
            "e7\n",
            "22: white\n"
          ]
        },
        {
          "data": {
            "image/svg+xml": "<svg height=\"215.0\" version=\"1.1\" viewBox=\"0 0 172 172\" width=\"215.0\" xmlns=\"http://www.w3.org/2000/svg\" xmlns:xlink=\"http://www.w3.org/1999/xlink\"><defs><g id=\"black\"><circle cx=\"10\" cy=\"10\" fill=\"black\" r=\"8.5\"/></g><g id=\"white\"><circle cx=\"10\" cy=\"10\" fill=\"white\" r=\"8.5\"/></g></defs><rect fill=\"green\" height=\"161\" width=\"161\" x=\"10\" y=\"10\"/><rect fill=\"#8bbf83\" height=\"20\" width=\"20\" x=\"90.5\" y=\"130.5\"/><g stroke=\"black\"><rect fill=\"none\" height=\"161\" stroke-width=\"1.5\" width=\"161\" x=\"10\" y=\"10\"/><line stroke-width=\"1.0\" x1=\"10.5\" x2=\"170.5\" y1=\"30.5\" y2=\"30.5\"/><line stroke-width=\"1.0\" x1=\"10.5\" x2=\"170.5\" y1=\"50.5\" y2=\"50.5\"/><line stroke-width=\"1.0\" x1=\"10.5\" x2=\"170.5\" y1=\"70.5\" y2=\"70.5\"/><line stroke-width=\"1.0\" x1=\"10.5\" x2=\"170.5\" y1=\"90.5\" y2=\"90.5\"/><line stroke-width=\"1.0\" x1=\"10.5\" x2=\"170.5\" y1=\"110.5\" y2=\"110.5\"/><line stroke-width=\"1.0\" x1=\"10.5\" x2=\"170.5\" y1=\"130.5\" y2=\"130.5\"/><line stroke-width=\"1.0\" x1=\"10.5\" x2=\"170.5\" y1=\"150.5\" y2=\"150.5\"/><line stroke-width=\"1.0\" x1=\"30.5\" x2=\"30.5\" y1=\"10.5\" y2=\"170.5\"/><line stroke-width=\"1.0\" x1=\"50.5\" x2=\"50.5\" y1=\"10.5\" y2=\"170.5\"/><line stroke-width=\"1.0\" x1=\"70.5\" x2=\"70.5\" y1=\"10.5\" y2=\"170.5\"/><line stroke-width=\"1.0\" x1=\"90.5\" x2=\"90.5\" y1=\"10.5\" y2=\"170.5\"/><line stroke-width=\"1.0\" x1=\"110.5\" x2=\"110.5\" y1=\"10.5\" y2=\"170.5\"/><line stroke-width=\"1.0\" x1=\"130.5\" x2=\"130.5\" y1=\"10.5\" y2=\"170.5\"/><line stroke-width=\"1.0\" x1=\"150.5\" x2=\"150.5\" y1=\"10.5\" y2=\"170.5\"/></g><g><text font-family=\"serif\" font-size=\"9.5\" text-anchor=\"middle\" x=\"20.5\" y=\"8\">a</text><text font-family=\"serif\" font-size=\"9.5\" text-anchor=\"middle\" x=\"40.5\" y=\"8\">b</text><text font-family=\"serif\" font-size=\"9.5\" text-anchor=\"middle\" x=\"60.5\" y=\"8\">c</text><text font-family=\"serif\" font-size=\"9.5\" text-anchor=\"middle\" x=\"80.5\" y=\"8\">d</text><text font-family=\"serif\" font-size=\"9.5\" text-anchor=\"middle\" x=\"100.5\" y=\"8\">e</text><text font-family=\"serif\" font-size=\"9.5\" text-anchor=\"middle\" x=\"120.5\" y=\"8\">f</text><text font-family=\"serif\" font-size=\"9.5\" text-anchor=\"middle\" x=\"140.5\" y=\"8\">g</text><text font-family=\"serif\" font-size=\"9.5\" text-anchor=\"middle\" x=\"160.5\" y=\"8\">h</text><text font-family=\"serif\" font-size=\"9.5\" x=\"2.5\" y=\"23.5\">1</text><text font-family=\"serif\" font-size=\"9.5\" x=\"2.5\" y=\"43.5\">2</text><text font-family=\"serif\" font-size=\"9.5\" x=\"2.5\" y=\"63.5\">3</text><text font-family=\"serif\" font-size=\"9.5\" x=\"2.5\" y=\"83.5\">4</text><text font-family=\"serif\" font-size=\"9.5\" x=\"2.5\" y=\"103.5\">5</text><text font-family=\"serif\" font-size=\"9.5\" x=\"2.5\" y=\"123.5\">6</text><text font-family=\"serif\" font-size=\"9.5\" x=\"2.5\" y=\"143.5\">7</text><text font-family=\"serif\" font-size=\"9.5\" x=\"2.5\" y=\"163.5\">8</text></g><use x=\"50.5\" xlink:href=\"#black\" y=\"30.5\"/><use x=\"150.5\" xlink:href=\"#white\" y=\"30.5\"/><use x=\"50.5\" xlink:href=\"#black\" y=\"50.5\"/><use x=\"70.5\" xlink:href=\"#black\" y=\"50.5\"/><use x=\"90.5\" xlink:href=\"#black\" y=\"50.5\"/><use x=\"110.5\" xlink:href=\"#black\" y=\"50.5\"/><use x=\"130.5\" xlink:href=\"#white\" y=\"50.5\"/><use x=\"150.5\" xlink:href=\"#white\" y=\"50.5\"/><use x=\"70.5\" xlink:href=\"#black\" y=\"70.5\"/><use x=\"90.5\" xlink:href=\"#black\" y=\"70.5\"/><use x=\"110.5\" xlink:href=\"#white\" y=\"70.5\"/><use x=\"130.5\" xlink:href=\"#white\" y=\"70.5\"/><use x=\"150.5\" xlink:href=\"#white\" y=\"70.5\"/><use x=\"50.5\" xlink:href=\"#black\" y=\"90.5\"/><use x=\"70.5\" xlink:href=\"#black\" y=\"90.5\"/><use x=\"90.5\" xlink:href=\"#black\" y=\"90.5\"/><use x=\"110.5\" xlink:href=\"#black\" y=\"90.5\"/><use x=\"130.5\" xlink:href=\"#white\" y=\"90.5\"/><use x=\"150.5\" xlink:href=\"#white\" y=\"90.5\"/><use x=\"50.5\" xlink:href=\"#white\" y=\"110.5\"/><use x=\"70.5\" xlink:href=\"#black\" y=\"110.5\"/><use x=\"110.5\" xlink:href=\"#white\" y=\"110.5\"/><use x=\"130.5\" xlink:href=\"#white\" y=\"110.5\"/><use x=\"150.5\" xlink:href=\"#white\" y=\"110.5\"/><use x=\"90.5\" xlink:href=\"#black\" y=\"130.5\"/></svg>",
            "text/plain": [
              "<IPython.core.display.SVG object>"
            ]
          },
          "metadata": {
            "tags": []
          },
          "output_type": "display_data"
        },
        {
          "name": "stdout",
          "output_type": "stream",
          "text": [
            "e6\n",
            "e6\n",
            "23: black\n"
          ]
        },
        {
          "data": {
            "image/svg+xml": "<svg height=\"215.0\" version=\"1.1\" viewBox=\"0 0 172 172\" width=\"215.0\" xmlns=\"http://www.w3.org/2000/svg\" xmlns:xlink=\"http://www.w3.org/1999/xlink\"><defs><g id=\"black\"><circle cx=\"10\" cy=\"10\" fill=\"black\" r=\"8.5\"/></g><g id=\"white\"><circle cx=\"10\" cy=\"10\" fill=\"white\" r=\"8.5\"/></g></defs><rect fill=\"green\" height=\"161\" width=\"161\" x=\"10\" y=\"10\"/><rect fill=\"#8bbf83\" height=\"20\" width=\"20\" x=\"90.5\" y=\"110.5\"/><g stroke=\"black\"><rect fill=\"none\" height=\"161\" stroke-width=\"1.5\" width=\"161\" x=\"10\" y=\"10\"/><line stroke-width=\"1.0\" x1=\"10.5\" x2=\"170.5\" y1=\"30.5\" y2=\"30.5\"/><line stroke-width=\"1.0\" x1=\"10.5\" x2=\"170.5\" y1=\"50.5\" y2=\"50.5\"/><line stroke-width=\"1.0\" x1=\"10.5\" x2=\"170.5\" y1=\"70.5\" y2=\"70.5\"/><line stroke-width=\"1.0\" x1=\"10.5\" x2=\"170.5\" y1=\"90.5\" y2=\"90.5\"/><line stroke-width=\"1.0\" x1=\"10.5\" x2=\"170.5\" y1=\"110.5\" y2=\"110.5\"/><line stroke-width=\"1.0\" x1=\"10.5\" x2=\"170.5\" y1=\"130.5\" y2=\"130.5\"/><line stroke-width=\"1.0\" x1=\"10.5\" x2=\"170.5\" y1=\"150.5\" y2=\"150.5\"/><line stroke-width=\"1.0\" x1=\"30.5\" x2=\"30.5\" y1=\"10.5\" y2=\"170.5\"/><line stroke-width=\"1.0\" x1=\"50.5\" x2=\"50.5\" y1=\"10.5\" y2=\"170.5\"/><line stroke-width=\"1.0\" x1=\"70.5\" x2=\"70.5\" y1=\"10.5\" y2=\"170.5\"/><line stroke-width=\"1.0\" x1=\"90.5\" x2=\"90.5\" y1=\"10.5\" y2=\"170.5\"/><line stroke-width=\"1.0\" x1=\"110.5\" x2=\"110.5\" y1=\"10.5\" y2=\"170.5\"/><line stroke-width=\"1.0\" x1=\"130.5\" x2=\"130.5\" y1=\"10.5\" y2=\"170.5\"/><line stroke-width=\"1.0\" x1=\"150.5\" x2=\"150.5\" y1=\"10.5\" y2=\"170.5\"/></g><g><text font-family=\"serif\" font-size=\"9.5\" text-anchor=\"middle\" x=\"20.5\" y=\"8\">a</text><text font-family=\"serif\" font-size=\"9.5\" text-anchor=\"middle\" x=\"40.5\" y=\"8\">b</text><text font-family=\"serif\" font-size=\"9.5\" text-anchor=\"middle\" x=\"60.5\" y=\"8\">c</text><text font-family=\"serif\" font-size=\"9.5\" text-anchor=\"middle\" x=\"80.5\" y=\"8\">d</text><text font-family=\"serif\" font-size=\"9.5\" text-anchor=\"middle\" x=\"100.5\" y=\"8\">e</text><text font-family=\"serif\" font-size=\"9.5\" text-anchor=\"middle\" x=\"120.5\" y=\"8\">f</text><text font-family=\"serif\" font-size=\"9.5\" text-anchor=\"middle\" x=\"140.5\" y=\"8\">g</text><text font-family=\"serif\" font-size=\"9.5\" text-anchor=\"middle\" x=\"160.5\" y=\"8\">h</text><text font-family=\"serif\" font-size=\"9.5\" x=\"2.5\" y=\"23.5\">1</text><text font-family=\"serif\" font-size=\"9.5\" x=\"2.5\" y=\"43.5\">2</text><text font-family=\"serif\" font-size=\"9.5\" x=\"2.5\" y=\"63.5\">3</text><text font-family=\"serif\" font-size=\"9.5\" x=\"2.5\" y=\"83.5\">4</text><text font-family=\"serif\" font-size=\"9.5\" x=\"2.5\" y=\"103.5\">5</text><text font-family=\"serif\" font-size=\"9.5\" x=\"2.5\" y=\"123.5\">6</text><text font-family=\"serif\" font-size=\"9.5\" x=\"2.5\" y=\"143.5\">7</text><text font-family=\"serif\" font-size=\"9.5\" x=\"2.5\" y=\"163.5\">8</text></g><use x=\"50.5\" xlink:href=\"#black\" y=\"30.5\"/><use x=\"150.5\" xlink:href=\"#white\" y=\"30.5\"/><use x=\"50.5\" xlink:href=\"#black\" y=\"50.5\"/><use x=\"70.5\" xlink:href=\"#black\" y=\"50.5\"/><use x=\"90.5\" xlink:href=\"#black\" y=\"50.5\"/><use x=\"110.5\" xlink:href=\"#black\" y=\"50.5\"/><use x=\"130.5\" xlink:href=\"#white\" y=\"50.5\"/><use x=\"150.5\" xlink:href=\"#white\" y=\"50.5\"/><use x=\"70.5\" xlink:href=\"#black\" y=\"70.5\"/><use x=\"90.5\" xlink:href=\"#black\" y=\"70.5\"/><use x=\"110.5\" xlink:href=\"#white\" y=\"70.5\"/><use x=\"130.5\" xlink:href=\"#white\" y=\"70.5\"/><use x=\"150.5\" xlink:href=\"#white\" y=\"70.5\"/><use x=\"50.5\" xlink:href=\"#black\" y=\"90.5\"/><use x=\"70.5\" xlink:href=\"#black\" y=\"90.5\"/><use x=\"90.5\" xlink:href=\"#black\" y=\"90.5\"/><use x=\"110.5\" xlink:href=\"#white\" y=\"90.5\"/><use x=\"130.5\" xlink:href=\"#white\" y=\"90.5\"/><use x=\"150.5\" xlink:href=\"#white\" y=\"90.5\"/><use x=\"50.5\" xlink:href=\"#white\" y=\"110.5\"/><use x=\"70.5\" xlink:href=\"#white\" y=\"110.5\"/><use x=\"90.5\" xlink:href=\"#white\" y=\"110.5\"/><use x=\"110.5\" xlink:href=\"#white\" y=\"110.5\"/><use x=\"130.5\" xlink:href=\"#white\" y=\"110.5\"/><use x=\"150.5\" xlink:href=\"#white\" y=\"110.5\"/><use x=\"90.5\" xlink:href=\"#black\" y=\"130.5\"/></svg>",
            "text/plain": [
              "<IPython.core.display.SVG object>"
            ]
          },
          "metadata": {
            "tags": []
          },
          "output_type": "display_data"
        },
        {
          "name": "stdout",
          "output_type": "stream",
          "text": [
            "c7\n",
            "24: white\n"
          ]
        },
        {
          "data": {
            "image/svg+xml": "<svg height=\"215.0\" version=\"1.1\" viewBox=\"0 0 172 172\" width=\"215.0\" xmlns=\"http://www.w3.org/2000/svg\" xmlns:xlink=\"http://www.w3.org/1999/xlink\"><defs><g id=\"black\"><circle cx=\"10\" cy=\"10\" fill=\"black\" r=\"8.5\"/></g><g id=\"white\"><circle cx=\"10\" cy=\"10\" fill=\"white\" r=\"8.5\"/></g></defs><rect fill=\"green\" height=\"161\" width=\"161\" x=\"10\" y=\"10\"/><rect fill=\"#8bbf83\" height=\"20\" width=\"20\" x=\"50.5\" y=\"130.5\"/><g stroke=\"black\"><rect fill=\"none\" height=\"161\" stroke-width=\"1.5\" width=\"161\" x=\"10\" y=\"10\"/><line stroke-width=\"1.0\" x1=\"10.5\" x2=\"170.5\" y1=\"30.5\" y2=\"30.5\"/><line stroke-width=\"1.0\" x1=\"10.5\" x2=\"170.5\" y1=\"50.5\" y2=\"50.5\"/><line stroke-width=\"1.0\" x1=\"10.5\" x2=\"170.5\" y1=\"70.5\" y2=\"70.5\"/><line stroke-width=\"1.0\" x1=\"10.5\" x2=\"170.5\" y1=\"90.5\" y2=\"90.5\"/><line stroke-width=\"1.0\" x1=\"10.5\" x2=\"170.5\" y1=\"110.5\" y2=\"110.5\"/><line stroke-width=\"1.0\" x1=\"10.5\" x2=\"170.5\" y1=\"130.5\" y2=\"130.5\"/><line stroke-width=\"1.0\" x1=\"10.5\" x2=\"170.5\" y1=\"150.5\" y2=\"150.5\"/><line stroke-width=\"1.0\" x1=\"30.5\" x2=\"30.5\" y1=\"10.5\" y2=\"170.5\"/><line stroke-width=\"1.0\" x1=\"50.5\" x2=\"50.5\" y1=\"10.5\" y2=\"170.5\"/><line stroke-width=\"1.0\" x1=\"70.5\" x2=\"70.5\" y1=\"10.5\" y2=\"170.5\"/><line stroke-width=\"1.0\" x1=\"90.5\" x2=\"90.5\" y1=\"10.5\" y2=\"170.5\"/><line stroke-width=\"1.0\" x1=\"110.5\" x2=\"110.5\" y1=\"10.5\" y2=\"170.5\"/><line stroke-width=\"1.0\" x1=\"130.5\" x2=\"130.5\" y1=\"10.5\" y2=\"170.5\"/><line stroke-width=\"1.0\" x1=\"150.5\" x2=\"150.5\" y1=\"10.5\" y2=\"170.5\"/></g><g><text font-family=\"serif\" font-size=\"9.5\" text-anchor=\"middle\" x=\"20.5\" y=\"8\">a</text><text font-family=\"serif\" font-size=\"9.5\" text-anchor=\"middle\" x=\"40.5\" y=\"8\">b</text><text font-family=\"serif\" font-size=\"9.5\" text-anchor=\"middle\" x=\"60.5\" y=\"8\">c</text><text font-family=\"serif\" font-size=\"9.5\" text-anchor=\"middle\" x=\"80.5\" y=\"8\">d</text><text font-family=\"serif\" font-size=\"9.5\" text-anchor=\"middle\" x=\"100.5\" y=\"8\">e</text><text font-family=\"serif\" font-size=\"9.5\" text-anchor=\"middle\" x=\"120.5\" y=\"8\">f</text><text font-family=\"serif\" font-size=\"9.5\" text-anchor=\"middle\" x=\"140.5\" y=\"8\">g</text><text font-family=\"serif\" font-size=\"9.5\" text-anchor=\"middle\" x=\"160.5\" y=\"8\">h</text><text font-family=\"serif\" font-size=\"9.5\" x=\"2.5\" y=\"23.5\">1</text><text font-family=\"serif\" font-size=\"9.5\" x=\"2.5\" y=\"43.5\">2</text><text font-family=\"serif\" font-size=\"9.5\" x=\"2.5\" y=\"63.5\">3</text><text font-family=\"serif\" font-size=\"9.5\" x=\"2.5\" y=\"83.5\">4</text><text font-family=\"serif\" font-size=\"9.5\" x=\"2.5\" y=\"103.5\">5</text><text font-family=\"serif\" font-size=\"9.5\" x=\"2.5\" y=\"123.5\">6</text><text font-family=\"serif\" font-size=\"9.5\" x=\"2.5\" y=\"143.5\">7</text><text font-family=\"serif\" font-size=\"9.5\" x=\"2.5\" y=\"163.5\">8</text></g><use x=\"50.5\" xlink:href=\"#black\" y=\"30.5\"/><use x=\"150.5\" xlink:href=\"#white\" y=\"30.5\"/><use x=\"50.5\" xlink:href=\"#black\" y=\"50.5\"/><use x=\"70.5\" xlink:href=\"#black\" y=\"50.5\"/><use x=\"90.5\" xlink:href=\"#black\" y=\"50.5\"/><use x=\"110.5\" xlink:href=\"#black\" y=\"50.5\"/><use x=\"130.5\" xlink:href=\"#white\" y=\"50.5\"/><use x=\"150.5\" xlink:href=\"#white\" y=\"50.5\"/><use x=\"70.5\" xlink:href=\"#black\" y=\"70.5\"/><use x=\"90.5\" xlink:href=\"#black\" y=\"70.5\"/><use x=\"110.5\" xlink:href=\"#white\" y=\"70.5\"/><use x=\"130.5\" xlink:href=\"#white\" y=\"70.5\"/><use x=\"150.5\" xlink:href=\"#white\" y=\"70.5\"/><use x=\"50.5\" xlink:href=\"#black\" y=\"90.5\"/><use x=\"70.5\" xlink:href=\"#black\" y=\"90.5\"/><use x=\"90.5\" xlink:href=\"#black\" y=\"90.5\"/><use x=\"110.5\" xlink:href=\"#white\" y=\"90.5\"/><use x=\"130.5\" xlink:href=\"#white\" y=\"90.5\"/><use x=\"150.5\" xlink:href=\"#white\" y=\"90.5\"/><use x=\"50.5\" xlink:href=\"#black\" y=\"110.5\"/><use x=\"70.5\" xlink:href=\"#black\" y=\"110.5\"/><use x=\"90.5\" xlink:href=\"#white\" y=\"110.5\"/><use x=\"110.5\" xlink:href=\"#white\" y=\"110.5\"/><use x=\"130.5\" xlink:href=\"#white\" y=\"110.5\"/><use x=\"150.5\" xlink:href=\"#white\" y=\"110.5\"/><use x=\"50.5\" xlink:href=\"#black\" y=\"130.5\"/><use x=\"90.5\" xlink:href=\"#black\" y=\"130.5\"/></svg>",
            "text/plain": [
              "<IPython.core.display.SVG object>"
            ]
          },
          "metadata": {
            "tags": []
          },
          "output_type": "display_data"
        },
        {
          "name": "stdout",
          "output_type": "stream",
          "text": [
            "e8\n",
            "e8\n",
            "25: black\n"
          ]
        },
        {
          "data": {
            "image/svg+xml": "<svg height=\"215.0\" version=\"1.1\" viewBox=\"0 0 172 172\" width=\"215.0\" xmlns=\"http://www.w3.org/2000/svg\" xmlns:xlink=\"http://www.w3.org/1999/xlink\"><defs><g id=\"black\"><circle cx=\"10\" cy=\"10\" fill=\"black\" r=\"8.5\"/></g><g id=\"white\"><circle cx=\"10\" cy=\"10\" fill=\"white\" r=\"8.5\"/></g></defs><rect fill=\"green\" height=\"161\" width=\"161\" x=\"10\" y=\"10\"/><rect fill=\"#8bbf83\" height=\"20\" width=\"20\" x=\"90.5\" y=\"150.5\"/><g stroke=\"black\"><rect fill=\"none\" height=\"161\" stroke-width=\"1.5\" width=\"161\" x=\"10\" y=\"10\"/><line stroke-width=\"1.0\" x1=\"10.5\" x2=\"170.5\" y1=\"30.5\" y2=\"30.5\"/><line stroke-width=\"1.0\" x1=\"10.5\" x2=\"170.5\" y1=\"50.5\" y2=\"50.5\"/><line stroke-width=\"1.0\" x1=\"10.5\" x2=\"170.5\" y1=\"70.5\" y2=\"70.5\"/><line stroke-width=\"1.0\" x1=\"10.5\" x2=\"170.5\" y1=\"90.5\" y2=\"90.5\"/><line stroke-width=\"1.0\" x1=\"10.5\" x2=\"170.5\" y1=\"110.5\" y2=\"110.5\"/><line stroke-width=\"1.0\" x1=\"10.5\" x2=\"170.5\" y1=\"130.5\" y2=\"130.5\"/><line stroke-width=\"1.0\" x1=\"10.5\" x2=\"170.5\" y1=\"150.5\" y2=\"150.5\"/><line stroke-width=\"1.0\" x1=\"30.5\" x2=\"30.5\" y1=\"10.5\" y2=\"170.5\"/><line stroke-width=\"1.0\" x1=\"50.5\" x2=\"50.5\" y1=\"10.5\" y2=\"170.5\"/><line stroke-width=\"1.0\" x1=\"70.5\" x2=\"70.5\" y1=\"10.5\" y2=\"170.5\"/><line stroke-width=\"1.0\" x1=\"90.5\" x2=\"90.5\" y1=\"10.5\" y2=\"170.5\"/><line stroke-width=\"1.0\" x1=\"110.5\" x2=\"110.5\" y1=\"10.5\" y2=\"170.5\"/><line stroke-width=\"1.0\" x1=\"130.5\" x2=\"130.5\" y1=\"10.5\" y2=\"170.5\"/><line stroke-width=\"1.0\" x1=\"150.5\" x2=\"150.5\" y1=\"10.5\" y2=\"170.5\"/></g><g><text font-family=\"serif\" font-size=\"9.5\" text-anchor=\"middle\" x=\"20.5\" y=\"8\">a</text><text font-family=\"serif\" font-size=\"9.5\" text-anchor=\"middle\" x=\"40.5\" y=\"8\">b</text><text font-family=\"serif\" font-size=\"9.5\" text-anchor=\"middle\" x=\"60.5\" y=\"8\">c</text><text font-family=\"serif\" font-size=\"9.5\" text-anchor=\"middle\" x=\"80.5\" y=\"8\">d</text><text font-family=\"serif\" font-size=\"9.5\" text-anchor=\"middle\" x=\"100.5\" y=\"8\">e</text><text font-family=\"serif\" font-size=\"9.5\" text-anchor=\"middle\" x=\"120.5\" y=\"8\">f</text><text font-family=\"serif\" font-size=\"9.5\" text-anchor=\"middle\" x=\"140.5\" y=\"8\">g</text><text font-family=\"serif\" font-size=\"9.5\" text-anchor=\"middle\" x=\"160.5\" y=\"8\">h</text><text font-family=\"serif\" font-size=\"9.5\" x=\"2.5\" y=\"23.5\">1</text><text font-family=\"serif\" font-size=\"9.5\" x=\"2.5\" y=\"43.5\">2</text><text font-family=\"serif\" font-size=\"9.5\" x=\"2.5\" y=\"63.5\">3</text><text font-family=\"serif\" font-size=\"9.5\" x=\"2.5\" y=\"83.5\">4</text><text font-family=\"serif\" font-size=\"9.5\" x=\"2.5\" y=\"103.5\">5</text><text font-family=\"serif\" font-size=\"9.5\" x=\"2.5\" y=\"123.5\">6</text><text font-family=\"serif\" font-size=\"9.5\" x=\"2.5\" y=\"143.5\">7</text><text font-family=\"serif\" font-size=\"9.5\" x=\"2.5\" y=\"163.5\">8</text></g><use x=\"50.5\" xlink:href=\"#black\" y=\"30.5\"/><use x=\"150.5\" xlink:href=\"#white\" y=\"30.5\"/><use x=\"50.5\" xlink:href=\"#black\" y=\"50.5\"/><use x=\"70.5\" xlink:href=\"#black\" y=\"50.5\"/><use x=\"90.5\" xlink:href=\"#black\" y=\"50.5\"/><use x=\"110.5\" xlink:href=\"#black\" y=\"50.5\"/><use x=\"130.5\" xlink:href=\"#white\" y=\"50.5\"/><use x=\"150.5\" xlink:href=\"#white\" y=\"50.5\"/><use x=\"70.5\" xlink:href=\"#black\" y=\"70.5\"/><use x=\"90.5\" xlink:href=\"#black\" y=\"70.5\"/><use x=\"110.5\" xlink:href=\"#white\" y=\"70.5\"/><use x=\"130.5\" xlink:href=\"#white\" y=\"70.5\"/><use x=\"150.5\" xlink:href=\"#white\" y=\"70.5\"/><use x=\"50.5\" xlink:href=\"#black\" y=\"90.5\"/><use x=\"70.5\" xlink:href=\"#black\" y=\"90.5\"/><use x=\"90.5\" xlink:href=\"#black\" y=\"90.5\"/><use x=\"110.5\" xlink:href=\"#white\" y=\"90.5\"/><use x=\"130.5\" xlink:href=\"#white\" y=\"90.5\"/><use x=\"150.5\" xlink:href=\"#white\" y=\"90.5\"/><use x=\"50.5\" xlink:href=\"#black\" y=\"110.5\"/><use x=\"70.5\" xlink:href=\"#black\" y=\"110.5\"/><use x=\"90.5\" xlink:href=\"#white\" y=\"110.5\"/><use x=\"110.5\" xlink:href=\"#white\" y=\"110.5\"/><use x=\"130.5\" xlink:href=\"#white\" y=\"110.5\"/><use x=\"150.5\" xlink:href=\"#white\" y=\"110.5\"/><use x=\"50.5\" xlink:href=\"#black\" y=\"130.5\"/><use x=\"90.5\" xlink:href=\"#white\" y=\"130.5\"/><use x=\"90.5\" xlink:href=\"#white\" y=\"150.5\"/></svg>",
            "text/plain": [
              "<IPython.core.display.SVG object>"
            ]
          },
          "metadata": {
            "tags": []
          },
          "output_type": "display_data"
        },
        {
          "name": "stdout",
          "output_type": "stream",
          "text": [
            "f8\n",
            "26: white\n"
          ]
        },
        {
          "data": {
            "image/svg+xml": "<svg height=\"215.0\" version=\"1.1\" viewBox=\"0 0 172 172\" width=\"215.0\" xmlns=\"http://www.w3.org/2000/svg\" xmlns:xlink=\"http://www.w3.org/1999/xlink\"><defs><g id=\"black\"><circle cx=\"10\" cy=\"10\" fill=\"black\" r=\"8.5\"/></g><g id=\"white\"><circle cx=\"10\" cy=\"10\" fill=\"white\" r=\"8.5\"/></g></defs><rect fill=\"green\" height=\"161\" width=\"161\" x=\"10\" y=\"10\"/><rect fill=\"#8bbf83\" height=\"20\" width=\"20\" x=\"110.5\" y=\"150.5\"/><g stroke=\"black\"><rect fill=\"none\" height=\"161\" stroke-width=\"1.5\" width=\"161\" x=\"10\" y=\"10\"/><line stroke-width=\"1.0\" x1=\"10.5\" x2=\"170.5\" y1=\"30.5\" y2=\"30.5\"/><line stroke-width=\"1.0\" x1=\"10.5\" x2=\"170.5\" y1=\"50.5\" y2=\"50.5\"/><line stroke-width=\"1.0\" x1=\"10.5\" x2=\"170.5\" y1=\"70.5\" y2=\"70.5\"/><line stroke-width=\"1.0\" x1=\"10.5\" x2=\"170.5\" y1=\"90.5\" y2=\"90.5\"/><line stroke-width=\"1.0\" x1=\"10.5\" x2=\"170.5\" y1=\"110.5\" y2=\"110.5\"/><line stroke-width=\"1.0\" x1=\"10.5\" x2=\"170.5\" y1=\"130.5\" y2=\"130.5\"/><line stroke-width=\"1.0\" x1=\"10.5\" x2=\"170.5\" y1=\"150.5\" y2=\"150.5\"/><line stroke-width=\"1.0\" x1=\"30.5\" x2=\"30.5\" y1=\"10.5\" y2=\"170.5\"/><line stroke-width=\"1.0\" x1=\"50.5\" x2=\"50.5\" y1=\"10.5\" y2=\"170.5\"/><line stroke-width=\"1.0\" x1=\"70.5\" x2=\"70.5\" y1=\"10.5\" y2=\"170.5\"/><line stroke-width=\"1.0\" x1=\"90.5\" x2=\"90.5\" y1=\"10.5\" y2=\"170.5\"/><line stroke-width=\"1.0\" x1=\"110.5\" x2=\"110.5\" y1=\"10.5\" y2=\"170.5\"/><line stroke-width=\"1.0\" x1=\"130.5\" x2=\"130.5\" y1=\"10.5\" y2=\"170.5\"/><line stroke-width=\"1.0\" x1=\"150.5\" x2=\"150.5\" y1=\"10.5\" y2=\"170.5\"/></g><g><text font-family=\"serif\" font-size=\"9.5\" text-anchor=\"middle\" x=\"20.5\" y=\"8\">a</text><text font-family=\"serif\" font-size=\"9.5\" text-anchor=\"middle\" x=\"40.5\" y=\"8\">b</text><text font-family=\"serif\" font-size=\"9.5\" text-anchor=\"middle\" x=\"60.5\" y=\"8\">c</text><text font-family=\"serif\" font-size=\"9.5\" text-anchor=\"middle\" x=\"80.5\" y=\"8\">d</text><text font-family=\"serif\" font-size=\"9.5\" text-anchor=\"middle\" x=\"100.5\" y=\"8\">e</text><text font-family=\"serif\" font-size=\"9.5\" text-anchor=\"middle\" x=\"120.5\" y=\"8\">f</text><text font-family=\"serif\" font-size=\"9.5\" text-anchor=\"middle\" x=\"140.5\" y=\"8\">g</text><text font-family=\"serif\" font-size=\"9.5\" text-anchor=\"middle\" x=\"160.5\" y=\"8\">h</text><text font-family=\"serif\" font-size=\"9.5\" x=\"2.5\" y=\"23.5\">1</text><text font-family=\"serif\" font-size=\"9.5\" x=\"2.5\" y=\"43.5\">2</text><text font-family=\"serif\" font-size=\"9.5\" x=\"2.5\" y=\"63.5\">3</text><text font-family=\"serif\" font-size=\"9.5\" x=\"2.5\" y=\"83.5\">4</text><text font-family=\"serif\" font-size=\"9.5\" x=\"2.5\" y=\"103.5\">5</text><text font-family=\"serif\" font-size=\"9.5\" x=\"2.5\" y=\"123.5\">6</text><text font-family=\"serif\" font-size=\"9.5\" x=\"2.5\" y=\"143.5\">7</text><text font-family=\"serif\" font-size=\"9.5\" x=\"2.5\" y=\"163.5\">8</text></g><use x=\"50.5\" xlink:href=\"#black\" y=\"30.5\"/><use x=\"150.5\" xlink:href=\"#white\" y=\"30.5\"/><use x=\"50.5\" xlink:href=\"#black\" y=\"50.5\"/><use x=\"70.5\" xlink:href=\"#black\" y=\"50.5\"/><use x=\"90.5\" xlink:href=\"#black\" y=\"50.5\"/><use x=\"110.5\" xlink:href=\"#black\" y=\"50.5\"/><use x=\"130.5\" xlink:href=\"#white\" y=\"50.5\"/><use x=\"150.5\" xlink:href=\"#white\" y=\"50.5\"/><use x=\"70.5\" xlink:href=\"#black\" y=\"70.5\"/><use x=\"90.5\" xlink:href=\"#black\" y=\"70.5\"/><use x=\"110.5\" xlink:href=\"#white\" y=\"70.5\"/><use x=\"130.5\" xlink:href=\"#white\" y=\"70.5\"/><use x=\"150.5\" xlink:href=\"#white\" y=\"70.5\"/><use x=\"50.5\" xlink:href=\"#black\" y=\"90.5\"/><use x=\"70.5\" xlink:href=\"#black\" y=\"90.5\"/><use x=\"90.5\" xlink:href=\"#black\" y=\"90.5\"/><use x=\"110.5\" xlink:href=\"#white\" y=\"90.5\"/><use x=\"130.5\" xlink:href=\"#white\" y=\"90.5\"/><use x=\"150.5\" xlink:href=\"#white\" y=\"90.5\"/><use x=\"50.5\" xlink:href=\"#black\" y=\"110.5\"/><use x=\"70.5\" xlink:href=\"#black\" y=\"110.5\"/><use x=\"90.5\" xlink:href=\"#white\" y=\"110.5\"/><use x=\"110.5\" xlink:href=\"#white\" y=\"110.5\"/><use x=\"130.5\" xlink:href=\"#white\" y=\"110.5\"/><use x=\"150.5\" xlink:href=\"#white\" y=\"110.5\"/><use x=\"50.5\" xlink:href=\"#black\" y=\"130.5\"/><use x=\"90.5\" xlink:href=\"#black\" y=\"130.5\"/><use x=\"90.5\" xlink:href=\"#white\" y=\"150.5\"/><use x=\"110.5\" xlink:href=\"#black\" y=\"150.5\"/></svg>",
            "text/plain": [
              "<IPython.core.display.SVG object>"
            ]
          },
          "metadata": {
            "tags": []
          },
          "output_type": "display_data"
        },
        {
          "name": "stdout",
          "output_type": "stream",
          "text": [
            "g8\n",
            "g8\n",
            "27: black\n"
          ]
        },
        {
          "data": {
            "image/svg+xml": "<svg height=\"215.0\" version=\"1.1\" viewBox=\"0 0 172 172\" width=\"215.0\" xmlns=\"http://www.w3.org/2000/svg\" xmlns:xlink=\"http://www.w3.org/1999/xlink\"><defs><g id=\"black\"><circle cx=\"10\" cy=\"10\" fill=\"black\" r=\"8.5\"/></g><g id=\"white\"><circle cx=\"10\" cy=\"10\" fill=\"white\" r=\"8.5\"/></g></defs><rect fill=\"green\" height=\"161\" width=\"161\" x=\"10\" y=\"10\"/><rect fill=\"#8bbf83\" height=\"20\" width=\"20\" x=\"130.5\" y=\"150.5\"/><g stroke=\"black\"><rect fill=\"none\" height=\"161\" stroke-width=\"1.5\" width=\"161\" x=\"10\" y=\"10\"/><line stroke-width=\"1.0\" x1=\"10.5\" x2=\"170.5\" y1=\"30.5\" y2=\"30.5\"/><line stroke-width=\"1.0\" x1=\"10.5\" x2=\"170.5\" y1=\"50.5\" y2=\"50.5\"/><line stroke-width=\"1.0\" x1=\"10.5\" x2=\"170.5\" y1=\"70.5\" y2=\"70.5\"/><line stroke-width=\"1.0\" x1=\"10.5\" x2=\"170.5\" y1=\"90.5\" y2=\"90.5\"/><line stroke-width=\"1.0\" x1=\"10.5\" x2=\"170.5\" y1=\"110.5\" y2=\"110.5\"/><line stroke-width=\"1.0\" x1=\"10.5\" x2=\"170.5\" y1=\"130.5\" y2=\"130.5\"/><line stroke-width=\"1.0\" x1=\"10.5\" x2=\"170.5\" y1=\"150.5\" y2=\"150.5\"/><line stroke-width=\"1.0\" x1=\"30.5\" x2=\"30.5\" y1=\"10.5\" y2=\"170.5\"/><line stroke-width=\"1.0\" x1=\"50.5\" x2=\"50.5\" y1=\"10.5\" y2=\"170.5\"/><line stroke-width=\"1.0\" x1=\"70.5\" x2=\"70.5\" y1=\"10.5\" y2=\"170.5\"/><line stroke-width=\"1.0\" x1=\"90.5\" x2=\"90.5\" y1=\"10.5\" y2=\"170.5\"/><line stroke-width=\"1.0\" x1=\"110.5\" x2=\"110.5\" y1=\"10.5\" y2=\"170.5\"/><line stroke-width=\"1.0\" x1=\"130.5\" x2=\"130.5\" y1=\"10.5\" y2=\"170.5\"/><line stroke-width=\"1.0\" x1=\"150.5\" x2=\"150.5\" y1=\"10.5\" y2=\"170.5\"/></g><g><text font-family=\"serif\" font-size=\"9.5\" text-anchor=\"middle\" x=\"20.5\" y=\"8\">a</text><text font-family=\"serif\" font-size=\"9.5\" text-anchor=\"middle\" x=\"40.5\" y=\"8\">b</text><text font-family=\"serif\" font-size=\"9.5\" text-anchor=\"middle\" x=\"60.5\" y=\"8\">c</text><text font-family=\"serif\" font-size=\"9.5\" text-anchor=\"middle\" x=\"80.5\" y=\"8\">d</text><text font-family=\"serif\" font-size=\"9.5\" text-anchor=\"middle\" x=\"100.5\" y=\"8\">e</text><text font-family=\"serif\" font-size=\"9.5\" text-anchor=\"middle\" x=\"120.5\" y=\"8\">f</text><text font-family=\"serif\" font-size=\"9.5\" text-anchor=\"middle\" x=\"140.5\" y=\"8\">g</text><text font-family=\"serif\" font-size=\"9.5\" text-anchor=\"middle\" x=\"160.5\" y=\"8\">h</text><text font-family=\"serif\" font-size=\"9.5\" x=\"2.5\" y=\"23.5\">1</text><text font-family=\"serif\" font-size=\"9.5\" x=\"2.5\" y=\"43.5\">2</text><text font-family=\"serif\" font-size=\"9.5\" x=\"2.5\" y=\"63.5\">3</text><text font-family=\"serif\" font-size=\"9.5\" x=\"2.5\" y=\"83.5\">4</text><text font-family=\"serif\" font-size=\"9.5\" x=\"2.5\" y=\"103.5\">5</text><text font-family=\"serif\" font-size=\"9.5\" x=\"2.5\" y=\"123.5\">6</text><text font-family=\"serif\" font-size=\"9.5\" x=\"2.5\" y=\"143.5\">7</text><text font-family=\"serif\" font-size=\"9.5\" x=\"2.5\" y=\"163.5\">8</text></g><use x=\"50.5\" xlink:href=\"#black\" y=\"30.5\"/><use x=\"150.5\" xlink:href=\"#white\" y=\"30.5\"/><use x=\"50.5\" xlink:href=\"#black\" y=\"50.5\"/><use x=\"70.5\" xlink:href=\"#black\" y=\"50.5\"/><use x=\"90.5\" xlink:href=\"#black\" y=\"50.5\"/><use x=\"110.5\" xlink:href=\"#black\" y=\"50.5\"/><use x=\"130.5\" xlink:href=\"#white\" y=\"50.5\"/><use x=\"150.5\" xlink:href=\"#white\" y=\"50.5\"/><use x=\"70.5\" xlink:href=\"#black\" y=\"70.5\"/><use x=\"90.5\" xlink:href=\"#black\" y=\"70.5\"/><use x=\"110.5\" xlink:href=\"#white\" y=\"70.5\"/><use x=\"130.5\" xlink:href=\"#white\" y=\"70.5\"/><use x=\"150.5\" xlink:href=\"#white\" y=\"70.5\"/><use x=\"50.5\" xlink:href=\"#black\" y=\"90.5\"/><use x=\"70.5\" xlink:href=\"#black\" y=\"90.5\"/><use x=\"90.5\" xlink:href=\"#black\" y=\"90.5\"/><use x=\"110.5\" xlink:href=\"#white\" y=\"90.5\"/><use x=\"130.5\" xlink:href=\"#white\" y=\"90.5\"/><use x=\"150.5\" xlink:href=\"#white\" y=\"90.5\"/><use x=\"50.5\" xlink:href=\"#black\" y=\"110.5\"/><use x=\"70.5\" xlink:href=\"#black\" y=\"110.5\"/><use x=\"90.5\" xlink:href=\"#white\" y=\"110.5\"/><use x=\"110.5\" xlink:href=\"#white\" y=\"110.5\"/><use x=\"130.5\" xlink:href=\"#white\" y=\"110.5\"/><use x=\"150.5\" xlink:href=\"#white\" y=\"110.5\"/><use x=\"50.5\" xlink:href=\"#black\" y=\"130.5\"/><use x=\"90.5\" xlink:href=\"#black\" y=\"130.5\"/><use x=\"90.5\" xlink:href=\"#white\" y=\"150.5\"/><use x=\"110.5\" xlink:href=\"#white\" y=\"150.5\"/><use x=\"130.5\" xlink:href=\"#white\" y=\"150.5\"/></svg>",
            "text/plain": [
              "<IPython.core.display.SVG object>"
            ]
          },
          "metadata": {
            "tags": []
          },
          "output_type": "display_data"
        },
        {
          "name": "stdout",
          "output_type": "stream",
          "text": [
            "f7\n",
            "28: white\n"
          ]
        },
        {
          "data": {
            "image/svg+xml": "<svg height=\"215.0\" version=\"1.1\" viewBox=\"0 0 172 172\" width=\"215.0\" xmlns=\"http://www.w3.org/2000/svg\" xmlns:xlink=\"http://www.w3.org/1999/xlink\"><defs><g id=\"black\"><circle cx=\"10\" cy=\"10\" fill=\"black\" r=\"8.5\"/></g><g id=\"white\"><circle cx=\"10\" cy=\"10\" fill=\"white\" r=\"8.5\"/></g></defs><rect fill=\"green\" height=\"161\" width=\"161\" x=\"10\" y=\"10\"/><rect fill=\"#8bbf83\" height=\"20\" width=\"20\" x=\"110.5\" y=\"130.5\"/><g stroke=\"black\"><rect fill=\"none\" height=\"161\" stroke-width=\"1.5\" width=\"161\" x=\"10\" y=\"10\"/><line stroke-width=\"1.0\" x1=\"10.5\" x2=\"170.5\" y1=\"30.5\" y2=\"30.5\"/><line stroke-width=\"1.0\" x1=\"10.5\" x2=\"170.5\" y1=\"50.5\" y2=\"50.5\"/><line stroke-width=\"1.0\" x1=\"10.5\" x2=\"170.5\" y1=\"70.5\" y2=\"70.5\"/><line stroke-width=\"1.0\" x1=\"10.5\" x2=\"170.5\" y1=\"90.5\" y2=\"90.5\"/><line stroke-width=\"1.0\" x1=\"10.5\" x2=\"170.5\" y1=\"110.5\" y2=\"110.5\"/><line stroke-width=\"1.0\" x1=\"10.5\" x2=\"170.5\" y1=\"130.5\" y2=\"130.5\"/><line stroke-width=\"1.0\" x1=\"10.5\" x2=\"170.5\" y1=\"150.5\" y2=\"150.5\"/><line stroke-width=\"1.0\" x1=\"30.5\" x2=\"30.5\" y1=\"10.5\" y2=\"170.5\"/><line stroke-width=\"1.0\" x1=\"50.5\" x2=\"50.5\" y1=\"10.5\" y2=\"170.5\"/><line stroke-width=\"1.0\" x1=\"70.5\" x2=\"70.5\" y1=\"10.5\" y2=\"170.5\"/><line stroke-width=\"1.0\" x1=\"90.5\" x2=\"90.5\" y1=\"10.5\" y2=\"170.5\"/><line stroke-width=\"1.0\" x1=\"110.5\" x2=\"110.5\" y1=\"10.5\" y2=\"170.5\"/><line stroke-width=\"1.0\" x1=\"130.5\" x2=\"130.5\" y1=\"10.5\" y2=\"170.5\"/><line stroke-width=\"1.0\" x1=\"150.5\" x2=\"150.5\" y1=\"10.5\" y2=\"170.5\"/></g><g><text font-family=\"serif\" font-size=\"9.5\" text-anchor=\"middle\" x=\"20.5\" y=\"8\">a</text><text font-family=\"serif\" font-size=\"9.5\" text-anchor=\"middle\" x=\"40.5\" y=\"8\">b</text><text font-family=\"serif\" font-size=\"9.5\" text-anchor=\"middle\" x=\"60.5\" y=\"8\">c</text><text font-family=\"serif\" font-size=\"9.5\" text-anchor=\"middle\" x=\"80.5\" y=\"8\">d</text><text font-family=\"serif\" font-size=\"9.5\" text-anchor=\"middle\" x=\"100.5\" y=\"8\">e</text><text font-family=\"serif\" font-size=\"9.5\" text-anchor=\"middle\" x=\"120.5\" y=\"8\">f</text><text font-family=\"serif\" font-size=\"9.5\" text-anchor=\"middle\" x=\"140.5\" y=\"8\">g</text><text font-family=\"serif\" font-size=\"9.5\" text-anchor=\"middle\" x=\"160.5\" y=\"8\">h</text><text font-family=\"serif\" font-size=\"9.5\" x=\"2.5\" y=\"23.5\">1</text><text font-family=\"serif\" font-size=\"9.5\" x=\"2.5\" y=\"43.5\">2</text><text font-family=\"serif\" font-size=\"9.5\" x=\"2.5\" y=\"63.5\">3</text><text font-family=\"serif\" font-size=\"9.5\" x=\"2.5\" y=\"83.5\">4</text><text font-family=\"serif\" font-size=\"9.5\" x=\"2.5\" y=\"103.5\">5</text><text font-family=\"serif\" font-size=\"9.5\" x=\"2.5\" y=\"123.5\">6</text><text font-family=\"serif\" font-size=\"9.5\" x=\"2.5\" y=\"143.5\">7</text><text font-family=\"serif\" font-size=\"9.5\" x=\"2.5\" y=\"163.5\">8</text></g><use x=\"50.5\" xlink:href=\"#black\" y=\"30.5\"/><use x=\"150.5\" xlink:href=\"#white\" y=\"30.5\"/><use x=\"50.5\" xlink:href=\"#black\" y=\"50.5\"/><use x=\"70.5\" xlink:href=\"#black\" y=\"50.5\"/><use x=\"90.5\" xlink:href=\"#black\" y=\"50.5\"/><use x=\"110.5\" xlink:href=\"#black\" y=\"50.5\"/><use x=\"130.5\" xlink:href=\"#white\" y=\"50.5\"/><use x=\"150.5\" xlink:href=\"#white\" y=\"50.5\"/><use x=\"70.5\" xlink:href=\"#black\" y=\"70.5\"/><use x=\"90.5\" xlink:href=\"#black\" y=\"70.5\"/><use x=\"110.5\" xlink:href=\"#black\" y=\"70.5\"/><use x=\"130.5\" xlink:href=\"#white\" y=\"70.5\"/><use x=\"150.5\" xlink:href=\"#white\" y=\"70.5\"/><use x=\"50.5\" xlink:href=\"#black\" y=\"90.5\"/><use x=\"70.5\" xlink:href=\"#black\" y=\"90.5\"/><use x=\"90.5\" xlink:href=\"#black\" y=\"90.5\"/><use x=\"110.5\" xlink:href=\"#black\" y=\"90.5\"/><use x=\"130.5\" xlink:href=\"#white\" y=\"90.5\"/><use x=\"150.5\" xlink:href=\"#white\" y=\"90.5\"/><use x=\"50.5\" xlink:href=\"#black\" y=\"110.5\"/><use x=\"70.5\" xlink:href=\"#black\" y=\"110.5\"/><use x=\"90.5\" xlink:href=\"#black\" y=\"110.5\"/><use x=\"110.5\" xlink:href=\"#black\" y=\"110.5\"/><use x=\"130.5\" xlink:href=\"#white\" y=\"110.5\"/><use x=\"150.5\" xlink:href=\"#white\" y=\"110.5\"/><use x=\"50.5\" xlink:href=\"#black\" y=\"130.5\"/><use x=\"90.5\" xlink:href=\"#black\" y=\"130.5\"/><use x=\"110.5\" xlink:href=\"#black\" y=\"130.5\"/><use x=\"90.5\" xlink:href=\"#white\" y=\"150.5\"/><use x=\"110.5\" xlink:href=\"#white\" y=\"150.5\"/><use x=\"130.5\" xlink:href=\"#white\" y=\"150.5\"/></svg>",
            "text/plain": [
              "<IPython.core.display.SVG object>"
            ]
          },
          "metadata": {
            "tags": []
          },
          "output_type": "display_data"
        },
        {
          "name": "stdout",
          "output_type": "stream",
          "text": [
            "d8\n",
            "d8\n",
            "29: black\n"
          ]
        },
        {
          "data": {
            "image/svg+xml": "<svg height=\"215.0\" version=\"1.1\" viewBox=\"0 0 172 172\" width=\"215.0\" xmlns=\"http://www.w3.org/2000/svg\" xmlns:xlink=\"http://www.w3.org/1999/xlink\"><defs><g id=\"black\"><circle cx=\"10\" cy=\"10\" fill=\"black\" r=\"8.5\"/></g><g id=\"white\"><circle cx=\"10\" cy=\"10\" fill=\"white\" r=\"8.5\"/></g></defs><rect fill=\"green\" height=\"161\" width=\"161\" x=\"10\" y=\"10\"/><rect fill=\"#8bbf83\" height=\"20\" width=\"20\" x=\"70.5\" y=\"150.5\"/><g stroke=\"black\"><rect fill=\"none\" height=\"161\" stroke-width=\"1.5\" width=\"161\" x=\"10\" y=\"10\"/><line stroke-width=\"1.0\" x1=\"10.5\" x2=\"170.5\" y1=\"30.5\" y2=\"30.5\"/><line stroke-width=\"1.0\" x1=\"10.5\" x2=\"170.5\" y1=\"50.5\" y2=\"50.5\"/><line stroke-width=\"1.0\" x1=\"10.5\" x2=\"170.5\" y1=\"70.5\" y2=\"70.5\"/><line stroke-width=\"1.0\" x1=\"10.5\" x2=\"170.5\" y1=\"90.5\" y2=\"90.5\"/><line stroke-width=\"1.0\" x1=\"10.5\" x2=\"170.5\" y1=\"110.5\" y2=\"110.5\"/><line stroke-width=\"1.0\" x1=\"10.5\" x2=\"170.5\" y1=\"130.5\" y2=\"130.5\"/><line stroke-width=\"1.0\" x1=\"10.5\" x2=\"170.5\" y1=\"150.5\" y2=\"150.5\"/><line stroke-width=\"1.0\" x1=\"30.5\" x2=\"30.5\" y1=\"10.5\" y2=\"170.5\"/><line stroke-width=\"1.0\" x1=\"50.5\" x2=\"50.5\" y1=\"10.5\" y2=\"170.5\"/><line stroke-width=\"1.0\" x1=\"70.5\" x2=\"70.5\" y1=\"10.5\" y2=\"170.5\"/><line stroke-width=\"1.0\" x1=\"90.5\" x2=\"90.5\" y1=\"10.5\" y2=\"170.5\"/><line stroke-width=\"1.0\" x1=\"110.5\" x2=\"110.5\" y1=\"10.5\" y2=\"170.5\"/><line stroke-width=\"1.0\" x1=\"130.5\" x2=\"130.5\" y1=\"10.5\" y2=\"170.5\"/><line stroke-width=\"1.0\" x1=\"150.5\" x2=\"150.5\" y1=\"10.5\" y2=\"170.5\"/></g><g><text font-family=\"serif\" font-size=\"9.5\" text-anchor=\"middle\" x=\"20.5\" y=\"8\">a</text><text font-family=\"serif\" font-size=\"9.5\" text-anchor=\"middle\" x=\"40.5\" y=\"8\">b</text><text font-family=\"serif\" font-size=\"9.5\" text-anchor=\"middle\" x=\"60.5\" y=\"8\">c</text><text font-family=\"serif\" font-size=\"9.5\" text-anchor=\"middle\" x=\"80.5\" y=\"8\">d</text><text font-family=\"serif\" font-size=\"9.5\" text-anchor=\"middle\" x=\"100.5\" y=\"8\">e</text><text font-family=\"serif\" font-size=\"9.5\" text-anchor=\"middle\" x=\"120.5\" y=\"8\">f</text><text font-family=\"serif\" font-size=\"9.5\" text-anchor=\"middle\" x=\"140.5\" y=\"8\">g</text><text font-family=\"serif\" font-size=\"9.5\" text-anchor=\"middle\" x=\"160.5\" y=\"8\">h</text><text font-family=\"serif\" font-size=\"9.5\" x=\"2.5\" y=\"23.5\">1</text><text font-family=\"serif\" font-size=\"9.5\" x=\"2.5\" y=\"43.5\">2</text><text font-family=\"serif\" font-size=\"9.5\" x=\"2.5\" y=\"63.5\">3</text><text font-family=\"serif\" font-size=\"9.5\" x=\"2.5\" y=\"83.5\">4</text><text font-family=\"serif\" font-size=\"9.5\" x=\"2.5\" y=\"103.5\">5</text><text font-family=\"serif\" font-size=\"9.5\" x=\"2.5\" y=\"123.5\">6</text><text font-family=\"serif\" font-size=\"9.5\" x=\"2.5\" y=\"143.5\">7</text><text font-family=\"serif\" font-size=\"9.5\" x=\"2.5\" y=\"163.5\">8</text></g><use x=\"50.5\" xlink:href=\"#black\" y=\"30.5\"/><use x=\"150.5\" xlink:href=\"#white\" y=\"30.5\"/><use x=\"50.5\" xlink:href=\"#black\" y=\"50.5\"/><use x=\"70.5\" xlink:href=\"#black\" y=\"50.5\"/><use x=\"90.5\" xlink:href=\"#black\" y=\"50.5\"/><use x=\"110.5\" xlink:href=\"#black\" y=\"50.5\"/><use x=\"130.5\" xlink:href=\"#white\" y=\"50.5\"/><use x=\"150.5\" xlink:href=\"#white\" y=\"50.5\"/><use x=\"70.5\" xlink:href=\"#black\" y=\"70.5\"/><use x=\"90.5\" xlink:href=\"#black\" y=\"70.5\"/><use x=\"110.5\" xlink:href=\"#black\" y=\"70.5\"/><use x=\"130.5\" xlink:href=\"#white\" y=\"70.5\"/><use x=\"150.5\" xlink:href=\"#white\" y=\"70.5\"/><use x=\"50.5\" xlink:href=\"#black\" y=\"90.5\"/><use x=\"70.5\" xlink:href=\"#black\" y=\"90.5\"/><use x=\"90.5\" xlink:href=\"#black\" y=\"90.5\"/><use x=\"110.5\" xlink:href=\"#black\" y=\"90.5\"/><use x=\"130.5\" xlink:href=\"#white\" y=\"90.5\"/><use x=\"150.5\" xlink:href=\"#white\" y=\"90.5\"/><use x=\"50.5\" xlink:href=\"#black\" y=\"110.5\"/><use x=\"70.5\" xlink:href=\"#black\" y=\"110.5\"/><use x=\"90.5\" xlink:href=\"#black\" y=\"110.5\"/><use x=\"110.5\" xlink:href=\"#white\" y=\"110.5\"/><use x=\"130.5\" xlink:href=\"#white\" y=\"110.5\"/><use x=\"150.5\" xlink:href=\"#white\" y=\"110.5\"/><use x=\"50.5\" xlink:href=\"#black\" y=\"130.5\"/><use x=\"90.5\" xlink:href=\"#white\" y=\"130.5\"/><use x=\"110.5\" xlink:href=\"#black\" y=\"130.5\"/><use x=\"70.5\" xlink:href=\"#white\" y=\"150.5\"/><use x=\"90.5\" xlink:href=\"#white\" y=\"150.5\"/><use x=\"110.5\" xlink:href=\"#white\" y=\"150.5\"/><use x=\"130.5\" xlink:href=\"#white\" y=\"150.5\"/></svg>",
            "text/plain": [
              "<IPython.core.display.SVG object>"
            ]
          },
          "metadata": {
            "tags": []
          },
          "output_type": "display_data"
        },
        {
          "name": "stdout",
          "output_type": "stream",
          "text": [
            "g7\n",
            "30: white\n"
          ]
        },
        {
          "data": {
            "image/svg+xml": "<svg height=\"215.0\" version=\"1.1\" viewBox=\"0 0 172 172\" width=\"215.0\" xmlns=\"http://www.w3.org/2000/svg\" xmlns:xlink=\"http://www.w3.org/1999/xlink\"><defs><g id=\"black\"><circle cx=\"10\" cy=\"10\" fill=\"black\" r=\"8.5\"/></g><g id=\"white\"><circle cx=\"10\" cy=\"10\" fill=\"white\" r=\"8.5\"/></g></defs><rect fill=\"green\" height=\"161\" width=\"161\" x=\"10\" y=\"10\"/><rect fill=\"#8bbf83\" height=\"20\" width=\"20\" x=\"130.5\" y=\"130.5\"/><g stroke=\"black\"><rect fill=\"none\" height=\"161\" stroke-width=\"1.5\" width=\"161\" x=\"10\" y=\"10\"/><line stroke-width=\"1.0\" x1=\"10.5\" x2=\"170.5\" y1=\"30.5\" y2=\"30.5\"/><line stroke-width=\"1.0\" x1=\"10.5\" x2=\"170.5\" y1=\"50.5\" y2=\"50.5\"/><line stroke-width=\"1.0\" x1=\"10.5\" x2=\"170.5\" y1=\"70.5\" y2=\"70.5\"/><line stroke-width=\"1.0\" x1=\"10.5\" x2=\"170.5\" y1=\"90.5\" y2=\"90.5\"/><line stroke-width=\"1.0\" x1=\"10.5\" x2=\"170.5\" y1=\"110.5\" y2=\"110.5\"/><line stroke-width=\"1.0\" x1=\"10.5\" x2=\"170.5\" y1=\"130.5\" y2=\"130.5\"/><line stroke-width=\"1.0\" x1=\"10.5\" x2=\"170.5\" y1=\"150.5\" y2=\"150.5\"/><line stroke-width=\"1.0\" x1=\"30.5\" x2=\"30.5\" y1=\"10.5\" y2=\"170.5\"/><line stroke-width=\"1.0\" x1=\"50.5\" x2=\"50.5\" y1=\"10.5\" y2=\"170.5\"/><line stroke-width=\"1.0\" x1=\"70.5\" x2=\"70.5\" y1=\"10.5\" y2=\"170.5\"/><line stroke-width=\"1.0\" x1=\"90.5\" x2=\"90.5\" y1=\"10.5\" y2=\"170.5\"/><line stroke-width=\"1.0\" x1=\"110.5\" x2=\"110.5\" y1=\"10.5\" y2=\"170.5\"/><line stroke-width=\"1.0\" x1=\"130.5\" x2=\"130.5\" y1=\"10.5\" y2=\"170.5\"/><line stroke-width=\"1.0\" x1=\"150.5\" x2=\"150.5\" y1=\"10.5\" y2=\"170.5\"/></g><g><text font-family=\"serif\" font-size=\"9.5\" text-anchor=\"middle\" x=\"20.5\" y=\"8\">a</text><text font-family=\"serif\" font-size=\"9.5\" text-anchor=\"middle\" x=\"40.5\" y=\"8\">b</text><text font-family=\"serif\" font-size=\"9.5\" text-anchor=\"middle\" x=\"60.5\" y=\"8\">c</text><text font-family=\"serif\" font-size=\"9.5\" text-anchor=\"middle\" x=\"80.5\" y=\"8\">d</text><text font-family=\"serif\" font-size=\"9.5\" text-anchor=\"middle\" x=\"100.5\" y=\"8\">e</text><text font-family=\"serif\" font-size=\"9.5\" text-anchor=\"middle\" x=\"120.5\" y=\"8\">f</text><text font-family=\"serif\" font-size=\"9.5\" text-anchor=\"middle\" x=\"140.5\" y=\"8\">g</text><text font-family=\"serif\" font-size=\"9.5\" text-anchor=\"middle\" x=\"160.5\" y=\"8\">h</text><text font-family=\"serif\" font-size=\"9.5\" x=\"2.5\" y=\"23.5\">1</text><text font-family=\"serif\" font-size=\"9.5\" x=\"2.5\" y=\"43.5\">2</text><text font-family=\"serif\" font-size=\"9.5\" x=\"2.5\" y=\"63.5\">3</text><text font-family=\"serif\" font-size=\"9.5\" x=\"2.5\" y=\"83.5\">4</text><text font-family=\"serif\" font-size=\"9.5\" x=\"2.5\" y=\"103.5\">5</text><text font-family=\"serif\" font-size=\"9.5\" x=\"2.5\" y=\"123.5\">6</text><text font-family=\"serif\" font-size=\"9.5\" x=\"2.5\" y=\"143.5\">7</text><text font-family=\"serif\" font-size=\"9.5\" x=\"2.5\" y=\"163.5\">8</text></g><use x=\"50.5\" xlink:href=\"#black\" y=\"30.5\"/><use x=\"150.5\" xlink:href=\"#white\" y=\"30.5\"/><use x=\"50.5\" xlink:href=\"#black\" y=\"50.5\"/><use x=\"70.5\" xlink:href=\"#black\" y=\"50.5\"/><use x=\"90.5\" xlink:href=\"#black\" y=\"50.5\"/><use x=\"110.5\" xlink:href=\"#black\" y=\"50.5\"/><use x=\"130.5\" xlink:href=\"#white\" y=\"50.5\"/><use x=\"150.5\" xlink:href=\"#white\" y=\"50.5\"/><use x=\"70.5\" xlink:href=\"#black\" y=\"70.5\"/><use x=\"90.5\" xlink:href=\"#black\" y=\"70.5\"/><use x=\"110.5\" xlink:href=\"#black\" y=\"70.5\"/><use x=\"130.5\" xlink:href=\"#white\" y=\"70.5\"/><use x=\"150.5\" xlink:href=\"#white\" y=\"70.5\"/><use x=\"50.5\" xlink:href=\"#black\" y=\"90.5\"/><use x=\"70.5\" xlink:href=\"#black\" y=\"90.5\"/><use x=\"90.5\" xlink:href=\"#black\" y=\"90.5\"/><use x=\"110.5\" xlink:href=\"#black\" y=\"90.5\"/><use x=\"130.5\" xlink:href=\"#white\" y=\"90.5\"/><use x=\"150.5\" xlink:href=\"#white\" y=\"90.5\"/><use x=\"50.5\" xlink:href=\"#black\" y=\"110.5\"/><use x=\"70.5\" xlink:href=\"#black\" y=\"110.5\"/><use x=\"90.5\" xlink:href=\"#black\" y=\"110.5\"/><use x=\"110.5\" xlink:href=\"#black\" y=\"110.5\"/><use x=\"130.5\" xlink:href=\"#white\" y=\"110.5\"/><use x=\"150.5\" xlink:href=\"#white\" y=\"110.5\"/><use x=\"50.5\" xlink:href=\"#black\" y=\"130.5\"/><use x=\"90.5\" xlink:href=\"#white\" y=\"130.5\"/><use x=\"110.5\" xlink:href=\"#black\" y=\"130.5\"/><use x=\"130.5\" xlink:href=\"#black\" y=\"130.5\"/><use x=\"70.5\" xlink:href=\"#white\" y=\"150.5\"/><use x=\"90.5\" xlink:href=\"#white\" y=\"150.5\"/><use x=\"110.5\" xlink:href=\"#white\" y=\"150.5\"/><use x=\"130.5\" xlink:href=\"#white\" y=\"150.5\"/></svg>",
            "text/plain": [
              "<IPython.core.display.SVG object>"
            ]
          },
          "metadata": {
            "tags": []
          },
          "output_type": "display_data"
        },
        {
          "name": "stdout",
          "output_type": "stream",
          "text": [
            "d7\n",
            "d7\n",
            "31: black\n"
          ]
        },
        {
          "data": {
            "image/svg+xml": "<svg height=\"215.0\" version=\"1.1\" viewBox=\"0 0 172 172\" width=\"215.0\" xmlns=\"http://www.w3.org/2000/svg\" xmlns:xlink=\"http://www.w3.org/1999/xlink\"><defs><g id=\"black\"><circle cx=\"10\" cy=\"10\" fill=\"black\" r=\"8.5\"/></g><g id=\"white\"><circle cx=\"10\" cy=\"10\" fill=\"white\" r=\"8.5\"/></g></defs><rect fill=\"green\" height=\"161\" width=\"161\" x=\"10\" y=\"10\"/><rect fill=\"#8bbf83\" height=\"20\" width=\"20\" x=\"70.5\" y=\"130.5\"/><g stroke=\"black\"><rect fill=\"none\" height=\"161\" stroke-width=\"1.5\" width=\"161\" x=\"10\" y=\"10\"/><line stroke-width=\"1.0\" x1=\"10.5\" x2=\"170.5\" y1=\"30.5\" y2=\"30.5\"/><line stroke-width=\"1.0\" x1=\"10.5\" x2=\"170.5\" y1=\"50.5\" y2=\"50.5\"/><line stroke-width=\"1.0\" x1=\"10.5\" x2=\"170.5\" y1=\"70.5\" y2=\"70.5\"/><line stroke-width=\"1.0\" x1=\"10.5\" x2=\"170.5\" y1=\"90.5\" y2=\"90.5\"/><line stroke-width=\"1.0\" x1=\"10.5\" x2=\"170.5\" y1=\"110.5\" y2=\"110.5\"/><line stroke-width=\"1.0\" x1=\"10.5\" x2=\"170.5\" y1=\"130.5\" y2=\"130.5\"/><line stroke-width=\"1.0\" x1=\"10.5\" x2=\"170.5\" y1=\"150.5\" y2=\"150.5\"/><line stroke-width=\"1.0\" x1=\"30.5\" x2=\"30.5\" y1=\"10.5\" y2=\"170.5\"/><line stroke-width=\"1.0\" x1=\"50.5\" x2=\"50.5\" y1=\"10.5\" y2=\"170.5\"/><line stroke-width=\"1.0\" x1=\"70.5\" x2=\"70.5\" y1=\"10.5\" y2=\"170.5\"/><line stroke-width=\"1.0\" x1=\"90.5\" x2=\"90.5\" y1=\"10.5\" y2=\"170.5\"/><line stroke-width=\"1.0\" x1=\"110.5\" x2=\"110.5\" y1=\"10.5\" y2=\"170.5\"/><line stroke-width=\"1.0\" x1=\"130.5\" x2=\"130.5\" y1=\"10.5\" y2=\"170.5\"/><line stroke-width=\"1.0\" x1=\"150.5\" x2=\"150.5\" y1=\"10.5\" y2=\"170.5\"/></g><g><text font-family=\"serif\" font-size=\"9.5\" text-anchor=\"middle\" x=\"20.5\" y=\"8\">a</text><text font-family=\"serif\" font-size=\"9.5\" text-anchor=\"middle\" x=\"40.5\" y=\"8\">b</text><text font-family=\"serif\" font-size=\"9.5\" text-anchor=\"middle\" x=\"60.5\" y=\"8\">c</text><text font-family=\"serif\" font-size=\"9.5\" text-anchor=\"middle\" x=\"80.5\" y=\"8\">d</text><text font-family=\"serif\" font-size=\"9.5\" text-anchor=\"middle\" x=\"100.5\" y=\"8\">e</text><text font-family=\"serif\" font-size=\"9.5\" text-anchor=\"middle\" x=\"120.5\" y=\"8\">f</text><text font-family=\"serif\" font-size=\"9.5\" text-anchor=\"middle\" x=\"140.5\" y=\"8\">g</text><text font-family=\"serif\" font-size=\"9.5\" text-anchor=\"middle\" x=\"160.5\" y=\"8\">h</text><text font-family=\"serif\" font-size=\"9.5\" x=\"2.5\" y=\"23.5\">1</text><text font-family=\"serif\" font-size=\"9.5\" x=\"2.5\" y=\"43.5\">2</text><text font-family=\"serif\" font-size=\"9.5\" x=\"2.5\" y=\"63.5\">3</text><text font-family=\"serif\" font-size=\"9.5\" x=\"2.5\" y=\"83.5\">4</text><text font-family=\"serif\" font-size=\"9.5\" x=\"2.5\" y=\"103.5\">5</text><text font-family=\"serif\" font-size=\"9.5\" x=\"2.5\" y=\"123.5\">6</text><text font-family=\"serif\" font-size=\"9.5\" x=\"2.5\" y=\"143.5\">7</text><text font-family=\"serif\" font-size=\"9.5\" x=\"2.5\" y=\"163.5\">8</text></g><use x=\"50.5\" xlink:href=\"#black\" y=\"30.5\"/><use x=\"150.5\" xlink:href=\"#white\" y=\"30.5\"/><use x=\"50.5\" xlink:href=\"#black\" y=\"50.5\"/><use x=\"70.5\" xlink:href=\"#black\" y=\"50.5\"/><use x=\"90.5\" xlink:href=\"#black\" y=\"50.5\"/><use x=\"110.5\" xlink:href=\"#black\" y=\"50.5\"/><use x=\"130.5\" xlink:href=\"#white\" y=\"50.5\"/><use x=\"150.5\" xlink:href=\"#white\" y=\"50.5\"/><use x=\"70.5\" xlink:href=\"#black\" y=\"70.5\"/><use x=\"90.5\" xlink:href=\"#black\" y=\"70.5\"/><use x=\"110.5\" xlink:href=\"#black\" y=\"70.5\"/><use x=\"130.5\" xlink:href=\"#white\" y=\"70.5\"/><use x=\"150.5\" xlink:href=\"#white\" y=\"70.5\"/><use x=\"50.5\" xlink:href=\"#black\" y=\"90.5\"/><use x=\"70.5\" xlink:href=\"#black\" y=\"90.5\"/><use x=\"90.5\" xlink:href=\"#black\" y=\"90.5\"/><use x=\"110.5\" xlink:href=\"#white\" y=\"90.5\"/><use x=\"130.5\" xlink:href=\"#white\" y=\"90.5\"/><use x=\"150.5\" xlink:href=\"#white\" y=\"90.5\"/><use x=\"50.5\" xlink:href=\"#black\" y=\"110.5\"/><use x=\"70.5\" xlink:href=\"#black\" y=\"110.5\"/><use x=\"90.5\" xlink:href=\"#white\" y=\"110.5\"/><use x=\"110.5\" xlink:href=\"#black\" y=\"110.5\"/><use x=\"130.5\" xlink:href=\"#white\" y=\"110.5\"/><use x=\"150.5\" xlink:href=\"#white\" y=\"110.5\"/><use x=\"50.5\" xlink:href=\"#black\" y=\"130.5\"/><use x=\"70.5\" xlink:href=\"#white\" y=\"130.5\"/><use x=\"90.5\" xlink:href=\"#white\" y=\"130.5\"/><use x=\"110.5\" xlink:href=\"#black\" y=\"130.5\"/><use x=\"130.5\" xlink:href=\"#black\" y=\"130.5\"/><use x=\"70.5\" xlink:href=\"#white\" y=\"150.5\"/><use x=\"90.5\" xlink:href=\"#white\" y=\"150.5\"/><use x=\"110.5\" xlink:href=\"#white\" y=\"150.5\"/><use x=\"130.5\" xlink:href=\"#white\" y=\"150.5\"/></svg>",
            "text/plain": [
              "<IPython.core.display.SVG object>"
            ]
          },
          "metadata": {
            "tags": []
          },
          "output_type": "display_data"
        },
        {
          "name": "stdout",
          "output_type": "stream",
          "text": [
            "h7\n",
            "32: white\n"
          ]
        },
        {
          "data": {
            "image/svg+xml": "<svg height=\"215.0\" version=\"1.1\" viewBox=\"0 0 172 172\" width=\"215.0\" xmlns=\"http://www.w3.org/2000/svg\" xmlns:xlink=\"http://www.w3.org/1999/xlink\"><defs><g id=\"black\"><circle cx=\"10\" cy=\"10\" fill=\"black\" r=\"8.5\"/></g><g id=\"white\"><circle cx=\"10\" cy=\"10\" fill=\"white\" r=\"8.5\"/></g></defs><rect fill=\"green\" height=\"161\" width=\"161\" x=\"10\" y=\"10\"/><rect fill=\"#8bbf83\" height=\"20\" width=\"20\" x=\"150.5\" y=\"130.5\"/><g stroke=\"black\"><rect fill=\"none\" height=\"161\" stroke-width=\"1.5\" width=\"161\" x=\"10\" y=\"10\"/><line stroke-width=\"1.0\" x1=\"10.5\" x2=\"170.5\" y1=\"30.5\" y2=\"30.5\"/><line stroke-width=\"1.0\" x1=\"10.5\" x2=\"170.5\" y1=\"50.5\" y2=\"50.5\"/><line stroke-width=\"1.0\" x1=\"10.5\" x2=\"170.5\" y1=\"70.5\" y2=\"70.5\"/><line stroke-width=\"1.0\" x1=\"10.5\" x2=\"170.5\" y1=\"90.5\" y2=\"90.5\"/><line stroke-width=\"1.0\" x1=\"10.5\" x2=\"170.5\" y1=\"110.5\" y2=\"110.5\"/><line stroke-width=\"1.0\" x1=\"10.5\" x2=\"170.5\" y1=\"130.5\" y2=\"130.5\"/><line stroke-width=\"1.0\" x1=\"10.5\" x2=\"170.5\" y1=\"150.5\" y2=\"150.5\"/><line stroke-width=\"1.0\" x1=\"30.5\" x2=\"30.5\" y1=\"10.5\" y2=\"170.5\"/><line stroke-width=\"1.0\" x1=\"50.5\" x2=\"50.5\" y1=\"10.5\" y2=\"170.5\"/><line stroke-width=\"1.0\" x1=\"70.5\" x2=\"70.5\" y1=\"10.5\" y2=\"170.5\"/><line stroke-width=\"1.0\" x1=\"90.5\" x2=\"90.5\" y1=\"10.5\" y2=\"170.5\"/><line stroke-width=\"1.0\" x1=\"110.5\" x2=\"110.5\" y1=\"10.5\" y2=\"170.5\"/><line stroke-width=\"1.0\" x1=\"130.5\" x2=\"130.5\" y1=\"10.5\" y2=\"170.5\"/><line stroke-width=\"1.0\" x1=\"150.5\" x2=\"150.5\" y1=\"10.5\" y2=\"170.5\"/></g><g><text font-family=\"serif\" font-size=\"9.5\" text-anchor=\"middle\" x=\"20.5\" y=\"8\">a</text><text font-family=\"serif\" font-size=\"9.5\" text-anchor=\"middle\" x=\"40.5\" y=\"8\">b</text><text font-family=\"serif\" font-size=\"9.5\" text-anchor=\"middle\" x=\"60.5\" y=\"8\">c</text><text font-family=\"serif\" font-size=\"9.5\" text-anchor=\"middle\" x=\"80.5\" y=\"8\">d</text><text font-family=\"serif\" font-size=\"9.5\" text-anchor=\"middle\" x=\"100.5\" y=\"8\">e</text><text font-family=\"serif\" font-size=\"9.5\" text-anchor=\"middle\" x=\"120.5\" y=\"8\">f</text><text font-family=\"serif\" font-size=\"9.5\" text-anchor=\"middle\" x=\"140.5\" y=\"8\">g</text><text font-family=\"serif\" font-size=\"9.5\" text-anchor=\"middle\" x=\"160.5\" y=\"8\">h</text><text font-family=\"serif\" font-size=\"9.5\" x=\"2.5\" y=\"23.5\">1</text><text font-family=\"serif\" font-size=\"9.5\" x=\"2.5\" y=\"43.5\">2</text><text font-family=\"serif\" font-size=\"9.5\" x=\"2.5\" y=\"63.5\">3</text><text font-family=\"serif\" font-size=\"9.5\" x=\"2.5\" y=\"83.5\">4</text><text font-family=\"serif\" font-size=\"9.5\" x=\"2.5\" y=\"103.5\">5</text><text font-family=\"serif\" font-size=\"9.5\" x=\"2.5\" y=\"123.5\">6</text><text font-family=\"serif\" font-size=\"9.5\" x=\"2.5\" y=\"143.5\">7</text><text font-family=\"serif\" font-size=\"9.5\" x=\"2.5\" y=\"163.5\">8</text></g><use x=\"50.5\" xlink:href=\"#black\" y=\"30.5\"/><use x=\"150.5\" xlink:href=\"#white\" y=\"30.5\"/><use x=\"50.5\" xlink:href=\"#black\" y=\"50.5\"/><use x=\"70.5\" xlink:href=\"#black\" y=\"50.5\"/><use x=\"90.5\" xlink:href=\"#black\" y=\"50.5\"/><use x=\"110.5\" xlink:href=\"#black\" y=\"50.5\"/><use x=\"130.5\" xlink:href=\"#white\" y=\"50.5\"/><use x=\"150.5\" xlink:href=\"#white\" y=\"50.5\"/><use x=\"70.5\" xlink:href=\"#black\" y=\"70.5\"/><use x=\"90.5\" xlink:href=\"#black\" y=\"70.5\"/><use x=\"110.5\" xlink:href=\"#black\" y=\"70.5\"/><use x=\"130.5\" xlink:href=\"#white\" y=\"70.5\"/><use x=\"150.5\" xlink:href=\"#white\" y=\"70.5\"/><use x=\"50.5\" xlink:href=\"#black\" y=\"90.5\"/><use x=\"70.5\" xlink:href=\"#black\" y=\"90.5\"/><use x=\"90.5\" xlink:href=\"#black\" y=\"90.5\"/><use x=\"110.5\" xlink:href=\"#black\" y=\"90.5\"/><use x=\"130.5\" xlink:href=\"#white\" y=\"90.5\"/><use x=\"150.5\" xlink:href=\"#white\" y=\"90.5\"/><use x=\"50.5\" xlink:href=\"#black\" y=\"110.5\"/><use x=\"70.5\" xlink:href=\"#black\" y=\"110.5\"/><use x=\"90.5\" xlink:href=\"#white\" y=\"110.5\"/><use x=\"110.5\" xlink:href=\"#black\" y=\"110.5\"/><use x=\"130.5\" xlink:href=\"#black\" y=\"110.5\"/><use x=\"150.5\" xlink:href=\"#white\" y=\"110.5\"/><use x=\"50.5\" xlink:href=\"#black\" y=\"130.5\"/><use x=\"70.5\" xlink:href=\"#white\" y=\"130.5\"/><use x=\"90.5\" xlink:href=\"#white\" y=\"130.5\"/><use x=\"110.5\" xlink:href=\"#black\" y=\"130.5\"/><use x=\"130.5\" xlink:href=\"#black\" y=\"130.5\"/><use x=\"150.5\" xlink:href=\"#black\" y=\"130.5\"/><use x=\"70.5\" xlink:href=\"#white\" y=\"150.5\"/><use x=\"90.5\" xlink:href=\"#white\" y=\"150.5\"/><use x=\"110.5\" xlink:href=\"#white\" y=\"150.5\"/><use x=\"130.5\" xlink:href=\"#white\" y=\"150.5\"/></svg>",
            "text/plain": [
              "<IPython.core.display.SVG object>"
            ]
          },
          "metadata": {
            "tags": []
          },
          "output_type": "display_data"
        },
        {
          "name": "stdout",
          "output_type": "stream",
          "text": [
            "h8\n",
            "h8\n",
            "33: black\n"
          ]
        },
        {
          "data": {
            "image/svg+xml": "<svg height=\"215.0\" version=\"1.1\" viewBox=\"0 0 172 172\" width=\"215.0\" xmlns=\"http://www.w3.org/2000/svg\" xmlns:xlink=\"http://www.w3.org/1999/xlink\"><defs><g id=\"black\"><circle cx=\"10\" cy=\"10\" fill=\"black\" r=\"8.5\"/></g><g id=\"white\"><circle cx=\"10\" cy=\"10\" fill=\"white\" r=\"8.5\"/></g></defs><rect fill=\"green\" height=\"161\" width=\"161\" x=\"10\" y=\"10\"/><rect fill=\"#8bbf83\" height=\"20\" width=\"20\" x=\"150.5\" y=\"150.5\"/><g stroke=\"black\"><rect fill=\"none\" height=\"161\" stroke-width=\"1.5\" width=\"161\" x=\"10\" y=\"10\"/><line stroke-width=\"1.0\" x1=\"10.5\" x2=\"170.5\" y1=\"30.5\" y2=\"30.5\"/><line stroke-width=\"1.0\" x1=\"10.5\" x2=\"170.5\" y1=\"50.5\" y2=\"50.5\"/><line stroke-width=\"1.0\" x1=\"10.5\" x2=\"170.5\" y1=\"70.5\" y2=\"70.5\"/><line stroke-width=\"1.0\" x1=\"10.5\" x2=\"170.5\" y1=\"90.5\" y2=\"90.5\"/><line stroke-width=\"1.0\" x1=\"10.5\" x2=\"170.5\" y1=\"110.5\" y2=\"110.5\"/><line stroke-width=\"1.0\" x1=\"10.5\" x2=\"170.5\" y1=\"130.5\" y2=\"130.5\"/><line stroke-width=\"1.0\" x1=\"10.5\" x2=\"170.5\" y1=\"150.5\" y2=\"150.5\"/><line stroke-width=\"1.0\" x1=\"30.5\" x2=\"30.5\" y1=\"10.5\" y2=\"170.5\"/><line stroke-width=\"1.0\" x1=\"50.5\" x2=\"50.5\" y1=\"10.5\" y2=\"170.5\"/><line stroke-width=\"1.0\" x1=\"70.5\" x2=\"70.5\" y1=\"10.5\" y2=\"170.5\"/><line stroke-width=\"1.0\" x1=\"90.5\" x2=\"90.5\" y1=\"10.5\" y2=\"170.5\"/><line stroke-width=\"1.0\" x1=\"110.5\" x2=\"110.5\" y1=\"10.5\" y2=\"170.5\"/><line stroke-width=\"1.0\" x1=\"130.5\" x2=\"130.5\" y1=\"10.5\" y2=\"170.5\"/><line stroke-width=\"1.0\" x1=\"150.5\" x2=\"150.5\" y1=\"10.5\" y2=\"170.5\"/></g><g><text font-family=\"serif\" font-size=\"9.5\" text-anchor=\"middle\" x=\"20.5\" y=\"8\">a</text><text font-family=\"serif\" font-size=\"9.5\" text-anchor=\"middle\" x=\"40.5\" y=\"8\">b</text><text font-family=\"serif\" font-size=\"9.5\" text-anchor=\"middle\" x=\"60.5\" y=\"8\">c</text><text font-family=\"serif\" font-size=\"9.5\" text-anchor=\"middle\" x=\"80.5\" y=\"8\">d</text><text font-family=\"serif\" font-size=\"9.5\" text-anchor=\"middle\" x=\"100.5\" y=\"8\">e</text><text font-family=\"serif\" font-size=\"9.5\" text-anchor=\"middle\" x=\"120.5\" y=\"8\">f</text><text font-family=\"serif\" font-size=\"9.5\" text-anchor=\"middle\" x=\"140.5\" y=\"8\">g</text><text font-family=\"serif\" font-size=\"9.5\" text-anchor=\"middle\" x=\"160.5\" y=\"8\">h</text><text font-family=\"serif\" font-size=\"9.5\" x=\"2.5\" y=\"23.5\">1</text><text font-family=\"serif\" font-size=\"9.5\" x=\"2.5\" y=\"43.5\">2</text><text font-family=\"serif\" font-size=\"9.5\" x=\"2.5\" y=\"63.5\">3</text><text font-family=\"serif\" font-size=\"9.5\" x=\"2.5\" y=\"83.5\">4</text><text font-family=\"serif\" font-size=\"9.5\" x=\"2.5\" y=\"103.5\">5</text><text font-family=\"serif\" font-size=\"9.5\" x=\"2.5\" y=\"123.5\">6</text><text font-family=\"serif\" font-size=\"9.5\" x=\"2.5\" y=\"143.5\">7</text><text font-family=\"serif\" font-size=\"9.5\" x=\"2.5\" y=\"163.5\">8</text></g><use x=\"50.5\" xlink:href=\"#black\" y=\"30.5\"/><use x=\"150.5\" xlink:href=\"#white\" y=\"30.5\"/><use x=\"50.5\" xlink:href=\"#black\" y=\"50.5\"/><use x=\"70.5\" xlink:href=\"#black\" y=\"50.5\"/><use x=\"90.5\" xlink:href=\"#black\" y=\"50.5\"/><use x=\"110.5\" xlink:href=\"#black\" y=\"50.5\"/><use x=\"130.5\" xlink:href=\"#white\" y=\"50.5\"/><use x=\"150.5\" xlink:href=\"#white\" y=\"50.5\"/><use x=\"70.5\" xlink:href=\"#black\" y=\"70.5\"/><use x=\"90.5\" xlink:href=\"#black\" y=\"70.5\"/><use x=\"110.5\" xlink:href=\"#black\" y=\"70.5\"/><use x=\"130.5\" xlink:href=\"#white\" y=\"70.5\"/><use x=\"150.5\" xlink:href=\"#white\" y=\"70.5\"/><use x=\"50.5\" xlink:href=\"#black\" y=\"90.5\"/><use x=\"70.5\" xlink:href=\"#black\" y=\"90.5\"/><use x=\"90.5\" xlink:href=\"#black\" y=\"90.5\"/><use x=\"110.5\" xlink:href=\"#black\" y=\"90.5\"/><use x=\"130.5\" xlink:href=\"#white\" y=\"90.5\"/><use x=\"150.5\" xlink:href=\"#white\" y=\"90.5\"/><use x=\"50.5\" xlink:href=\"#black\" y=\"110.5\"/><use x=\"70.5\" xlink:href=\"#black\" y=\"110.5\"/><use x=\"90.5\" xlink:href=\"#white\" y=\"110.5\"/><use x=\"110.5\" xlink:href=\"#black\" y=\"110.5\"/><use x=\"130.5\" xlink:href=\"#black\" y=\"110.5\"/><use x=\"150.5\" xlink:href=\"#white\" y=\"110.5\"/><use x=\"50.5\" xlink:href=\"#black\" y=\"130.5\"/><use x=\"70.5\" xlink:href=\"#white\" y=\"130.5\"/><use x=\"90.5\" xlink:href=\"#white\" y=\"130.5\"/><use x=\"110.5\" xlink:href=\"#black\" y=\"130.5\"/><use x=\"130.5\" xlink:href=\"#black\" y=\"130.5\"/><use x=\"150.5\" xlink:href=\"#white\" y=\"130.5\"/><use x=\"70.5\" xlink:href=\"#white\" y=\"150.5\"/><use x=\"90.5\" xlink:href=\"#white\" y=\"150.5\"/><use x=\"110.5\" xlink:href=\"#white\" y=\"150.5\"/><use x=\"130.5\" xlink:href=\"#white\" y=\"150.5\"/><use x=\"150.5\" xlink:href=\"#white\" y=\"150.5\"/></svg>",
            "text/plain": [
              "<IPython.core.display.SVG object>"
            ]
          },
          "metadata": {
            "tags": []
          },
          "output_type": "display_data"
        },
        {
          "name": "stdout",
          "output_type": "stream",
          "text": [
            "c8\n",
            "34: white\n"
          ]
        },
        {
          "data": {
            "image/svg+xml": "<svg height=\"215.0\" version=\"1.1\" viewBox=\"0 0 172 172\" width=\"215.0\" xmlns=\"http://www.w3.org/2000/svg\" xmlns:xlink=\"http://www.w3.org/1999/xlink\"><defs><g id=\"black\"><circle cx=\"10\" cy=\"10\" fill=\"black\" r=\"8.5\"/></g><g id=\"white\"><circle cx=\"10\" cy=\"10\" fill=\"white\" r=\"8.5\"/></g></defs><rect fill=\"green\" height=\"161\" width=\"161\" x=\"10\" y=\"10\"/><rect fill=\"#8bbf83\" height=\"20\" width=\"20\" x=\"50.5\" y=\"150.5\"/><g stroke=\"black\"><rect fill=\"none\" height=\"161\" stroke-width=\"1.5\" width=\"161\" x=\"10\" y=\"10\"/><line stroke-width=\"1.0\" x1=\"10.5\" x2=\"170.5\" y1=\"30.5\" y2=\"30.5\"/><line stroke-width=\"1.0\" x1=\"10.5\" x2=\"170.5\" y1=\"50.5\" y2=\"50.5\"/><line stroke-width=\"1.0\" x1=\"10.5\" x2=\"170.5\" y1=\"70.5\" y2=\"70.5\"/><line stroke-width=\"1.0\" x1=\"10.5\" x2=\"170.5\" y1=\"90.5\" y2=\"90.5\"/><line stroke-width=\"1.0\" x1=\"10.5\" x2=\"170.5\" y1=\"110.5\" y2=\"110.5\"/><line stroke-width=\"1.0\" x1=\"10.5\" x2=\"170.5\" y1=\"130.5\" y2=\"130.5\"/><line stroke-width=\"1.0\" x1=\"10.5\" x2=\"170.5\" y1=\"150.5\" y2=\"150.5\"/><line stroke-width=\"1.0\" x1=\"30.5\" x2=\"30.5\" y1=\"10.5\" y2=\"170.5\"/><line stroke-width=\"1.0\" x1=\"50.5\" x2=\"50.5\" y1=\"10.5\" y2=\"170.5\"/><line stroke-width=\"1.0\" x1=\"70.5\" x2=\"70.5\" y1=\"10.5\" y2=\"170.5\"/><line stroke-width=\"1.0\" x1=\"90.5\" x2=\"90.5\" y1=\"10.5\" y2=\"170.5\"/><line stroke-width=\"1.0\" x1=\"110.5\" x2=\"110.5\" y1=\"10.5\" y2=\"170.5\"/><line stroke-width=\"1.0\" x1=\"130.5\" x2=\"130.5\" y1=\"10.5\" y2=\"170.5\"/><line stroke-width=\"1.0\" x1=\"150.5\" x2=\"150.5\" y1=\"10.5\" y2=\"170.5\"/></g><g><text font-family=\"serif\" font-size=\"9.5\" text-anchor=\"middle\" x=\"20.5\" y=\"8\">a</text><text font-family=\"serif\" font-size=\"9.5\" text-anchor=\"middle\" x=\"40.5\" y=\"8\">b</text><text font-family=\"serif\" font-size=\"9.5\" text-anchor=\"middle\" x=\"60.5\" y=\"8\">c</text><text font-family=\"serif\" font-size=\"9.5\" text-anchor=\"middle\" x=\"80.5\" y=\"8\">d</text><text font-family=\"serif\" font-size=\"9.5\" text-anchor=\"middle\" x=\"100.5\" y=\"8\">e</text><text font-family=\"serif\" font-size=\"9.5\" text-anchor=\"middle\" x=\"120.5\" y=\"8\">f</text><text font-family=\"serif\" font-size=\"9.5\" text-anchor=\"middle\" x=\"140.5\" y=\"8\">g</text><text font-family=\"serif\" font-size=\"9.5\" text-anchor=\"middle\" x=\"160.5\" y=\"8\">h</text><text font-family=\"serif\" font-size=\"9.5\" x=\"2.5\" y=\"23.5\">1</text><text font-family=\"serif\" font-size=\"9.5\" x=\"2.5\" y=\"43.5\">2</text><text font-family=\"serif\" font-size=\"9.5\" x=\"2.5\" y=\"63.5\">3</text><text font-family=\"serif\" font-size=\"9.5\" x=\"2.5\" y=\"83.5\">4</text><text font-family=\"serif\" font-size=\"9.5\" x=\"2.5\" y=\"103.5\">5</text><text font-family=\"serif\" font-size=\"9.5\" x=\"2.5\" y=\"123.5\">6</text><text font-family=\"serif\" font-size=\"9.5\" x=\"2.5\" y=\"143.5\">7</text><text font-family=\"serif\" font-size=\"9.5\" x=\"2.5\" y=\"163.5\">8</text></g><use x=\"50.5\" xlink:href=\"#black\" y=\"30.5\"/><use x=\"150.5\" xlink:href=\"#white\" y=\"30.5\"/><use x=\"50.5\" xlink:href=\"#black\" y=\"50.5\"/><use x=\"70.5\" xlink:href=\"#black\" y=\"50.5\"/><use x=\"90.5\" xlink:href=\"#black\" y=\"50.5\"/><use x=\"110.5\" xlink:href=\"#black\" y=\"50.5\"/><use x=\"130.5\" xlink:href=\"#white\" y=\"50.5\"/><use x=\"150.5\" xlink:href=\"#white\" y=\"50.5\"/><use x=\"70.5\" xlink:href=\"#black\" y=\"70.5\"/><use x=\"90.5\" xlink:href=\"#black\" y=\"70.5\"/><use x=\"110.5\" xlink:href=\"#black\" y=\"70.5\"/><use x=\"130.5\" xlink:href=\"#white\" y=\"70.5\"/><use x=\"150.5\" xlink:href=\"#white\" y=\"70.5\"/><use x=\"50.5\" xlink:href=\"#black\" y=\"90.5\"/><use x=\"70.5\" xlink:href=\"#black\" y=\"90.5\"/><use x=\"90.5\" xlink:href=\"#black\" y=\"90.5\"/><use x=\"110.5\" xlink:href=\"#black\" y=\"90.5\"/><use x=\"130.5\" xlink:href=\"#white\" y=\"90.5\"/><use x=\"150.5\" xlink:href=\"#white\" y=\"90.5\"/><use x=\"50.5\" xlink:href=\"#black\" y=\"110.5\"/><use x=\"70.5\" xlink:href=\"#black\" y=\"110.5\"/><use x=\"90.5\" xlink:href=\"#black\" y=\"110.5\"/><use x=\"110.5\" xlink:href=\"#black\" y=\"110.5\"/><use x=\"130.5\" xlink:href=\"#black\" y=\"110.5\"/><use x=\"150.5\" xlink:href=\"#white\" y=\"110.5\"/><use x=\"50.5\" xlink:href=\"#black\" y=\"130.5\"/><use x=\"70.5\" xlink:href=\"#black\" y=\"130.5\"/><use x=\"90.5\" xlink:href=\"#white\" y=\"130.5\"/><use x=\"110.5\" xlink:href=\"#black\" y=\"130.5\"/><use x=\"130.5\" xlink:href=\"#black\" y=\"130.5\"/><use x=\"150.5\" xlink:href=\"#white\" y=\"130.5\"/><use x=\"50.5\" xlink:href=\"#black\" y=\"150.5\"/><use x=\"70.5\" xlink:href=\"#white\" y=\"150.5\"/><use x=\"90.5\" xlink:href=\"#white\" y=\"150.5\"/><use x=\"110.5\" xlink:href=\"#white\" y=\"150.5\"/><use x=\"130.5\" xlink:href=\"#white\" y=\"150.5\"/><use x=\"150.5\" xlink:href=\"#white\" y=\"150.5\"/></svg>",
            "text/plain": [
              "<IPython.core.display.SVG object>"
            ]
          },
          "metadata": {
            "tags": []
          },
          "output_type": "display_data"
        },
        {
          "name": "stdout",
          "output_type": "stream",
          "text": [
            "b8\n",
            "b8\n",
            "35: black\n"
          ]
        },
        {
          "data": {
            "image/svg+xml": "<svg height=\"215.0\" version=\"1.1\" viewBox=\"0 0 172 172\" width=\"215.0\" xmlns=\"http://www.w3.org/2000/svg\" xmlns:xlink=\"http://www.w3.org/1999/xlink\"><defs><g id=\"black\"><circle cx=\"10\" cy=\"10\" fill=\"black\" r=\"8.5\"/></g><g id=\"white\"><circle cx=\"10\" cy=\"10\" fill=\"white\" r=\"8.5\"/></g></defs><rect fill=\"green\" height=\"161\" width=\"161\" x=\"10\" y=\"10\"/><rect fill=\"#8bbf83\" height=\"20\" width=\"20\" x=\"30.5\" y=\"150.5\"/><g stroke=\"black\"><rect fill=\"none\" height=\"161\" stroke-width=\"1.5\" width=\"161\" x=\"10\" y=\"10\"/><line stroke-width=\"1.0\" x1=\"10.5\" x2=\"170.5\" y1=\"30.5\" y2=\"30.5\"/><line stroke-width=\"1.0\" x1=\"10.5\" x2=\"170.5\" y1=\"50.5\" y2=\"50.5\"/><line stroke-width=\"1.0\" x1=\"10.5\" x2=\"170.5\" y1=\"70.5\" y2=\"70.5\"/><line stroke-width=\"1.0\" x1=\"10.5\" x2=\"170.5\" y1=\"90.5\" y2=\"90.5\"/><line stroke-width=\"1.0\" x1=\"10.5\" x2=\"170.5\" y1=\"110.5\" y2=\"110.5\"/><line stroke-width=\"1.0\" x1=\"10.5\" x2=\"170.5\" y1=\"130.5\" y2=\"130.5\"/><line stroke-width=\"1.0\" x1=\"10.5\" x2=\"170.5\" y1=\"150.5\" y2=\"150.5\"/><line stroke-width=\"1.0\" x1=\"30.5\" x2=\"30.5\" y1=\"10.5\" y2=\"170.5\"/><line stroke-width=\"1.0\" x1=\"50.5\" x2=\"50.5\" y1=\"10.5\" y2=\"170.5\"/><line stroke-width=\"1.0\" x1=\"70.5\" x2=\"70.5\" y1=\"10.5\" y2=\"170.5\"/><line stroke-width=\"1.0\" x1=\"90.5\" x2=\"90.5\" y1=\"10.5\" y2=\"170.5\"/><line stroke-width=\"1.0\" x1=\"110.5\" x2=\"110.5\" y1=\"10.5\" y2=\"170.5\"/><line stroke-width=\"1.0\" x1=\"130.5\" x2=\"130.5\" y1=\"10.5\" y2=\"170.5\"/><line stroke-width=\"1.0\" x1=\"150.5\" x2=\"150.5\" y1=\"10.5\" y2=\"170.5\"/></g><g><text font-family=\"serif\" font-size=\"9.5\" text-anchor=\"middle\" x=\"20.5\" y=\"8\">a</text><text font-family=\"serif\" font-size=\"9.5\" text-anchor=\"middle\" x=\"40.5\" y=\"8\">b</text><text font-family=\"serif\" font-size=\"9.5\" text-anchor=\"middle\" x=\"60.5\" y=\"8\">c</text><text font-family=\"serif\" font-size=\"9.5\" text-anchor=\"middle\" x=\"80.5\" y=\"8\">d</text><text font-family=\"serif\" font-size=\"9.5\" text-anchor=\"middle\" x=\"100.5\" y=\"8\">e</text><text font-family=\"serif\" font-size=\"9.5\" text-anchor=\"middle\" x=\"120.5\" y=\"8\">f</text><text font-family=\"serif\" font-size=\"9.5\" text-anchor=\"middle\" x=\"140.5\" y=\"8\">g</text><text font-family=\"serif\" font-size=\"9.5\" text-anchor=\"middle\" x=\"160.5\" y=\"8\">h</text><text font-family=\"serif\" font-size=\"9.5\" x=\"2.5\" y=\"23.5\">1</text><text font-family=\"serif\" font-size=\"9.5\" x=\"2.5\" y=\"43.5\">2</text><text font-family=\"serif\" font-size=\"9.5\" x=\"2.5\" y=\"63.5\">3</text><text font-family=\"serif\" font-size=\"9.5\" x=\"2.5\" y=\"83.5\">4</text><text font-family=\"serif\" font-size=\"9.5\" x=\"2.5\" y=\"103.5\">5</text><text font-family=\"serif\" font-size=\"9.5\" x=\"2.5\" y=\"123.5\">6</text><text font-family=\"serif\" font-size=\"9.5\" x=\"2.5\" y=\"143.5\">7</text><text font-family=\"serif\" font-size=\"9.5\" x=\"2.5\" y=\"163.5\">8</text></g><use x=\"50.5\" xlink:href=\"#black\" y=\"30.5\"/><use x=\"150.5\" xlink:href=\"#white\" y=\"30.5\"/><use x=\"50.5\" xlink:href=\"#black\" y=\"50.5\"/><use x=\"70.5\" xlink:href=\"#black\" y=\"50.5\"/><use x=\"90.5\" xlink:href=\"#black\" y=\"50.5\"/><use x=\"110.5\" xlink:href=\"#black\" y=\"50.5\"/><use x=\"130.5\" xlink:href=\"#white\" y=\"50.5\"/><use x=\"150.5\" xlink:href=\"#white\" y=\"50.5\"/><use x=\"70.5\" xlink:href=\"#black\" y=\"70.5\"/><use x=\"90.5\" xlink:href=\"#black\" y=\"70.5\"/><use x=\"110.5\" xlink:href=\"#white\" y=\"70.5\"/><use x=\"130.5\" xlink:href=\"#white\" y=\"70.5\"/><use x=\"150.5\" xlink:href=\"#white\" y=\"70.5\"/><use x=\"50.5\" xlink:href=\"#black\" y=\"90.5\"/><use x=\"70.5\" xlink:href=\"#black\" y=\"90.5\"/><use x=\"90.5\" xlink:href=\"#white\" y=\"90.5\"/><use x=\"110.5\" xlink:href=\"#black\" y=\"90.5\"/><use x=\"130.5\" xlink:href=\"#white\" y=\"90.5\"/><use x=\"150.5\" xlink:href=\"#white\" y=\"90.5\"/><use x=\"50.5\" xlink:href=\"#black\" y=\"110.5\"/><use x=\"70.5\" xlink:href=\"#white\" y=\"110.5\"/><use x=\"90.5\" xlink:href=\"#black\" y=\"110.5\"/><use x=\"110.5\" xlink:href=\"#black\" y=\"110.5\"/><use x=\"130.5\" xlink:href=\"#black\" y=\"110.5\"/><use x=\"150.5\" xlink:href=\"#white\" y=\"110.5\"/><use x=\"50.5\" xlink:href=\"#white\" y=\"130.5\"/><use x=\"70.5\" xlink:href=\"#black\" y=\"130.5\"/><use x=\"90.5\" xlink:href=\"#white\" y=\"130.5\"/><use x=\"110.5\" xlink:href=\"#black\" y=\"130.5\"/><use x=\"130.5\" xlink:href=\"#black\" y=\"130.5\"/><use x=\"150.5\" xlink:href=\"#white\" y=\"130.5\"/><use x=\"30.5\" xlink:href=\"#white\" y=\"150.5\"/><use x=\"50.5\" xlink:href=\"#white\" y=\"150.5\"/><use x=\"70.5\" xlink:href=\"#white\" y=\"150.5\"/><use x=\"90.5\" xlink:href=\"#white\" y=\"150.5\"/><use x=\"110.5\" xlink:href=\"#white\" y=\"150.5\"/><use x=\"130.5\" xlink:href=\"#white\" y=\"150.5\"/><use x=\"150.5\" xlink:href=\"#white\" y=\"150.5\"/></svg>",
            "text/plain": [
              "<IPython.core.display.SVG object>"
            ]
          },
          "metadata": {
            "tags": []
          },
          "output_type": "display_data"
        },
        {
          "name": "stdout",
          "output_type": "stream",
          "text": [
            "g2\n",
            "36: white\n"
          ]
        },
        {
          "data": {
            "image/svg+xml": "<svg height=\"215.0\" version=\"1.1\" viewBox=\"0 0 172 172\" width=\"215.0\" xmlns=\"http://www.w3.org/2000/svg\" xmlns:xlink=\"http://www.w3.org/1999/xlink\"><defs><g id=\"black\"><circle cx=\"10\" cy=\"10\" fill=\"black\" r=\"8.5\"/></g><g id=\"white\"><circle cx=\"10\" cy=\"10\" fill=\"white\" r=\"8.5\"/></g></defs><rect fill=\"green\" height=\"161\" width=\"161\" x=\"10\" y=\"10\"/><rect fill=\"#8bbf83\" height=\"20\" width=\"20\" x=\"130.5\" y=\"30.5\"/><g stroke=\"black\"><rect fill=\"none\" height=\"161\" stroke-width=\"1.5\" width=\"161\" x=\"10\" y=\"10\"/><line stroke-width=\"1.0\" x1=\"10.5\" x2=\"170.5\" y1=\"30.5\" y2=\"30.5\"/><line stroke-width=\"1.0\" x1=\"10.5\" x2=\"170.5\" y1=\"50.5\" y2=\"50.5\"/><line stroke-width=\"1.0\" x1=\"10.5\" x2=\"170.5\" y1=\"70.5\" y2=\"70.5\"/><line stroke-width=\"1.0\" x1=\"10.5\" x2=\"170.5\" y1=\"90.5\" y2=\"90.5\"/><line stroke-width=\"1.0\" x1=\"10.5\" x2=\"170.5\" y1=\"110.5\" y2=\"110.5\"/><line stroke-width=\"1.0\" x1=\"10.5\" x2=\"170.5\" y1=\"130.5\" y2=\"130.5\"/><line stroke-width=\"1.0\" x1=\"10.5\" x2=\"170.5\" y1=\"150.5\" y2=\"150.5\"/><line stroke-width=\"1.0\" x1=\"30.5\" x2=\"30.5\" y1=\"10.5\" y2=\"170.5\"/><line stroke-width=\"1.0\" x1=\"50.5\" x2=\"50.5\" y1=\"10.5\" y2=\"170.5\"/><line stroke-width=\"1.0\" x1=\"70.5\" x2=\"70.5\" y1=\"10.5\" y2=\"170.5\"/><line stroke-width=\"1.0\" x1=\"90.5\" x2=\"90.5\" y1=\"10.5\" y2=\"170.5\"/><line stroke-width=\"1.0\" x1=\"110.5\" x2=\"110.5\" y1=\"10.5\" y2=\"170.5\"/><line stroke-width=\"1.0\" x1=\"130.5\" x2=\"130.5\" y1=\"10.5\" y2=\"170.5\"/><line stroke-width=\"1.0\" x1=\"150.5\" x2=\"150.5\" y1=\"10.5\" y2=\"170.5\"/></g><g><text font-family=\"serif\" font-size=\"9.5\" text-anchor=\"middle\" x=\"20.5\" y=\"8\">a</text><text font-family=\"serif\" font-size=\"9.5\" text-anchor=\"middle\" x=\"40.5\" y=\"8\">b</text><text font-family=\"serif\" font-size=\"9.5\" text-anchor=\"middle\" x=\"60.5\" y=\"8\">c</text><text font-family=\"serif\" font-size=\"9.5\" text-anchor=\"middle\" x=\"80.5\" y=\"8\">d</text><text font-family=\"serif\" font-size=\"9.5\" text-anchor=\"middle\" x=\"100.5\" y=\"8\">e</text><text font-family=\"serif\" font-size=\"9.5\" text-anchor=\"middle\" x=\"120.5\" y=\"8\">f</text><text font-family=\"serif\" font-size=\"9.5\" text-anchor=\"middle\" x=\"140.5\" y=\"8\">g</text><text font-family=\"serif\" font-size=\"9.5\" text-anchor=\"middle\" x=\"160.5\" y=\"8\">h</text><text font-family=\"serif\" font-size=\"9.5\" x=\"2.5\" y=\"23.5\">1</text><text font-family=\"serif\" font-size=\"9.5\" x=\"2.5\" y=\"43.5\">2</text><text font-family=\"serif\" font-size=\"9.5\" x=\"2.5\" y=\"63.5\">3</text><text font-family=\"serif\" font-size=\"9.5\" x=\"2.5\" y=\"83.5\">4</text><text font-family=\"serif\" font-size=\"9.5\" x=\"2.5\" y=\"103.5\">5</text><text font-family=\"serif\" font-size=\"9.5\" x=\"2.5\" y=\"123.5\">6</text><text font-family=\"serif\" font-size=\"9.5\" x=\"2.5\" y=\"143.5\">7</text><text font-family=\"serif\" font-size=\"9.5\" x=\"2.5\" y=\"163.5\">8</text></g><use x=\"50.5\" xlink:href=\"#black\" y=\"30.5\"/><use x=\"130.5\" xlink:href=\"#black\" y=\"30.5\"/><use x=\"150.5\" xlink:href=\"#white\" y=\"30.5\"/><use x=\"50.5\" xlink:href=\"#black\" y=\"50.5\"/><use x=\"70.5\" xlink:href=\"#black\" y=\"50.5\"/><use x=\"90.5\" xlink:href=\"#black\" y=\"50.5\"/><use x=\"110.5\" xlink:href=\"#black\" y=\"50.5\"/><use x=\"130.5\" xlink:href=\"#black\" y=\"50.5\"/><use x=\"150.5\" xlink:href=\"#white\" y=\"50.5\"/><use x=\"70.5\" xlink:href=\"#black\" y=\"70.5\"/><use x=\"90.5\" xlink:href=\"#black\" y=\"70.5\"/><use x=\"110.5\" xlink:href=\"#white\" y=\"70.5\"/><use x=\"130.5\" xlink:href=\"#black\" y=\"70.5\"/><use x=\"150.5\" xlink:href=\"#white\" y=\"70.5\"/><use x=\"50.5\" xlink:href=\"#black\" y=\"90.5\"/><use x=\"70.5\" xlink:href=\"#black\" y=\"90.5\"/><use x=\"90.5\" xlink:href=\"#white\" y=\"90.5\"/><use x=\"110.5\" xlink:href=\"#black\" y=\"90.5\"/><use x=\"130.5\" xlink:href=\"#black\" y=\"90.5\"/><use x=\"150.5\" xlink:href=\"#white\" y=\"90.5\"/><use x=\"50.5\" xlink:href=\"#black\" y=\"110.5\"/><use x=\"70.5\" xlink:href=\"#white\" y=\"110.5\"/><use x=\"90.5\" xlink:href=\"#black\" y=\"110.5\"/><use x=\"110.5\" xlink:href=\"#black\" y=\"110.5\"/><use x=\"130.5\" xlink:href=\"#black\" y=\"110.5\"/><use x=\"150.5\" xlink:href=\"#white\" y=\"110.5\"/><use x=\"50.5\" xlink:href=\"#white\" y=\"130.5\"/><use x=\"70.5\" xlink:href=\"#black\" y=\"130.5\"/><use x=\"90.5\" xlink:href=\"#white\" y=\"130.5\"/><use x=\"110.5\" xlink:href=\"#black\" y=\"130.5\"/><use x=\"130.5\" xlink:href=\"#black\" y=\"130.5\"/><use x=\"150.5\" xlink:href=\"#white\" y=\"130.5\"/><use x=\"30.5\" xlink:href=\"#white\" y=\"150.5\"/><use x=\"50.5\" xlink:href=\"#white\" y=\"150.5\"/><use x=\"70.5\" xlink:href=\"#white\" y=\"150.5\"/><use x=\"90.5\" xlink:href=\"#white\" y=\"150.5\"/><use x=\"110.5\" xlink:href=\"#white\" y=\"150.5\"/><use x=\"130.5\" xlink:href=\"#white\" y=\"150.5\"/><use x=\"150.5\" xlink:href=\"#white\" y=\"150.5\"/></svg>",
            "text/plain": [
              "<IPython.core.display.SVG object>"
            ]
          },
          "metadata": {
            "tags": []
          },
          "output_type": "display_data"
        },
        {
          "name": "stdout",
          "output_type": "stream",
          "text": [
            "c4\n",
            "c4\n",
            "37: black\n"
          ]
        },
        {
          "data": {
            "image/svg+xml": "<svg height=\"215.0\" version=\"1.1\" viewBox=\"0 0 172 172\" width=\"215.0\" xmlns=\"http://www.w3.org/2000/svg\" xmlns:xlink=\"http://www.w3.org/1999/xlink\"><defs><g id=\"black\"><circle cx=\"10\" cy=\"10\" fill=\"black\" r=\"8.5\"/></g><g id=\"white\"><circle cx=\"10\" cy=\"10\" fill=\"white\" r=\"8.5\"/></g></defs><rect fill=\"green\" height=\"161\" width=\"161\" x=\"10\" y=\"10\"/><rect fill=\"#8bbf83\" height=\"20\" width=\"20\" x=\"50.5\" y=\"70.5\"/><g stroke=\"black\"><rect fill=\"none\" height=\"161\" stroke-width=\"1.5\" width=\"161\" x=\"10\" y=\"10\"/><line stroke-width=\"1.0\" x1=\"10.5\" x2=\"170.5\" y1=\"30.5\" y2=\"30.5\"/><line stroke-width=\"1.0\" x1=\"10.5\" x2=\"170.5\" y1=\"50.5\" y2=\"50.5\"/><line stroke-width=\"1.0\" x1=\"10.5\" x2=\"170.5\" y1=\"70.5\" y2=\"70.5\"/><line stroke-width=\"1.0\" x1=\"10.5\" x2=\"170.5\" y1=\"90.5\" y2=\"90.5\"/><line stroke-width=\"1.0\" x1=\"10.5\" x2=\"170.5\" y1=\"110.5\" y2=\"110.5\"/><line stroke-width=\"1.0\" x1=\"10.5\" x2=\"170.5\" y1=\"130.5\" y2=\"130.5\"/><line stroke-width=\"1.0\" x1=\"10.5\" x2=\"170.5\" y1=\"150.5\" y2=\"150.5\"/><line stroke-width=\"1.0\" x1=\"30.5\" x2=\"30.5\" y1=\"10.5\" y2=\"170.5\"/><line stroke-width=\"1.0\" x1=\"50.5\" x2=\"50.5\" y1=\"10.5\" y2=\"170.5\"/><line stroke-width=\"1.0\" x1=\"70.5\" x2=\"70.5\" y1=\"10.5\" y2=\"170.5\"/><line stroke-width=\"1.0\" x1=\"90.5\" x2=\"90.5\" y1=\"10.5\" y2=\"170.5\"/><line stroke-width=\"1.0\" x1=\"110.5\" x2=\"110.5\" y1=\"10.5\" y2=\"170.5\"/><line stroke-width=\"1.0\" x1=\"130.5\" x2=\"130.5\" y1=\"10.5\" y2=\"170.5\"/><line stroke-width=\"1.0\" x1=\"150.5\" x2=\"150.5\" y1=\"10.5\" y2=\"170.5\"/></g><g><text font-family=\"serif\" font-size=\"9.5\" text-anchor=\"middle\" x=\"20.5\" y=\"8\">a</text><text font-family=\"serif\" font-size=\"9.5\" text-anchor=\"middle\" x=\"40.5\" y=\"8\">b</text><text font-family=\"serif\" font-size=\"9.5\" text-anchor=\"middle\" x=\"60.5\" y=\"8\">c</text><text font-family=\"serif\" font-size=\"9.5\" text-anchor=\"middle\" x=\"80.5\" y=\"8\">d</text><text font-family=\"serif\" font-size=\"9.5\" text-anchor=\"middle\" x=\"100.5\" y=\"8\">e</text><text font-family=\"serif\" font-size=\"9.5\" text-anchor=\"middle\" x=\"120.5\" y=\"8\">f</text><text font-family=\"serif\" font-size=\"9.5\" text-anchor=\"middle\" x=\"140.5\" y=\"8\">g</text><text font-family=\"serif\" font-size=\"9.5\" text-anchor=\"middle\" x=\"160.5\" y=\"8\">h</text><text font-family=\"serif\" font-size=\"9.5\" x=\"2.5\" y=\"23.5\">1</text><text font-family=\"serif\" font-size=\"9.5\" x=\"2.5\" y=\"43.5\">2</text><text font-family=\"serif\" font-size=\"9.5\" x=\"2.5\" y=\"63.5\">3</text><text font-family=\"serif\" font-size=\"9.5\" x=\"2.5\" y=\"83.5\">4</text><text font-family=\"serif\" font-size=\"9.5\" x=\"2.5\" y=\"103.5\">5</text><text font-family=\"serif\" font-size=\"9.5\" x=\"2.5\" y=\"123.5\">6</text><text font-family=\"serif\" font-size=\"9.5\" x=\"2.5\" y=\"143.5\">7</text><text font-family=\"serif\" font-size=\"9.5\" x=\"2.5\" y=\"163.5\">8</text></g><use x=\"50.5\" xlink:href=\"#black\" y=\"30.5\"/><use x=\"130.5\" xlink:href=\"#black\" y=\"30.5\"/><use x=\"150.5\" xlink:href=\"#white\" y=\"30.5\"/><use x=\"50.5\" xlink:href=\"#black\" y=\"50.5\"/><use x=\"70.5\" xlink:href=\"#black\" y=\"50.5\"/><use x=\"90.5\" xlink:href=\"#black\" y=\"50.5\"/><use x=\"110.5\" xlink:href=\"#black\" y=\"50.5\"/><use x=\"130.5\" xlink:href=\"#black\" y=\"50.5\"/><use x=\"150.5\" xlink:href=\"#white\" y=\"50.5\"/><use x=\"50.5\" xlink:href=\"#white\" y=\"70.5\"/><use x=\"70.5\" xlink:href=\"#white\" y=\"70.5\"/><use x=\"90.5\" xlink:href=\"#white\" y=\"70.5\"/><use x=\"110.5\" xlink:href=\"#white\" y=\"70.5\"/><use x=\"130.5\" xlink:href=\"#black\" y=\"70.5\"/><use x=\"150.5\" xlink:href=\"#white\" y=\"70.5\"/><use x=\"50.5\" xlink:href=\"#white\" y=\"90.5\"/><use x=\"70.5\" xlink:href=\"#white\" y=\"90.5\"/><use x=\"90.5\" xlink:href=\"#white\" y=\"90.5\"/><use x=\"110.5\" xlink:href=\"#black\" y=\"90.5\"/><use x=\"130.5\" xlink:href=\"#black\" y=\"90.5\"/><use x=\"150.5\" xlink:href=\"#white\" y=\"90.5\"/><use x=\"50.5\" xlink:href=\"#white\" y=\"110.5\"/><use x=\"70.5\" xlink:href=\"#white\" y=\"110.5\"/><use x=\"90.5\" xlink:href=\"#white\" y=\"110.5\"/><use x=\"110.5\" xlink:href=\"#black\" y=\"110.5\"/><use x=\"130.5\" xlink:href=\"#black\" y=\"110.5\"/><use x=\"150.5\" xlink:href=\"#white\" y=\"110.5\"/><use x=\"50.5\" xlink:href=\"#white\" y=\"130.5\"/><use x=\"70.5\" xlink:href=\"#black\" y=\"130.5\"/><use x=\"90.5\" xlink:href=\"#white\" y=\"130.5\"/><use x=\"110.5\" xlink:href=\"#white\" y=\"130.5\"/><use x=\"130.5\" xlink:href=\"#black\" y=\"130.5\"/><use x=\"150.5\" xlink:href=\"#white\" y=\"130.5\"/><use x=\"30.5\" xlink:href=\"#white\" y=\"150.5\"/><use x=\"50.5\" xlink:href=\"#white\" y=\"150.5\"/><use x=\"70.5\" xlink:href=\"#white\" y=\"150.5\"/><use x=\"90.5\" xlink:href=\"#white\" y=\"150.5\"/><use x=\"110.5\" xlink:href=\"#white\" y=\"150.5\"/><use x=\"130.5\" xlink:href=\"#white\" y=\"150.5\"/><use x=\"150.5\" xlink:href=\"#white\" y=\"150.5\"/></svg>",
            "text/plain": [
              "<IPython.core.display.SVG object>"
            ]
          },
          "metadata": {
            "tags": []
          },
          "output_type": "display_data"
        },
        {
          "name": "stdout",
          "output_type": "stream",
          "text": [
            "b4\n",
            "38: white\n"
          ]
        },
        {
          "data": {
            "image/svg+xml": "<svg height=\"215.0\" version=\"1.1\" viewBox=\"0 0 172 172\" width=\"215.0\" xmlns=\"http://www.w3.org/2000/svg\" xmlns:xlink=\"http://www.w3.org/1999/xlink\"><defs><g id=\"black\"><circle cx=\"10\" cy=\"10\" fill=\"black\" r=\"8.5\"/></g><g id=\"white\"><circle cx=\"10\" cy=\"10\" fill=\"white\" r=\"8.5\"/></g></defs><rect fill=\"green\" height=\"161\" width=\"161\" x=\"10\" y=\"10\"/><rect fill=\"#8bbf83\" height=\"20\" width=\"20\" x=\"30.5\" y=\"70.5\"/><g stroke=\"black\"><rect fill=\"none\" height=\"161\" stroke-width=\"1.5\" width=\"161\" x=\"10\" y=\"10\"/><line stroke-width=\"1.0\" x1=\"10.5\" x2=\"170.5\" y1=\"30.5\" y2=\"30.5\"/><line stroke-width=\"1.0\" x1=\"10.5\" x2=\"170.5\" y1=\"50.5\" y2=\"50.5\"/><line stroke-width=\"1.0\" x1=\"10.5\" x2=\"170.5\" y1=\"70.5\" y2=\"70.5\"/><line stroke-width=\"1.0\" x1=\"10.5\" x2=\"170.5\" y1=\"90.5\" y2=\"90.5\"/><line stroke-width=\"1.0\" x1=\"10.5\" x2=\"170.5\" y1=\"110.5\" y2=\"110.5\"/><line stroke-width=\"1.0\" x1=\"10.5\" x2=\"170.5\" y1=\"130.5\" y2=\"130.5\"/><line stroke-width=\"1.0\" x1=\"10.5\" x2=\"170.5\" y1=\"150.5\" y2=\"150.5\"/><line stroke-width=\"1.0\" x1=\"30.5\" x2=\"30.5\" y1=\"10.5\" y2=\"170.5\"/><line stroke-width=\"1.0\" x1=\"50.5\" x2=\"50.5\" y1=\"10.5\" y2=\"170.5\"/><line stroke-width=\"1.0\" x1=\"70.5\" x2=\"70.5\" y1=\"10.5\" y2=\"170.5\"/><line stroke-width=\"1.0\" x1=\"90.5\" x2=\"90.5\" y1=\"10.5\" y2=\"170.5\"/><line stroke-width=\"1.0\" x1=\"110.5\" x2=\"110.5\" y1=\"10.5\" y2=\"170.5\"/><line stroke-width=\"1.0\" x1=\"130.5\" x2=\"130.5\" y1=\"10.5\" y2=\"170.5\"/><line stroke-width=\"1.0\" x1=\"150.5\" x2=\"150.5\" y1=\"10.5\" y2=\"170.5\"/></g><g><text font-family=\"serif\" font-size=\"9.5\" text-anchor=\"middle\" x=\"20.5\" y=\"8\">a</text><text font-family=\"serif\" font-size=\"9.5\" text-anchor=\"middle\" x=\"40.5\" y=\"8\">b</text><text font-family=\"serif\" font-size=\"9.5\" text-anchor=\"middle\" x=\"60.5\" y=\"8\">c</text><text font-family=\"serif\" font-size=\"9.5\" text-anchor=\"middle\" x=\"80.5\" y=\"8\">d</text><text font-family=\"serif\" font-size=\"9.5\" text-anchor=\"middle\" x=\"100.5\" y=\"8\">e</text><text font-family=\"serif\" font-size=\"9.5\" text-anchor=\"middle\" x=\"120.5\" y=\"8\">f</text><text font-family=\"serif\" font-size=\"9.5\" text-anchor=\"middle\" x=\"140.5\" y=\"8\">g</text><text font-family=\"serif\" font-size=\"9.5\" text-anchor=\"middle\" x=\"160.5\" y=\"8\">h</text><text font-family=\"serif\" font-size=\"9.5\" x=\"2.5\" y=\"23.5\">1</text><text font-family=\"serif\" font-size=\"9.5\" x=\"2.5\" y=\"43.5\">2</text><text font-family=\"serif\" font-size=\"9.5\" x=\"2.5\" y=\"63.5\">3</text><text font-family=\"serif\" font-size=\"9.5\" x=\"2.5\" y=\"83.5\">4</text><text font-family=\"serif\" font-size=\"9.5\" x=\"2.5\" y=\"103.5\">5</text><text font-family=\"serif\" font-size=\"9.5\" x=\"2.5\" y=\"123.5\">6</text><text font-family=\"serif\" font-size=\"9.5\" x=\"2.5\" y=\"143.5\">7</text><text font-family=\"serif\" font-size=\"9.5\" x=\"2.5\" y=\"163.5\">8</text></g><use x=\"50.5\" xlink:href=\"#black\" y=\"30.5\"/><use x=\"130.5\" xlink:href=\"#black\" y=\"30.5\"/><use x=\"150.5\" xlink:href=\"#white\" y=\"30.5\"/><use x=\"50.5\" xlink:href=\"#black\" y=\"50.5\"/><use x=\"70.5\" xlink:href=\"#black\" y=\"50.5\"/><use x=\"90.5\" xlink:href=\"#black\" y=\"50.5\"/><use x=\"110.5\" xlink:href=\"#black\" y=\"50.5\"/><use x=\"130.5\" xlink:href=\"#black\" y=\"50.5\"/><use x=\"150.5\" xlink:href=\"#white\" y=\"50.5\"/><use x=\"30.5\" xlink:href=\"#black\" y=\"70.5\"/><use x=\"50.5\" xlink:href=\"#black\" y=\"70.5\"/><use x=\"70.5\" xlink:href=\"#black\" y=\"70.5\"/><use x=\"90.5\" xlink:href=\"#black\" y=\"70.5\"/><use x=\"110.5\" xlink:href=\"#black\" y=\"70.5\"/><use x=\"130.5\" xlink:href=\"#black\" y=\"70.5\"/><use x=\"150.5\" xlink:href=\"#white\" y=\"70.5\"/><use x=\"50.5\" xlink:href=\"#white\" y=\"90.5\"/><use x=\"70.5\" xlink:href=\"#white\" y=\"90.5\"/><use x=\"90.5\" xlink:href=\"#white\" y=\"90.5\"/><use x=\"110.5\" xlink:href=\"#black\" y=\"90.5\"/><use x=\"130.5\" xlink:href=\"#black\" y=\"90.5\"/><use x=\"150.5\" xlink:href=\"#white\" y=\"90.5\"/><use x=\"50.5\" xlink:href=\"#white\" y=\"110.5\"/><use x=\"70.5\" xlink:href=\"#white\" y=\"110.5\"/><use x=\"90.5\" xlink:href=\"#white\" y=\"110.5\"/><use x=\"110.5\" xlink:href=\"#black\" y=\"110.5\"/><use x=\"130.5\" xlink:href=\"#black\" y=\"110.5\"/><use x=\"150.5\" xlink:href=\"#white\" y=\"110.5\"/><use x=\"50.5\" xlink:href=\"#white\" y=\"130.5\"/><use x=\"70.5\" xlink:href=\"#black\" y=\"130.5\"/><use x=\"90.5\" xlink:href=\"#white\" y=\"130.5\"/><use x=\"110.5\" xlink:href=\"#white\" y=\"130.5\"/><use x=\"130.5\" xlink:href=\"#black\" y=\"130.5\"/><use x=\"150.5\" xlink:href=\"#white\" y=\"130.5\"/><use x=\"30.5\" xlink:href=\"#white\" y=\"150.5\"/><use x=\"50.5\" xlink:href=\"#white\" y=\"150.5\"/><use x=\"70.5\" xlink:href=\"#white\" y=\"150.5\"/><use x=\"90.5\" xlink:href=\"#white\" y=\"150.5\"/><use x=\"110.5\" xlink:href=\"#white\" y=\"150.5\"/><use x=\"130.5\" xlink:href=\"#white\" y=\"150.5\"/><use x=\"150.5\" xlink:href=\"#white\" y=\"150.5\"/></svg>",
            "text/plain": [
              "<IPython.core.display.SVG object>"
            ]
          },
          "metadata": {
            "tags": []
          },
          "output_type": "display_data"
        },
        {
          "name": "stdout",
          "output_type": "stream",
          "text": [
            "a4\n",
            "a4\n",
            "39: black\n"
          ]
        },
        {
          "data": {
            "image/svg+xml": "<svg height=\"215.0\" version=\"1.1\" viewBox=\"0 0 172 172\" width=\"215.0\" xmlns=\"http://www.w3.org/2000/svg\" xmlns:xlink=\"http://www.w3.org/1999/xlink\"><defs><g id=\"black\"><circle cx=\"10\" cy=\"10\" fill=\"black\" r=\"8.5\"/></g><g id=\"white\"><circle cx=\"10\" cy=\"10\" fill=\"white\" r=\"8.5\"/></g></defs><rect fill=\"green\" height=\"161\" width=\"161\" x=\"10\" y=\"10\"/><rect fill=\"#8bbf83\" height=\"20\" width=\"20\" x=\"10.5\" y=\"70.5\"/><g stroke=\"black\"><rect fill=\"none\" height=\"161\" stroke-width=\"1.5\" width=\"161\" x=\"10\" y=\"10\"/><line stroke-width=\"1.0\" x1=\"10.5\" x2=\"170.5\" y1=\"30.5\" y2=\"30.5\"/><line stroke-width=\"1.0\" x1=\"10.5\" x2=\"170.5\" y1=\"50.5\" y2=\"50.5\"/><line stroke-width=\"1.0\" x1=\"10.5\" x2=\"170.5\" y1=\"70.5\" y2=\"70.5\"/><line stroke-width=\"1.0\" x1=\"10.5\" x2=\"170.5\" y1=\"90.5\" y2=\"90.5\"/><line stroke-width=\"1.0\" x1=\"10.5\" x2=\"170.5\" y1=\"110.5\" y2=\"110.5\"/><line stroke-width=\"1.0\" x1=\"10.5\" x2=\"170.5\" y1=\"130.5\" y2=\"130.5\"/><line stroke-width=\"1.0\" x1=\"10.5\" x2=\"170.5\" y1=\"150.5\" y2=\"150.5\"/><line stroke-width=\"1.0\" x1=\"30.5\" x2=\"30.5\" y1=\"10.5\" y2=\"170.5\"/><line stroke-width=\"1.0\" x1=\"50.5\" x2=\"50.5\" y1=\"10.5\" y2=\"170.5\"/><line stroke-width=\"1.0\" x1=\"70.5\" x2=\"70.5\" y1=\"10.5\" y2=\"170.5\"/><line stroke-width=\"1.0\" x1=\"90.5\" x2=\"90.5\" y1=\"10.5\" y2=\"170.5\"/><line stroke-width=\"1.0\" x1=\"110.5\" x2=\"110.5\" y1=\"10.5\" y2=\"170.5\"/><line stroke-width=\"1.0\" x1=\"130.5\" x2=\"130.5\" y1=\"10.5\" y2=\"170.5\"/><line stroke-width=\"1.0\" x1=\"150.5\" x2=\"150.5\" y1=\"10.5\" y2=\"170.5\"/></g><g><text font-family=\"serif\" font-size=\"9.5\" text-anchor=\"middle\" x=\"20.5\" y=\"8\">a</text><text font-family=\"serif\" font-size=\"9.5\" text-anchor=\"middle\" x=\"40.5\" y=\"8\">b</text><text font-family=\"serif\" font-size=\"9.5\" text-anchor=\"middle\" x=\"60.5\" y=\"8\">c</text><text font-family=\"serif\" font-size=\"9.5\" text-anchor=\"middle\" x=\"80.5\" y=\"8\">d</text><text font-family=\"serif\" font-size=\"9.5\" text-anchor=\"middle\" x=\"100.5\" y=\"8\">e</text><text font-family=\"serif\" font-size=\"9.5\" text-anchor=\"middle\" x=\"120.5\" y=\"8\">f</text><text font-family=\"serif\" font-size=\"9.5\" text-anchor=\"middle\" x=\"140.5\" y=\"8\">g</text><text font-family=\"serif\" font-size=\"9.5\" text-anchor=\"middle\" x=\"160.5\" y=\"8\">h</text><text font-family=\"serif\" font-size=\"9.5\" x=\"2.5\" y=\"23.5\">1</text><text font-family=\"serif\" font-size=\"9.5\" x=\"2.5\" y=\"43.5\">2</text><text font-family=\"serif\" font-size=\"9.5\" x=\"2.5\" y=\"63.5\">3</text><text font-family=\"serif\" font-size=\"9.5\" x=\"2.5\" y=\"83.5\">4</text><text font-family=\"serif\" font-size=\"9.5\" x=\"2.5\" y=\"103.5\">5</text><text font-family=\"serif\" font-size=\"9.5\" x=\"2.5\" y=\"123.5\">6</text><text font-family=\"serif\" font-size=\"9.5\" x=\"2.5\" y=\"143.5\">7</text><text font-family=\"serif\" font-size=\"9.5\" x=\"2.5\" y=\"163.5\">8</text></g><use x=\"50.5\" xlink:href=\"#black\" y=\"30.5\"/><use x=\"130.5\" xlink:href=\"#black\" y=\"30.5\"/><use x=\"150.5\" xlink:href=\"#white\" y=\"30.5\"/><use x=\"50.5\" xlink:href=\"#black\" y=\"50.5\"/><use x=\"70.5\" xlink:href=\"#black\" y=\"50.5\"/><use x=\"90.5\" xlink:href=\"#black\" y=\"50.5\"/><use x=\"110.5\" xlink:href=\"#black\" y=\"50.5\"/><use x=\"130.5\" xlink:href=\"#black\" y=\"50.5\"/><use x=\"150.5\" xlink:href=\"#white\" y=\"50.5\"/><use x=\"10.5\" xlink:href=\"#white\" y=\"70.5\"/><use x=\"30.5\" xlink:href=\"#white\" y=\"70.5\"/><use x=\"50.5\" xlink:href=\"#white\" y=\"70.5\"/><use x=\"70.5\" xlink:href=\"#white\" y=\"70.5\"/><use x=\"90.5\" xlink:href=\"#white\" y=\"70.5\"/><use x=\"110.5\" xlink:href=\"#white\" y=\"70.5\"/><use x=\"130.5\" xlink:href=\"#white\" y=\"70.5\"/><use x=\"150.5\" xlink:href=\"#white\" y=\"70.5\"/><use x=\"50.5\" xlink:href=\"#white\" y=\"90.5\"/><use x=\"70.5\" xlink:href=\"#white\" y=\"90.5\"/><use x=\"90.5\" xlink:href=\"#white\" y=\"90.5\"/><use x=\"110.5\" xlink:href=\"#black\" y=\"90.5\"/><use x=\"130.5\" xlink:href=\"#black\" y=\"90.5\"/><use x=\"150.5\" xlink:href=\"#white\" y=\"90.5\"/><use x=\"50.5\" xlink:href=\"#white\" y=\"110.5\"/><use x=\"70.5\" xlink:href=\"#white\" y=\"110.5\"/><use x=\"90.5\" xlink:href=\"#white\" y=\"110.5\"/><use x=\"110.5\" xlink:href=\"#black\" y=\"110.5\"/><use x=\"130.5\" xlink:href=\"#black\" y=\"110.5\"/><use x=\"150.5\" xlink:href=\"#white\" y=\"110.5\"/><use x=\"50.5\" xlink:href=\"#white\" y=\"130.5\"/><use x=\"70.5\" xlink:href=\"#black\" y=\"130.5\"/><use x=\"90.5\" xlink:href=\"#white\" y=\"130.5\"/><use x=\"110.5\" xlink:href=\"#white\" y=\"130.5\"/><use x=\"130.5\" xlink:href=\"#black\" y=\"130.5\"/><use x=\"150.5\" xlink:href=\"#white\" y=\"130.5\"/><use x=\"30.5\" xlink:href=\"#white\" y=\"150.5\"/><use x=\"50.5\" xlink:href=\"#white\" y=\"150.5\"/><use x=\"70.5\" xlink:href=\"#white\" y=\"150.5\"/><use x=\"90.5\" xlink:href=\"#white\" y=\"150.5\"/><use x=\"110.5\" xlink:href=\"#white\" y=\"150.5\"/><use x=\"130.5\" xlink:href=\"#white\" y=\"150.5\"/><use x=\"150.5\" xlink:href=\"#white\" y=\"150.5\"/></svg>",
            "text/plain": [
              "<IPython.core.display.SVG object>"
            ]
          },
          "metadata": {
            "tags": []
          },
          "output_type": "display_data"
        },
        {
          "name": "stdout",
          "output_type": "stream",
          "text": [
            "a5\n",
            "40: white\n"
          ]
        },
        {
          "data": {
            "image/svg+xml": "<svg height=\"215.0\" version=\"1.1\" viewBox=\"0 0 172 172\" width=\"215.0\" xmlns=\"http://www.w3.org/2000/svg\" xmlns:xlink=\"http://www.w3.org/1999/xlink\"><defs><g id=\"black\"><circle cx=\"10\" cy=\"10\" fill=\"black\" r=\"8.5\"/></g><g id=\"white\"><circle cx=\"10\" cy=\"10\" fill=\"white\" r=\"8.5\"/></g></defs><rect fill=\"green\" height=\"161\" width=\"161\" x=\"10\" y=\"10\"/><rect fill=\"#8bbf83\" height=\"20\" width=\"20\" x=\"10.5\" y=\"90.5\"/><g stroke=\"black\"><rect fill=\"none\" height=\"161\" stroke-width=\"1.5\" width=\"161\" x=\"10\" y=\"10\"/><line stroke-width=\"1.0\" x1=\"10.5\" x2=\"170.5\" y1=\"30.5\" y2=\"30.5\"/><line stroke-width=\"1.0\" x1=\"10.5\" x2=\"170.5\" y1=\"50.5\" y2=\"50.5\"/><line stroke-width=\"1.0\" x1=\"10.5\" x2=\"170.5\" y1=\"70.5\" y2=\"70.5\"/><line stroke-width=\"1.0\" x1=\"10.5\" x2=\"170.5\" y1=\"90.5\" y2=\"90.5\"/><line stroke-width=\"1.0\" x1=\"10.5\" x2=\"170.5\" y1=\"110.5\" y2=\"110.5\"/><line stroke-width=\"1.0\" x1=\"10.5\" x2=\"170.5\" y1=\"130.5\" y2=\"130.5\"/><line stroke-width=\"1.0\" x1=\"10.5\" x2=\"170.5\" y1=\"150.5\" y2=\"150.5\"/><line stroke-width=\"1.0\" x1=\"30.5\" x2=\"30.5\" y1=\"10.5\" y2=\"170.5\"/><line stroke-width=\"1.0\" x1=\"50.5\" x2=\"50.5\" y1=\"10.5\" y2=\"170.5\"/><line stroke-width=\"1.0\" x1=\"70.5\" x2=\"70.5\" y1=\"10.5\" y2=\"170.5\"/><line stroke-width=\"1.0\" x1=\"90.5\" x2=\"90.5\" y1=\"10.5\" y2=\"170.5\"/><line stroke-width=\"1.0\" x1=\"110.5\" x2=\"110.5\" y1=\"10.5\" y2=\"170.5\"/><line stroke-width=\"1.0\" x1=\"130.5\" x2=\"130.5\" y1=\"10.5\" y2=\"170.5\"/><line stroke-width=\"1.0\" x1=\"150.5\" x2=\"150.5\" y1=\"10.5\" y2=\"170.5\"/></g><g><text font-family=\"serif\" font-size=\"9.5\" text-anchor=\"middle\" x=\"20.5\" y=\"8\">a</text><text font-family=\"serif\" font-size=\"9.5\" text-anchor=\"middle\" x=\"40.5\" y=\"8\">b</text><text font-family=\"serif\" font-size=\"9.5\" text-anchor=\"middle\" x=\"60.5\" y=\"8\">c</text><text font-family=\"serif\" font-size=\"9.5\" text-anchor=\"middle\" x=\"80.5\" y=\"8\">d</text><text font-family=\"serif\" font-size=\"9.5\" text-anchor=\"middle\" x=\"100.5\" y=\"8\">e</text><text font-family=\"serif\" font-size=\"9.5\" text-anchor=\"middle\" x=\"120.5\" y=\"8\">f</text><text font-family=\"serif\" font-size=\"9.5\" text-anchor=\"middle\" x=\"140.5\" y=\"8\">g</text><text font-family=\"serif\" font-size=\"9.5\" text-anchor=\"middle\" x=\"160.5\" y=\"8\">h</text><text font-family=\"serif\" font-size=\"9.5\" x=\"2.5\" y=\"23.5\">1</text><text font-family=\"serif\" font-size=\"9.5\" x=\"2.5\" y=\"43.5\">2</text><text font-family=\"serif\" font-size=\"9.5\" x=\"2.5\" y=\"63.5\">3</text><text font-family=\"serif\" font-size=\"9.5\" x=\"2.5\" y=\"83.5\">4</text><text font-family=\"serif\" font-size=\"9.5\" x=\"2.5\" y=\"103.5\">5</text><text font-family=\"serif\" font-size=\"9.5\" x=\"2.5\" y=\"123.5\">6</text><text font-family=\"serif\" font-size=\"9.5\" x=\"2.5\" y=\"143.5\">7</text><text font-family=\"serif\" font-size=\"9.5\" x=\"2.5\" y=\"163.5\">8</text></g><use x=\"50.5\" xlink:href=\"#black\" y=\"30.5\"/><use x=\"130.5\" xlink:href=\"#black\" y=\"30.5\"/><use x=\"150.5\" xlink:href=\"#white\" y=\"30.5\"/><use x=\"50.5\" xlink:href=\"#black\" y=\"50.5\"/><use x=\"70.5\" xlink:href=\"#black\" y=\"50.5\"/><use x=\"90.5\" xlink:href=\"#black\" y=\"50.5\"/><use x=\"110.5\" xlink:href=\"#black\" y=\"50.5\"/><use x=\"130.5\" xlink:href=\"#black\" y=\"50.5\"/><use x=\"150.5\" xlink:href=\"#white\" y=\"50.5\"/><use x=\"10.5\" xlink:href=\"#white\" y=\"70.5\"/><use x=\"30.5\" xlink:href=\"#black\" y=\"70.5\"/><use x=\"50.5\" xlink:href=\"#white\" y=\"70.5\"/><use x=\"70.5\" xlink:href=\"#white\" y=\"70.5\"/><use x=\"90.5\" xlink:href=\"#white\" y=\"70.5\"/><use x=\"110.5\" xlink:href=\"#white\" y=\"70.5\"/><use x=\"130.5\" xlink:href=\"#white\" y=\"70.5\"/><use x=\"150.5\" xlink:href=\"#white\" y=\"70.5\"/><use x=\"10.5\" xlink:href=\"#black\" y=\"90.5\"/><use x=\"50.5\" xlink:href=\"#white\" y=\"90.5\"/><use x=\"70.5\" xlink:href=\"#white\" y=\"90.5\"/><use x=\"90.5\" xlink:href=\"#white\" y=\"90.5\"/><use x=\"110.5\" xlink:href=\"#black\" y=\"90.5\"/><use x=\"130.5\" xlink:href=\"#black\" y=\"90.5\"/><use x=\"150.5\" xlink:href=\"#white\" y=\"90.5\"/><use x=\"50.5\" xlink:href=\"#white\" y=\"110.5\"/><use x=\"70.5\" xlink:href=\"#white\" y=\"110.5\"/><use x=\"90.5\" xlink:href=\"#white\" y=\"110.5\"/><use x=\"110.5\" xlink:href=\"#black\" y=\"110.5\"/><use x=\"130.5\" xlink:href=\"#black\" y=\"110.5\"/><use x=\"150.5\" xlink:href=\"#white\" y=\"110.5\"/><use x=\"50.5\" xlink:href=\"#white\" y=\"130.5\"/><use x=\"70.5\" xlink:href=\"#black\" y=\"130.5\"/><use x=\"90.5\" xlink:href=\"#white\" y=\"130.5\"/><use x=\"110.5\" xlink:href=\"#white\" y=\"130.5\"/><use x=\"130.5\" xlink:href=\"#black\" y=\"130.5\"/><use x=\"150.5\" xlink:href=\"#white\" y=\"130.5\"/><use x=\"30.5\" xlink:href=\"#white\" y=\"150.5\"/><use x=\"50.5\" xlink:href=\"#white\" y=\"150.5\"/><use x=\"70.5\" xlink:href=\"#white\" y=\"150.5\"/><use x=\"90.5\" xlink:href=\"#white\" y=\"150.5\"/><use x=\"110.5\" xlink:href=\"#white\" y=\"150.5\"/><use x=\"130.5\" xlink:href=\"#white\" y=\"150.5\"/><use x=\"150.5\" xlink:href=\"#white\" y=\"150.5\"/></svg>",
            "text/plain": [
              "<IPython.core.display.SVG object>"
            ]
          },
          "metadata": {
            "tags": []
          },
          "output_type": "display_data"
        },
        {
          "name": "stdout",
          "output_type": "stream",
          "text": [
            "a6\n",
            "a6\n",
            "41: black\n"
          ]
        },
        {
          "data": {
            "image/svg+xml": "<svg height=\"215.0\" version=\"1.1\" viewBox=\"0 0 172 172\" width=\"215.0\" xmlns=\"http://www.w3.org/2000/svg\" xmlns:xlink=\"http://www.w3.org/1999/xlink\"><defs><g id=\"black\"><circle cx=\"10\" cy=\"10\" fill=\"black\" r=\"8.5\"/></g><g id=\"white\"><circle cx=\"10\" cy=\"10\" fill=\"white\" r=\"8.5\"/></g></defs><rect fill=\"green\" height=\"161\" width=\"161\" x=\"10\" y=\"10\"/><rect fill=\"#8bbf83\" height=\"20\" width=\"20\" x=\"10.5\" y=\"110.5\"/><g stroke=\"black\"><rect fill=\"none\" height=\"161\" stroke-width=\"1.5\" width=\"161\" x=\"10\" y=\"10\"/><line stroke-width=\"1.0\" x1=\"10.5\" x2=\"170.5\" y1=\"30.5\" y2=\"30.5\"/><line stroke-width=\"1.0\" x1=\"10.5\" x2=\"170.5\" y1=\"50.5\" y2=\"50.5\"/><line stroke-width=\"1.0\" x1=\"10.5\" x2=\"170.5\" y1=\"70.5\" y2=\"70.5\"/><line stroke-width=\"1.0\" x1=\"10.5\" x2=\"170.5\" y1=\"90.5\" y2=\"90.5\"/><line stroke-width=\"1.0\" x1=\"10.5\" x2=\"170.5\" y1=\"110.5\" y2=\"110.5\"/><line stroke-width=\"1.0\" x1=\"10.5\" x2=\"170.5\" y1=\"130.5\" y2=\"130.5\"/><line stroke-width=\"1.0\" x1=\"10.5\" x2=\"170.5\" y1=\"150.5\" y2=\"150.5\"/><line stroke-width=\"1.0\" x1=\"30.5\" x2=\"30.5\" y1=\"10.5\" y2=\"170.5\"/><line stroke-width=\"1.0\" x1=\"50.5\" x2=\"50.5\" y1=\"10.5\" y2=\"170.5\"/><line stroke-width=\"1.0\" x1=\"70.5\" x2=\"70.5\" y1=\"10.5\" y2=\"170.5\"/><line stroke-width=\"1.0\" x1=\"90.5\" x2=\"90.5\" y1=\"10.5\" y2=\"170.5\"/><line stroke-width=\"1.0\" x1=\"110.5\" x2=\"110.5\" y1=\"10.5\" y2=\"170.5\"/><line stroke-width=\"1.0\" x1=\"130.5\" x2=\"130.5\" y1=\"10.5\" y2=\"170.5\"/><line stroke-width=\"1.0\" x1=\"150.5\" x2=\"150.5\" y1=\"10.5\" y2=\"170.5\"/></g><g><text font-family=\"serif\" font-size=\"9.5\" text-anchor=\"middle\" x=\"20.5\" y=\"8\">a</text><text font-family=\"serif\" font-size=\"9.5\" text-anchor=\"middle\" x=\"40.5\" y=\"8\">b</text><text font-family=\"serif\" font-size=\"9.5\" text-anchor=\"middle\" x=\"60.5\" y=\"8\">c</text><text font-family=\"serif\" font-size=\"9.5\" text-anchor=\"middle\" x=\"80.5\" y=\"8\">d</text><text font-family=\"serif\" font-size=\"9.5\" text-anchor=\"middle\" x=\"100.5\" y=\"8\">e</text><text font-family=\"serif\" font-size=\"9.5\" text-anchor=\"middle\" x=\"120.5\" y=\"8\">f</text><text font-family=\"serif\" font-size=\"9.5\" text-anchor=\"middle\" x=\"140.5\" y=\"8\">g</text><text font-family=\"serif\" font-size=\"9.5\" text-anchor=\"middle\" x=\"160.5\" y=\"8\">h</text><text font-family=\"serif\" font-size=\"9.5\" x=\"2.5\" y=\"23.5\">1</text><text font-family=\"serif\" font-size=\"9.5\" x=\"2.5\" y=\"43.5\">2</text><text font-family=\"serif\" font-size=\"9.5\" x=\"2.5\" y=\"63.5\">3</text><text font-family=\"serif\" font-size=\"9.5\" x=\"2.5\" y=\"83.5\">4</text><text font-family=\"serif\" font-size=\"9.5\" x=\"2.5\" y=\"103.5\">5</text><text font-family=\"serif\" font-size=\"9.5\" x=\"2.5\" y=\"123.5\">6</text><text font-family=\"serif\" font-size=\"9.5\" x=\"2.5\" y=\"143.5\">7</text><text font-family=\"serif\" font-size=\"9.5\" x=\"2.5\" y=\"163.5\">8</text></g><use x=\"50.5\" xlink:href=\"#black\" y=\"30.5\"/><use x=\"130.5\" xlink:href=\"#black\" y=\"30.5\"/><use x=\"150.5\" xlink:href=\"#white\" y=\"30.5\"/><use x=\"50.5\" xlink:href=\"#black\" y=\"50.5\"/><use x=\"70.5\" xlink:href=\"#black\" y=\"50.5\"/><use x=\"90.5\" xlink:href=\"#black\" y=\"50.5\"/><use x=\"110.5\" xlink:href=\"#black\" y=\"50.5\"/><use x=\"130.5\" xlink:href=\"#black\" y=\"50.5\"/><use x=\"150.5\" xlink:href=\"#white\" y=\"50.5\"/><use x=\"10.5\" xlink:href=\"#white\" y=\"70.5\"/><use x=\"30.5\" xlink:href=\"#black\" y=\"70.5\"/><use x=\"50.5\" xlink:href=\"#white\" y=\"70.5\"/><use x=\"70.5\" xlink:href=\"#white\" y=\"70.5\"/><use x=\"90.5\" xlink:href=\"#white\" y=\"70.5\"/><use x=\"110.5\" xlink:href=\"#white\" y=\"70.5\"/><use x=\"130.5\" xlink:href=\"#white\" y=\"70.5\"/><use x=\"150.5\" xlink:href=\"#white\" y=\"70.5\"/><use x=\"10.5\" xlink:href=\"#white\" y=\"90.5\"/><use x=\"50.5\" xlink:href=\"#white\" y=\"90.5\"/><use x=\"70.5\" xlink:href=\"#white\" y=\"90.5\"/><use x=\"90.5\" xlink:href=\"#white\" y=\"90.5\"/><use x=\"110.5\" xlink:href=\"#black\" y=\"90.5\"/><use x=\"130.5\" xlink:href=\"#black\" y=\"90.5\"/><use x=\"150.5\" xlink:href=\"#white\" y=\"90.5\"/><use x=\"10.5\" xlink:href=\"#white\" y=\"110.5\"/><use x=\"50.5\" xlink:href=\"#white\" y=\"110.5\"/><use x=\"70.5\" xlink:href=\"#white\" y=\"110.5\"/><use x=\"90.5\" xlink:href=\"#white\" y=\"110.5\"/><use x=\"110.5\" xlink:href=\"#black\" y=\"110.5\"/><use x=\"130.5\" xlink:href=\"#black\" y=\"110.5\"/><use x=\"150.5\" xlink:href=\"#white\" y=\"110.5\"/><use x=\"50.5\" xlink:href=\"#white\" y=\"130.5\"/><use x=\"70.5\" xlink:href=\"#black\" y=\"130.5\"/><use x=\"90.5\" xlink:href=\"#white\" y=\"130.5\"/><use x=\"110.5\" xlink:href=\"#white\" y=\"130.5\"/><use x=\"130.5\" xlink:href=\"#black\" y=\"130.5\"/><use x=\"150.5\" xlink:href=\"#white\" y=\"130.5\"/><use x=\"30.5\" xlink:href=\"#white\" y=\"150.5\"/><use x=\"50.5\" xlink:href=\"#white\" y=\"150.5\"/><use x=\"70.5\" xlink:href=\"#white\" y=\"150.5\"/><use x=\"90.5\" xlink:href=\"#white\" y=\"150.5\"/><use x=\"110.5\" xlink:href=\"#white\" y=\"150.5\"/><use x=\"130.5\" xlink:href=\"#white\" y=\"150.5\"/><use x=\"150.5\" xlink:href=\"#white\" y=\"150.5\"/></svg>",
            "text/plain": [
              "<IPython.core.display.SVG object>"
            ]
          },
          "metadata": {
            "tags": []
          },
          "output_type": "display_data"
        },
        {
          "name": "stdout",
          "output_type": "stream",
          "text": [
            "b6\n",
            "42: white\n"
          ]
        },
        {
          "data": {
            "image/svg+xml": "<svg height=\"215.0\" version=\"1.1\" viewBox=\"0 0 172 172\" width=\"215.0\" xmlns=\"http://www.w3.org/2000/svg\" xmlns:xlink=\"http://www.w3.org/1999/xlink\"><defs><g id=\"black\"><circle cx=\"10\" cy=\"10\" fill=\"black\" r=\"8.5\"/></g><g id=\"white\"><circle cx=\"10\" cy=\"10\" fill=\"white\" r=\"8.5\"/></g></defs><rect fill=\"green\" height=\"161\" width=\"161\" x=\"10\" y=\"10\"/><rect fill=\"#8bbf83\" height=\"20\" width=\"20\" x=\"30.5\" y=\"110.5\"/><g stroke=\"black\"><rect fill=\"none\" height=\"161\" stroke-width=\"1.5\" width=\"161\" x=\"10\" y=\"10\"/><line stroke-width=\"1.0\" x1=\"10.5\" x2=\"170.5\" y1=\"30.5\" y2=\"30.5\"/><line stroke-width=\"1.0\" x1=\"10.5\" x2=\"170.5\" y1=\"50.5\" y2=\"50.5\"/><line stroke-width=\"1.0\" x1=\"10.5\" x2=\"170.5\" y1=\"70.5\" y2=\"70.5\"/><line stroke-width=\"1.0\" x1=\"10.5\" x2=\"170.5\" y1=\"90.5\" y2=\"90.5\"/><line stroke-width=\"1.0\" x1=\"10.5\" x2=\"170.5\" y1=\"110.5\" y2=\"110.5\"/><line stroke-width=\"1.0\" x1=\"10.5\" x2=\"170.5\" y1=\"130.5\" y2=\"130.5\"/><line stroke-width=\"1.0\" x1=\"10.5\" x2=\"170.5\" y1=\"150.5\" y2=\"150.5\"/><line stroke-width=\"1.0\" x1=\"30.5\" x2=\"30.5\" y1=\"10.5\" y2=\"170.5\"/><line stroke-width=\"1.0\" x1=\"50.5\" x2=\"50.5\" y1=\"10.5\" y2=\"170.5\"/><line stroke-width=\"1.0\" x1=\"70.5\" x2=\"70.5\" y1=\"10.5\" y2=\"170.5\"/><line stroke-width=\"1.0\" x1=\"90.5\" x2=\"90.5\" y1=\"10.5\" y2=\"170.5\"/><line stroke-width=\"1.0\" x1=\"110.5\" x2=\"110.5\" y1=\"10.5\" y2=\"170.5\"/><line stroke-width=\"1.0\" x1=\"130.5\" x2=\"130.5\" y1=\"10.5\" y2=\"170.5\"/><line stroke-width=\"1.0\" x1=\"150.5\" x2=\"150.5\" y1=\"10.5\" y2=\"170.5\"/></g><g><text font-family=\"serif\" font-size=\"9.5\" text-anchor=\"middle\" x=\"20.5\" y=\"8\">a</text><text font-family=\"serif\" font-size=\"9.5\" text-anchor=\"middle\" x=\"40.5\" y=\"8\">b</text><text font-family=\"serif\" font-size=\"9.5\" text-anchor=\"middle\" x=\"60.5\" y=\"8\">c</text><text font-family=\"serif\" font-size=\"9.5\" text-anchor=\"middle\" x=\"80.5\" y=\"8\">d</text><text font-family=\"serif\" font-size=\"9.5\" text-anchor=\"middle\" x=\"100.5\" y=\"8\">e</text><text font-family=\"serif\" font-size=\"9.5\" text-anchor=\"middle\" x=\"120.5\" y=\"8\">f</text><text font-family=\"serif\" font-size=\"9.5\" text-anchor=\"middle\" x=\"140.5\" y=\"8\">g</text><text font-family=\"serif\" font-size=\"9.5\" text-anchor=\"middle\" x=\"160.5\" y=\"8\">h</text><text font-family=\"serif\" font-size=\"9.5\" x=\"2.5\" y=\"23.5\">1</text><text font-family=\"serif\" font-size=\"9.5\" x=\"2.5\" y=\"43.5\">2</text><text font-family=\"serif\" font-size=\"9.5\" x=\"2.5\" y=\"63.5\">3</text><text font-family=\"serif\" font-size=\"9.5\" x=\"2.5\" y=\"83.5\">4</text><text font-family=\"serif\" font-size=\"9.5\" x=\"2.5\" y=\"103.5\">5</text><text font-family=\"serif\" font-size=\"9.5\" x=\"2.5\" y=\"123.5\">6</text><text font-family=\"serif\" font-size=\"9.5\" x=\"2.5\" y=\"143.5\">7</text><text font-family=\"serif\" font-size=\"9.5\" x=\"2.5\" y=\"163.5\">8</text></g><use x=\"50.5\" xlink:href=\"#black\" y=\"30.5\"/><use x=\"130.5\" xlink:href=\"#black\" y=\"30.5\"/><use x=\"150.5\" xlink:href=\"#white\" y=\"30.5\"/><use x=\"50.5\" xlink:href=\"#black\" y=\"50.5\"/><use x=\"70.5\" xlink:href=\"#black\" y=\"50.5\"/><use x=\"90.5\" xlink:href=\"#black\" y=\"50.5\"/><use x=\"110.5\" xlink:href=\"#black\" y=\"50.5\"/><use x=\"130.5\" xlink:href=\"#black\" y=\"50.5\"/><use x=\"150.5\" xlink:href=\"#white\" y=\"50.5\"/><use x=\"10.5\" xlink:href=\"#white\" y=\"70.5\"/><use x=\"30.5\" xlink:href=\"#black\" y=\"70.5\"/><use x=\"50.5\" xlink:href=\"#white\" y=\"70.5\"/><use x=\"70.5\" xlink:href=\"#black\" y=\"70.5\"/><use x=\"90.5\" xlink:href=\"#white\" y=\"70.5\"/><use x=\"110.5\" xlink:href=\"#white\" y=\"70.5\"/><use x=\"130.5\" xlink:href=\"#white\" y=\"70.5\"/><use x=\"150.5\" xlink:href=\"#white\" y=\"70.5\"/><use x=\"10.5\" xlink:href=\"#white\" y=\"90.5\"/><use x=\"50.5\" xlink:href=\"#black\" y=\"90.5\"/><use x=\"70.5\" xlink:href=\"#white\" y=\"90.5\"/><use x=\"90.5\" xlink:href=\"#white\" y=\"90.5\"/><use x=\"110.5\" xlink:href=\"#black\" y=\"90.5\"/><use x=\"130.5\" xlink:href=\"#black\" y=\"90.5\"/><use x=\"150.5\" xlink:href=\"#white\" y=\"90.5\"/><use x=\"10.5\" xlink:href=\"#white\" y=\"110.5\"/><use x=\"30.5\" xlink:href=\"#black\" y=\"110.5\"/><use x=\"50.5\" xlink:href=\"#black\" y=\"110.5\"/><use x=\"70.5\" xlink:href=\"#black\" y=\"110.5\"/><use x=\"90.5\" xlink:href=\"#black\" y=\"110.5\"/><use x=\"110.5\" xlink:href=\"#black\" y=\"110.5\"/><use x=\"130.5\" xlink:href=\"#black\" y=\"110.5\"/><use x=\"150.5\" xlink:href=\"#white\" y=\"110.5\"/><use x=\"50.5\" xlink:href=\"#white\" y=\"130.5\"/><use x=\"70.5\" xlink:href=\"#black\" y=\"130.5\"/><use x=\"90.5\" xlink:href=\"#white\" y=\"130.5\"/><use x=\"110.5\" xlink:href=\"#white\" y=\"130.5\"/><use x=\"130.5\" xlink:href=\"#black\" y=\"130.5\"/><use x=\"150.5\" xlink:href=\"#white\" y=\"130.5\"/><use x=\"30.5\" xlink:href=\"#white\" y=\"150.5\"/><use x=\"50.5\" xlink:href=\"#white\" y=\"150.5\"/><use x=\"70.5\" xlink:href=\"#white\" y=\"150.5\"/><use x=\"90.5\" xlink:href=\"#white\" y=\"150.5\"/><use x=\"110.5\" xlink:href=\"#white\" y=\"150.5\"/><use x=\"130.5\" xlink:href=\"#white\" y=\"150.5\"/><use x=\"150.5\" xlink:href=\"#white\" y=\"150.5\"/></svg>",
            "text/plain": [
              "<IPython.core.display.SVG object>"
            ]
          },
          "metadata": {
            "tags": []
          },
          "output_type": "display_data"
        },
        {
          "name": "stdout",
          "output_type": "stream",
          "text": [
            "b5\n",
            "b5\n",
            "43: black\n"
          ]
        },
        {
          "data": {
            "image/svg+xml": "<svg height=\"215.0\" version=\"1.1\" viewBox=\"0 0 172 172\" width=\"215.0\" xmlns=\"http://www.w3.org/2000/svg\" xmlns:xlink=\"http://www.w3.org/1999/xlink\"><defs><g id=\"black\"><circle cx=\"10\" cy=\"10\" fill=\"black\" r=\"8.5\"/></g><g id=\"white\"><circle cx=\"10\" cy=\"10\" fill=\"white\" r=\"8.5\"/></g></defs><rect fill=\"green\" height=\"161\" width=\"161\" x=\"10\" y=\"10\"/><rect fill=\"#8bbf83\" height=\"20\" width=\"20\" x=\"30.5\" y=\"90.5\"/><g stroke=\"black\"><rect fill=\"none\" height=\"161\" stroke-width=\"1.5\" width=\"161\" x=\"10\" y=\"10\"/><line stroke-width=\"1.0\" x1=\"10.5\" x2=\"170.5\" y1=\"30.5\" y2=\"30.5\"/><line stroke-width=\"1.0\" x1=\"10.5\" x2=\"170.5\" y1=\"50.5\" y2=\"50.5\"/><line stroke-width=\"1.0\" x1=\"10.5\" x2=\"170.5\" y1=\"70.5\" y2=\"70.5\"/><line stroke-width=\"1.0\" x1=\"10.5\" x2=\"170.5\" y1=\"90.5\" y2=\"90.5\"/><line stroke-width=\"1.0\" x1=\"10.5\" x2=\"170.5\" y1=\"110.5\" y2=\"110.5\"/><line stroke-width=\"1.0\" x1=\"10.5\" x2=\"170.5\" y1=\"130.5\" y2=\"130.5\"/><line stroke-width=\"1.0\" x1=\"10.5\" x2=\"170.5\" y1=\"150.5\" y2=\"150.5\"/><line stroke-width=\"1.0\" x1=\"30.5\" x2=\"30.5\" y1=\"10.5\" y2=\"170.5\"/><line stroke-width=\"1.0\" x1=\"50.5\" x2=\"50.5\" y1=\"10.5\" y2=\"170.5\"/><line stroke-width=\"1.0\" x1=\"70.5\" x2=\"70.5\" y1=\"10.5\" y2=\"170.5\"/><line stroke-width=\"1.0\" x1=\"90.5\" x2=\"90.5\" y1=\"10.5\" y2=\"170.5\"/><line stroke-width=\"1.0\" x1=\"110.5\" x2=\"110.5\" y1=\"10.5\" y2=\"170.5\"/><line stroke-width=\"1.0\" x1=\"130.5\" x2=\"130.5\" y1=\"10.5\" y2=\"170.5\"/><line stroke-width=\"1.0\" x1=\"150.5\" x2=\"150.5\" y1=\"10.5\" y2=\"170.5\"/></g><g><text font-family=\"serif\" font-size=\"9.5\" text-anchor=\"middle\" x=\"20.5\" y=\"8\">a</text><text font-family=\"serif\" font-size=\"9.5\" text-anchor=\"middle\" x=\"40.5\" y=\"8\">b</text><text font-family=\"serif\" font-size=\"9.5\" text-anchor=\"middle\" x=\"60.5\" y=\"8\">c</text><text font-family=\"serif\" font-size=\"9.5\" text-anchor=\"middle\" x=\"80.5\" y=\"8\">d</text><text font-family=\"serif\" font-size=\"9.5\" text-anchor=\"middle\" x=\"100.5\" y=\"8\">e</text><text font-family=\"serif\" font-size=\"9.5\" text-anchor=\"middle\" x=\"120.5\" y=\"8\">f</text><text font-family=\"serif\" font-size=\"9.5\" text-anchor=\"middle\" x=\"140.5\" y=\"8\">g</text><text font-family=\"serif\" font-size=\"9.5\" text-anchor=\"middle\" x=\"160.5\" y=\"8\">h</text><text font-family=\"serif\" font-size=\"9.5\" x=\"2.5\" y=\"23.5\">1</text><text font-family=\"serif\" font-size=\"9.5\" x=\"2.5\" y=\"43.5\">2</text><text font-family=\"serif\" font-size=\"9.5\" x=\"2.5\" y=\"63.5\">3</text><text font-family=\"serif\" font-size=\"9.5\" x=\"2.5\" y=\"83.5\">4</text><text font-family=\"serif\" font-size=\"9.5\" x=\"2.5\" y=\"103.5\">5</text><text font-family=\"serif\" font-size=\"9.5\" x=\"2.5\" y=\"123.5\">6</text><text font-family=\"serif\" font-size=\"9.5\" x=\"2.5\" y=\"143.5\">7</text><text font-family=\"serif\" font-size=\"9.5\" x=\"2.5\" y=\"163.5\">8</text></g><use x=\"50.5\" xlink:href=\"#black\" y=\"30.5\"/><use x=\"130.5\" xlink:href=\"#black\" y=\"30.5\"/><use x=\"150.5\" xlink:href=\"#white\" y=\"30.5\"/><use x=\"50.5\" xlink:href=\"#black\" y=\"50.5\"/><use x=\"70.5\" xlink:href=\"#black\" y=\"50.5\"/><use x=\"90.5\" xlink:href=\"#black\" y=\"50.5\"/><use x=\"110.5\" xlink:href=\"#black\" y=\"50.5\"/><use x=\"130.5\" xlink:href=\"#black\" y=\"50.5\"/><use x=\"150.5\" xlink:href=\"#white\" y=\"50.5\"/><use x=\"10.5\" xlink:href=\"#white\" y=\"70.5\"/><use x=\"30.5\" xlink:href=\"#black\" y=\"70.5\"/><use x=\"50.5\" xlink:href=\"#white\" y=\"70.5\"/><use x=\"70.5\" xlink:href=\"#black\" y=\"70.5\"/><use x=\"90.5\" xlink:href=\"#white\" y=\"70.5\"/><use x=\"110.5\" xlink:href=\"#white\" y=\"70.5\"/><use x=\"130.5\" xlink:href=\"#white\" y=\"70.5\"/><use x=\"150.5\" xlink:href=\"#white\" y=\"70.5\"/><use x=\"10.5\" xlink:href=\"#white\" y=\"90.5\"/><use x=\"30.5\" xlink:href=\"#white\" y=\"90.5\"/><use x=\"50.5\" xlink:href=\"#white\" y=\"90.5\"/><use x=\"70.5\" xlink:href=\"#white\" y=\"90.5\"/><use x=\"90.5\" xlink:href=\"#white\" y=\"90.5\"/><use x=\"110.5\" xlink:href=\"#black\" y=\"90.5\"/><use x=\"130.5\" xlink:href=\"#black\" y=\"90.5\"/><use x=\"150.5\" xlink:href=\"#white\" y=\"90.5\"/><use x=\"10.5\" xlink:href=\"#white\" y=\"110.5\"/><use x=\"30.5\" xlink:href=\"#black\" y=\"110.5\"/><use x=\"50.5\" xlink:href=\"#white\" y=\"110.5\"/><use x=\"70.5\" xlink:href=\"#black\" y=\"110.5\"/><use x=\"90.5\" xlink:href=\"#black\" y=\"110.5\"/><use x=\"110.5\" xlink:href=\"#black\" y=\"110.5\"/><use x=\"130.5\" xlink:href=\"#black\" y=\"110.5\"/><use x=\"150.5\" xlink:href=\"#white\" y=\"110.5\"/><use x=\"50.5\" xlink:href=\"#white\" y=\"130.5\"/><use x=\"70.5\" xlink:href=\"#white\" y=\"130.5\"/><use x=\"90.5\" xlink:href=\"#white\" y=\"130.5\"/><use x=\"110.5\" xlink:href=\"#white\" y=\"130.5\"/><use x=\"130.5\" xlink:href=\"#black\" y=\"130.5\"/><use x=\"150.5\" xlink:href=\"#white\" y=\"130.5\"/><use x=\"30.5\" xlink:href=\"#white\" y=\"150.5\"/><use x=\"50.5\" xlink:href=\"#white\" y=\"150.5\"/><use x=\"70.5\" xlink:href=\"#white\" y=\"150.5\"/><use x=\"90.5\" xlink:href=\"#white\" y=\"150.5\"/><use x=\"110.5\" xlink:href=\"#white\" y=\"150.5\"/><use x=\"130.5\" xlink:href=\"#white\" y=\"150.5\"/><use x=\"150.5\" xlink:href=\"#white\" y=\"150.5\"/></svg>",
            "text/plain": [
              "<IPython.core.display.SVG object>"
            ]
          },
          "metadata": {
            "tags": []
          },
          "output_type": "display_data"
        },
        {
          "name": "stdout",
          "output_type": "stream",
          "text": [
            "b7\n",
            "44: white\n"
          ]
        },
        {
          "data": {
            "image/svg+xml": "<svg height=\"215.0\" version=\"1.1\" viewBox=\"0 0 172 172\" width=\"215.0\" xmlns=\"http://www.w3.org/2000/svg\" xmlns:xlink=\"http://www.w3.org/1999/xlink\"><defs><g id=\"black\"><circle cx=\"10\" cy=\"10\" fill=\"black\" r=\"8.5\"/></g><g id=\"white\"><circle cx=\"10\" cy=\"10\" fill=\"white\" r=\"8.5\"/></g></defs><rect fill=\"green\" height=\"161\" width=\"161\" x=\"10\" y=\"10\"/><rect fill=\"#8bbf83\" height=\"20\" width=\"20\" x=\"30.5\" y=\"130.5\"/><g stroke=\"black\"><rect fill=\"none\" height=\"161\" stroke-width=\"1.5\" width=\"161\" x=\"10\" y=\"10\"/><line stroke-width=\"1.0\" x1=\"10.5\" x2=\"170.5\" y1=\"30.5\" y2=\"30.5\"/><line stroke-width=\"1.0\" x1=\"10.5\" x2=\"170.5\" y1=\"50.5\" y2=\"50.5\"/><line stroke-width=\"1.0\" x1=\"10.5\" x2=\"170.5\" y1=\"70.5\" y2=\"70.5\"/><line stroke-width=\"1.0\" x1=\"10.5\" x2=\"170.5\" y1=\"90.5\" y2=\"90.5\"/><line stroke-width=\"1.0\" x1=\"10.5\" x2=\"170.5\" y1=\"110.5\" y2=\"110.5\"/><line stroke-width=\"1.0\" x1=\"10.5\" x2=\"170.5\" y1=\"130.5\" y2=\"130.5\"/><line stroke-width=\"1.0\" x1=\"10.5\" x2=\"170.5\" y1=\"150.5\" y2=\"150.5\"/><line stroke-width=\"1.0\" x1=\"30.5\" x2=\"30.5\" y1=\"10.5\" y2=\"170.5\"/><line stroke-width=\"1.0\" x1=\"50.5\" x2=\"50.5\" y1=\"10.5\" y2=\"170.5\"/><line stroke-width=\"1.0\" x1=\"70.5\" x2=\"70.5\" y1=\"10.5\" y2=\"170.5\"/><line stroke-width=\"1.0\" x1=\"90.5\" x2=\"90.5\" y1=\"10.5\" y2=\"170.5\"/><line stroke-width=\"1.0\" x1=\"110.5\" x2=\"110.5\" y1=\"10.5\" y2=\"170.5\"/><line stroke-width=\"1.0\" x1=\"130.5\" x2=\"130.5\" y1=\"10.5\" y2=\"170.5\"/><line stroke-width=\"1.0\" x1=\"150.5\" x2=\"150.5\" y1=\"10.5\" y2=\"170.5\"/></g><g><text font-family=\"serif\" font-size=\"9.5\" text-anchor=\"middle\" x=\"20.5\" y=\"8\">a</text><text font-family=\"serif\" font-size=\"9.5\" text-anchor=\"middle\" x=\"40.5\" y=\"8\">b</text><text font-family=\"serif\" font-size=\"9.5\" text-anchor=\"middle\" x=\"60.5\" y=\"8\">c</text><text font-family=\"serif\" font-size=\"9.5\" text-anchor=\"middle\" x=\"80.5\" y=\"8\">d</text><text font-family=\"serif\" font-size=\"9.5\" text-anchor=\"middle\" x=\"100.5\" y=\"8\">e</text><text font-family=\"serif\" font-size=\"9.5\" text-anchor=\"middle\" x=\"120.5\" y=\"8\">f</text><text font-family=\"serif\" font-size=\"9.5\" text-anchor=\"middle\" x=\"140.5\" y=\"8\">g</text><text font-family=\"serif\" font-size=\"9.5\" text-anchor=\"middle\" x=\"160.5\" y=\"8\">h</text><text font-family=\"serif\" font-size=\"9.5\" x=\"2.5\" y=\"23.5\">1</text><text font-family=\"serif\" font-size=\"9.5\" x=\"2.5\" y=\"43.5\">2</text><text font-family=\"serif\" font-size=\"9.5\" x=\"2.5\" y=\"63.5\">3</text><text font-family=\"serif\" font-size=\"9.5\" x=\"2.5\" y=\"83.5\">4</text><text font-family=\"serif\" font-size=\"9.5\" x=\"2.5\" y=\"103.5\">5</text><text font-family=\"serif\" font-size=\"9.5\" x=\"2.5\" y=\"123.5\">6</text><text font-family=\"serif\" font-size=\"9.5\" x=\"2.5\" y=\"143.5\">7</text><text font-family=\"serif\" font-size=\"9.5\" x=\"2.5\" y=\"163.5\">8</text></g><use x=\"50.5\" xlink:href=\"#black\" y=\"30.5\"/><use x=\"130.5\" xlink:href=\"#black\" y=\"30.5\"/><use x=\"150.5\" xlink:href=\"#white\" y=\"30.5\"/><use x=\"50.5\" xlink:href=\"#black\" y=\"50.5\"/><use x=\"70.5\" xlink:href=\"#black\" y=\"50.5\"/><use x=\"90.5\" xlink:href=\"#black\" y=\"50.5\"/><use x=\"110.5\" xlink:href=\"#black\" y=\"50.5\"/><use x=\"130.5\" xlink:href=\"#black\" y=\"50.5\"/><use x=\"150.5\" xlink:href=\"#white\" y=\"50.5\"/><use x=\"10.5\" xlink:href=\"#white\" y=\"70.5\"/><use x=\"30.5\" xlink:href=\"#black\" y=\"70.5\"/><use x=\"50.5\" xlink:href=\"#white\" y=\"70.5\"/><use x=\"70.5\" xlink:href=\"#black\" y=\"70.5\"/><use x=\"90.5\" xlink:href=\"#black\" y=\"70.5\"/><use x=\"110.5\" xlink:href=\"#white\" y=\"70.5\"/><use x=\"130.5\" xlink:href=\"#white\" y=\"70.5\"/><use x=\"150.5\" xlink:href=\"#white\" y=\"70.5\"/><use x=\"10.5\" xlink:href=\"#white\" y=\"90.5\"/><use x=\"30.5\" xlink:href=\"#white\" y=\"90.5\"/><use x=\"50.5\" xlink:href=\"#white\" y=\"90.5\"/><use x=\"70.5\" xlink:href=\"#black\" y=\"90.5\"/><use x=\"90.5\" xlink:href=\"#white\" y=\"90.5\"/><use x=\"110.5\" xlink:href=\"#black\" y=\"90.5\"/><use x=\"130.5\" xlink:href=\"#black\" y=\"90.5\"/><use x=\"150.5\" xlink:href=\"#white\" y=\"90.5\"/><use x=\"10.5\" xlink:href=\"#white\" y=\"110.5\"/><use x=\"30.5\" xlink:href=\"#black\" y=\"110.5\"/><use x=\"50.5\" xlink:href=\"#black\" y=\"110.5\"/><use x=\"70.5\" xlink:href=\"#black\" y=\"110.5\"/><use x=\"90.5\" xlink:href=\"#black\" y=\"110.5\"/><use x=\"110.5\" xlink:href=\"#black\" y=\"110.5\"/><use x=\"130.5\" xlink:href=\"#black\" y=\"110.5\"/><use x=\"150.5\" xlink:href=\"#white\" y=\"110.5\"/><use x=\"30.5\" xlink:href=\"#black\" y=\"130.5\"/><use x=\"50.5\" xlink:href=\"#black\" y=\"130.5\"/><use x=\"70.5\" xlink:href=\"#black\" y=\"130.5\"/><use x=\"90.5\" xlink:href=\"#black\" y=\"130.5\"/><use x=\"110.5\" xlink:href=\"#black\" y=\"130.5\"/><use x=\"130.5\" xlink:href=\"#black\" y=\"130.5\"/><use x=\"150.5\" xlink:href=\"#white\" y=\"130.5\"/><use x=\"30.5\" xlink:href=\"#white\" y=\"150.5\"/><use x=\"50.5\" xlink:href=\"#white\" y=\"150.5\"/><use x=\"70.5\" xlink:href=\"#white\" y=\"150.5\"/><use x=\"90.5\" xlink:href=\"#white\" y=\"150.5\"/><use x=\"110.5\" xlink:href=\"#white\" y=\"150.5\"/><use x=\"130.5\" xlink:href=\"#white\" y=\"150.5\"/><use x=\"150.5\" xlink:href=\"#white\" y=\"150.5\"/></svg>",
            "text/plain": [
              "<IPython.core.display.SVG object>"
            ]
          },
          "metadata": {
            "tags": []
          },
          "output_type": "display_data"
        },
        {
          "name": "stdout",
          "output_type": "stream",
          "text": [
            "a8\n",
            "d2\n",
            "d2\n",
            "45: black\n"
          ]
        },
        {
          "data": {
            "image/svg+xml": "<svg height=\"215.0\" version=\"1.1\" viewBox=\"0 0 172 172\" width=\"215.0\" xmlns=\"http://www.w3.org/2000/svg\" xmlns:xlink=\"http://www.w3.org/1999/xlink\"><defs><g id=\"black\"><circle cx=\"10\" cy=\"10\" fill=\"black\" r=\"8.5\"/></g><g id=\"white\"><circle cx=\"10\" cy=\"10\" fill=\"white\" r=\"8.5\"/></g></defs><rect fill=\"green\" height=\"161\" width=\"161\" x=\"10\" y=\"10\"/><rect fill=\"#8bbf83\" height=\"20\" width=\"20\" x=\"70.5\" y=\"30.5\"/><g stroke=\"black\"><rect fill=\"none\" height=\"161\" stroke-width=\"1.5\" width=\"161\" x=\"10\" y=\"10\"/><line stroke-width=\"1.0\" x1=\"10.5\" x2=\"170.5\" y1=\"30.5\" y2=\"30.5\"/><line stroke-width=\"1.0\" x1=\"10.5\" x2=\"170.5\" y1=\"50.5\" y2=\"50.5\"/><line stroke-width=\"1.0\" x1=\"10.5\" x2=\"170.5\" y1=\"70.5\" y2=\"70.5\"/><line stroke-width=\"1.0\" x1=\"10.5\" x2=\"170.5\" y1=\"90.5\" y2=\"90.5\"/><line stroke-width=\"1.0\" x1=\"10.5\" x2=\"170.5\" y1=\"110.5\" y2=\"110.5\"/><line stroke-width=\"1.0\" x1=\"10.5\" x2=\"170.5\" y1=\"130.5\" y2=\"130.5\"/><line stroke-width=\"1.0\" x1=\"10.5\" x2=\"170.5\" y1=\"150.5\" y2=\"150.5\"/><line stroke-width=\"1.0\" x1=\"30.5\" x2=\"30.5\" y1=\"10.5\" y2=\"170.5\"/><line stroke-width=\"1.0\" x1=\"50.5\" x2=\"50.5\" y1=\"10.5\" y2=\"170.5\"/><line stroke-width=\"1.0\" x1=\"70.5\" x2=\"70.5\" y1=\"10.5\" y2=\"170.5\"/><line stroke-width=\"1.0\" x1=\"90.5\" x2=\"90.5\" y1=\"10.5\" y2=\"170.5\"/><line stroke-width=\"1.0\" x1=\"110.5\" x2=\"110.5\" y1=\"10.5\" y2=\"170.5\"/><line stroke-width=\"1.0\" x1=\"130.5\" x2=\"130.5\" y1=\"10.5\" y2=\"170.5\"/><line stroke-width=\"1.0\" x1=\"150.5\" x2=\"150.5\" y1=\"10.5\" y2=\"170.5\"/></g><g><text font-family=\"serif\" font-size=\"9.5\" text-anchor=\"middle\" x=\"20.5\" y=\"8\">a</text><text font-family=\"serif\" font-size=\"9.5\" text-anchor=\"middle\" x=\"40.5\" y=\"8\">b</text><text font-family=\"serif\" font-size=\"9.5\" text-anchor=\"middle\" x=\"60.5\" y=\"8\">c</text><text font-family=\"serif\" font-size=\"9.5\" text-anchor=\"middle\" x=\"80.5\" y=\"8\">d</text><text font-family=\"serif\" font-size=\"9.5\" text-anchor=\"middle\" x=\"100.5\" y=\"8\">e</text><text font-family=\"serif\" font-size=\"9.5\" text-anchor=\"middle\" x=\"120.5\" y=\"8\">f</text><text font-family=\"serif\" font-size=\"9.5\" text-anchor=\"middle\" x=\"140.5\" y=\"8\">g</text><text font-family=\"serif\" font-size=\"9.5\" text-anchor=\"middle\" x=\"160.5\" y=\"8\">h</text><text font-family=\"serif\" font-size=\"9.5\" x=\"2.5\" y=\"23.5\">1</text><text font-family=\"serif\" font-size=\"9.5\" x=\"2.5\" y=\"43.5\">2</text><text font-family=\"serif\" font-size=\"9.5\" x=\"2.5\" y=\"63.5\">3</text><text font-family=\"serif\" font-size=\"9.5\" x=\"2.5\" y=\"83.5\">4</text><text font-family=\"serif\" font-size=\"9.5\" x=\"2.5\" y=\"103.5\">5</text><text font-family=\"serif\" font-size=\"9.5\" x=\"2.5\" y=\"123.5\">6</text><text font-family=\"serif\" font-size=\"9.5\" x=\"2.5\" y=\"143.5\">7</text><text font-family=\"serif\" font-size=\"9.5\" x=\"2.5\" y=\"163.5\">8</text></g><use x=\"50.5\" xlink:href=\"#black\" y=\"30.5\"/><use x=\"70.5\" xlink:href=\"#white\" y=\"30.5\"/><use x=\"130.5\" xlink:href=\"#black\" y=\"30.5\"/><use x=\"150.5\" xlink:href=\"#white\" y=\"30.5\"/><use x=\"50.5\" xlink:href=\"#white\" y=\"50.5\"/><use x=\"70.5\" xlink:href=\"#white\" y=\"50.5\"/><use x=\"90.5\" xlink:href=\"#white\" y=\"50.5\"/><use x=\"110.5\" xlink:href=\"#black\" y=\"50.5\"/><use x=\"130.5\" xlink:href=\"#black\" y=\"50.5\"/><use x=\"150.5\" xlink:href=\"#white\" y=\"50.5\"/><use x=\"10.5\" xlink:href=\"#white\" y=\"70.5\"/><use x=\"30.5\" xlink:href=\"#white\" y=\"70.5\"/><use x=\"50.5\" xlink:href=\"#white\" y=\"70.5\"/><use x=\"70.5\" xlink:href=\"#white\" y=\"70.5\"/><use x=\"90.5\" xlink:href=\"#black\" y=\"70.5\"/><use x=\"110.5\" xlink:href=\"#white\" y=\"70.5\"/><use x=\"130.5\" xlink:href=\"#white\" y=\"70.5\"/><use x=\"150.5\" xlink:href=\"#white\" y=\"70.5\"/><use x=\"10.5\" xlink:href=\"#white\" y=\"90.5\"/><use x=\"30.5\" xlink:href=\"#white\" y=\"90.5\"/><use x=\"50.5\" xlink:href=\"#white\" y=\"90.5\"/><use x=\"70.5\" xlink:href=\"#white\" y=\"90.5\"/><use x=\"90.5\" xlink:href=\"#white\" y=\"90.5\"/><use x=\"110.5\" xlink:href=\"#black\" y=\"90.5\"/><use x=\"130.5\" xlink:href=\"#black\" y=\"90.5\"/><use x=\"150.5\" xlink:href=\"#white\" y=\"90.5\"/><use x=\"10.5\" xlink:href=\"#white\" y=\"110.5\"/><use x=\"30.5\" xlink:href=\"#black\" y=\"110.5\"/><use x=\"50.5\" xlink:href=\"#black\" y=\"110.5\"/><use x=\"70.5\" xlink:href=\"#white\" y=\"110.5\"/><use x=\"90.5\" xlink:href=\"#black\" y=\"110.5\"/><use x=\"110.5\" xlink:href=\"#black\" y=\"110.5\"/><use x=\"130.5\" xlink:href=\"#black\" y=\"110.5\"/><use x=\"150.5\" xlink:href=\"#white\" y=\"110.5\"/><use x=\"30.5\" xlink:href=\"#black\" y=\"130.5\"/><use x=\"50.5\" xlink:href=\"#black\" y=\"130.5\"/><use x=\"70.5\" xlink:href=\"#white\" y=\"130.5\"/><use x=\"90.5\" xlink:href=\"#black\" y=\"130.5\"/><use x=\"110.5\" xlink:href=\"#black\" y=\"130.5\"/><use x=\"130.5\" xlink:href=\"#black\" y=\"130.5\"/><use x=\"150.5\" xlink:href=\"#white\" y=\"130.5\"/><use x=\"30.5\" xlink:href=\"#white\" y=\"150.5\"/><use x=\"50.5\" xlink:href=\"#white\" y=\"150.5\"/><use x=\"70.5\" xlink:href=\"#white\" y=\"150.5\"/><use x=\"90.5\" xlink:href=\"#white\" y=\"150.5\"/><use x=\"110.5\" xlink:href=\"#white\" y=\"150.5\"/><use x=\"130.5\" xlink:href=\"#white\" y=\"150.5\"/><use x=\"150.5\" xlink:href=\"#white\" y=\"150.5\"/></svg>",
            "text/plain": [
              "<IPython.core.display.SVG object>"
            ]
          },
          "metadata": {
            "tags": []
          },
          "output_type": "display_data"
        },
        {
          "name": "stdout",
          "output_type": "stream",
          "text": [
            "e2\n",
            "46: white\n"
          ]
        },
        {
          "data": {
            "image/svg+xml": "<svg height=\"215.0\" version=\"1.1\" viewBox=\"0 0 172 172\" width=\"215.0\" xmlns=\"http://www.w3.org/2000/svg\" xmlns:xlink=\"http://www.w3.org/1999/xlink\"><defs><g id=\"black\"><circle cx=\"10\" cy=\"10\" fill=\"black\" r=\"8.5\"/></g><g id=\"white\"><circle cx=\"10\" cy=\"10\" fill=\"white\" r=\"8.5\"/></g></defs><rect fill=\"green\" height=\"161\" width=\"161\" x=\"10\" y=\"10\"/><rect fill=\"#8bbf83\" height=\"20\" width=\"20\" x=\"90.5\" y=\"30.5\"/><g stroke=\"black\"><rect fill=\"none\" height=\"161\" stroke-width=\"1.5\" width=\"161\" x=\"10\" y=\"10\"/><line stroke-width=\"1.0\" x1=\"10.5\" x2=\"170.5\" y1=\"30.5\" y2=\"30.5\"/><line stroke-width=\"1.0\" x1=\"10.5\" x2=\"170.5\" y1=\"50.5\" y2=\"50.5\"/><line stroke-width=\"1.0\" x1=\"10.5\" x2=\"170.5\" y1=\"70.5\" y2=\"70.5\"/><line stroke-width=\"1.0\" x1=\"10.5\" x2=\"170.5\" y1=\"90.5\" y2=\"90.5\"/><line stroke-width=\"1.0\" x1=\"10.5\" x2=\"170.5\" y1=\"110.5\" y2=\"110.5\"/><line stroke-width=\"1.0\" x1=\"10.5\" x2=\"170.5\" y1=\"130.5\" y2=\"130.5\"/><line stroke-width=\"1.0\" x1=\"10.5\" x2=\"170.5\" y1=\"150.5\" y2=\"150.5\"/><line stroke-width=\"1.0\" x1=\"30.5\" x2=\"30.5\" y1=\"10.5\" y2=\"170.5\"/><line stroke-width=\"1.0\" x1=\"50.5\" x2=\"50.5\" y1=\"10.5\" y2=\"170.5\"/><line stroke-width=\"1.0\" x1=\"70.5\" x2=\"70.5\" y1=\"10.5\" y2=\"170.5\"/><line stroke-width=\"1.0\" x1=\"90.5\" x2=\"90.5\" y1=\"10.5\" y2=\"170.5\"/><line stroke-width=\"1.0\" x1=\"110.5\" x2=\"110.5\" y1=\"10.5\" y2=\"170.5\"/><line stroke-width=\"1.0\" x1=\"130.5\" x2=\"130.5\" y1=\"10.5\" y2=\"170.5\"/><line stroke-width=\"1.0\" x1=\"150.5\" x2=\"150.5\" y1=\"10.5\" y2=\"170.5\"/></g><g><text font-family=\"serif\" font-size=\"9.5\" text-anchor=\"middle\" x=\"20.5\" y=\"8\">a</text><text font-family=\"serif\" font-size=\"9.5\" text-anchor=\"middle\" x=\"40.5\" y=\"8\">b</text><text font-family=\"serif\" font-size=\"9.5\" text-anchor=\"middle\" x=\"60.5\" y=\"8\">c</text><text font-family=\"serif\" font-size=\"9.5\" text-anchor=\"middle\" x=\"80.5\" y=\"8\">d</text><text font-family=\"serif\" font-size=\"9.5\" text-anchor=\"middle\" x=\"100.5\" y=\"8\">e</text><text font-family=\"serif\" font-size=\"9.5\" text-anchor=\"middle\" x=\"120.5\" y=\"8\">f</text><text font-family=\"serif\" font-size=\"9.5\" text-anchor=\"middle\" x=\"140.5\" y=\"8\">g</text><text font-family=\"serif\" font-size=\"9.5\" text-anchor=\"middle\" x=\"160.5\" y=\"8\">h</text><text font-family=\"serif\" font-size=\"9.5\" x=\"2.5\" y=\"23.5\">1</text><text font-family=\"serif\" font-size=\"9.5\" x=\"2.5\" y=\"43.5\">2</text><text font-family=\"serif\" font-size=\"9.5\" x=\"2.5\" y=\"63.5\">3</text><text font-family=\"serif\" font-size=\"9.5\" x=\"2.5\" y=\"83.5\">4</text><text font-family=\"serif\" font-size=\"9.5\" x=\"2.5\" y=\"103.5\">5</text><text font-family=\"serif\" font-size=\"9.5\" x=\"2.5\" y=\"123.5\">6</text><text font-family=\"serif\" font-size=\"9.5\" x=\"2.5\" y=\"143.5\">7</text><text font-family=\"serif\" font-size=\"9.5\" x=\"2.5\" y=\"163.5\">8</text></g><use x=\"50.5\" xlink:href=\"#black\" y=\"30.5\"/><use x=\"70.5\" xlink:href=\"#black\" y=\"30.5\"/><use x=\"90.5\" xlink:href=\"#black\" y=\"30.5\"/><use x=\"130.5\" xlink:href=\"#black\" y=\"30.5\"/><use x=\"150.5\" xlink:href=\"#white\" y=\"30.5\"/><use x=\"50.5\" xlink:href=\"#white\" y=\"50.5\"/><use x=\"70.5\" xlink:href=\"#white\" y=\"50.5\"/><use x=\"90.5\" xlink:href=\"#black\" y=\"50.5\"/><use x=\"110.5\" xlink:href=\"#black\" y=\"50.5\"/><use x=\"130.5\" xlink:href=\"#black\" y=\"50.5\"/><use x=\"150.5\" xlink:href=\"#white\" y=\"50.5\"/><use x=\"10.5\" xlink:href=\"#white\" y=\"70.5\"/><use x=\"30.5\" xlink:href=\"#white\" y=\"70.5\"/><use x=\"50.5\" xlink:href=\"#white\" y=\"70.5\"/><use x=\"70.5\" xlink:href=\"#white\" y=\"70.5\"/><use x=\"90.5\" xlink:href=\"#black\" y=\"70.5\"/><use x=\"110.5\" xlink:href=\"#white\" y=\"70.5\"/><use x=\"130.5\" xlink:href=\"#white\" y=\"70.5\"/><use x=\"150.5\" xlink:href=\"#white\" y=\"70.5\"/><use x=\"10.5\" xlink:href=\"#white\" y=\"90.5\"/><use x=\"30.5\" xlink:href=\"#white\" y=\"90.5\"/><use x=\"50.5\" xlink:href=\"#white\" y=\"90.5\"/><use x=\"70.5\" xlink:href=\"#white\" y=\"90.5\"/><use x=\"90.5\" xlink:href=\"#white\" y=\"90.5\"/><use x=\"110.5\" xlink:href=\"#black\" y=\"90.5\"/><use x=\"130.5\" xlink:href=\"#black\" y=\"90.5\"/><use x=\"150.5\" xlink:href=\"#white\" y=\"90.5\"/><use x=\"10.5\" xlink:href=\"#white\" y=\"110.5\"/><use x=\"30.5\" xlink:href=\"#black\" y=\"110.5\"/><use x=\"50.5\" xlink:href=\"#black\" y=\"110.5\"/><use x=\"70.5\" xlink:href=\"#white\" y=\"110.5\"/><use x=\"90.5\" xlink:href=\"#black\" y=\"110.5\"/><use x=\"110.5\" xlink:href=\"#black\" y=\"110.5\"/><use x=\"130.5\" xlink:href=\"#black\" y=\"110.5\"/><use x=\"150.5\" xlink:href=\"#white\" y=\"110.5\"/><use x=\"30.5\" xlink:href=\"#black\" y=\"130.5\"/><use x=\"50.5\" xlink:href=\"#black\" y=\"130.5\"/><use x=\"70.5\" xlink:href=\"#white\" y=\"130.5\"/><use x=\"90.5\" xlink:href=\"#black\" y=\"130.5\"/><use x=\"110.5\" xlink:href=\"#black\" y=\"130.5\"/><use x=\"130.5\" xlink:href=\"#black\" y=\"130.5\"/><use x=\"150.5\" xlink:href=\"#white\" y=\"130.5\"/><use x=\"30.5\" xlink:href=\"#white\" y=\"150.5\"/><use x=\"50.5\" xlink:href=\"#white\" y=\"150.5\"/><use x=\"70.5\" xlink:href=\"#white\" y=\"150.5\"/><use x=\"90.5\" xlink:href=\"#white\" y=\"150.5\"/><use x=\"110.5\" xlink:href=\"#white\" y=\"150.5\"/><use x=\"130.5\" xlink:href=\"#white\" y=\"150.5\"/><use x=\"150.5\" xlink:href=\"#white\" y=\"150.5\"/></svg>",
            "text/plain": [
              "<IPython.core.display.SVG object>"
            ]
          },
          "metadata": {
            "tags": []
          },
          "output_type": "display_data"
        },
        {
          "name": "stdout",
          "output_type": "stream",
          "text": [
            "a8\n",
            "a8\n",
            "47: black\n"
          ]
        },
        {
          "data": {
            "image/svg+xml": "<svg height=\"215.0\" version=\"1.1\" viewBox=\"0 0 172 172\" width=\"215.0\" xmlns=\"http://www.w3.org/2000/svg\" xmlns:xlink=\"http://www.w3.org/1999/xlink\"><defs><g id=\"black\"><circle cx=\"10\" cy=\"10\" fill=\"black\" r=\"8.5\"/></g><g id=\"white\"><circle cx=\"10\" cy=\"10\" fill=\"white\" r=\"8.5\"/></g></defs><rect fill=\"green\" height=\"161\" width=\"161\" x=\"10\" y=\"10\"/><rect fill=\"#8bbf83\" height=\"20\" width=\"20\" x=\"10.5\" y=\"150.5\"/><g stroke=\"black\"><rect fill=\"none\" height=\"161\" stroke-width=\"1.5\" width=\"161\" x=\"10\" y=\"10\"/><line stroke-width=\"1.0\" x1=\"10.5\" x2=\"170.5\" y1=\"30.5\" y2=\"30.5\"/><line stroke-width=\"1.0\" x1=\"10.5\" x2=\"170.5\" y1=\"50.5\" y2=\"50.5\"/><line stroke-width=\"1.0\" x1=\"10.5\" x2=\"170.5\" y1=\"70.5\" y2=\"70.5\"/><line stroke-width=\"1.0\" x1=\"10.5\" x2=\"170.5\" y1=\"90.5\" y2=\"90.5\"/><line stroke-width=\"1.0\" x1=\"10.5\" x2=\"170.5\" y1=\"110.5\" y2=\"110.5\"/><line stroke-width=\"1.0\" x1=\"10.5\" x2=\"170.5\" y1=\"130.5\" y2=\"130.5\"/><line stroke-width=\"1.0\" x1=\"10.5\" x2=\"170.5\" y1=\"150.5\" y2=\"150.5\"/><line stroke-width=\"1.0\" x1=\"30.5\" x2=\"30.5\" y1=\"10.5\" y2=\"170.5\"/><line stroke-width=\"1.0\" x1=\"50.5\" x2=\"50.5\" y1=\"10.5\" y2=\"170.5\"/><line stroke-width=\"1.0\" x1=\"70.5\" x2=\"70.5\" y1=\"10.5\" y2=\"170.5\"/><line stroke-width=\"1.0\" x1=\"90.5\" x2=\"90.5\" y1=\"10.5\" y2=\"170.5\"/><line stroke-width=\"1.0\" x1=\"110.5\" x2=\"110.5\" y1=\"10.5\" y2=\"170.5\"/><line stroke-width=\"1.0\" x1=\"130.5\" x2=\"130.5\" y1=\"10.5\" y2=\"170.5\"/><line stroke-width=\"1.0\" x1=\"150.5\" x2=\"150.5\" y1=\"10.5\" y2=\"170.5\"/></g><g><text font-family=\"serif\" font-size=\"9.5\" text-anchor=\"middle\" x=\"20.5\" y=\"8\">a</text><text font-family=\"serif\" font-size=\"9.5\" text-anchor=\"middle\" x=\"40.5\" y=\"8\">b</text><text font-family=\"serif\" font-size=\"9.5\" text-anchor=\"middle\" x=\"60.5\" y=\"8\">c</text><text font-family=\"serif\" font-size=\"9.5\" text-anchor=\"middle\" x=\"80.5\" y=\"8\">d</text><text font-family=\"serif\" font-size=\"9.5\" text-anchor=\"middle\" x=\"100.5\" y=\"8\">e</text><text font-family=\"serif\" font-size=\"9.5\" text-anchor=\"middle\" x=\"120.5\" y=\"8\">f</text><text font-family=\"serif\" font-size=\"9.5\" text-anchor=\"middle\" x=\"140.5\" y=\"8\">g</text><text font-family=\"serif\" font-size=\"9.5\" text-anchor=\"middle\" x=\"160.5\" y=\"8\">h</text><text font-family=\"serif\" font-size=\"9.5\" x=\"2.5\" y=\"23.5\">1</text><text font-family=\"serif\" font-size=\"9.5\" x=\"2.5\" y=\"43.5\">2</text><text font-family=\"serif\" font-size=\"9.5\" x=\"2.5\" y=\"63.5\">3</text><text font-family=\"serif\" font-size=\"9.5\" x=\"2.5\" y=\"83.5\">4</text><text font-family=\"serif\" font-size=\"9.5\" x=\"2.5\" y=\"103.5\">5</text><text font-family=\"serif\" font-size=\"9.5\" x=\"2.5\" y=\"123.5\">6</text><text font-family=\"serif\" font-size=\"9.5\" x=\"2.5\" y=\"143.5\">7</text><text font-family=\"serif\" font-size=\"9.5\" x=\"2.5\" y=\"163.5\">8</text></g><use x=\"50.5\" xlink:href=\"#black\" y=\"30.5\"/><use x=\"70.5\" xlink:href=\"#black\" y=\"30.5\"/><use x=\"90.5\" xlink:href=\"#black\" y=\"30.5\"/><use x=\"130.5\" xlink:href=\"#black\" y=\"30.5\"/><use x=\"150.5\" xlink:href=\"#white\" y=\"30.5\"/><use x=\"50.5\" xlink:href=\"#white\" y=\"50.5\"/><use x=\"70.5\" xlink:href=\"#white\" y=\"50.5\"/><use x=\"90.5\" xlink:href=\"#black\" y=\"50.5\"/><use x=\"110.5\" xlink:href=\"#black\" y=\"50.5\"/><use x=\"130.5\" xlink:href=\"#black\" y=\"50.5\"/><use x=\"150.5\" xlink:href=\"#white\" y=\"50.5\"/><use x=\"10.5\" xlink:href=\"#white\" y=\"70.5\"/><use x=\"30.5\" xlink:href=\"#white\" y=\"70.5\"/><use x=\"50.5\" xlink:href=\"#white\" y=\"70.5\"/><use x=\"70.5\" xlink:href=\"#white\" y=\"70.5\"/><use x=\"90.5\" xlink:href=\"#black\" y=\"70.5\"/><use x=\"110.5\" xlink:href=\"#white\" y=\"70.5\"/><use x=\"130.5\" xlink:href=\"#white\" y=\"70.5\"/><use x=\"150.5\" xlink:href=\"#white\" y=\"70.5\"/><use x=\"10.5\" xlink:href=\"#white\" y=\"90.5\"/><use x=\"30.5\" xlink:href=\"#white\" y=\"90.5\"/><use x=\"50.5\" xlink:href=\"#white\" y=\"90.5\"/><use x=\"70.5\" xlink:href=\"#white\" y=\"90.5\"/><use x=\"90.5\" xlink:href=\"#white\" y=\"90.5\"/><use x=\"110.5\" xlink:href=\"#black\" y=\"90.5\"/><use x=\"130.5\" xlink:href=\"#black\" y=\"90.5\"/><use x=\"150.5\" xlink:href=\"#white\" y=\"90.5\"/><use x=\"10.5\" xlink:href=\"#white\" y=\"110.5\"/><use x=\"30.5\" xlink:href=\"#black\" y=\"110.5\"/><use x=\"50.5\" xlink:href=\"#white\" y=\"110.5\"/><use x=\"70.5\" xlink:href=\"#white\" y=\"110.5\"/><use x=\"90.5\" xlink:href=\"#black\" y=\"110.5\"/><use x=\"110.5\" xlink:href=\"#black\" y=\"110.5\"/><use x=\"130.5\" xlink:href=\"#black\" y=\"110.5\"/><use x=\"150.5\" xlink:href=\"#white\" y=\"110.5\"/><use x=\"30.5\" xlink:href=\"#white\" y=\"130.5\"/><use x=\"50.5\" xlink:href=\"#black\" y=\"130.5\"/><use x=\"70.5\" xlink:href=\"#white\" y=\"130.5\"/><use x=\"90.5\" xlink:href=\"#black\" y=\"130.5\"/><use x=\"110.5\" xlink:href=\"#black\" y=\"130.5\"/><use x=\"130.5\" xlink:href=\"#black\" y=\"130.5\"/><use x=\"150.5\" xlink:href=\"#white\" y=\"130.5\"/><use x=\"10.5\" xlink:href=\"#white\" y=\"150.5\"/><use x=\"30.5\" xlink:href=\"#white\" y=\"150.5\"/><use x=\"50.5\" xlink:href=\"#white\" y=\"150.5\"/><use x=\"70.5\" xlink:href=\"#white\" y=\"150.5\"/><use x=\"90.5\" xlink:href=\"#white\" y=\"150.5\"/><use x=\"110.5\" xlink:href=\"#white\" y=\"150.5\"/><use x=\"130.5\" xlink:href=\"#white\" y=\"150.5\"/><use x=\"150.5\" xlink:href=\"#white\" y=\"150.5\"/></svg>",
            "text/plain": [
              "<IPython.core.display.SVG object>"
            ]
          },
          "metadata": {
            "tags": []
          },
          "output_type": "display_data"
        },
        {
          "name": "stdout",
          "output_type": "stream",
          "text": [
            "a7\n",
            "48: white\n"
          ]
        },
        {
          "data": {
            "image/svg+xml": "<svg height=\"215.0\" version=\"1.1\" viewBox=\"0 0 172 172\" width=\"215.0\" xmlns=\"http://www.w3.org/2000/svg\" xmlns:xlink=\"http://www.w3.org/1999/xlink\"><defs><g id=\"black\"><circle cx=\"10\" cy=\"10\" fill=\"black\" r=\"8.5\"/></g><g id=\"white\"><circle cx=\"10\" cy=\"10\" fill=\"white\" r=\"8.5\"/></g></defs><rect fill=\"green\" height=\"161\" width=\"161\" x=\"10\" y=\"10\"/><rect fill=\"#8bbf83\" height=\"20\" width=\"20\" x=\"10.5\" y=\"130.5\"/><g stroke=\"black\"><rect fill=\"none\" height=\"161\" stroke-width=\"1.5\" width=\"161\" x=\"10\" y=\"10\"/><line stroke-width=\"1.0\" x1=\"10.5\" x2=\"170.5\" y1=\"30.5\" y2=\"30.5\"/><line stroke-width=\"1.0\" x1=\"10.5\" x2=\"170.5\" y1=\"50.5\" y2=\"50.5\"/><line stroke-width=\"1.0\" x1=\"10.5\" x2=\"170.5\" y1=\"70.5\" y2=\"70.5\"/><line stroke-width=\"1.0\" x1=\"10.5\" x2=\"170.5\" y1=\"90.5\" y2=\"90.5\"/><line stroke-width=\"1.0\" x1=\"10.5\" x2=\"170.5\" y1=\"110.5\" y2=\"110.5\"/><line stroke-width=\"1.0\" x1=\"10.5\" x2=\"170.5\" y1=\"130.5\" y2=\"130.5\"/><line stroke-width=\"1.0\" x1=\"10.5\" x2=\"170.5\" y1=\"150.5\" y2=\"150.5\"/><line stroke-width=\"1.0\" x1=\"30.5\" x2=\"30.5\" y1=\"10.5\" y2=\"170.5\"/><line stroke-width=\"1.0\" x1=\"50.5\" x2=\"50.5\" y1=\"10.5\" y2=\"170.5\"/><line stroke-width=\"1.0\" x1=\"70.5\" x2=\"70.5\" y1=\"10.5\" y2=\"170.5\"/><line stroke-width=\"1.0\" x1=\"90.5\" x2=\"90.5\" y1=\"10.5\" y2=\"170.5\"/><line stroke-width=\"1.0\" x1=\"110.5\" x2=\"110.5\" y1=\"10.5\" y2=\"170.5\"/><line stroke-width=\"1.0\" x1=\"130.5\" x2=\"130.5\" y1=\"10.5\" y2=\"170.5\"/><line stroke-width=\"1.0\" x1=\"150.5\" x2=\"150.5\" y1=\"10.5\" y2=\"170.5\"/></g><g><text font-family=\"serif\" font-size=\"9.5\" text-anchor=\"middle\" x=\"20.5\" y=\"8\">a</text><text font-family=\"serif\" font-size=\"9.5\" text-anchor=\"middle\" x=\"40.5\" y=\"8\">b</text><text font-family=\"serif\" font-size=\"9.5\" text-anchor=\"middle\" x=\"60.5\" y=\"8\">c</text><text font-family=\"serif\" font-size=\"9.5\" text-anchor=\"middle\" x=\"80.5\" y=\"8\">d</text><text font-family=\"serif\" font-size=\"9.5\" text-anchor=\"middle\" x=\"100.5\" y=\"8\">e</text><text font-family=\"serif\" font-size=\"9.5\" text-anchor=\"middle\" x=\"120.5\" y=\"8\">f</text><text font-family=\"serif\" font-size=\"9.5\" text-anchor=\"middle\" x=\"140.5\" y=\"8\">g</text><text font-family=\"serif\" font-size=\"9.5\" text-anchor=\"middle\" x=\"160.5\" y=\"8\">h</text><text font-family=\"serif\" font-size=\"9.5\" x=\"2.5\" y=\"23.5\">1</text><text font-family=\"serif\" font-size=\"9.5\" x=\"2.5\" y=\"43.5\">2</text><text font-family=\"serif\" font-size=\"9.5\" x=\"2.5\" y=\"63.5\">3</text><text font-family=\"serif\" font-size=\"9.5\" x=\"2.5\" y=\"83.5\">4</text><text font-family=\"serif\" font-size=\"9.5\" x=\"2.5\" y=\"103.5\">5</text><text font-family=\"serif\" font-size=\"9.5\" x=\"2.5\" y=\"123.5\">6</text><text font-family=\"serif\" font-size=\"9.5\" x=\"2.5\" y=\"143.5\">7</text><text font-family=\"serif\" font-size=\"9.5\" x=\"2.5\" y=\"163.5\">8</text></g><use x=\"50.5\" xlink:href=\"#black\" y=\"30.5\"/><use x=\"70.5\" xlink:href=\"#black\" y=\"30.5\"/><use x=\"90.5\" xlink:href=\"#black\" y=\"30.5\"/><use x=\"130.5\" xlink:href=\"#black\" y=\"30.5\"/><use x=\"150.5\" xlink:href=\"#white\" y=\"30.5\"/><use x=\"50.5\" xlink:href=\"#white\" y=\"50.5\"/><use x=\"70.5\" xlink:href=\"#white\" y=\"50.5\"/><use x=\"90.5\" xlink:href=\"#black\" y=\"50.5\"/><use x=\"110.5\" xlink:href=\"#black\" y=\"50.5\"/><use x=\"130.5\" xlink:href=\"#black\" y=\"50.5\"/><use x=\"150.5\" xlink:href=\"#white\" y=\"50.5\"/><use x=\"10.5\" xlink:href=\"#white\" y=\"70.5\"/><use x=\"30.5\" xlink:href=\"#white\" y=\"70.5\"/><use x=\"50.5\" xlink:href=\"#white\" y=\"70.5\"/><use x=\"70.5\" xlink:href=\"#white\" y=\"70.5\"/><use x=\"90.5\" xlink:href=\"#black\" y=\"70.5\"/><use x=\"110.5\" xlink:href=\"#white\" y=\"70.5\"/><use x=\"130.5\" xlink:href=\"#white\" y=\"70.5\"/><use x=\"150.5\" xlink:href=\"#white\" y=\"70.5\"/><use x=\"10.5\" xlink:href=\"#white\" y=\"90.5\"/><use x=\"30.5\" xlink:href=\"#white\" y=\"90.5\"/><use x=\"50.5\" xlink:href=\"#white\" y=\"90.5\"/><use x=\"70.5\" xlink:href=\"#white\" y=\"90.5\"/><use x=\"90.5\" xlink:href=\"#white\" y=\"90.5\"/><use x=\"110.5\" xlink:href=\"#black\" y=\"90.5\"/><use x=\"130.5\" xlink:href=\"#black\" y=\"90.5\"/><use x=\"150.5\" xlink:href=\"#white\" y=\"90.5\"/><use x=\"10.5\" xlink:href=\"#white\" y=\"110.5\"/><use x=\"30.5\" xlink:href=\"#black\" y=\"110.5\"/><use x=\"50.5\" xlink:href=\"#white\" y=\"110.5\"/><use x=\"70.5\" xlink:href=\"#white\" y=\"110.5\"/><use x=\"90.5\" xlink:href=\"#black\" y=\"110.5\"/><use x=\"110.5\" xlink:href=\"#black\" y=\"110.5\"/><use x=\"130.5\" xlink:href=\"#black\" y=\"110.5\"/><use x=\"150.5\" xlink:href=\"#white\" y=\"110.5\"/><use x=\"10.5\" xlink:href=\"#black\" y=\"130.5\"/><use x=\"30.5\" xlink:href=\"#black\" y=\"130.5\"/><use x=\"50.5\" xlink:href=\"#black\" y=\"130.5\"/><use x=\"70.5\" xlink:href=\"#white\" y=\"130.5\"/><use x=\"90.5\" xlink:href=\"#black\" y=\"130.5\"/><use x=\"110.5\" xlink:href=\"#black\" y=\"130.5\"/><use x=\"130.5\" xlink:href=\"#black\" y=\"130.5\"/><use x=\"150.5\" xlink:href=\"#white\" y=\"130.5\"/><use x=\"10.5\" xlink:href=\"#white\" y=\"150.5\"/><use x=\"30.5\" xlink:href=\"#white\" y=\"150.5\"/><use x=\"50.5\" xlink:href=\"#white\" y=\"150.5\"/><use x=\"70.5\" xlink:href=\"#white\" y=\"150.5\"/><use x=\"90.5\" xlink:href=\"#white\" y=\"150.5\"/><use x=\"110.5\" xlink:href=\"#white\" y=\"150.5\"/><use x=\"130.5\" xlink:href=\"#white\" y=\"150.5\"/><use x=\"150.5\" xlink:href=\"#white\" y=\"150.5\"/></svg>",
            "text/plain": [
              "<IPython.core.display.SVG object>"
            ]
          },
          "metadata": {
            "tags": []
          },
          "output_type": "display_data"
        },
        {
          "name": "stdout",
          "output_type": "stream",
          "text": [
            "h1\n",
            "h1\n",
            "49: black\n"
          ]
        },
        {
          "data": {
            "image/svg+xml": "<svg height=\"215.0\" version=\"1.1\" viewBox=\"0 0 172 172\" width=\"215.0\" xmlns=\"http://www.w3.org/2000/svg\" xmlns:xlink=\"http://www.w3.org/1999/xlink\"><defs><g id=\"black\"><circle cx=\"10\" cy=\"10\" fill=\"black\" r=\"8.5\"/></g><g id=\"white\"><circle cx=\"10\" cy=\"10\" fill=\"white\" r=\"8.5\"/></g></defs><rect fill=\"green\" height=\"161\" width=\"161\" x=\"10\" y=\"10\"/><rect fill=\"#8bbf83\" height=\"20\" width=\"20\" x=\"150.5\" y=\"10.5\"/><g stroke=\"black\"><rect fill=\"none\" height=\"161\" stroke-width=\"1.5\" width=\"161\" x=\"10\" y=\"10\"/><line stroke-width=\"1.0\" x1=\"10.5\" x2=\"170.5\" y1=\"30.5\" y2=\"30.5\"/><line stroke-width=\"1.0\" x1=\"10.5\" x2=\"170.5\" y1=\"50.5\" y2=\"50.5\"/><line stroke-width=\"1.0\" x1=\"10.5\" x2=\"170.5\" y1=\"70.5\" y2=\"70.5\"/><line stroke-width=\"1.0\" x1=\"10.5\" x2=\"170.5\" y1=\"90.5\" y2=\"90.5\"/><line stroke-width=\"1.0\" x1=\"10.5\" x2=\"170.5\" y1=\"110.5\" y2=\"110.5\"/><line stroke-width=\"1.0\" x1=\"10.5\" x2=\"170.5\" y1=\"130.5\" y2=\"130.5\"/><line stroke-width=\"1.0\" x1=\"10.5\" x2=\"170.5\" y1=\"150.5\" y2=\"150.5\"/><line stroke-width=\"1.0\" x1=\"30.5\" x2=\"30.5\" y1=\"10.5\" y2=\"170.5\"/><line stroke-width=\"1.0\" x1=\"50.5\" x2=\"50.5\" y1=\"10.5\" y2=\"170.5\"/><line stroke-width=\"1.0\" x1=\"70.5\" x2=\"70.5\" y1=\"10.5\" y2=\"170.5\"/><line stroke-width=\"1.0\" x1=\"90.5\" x2=\"90.5\" y1=\"10.5\" y2=\"170.5\"/><line stroke-width=\"1.0\" x1=\"110.5\" x2=\"110.5\" y1=\"10.5\" y2=\"170.5\"/><line stroke-width=\"1.0\" x1=\"130.5\" x2=\"130.5\" y1=\"10.5\" y2=\"170.5\"/><line stroke-width=\"1.0\" x1=\"150.5\" x2=\"150.5\" y1=\"10.5\" y2=\"170.5\"/></g><g><text font-family=\"serif\" font-size=\"9.5\" text-anchor=\"middle\" x=\"20.5\" y=\"8\">a</text><text font-family=\"serif\" font-size=\"9.5\" text-anchor=\"middle\" x=\"40.5\" y=\"8\">b</text><text font-family=\"serif\" font-size=\"9.5\" text-anchor=\"middle\" x=\"60.5\" y=\"8\">c</text><text font-family=\"serif\" font-size=\"9.5\" text-anchor=\"middle\" x=\"80.5\" y=\"8\">d</text><text font-family=\"serif\" font-size=\"9.5\" text-anchor=\"middle\" x=\"100.5\" y=\"8\">e</text><text font-family=\"serif\" font-size=\"9.5\" text-anchor=\"middle\" x=\"120.5\" y=\"8\">f</text><text font-family=\"serif\" font-size=\"9.5\" text-anchor=\"middle\" x=\"140.5\" y=\"8\">g</text><text font-family=\"serif\" font-size=\"9.5\" text-anchor=\"middle\" x=\"160.5\" y=\"8\">h</text><text font-family=\"serif\" font-size=\"9.5\" x=\"2.5\" y=\"23.5\">1</text><text font-family=\"serif\" font-size=\"9.5\" x=\"2.5\" y=\"43.5\">2</text><text font-family=\"serif\" font-size=\"9.5\" x=\"2.5\" y=\"63.5\">3</text><text font-family=\"serif\" font-size=\"9.5\" x=\"2.5\" y=\"83.5\">4</text><text font-family=\"serif\" font-size=\"9.5\" x=\"2.5\" y=\"103.5\">5</text><text font-family=\"serif\" font-size=\"9.5\" x=\"2.5\" y=\"123.5\">6</text><text font-family=\"serif\" font-size=\"9.5\" x=\"2.5\" y=\"143.5\">7</text><text font-family=\"serif\" font-size=\"9.5\" x=\"2.5\" y=\"163.5\">8</text></g><use x=\"150.5\" xlink:href=\"#white\" y=\"10.5\"/><use x=\"50.5\" xlink:href=\"#black\" y=\"30.5\"/><use x=\"70.5\" xlink:href=\"#black\" y=\"30.5\"/><use x=\"90.5\" xlink:href=\"#black\" y=\"30.5\"/><use x=\"130.5\" xlink:href=\"#white\" y=\"30.5\"/><use x=\"150.5\" xlink:href=\"#white\" y=\"30.5\"/><use x=\"50.5\" xlink:href=\"#white\" y=\"50.5\"/><use x=\"70.5\" xlink:href=\"#white\" y=\"50.5\"/><use x=\"90.5\" xlink:href=\"#black\" y=\"50.5\"/><use x=\"110.5\" xlink:href=\"#white\" y=\"50.5\"/><use x=\"130.5\" xlink:href=\"#black\" y=\"50.5\"/><use x=\"150.5\" xlink:href=\"#white\" y=\"50.5\"/><use x=\"10.5\" xlink:href=\"#white\" y=\"70.5\"/><use x=\"30.5\" xlink:href=\"#white\" y=\"70.5\"/><use x=\"50.5\" xlink:href=\"#white\" y=\"70.5\"/><use x=\"70.5\" xlink:href=\"#white\" y=\"70.5\"/><use x=\"90.5\" xlink:href=\"#white\" y=\"70.5\"/><use x=\"110.5\" xlink:href=\"#white\" y=\"70.5\"/><use x=\"130.5\" xlink:href=\"#white\" y=\"70.5\"/><use x=\"150.5\" xlink:href=\"#white\" y=\"70.5\"/><use x=\"10.5\" xlink:href=\"#white\" y=\"90.5\"/><use x=\"30.5\" xlink:href=\"#white\" y=\"90.5\"/><use x=\"50.5\" xlink:href=\"#white\" y=\"90.5\"/><use x=\"70.5\" xlink:href=\"#white\" y=\"90.5\"/><use x=\"90.5\" xlink:href=\"#white\" y=\"90.5\"/><use x=\"110.5\" xlink:href=\"#black\" y=\"90.5\"/><use x=\"130.5\" xlink:href=\"#black\" y=\"90.5\"/><use x=\"150.5\" xlink:href=\"#white\" y=\"90.5\"/><use x=\"10.5\" xlink:href=\"#white\" y=\"110.5\"/><use x=\"30.5\" xlink:href=\"#black\" y=\"110.5\"/><use x=\"50.5\" xlink:href=\"#white\" y=\"110.5\"/><use x=\"70.5\" xlink:href=\"#white\" y=\"110.5\"/><use x=\"90.5\" xlink:href=\"#black\" y=\"110.5\"/><use x=\"110.5\" xlink:href=\"#black\" y=\"110.5\"/><use x=\"130.5\" xlink:href=\"#black\" y=\"110.5\"/><use x=\"150.5\" xlink:href=\"#white\" y=\"110.5\"/><use x=\"10.5\" xlink:href=\"#black\" y=\"130.5\"/><use x=\"30.5\" xlink:href=\"#black\" y=\"130.5\"/><use x=\"50.5\" xlink:href=\"#black\" y=\"130.5\"/><use x=\"70.5\" xlink:href=\"#white\" y=\"130.5\"/><use x=\"90.5\" xlink:href=\"#black\" y=\"130.5\"/><use x=\"110.5\" xlink:href=\"#black\" y=\"130.5\"/><use x=\"130.5\" xlink:href=\"#black\" y=\"130.5\"/><use x=\"150.5\" xlink:href=\"#white\" y=\"130.5\"/><use x=\"10.5\" xlink:href=\"#white\" y=\"150.5\"/><use x=\"30.5\" xlink:href=\"#white\" y=\"150.5\"/><use x=\"50.5\" xlink:href=\"#white\" y=\"150.5\"/><use x=\"70.5\" xlink:href=\"#white\" y=\"150.5\"/><use x=\"90.5\" xlink:href=\"#white\" y=\"150.5\"/><use x=\"110.5\" xlink:href=\"#white\" y=\"150.5\"/><use x=\"130.5\" xlink:href=\"#white\" y=\"150.5\"/><use x=\"150.5\" xlink:href=\"#white\" y=\"150.5\"/></svg>",
            "text/plain": [
              "<IPython.core.display.SVG object>"
            ]
          },
          "metadata": {
            "tags": []
          },
          "output_type": "display_data"
        },
        {
          "name": "stdout",
          "output_type": "stream",
          "text": [
            "g1\n",
            "50: white\n"
          ]
        },
        {
          "data": {
            "image/svg+xml": "<svg height=\"215.0\" version=\"1.1\" viewBox=\"0 0 172 172\" width=\"215.0\" xmlns=\"http://www.w3.org/2000/svg\" xmlns:xlink=\"http://www.w3.org/1999/xlink\"><defs><g id=\"black\"><circle cx=\"10\" cy=\"10\" fill=\"black\" r=\"8.5\"/></g><g id=\"white\"><circle cx=\"10\" cy=\"10\" fill=\"white\" r=\"8.5\"/></g></defs><rect fill=\"green\" height=\"161\" width=\"161\" x=\"10\" y=\"10\"/><rect fill=\"#8bbf83\" height=\"20\" width=\"20\" x=\"130.5\" y=\"10.5\"/><g stroke=\"black\"><rect fill=\"none\" height=\"161\" stroke-width=\"1.5\" width=\"161\" x=\"10\" y=\"10\"/><line stroke-width=\"1.0\" x1=\"10.5\" x2=\"170.5\" y1=\"30.5\" y2=\"30.5\"/><line stroke-width=\"1.0\" x1=\"10.5\" x2=\"170.5\" y1=\"50.5\" y2=\"50.5\"/><line stroke-width=\"1.0\" x1=\"10.5\" x2=\"170.5\" y1=\"70.5\" y2=\"70.5\"/><line stroke-width=\"1.0\" x1=\"10.5\" x2=\"170.5\" y1=\"90.5\" y2=\"90.5\"/><line stroke-width=\"1.0\" x1=\"10.5\" x2=\"170.5\" y1=\"110.5\" y2=\"110.5\"/><line stroke-width=\"1.0\" x1=\"10.5\" x2=\"170.5\" y1=\"130.5\" y2=\"130.5\"/><line stroke-width=\"1.0\" x1=\"10.5\" x2=\"170.5\" y1=\"150.5\" y2=\"150.5\"/><line stroke-width=\"1.0\" x1=\"30.5\" x2=\"30.5\" y1=\"10.5\" y2=\"170.5\"/><line stroke-width=\"1.0\" x1=\"50.5\" x2=\"50.5\" y1=\"10.5\" y2=\"170.5\"/><line stroke-width=\"1.0\" x1=\"70.5\" x2=\"70.5\" y1=\"10.5\" y2=\"170.5\"/><line stroke-width=\"1.0\" x1=\"90.5\" x2=\"90.5\" y1=\"10.5\" y2=\"170.5\"/><line stroke-width=\"1.0\" x1=\"110.5\" x2=\"110.5\" y1=\"10.5\" y2=\"170.5\"/><line stroke-width=\"1.0\" x1=\"130.5\" x2=\"130.5\" y1=\"10.5\" y2=\"170.5\"/><line stroke-width=\"1.0\" x1=\"150.5\" x2=\"150.5\" y1=\"10.5\" y2=\"170.5\"/></g><g><text font-family=\"serif\" font-size=\"9.5\" text-anchor=\"middle\" x=\"20.5\" y=\"8\">a</text><text font-family=\"serif\" font-size=\"9.5\" text-anchor=\"middle\" x=\"40.5\" y=\"8\">b</text><text font-family=\"serif\" font-size=\"9.5\" text-anchor=\"middle\" x=\"60.5\" y=\"8\">c</text><text font-family=\"serif\" font-size=\"9.5\" text-anchor=\"middle\" x=\"80.5\" y=\"8\">d</text><text font-family=\"serif\" font-size=\"9.5\" text-anchor=\"middle\" x=\"100.5\" y=\"8\">e</text><text font-family=\"serif\" font-size=\"9.5\" text-anchor=\"middle\" x=\"120.5\" y=\"8\">f</text><text font-family=\"serif\" font-size=\"9.5\" text-anchor=\"middle\" x=\"140.5\" y=\"8\">g</text><text font-family=\"serif\" font-size=\"9.5\" text-anchor=\"middle\" x=\"160.5\" y=\"8\">h</text><text font-family=\"serif\" font-size=\"9.5\" x=\"2.5\" y=\"23.5\">1</text><text font-family=\"serif\" font-size=\"9.5\" x=\"2.5\" y=\"43.5\">2</text><text font-family=\"serif\" font-size=\"9.5\" x=\"2.5\" y=\"63.5\">3</text><text font-family=\"serif\" font-size=\"9.5\" x=\"2.5\" y=\"83.5\">4</text><text font-family=\"serif\" font-size=\"9.5\" x=\"2.5\" y=\"103.5\">5</text><text font-family=\"serif\" font-size=\"9.5\" x=\"2.5\" y=\"123.5\">6</text><text font-family=\"serif\" font-size=\"9.5\" x=\"2.5\" y=\"143.5\">7</text><text font-family=\"serif\" font-size=\"9.5\" x=\"2.5\" y=\"163.5\">8</text></g><use x=\"130.5\" xlink:href=\"#black\" y=\"10.5\"/><use x=\"150.5\" xlink:href=\"#white\" y=\"10.5\"/><use x=\"50.5\" xlink:href=\"#black\" y=\"30.5\"/><use x=\"70.5\" xlink:href=\"#black\" y=\"30.5\"/><use x=\"90.5\" xlink:href=\"#black\" y=\"30.5\"/><use x=\"130.5\" xlink:href=\"#black\" y=\"30.5\"/><use x=\"150.5\" xlink:href=\"#white\" y=\"30.5\"/><use x=\"50.5\" xlink:href=\"#white\" y=\"50.5\"/><use x=\"70.5\" xlink:href=\"#white\" y=\"50.5\"/><use x=\"90.5\" xlink:href=\"#black\" y=\"50.5\"/><use x=\"110.5\" xlink:href=\"#white\" y=\"50.5\"/><use x=\"130.5\" xlink:href=\"#black\" y=\"50.5\"/><use x=\"150.5\" xlink:href=\"#white\" y=\"50.5\"/><use x=\"10.5\" xlink:href=\"#white\" y=\"70.5\"/><use x=\"30.5\" xlink:href=\"#white\" y=\"70.5\"/><use x=\"50.5\" xlink:href=\"#white\" y=\"70.5\"/><use x=\"70.5\" xlink:href=\"#white\" y=\"70.5\"/><use x=\"90.5\" xlink:href=\"#white\" y=\"70.5\"/><use x=\"110.5\" xlink:href=\"#white\" y=\"70.5\"/><use x=\"130.5\" xlink:href=\"#white\" y=\"70.5\"/><use x=\"150.5\" xlink:href=\"#white\" y=\"70.5\"/><use x=\"10.5\" xlink:href=\"#white\" y=\"90.5\"/><use x=\"30.5\" xlink:href=\"#white\" y=\"90.5\"/><use x=\"50.5\" xlink:href=\"#white\" y=\"90.5\"/><use x=\"70.5\" xlink:href=\"#white\" y=\"90.5\"/><use x=\"90.5\" xlink:href=\"#white\" y=\"90.5\"/><use x=\"110.5\" xlink:href=\"#black\" y=\"90.5\"/><use x=\"130.5\" xlink:href=\"#black\" y=\"90.5\"/><use x=\"150.5\" xlink:href=\"#white\" y=\"90.5\"/><use x=\"10.5\" xlink:href=\"#white\" y=\"110.5\"/><use x=\"30.5\" xlink:href=\"#black\" y=\"110.5\"/><use x=\"50.5\" xlink:href=\"#white\" y=\"110.5\"/><use x=\"70.5\" xlink:href=\"#white\" y=\"110.5\"/><use x=\"90.5\" xlink:href=\"#black\" y=\"110.5\"/><use x=\"110.5\" xlink:href=\"#black\" y=\"110.5\"/><use x=\"130.5\" xlink:href=\"#black\" y=\"110.5\"/><use x=\"150.5\" xlink:href=\"#white\" y=\"110.5\"/><use x=\"10.5\" xlink:href=\"#black\" y=\"130.5\"/><use x=\"30.5\" xlink:href=\"#black\" y=\"130.5\"/><use x=\"50.5\" xlink:href=\"#black\" y=\"130.5\"/><use x=\"70.5\" xlink:href=\"#white\" y=\"130.5\"/><use x=\"90.5\" xlink:href=\"#black\" y=\"130.5\"/><use x=\"110.5\" xlink:href=\"#black\" y=\"130.5\"/><use x=\"130.5\" xlink:href=\"#black\" y=\"130.5\"/><use x=\"150.5\" xlink:href=\"#white\" y=\"130.5\"/><use x=\"10.5\" xlink:href=\"#white\" y=\"150.5\"/><use x=\"30.5\" xlink:href=\"#white\" y=\"150.5\"/><use x=\"50.5\" xlink:href=\"#white\" y=\"150.5\"/><use x=\"70.5\" xlink:href=\"#white\" y=\"150.5\"/><use x=\"90.5\" xlink:href=\"#white\" y=\"150.5\"/><use x=\"110.5\" xlink:href=\"#white\" y=\"150.5\"/><use x=\"130.5\" xlink:href=\"#white\" y=\"150.5\"/><use x=\"150.5\" xlink:href=\"#white\" y=\"150.5\"/></svg>",
            "text/plain": [
              "<IPython.core.display.SVG object>"
            ]
          },
          "metadata": {
            "tags": []
          },
          "output_type": "display_data"
        },
        {
          "name": "stdout",
          "output_type": "stream",
          "text": [
            "f1\n",
            "f1\n",
            "51: black\n"
          ]
        },
        {
          "data": {
            "image/svg+xml": "<svg height=\"215.0\" version=\"1.1\" viewBox=\"0 0 172 172\" width=\"215.0\" xmlns=\"http://www.w3.org/2000/svg\" xmlns:xlink=\"http://www.w3.org/1999/xlink\"><defs><g id=\"black\"><circle cx=\"10\" cy=\"10\" fill=\"black\" r=\"8.5\"/></g><g id=\"white\"><circle cx=\"10\" cy=\"10\" fill=\"white\" r=\"8.5\"/></g></defs><rect fill=\"green\" height=\"161\" width=\"161\" x=\"10\" y=\"10\"/><rect fill=\"#8bbf83\" height=\"20\" width=\"20\" x=\"110.5\" y=\"10.5\"/><g stroke=\"black\"><rect fill=\"none\" height=\"161\" stroke-width=\"1.5\" width=\"161\" x=\"10\" y=\"10\"/><line stroke-width=\"1.0\" x1=\"10.5\" x2=\"170.5\" y1=\"30.5\" y2=\"30.5\"/><line stroke-width=\"1.0\" x1=\"10.5\" x2=\"170.5\" y1=\"50.5\" y2=\"50.5\"/><line stroke-width=\"1.0\" x1=\"10.5\" x2=\"170.5\" y1=\"70.5\" y2=\"70.5\"/><line stroke-width=\"1.0\" x1=\"10.5\" x2=\"170.5\" y1=\"90.5\" y2=\"90.5\"/><line stroke-width=\"1.0\" x1=\"10.5\" x2=\"170.5\" y1=\"110.5\" y2=\"110.5\"/><line stroke-width=\"1.0\" x1=\"10.5\" x2=\"170.5\" y1=\"130.5\" y2=\"130.5\"/><line stroke-width=\"1.0\" x1=\"10.5\" x2=\"170.5\" y1=\"150.5\" y2=\"150.5\"/><line stroke-width=\"1.0\" x1=\"30.5\" x2=\"30.5\" y1=\"10.5\" y2=\"170.5\"/><line stroke-width=\"1.0\" x1=\"50.5\" x2=\"50.5\" y1=\"10.5\" y2=\"170.5\"/><line stroke-width=\"1.0\" x1=\"70.5\" x2=\"70.5\" y1=\"10.5\" y2=\"170.5\"/><line stroke-width=\"1.0\" x1=\"90.5\" x2=\"90.5\" y1=\"10.5\" y2=\"170.5\"/><line stroke-width=\"1.0\" x1=\"110.5\" x2=\"110.5\" y1=\"10.5\" y2=\"170.5\"/><line stroke-width=\"1.0\" x1=\"130.5\" x2=\"130.5\" y1=\"10.5\" y2=\"170.5\"/><line stroke-width=\"1.0\" x1=\"150.5\" x2=\"150.5\" y1=\"10.5\" y2=\"170.5\"/></g><g><text font-family=\"serif\" font-size=\"9.5\" text-anchor=\"middle\" x=\"20.5\" y=\"8\">a</text><text font-family=\"serif\" font-size=\"9.5\" text-anchor=\"middle\" x=\"40.5\" y=\"8\">b</text><text font-family=\"serif\" font-size=\"9.5\" text-anchor=\"middle\" x=\"60.5\" y=\"8\">c</text><text font-family=\"serif\" font-size=\"9.5\" text-anchor=\"middle\" x=\"80.5\" y=\"8\">d</text><text font-family=\"serif\" font-size=\"9.5\" text-anchor=\"middle\" x=\"100.5\" y=\"8\">e</text><text font-family=\"serif\" font-size=\"9.5\" text-anchor=\"middle\" x=\"120.5\" y=\"8\">f</text><text font-family=\"serif\" font-size=\"9.5\" text-anchor=\"middle\" x=\"140.5\" y=\"8\">g</text><text font-family=\"serif\" font-size=\"9.5\" text-anchor=\"middle\" x=\"160.5\" y=\"8\">h</text><text font-family=\"serif\" font-size=\"9.5\" x=\"2.5\" y=\"23.5\">1</text><text font-family=\"serif\" font-size=\"9.5\" x=\"2.5\" y=\"43.5\">2</text><text font-family=\"serif\" font-size=\"9.5\" x=\"2.5\" y=\"63.5\">3</text><text font-family=\"serif\" font-size=\"9.5\" x=\"2.5\" y=\"83.5\">4</text><text font-family=\"serif\" font-size=\"9.5\" x=\"2.5\" y=\"103.5\">5</text><text font-family=\"serif\" font-size=\"9.5\" x=\"2.5\" y=\"123.5\">6</text><text font-family=\"serif\" font-size=\"9.5\" x=\"2.5\" y=\"143.5\">7</text><text font-family=\"serif\" font-size=\"9.5\" x=\"2.5\" y=\"163.5\">8</text></g><use x=\"110.5\" xlink:href=\"#white\" y=\"10.5\"/><use x=\"130.5\" xlink:href=\"#white\" y=\"10.5\"/><use x=\"150.5\" xlink:href=\"#white\" y=\"10.5\"/><use x=\"50.5\" xlink:href=\"#black\" y=\"30.5\"/><use x=\"70.5\" xlink:href=\"#black\" y=\"30.5\"/><use x=\"90.5\" xlink:href=\"#white\" y=\"30.5\"/><use x=\"130.5\" xlink:href=\"#white\" y=\"30.5\"/><use x=\"150.5\" xlink:href=\"#white\" y=\"30.5\"/><use x=\"50.5\" xlink:href=\"#white\" y=\"50.5\"/><use x=\"70.5\" xlink:href=\"#white\" y=\"50.5\"/><use x=\"90.5\" xlink:href=\"#black\" y=\"50.5\"/><use x=\"110.5\" xlink:href=\"#white\" y=\"50.5\"/><use x=\"130.5\" xlink:href=\"#black\" y=\"50.5\"/><use x=\"150.5\" xlink:href=\"#white\" y=\"50.5\"/><use x=\"10.5\" xlink:href=\"#white\" y=\"70.5\"/><use x=\"30.5\" xlink:href=\"#white\" y=\"70.5\"/><use x=\"50.5\" xlink:href=\"#white\" y=\"70.5\"/><use x=\"70.5\" xlink:href=\"#white\" y=\"70.5\"/><use x=\"90.5\" xlink:href=\"#white\" y=\"70.5\"/><use x=\"110.5\" xlink:href=\"#white\" y=\"70.5\"/><use x=\"130.5\" xlink:href=\"#white\" y=\"70.5\"/><use x=\"150.5\" xlink:href=\"#white\" y=\"70.5\"/><use x=\"10.5\" xlink:href=\"#white\" y=\"90.5\"/><use x=\"30.5\" xlink:href=\"#white\" y=\"90.5\"/><use x=\"50.5\" xlink:href=\"#white\" y=\"90.5\"/><use x=\"70.5\" xlink:href=\"#white\" y=\"90.5\"/><use x=\"90.5\" xlink:href=\"#white\" y=\"90.5\"/><use x=\"110.5\" xlink:href=\"#black\" y=\"90.5\"/><use x=\"130.5\" xlink:href=\"#black\" y=\"90.5\"/><use x=\"150.5\" xlink:href=\"#white\" y=\"90.5\"/><use x=\"10.5\" xlink:href=\"#white\" y=\"110.5\"/><use x=\"30.5\" xlink:href=\"#black\" y=\"110.5\"/><use x=\"50.5\" xlink:href=\"#white\" y=\"110.5\"/><use x=\"70.5\" xlink:href=\"#white\" y=\"110.5\"/><use x=\"90.5\" xlink:href=\"#black\" y=\"110.5\"/><use x=\"110.5\" xlink:href=\"#black\" y=\"110.5\"/><use x=\"130.5\" xlink:href=\"#black\" y=\"110.5\"/><use x=\"150.5\" xlink:href=\"#white\" y=\"110.5\"/><use x=\"10.5\" xlink:href=\"#black\" y=\"130.5\"/><use x=\"30.5\" xlink:href=\"#black\" y=\"130.5\"/><use x=\"50.5\" xlink:href=\"#black\" y=\"130.5\"/><use x=\"70.5\" xlink:href=\"#white\" y=\"130.5\"/><use x=\"90.5\" xlink:href=\"#black\" y=\"130.5\"/><use x=\"110.5\" xlink:href=\"#black\" y=\"130.5\"/><use x=\"130.5\" xlink:href=\"#black\" y=\"130.5\"/><use x=\"150.5\" xlink:href=\"#white\" y=\"130.5\"/><use x=\"10.5\" xlink:href=\"#white\" y=\"150.5\"/><use x=\"30.5\" xlink:href=\"#white\" y=\"150.5\"/><use x=\"50.5\" xlink:href=\"#white\" y=\"150.5\"/><use x=\"70.5\" xlink:href=\"#white\" y=\"150.5\"/><use x=\"90.5\" xlink:href=\"#white\" y=\"150.5\"/><use x=\"110.5\" xlink:href=\"#white\" y=\"150.5\"/><use x=\"130.5\" xlink:href=\"#white\" y=\"150.5\"/><use x=\"150.5\" xlink:href=\"#white\" y=\"150.5\"/></svg>",
            "text/plain": [
              "<IPython.core.display.SVG object>"
            ]
          },
          "metadata": {
            "tags": []
          },
          "output_type": "display_data"
        },
        {
          "name": "stdout",
          "output_type": "stream",
          "text": [
            "e1\n",
            "52: white\n"
          ]
        },
        {
          "data": {
            "image/svg+xml": "<svg height=\"215.0\" version=\"1.1\" viewBox=\"0 0 172 172\" width=\"215.0\" xmlns=\"http://www.w3.org/2000/svg\" xmlns:xlink=\"http://www.w3.org/1999/xlink\"><defs><g id=\"black\"><circle cx=\"10\" cy=\"10\" fill=\"black\" r=\"8.5\"/></g><g id=\"white\"><circle cx=\"10\" cy=\"10\" fill=\"white\" r=\"8.5\"/></g></defs><rect fill=\"green\" height=\"161\" width=\"161\" x=\"10\" y=\"10\"/><rect fill=\"#8bbf83\" height=\"20\" width=\"20\" x=\"90.5\" y=\"10.5\"/><g stroke=\"black\"><rect fill=\"none\" height=\"161\" stroke-width=\"1.5\" width=\"161\" x=\"10\" y=\"10\"/><line stroke-width=\"1.0\" x1=\"10.5\" x2=\"170.5\" y1=\"30.5\" y2=\"30.5\"/><line stroke-width=\"1.0\" x1=\"10.5\" x2=\"170.5\" y1=\"50.5\" y2=\"50.5\"/><line stroke-width=\"1.0\" x1=\"10.5\" x2=\"170.5\" y1=\"70.5\" y2=\"70.5\"/><line stroke-width=\"1.0\" x1=\"10.5\" x2=\"170.5\" y1=\"90.5\" y2=\"90.5\"/><line stroke-width=\"1.0\" x1=\"10.5\" x2=\"170.5\" y1=\"110.5\" y2=\"110.5\"/><line stroke-width=\"1.0\" x1=\"10.5\" x2=\"170.5\" y1=\"130.5\" y2=\"130.5\"/><line stroke-width=\"1.0\" x1=\"10.5\" x2=\"170.5\" y1=\"150.5\" y2=\"150.5\"/><line stroke-width=\"1.0\" x1=\"30.5\" x2=\"30.5\" y1=\"10.5\" y2=\"170.5\"/><line stroke-width=\"1.0\" x1=\"50.5\" x2=\"50.5\" y1=\"10.5\" y2=\"170.5\"/><line stroke-width=\"1.0\" x1=\"70.5\" x2=\"70.5\" y1=\"10.5\" y2=\"170.5\"/><line stroke-width=\"1.0\" x1=\"90.5\" x2=\"90.5\" y1=\"10.5\" y2=\"170.5\"/><line stroke-width=\"1.0\" x1=\"110.5\" x2=\"110.5\" y1=\"10.5\" y2=\"170.5\"/><line stroke-width=\"1.0\" x1=\"130.5\" x2=\"130.5\" y1=\"10.5\" y2=\"170.5\"/><line stroke-width=\"1.0\" x1=\"150.5\" x2=\"150.5\" y1=\"10.5\" y2=\"170.5\"/></g><g><text font-family=\"serif\" font-size=\"9.5\" text-anchor=\"middle\" x=\"20.5\" y=\"8\">a</text><text font-family=\"serif\" font-size=\"9.5\" text-anchor=\"middle\" x=\"40.5\" y=\"8\">b</text><text font-family=\"serif\" font-size=\"9.5\" text-anchor=\"middle\" x=\"60.5\" y=\"8\">c</text><text font-family=\"serif\" font-size=\"9.5\" text-anchor=\"middle\" x=\"80.5\" y=\"8\">d</text><text font-family=\"serif\" font-size=\"9.5\" text-anchor=\"middle\" x=\"100.5\" y=\"8\">e</text><text font-family=\"serif\" font-size=\"9.5\" text-anchor=\"middle\" x=\"120.5\" y=\"8\">f</text><text font-family=\"serif\" font-size=\"9.5\" text-anchor=\"middle\" x=\"140.5\" y=\"8\">g</text><text font-family=\"serif\" font-size=\"9.5\" text-anchor=\"middle\" x=\"160.5\" y=\"8\">h</text><text font-family=\"serif\" font-size=\"9.5\" x=\"2.5\" y=\"23.5\">1</text><text font-family=\"serif\" font-size=\"9.5\" x=\"2.5\" y=\"43.5\">2</text><text font-family=\"serif\" font-size=\"9.5\" x=\"2.5\" y=\"63.5\">3</text><text font-family=\"serif\" font-size=\"9.5\" x=\"2.5\" y=\"83.5\">4</text><text font-family=\"serif\" font-size=\"9.5\" x=\"2.5\" y=\"103.5\">5</text><text font-family=\"serif\" font-size=\"9.5\" x=\"2.5\" y=\"123.5\">6</text><text font-family=\"serif\" font-size=\"9.5\" x=\"2.5\" y=\"143.5\">7</text><text font-family=\"serif\" font-size=\"9.5\" x=\"2.5\" y=\"163.5\">8</text></g><use x=\"90.5\" xlink:href=\"#black\" y=\"10.5\"/><use x=\"110.5\" xlink:href=\"#white\" y=\"10.5\"/><use x=\"130.5\" xlink:href=\"#white\" y=\"10.5\"/><use x=\"150.5\" xlink:href=\"#white\" y=\"10.5\"/><use x=\"50.5\" xlink:href=\"#black\" y=\"30.5\"/><use x=\"70.5\" xlink:href=\"#black\" y=\"30.5\"/><use x=\"90.5\" xlink:href=\"#black\" y=\"30.5\"/><use x=\"130.5\" xlink:href=\"#white\" y=\"30.5\"/><use x=\"150.5\" xlink:href=\"#white\" y=\"30.5\"/><use x=\"50.5\" xlink:href=\"#white\" y=\"50.5\"/><use x=\"70.5\" xlink:href=\"#white\" y=\"50.5\"/><use x=\"90.5\" xlink:href=\"#black\" y=\"50.5\"/><use x=\"110.5\" xlink:href=\"#white\" y=\"50.5\"/><use x=\"130.5\" xlink:href=\"#black\" y=\"50.5\"/><use x=\"150.5\" xlink:href=\"#white\" y=\"50.5\"/><use x=\"10.5\" xlink:href=\"#white\" y=\"70.5\"/><use x=\"30.5\" xlink:href=\"#white\" y=\"70.5\"/><use x=\"50.5\" xlink:href=\"#white\" y=\"70.5\"/><use x=\"70.5\" xlink:href=\"#white\" y=\"70.5\"/><use x=\"90.5\" xlink:href=\"#white\" y=\"70.5\"/><use x=\"110.5\" xlink:href=\"#white\" y=\"70.5\"/><use x=\"130.5\" xlink:href=\"#white\" y=\"70.5\"/><use x=\"150.5\" xlink:href=\"#white\" y=\"70.5\"/><use x=\"10.5\" xlink:href=\"#white\" y=\"90.5\"/><use x=\"30.5\" xlink:href=\"#white\" y=\"90.5\"/><use x=\"50.5\" xlink:href=\"#white\" y=\"90.5\"/><use x=\"70.5\" xlink:href=\"#white\" y=\"90.5\"/><use x=\"90.5\" xlink:href=\"#white\" y=\"90.5\"/><use x=\"110.5\" xlink:href=\"#black\" y=\"90.5\"/><use x=\"130.5\" xlink:href=\"#black\" y=\"90.5\"/><use x=\"150.5\" xlink:href=\"#white\" y=\"90.5\"/><use x=\"10.5\" xlink:href=\"#white\" y=\"110.5\"/><use x=\"30.5\" xlink:href=\"#black\" y=\"110.5\"/><use x=\"50.5\" xlink:href=\"#white\" y=\"110.5\"/><use x=\"70.5\" xlink:href=\"#white\" y=\"110.5\"/><use x=\"90.5\" xlink:href=\"#black\" y=\"110.5\"/><use x=\"110.5\" xlink:href=\"#black\" y=\"110.5\"/><use x=\"130.5\" xlink:href=\"#black\" y=\"110.5\"/><use x=\"150.5\" xlink:href=\"#white\" y=\"110.5\"/><use x=\"10.5\" xlink:href=\"#black\" y=\"130.5\"/><use x=\"30.5\" xlink:href=\"#black\" y=\"130.5\"/><use x=\"50.5\" xlink:href=\"#black\" y=\"130.5\"/><use x=\"70.5\" xlink:href=\"#white\" y=\"130.5\"/><use x=\"90.5\" xlink:href=\"#black\" y=\"130.5\"/><use x=\"110.5\" xlink:href=\"#black\" y=\"130.5\"/><use x=\"130.5\" xlink:href=\"#black\" y=\"130.5\"/><use x=\"150.5\" xlink:href=\"#white\" y=\"130.5\"/><use x=\"10.5\" xlink:href=\"#white\" y=\"150.5\"/><use x=\"30.5\" xlink:href=\"#white\" y=\"150.5\"/><use x=\"50.5\" xlink:href=\"#white\" y=\"150.5\"/><use x=\"70.5\" xlink:href=\"#white\" y=\"150.5\"/><use x=\"90.5\" xlink:href=\"#white\" y=\"150.5\"/><use x=\"110.5\" xlink:href=\"#white\" y=\"150.5\"/><use x=\"130.5\" xlink:href=\"#white\" y=\"150.5\"/><use x=\"150.5\" xlink:href=\"#white\" y=\"150.5\"/></svg>",
            "text/plain": [
              "<IPython.core.display.SVG object>"
            ]
          },
          "metadata": {
            "tags": []
          },
          "output_type": "display_data"
        },
        {
          "name": "stdout",
          "output_type": "stream",
          "text": [
            "d1\n",
            "d1\n",
            "53: black\n"
          ]
        },
        {
          "data": {
            "image/svg+xml": "<svg height=\"215.0\" version=\"1.1\" viewBox=\"0 0 172 172\" width=\"215.0\" xmlns=\"http://www.w3.org/2000/svg\" xmlns:xlink=\"http://www.w3.org/1999/xlink\"><defs><g id=\"black\"><circle cx=\"10\" cy=\"10\" fill=\"black\" r=\"8.5\"/></g><g id=\"white\"><circle cx=\"10\" cy=\"10\" fill=\"white\" r=\"8.5\"/></g></defs><rect fill=\"green\" height=\"161\" width=\"161\" x=\"10\" y=\"10\"/><rect fill=\"#8bbf83\" height=\"20\" width=\"20\" x=\"70.5\" y=\"10.5\"/><g stroke=\"black\"><rect fill=\"none\" height=\"161\" stroke-width=\"1.5\" width=\"161\" x=\"10\" y=\"10\"/><line stroke-width=\"1.0\" x1=\"10.5\" x2=\"170.5\" y1=\"30.5\" y2=\"30.5\"/><line stroke-width=\"1.0\" x1=\"10.5\" x2=\"170.5\" y1=\"50.5\" y2=\"50.5\"/><line stroke-width=\"1.0\" x1=\"10.5\" x2=\"170.5\" y1=\"70.5\" y2=\"70.5\"/><line stroke-width=\"1.0\" x1=\"10.5\" x2=\"170.5\" y1=\"90.5\" y2=\"90.5\"/><line stroke-width=\"1.0\" x1=\"10.5\" x2=\"170.5\" y1=\"110.5\" y2=\"110.5\"/><line stroke-width=\"1.0\" x1=\"10.5\" x2=\"170.5\" y1=\"130.5\" y2=\"130.5\"/><line stroke-width=\"1.0\" x1=\"10.5\" x2=\"170.5\" y1=\"150.5\" y2=\"150.5\"/><line stroke-width=\"1.0\" x1=\"30.5\" x2=\"30.5\" y1=\"10.5\" y2=\"170.5\"/><line stroke-width=\"1.0\" x1=\"50.5\" x2=\"50.5\" y1=\"10.5\" y2=\"170.5\"/><line stroke-width=\"1.0\" x1=\"70.5\" x2=\"70.5\" y1=\"10.5\" y2=\"170.5\"/><line stroke-width=\"1.0\" x1=\"90.5\" x2=\"90.5\" y1=\"10.5\" y2=\"170.5\"/><line stroke-width=\"1.0\" x1=\"110.5\" x2=\"110.5\" y1=\"10.5\" y2=\"170.5\"/><line stroke-width=\"1.0\" x1=\"130.5\" x2=\"130.5\" y1=\"10.5\" y2=\"170.5\"/><line stroke-width=\"1.0\" x1=\"150.5\" x2=\"150.5\" y1=\"10.5\" y2=\"170.5\"/></g><g><text font-family=\"serif\" font-size=\"9.5\" text-anchor=\"middle\" x=\"20.5\" y=\"8\">a</text><text font-family=\"serif\" font-size=\"9.5\" text-anchor=\"middle\" x=\"40.5\" y=\"8\">b</text><text font-family=\"serif\" font-size=\"9.5\" text-anchor=\"middle\" x=\"60.5\" y=\"8\">c</text><text font-family=\"serif\" font-size=\"9.5\" text-anchor=\"middle\" x=\"80.5\" y=\"8\">d</text><text font-family=\"serif\" font-size=\"9.5\" text-anchor=\"middle\" x=\"100.5\" y=\"8\">e</text><text font-family=\"serif\" font-size=\"9.5\" text-anchor=\"middle\" x=\"120.5\" y=\"8\">f</text><text font-family=\"serif\" font-size=\"9.5\" text-anchor=\"middle\" x=\"140.5\" y=\"8\">g</text><text font-family=\"serif\" font-size=\"9.5\" text-anchor=\"middle\" x=\"160.5\" y=\"8\">h</text><text font-family=\"serif\" font-size=\"9.5\" x=\"2.5\" y=\"23.5\">1</text><text font-family=\"serif\" font-size=\"9.5\" x=\"2.5\" y=\"43.5\">2</text><text font-family=\"serif\" font-size=\"9.5\" x=\"2.5\" y=\"63.5\">3</text><text font-family=\"serif\" font-size=\"9.5\" x=\"2.5\" y=\"83.5\">4</text><text font-family=\"serif\" font-size=\"9.5\" x=\"2.5\" y=\"103.5\">5</text><text font-family=\"serif\" font-size=\"9.5\" x=\"2.5\" y=\"123.5\">6</text><text font-family=\"serif\" font-size=\"9.5\" x=\"2.5\" y=\"143.5\">7</text><text font-family=\"serif\" font-size=\"9.5\" x=\"2.5\" y=\"163.5\">8</text></g><use x=\"70.5\" xlink:href=\"#white\" y=\"10.5\"/><use x=\"90.5\" xlink:href=\"#white\" y=\"10.5\"/><use x=\"110.5\" xlink:href=\"#white\" y=\"10.5\"/><use x=\"130.5\" xlink:href=\"#white\" y=\"10.5\"/><use x=\"150.5\" xlink:href=\"#white\" y=\"10.5\"/><use x=\"50.5\" xlink:href=\"#black\" y=\"30.5\"/><use x=\"70.5\" xlink:href=\"#white\" y=\"30.5\"/><use x=\"90.5\" xlink:href=\"#white\" y=\"30.5\"/><use x=\"130.5\" xlink:href=\"#white\" y=\"30.5\"/><use x=\"150.5\" xlink:href=\"#white\" y=\"30.5\"/><use x=\"50.5\" xlink:href=\"#white\" y=\"50.5\"/><use x=\"70.5\" xlink:href=\"#white\" y=\"50.5\"/><use x=\"90.5\" xlink:href=\"#black\" y=\"50.5\"/><use x=\"110.5\" xlink:href=\"#white\" y=\"50.5\"/><use x=\"130.5\" xlink:href=\"#black\" y=\"50.5\"/><use x=\"150.5\" xlink:href=\"#white\" y=\"50.5\"/><use x=\"10.5\" xlink:href=\"#white\" y=\"70.5\"/><use x=\"30.5\" xlink:href=\"#white\" y=\"70.5\"/><use x=\"50.5\" xlink:href=\"#white\" y=\"70.5\"/><use x=\"70.5\" xlink:href=\"#white\" y=\"70.5\"/><use x=\"90.5\" xlink:href=\"#white\" y=\"70.5\"/><use x=\"110.5\" xlink:href=\"#white\" y=\"70.5\"/><use x=\"130.5\" xlink:href=\"#white\" y=\"70.5\"/><use x=\"150.5\" xlink:href=\"#white\" y=\"70.5\"/><use x=\"10.5\" xlink:href=\"#white\" y=\"90.5\"/><use x=\"30.5\" xlink:href=\"#white\" y=\"90.5\"/><use x=\"50.5\" xlink:href=\"#white\" y=\"90.5\"/><use x=\"70.5\" xlink:href=\"#white\" y=\"90.5\"/><use x=\"90.5\" xlink:href=\"#white\" y=\"90.5\"/><use x=\"110.5\" xlink:href=\"#black\" y=\"90.5\"/><use x=\"130.5\" xlink:href=\"#black\" y=\"90.5\"/><use x=\"150.5\" xlink:href=\"#white\" y=\"90.5\"/><use x=\"10.5\" xlink:href=\"#white\" y=\"110.5\"/><use x=\"30.5\" xlink:href=\"#black\" y=\"110.5\"/><use x=\"50.5\" xlink:href=\"#white\" y=\"110.5\"/><use x=\"70.5\" xlink:href=\"#white\" y=\"110.5\"/><use x=\"90.5\" xlink:href=\"#black\" y=\"110.5\"/><use x=\"110.5\" xlink:href=\"#black\" y=\"110.5\"/><use x=\"130.5\" xlink:href=\"#black\" y=\"110.5\"/><use x=\"150.5\" xlink:href=\"#white\" y=\"110.5\"/><use x=\"10.5\" xlink:href=\"#black\" y=\"130.5\"/><use x=\"30.5\" xlink:href=\"#black\" y=\"130.5\"/><use x=\"50.5\" xlink:href=\"#black\" y=\"130.5\"/><use x=\"70.5\" xlink:href=\"#white\" y=\"130.5\"/><use x=\"90.5\" xlink:href=\"#black\" y=\"130.5\"/><use x=\"110.5\" xlink:href=\"#black\" y=\"130.5\"/><use x=\"130.5\" xlink:href=\"#black\" y=\"130.5\"/><use x=\"150.5\" xlink:href=\"#white\" y=\"130.5\"/><use x=\"10.5\" xlink:href=\"#white\" y=\"150.5\"/><use x=\"30.5\" xlink:href=\"#white\" y=\"150.5\"/><use x=\"50.5\" xlink:href=\"#white\" y=\"150.5\"/><use x=\"70.5\" xlink:href=\"#white\" y=\"150.5\"/><use x=\"90.5\" xlink:href=\"#white\" y=\"150.5\"/><use x=\"110.5\" xlink:href=\"#white\" y=\"150.5\"/><use x=\"130.5\" xlink:href=\"#white\" y=\"150.5\"/><use x=\"150.5\" xlink:href=\"#white\" y=\"150.5\"/></svg>",
            "text/plain": [
              "<IPython.core.display.SVG object>"
            ]
          },
          "metadata": {
            "tags": []
          },
          "output_type": "display_data"
        },
        {
          "name": "stdout",
          "output_type": "stream",
          "text": [
            "c1\n",
            "54: white\n"
          ]
        },
        {
          "data": {
            "image/svg+xml": "<svg height=\"215.0\" version=\"1.1\" viewBox=\"0 0 172 172\" width=\"215.0\" xmlns=\"http://www.w3.org/2000/svg\" xmlns:xlink=\"http://www.w3.org/1999/xlink\"><defs><g id=\"black\"><circle cx=\"10\" cy=\"10\" fill=\"black\" r=\"8.5\"/></g><g id=\"white\"><circle cx=\"10\" cy=\"10\" fill=\"white\" r=\"8.5\"/></g></defs><rect fill=\"green\" height=\"161\" width=\"161\" x=\"10\" y=\"10\"/><rect fill=\"#8bbf83\" height=\"20\" width=\"20\" x=\"50.5\" y=\"10.5\"/><g stroke=\"black\"><rect fill=\"none\" height=\"161\" stroke-width=\"1.5\" width=\"161\" x=\"10\" y=\"10\"/><line stroke-width=\"1.0\" x1=\"10.5\" x2=\"170.5\" y1=\"30.5\" y2=\"30.5\"/><line stroke-width=\"1.0\" x1=\"10.5\" x2=\"170.5\" y1=\"50.5\" y2=\"50.5\"/><line stroke-width=\"1.0\" x1=\"10.5\" x2=\"170.5\" y1=\"70.5\" y2=\"70.5\"/><line stroke-width=\"1.0\" x1=\"10.5\" x2=\"170.5\" y1=\"90.5\" y2=\"90.5\"/><line stroke-width=\"1.0\" x1=\"10.5\" x2=\"170.5\" y1=\"110.5\" y2=\"110.5\"/><line stroke-width=\"1.0\" x1=\"10.5\" x2=\"170.5\" y1=\"130.5\" y2=\"130.5\"/><line stroke-width=\"1.0\" x1=\"10.5\" x2=\"170.5\" y1=\"150.5\" y2=\"150.5\"/><line stroke-width=\"1.0\" x1=\"30.5\" x2=\"30.5\" y1=\"10.5\" y2=\"170.5\"/><line stroke-width=\"1.0\" x1=\"50.5\" x2=\"50.5\" y1=\"10.5\" y2=\"170.5\"/><line stroke-width=\"1.0\" x1=\"70.5\" x2=\"70.5\" y1=\"10.5\" y2=\"170.5\"/><line stroke-width=\"1.0\" x1=\"90.5\" x2=\"90.5\" y1=\"10.5\" y2=\"170.5\"/><line stroke-width=\"1.0\" x1=\"110.5\" x2=\"110.5\" y1=\"10.5\" y2=\"170.5\"/><line stroke-width=\"1.0\" x1=\"130.5\" x2=\"130.5\" y1=\"10.5\" y2=\"170.5\"/><line stroke-width=\"1.0\" x1=\"150.5\" x2=\"150.5\" y1=\"10.5\" y2=\"170.5\"/></g><g><text font-family=\"serif\" font-size=\"9.5\" text-anchor=\"middle\" x=\"20.5\" y=\"8\">a</text><text font-family=\"serif\" font-size=\"9.5\" text-anchor=\"middle\" x=\"40.5\" y=\"8\">b</text><text font-family=\"serif\" font-size=\"9.5\" text-anchor=\"middle\" x=\"60.5\" y=\"8\">c</text><text font-family=\"serif\" font-size=\"9.5\" text-anchor=\"middle\" x=\"80.5\" y=\"8\">d</text><text font-family=\"serif\" font-size=\"9.5\" text-anchor=\"middle\" x=\"100.5\" y=\"8\">e</text><text font-family=\"serif\" font-size=\"9.5\" text-anchor=\"middle\" x=\"120.5\" y=\"8\">f</text><text font-family=\"serif\" font-size=\"9.5\" text-anchor=\"middle\" x=\"140.5\" y=\"8\">g</text><text font-family=\"serif\" font-size=\"9.5\" text-anchor=\"middle\" x=\"160.5\" y=\"8\">h</text><text font-family=\"serif\" font-size=\"9.5\" x=\"2.5\" y=\"23.5\">1</text><text font-family=\"serif\" font-size=\"9.5\" x=\"2.5\" y=\"43.5\">2</text><text font-family=\"serif\" font-size=\"9.5\" x=\"2.5\" y=\"63.5\">3</text><text font-family=\"serif\" font-size=\"9.5\" x=\"2.5\" y=\"83.5\">4</text><text font-family=\"serif\" font-size=\"9.5\" x=\"2.5\" y=\"103.5\">5</text><text font-family=\"serif\" font-size=\"9.5\" x=\"2.5\" y=\"123.5\">6</text><text font-family=\"serif\" font-size=\"9.5\" x=\"2.5\" y=\"143.5\">7</text><text font-family=\"serif\" font-size=\"9.5\" x=\"2.5\" y=\"163.5\">8</text></g><use x=\"50.5\" xlink:href=\"#black\" y=\"10.5\"/><use x=\"70.5\" xlink:href=\"#white\" y=\"10.5\"/><use x=\"90.5\" xlink:href=\"#white\" y=\"10.5\"/><use x=\"110.5\" xlink:href=\"#white\" y=\"10.5\"/><use x=\"130.5\" xlink:href=\"#white\" y=\"10.5\"/><use x=\"150.5\" xlink:href=\"#white\" y=\"10.5\"/><use x=\"50.5\" xlink:href=\"#black\" y=\"30.5\"/><use x=\"70.5\" xlink:href=\"#black\" y=\"30.5\"/><use x=\"90.5\" xlink:href=\"#white\" y=\"30.5\"/><use x=\"130.5\" xlink:href=\"#white\" y=\"30.5\"/><use x=\"150.5\" xlink:href=\"#white\" y=\"30.5\"/><use x=\"50.5\" xlink:href=\"#white\" y=\"50.5\"/><use x=\"70.5\" xlink:href=\"#white\" y=\"50.5\"/><use x=\"90.5\" xlink:href=\"#black\" y=\"50.5\"/><use x=\"110.5\" xlink:href=\"#white\" y=\"50.5\"/><use x=\"130.5\" xlink:href=\"#black\" y=\"50.5\"/><use x=\"150.5\" xlink:href=\"#white\" y=\"50.5\"/><use x=\"10.5\" xlink:href=\"#white\" y=\"70.5\"/><use x=\"30.5\" xlink:href=\"#white\" y=\"70.5\"/><use x=\"50.5\" xlink:href=\"#white\" y=\"70.5\"/><use x=\"70.5\" xlink:href=\"#white\" y=\"70.5\"/><use x=\"90.5\" xlink:href=\"#white\" y=\"70.5\"/><use x=\"110.5\" xlink:href=\"#white\" y=\"70.5\"/><use x=\"130.5\" xlink:href=\"#white\" y=\"70.5\"/><use x=\"150.5\" xlink:href=\"#white\" y=\"70.5\"/><use x=\"10.5\" xlink:href=\"#white\" y=\"90.5\"/><use x=\"30.5\" xlink:href=\"#white\" y=\"90.5\"/><use x=\"50.5\" xlink:href=\"#white\" y=\"90.5\"/><use x=\"70.5\" xlink:href=\"#white\" y=\"90.5\"/><use x=\"90.5\" xlink:href=\"#white\" y=\"90.5\"/><use x=\"110.5\" xlink:href=\"#black\" y=\"90.5\"/><use x=\"130.5\" xlink:href=\"#black\" y=\"90.5\"/><use x=\"150.5\" xlink:href=\"#white\" y=\"90.5\"/><use x=\"10.5\" xlink:href=\"#white\" y=\"110.5\"/><use x=\"30.5\" xlink:href=\"#black\" y=\"110.5\"/><use x=\"50.5\" xlink:href=\"#white\" y=\"110.5\"/><use x=\"70.5\" xlink:href=\"#white\" y=\"110.5\"/><use x=\"90.5\" xlink:href=\"#black\" y=\"110.5\"/><use x=\"110.5\" xlink:href=\"#black\" y=\"110.5\"/><use x=\"130.5\" xlink:href=\"#black\" y=\"110.5\"/><use x=\"150.5\" xlink:href=\"#white\" y=\"110.5\"/><use x=\"10.5\" xlink:href=\"#black\" y=\"130.5\"/><use x=\"30.5\" xlink:href=\"#black\" y=\"130.5\"/><use x=\"50.5\" xlink:href=\"#black\" y=\"130.5\"/><use x=\"70.5\" xlink:href=\"#white\" y=\"130.5\"/><use x=\"90.5\" xlink:href=\"#black\" y=\"130.5\"/><use x=\"110.5\" xlink:href=\"#black\" y=\"130.5\"/><use x=\"130.5\" xlink:href=\"#black\" y=\"130.5\"/><use x=\"150.5\" xlink:href=\"#white\" y=\"130.5\"/><use x=\"10.5\" xlink:href=\"#white\" y=\"150.5\"/><use x=\"30.5\" xlink:href=\"#white\" y=\"150.5\"/><use x=\"50.5\" xlink:href=\"#white\" y=\"150.5\"/><use x=\"70.5\" xlink:href=\"#white\" y=\"150.5\"/><use x=\"90.5\" xlink:href=\"#white\" y=\"150.5\"/><use x=\"110.5\" xlink:href=\"#white\" y=\"150.5\"/><use x=\"130.5\" xlink:href=\"#white\" y=\"150.5\"/><use x=\"150.5\" xlink:href=\"#white\" y=\"150.5\"/></svg>",
            "text/plain": [
              "<IPython.core.display.SVG object>"
            ]
          },
          "metadata": {
            "tags": []
          },
          "output_type": "display_data"
        },
        {
          "name": "stdout",
          "output_type": "stream",
          "text": [
            "b1\n",
            "b1\n",
            "55: black\n"
          ]
        },
        {
          "data": {
            "image/svg+xml": "<svg height=\"215.0\" version=\"1.1\" viewBox=\"0 0 172 172\" width=\"215.0\" xmlns=\"http://www.w3.org/2000/svg\" xmlns:xlink=\"http://www.w3.org/1999/xlink\"><defs><g id=\"black\"><circle cx=\"10\" cy=\"10\" fill=\"black\" r=\"8.5\"/></g><g id=\"white\"><circle cx=\"10\" cy=\"10\" fill=\"white\" r=\"8.5\"/></g></defs><rect fill=\"green\" height=\"161\" width=\"161\" x=\"10\" y=\"10\"/><rect fill=\"#8bbf83\" height=\"20\" width=\"20\" x=\"30.5\" y=\"10.5\"/><g stroke=\"black\"><rect fill=\"none\" height=\"161\" stroke-width=\"1.5\" width=\"161\" x=\"10\" y=\"10\"/><line stroke-width=\"1.0\" x1=\"10.5\" x2=\"170.5\" y1=\"30.5\" y2=\"30.5\"/><line stroke-width=\"1.0\" x1=\"10.5\" x2=\"170.5\" y1=\"50.5\" y2=\"50.5\"/><line stroke-width=\"1.0\" x1=\"10.5\" x2=\"170.5\" y1=\"70.5\" y2=\"70.5\"/><line stroke-width=\"1.0\" x1=\"10.5\" x2=\"170.5\" y1=\"90.5\" y2=\"90.5\"/><line stroke-width=\"1.0\" x1=\"10.5\" x2=\"170.5\" y1=\"110.5\" y2=\"110.5\"/><line stroke-width=\"1.0\" x1=\"10.5\" x2=\"170.5\" y1=\"130.5\" y2=\"130.5\"/><line stroke-width=\"1.0\" x1=\"10.5\" x2=\"170.5\" y1=\"150.5\" y2=\"150.5\"/><line stroke-width=\"1.0\" x1=\"30.5\" x2=\"30.5\" y1=\"10.5\" y2=\"170.5\"/><line stroke-width=\"1.0\" x1=\"50.5\" x2=\"50.5\" y1=\"10.5\" y2=\"170.5\"/><line stroke-width=\"1.0\" x1=\"70.5\" x2=\"70.5\" y1=\"10.5\" y2=\"170.5\"/><line stroke-width=\"1.0\" x1=\"90.5\" x2=\"90.5\" y1=\"10.5\" y2=\"170.5\"/><line stroke-width=\"1.0\" x1=\"110.5\" x2=\"110.5\" y1=\"10.5\" y2=\"170.5\"/><line stroke-width=\"1.0\" x1=\"130.5\" x2=\"130.5\" y1=\"10.5\" y2=\"170.5\"/><line stroke-width=\"1.0\" x1=\"150.5\" x2=\"150.5\" y1=\"10.5\" y2=\"170.5\"/></g><g><text font-family=\"serif\" font-size=\"9.5\" text-anchor=\"middle\" x=\"20.5\" y=\"8\">a</text><text font-family=\"serif\" font-size=\"9.5\" text-anchor=\"middle\" x=\"40.5\" y=\"8\">b</text><text font-family=\"serif\" font-size=\"9.5\" text-anchor=\"middle\" x=\"60.5\" y=\"8\">c</text><text font-family=\"serif\" font-size=\"9.5\" text-anchor=\"middle\" x=\"80.5\" y=\"8\">d</text><text font-family=\"serif\" font-size=\"9.5\" text-anchor=\"middle\" x=\"100.5\" y=\"8\">e</text><text font-family=\"serif\" font-size=\"9.5\" text-anchor=\"middle\" x=\"120.5\" y=\"8\">f</text><text font-family=\"serif\" font-size=\"9.5\" text-anchor=\"middle\" x=\"140.5\" y=\"8\">g</text><text font-family=\"serif\" font-size=\"9.5\" text-anchor=\"middle\" x=\"160.5\" y=\"8\">h</text><text font-family=\"serif\" font-size=\"9.5\" x=\"2.5\" y=\"23.5\">1</text><text font-family=\"serif\" font-size=\"9.5\" x=\"2.5\" y=\"43.5\">2</text><text font-family=\"serif\" font-size=\"9.5\" x=\"2.5\" y=\"63.5\">3</text><text font-family=\"serif\" font-size=\"9.5\" x=\"2.5\" y=\"83.5\">4</text><text font-family=\"serif\" font-size=\"9.5\" x=\"2.5\" y=\"103.5\">5</text><text font-family=\"serif\" font-size=\"9.5\" x=\"2.5\" y=\"123.5\">6</text><text font-family=\"serif\" font-size=\"9.5\" x=\"2.5\" y=\"143.5\">7</text><text font-family=\"serif\" font-size=\"9.5\" x=\"2.5\" y=\"163.5\">8</text></g><use x=\"30.5\" xlink:href=\"#white\" y=\"10.5\"/><use x=\"50.5\" xlink:href=\"#white\" y=\"10.5\"/><use x=\"70.5\" xlink:href=\"#white\" y=\"10.5\"/><use x=\"90.5\" xlink:href=\"#white\" y=\"10.5\"/><use x=\"110.5\" xlink:href=\"#white\" y=\"10.5\"/><use x=\"130.5\" xlink:href=\"#white\" y=\"10.5\"/><use x=\"150.5\" xlink:href=\"#white\" y=\"10.5\"/><use x=\"50.5\" xlink:href=\"#white\" y=\"30.5\"/><use x=\"70.5\" xlink:href=\"#black\" y=\"30.5\"/><use x=\"90.5\" xlink:href=\"#white\" y=\"30.5\"/><use x=\"130.5\" xlink:href=\"#white\" y=\"30.5\"/><use x=\"150.5\" xlink:href=\"#white\" y=\"30.5\"/><use x=\"50.5\" xlink:href=\"#white\" y=\"50.5\"/><use x=\"70.5\" xlink:href=\"#white\" y=\"50.5\"/><use x=\"90.5\" xlink:href=\"#black\" y=\"50.5\"/><use x=\"110.5\" xlink:href=\"#white\" y=\"50.5\"/><use x=\"130.5\" xlink:href=\"#black\" y=\"50.5\"/><use x=\"150.5\" xlink:href=\"#white\" y=\"50.5\"/><use x=\"10.5\" xlink:href=\"#white\" y=\"70.5\"/><use x=\"30.5\" xlink:href=\"#white\" y=\"70.5\"/><use x=\"50.5\" xlink:href=\"#white\" y=\"70.5\"/><use x=\"70.5\" xlink:href=\"#white\" y=\"70.5\"/><use x=\"90.5\" xlink:href=\"#white\" y=\"70.5\"/><use x=\"110.5\" xlink:href=\"#white\" y=\"70.5\"/><use x=\"130.5\" xlink:href=\"#white\" y=\"70.5\"/><use x=\"150.5\" xlink:href=\"#white\" y=\"70.5\"/><use x=\"10.5\" xlink:href=\"#white\" y=\"90.5\"/><use x=\"30.5\" xlink:href=\"#white\" y=\"90.5\"/><use x=\"50.5\" xlink:href=\"#white\" y=\"90.5\"/><use x=\"70.5\" xlink:href=\"#white\" y=\"90.5\"/><use x=\"90.5\" xlink:href=\"#white\" y=\"90.5\"/><use x=\"110.5\" xlink:href=\"#black\" y=\"90.5\"/><use x=\"130.5\" xlink:href=\"#black\" y=\"90.5\"/><use x=\"150.5\" xlink:href=\"#white\" y=\"90.5\"/><use x=\"10.5\" xlink:href=\"#white\" y=\"110.5\"/><use x=\"30.5\" xlink:href=\"#black\" y=\"110.5\"/><use x=\"50.5\" xlink:href=\"#white\" y=\"110.5\"/><use x=\"70.5\" xlink:href=\"#white\" y=\"110.5\"/><use x=\"90.5\" xlink:href=\"#black\" y=\"110.5\"/><use x=\"110.5\" xlink:href=\"#black\" y=\"110.5\"/><use x=\"130.5\" xlink:href=\"#black\" y=\"110.5\"/><use x=\"150.5\" xlink:href=\"#white\" y=\"110.5\"/><use x=\"10.5\" xlink:href=\"#black\" y=\"130.5\"/><use x=\"30.5\" xlink:href=\"#black\" y=\"130.5\"/><use x=\"50.5\" xlink:href=\"#black\" y=\"130.5\"/><use x=\"70.5\" xlink:href=\"#white\" y=\"130.5\"/><use x=\"90.5\" xlink:href=\"#black\" y=\"130.5\"/><use x=\"110.5\" xlink:href=\"#black\" y=\"130.5\"/><use x=\"130.5\" xlink:href=\"#black\" y=\"130.5\"/><use x=\"150.5\" xlink:href=\"#white\" y=\"130.5\"/><use x=\"10.5\" xlink:href=\"#white\" y=\"150.5\"/><use x=\"30.5\" xlink:href=\"#white\" y=\"150.5\"/><use x=\"50.5\" xlink:href=\"#white\" y=\"150.5\"/><use x=\"70.5\" xlink:href=\"#white\" y=\"150.5\"/><use x=\"90.5\" xlink:href=\"#white\" y=\"150.5\"/><use x=\"110.5\" xlink:href=\"#white\" y=\"150.5\"/><use x=\"130.5\" xlink:href=\"#white\" y=\"150.5\"/><use x=\"150.5\" xlink:href=\"#white\" y=\"150.5\"/></svg>",
            "text/plain": [
              "<IPython.core.display.SVG object>"
            ]
          },
          "metadata": {
            "tags": []
          },
          "output_type": "display_data"
        },
        {
          "name": "stdout",
          "output_type": "stream",
          "text": [
            "a3\n",
            "56: white\n"
          ]
        },
        {
          "data": {
            "image/svg+xml": "<svg height=\"215.0\" version=\"1.1\" viewBox=\"0 0 172 172\" width=\"215.0\" xmlns=\"http://www.w3.org/2000/svg\" xmlns:xlink=\"http://www.w3.org/1999/xlink\"><defs><g id=\"black\"><circle cx=\"10\" cy=\"10\" fill=\"black\" r=\"8.5\"/></g><g id=\"white\"><circle cx=\"10\" cy=\"10\" fill=\"white\" r=\"8.5\"/></g></defs><rect fill=\"green\" height=\"161\" width=\"161\" x=\"10\" y=\"10\"/><rect fill=\"#8bbf83\" height=\"20\" width=\"20\" x=\"10.5\" y=\"50.5\"/><g stroke=\"black\"><rect fill=\"none\" height=\"161\" stroke-width=\"1.5\" width=\"161\" x=\"10\" y=\"10\"/><line stroke-width=\"1.0\" x1=\"10.5\" x2=\"170.5\" y1=\"30.5\" y2=\"30.5\"/><line stroke-width=\"1.0\" x1=\"10.5\" x2=\"170.5\" y1=\"50.5\" y2=\"50.5\"/><line stroke-width=\"1.0\" x1=\"10.5\" x2=\"170.5\" y1=\"70.5\" y2=\"70.5\"/><line stroke-width=\"1.0\" x1=\"10.5\" x2=\"170.5\" y1=\"90.5\" y2=\"90.5\"/><line stroke-width=\"1.0\" x1=\"10.5\" x2=\"170.5\" y1=\"110.5\" y2=\"110.5\"/><line stroke-width=\"1.0\" x1=\"10.5\" x2=\"170.5\" y1=\"130.5\" y2=\"130.5\"/><line stroke-width=\"1.0\" x1=\"10.5\" x2=\"170.5\" y1=\"150.5\" y2=\"150.5\"/><line stroke-width=\"1.0\" x1=\"30.5\" x2=\"30.5\" y1=\"10.5\" y2=\"170.5\"/><line stroke-width=\"1.0\" x1=\"50.5\" x2=\"50.5\" y1=\"10.5\" y2=\"170.5\"/><line stroke-width=\"1.0\" x1=\"70.5\" x2=\"70.5\" y1=\"10.5\" y2=\"170.5\"/><line stroke-width=\"1.0\" x1=\"90.5\" x2=\"90.5\" y1=\"10.5\" y2=\"170.5\"/><line stroke-width=\"1.0\" x1=\"110.5\" x2=\"110.5\" y1=\"10.5\" y2=\"170.5\"/><line stroke-width=\"1.0\" x1=\"130.5\" x2=\"130.5\" y1=\"10.5\" y2=\"170.5\"/><line stroke-width=\"1.0\" x1=\"150.5\" x2=\"150.5\" y1=\"10.5\" y2=\"170.5\"/></g><g><text font-family=\"serif\" font-size=\"9.5\" text-anchor=\"middle\" x=\"20.5\" y=\"8\">a</text><text font-family=\"serif\" font-size=\"9.5\" text-anchor=\"middle\" x=\"40.5\" y=\"8\">b</text><text font-family=\"serif\" font-size=\"9.5\" text-anchor=\"middle\" x=\"60.5\" y=\"8\">c</text><text font-family=\"serif\" font-size=\"9.5\" text-anchor=\"middle\" x=\"80.5\" y=\"8\">d</text><text font-family=\"serif\" font-size=\"9.5\" text-anchor=\"middle\" x=\"100.5\" y=\"8\">e</text><text font-family=\"serif\" font-size=\"9.5\" text-anchor=\"middle\" x=\"120.5\" y=\"8\">f</text><text font-family=\"serif\" font-size=\"9.5\" text-anchor=\"middle\" x=\"140.5\" y=\"8\">g</text><text font-family=\"serif\" font-size=\"9.5\" text-anchor=\"middle\" x=\"160.5\" y=\"8\">h</text><text font-family=\"serif\" font-size=\"9.5\" x=\"2.5\" y=\"23.5\">1</text><text font-family=\"serif\" font-size=\"9.5\" x=\"2.5\" y=\"43.5\">2</text><text font-family=\"serif\" font-size=\"9.5\" x=\"2.5\" y=\"63.5\">3</text><text font-family=\"serif\" font-size=\"9.5\" x=\"2.5\" y=\"83.5\">4</text><text font-family=\"serif\" font-size=\"9.5\" x=\"2.5\" y=\"103.5\">5</text><text font-family=\"serif\" font-size=\"9.5\" x=\"2.5\" y=\"123.5\">6</text><text font-family=\"serif\" font-size=\"9.5\" x=\"2.5\" y=\"143.5\">7</text><text font-family=\"serif\" font-size=\"9.5\" x=\"2.5\" y=\"163.5\">8</text></g><use x=\"30.5\" xlink:href=\"#white\" y=\"10.5\"/><use x=\"50.5\" xlink:href=\"#white\" y=\"10.5\"/><use x=\"70.5\" xlink:href=\"#white\" y=\"10.5\"/><use x=\"90.5\" xlink:href=\"#white\" y=\"10.5\"/><use x=\"110.5\" xlink:href=\"#white\" y=\"10.5\"/><use x=\"130.5\" xlink:href=\"#white\" y=\"10.5\"/><use x=\"150.5\" xlink:href=\"#white\" y=\"10.5\"/><use x=\"50.5\" xlink:href=\"#white\" y=\"30.5\"/><use x=\"70.5\" xlink:href=\"#black\" y=\"30.5\"/><use x=\"90.5\" xlink:href=\"#white\" y=\"30.5\"/><use x=\"130.5\" xlink:href=\"#white\" y=\"30.5\"/><use x=\"150.5\" xlink:href=\"#white\" y=\"30.5\"/><use x=\"10.5\" xlink:href=\"#black\" y=\"50.5\"/><use x=\"50.5\" xlink:href=\"#white\" y=\"50.5\"/><use x=\"70.5\" xlink:href=\"#white\" y=\"50.5\"/><use x=\"90.5\" xlink:href=\"#black\" y=\"50.5\"/><use x=\"110.5\" xlink:href=\"#white\" y=\"50.5\"/><use x=\"130.5\" xlink:href=\"#black\" y=\"50.5\"/><use x=\"150.5\" xlink:href=\"#white\" y=\"50.5\"/><use x=\"10.5\" xlink:href=\"#black\" y=\"70.5\"/><use x=\"30.5\" xlink:href=\"#black\" y=\"70.5\"/><use x=\"50.5\" xlink:href=\"#white\" y=\"70.5\"/><use x=\"70.5\" xlink:href=\"#white\" y=\"70.5\"/><use x=\"90.5\" xlink:href=\"#white\" y=\"70.5\"/><use x=\"110.5\" xlink:href=\"#white\" y=\"70.5\"/><use x=\"130.5\" xlink:href=\"#white\" y=\"70.5\"/><use x=\"150.5\" xlink:href=\"#white\" y=\"70.5\"/><use x=\"10.5\" xlink:href=\"#black\" y=\"90.5\"/><use x=\"30.5\" xlink:href=\"#white\" y=\"90.5\"/><use x=\"50.5\" xlink:href=\"#black\" y=\"90.5\"/><use x=\"70.5\" xlink:href=\"#white\" y=\"90.5\"/><use x=\"90.5\" xlink:href=\"#white\" y=\"90.5\"/><use x=\"110.5\" xlink:href=\"#black\" y=\"90.5\"/><use x=\"130.5\" xlink:href=\"#black\" y=\"90.5\"/><use x=\"150.5\" xlink:href=\"#white\" y=\"90.5\"/><use x=\"10.5\" xlink:href=\"#black\" y=\"110.5\"/><use x=\"30.5\" xlink:href=\"#black\" y=\"110.5\"/><use x=\"50.5\" xlink:href=\"#white\" y=\"110.5\"/><use x=\"70.5\" xlink:href=\"#black\" y=\"110.5\"/><use x=\"90.5\" xlink:href=\"#black\" y=\"110.5\"/><use x=\"110.5\" xlink:href=\"#black\" y=\"110.5\"/><use x=\"130.5\" xlink:href=\"#black\" y=\"110.5\"/><use x=\"150.5\" xlink:href=\"#white\" y=\"110.5\"/><use x=\"10.5\" xlink:href=\"#black\" y=\"130.5\"/><use x=\"30.5\" xlink:href=\"#black\" y=\"130.5\"/><use x=\"50.5\" xlink:href=\"#black\" y=\"130.5\"/><use x=\"70.5\" xlink:href=\"#white\" y=\"130.5\"/><use x=\"90.5\" xlink:href=\"#black\" y=\"130.5\"/><use x=\"110.5\" xlink:href=\"#black\" y=\"130.5\"/><use x=\"130.5\" xlink:href=\"#black\" y=\"130.5\"/><use x=\"150.5\" xlink:href=\"#white\" y=\"130.5\"/><use x=\"10.5\" xlink:href=\"#white\" y=\"150.5\"/><use x=\"30.5\" xlink:href=\"#white\" y=\"150.5\"/><use x=\"50.5\" xlink:href=\"#white\" y=\"150.5\"/><use x=\"70.5\" xlink:href=\"#white\" y=\"150.5\"/><use x=\"90.5\" xlink:href=\"#white\" y=\"150.5\"/><use x=\"110.5\" xlink:href=\"#white\" y=\"150.5\"/><use x=\"130.5\" xlink:href=\"#white\" y=\"150.5\"/><use x=\"150.5\" xlink:href=\"#white\" y=\"150.5\"/></svg>",
            "text/plain": [
              "<IPython.core.display.SVG object>"
            ]
          },
          "metadata": {
            "tags": []
          },
          "output_type": "display_data"
        },
        {
          "name": "stdout",
          "output_type": "stream",
          "text": [
            "f2\n",
            "f2\n",
            "57: black\n"
          ]
        },
        {
          "data": {
            "image/svg+xml": "<svg height=\"215.0\" version=\"1.1\" viewBox=\"0 0 172 172\" width=\"215.0\" xmlns=\"http://www.w3.org/2000/svg\" xmlns:xlink=\"http://www.w3.org/1999/xlink\"><defs><g id=\"black\"><circle cx=\"10\" cy=\"10\" fill=\"black\" r=\"8.5\"/></g><g id=\"white\"><circle cx=\"10\" cy=\"10\" fill=\"white\" r=\"8.5\"/></g></defs><rect fill=\"green\" height=\"161\" width=\"161\" x=\"10\" y=\"10\"/><rect fill=\"#8bbf83\" height=\"20\" width=\"20\" x=\"110.5\" y=\"30.5\"/><g stroke=\"black\"><rect fill=\"none\" height=\"161\" stroke-width=\"1.5\" width=\"161\" x=\"10\" y=\"10\"/><line stroke-width=\"1.0\" x1=\"10.5\" x2=\"170.5\" y1=\"30.5\" y2=\"30.5\"/><line stroke-width=\"1.0\" x1=\"10.5\" x2=\"170.5\" y1=\"50.5\" y2=\"50.5\"/><line stroke-width=\"1.0\" x1=\"10.5\" x2=\"170.5\" y1=\"70.5\" y2=\"70.5\"/><line stroke-width=\"1.0\" x1=\"10.5\" x2=\"170.5\" y1=\"90.5\" y2=\"90.5\"/><line stroke-width=\"1.0\" x1=\"10.5\" x2=\"170.5\" y1=\"110.5\" y2=\"110.5\"/><line stroke-width=\"1.0\" x1=\"10.5\" x2=\"170.5\" y1=\"130.5\" y2=\"130.5\"/><line stroke-width=\"1.0\" x1=\"10.5\" x2=\"170.5\" y1=\"150.5\" y2=\"150.5\"/><line stroke-width=\"1.0\" x1=\"30.5\" x2=\"30.5\" y1=\"10.5\" y2=\"170.5\"/><line stroke-width=\"1.0\" x1=\"50.5\" x2=\"50.5\" y1=\"10.5\" y2=\"170.5\"/><line stroke-width=\"1.0\" x1=\"70.5\" x2=\"70.5\" y1=\"10.5\" y2=\"170.5\"/><line stroke-width=\"1.0\" x1=\"90.5\" x2=\"90.5\" y1=\"10.5\" y2=\"170.5\"/><line stroke-width=\"1.0\" x1=\"110.5\" x2=\"110.5\" y1=\"10.5\" y2=\"170.5\"/><line stroke-width=\"1.0\" x1=\"130.5\" x2=\"130.5\" y1=\"10.5\" y2=\"170.5\"/><line stroke-width=\"1.0\" x1=\"150.5\" x2=\"150.5\" y1=\"10.5\" y2=\"170.5\"/></g><g><text font-family=\"serif\" font-size=\"9.5\" text-anchor=\"middle\" x=\"20.5\" y=\"8\">a</text><text font-family=\"serif\" font-size=\"9.5\" text-anchor=\"middle\" x=\"40.5\" y=\"8\">b</text><text font-family=\"serif\" font-size=\"9.5\" text-anchor=\"middle\" x=\"60.5\" y=\"8\">c</text><text font-family=\"serif\" font-size=\"9.5\" text-anchor=\"middle\" x=\"80.5\" y=\"8\">d</text><text font-family=\"serif\" font-size=\"9.5\" text-anchor=\"middle\" x=\"100.5\" y=\"8\">e</text><text font-family=\"serif\" font-size=\"9.5\" text-anchor=\"middle\" x=\"120.5\" y=\"8\">f</text><text font-family=\"serif\" font-size=\"9.5\" text-anchor=\"middle\" x=\"140.5\" y=\"8\">g</text><text font-family=\"serif\" font-size=\"9.5\" text-anchor=\"middle\" x=\"160.5\" y=\"8\">h</text><text font-family=\"serif\" font-size=\"9.5\" x=\"2.5\" y=\"23.5\">1</text><text font-family=\"serif\" font-size=\"9.5\" x=\"2.5\" y=\"43.5\">2</text><text font-family=\"serif\" font-size=\"9.5\" x=\"2.5\" y=\"63.5\">3</text><text font-family=\"serif\" font-size=\"9.5\" x=\"2.5\" y=\"83.5\">4</text><text font-family=\"serif\" font-size=\"9.5\" x=\"2.5\" y=\"103.5\">5</text><text font-family=\"serif\" font-size=\"9.5\" x=\"2.5\" y=\"123.5\">6</text><text font-family=\"serif\" font-size=\"9.5\" x=\"2.5\" y=\"143.5\">7</text><text font-family=\"serif\" font-size=\"9.5\" x=\"2.5\" y=\"163.5\">8</text></g><use x=\"30.5\" xlink:href=\"#white\" y=\"10.5\"/><use x=\"50.5\" xlink:href=\"#white\" y=\"10.5\"/><use x=\"70.5\" xlink:href=\"#white\" y=\"10.5\"/><use x=\"90.5\" xlink:href=\"#white\" y=\"10.5\"/><use x=\"110.5\" xlink:href=\"#white\" y=\"10.5\"/><use x=\"130.5\" xlink:href=\"#white\" y=\"10.5\"/><use x=\"150.5\" xlink:href=\"#white\" y=\"10.5\"/><use x=\"50.5\" xlink:href=\"#white\" y=\"30.5\"/><use x=\"70.5\" xlink:href=\"#black\" y=\"30.5\"/><use x=\"90.5\" xlink:href=\"#white\" y=\"30.5\"/><use x=\"110.5\" xlink:href=\"#white\" y=\"30.5\"/><use x=\"130.5\" xlink:href=\"#white\" y=\"30.5\"/><use x=\"150.5\" xlink:href=\"#white\" y=\"30.5\"/><use x=\"10.5\" xlink:href=\"#black\" y=\"50.5\"/><use x=\"50.5\" xlink:href=\"#white\" y=\"50.5\"/><use x=\"70.5\" xlink:href=\"#white\" y=\"50.5\"/><use x=\"90.5\" xlink:href=\"#white\" y=\"50.5\"/><use x=\"110.5\" xlink:href=\"#white\" y=\"50.5\"/><use x=\"130.5\" xlink:href=\"#white\" y=\"50.5\"/><use x=\"150.5\" xlink:href=\"#white\" y=\"50.5\"/><use x=\"10.5\" xlink:href=\"#black\" y=\"70.5\"/><use x=\"30.5\" xlink:href=\"#black\" y=\"70.5\"/><use x=\"50.5\" xlink:href=\"#white\" y=\"70.5\"/><use x=\"70.5\" xlink:href=\"#white\" y=\"70.5\"/><use x=\"90.5\" xlink:href=\"#white\" y=\"70.5\"/><use x=\"110.5\" xlink:href=\"#white\" y=\"70.5\"/><use x=\"130.5\" xlink:href=\"#white\" y=\"70.5\"/><use x=\"150.5\" xlink:href=\"#white\" y=\"70.5\"/><use x=\"10.5\" xlink:href=\"#black\" y=\"90.5\"/><use x=\"30.5\" xlink:href=\"#white\" y=\"90.5\"/><use x=\"50.5\" xlink:href=\"#black\" y=\"90.5\"/><use x=\"70.5\" xlink:href=\"#white\" y=\"90.5\"/><use x=\"90.5\" xlink:href=\"#white\" y=\"90.5\"/><use x=\"110.5\" xlink:href=\"#black\" y=\"90.5\"/><use x=\"130.5\" xlink:href=\"#black\" y=\"90.5\"/><use x=\"150.5\" xlink:href=\"#white\" y=\"90.5\"/><use x=\"10.5\" xlink:href=\"#black\" y=\"110.5\"/><use x=\"30.5\" xlink:href=\"#black\" y=\"110.5\"/><use x=\"50.5\" xlink:href=\"#white\" y=\"110.5\"/><use x=\"70.5\" xlink:href=\"#black\" y=\"110.5\"/><use x=\"90.5\" xlink:href=\"#black\" y=\"110.5\"/><use x=\"110.5\" xlink:href=\"#black\" y=\"110.5\"/><use x=\"130.5\" xlink:href=\"#black\" y=\"110.5\"/><use x=\"150.5\" xlink:href=\"#white\" y=\"110.5\"/><use x=\"10.5\" xlink:href=\"#black\" y=\"130.5\"/><use x=\"30.5\" xlink:href=\"#black\" y=\"130.5\"/><use x=\"50.5\" xlink:href=\"#black\" y=\"130.5\"/><use x=\"70.5\" xlink:href=\"#white\" y=\"130.5\"/><use x=\"90.5\" xlink:href=\"#black\" y=\"130.5\"/><use x=\"110.5\" xlink:href=\"#black\" y=\"130.5\"/><use x=\"130.5\" xlink:href=\"#black\" y=\"130.5\"/><use x=\"150.5\" xlink:href=\"#white\" y=\"130.5\"/><use x=\"10.5\" xlink:href=\"#white\" y=\"150.5\"/><use x=\"30.5\" xlink:href=\"#white\" y=\"150.5\"/><use x=\"50.5\" xlink:href=\"#white\" y=\"150.5\"/><use x=\"70.5\" xlink:href=\"#white\" y=\"150.5\"/><use x=\"90.5\" xlink:href=\"#white\" y=\"150.5\"/><use x=\"110.5\" xlink:href=\"#white\" y=\"150.5\"/><use x=\"130.5\" xlink:href=\"#white\" y=\"150.5\"/><use x=\"150.5\" xlink:href=\"#white\" y=\"150.5\"/></svg>",
            "text/plain": [
              "<IPython.core.display.SVG object>"
            ]
          },
          "metadata": {
            "tags": []
          },
          "output_type": "display_data"
        },
        {
          "name": "stdout",
          "output_type": "stream",
          "text": [
            "b3\n",
            "58: white\n"
          ]
        },
        {
          "data": {
            "image/svg+xml": "<svg height=\"215.0\" version=\"1.1\" viewBox=\"0 0 172 172\" width=\"215.0\" xmlns=\"http://www.w3.org/2000/svg\" xmlns:xlink=\"http://www.w3.org/1999/xlink\"><defs><g id=\"black\"><circle cx=\"10\" cy=\"10\" fill=\"black\" r=\"8.5\"/></g><g id=\"white\"><circle cx=\"10\" cy=\"10\" fill=\"white\" r=\"8.5\"/></g></defs><rect fill=\"green\" height=\"161\" width=\"161\" x=\"10\" y=\"10\"/><rect fill=\"#8bbf83\" height=\"20\" width=\"20\" x=\"30.5\" y=\"50.5\"/><g stroke=\"black\"><rect fill=\"none\" height=\"161\" stroke-width=\"1.5\" width=\"161\" x=\"10\" y=\"10\"/><line stroke-width=\"1.0\" x1=\"10.5\" x2=\"170.5\" y1=\"30.5\" y2=\"30.5\"/><line stroke-width=\"1.0\" x1=\"10.5\" x2=\"170.5\" y1=\"50.5\" y2=\"50.5\"/><line stroke-width=\"1.0\" x1=\"10.5\" x2=\"170.5\" y1=\"70.5\" y2=\"70.5\"/><line stroke-width=\"1.0\" x1=\"10.5\" x2=\"170.5\" y1=\"90.5\" y2=\"90.5\"/><line stroke-width=\"1.0\" x1=\"10.5\" x2=\"170.5\" y1=\"110.5\" y2=\"110.5\"/><line stroke-width=\"1.0\" x1=\"10.5\" x2=\"170.5\" y1=\"130.5\" y2=\"130.5\"/><line stroke-width=\"1.0\" x1=\"10.5\" x2=\"170.5\" y1=\"150.5\" y2=\"150.5\"/><line stroke-width=\"1.0\" x1=\"30.5\" x2=\"30.5\" y1=\"10.5\" y2=\"170.5\"/><line stroke-width=\"1.0\" x1=\"50.5\" x2=\"50.5\" y1=\"10.5\" y2=\"170.5\"/><line stroke-width=\"1.0\" x1=\"70.5\" x2=\"70.5\" y1=\"10.5\" y2=\"170.5\"/><line stroke-width=\"1.0\" x1=\"90.5\" x2=\"90.5\" y1=\"10.5\" y2=\"170.5\"/><line stroke-width=\"1.0\" x1=\"110.5\" x2=\"110.5\" y1=\"10.5\" y2=\"170.5\"/><line stroke-width=\"1.0\" x1=\"130.5\" x2=\"130.5\" y1=\"10.5\" y2=\"170.5\"/><line stroke-width=\"1.0\" x1=\"150.5\" x2=\"150.5\" y1=\"10.5\" y2=\"170.5\"/></g><g><text font-family=\"serif\" font-size=\"9.5\" text-anchor=\"middle\" x=\"20.5\" y=\"8\">a</text><text font-family=\"serif\" font-size=\"9.5\" text-anchor=\"middle\" x=\"40.5\" y=\"8\">b</text><text font-family=\"serif\" font-size=\"9.5\" text-anchor=\"middle\" x=\"60.5\" y=\"8\">c</text><text font-family=\"serif\" font-size=\"9.5\" text-anchor=\"middle\" x=\"80.5\" y=\"8\">d</text><text font-family=\"serif\" font-size=\"9.5\" text-anchor=\"middle\" x=\"100.5\" y=\"8\">e</text><text font-family=\"serif\" font-size=\"9.5\" text-anchor=\"middle\" x=\"120.5\" y=\"8\">f</text><text font-family=\"serif\" font-size=\"9.5\" text-anchor=\"middle\" x=\"140.5\" y=\"8\">g</text><text font-family=\"serif\" font-size=\"9.5\" text-anchor=\"middle\" x=\"160.5\" y=\"8\">h</text><text font-family=\"serif\" font-size=\"9.5\" x=\"2.5\" y=\"23.5\">1</text><text font-family=\"serif\" font-size=\"9.5\" x=\"2.5\" y=\"43.5\">2</text><text font-family=\"serif\" font-size=\"9.5\" x=\"2.5\" y=\"63.5\">3</text><text font-family=\"serif\" font-size=\"9.5\" x=\"2.5\" y=\"83.5\">4</text><text font-family=\"serif\" font-size=\"9.5\" x=\"2.5\" y=\"103.5\">5</text><text font-family=\"serif\" font-size=\"9.5\" x=\"2.5\" y=\"123.5\">6</text><text font-family=\"serif\" font-size=\"9.5\" x=\"2.5\" y=\"143.5\">7</text><text font-family=\"serif\" font-size=\"9.5\" x=\"2.5\" y=\"163.5\">8</text></g><use x=\"30.5\" xlink:href=\"#white\" y=\"10.5\"/><use x=\"50.5\" xlink:href=\"#white\" y=\"10.5\"/><use x=\"70.5\" xlink:href=\"#white\" y=\"10.5\"/><use x=\"90.5\" xlink:href=\"#white\" y=\"10.5\"/><use x=\"110.5\" xlink:href=\"#white\" y=\"10.5\"/><use x=\"130.5\" xlink:href=\"#white\" y=\"10.5\"/><use x=\"150.5\" xlink:href=\"#white\" y=\"10.5\"/><use x=\"50.5\" xlink:href=\"#white\" y=\"30.5\"/><use x=\"70.5\" xlink:href=\"#black\" y=\"30.5\"/><use x=\"90.5\" xlink:href=\"#white\" y=\"30.5\"/><use x=\"110.5\" xlink:href=\"#white\" y=\"30.5\"/><use x=\"130.5\" xlink:href=\"#white\" y=\"30.5\"/><use x=\"150.5\" xlink:href=\"#white\" y=\"30.5\"/><use x=\"10.5\" xlink:href=\"#black\" y=\"50.5\"/><use x=\"30.5\" xlink:href=\"#black\" y=\"50.5\"/><use x=\"50.5\" xlink:href=\"#white\" y=\"50.5\"/><use x=\"70.5\" xlink:href=\"#white\" y=\"50.5\"/><use x=\"90.5\" xlink:href=\"#white\" y=\"50.5\"/><use x=\"110.5\" xlink:href=\"#white\" y=\"50.5\"/><use x=\"130.5\" xlink:href=\"#white\" y=\"50.5\"/><use x=\"150.5\" xlink:href=\"#white\" y=\"50.5\"/><use x=\"10.5\" xlink:href=\"#black\" y=\"70.5\"/><use x=\"30.5\" xlink:href=\"#black\" y=\"70.5\"/><use x=\"50.5\" xlink:href=\"#black\" y=\"70.5\"/><use x=\"70.5\" xlink:href=\"#white\" y=\"70.5\"/><use x=\"90.5\" xlink:href=\"#white\" y=\"70.5\"/><use x=\"110.5\" xlink:href=\"#white\" y=\"70.5\"/><use x=\"130.5\" xlink:href=\"#white\" y=\"70.5\"/><use x=\"150.5\" xlink:href=\"#white\" y=\"70.5\"/><use x=\"10.5\" xlink:href=\"#black\" y=\"90.5\"/><use x=\"30.5\" xlink:href=\"#white\" y=\"90.5\"/><use x=\"50.5\" xlink:href=\"#black\" y=\"90.5\"/><use x=\"70.5\" xlink:href=\"#black\" y=\"90.5\"/><use x=\"90.5\" xlink:href=\"#white\" y=\"90.5\"/><use x=\"110.5\" xlink:href=\"#black\" y=\"90.5\"/><use x=\"130.5\" xlink:href=\"#black\" y=\"90.5\"/><use x=\"150.5\" xlink:href=\"#white\" y=\"90.5\"/><use x=\"10.5\" xlink:href=\"#black\" y=\"110.5\"/><use x=\"30.5\" xlink:href=\"#black\" y=\"110.5\"/><use x=\"50.5\" xlink:href=\"#white\" y=\"110.5\"/><use x=\"70.5\" xlink:href=\"#black\" y=\"110.5\"/><use x=\"90.5\" xlink:href=\"#black\" y=\"110.5\"/><use x=\"110.5\" xlink:href=\"#black\" y=\"110.5\"/><use x=\"130.5\" xlink:href=\"#black\" y=\"110.5\"/><use x=\"150.5\" xlink:href=\"#white\" y=\"110.5\"/><use x=\"10.5\" xlink:href=\"#black\" y=\"130.5\"/><use x=\"30.5\" xlink:href=\"#black\" y=\"130.5\"/><use x=\"50.5\" xlink:href=\"#black\" y=\"130.5\"/><use x=\"70.5\" xlink:href=\"#white\" y=\"130.5\"/><use x=\"90.5\" xlink:href=\"#black\" y=\"130.5\"/><use x=\"110.5\" xlink:href=\"#black\" y=\"130.5\"/><use x=\"130.5\" xlink:href=\"#black\" y=\"130.5\"/><use x=\"150.5\" xlink:href=\"#white\" y=\"130.5\"/><use x=\"10.5\" xlink:href=\"#white\" y=\"150.5\"/><use x=\"30.5\" xlink:href=\"#white\" y=\"150.5\"/><use x=\"50.5\" xlink:href=\"#white\" y=\"150.5\"/><use x=\"70.5\" xlink:href=\"#white\" y=\"150.5\"/><use x=\"90.5\" xlink:href=\"#white\" y=\"150.5\"/><use x=\"110.5\" xlink:href=\"#white\" y=\"150.5\"/><use x=\"130.5\" xlink:href=\"#white\" y=\"150.5\"/><use x=\"150.5\" xlink:href=\"#white\" y=\"150.5\"/></svg>",
            "text/plain": [
              "<IPython.core.display.SVG object>"
            ]
          },
          "metadata": {
            "tags": []
          },
          "output_type": "display_data"
        },
        {
          "name": "stdout",
          "output_type": "stream",
          "text": [
            "a2\n",
            "a2\n",
            "59: black\n"
          ]
        },
        {
          "data": {
            "image/svg+xml": "<svg height=\"215.0\" version=\"1.1\" viewBox=\"0 0 172 172\" width=\"215.0\" xmlns=\"http://www.w3.org/2000/svg\" xmlns:xlink=\"http://www.w3.org/1999/xlink\"><defs><g id=\"black\"><circle cx=\"10\" cy=\"10\" fill=\"black\" r=\"8.5\"/></g><g id=\"white\"><circle cx=\"10\" cy=\"10\" fill=\"white\" r=\"8.5\"/></g></defs><rect fill=\"green\" height=\"161\" width=\"161\" x=\"10\" y=\"10\"/><rect fill=\"#8bbf83\" height=\"20\" width=\"20\" x=\"10.5\" y=\"30.5\"/><g stroke=\"black\"><rect fill=\"none\" height=\"161\" stroke-width=\"1.5\" width=\"161\" x=\"10\" y=\"10\"/><line stroke-width=\"1.0\" x1=\"10.5\" x2=\"170.5\" y1=\"30.5\" y2=\"30.5\"/><line stroke-width=\"1.0\" x1=\"10.5\" x2=\"170.5\" y1=\"50.5\" y2=\"50.5\"/><line stroke-width=\"1.0\" x1=\"10.5\" x2=\"170.5\" y1=\"70.5\" y2=\"70.5\"/><line stroke-width=\"1.0\" x1=\"10.5\" x2=\"170.5\" y1=\"90.5\" y2=\"90.5\"/><line stroke-width=\"1.0\" x1=\"10.5\" x2=\"170.5\" y1=\"110.5\" y2=\"110.5\"/><line stroke-width=\"1.0\" x1=\"10.5\" x2=\"170.5\" y1=\"130.5\" y2=\"130.5\"/><line stroke-width=\"1.0\" x1=\"10.5\" x2=\"170.5\" y1=\"150.5\" y2=\"150.5\"/><line stroke-width=\"1.0\" x1=\"30.5\" x2=\"30.5\" y1=\"10.5\" y2=\"170.5\"/><line stroke-width=\"1.0\" x1=\"50.5\" x2=\"50.5\" y1=\"10.5\" y2=\"170.5\"/><line stroke-width=\"1.0\" x1=\"70.5\" x2=\"70.5\" y1=\"10.5\" y2=\"170.5\"/><line stroke-width=\"1.0\" x1=\"90.5\" x2=\"90.5\" y1=\"10.5\" y2=\"170.5\"/><line stroke-width=\"1.0\" x1=\"110.5\" x2=\"110.5\" y1=\"10.5\" y2=\"170.5\"/><line stroke-width=\"1.0\" x1=\"130.5\" x2=\"130.5\" y1=\"10.5\" y2=\"170.5\"/><line stroke-width=\"1.0\" x1=\"150.5\" x2=\"150.5\" y1=\"10.5\" y2=\"170.5\"/></g><g><text font-family=\"serif\" font-size=\"9.5\" text-anchor=\"middle\" x=\"20.5\" y=\"8\">a</text><text font-family=\"serif\" font-size=\"9.5\" text-anchor=\"middle\" x=\"40.5\" y=\"8\">b</text><text font-family=\"serif\" font-size=\"9.5\" text-anchor=\"middle\" x=\"60.5\" y=\"8\">c</text><text font-family=\"serif\" font-size=\"9.5\" text-anchor=\"middle\" x=\"80.5\" y=\"8\">d</text><text font-family=\"serif\" font-size=\"9.5\" text-anchor=\"middle\" x=\"100.5\" y=\"8\">e</text><text font-family=\"serif\" font-size=\"9.5\" text-anchor=\"middle\" x=\"120.5\" y=\"8\">f</text><text font-family=\"serif\" font-size=\"9.5\" text-anchor=\"middle\" x=\"140.5\" y=\"8\">g</text><text font-family=\"serif\" font-size=\"9.5\" text-anchor=\"middle\" x=\"160.5\" y=\"8\">h</text><text font-family=\"serif\" font-size=\"9.5\" x=\"2.5\" y=\"23.5\">1</text><text font-family=\"serif\" font-size=\"9.5\" x=\"2.5\" y=\"43.5\">2</text><text font-family=\"serif\" font-size=\"9.5\" x=\"2.5\" y=\"63.5\">3</text><text font-family=\"serif\" font-size=\"9.5\" x=\"2.5\" y=\"83.5\">4</text><text font-family=\"serif\" font-size=\"9.5\" x=\"2.5\" y=\"103.5\">5</text><text font-family=\"serif\" font-size=\"9.5\" x=\"2.5\" y=\"123.5\">6</text><text font-family=\"serif\" font-size=\"9.5\" x=\"2.5\" y=\"143.5\">7</text><text font-family=\"serif\" font-size=\"9.5\" x=\"2.5\" y=\"163.5\">8</text></g><use x=\"30.5\" xlink:href=\"#white\" y=\"10.5\"/><use x=\"50.5\" xlink:href=\"#white\" y=\"10.5\"/><use x=\"70.5\" xlink:href=\"#white\" y=\"10.5\"/><use x=\"90.5\" xlink:href=\"#white\" y=\"10.5\"/><use x=\"110.5\" xlink:href=\"#white\" y=\"10.5\"/><use x=\"130.5\" xlink:href=\"#white\" y=\"10.5\"/><use x=\"150.5\" xlink:href=\"#white\" y=\"10.5\"/><use x=\"10.5\" xlink:href=\"#white\" y=\"30.5\"/><use x=\"50.5\" xlink:href=\"#white\" y=\"30.5\"/><use x=\"70.5\" xlink:href=\"#black\" y=\"30.5\"/><use x=\"90.5\" xlink:href=\"#white\" y=\"30.5\"/><use x=\"110.5\" xlink:href=\"#white\" y=\"30.5\"/><use x=\"130.5\" xlink:href=\"#white\" y=\"30.5\"/><use x=\"150.5\" xlink:href=\"#white\" y=\"30.5\"/><use x=\"10.5\" xlink:href=\"#white\" y=\"50.5\"/><use x=\"30.5\" xlink:href=\"#white\" y=\"50.5\"/><use x=\"50.5\" xlink:href=\"#white\" y=\"50.5\"/><use x=\"70.5\" xlink:href=\"#white\" y=\"50.5\"/><use x=\"90.5\" xlink:href=\"#white\" y=\"50.5\"/><use x=\"110.5\" xlink:href=\"#white\" y=\"50.5\"/><use x=\"130.5\" xlink:href=\"#white\" y=\"50.5\"/><use x=\"150.5\" xlink:href=\"#white\" y=\"50.5\"/><use x=\"10.5\" xlink:href=\"#white\" y=\"70.5\"/><use x=\"30.5\" xlink:href=\"#black\" y=\"70.5\"/><use x=\"50.5\" xlink:href=\"#white\" y=\"70.5\"/><use x=\"70.5\" xlink:href=\"#white\" y=\"70.5\"/><use x=\"90.5\" xlink:href=\"#white\" y=\"70.5\"/><use x=\"110.5\" xlink:href=\"#white\" y=\"70.5\"/><use x=\"130.5\" xlink:href=\"#white\" y=\"70.5\"/><use x=\"150.5\" xlink:href=\"#white\" y=\"70.5\"/><use x=\"10.5\" xlink:href=\"#white\" y=\"90.5\"/><use x=\"30.5\" xlink:href=\"#white\" y=\"90.5\"/><use x=\"50.5\" xlink:href=\"#black\" y=\"90.5\"/><use x=\"70.5\" xlink:href=\"#white\" y=\"90.5\"/><use x=\"90.5\" xlink:href=\"#white\" y=\"90.5\"/><use x=\"110.5\" xlink:href=\"#black\" y=\"90.5\"/><use x=\"130.5\" xlink:href=\"#black\" y=\"90.5\"/><use x=\"150.5\" xlink:href=\"#white\" y=\"90.5\"/><use x=\"10.5\" xlink:href=\"#white\" y=\"110.5\"/><use x=\"30.5\" xlink:href=\"#black\" y=\"110.5\"/><use x=\"50.5\" xlink:href=\"#white\" y=\"110.5\"/><use x=\"70.5\" xlink:href=\"#black\" y=\"110.5\"/><use x=\"90.5\" xlink:href=\"#white\" y=\"110.5\"/><use x=\"110.5\" xlink:href=\"#black\" y=\"110.5\"/><use x=\"130.5\" xlink:href=\"#black\" y=\"110.5\"/><use x=\"150.5\" xlink:href=\"#white\" y=\"110.5\"/><use x=\"10.5\" xlink:href=\"#white\" y=\"130.5\"/><use x=\"30.5\" xlink:href=\"#black\" y=\"130.5\"/><use x=\"50.5\" xlink:href=\"#black\" y=\"130.5\"/><use x=\"70.5\" xlink:href=\"#white\" y=\"130.5\"/><use x=\"90.5\" xlink:href=\"#black\" y=\"130.5\"/><use x=\"110.5\" xlink:href=\"#white\" y=\"130.5\"/><use x=\"130.5\" xlink:href=\"#black\" y=\"130.5\"/><use x=\"150.5\" xlink:href=\"#white\" y=\"130.5\"/><use x=\"10.5\" xlink:href=\"#white\" y=\"150.5\"/><use x=\"30.5\" xlink:href=\"#white\" y=\"150.5\"/><use x=\"50.5\" xlink:href=\"#white\" y=\"150.5\"/><use x=\"70.5\" xlink:href=\"#white\" y=\"150.5\"/><use x=\"90.5\" xlink:href=\"#white\" y=\"150.5\"/><use x=\"110.5\" xlink:href=\"#white\" y=\"150.5\"/><use x=\"130.5\" xlink:href=\"#white\" y=\"150.5\"/><use x=\"150.5\" xlink:href=\"#white\" y=\"150.5\"/></svg>",
            "text/plain": [
              "<IPython.core.display.SVG object>"
            ]
          },
          "metadata": {
            "tags": []
          },
          "output_type": "display_data"
        },
        {
          "name": "stdout",
          "output_type": "stream",
          "text": [
            "b2\n",
            "60: white\n"
          ]
        },
        {
          "data": {
            "image/svg+xml": "<svg height=\"215.0\" version=\"1.1\" viewBox=\"0 0 172 172\" width=\"215.0\" xmlns=\"http://www.w3.org/2000/svg\" xmlns:xlink=\"http://www.w3.org/1999/xlink\"><defs><g id=\"black\"><circle cx=\"10\" cy=\"10\" fill=\"black\" r=\"8.5\"/></g><g id=\"white\"><circle cx=\"10\" cy=\"10\" fill=\"white\" r=\"8.5\"/></g></defs><rect fill=\"green\" height=\"161\" width=\"161\" x=\"10\" y=\"10\"/><rect fill=\"#8bbf83\" height=\"20\" width=\"20\" x=\"30.5\" y=\"30.5\"/><g stroke=\"black\"><rect fill=\"none\" height=\"161\" stroke-width=\"1.5\" width=\"161\" x=\"10\" y=\"10\"/><line stroke-width=\"1.0\" x1=\"10.5\" x2=\"170.5\" y1=\"30.5\" y2=\"30.5\"/><line stroke-width=\"1.0\" x1=\"10.5\" x2=\"170.5\" y1=\"50.5\" y2=\"50.5\"/><line stroke-width=\"1.0\" x1=\"10.5\" x2=\"170.5\" y1=\"70.5\" y2=\"70.5\"/><line stroke-width=\"1.0\" x1=\"10.5\" x2=\"170.5\" y1=\"90.5\" y2=\"90.5\"/><line stroke-width=\"1.0\" x1=\"10.5\" x2=\"170.5\" y1=\"110.5\" y2=\"110.5\"/><line stroke-width=\"1.0\" x1=\"10.5\" x2=\"170.5\" y1=\"130.5\" y2=\"130.5\"/><line stroke-width=\"1.0\" x1=\"10.5\" x2=\"170.5\" y1=\"150.5\" y2=\"150.5\"/><line stroke-width=\"1.0\" x1=\"30.5\" x2=\"30.5\" y1=\"10.5\" y2=\"170.5\"/><line stroke-width=\"1.0\" x1=\"50.5\" x2=\"50.5\" y1=\"10.5\" y2=\"170.5\"/><line stroke-width=\"1.0\" x1=\"70.5\" x2=\"70.5\" y1=\"10.5\" y2=\"170.5\"/><line stroke-width=\"1.0\" x1=\"90.5\" x2=\"90.5\" y1=\"10.5\" y2=\"170.5\"/><line stroke-width=\"1.0\" x1=\"110.5\" x2=\"110.5\" y1=\"10.5\" y2=\"170.5\"/><line stroke-width=\"1.0\" x1=\"130.5\" x2=\"130.5\" y1=\"10.5\" y2=\"170.5\"/><line stroke-width=\"1.0\" x1=\"150.5\" x2=\"150.5\" y1=\"10.5\" y2=\"170.5\"/></g><g><text font-family=\"serif\" font-size=\"9.5\" text-anchor=\"middle\" x=\"20.5\" y=\"8\">a</text><text font-family=\"serif\" font-size=\"9.5\" text-anchor=\"middle\" x=\"40.5\" y=\"8\">b</text><text font-family=\"serif\" font-size=\"9.5\" text-anchor=\"middle\" x=\"60.5\" y=\"8\">c</text><text font-family=\"serif\" font-size=\"9.5\" text-anchor=\"middle\" x=\"80.5\" y=\"8\">d</text><text font-family=\"serif\" font-size=\"9.5\" text-anchor=\"middle\" x=\"100.5\" y=\"8\">e</text><text font-family=\"serif\" font-size=\"9.5\" text-anchor=\"middle\" x=\"120.5\" y=\"8\">f</text><text font-family=\"serif\" font-size=\"9.5\" text-anchor=\"middle\" x=\"140.5\" y=\"8\">g</text><text font-family=\"serif\" font-size=\"9.5\" text-anchor=\"middle\" x=\"160.5\" y=\"8\">h</text><text font-family=\"serif\" font-size=\"9.5\" x=\"2.5\" y=\"23.5\">1</text><text font-family=\"serif\" font-size=\"9.5\" x=\"2.5\" y=\"43.5\">2</text><text font-family=\"serif\" font-size=\"9.5\" x=\"2.5\" y=\"63.5\">3</text><text font-family=\"serif\" font-size=\"9.5\" x=\"2.5\" y=\"83.5\">4</text><text font-family=\"serif\" font-size=\"9.5\" x=\"2.5\" y=\"103.5\">5</text><text font-family=\"serif\" font-size=\"9.5\" x=\"2.5\" y=\"123.5\">6</text><text font-family=\"serif\" font-size=\"9.5\" x=\"2.5\" y=\"143.5\">7</text><text font-family=\"serif\" font-size=\"9.5\" x=\"2.5\" y=\"163.5\">8</text></g><use x=\"30.5\" xlink:href=\"#white\" y=\"10.5\"/><use x=\"50.5\" xlink:href=\"#white\" y=\"10.5\"/><use x=\"70.5\" xlink:href=\"#white\" y=\"10.5\"/><use x=\"90.5\" xlink:href=\"#white\" y=\"10.5\"/><use x=\"110.5\" xlink:href=\"#white\" y=\"10.5\"/><use x=\"130.5\" xlink:href=\"#white\" y=\"10.5\"/><use x=\"150.5\" xlink:href=\"#white\" y=\"10.5\"/><use x=\"10.5\" xlink:href=\"#white\" y=\"30.5\"/><use x=\"30.5\" xlink:href=\"#black\" y=\"30.5\"/><use x=\"50.5\" xlink:href=\"#black\" y=\"30.5\"/><use x=\"70.5\" xlink:href=\"#black\" y=\"30.5\"/><use x=\"90.5\" xlink:href=\"#white\" y=\"30.5\"/><use x=\"110.5\" xlink:href=\"#white\" y=\"30.5\"/><use x=\"130.5\" xlink:href=\"#white\" y=\"30.5\"/><use x=\"150.5\" xlink:href=\"#white\" y=\"30.5\"/><use x=\"10.5\" xlink:href=\"#white\" y=\"50.5\"/><use x=\"30.5\" xlink:href=\"#black\" y=\"50.5\"/><use x=\"50.5\" xlink:href=\"#black\" y=\"50.5\"/><use x=\"70.5\" xlink:href=\"#white\" y=\"50.5\"/><use x=\"90.5\" xlink:href=\"#white\" y=\"50.5\"/><use x=\"110.5\" xlink:href=\"#white\" y=\"50.5\"/><use x=\"130.5\" xlink:href=\"#white\" y=\"50.5\"/><use x=\"150.5\" xlink:href=\"#white\" y=\"50.5\"/><use x=\"10.5\" xlink:href=\"#white\" y=\"70.5\"/><use x=\"30.5\" xlink:href=\"#black\" y=\"70.5\"/><use x=\"50.5\" xlink:href=\"#white\" y=\"70.5\"/><use x=\"70.5\" xlink:href=\"#black\" y=\"70.5\"/><use x=\"90.5\" xlink:href=\"#white\" y=\"70.5\"/><use x=\"110.5\" xlink:href=\"#white\" y=\"70.5\"/><use x=\"130.5\" xlink:href=\"#white\" y=\"70.5\"/><use x=\"150.5\" xlink:href=\"#white\" y=\"70.5\"/><use x=\"10.5\" xlink:href=\"#white\" y=\"90.5\"/><use x=\"30.5\" xlink:href=\"#white\" y=\"90.5\"/><use x=\"50.5\" xlink:href=\"#black\" y=\"90.5\"/><use x=\"70.5\" xlink:href=\"#white\" y=\"90.5\"/><use x=\"90.5\" xlink:href=\"#black\" y=\"90.5\"/><use x=\"110.5\" xlink:href=\"#black\" y=\"90.5\"/><use x=\"130.5\" xlink:href=\"#black\" y=\"90.5\"/><use x=\"150.5\" xlink:href=\"#white\" y=\"90.5\"/><use x=\"10.5\" xlink:href=\"#white\" y=\"110.5\"/><use x=\"30.5\" xlink:href=\"#black\" y=\"110.5\"/><use x=\"50.5\" xlink:href=\"#white\" y=\"110.5\"/><use x=\"70.5\" xlink:href=\"#black\" y=\"110.5\"/><use x=\"90.5\" xlink:href=\"#white\" y=\"110.5\"/><use x=\"110.5\" xlink:href=\"#black\" y=\"110.5\"/><use x=\"130.5\" xlink:href=\"#black\" y=\"110.5\"/><use x=\"150.5\" xlink:href=\"#white\" y=\"110.5\"/><use x=\"10.5\" xlink:href=\"#white\" y=\"130.5\"/><use x=\"30.5\" xlink:href=\"#black\" y=\"130.5\"/><use x=\"50.5\" xlink:href=\"#black\" y=\"130.5\"/><use x=\"70.5\" xlink:href=\"#white\" y=\"130.5\"/><use x=\"90.5\" xlink:href=\"#black\" y=\"130.5\"/><use x=\"110.5\" xlink:href=\"#white\" y=\"130.5\"/><use x=\"130.5\" xlink:href=\"#black\" y=\"130.5\"/><use x=\"150.5\" xlink:href=\"#white\" y=\"130.5\"/><use x=\"10.5\" xlink:href=\"#white\" y=\"150.5\"/><use x=\"30.5\" xlink:href=\"#white\" y=\"150.5\"/><use x=\"50.5\" xlink:href=\"#white\" y=\"150.5\"/><use x=\"70.5\" xlink:href=\"#white\" y=\"150.5\"/><use x=\"90.5\" xlink:href=\"#white\" y=\"150.5\"/><use x=\"110.5\" xlink:href=\"#white\" y=\"150.5\"/><use x=\"130.5\" xlink:href=\"#white\" y=\"150.5\"/><use x=\"150.5\" xlink:href=\"#white\" y=\"150.5\"/></svg>",
            "text/plain": [
              "<IPython.core.display.SVG object>"
            ]
          },
          "metadata": {
            "tags": []
          },
          "output_type": "display_data"
        },
        {
          "name": "stdout",
          "output_type": "stream",
          "text": [
            "a1\n",
            "a1\n"
          ]
        },
        {
          "data": {
            "image/svg+xml": "<svg height=\"215.0\" version=\"1.1\" viewBox=\"0 0 172 172\" width=\"215.0\" xmlns=\"http://www.w3.org/2000/svg\" xmlns:xlink=\"http://www.w3.org/1999/xlink\"><defs><g id=\"black\"><circle cx=\"10\" cy=\"10\" fill=\"black\" r=\"8.5\"/></g><g id=\"white\"><circle cx=\"10\" cy=\"10\" fill=\"white\" r=\"8.5\"/></g></defs><rect fill=\"green\" height=\"161\" width=\"161\" x=\"10\" y=\"10\"/><rect fill=\"#8bbf83\" height=\"20\" width=\"20\" x=\"10.5\" y=\"10.5\"/><g stroke=\"black\"><rect fill=\"none\" height=\"161\" stroke-width=\"1.5\" width=\"161\" x=\"10\" y=\"10\"/><line stroke-width=\"1.0\" x1=\"10.5\" x2=\"170.5\" y1=\"30.5\" y2=\"30.5\"/><line stroke-width=\"1.0\" x1=\"10.5\" x2=\"170.5\" y1=\"50.5\" y2=\"50.5\"/><line stroke-width=\"1.0\" x1=\"10.5\" x2=\"170.5\" y1=\"70.5\" y2=\"70.5\"/><line stroke-width=\"1.0\" x1=\"10.5\" x2=\"170.5\" y1=\"90.5\" y2=\"90.5\"/><line stroke-width=\"1.0\" x1=\"10.5\" x2=\"170.5\" y1=\"110.5\" y2=\"110.5\"/><line stroke-width=\"1.0\" x1=\"10.5\" x2=\"170.5\" y1=\"130.5\" y2=\"130.5\"/><line stroke-width=\"1.0\" x1=\"10.5\" x2=\"170.5\" y1=\"150.5\" y2=\"150.5\"/><line stroke-width=\"1.0\" x1=\"30.5\" x2=\"30.5\" y1=\"10.5\" y2=\"170.5\"/><line stroke-width=\"1.0\" x1=\"50.5\" x2=\"50.5\" y1=\"10.5\" y2=\"170.5\"/><line stroke-width=\"1.0\" x1=\"70.5\" x2=\"70.5\" y1=\"10.5\" y2=\"170.5\"/><line stroke-width=\"1.0\" x1=\"90.5\" x2=\"90.5\" y1=\"10.5\" y2=\"170.5\"/><line stroke-width=\"1.0\" x1=\"110.5\" x2=\"110.5\" y1=\"10.5\" y2=\"170.5\"/><line stroke-width=\"1.0\" x1=\"130.5\" x2=\"130.5\" y1=\"10.5\" y2=\"170.5\"/><line stroke-width=\"1.0\" x1=\"150.5\" x2=\"150.5\" y1=\"10.5\" y2=\"170.5\"/></g><g><text font-family=\"serif\" font-size=\"9.5\" text-anchor=\"middle\" x=\"20.5\" y=\"8\">a</text><text font-family=\"serif\" font-size=\"9.5\" text-anchor=\"middle\" x=\"40.5\" y=\"8\">b</text><text font-family=\"serif\" font-size=\"9.5\" text-anchor=\"middle\" x=\"60.5\" y=\"8\">c</text><text font-family=\"serif\" font-size=\"9.5\" text-anchor=\"middle\" x=\"80.5\" y=\"8\">d</text><text font-family=\"serif\" font-size=\"9.5\" text-anchor=\"middle\" x=\"100.5\" y=\"8\">e</text><text font-family=\"serif\" font-size=\"9.5\" text-anchor=\"middle\" x=\"120.5\" y=\"8\">f</text><text font-family=\"serif\" font-size=\"9.5\" text-anchor=\"middle\" x=\"140.5\" y=\"8\">g</text><text font-family=\"serif\" font-size=\"9.5\" text-anchor=\"middle\" x=\"160.5\" y=\"8\">h</text><text font-family=\"serif\" font-size=\"9.5\" x=\"2.5\" y=\"23.5\">1</text><text font-family=\"serif\" font-size=\"9.5\" x=\"2.5\" y=\"43.5\">2</text><text font-family=\"serif\" font-size=\"9.5\" x=\"2.5\" y=\"63.5\">3</text><text font-family=\"serif\" font-size=\"9.5\" x=\"2.5\" y=\"83.5\">4</text><text font-family=\"serif\" font-size=\"9.5\" x=\"2.5\" y=\"103.5\">5</text><text font-family=\"serif\" font-size=\"9.5\" x=\"2.5\" y=\"123.5\">6</text><text font-family=\"serif\" font-size=\"9.5\" x=\"2.5\" y=\"143.5\">7</text><text font-family=\"serif\" font-size=\"9.5\" x=\"2.5\" y=\"163.5\">8</text></g><use x=\"10.5\" xlink:href=\"#white\" y=\"10.5\"/><use x=\"30.5\" xlink:href=\"#white\" y=\"10.5\"/><use x=\"50.5\" xlink:href=\"#white\" y=\"10.5\"/><use x=\"70.5\" xlink:href=\"#white\" y=\"10.5\"/><use x=\"90.5\" xlink:href=\"#white\" y=\"10.5\"/><use x=\"110.5\" xlink:href=\"#white\" y=\"10.5\"/><use x=\"130.5\" xlink:href=\"#white\" y=\"10.5\"/><use x=\"150.5\" xlink:href=\"#white\" y=\"10.5\"/><use x=\"10.5\" xlink:href=\"#white\" y=\"30.5\"/><use x=\"30.5\" xlink:href=\"#white\" y=\"30.5\"/><use x=\"50.5\" xlink:href=\"#black\" y=\"30.5\"/><use x=\"70.5\" xlink:href=\"#black\" y=\"30.5\"/><use x=\"90.5\" xlink:href=\"#white\" y=\"30.5\"/><use x=\"110.5\" xlink:href=\"#white\" y=\"30.5\"/><use x=\"130.5\" xlink:href=\"#white\" y=\"30.5\"/><use x=\"150.5\" xlink:href=\"#white\" y=\"30.5\"/><use x=\"10.5\" xlink:href=\"#white\" y=\"50.5\"/><use x=\"30.5\" xlink:href=\"#black\" y=\"50.5\"/><use x=\"50.5\" xlink:href=\"#white\" y=\"50.5\"/><use x=\"70.5\" xlink:href=\"#white\" y=\"50.5\"/><use x=\"90.5\" xlink:href=\"#white\" y=\"50.5\"/><use x=\"110.5\" xlink:href=\"#white\" y=\"50.5\"/><use x=\"130.5\" xlink:href=\"#white\" y=\"50.5\"/><use x=\"150.5\" xlink:href=\"#white\" y=\"50.5\"/><use x=\"10.5\" xlink:href=\"#white\" y=\"70.5\"/><use x=\"30.5\" xlink:href=\"#black\" y=\"70.5\"/><use x=\"50.5\" xlink:href=\"#white\" y=\"70.5\"/><use x=\"70.5\" xlink:href=\"#white\" y=\"70.5\"/><use x=\"90.5\" xlink:href=\"#white\" y=\"70.5\"/><use x=\"110.5\" xlink:href=\"#white\" y=\"70.5\"/><use x=\"130.5\" xlink:href=\"#white\" y=\"70.5\"/><use x=\"150.5\" xlink:href=\"#white\" y=\"70.5\"/><use x=\"10.5\" xlink:href=\"#white\" y=\"90.5\"/><use x=\"30.5\" xlink:href=\"#white\" y=\"90.5\"/><use x=\"50.5\" xlink:href=\"#black\" y=\"90.5\"/><use x=\"70.5\" xlink:href=\"#white\" y=\"90.5\"/><use x=\"90.5\" xlink:href=\"#white\" y=\"90.5\"/><use x=\"110.5\" xlink:href=\"#black\" y=\"90.5\"/><use x=\"130.5\" xlink:href=\"#black\" y=\"90.5\"/><use x=\"150.5\" xlink:href=\"#white\" y=\"90.5\"/><use x=\"10.5\" xlink:href=\"#white\" y=\"110.5\"/><use x=\"30.5\" xlink:href=\"#black\" y=\"110.5\"/><use x=\"50.5\" xlink:href=\"#white\" y=\"110.5\"/><use x=\"70.5\" xlink:href=\"#black\" y=\"110.5\"/><use x=\"90.5\" xlink:href=\"#white\" y=\"110.5\"/><use x=\"110.5\" xlink:href=\"#white\" y=\"110.5\"/><use x=\"130.5\" xlink:href=\"#black\" y=\"110.5\"/><use x=\"150.5\" xlink:href=\"#white\" y=\"110.5\"/><use x=\"10.5\" xlink:href=\"#white\" y=\"130.5\"/><use x=\"30.5\" xlink:href=\"#black\" y=\"130.5\"/><use x=\"50.5\" xlink:href=\"#black\" y=\"130.5\"/><use x=\"70.5\" xlink:href=\"#white\" y=\"130.5\"/><use x=\"90.5\" xlink:href=\"#black\" y=\"130.5\"/><use x=\"110.5\" xlink:href=\"#white\" y=\"130.5\"/><use x=\"130.5\" xlink:href=\"#white\" y=\"130.5\"/><use x=\"150.5\" xlink:href=\"#white\" y=\"130.5\"/><use x=\"10.5\" xlink:href=\"#white\" y=\"150.5\"/><use x=\"30.5\" xlink:href=\"#white\" y=\"150.5\"/><use x=\"50.5\" xlink:href=\"#white\" y=\"150.5\"/><use x=\"70.5\" xlink:href=\"#white\" y=\"150.5\"/><use x=\"90.5\" xlink:href=\"#white\" y=\"150.5\"/><use x=\"110.5\" xlink:href=\"#white\" y=\"150.5\"/><use x=\"130.5\" xlink:href=\"#white\" y=\"150.5\"/><use x=\"150.5\" xlink:href=\"#white\" y=\"150.5\"/></svg>",
            "text/plain": [
              "<IPython.core.display.SVG object>"
            ]
          },
          "metadata": {
            "tags": []
          },
          "output_type": "display_data"
        },
        {
          "name": "stdout",
          "output_type": "stream",
          "text": [
            "result black=13 white=51\n",
            "white won\n",
            "black:0 white:1 draw:0\n"
          ]
        }
      ],
      "source": [
        "main('greedy', 'human', model1='model.pt')"
      ]
    }
  ],
  "metadata": {
    "accelerator": "GPU",
    "colab": {
      "collapsed_sections": [],
      "name": "creversi_dqn_parallel.ipynb",
      "provenance": [],
      "toc_visible": true
    },
    "kernelspec": {
      "display_name": "Python 3",
      "name": "python3"
    },
    "language_info": {
      "codemirror_mode": {
        "name": "ipython",
        "version": 3
      },
      "file_extension": ".py",
      "mimetype": "text/x-python",
      "name": "python",
      "nbconvert_exporter": "python",
      "pygments_lexer": "ipython3",
      "version": "3.10.4"
    },
    "widgets": {
      "application/vnd.jupyter.widget-state+json": {
        "0103b8a07f1747f0955596f777d9ab73": {
          "model_module": "@jupyter-widgets/base",
          "model_module_version": "1.2.0",
          "model_name": "LayoutModel",
          "state": {
            "_model_module": "@jupyter-widgets/base",
            "_model_module_version": "1.2.0",
            "_model_name": "LayoutModel",
            "_view_count": null,
            "_view_module": "@jupyter-widgets/base",
            "_view_module_version": "1.2.0",
            "_view_name": "LayoutView",
            "align_content": null,
            "align_items": null,
            "align_self": null,
            "border": null,
            "bottom": null,
            "display": null,
            "flex": null,
            "flex_flow": null,
            "grid_area": null,
            "grid_auto_columns": null,
            "grid_auto_flow": null,
            "grid_auto_rows": null,
            "grid_column": null,
            "grid_gap": null,
            "grid_row": null,
            "grid_template_areas": null,
            "grid_template_columns": null,
            "grid_template_rows": null,
            "height": null,
            "justify_content": null,
            "justify_items": null,
            "left": null,
            "margin": null,
            "max_height": null,
            "max_width": null,
            "min_height": null,
            "min_width": null,
            "object_fit": null,
            "object_position": null,
            "order": null,
            "overflow": null,
            "overflow_x": null,
            "overflow_y": null,
            "padding": null,
            "right": null,
            "top": null,
            "visibility": null,
            "width": null
          }
        },
        "0cdb62490bdc4c3bba13d8aeea1c7b08": {
          "model_module": "@jupyter-widgets/base",
          "model_module_version": "1.2.0",
          "model_name": "LayoutModel",
          "state": {
            "_model_module": "@jupyter-widgets/base",
            "_model_module_version": "1.2.0",
            "_model_name": "LayoutModel",
            "_view_count": null,
            "_view_module": "@jupyter-widgets/base",
            "_view_module_version": "1.2.0",
            "_view_name": "LayoutView",
            "align_content": null,
            "align_items": null,
            "align_self": null,
            "border": null,
            "bottom": null,
            "display": null,
            "flex": null,
            "flex_flow": null,
            "grid_area": null,
            "grid_auto_columns": null,
            "grid_auto_flow": null,
            "grid_auto_rows": null,
            "grid_column": null,
            "grid_gap": null,
            "grid_row": null,
            "grid_template_areas": null,
            "grid_template_columns": null,
            "grid_template_rows": null,
            "height": null,
            "justify_content": null,
            "justify_items": null,
            "left": null,
            "margin": null,
            "max_height": null,
            "max_width": null,
            "min_height": null,
            "min_width": null,
            "object_fit": null,
            "object_position": null,
            "order": null,
            "overflow": null,
            "overflow_x": null,
            "overflow_y": null,
            "padding": null,
            "right": null,
            "top": null,
            "visibility": null,
            "width": null
          }
        },
        "2a91af3dda294e819de42991e856ec61": {
          "model_module": "@jupyter-widgets/controls",
          "model_module_version": "1.5.0",
          "model_name": "DescriptionStyleModel",
          "state": {
            "_model_module": "@jupyter-widgets/controls",
            "_model_module_version": "1.5.0",
            "_model_name": "DescriptionStyleModel",
            "_view_count": null,
            "_view_module": "@jupyter-widgets/base",
            "_view_module_version": "1.2.0",
            "_view_name": "StyleView",
            "description_width": ""
          }
        },
        "65a5fccd4af74fd4aa2cab6d83a1222d": {
          "model_module": "@jupyter-widgets/controls",
          "model_module_version": "1.5.0",
          "model_name": "IntProgressModel",
          "state": {
            "_dom_classes": [],
            "_model_module": "@jupyter-widgets/controls",
            "_model_module_version": "1.5.0",
            "_model_name": "IntProgressModel",
            "_view_count": null,
            "_view_module": "@jupyter-widgets/controls",
            "_view_module_version": "1.5.0",
            "_view_name": "ProgressView",
            "bar_style": "",
            "description": "loss = 6.788e-03",
            "description_tooltip": null,
            "layout": "IPY_MODEL_0103b8a07f1747f0955596f777d9ab73",
            "max": 40000,
            "min": 0,
            "orientation": "horizontal",
            "style": "IPY_MODEL_7119249c3bdf4c9dbaabff51aaf96d12",
            "value": 40000
          }
        },
        "7119249c3bdf4c9dbaabff51aaf96d12": {
          "model_module": "@jupyter-widgets/controls",
          "model_module_version": "1.5.0",
          "model_name": "ProgressStyleModel",
          "state": {
            "_model_module": "@jupyter-widgets/controls",
            "_model_module_version": "1.5.0",
            "_model_name": "ProgressStyleModel",
            "_view_count": null,
            "_view_module": "@jupyter-widgets/base",
            "_view_module_version": "1.2.0",
            "_view_name": "StyleView",
            "bar_color": null,
            "description_width": "initial"
          }
        },
        "87767f5589444895b4d194df60102d71": {
          "model_module": "@jupyter-widgets/controls",
          "model_module_version": "1.5.0",
          "model_name": "HTMLModel",
          "state": {
            "_dom_classes": [],
            "_model_module": "@jupyter-widgets/controls",
            "_model_module_version": "1.5.0",
            "_model_name": "HTMLModel",
            "_view_count": null,
            "_view_module": "@jupyter-widgets/controls",
            "_view_module_version": "1.5.0",
            "_view_name": "HTMLView",
            "description": "",
            "description_tooltip": null,
            "layout": "IPY_MODEL_0cdb62490bdc4c3bba13d8aeea1c7b08",
            "placeholder": "​",
            "style": "IPY_MODEL_2a91af3dda294e819de42991e856ec61",
            "value": "100% 40000/40000 [52:11&lt;00:00, 13.18it/s]"
          }
        },
        "df831319ea834a6297642f86f85ff6be": {
          "model_module": "@jupyter-widgets/controls",
          "model_module_version": "1.5.0",
          "model_name": "HBoxModel",
          "state": {
            "_dom_classes": [],
            "_model_module": "@jupyter-widgets/controls",
            "_model_module_version": "1.5.0",
            "_model_name": "HBoxModel",
            "_view_count": null,
            "_view_module": "@jupyter-widgets/controls",
            "_view_module_version": "1.5.0",
            "_view_name": "HBoxView",
            "box_style": "",
            "children": [
              "IPY_MODEL_65a5fccd4af74fd4aa2cab6d83a1222d",
              "IPY_MODEL_87767f5589444895b4d194df60102d71"
            ],
            "layout": "IPY_MODEL_e9da9b783684445e8a5d85e890000d48"
          }
        },
        "e9da9b783684445e8a5d85e890000d48": {
          "model_module": "@jupyter-widgets/base",
          "model_module_version": "1.2.0",
          "model_name": "LayoutModel",
          "state": {
            "_model_module": "@jupyter-widgets/base",
            "_model_module_version": "1.2.0",
            "_model_name": "LayoutModel",
            "_view_count": null,
            "_view_module": "@jupyter-widgets/base",
            "_view_module_version": "1.2.0",
            "_view_name": "LayoutView",
            "align_content": null,
            "align_items": null,
            "align_self": null,
            "border": null,
            "bottom": null,
            "display": null,
            "flex": null,
            "flex_flow": null,
            "grid_area": null,
            "grid_auto_columns": null,
            "grid_auto_flow": null,
            "grid_auto_rows": null,
            "grid_column": null,
            "grid_gap": null,
            "grid_row": null,
            "grid_template_areas": null,
            "grid_template_columns": null,
            "grid_template_rows": null,
            "height": null,
            "justify_content": null,
            "justify_items": null,
            "left": null,
            "margin": null,
            "max_height": null,
            "max_width": null,
            "min_height": null,
            "min_width": null,
            "object_fit": null,
            "object_position": null,
            "order": null,
            "overflow": null,
            "overflow_x": null,
            "overflow_y": null,
            "padding": null,
            "right": null,
            "top": null,
            "visibility": null,
            "width": null
          }
        }
      }
    }
  },
  "nbformat": 4,
  "nbformat_minor": 0
}
