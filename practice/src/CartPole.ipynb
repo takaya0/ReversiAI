{
 "cells": [
  {
   "cell_type": "code",
   "execution_count": 1,
   "metadata": {},
   "outputs": [
    {
     "name": "stderr",
     "output_type": "stream",
     "text": [
      "C:\\Users\\yataka\\AppData\\Local\\Programs\\Python\\Python310\\lib\\site-packages\\gym\\wrappers\\monitoring\\video_recorder.py:9: DeprecationWarning: The distutils package is deprecated and slated for removal in Python 3.12. Use setuptools or check PEP 632 for potential alternatives\n",
      "  import distutils.spawn\n",
      "C:\\Users\\yataka\\AppData\\Local\\Programs\\Python\\Python310\\lib\\site-packages\\torchvision\\transforms\\functional_pil.py:228: DeprecationWarning: BILINEAR is deprecated and will be removed in Pillow 10 (2023-07-01). Use Resampling.BILINEAR instead.\n",
      "  interpolation: int = Image.BILINEAR,\n",
      "C:\\Users\\yataka\\AppData\\Local\\Programs\\Python\\Python310\\lib\\site-packages\\torchvision\\transforms\\functional_pil.py:295: DeprecationWarning: NEAREST is deprecated and will be removed in Pillow 10 (2023-07-01). Use Resampling.NEAREST or Dither.NONE instead.\n",
      "  interpolation: int = Image.NEAREST,\n",
      "C:\\Users\\yataka\\AppData\\Local\\Programs\\Python\\Python310\\lib\\site-packages\\torchvision\\transforms\\functional_pil.py:328: DeprecationWarning: BICUBIC is deprecated and will be removed in Pillow 10 (2023-07-01). Use Resampling.BICUBIC instead.\n",
      "  interpolation: int = Image.BICUBIC,\n"
     ]
    },
    {
     "ename": "FileNotFoundError",
     "evalue": "[WinError 2] 指定されたファイルが見つかりません。",
     "output_type": "error",
     "traceback": [
      "\u001b[1;31m---------------------------------------------------------------------------\u001b[0m",
      "\u001b[1;31mFileNotFoundError\u001b[0m                         Traceback (most recent call last)",
      "\u001b[1;32mc:\\Users\\yataka\\ReversiAI\\practice\\src\\CartPole.ipynb Cell 1'\u001b[0m in \u001b[0;36m<cell line: 18>\u001b[1;34m()\u001b[0m\n\u001b[0;32m     <a href='vscode-notebook-cell:/c%3A/Users/yataka/ReversiAI/practice/src/CartPole.ipynb#ch0000000?line=14'>15</a>\u001b[0m \u001b[39mimport\u001b[39;00m \u001b[39mtorchvision\u001b[39;00m\u001b[39m.\u001b[39;00m\u001b[39mtransforms\u001b[39;00m \u001b[39mas\u001b[39;00m \u001b[39mT\u001b[39;00m\n\u001b[0;32m     <a href='vscode-notebook-cell:/c%3A/Users/yataka/ReversiAI/practice/src/CartPole.ipynb#ch0000000?line=16'>17</a>\u001b[0m \u001b[39mfrom\u001b[39;00m \u001b[39mpyvirtualdisplay\u001b[39;00m \u001b[39mimport\u001b[39;00m Display \n\u001b[1;32m---> <a href='vscode-notebook-cell:/c%3A/Users/yataka/ReversiAI/practice/src/CartPole.ipynb#ch0000000?line=17'>18</a>\u001b[0m display \u001b[39m=\u001b[39m Display(visible\u001b[39m=\u001b[39;49m\u001b[39m0\u001b[39;49m, size\u001b[39m=\u001b[39;49m(\u001b[39m1024\u001b[39;49m, \u001b[39m768\u001b[39;49m)) \n\u001b[0;32m     <a href='vscode-notebook-cell:/c%3A/Users/yataka/ReversiAI/practice/src/CartPole.ipynb#ch0000000?line=19'>20</a>\u001b[0m display\u001b[39m.\u001b[39mstart()\n\u001b[0;32m     <a href='vscode-notebook-cell:/c%3A/Users/yataka/ReversiAI/practice/src/CartPole.ipynb#ch0000000?line=21'>22</a>\u001b[0m env \u001b[39m=\u001b[39m gym\u001b[39m.\u001b[39mmake(\u001b[39m'\u001b[39m\u001b[39mCartPole-v1\u001b[39m\u001b[39m'\u001b[39m)\u001b[39m.\u001b[39munwrapped\n",
      "File \u001b[1;32m~\\AppData\\Local\\Programs\\Python\\Python310\\lib\\site-packages\\pyvirtualdisplay\\display.py:54\u001b[0m, in \u001b[0;36mDisplay.__init__\u001b[1;34m(self, backend, visible, size, color_depth, bgcolor, use_xauth, retries, extra_args, manage_global_env, **kwargs)\u001b[0m\n\u001b[0;32m     <a href='file:///c%3A/Users/yataka/AppData/Local/Programs/Python/Python310/lib/site-packages/pyvirtualdisplay/display.py?line=50'>51</a>\u001b[0m \u001b[39mif\u001b[39;00m \u001b[39mnot\u001b[39;00m \u001b[39mcls\u001b[39m:\n\u001b[0;32m     <a href='file:///c%3A/Users/yataka/AppData/Local/Programs/Python/Python310/lib/site-packages/pyvirtualdisplay/display.py?line=51'>52</a>\u001b[0m     \u001b[39mraise\u001b[39;00m \u001b[39mValueError\u001b[39;00m(\u001b[39m\"\u001b[39m\u001b[39munknown backend: \u001b[39m\u001b[39m%s\u001b[39;00m\u001b[39m\"\u001b[39m \u001b[39m%\u001b[39m \u001b[39mself\u001b[39m\u001b[39m.\u001b[39m_backend)\n\u001b[1;32m---> <a href='file:///c%3A/Users/yataka/AppData/Local/Programs/Python/Python310/lib/site-packages/pyvirtualdisplay/display.py?line=53'>54</a>\u001b[0m \u001b[39mself\u001b[39m\u001b[39m.\u001b[39m_obj \u001b[39m=\u001b[39m \u001b[39mcls\u001b[39m(\n\u001b[0;32m     <a href='file:///c%3A/Users/yataka/AppData/Local/Programs/Python/Python310/lib/site-packages/pyvirtualdisplay/display.py?line=54'>55</a>\u001b[0m     size\u001b[39m=\u001b[39msize,\n\u001b[0;32m     <a href='file:///c%3A/Users/yataka/AppData/Local/Programs/Python/Python310/lib/site-packages/pyvirtualdisplay/display.py?line=55'>56</a>\u001b[0m     color_depth\u001b[39m=\u001b[39mcolor_depth,\n\u001b[0;32m     <a href='file:///c%3A/Users/yataka/AppData/Local/Programs/Python/Python310/lib/site-packages/pyvirtualdisplay/display.py?line=56'>57</a>\u001b[0m     bgcolor\u001b[39m=\u001b[39mbgcolor,\n\u001b[0;32m     <a href='file:///c%3A/Users/yataka/AppData/Local/Programs/Python/Python310/lib/site-packages/pyvirtualdisplay/display.py?line=57'>58</a>\u001b[0m     retries\u001b[39m=\u001b[39mretries,\n\u001b[0;32m     <a href='file:///c%3A/Users/yataka/AppData/Local/Programs/Python/Python310/lib/site-packages/pyvirtualdisplay/display.py?line=58'>59</a>\u001b[0m     use_xauth\u001b[39m=\u001b[39muse_xauth,\n\u001b[0;32m     <a href='file:///c%3A/Users/yataka/AppData/Local/Programs/Python/Python310/lib/site-packages/pyvirtualdisplay/display.py?line=59'>60</a>\u001b[0m     \u001b[39m# check_startup=check_startup,\u001b[39;00m\n\u001b[0;32m     <a href='file:///c%3A/Users/yataka/AppData/Local/Programs/Python/Python310/lib/site-packages/pyvirtualdisplay/display.py?line=60'>61</a>\u001b[0m     extra_args\u001b[39m=\u001b[39mextra_args,\n\u001b[0;32m     <a href='file:///c%3A/Users/yataka/AppData/Local/Programs/Python/Python310/lib/site-packages/pyvirtualdisplay/display.py?line=61'>62</a>\u001b[0m     manage_global_env\u001b[39m=\u001b[39mmanage_global_env,\n\u001b[0;32m     <a href='file:///c%3A/Users/yataka/AppData/Local/Programs/Python/Python310/lib/site-packages/pyvirtualdisplay/display.py?line=62'>63</a>\u001b[0m     \u001b[39m*\u001b[39m\u001b[39m*\u001b[39mkwargs\n\u001b[0;32m     <a href='file:///c%3A/Users/yataka/AppData/Local/Programs/Python/Python310/lib/site-packages/pyvirtualdisplay/display.py?line=63'>64</a>\u001b[0m )\n",
      "File \u001b[1;32m~\\AppData\\Local\\Programs\\Python\\Python310\\lib\\site-packages\\pyvirtualdisplay\\xvfb.py:44\u001b[0m, in \u001b[0;36mXvfbDisplay.__init__\u001b[1;34m(self, size, color_depth, bgcolor, use_xauth, fbdir, dpi, retries, extra_args, manage_global_env)\u001b[0m\n\u001b[0;32m     <a href='file:///c%3A/Users/yataka/AppData/Local/Programs/Python/Python310/lib/site-packages/pyvirtualdisplay/xvfb.py?line=40'>41</a>\u001b[0m \u001b[39mself\u001b[39m\u001b[39m.\u001b[39m_fbdir \u001b[39m=\u001b[39m fbdir\n\u001b[0;32m     <a href='file:///c%3A/Users/yataka/AppData/Local/Programs/Python/Python310/lib/site-packages/pyvirtualdisplay/xvfb.py?line=41'>42</a>\u001b[0m \u001b[39mself\u001b[39m\u001b[39m.\u001b[39m_dpi \u001b[39m=\u001b[39m dpi\n\u001b[1;32m---> <a href='file:///c%3A/Users/yataka/AppData/Local/Programs/Python/Python310/lib/site-packages/pyvirtualdisplay/xvfb.py?line=43'>44</a>\u001b[0m AbstractDisplay\u001b[39m.\u001b[39;49m\u001b[39m__init__\u001b[39;49m(\n\u001b[0;32m     <a href='file:///c%3A/Users/yataka/AppData/Local/Programs/Python/Python310/lib/site-packages/pyvirtualdisplay/xvfb.py?line=44'>45</a>\u001b[0m     \u001b[39mself\u001b[39;49m,\n\u001b[0;32m     <a href='file:///c%3A/Users/yataka/AppData/Local/Programs/Python/Python310/lib/site-packages/pyvirtualdisplay/xvfb.py?line=45'>46</a>\u001b[0m     PROGRAM,\n\u001b[0;32m     <a href='file:///c%3A/Users/yataka/AppData/Local/Programs/Python/Python310/lib/site-packages/pyvirtualdisplay/xvfb.py?line=46'>47</a>\u001b[0m     use_xauth\u001b[39m=\u001b[39;49muse_xauth,\n\u001b[0;32m     <a href='file:///c%3A/Users/yataka/AppData/Local/Programs/Python/Python310/lib/site-packages/pyvirtualdisplay/xvfb.py?line=47'>48</a>\u001b[0m     retries\u001b[39m=\u001b[39;49mretries,\n\u001b[0;32m     <a href='file:///c%3A/Users/yataka/AppData/Local/Programs/Python/Python310/lib/site-packages/pyvirtualdisplay/xvfb.py?line=48'>49</a>\u001b[0m     extra_args\u001b[39m=\u001b[39;49mextra_args,\n\u001b[0;32m     <a href='file:///c%3A/Users/yataka/AppData/Local/Programs/Python/Python310/lib/site-packages/pyvirtualdisplay/xvfb.py?line=49'>50</a>\u001b[0m     manage_global_env\u001b[39m=\u001b[39;49mmanage_global_env,\n\u001b[0;32m     <a href='file:///c%3A/Users/yataka/AppData/Local/Programs/Python/Python310/lib/site-packages/pyvirtualdisplay/xvfb.py?line=50'>51</a>\u001b[0m )\n",
      "File \u001b[1;32m~\\AppData\\Local\\Programs\\Python\\Python310\\lib\\site-packages\\pyvirtualdisplay\\abstractdisplay.py:85\u001b[0m, in \u001b[0;36mAbstractDisplay.__init__\u001b[1;34m(self, program, use_xauth, retries, extra_args, manage_global_env)\u001b[0m\n\u001b[0;32m     <a href='file:///c%3A/Users/yataka/AppData/Local/Programs/Python/Python310/lib/site-packages/pyvirtualdisplay/abstractdisplay.py?line=81'>82</a>\u001b[0m \u001b[39mself\u001b[39m\u001b[39m.\u001b[39m_pipe_wfd \u001b[39m=\u001b[39m \u001b[39mNone\u001b[39;00m\n\u001b[0;32m     <a href='file:///c%3A/Users/yataka/AppData/Local/Programs/Python/Python310/lib/site-packages/pyvirtualdisplay/abstractdisplay.py?line=82'>83</a>\u001b[0m \u001b[39mself\u001b[39m\u001b[39m.\u001b[39m_retries_current \u001b[39m=\u001b[39m \u001b[39m0\u001b[39m\n\u001b[1;32m---> <a href='file:///c%3A/Users/yataka/AppData/Local/Programs/Python/Python310/lib/site-packages/pyvirtualdisplay/abstractdisplay.py?line=84'>85</a>\u001b[0m helptext \u001b[39m=\u001b[39m get_helptext(program)\n\u001b[0;32m     <a href='file:///c%3A/Users/yataka/AppData/Local/Programs/Python/Python310/lib/site-packages/pyvirtualdisplay/abstractdisplay.py?line=85'>86</a>\u001b[0m \u001b[39mself\u001b[39m\u001b[39m.\u001b[39m_has_displayfd \u001b[39m=\u001b[39m \u001b[39m\"\u001b[39m\u001b[39m-displayfd\u001b[39m\u001b[39m\"\u001b[39m \u001b[39min\u001b[39;00m helptext\n\u001b[0;32m     <a href='file:///c%3A/Users/yataka/AppData/Local/Programs/Python/Python310/lib/site-packages/pyvirtualdisplay/abstractdisplay.py?line=86'>87</a>\u001b[0m \u001b[39mif\u001b[39;00m \u001b[39mnot\u001b[39;00m \u001b[39mself\u001b[39m\u001b[39m.\u001b[39m_has_displayfd:\n",
      "File \u001b[1;32m~\\AppData\\Local\\Programs\\Python\\Python310\\lib\\site-packages\\pyvirtualdisplay\\util.py:13\u001b[0m, in \u001b[0;36mget_helptext\u001b[1;34m(program)\u001b[0m\n\u001b[0;32m      <a href='file:///c%3A/Users/yataka/AppData/Local/Programs/Python/Python310/lib/site-packages/pyvirtualdisplay/util.py?line=5'>6</a>\u001b[0m cmd \u001b[39m=\u001b[39m [program, \u001b[39m\"\u001b[39m\u001b[39m-help\u001b[39m\u001b[39m\"\u001b[39m]\n\u001b[0;32m      <a href='file:///c%3A/Users/yataka/AppData/Local/Programs/Python/Python310/lib/site-packages/pyvirtualdisplay/util.py?line=7'>8</a>\u001b[0m \u001b[39m# py3.7+\u001b[39;00m\n\u001b[0;32m      <a href='file:///c%3A/Users/yataka/AppData/Local/Programs/Python/Python310/lib/site-packages/pyvirtualdisplay/util.py?line=8'>9</a>\u001b[0m \u001b[39m# p = subprocess.run(cmd, capture_output=True)\u001b[39;00m\n\u001b[0;32m     <a href='file:///c%3A/Users/yataka/AppData/Local/Programs/Python/Python310/lib/site-packages/pyvirtualdisplay/util.py?line=9'>10</a>\u001b[0m \u001b[39m# stderr = p.stderr\u001b[39;00m\n\u001b[0;32m     <a href='file:///c%3A/Users/yataka/AppData/Local/Programs/Python/Python310/lib/site-packages/pyvirtualdisplay/util.py?line=10'>11</a>\u001b[0m \n\u001b[0;32m     <a href='file:///c%3A/Users/yataka/AppData/Local/Programs/Python/Python310/lib/site-packages/pyvirtualdisplay/util.py?line=11'>12</a>\u001b[0m \u001b[39m# py3.6 also\u001b[39;00m\n\u001b[1;32m---> <a href='file:///c%3A/Users/yataka/AppData/Local/Programs/Python/Python310/lib/site-packages/pyvirtualdisplay/util.py?line=12'>13</a>\u001b[0m p \u001b[39m=\u001b[39m subprocess\u001b[39m.\u001b[39;49mPopen(\n\u001b[0;32m     <a href='file:///c%3A/Users/yataka/AppData/Local/Programs/Python/Python310/lib/site-packages/pyvirtualdisplay/util.py?line=13'>14</a>\u001b[0m     cmd,\n\u001b[0;32m     <a href='file:///c%3A/Users/yataka/AppData/Local/Programs/Python/Python310/lib/site-packages/pyvirtualdisplay/util.py?line=14'>15</a>\u001b[0m     stdout\u001b[39m=\u001b[39;49msubprocess\u001b[39m.\u001b[39;49mPIPE,\n\u001b[0;32m     <a href='file:///c%3A/Users/yataka/AppData/Local/Programs/Python/Python310/lib/site-packages/pyvirtualdisplay/util.py?line=15'>16</a>\u001b[0m     stderr\u001b[39m=\u001b[39;49msubprocess\u001b[39m.\u001b[39;49mPIPE,\n\u001b[0;32m     <a href='file:///c%3A/Users/yataka/AppData/Local/Programs/Python/Python310/lib/site-packages/pyvirtualdisplay/util.py?line=16'>17</a>\u001b[0m     shell\u001b[39m=\u001b[39;49m\u001b[39mFalse\u001b[39;49;00m,\n\u001b[0;32m     <a href='file:///c%3A/Users/yataka/AppData/Local/Programs/Python/Python310/lib/site-packages/pyvirtualdisplay/util.py?line=17'>18</a>\u001b[0m )\n\u001b[0;32m     <a href='file:///c%3A/Users/yataka/AppData/Local/Programs/Python/Python310/lib/site-packages/pyvirtualdisplay/util.py?line=18'>19</a>\u001b[0m _, stderr \u001b[39m=\u001b[39m p\u001b[39m.\u001b[39mcommunicate()\n\u001b[0;32m     <a href='file:///c%3A/Users/yataka/AppData/Local/Programs/Python/Python310/lib/site-packages/pyvirtualdisplay/util.py?line=20'>21</a>\u001b[0m helptext \u001b[39m=\u001b[39m stderr\u001b[39m.\u001b[39mdecode(\u001b[39m\"\u001b[39m\u001b[39mutf-8\u001b[39m\u001b[39m\"\u001b[39m, \u001b[39m\"\u001b[39m\u001b[39mignore\u001b[39m\u001b[39m\"\u001b[39m)\n",
      "File \u001b[1;32m~\\AppData\\Local\\Programs\\Python\\Python310\\lib\\subprocess.py:966\u001b[0m, in \u001b[0;36mPopen.__init__\u001b[1;34m(self, args, bufsize, executable, stdin, stdout, stderr, preexec_fn, close_fds, shell, cwd, env, universal_newlines, startupinfo, creationflags, restore_signals, start_new_session, pass_fds, user, group, extra_groups, encoding, errors, text, umask, pipesize)\u001b[0m\n\u001b[0;32m    <a href='file:///c%3A/Users/yataka/AppData/Local/Programs/Python/Python310/lib/subprocess.py?line=961'>962</a>\u001b[0m         \u001b[39mif\u001b[39;00m \u001b[39mself\u001b[39m\u001b[39m.\u001b[39mtext_mode:\n\u001b[0;32m    <a href='file:///c%3A/Users/yataka/AppData/Local/Programs/Python/Python310/lib/subprocess.py?line=962'>963</a>\u001b[0m             \u001b[39mself\u001b[39m\u001b[39m.\u001b[39mstderr \u001b[39m=\u001b[39m io\u001b[39m.\u001b[39mTextIOWrapper(\u001b[39mself\u001b[39m\u001b[39m.\u001b[39mstderr,\n\u001b[0;32m    <a href='file:///c%3A/Users/yataka/AppData/Local/Programs/Python/Python310/lib/subprocess.py?line=963'>964</a>\u001b[0m                     encoding\u001b[39m=\u001b[39mencoding, errors\u001b[39m=\u001b[39merrors)\n\u001b[1;32m--> <a href='file:///c%3A/Users/yataka/AppData/Local/Programs/Python/Python310/lib/subprocess.py?line=965'>966</a>\u001b[0m     \u001b[39mself\u001b[39;49m\u001b[39m.\u001b[39;49m_execute_child(args, executable, preexec_fn, close_fds,\n\u001b[0;32m    <a href='file:///c%3A/Users/yataka/AppData/Local/Programs/Python/Python310/lib/subprocess.py?line=966'>967</a>\u001b[0m                         pass_fds, cwd, env,\n\u001b[0;32m    <a href='file:///c%3A/Users/yataka/AppData/Local/Programs/Python/Python310/lib/subprocess.py?line=967'>968</a>\u001b[0m                         startupinfo, creationflags, shell,\n\u001b[0;32m    <a href='file:///c%3A/Users/yataka/AppData/Local/Programs/Python/Python310/lib/subprocess.py?line=968'>969</a>\u001b[0m                         p2cread, p2cwrite,\n\u001b[0;32m    <a href='file:///c%3A/Users/yataka/AppData/Local/Programs/Python/Python310/lib/subprocess.py?line=969'>970</a>\u001b[0m                         c2pread, c2pwrite,\n\u001b[0;32m    <a href='file:///c%3A/Users/yataka/AppData/Local/Programs/Python/Python310/lib/subprocess.py?line=970'>971</a>\u001b[0m                         errread, errwrite,\n\u001b[0;32m    <a href='file:///c%3A/Users/yataka/AppData/Local/Programs/Python/Python310/lib/subprocess.py?line=971'>972</a>\u001b[0m                         restore_signals,\n\u001b[0;32m    <a href='file:///c%3A/Users/yataka/AppData/Local/Programs/Python/Python310/lib/subprocess.py?line=972'>973</a>\u001b[0m                         gid, gids, uid, umask,\n\u001b[0;32m    <a href='file:///c%3A/Users/yataka/AppData/Local/Programs/Python/Python310/lib/subprocess.py?line=973'>974</a>\u001b[0m                         start_new_session)\n\u001b[0;32m    <a href='file:///c%3A/Users/yataka/AppData/Local/Programs/Python/Python310/lib/subprocess.py?line=974'>975</a>\u001b[0m \u001b[39mexcept\u001b[39;00m:\n\u001b[0;32m    <a href='file:///c%3A/Users/yataka/AppData/Local/Programs/Python/Python310/lib/subprocess.py?line=975'>976</a>\u001b[0m     \u001b[39m# Cleanup if the child failed starting.\u001b[39;00m\n\u001b[0;32m    <a href='file:///c%3A/Users/yataka/AppData/Local/Programs/Python/Python310/lib/subprocess.py?line=976'>977</a>\u001b[0m     \u001b[39mfor\u001b[39;00m f \u001b[39min\u001b[39;00m \u001b[39mfilter\u001b[39m(\u001b[39mNone\u001b[39;00m, (\u001b[39mself\u001b[39m\u001b[39m.\u001b[39mstdin, \u001b[39mself\u001b[39m\u001b[39m.\u001b[39mstdout, \u001b[39mself\u001b[39m\u001b[39m.\u001b[39mstderr)):\n",
      "File \u001b[1;32m~\\AppData\\Local\\Programs\\Python\\Python310\\lib\\subprocess.py:1435\u001b[0m, in \u001b[0;36mPopen._execute_child\u001b[1;34m(self, args, executable, preexec_fn, close_fds, pass_fds, cwd, env, startupinfo, creationflags, shell, p2cread, p2cwrite, c2pread, c2pwrite, errread, errwrite, unused_restore_signals, unused_gid, unused_gids, unused_uid, unused_umask, unused_start_new_session)\u001b[0m\n\u001b[0;32m   <a href='file:///c%3A/Users/yataka/AppData/Local/Programs/Python/Python310/lib/subprocess.py?line=1432'>1433</a>\u001b[0m \u001b[39m# Start the process\u001b[39;00m\n\u001b[0;32m   <a href='file:///c%3A/Users/yataka/AppData/Local/Programs/Python/Python310/lib/subprocess.py?line=1433'>1434</a>\u001b[0m \u001b[39mtry\u001b[39;00m:\n\u001b[1;32m-> <a href='file:///c%3A/Users/yataka/AppData/Local/Programs/Python/Python310/lib/subprocess.py?line=1434'>1435</a>\u001b[0m     hp, ht, pid, tid \u001b[39m=\u001b[39m _winapi\u001b[39m.\u001b[39;49mCreateProcess(executable, args,\n\u001b[0;32m   <a href='file:///c%3A/Users/yataka/AppData/Local/Programs/Python/Python310/lib/subprocess.py?line=1435'>1436</a>\u001b[0m                              \u001b[39m# no special security\u001b[39;49;00m\n\u001b[0;32m   <a href='file:///c%3A/Users/yataka/AppData/Local/Programs/Python/Python310/lib/subprocess.py?line=1436'>1437</a>\u001b[0m                              \u001b[39mNone\u001b[39;49;00m, \u001b[39mNone\u001b[39;49;00m,\n\u001b[0;32m   <a href='file:///c%3A/Users/yataka/AppData/Local/Programs/Python/Python310/lib/subprocess.py?line=1437'>1438</a>\u001b[0m                              \u001b[39mint\u001b[39;49m(\u001b[39mnot\u001b[39;49;00m close_fds),\n\u001b[0;32m   <a href='file:///c%3A/Users/yataka/AppData/Local/Programs/Python/Python310/lib/subprocess.py?line=1438'>1439</a>\u001b[0m                              creationflags,\n\u001b[0;32m   <a href='file:///c%3A/Users/yataka/AppData/Local/Programs/Python/Python310/lib/subprocess.py?line=1439'>1440</a>\u001b[0m                              env,\n\u001b[0;32m   <a href='file:///c%3A/Users/yataka/AppData/Local/Programs/Python/Python310/lib/subprocess.py?line=1440'>1441</a>\u001b[0m                              cwd,\n\u001b[0;32m   <a href='file:///c%3A/Users/yataka/AppData/Local/Programs/Python/Python310/lib/subprocess.py?line=1441'>1442</a>\u001b[0m                              startupinfo)\n\u001b[0;32m   <a href='file:///c%3A/Users/yataka/AppData/Local/Programs/Python/Python310/lib/subprocess.py?line=1442'>1443</a>\u001b[0m \u001b[39mfinally\u001b[39;00m:\n\u001b[0;32m   <a href='file:///c%3A/Users/yataka/AppData/Local/Programs/Python/Python310/lib/subprocess.py?line=1443'>1444</a>\u001b[0m     \u001b[39m# Child is launched. Close the parent's copy of those pipe\u001b[39;00m\n\u001b[0;32m   <a href='file:///c%3A/Users/yataka/AppData/Local/Programs/Python/Python310/lib/subprocess.py?line=1444'>1445</a>\u001b[0m     \u001b[39m# handles that only the child should have open.  You need\u001b[39;00m\n\u001b[1;32m   (...)\u001b[0m\n\u001b[0;32m   <a href='file:///c%3A/Users/yataka/AppData/Local/Programs/Python/Python310/lib/subprocess.py?line=1447'>1448</a>\u001b[0m     \u001b[39m# pipe will not close when the child process exits and the\u001b[39;00m\n\u001b[0;32m   <a href='file:///c%3A/Users/yataka/AppData/Local/Programs/Python/Python310/lib/subprocess.py?line=1448'>1449</a>\u001b[0m     \u001b[39m# ReadFile will hang.\u001b[39;00m\n\u001b[0;32m   <a href='file:///c%3A/Users/yataka/AppData/Local/Programs/Python/Python310/lib/subprocess.py?line=1449'>1450</a>\u001b[0m     \u001b[39mself\u001b[39m\u001b[39m.\u001b[39m_close_pipe_fds(p2cread, p2cwrite,\n\u001b[0;32m   <a href='file:///c%3A/Users/yataka/AppData/Local/Programs/Python/Python310/lib/subprocess.py?line=1450'>1451</a>\u001b[0m                          c2pread, c2pwrite,\n\u001b[0;32m   <a href='file:///c%3A/Users/yataka/AppData/Local/Programs/Python/Python310/lib/subprocess.py?line=1451'>1452</a>\u001b[0m                          errread, errwrite)\n",
      "\u001b[1;31mFileNotFoundError\u001b[0m: [WinError 2] 指定されたファイルが見つかりません。"
     ]
    }
   ],
   "source": [
    "import gym\n",
    "import math\n",
    "import random\n",
    "import numpy as np\n",
    "import matplotlib\n",
    "import matplotlib.pyplot as plt\n",
    "from collections import namedtuple, deque\n",
    "from itertools import count\n",
    "from PIL import Image\n",
    "\n",
    "import torch\n",
    "import torch.nn as nn\n",
    "import torch.optim as optim\n",
    "import torch.nn.functional as F\n",
    "import torchvision.transforms as T\n",
    "\n",
    "from pyvirtualdisplay import Display \n",
    "display = Display(visible=0, size=(1024, 768)) \n",
    "\n",
    "display.start()\n",
    "\n",
    "env = gym.make('CartPole-v1').unwrapped\n",
    "\n",
    "import os\n",
    "os.environ[\"DISPLAY\"] = \":\" + str(display.display) + \".\" + str(display.screen)\n",
    "\n",
    "\n",
    "# if gpu is to be used\n",
    "device = torch.device(\"cuda\" if torch.cuda.is_available() else \"cpu\")\n",
    "print(device)"
   ]
  },
  {
   "cell_type": "code",
   "execution_count": 7,
   "metadata": {},
   "outputs": [],
   "source": [
    "Transition = namedtuple('Transition', ('state', 'action', 'next_state', 'reward'))\n",
    "\n",
    "class ReplayMemory(object):\n",
    "\n",
    "    def __init__(self, capacity):\n",
    "        self.memory = deque([], maxlen=capacity)\n",
    "\n",
    "    def push(self, *args):\n",
    "        self.memory.append(Transition(*args))\n",
    "    \n",
    "    def sample(self, batch_size):\n",
    "        rnd_sample = random.sample(self.memory, batch_size)\n",
    "        return rnd_sample\n",
    "    \n",
    "    def __len__(self):\n",
    "        return len(self.memory)"
   ]
  },
  {
   "cell_type": "code",
   "execution_count": 8,
   "metadata": {},
   "outputs": [],
   "source": [
    "class DQN(nn.Module):\n",
    "\n",
    "    def __init__(self, h, w, outputs):\n",
    "        super(DQN, self).__init__()\n",
    "        self.conv1 = nn.Conv2d(3, 16, kernel_size = 5, stride = 2)\n",
    "        self.bn1 = nn.BatchNorm2d(16)\n",
    "        self.conv2 = nn.Conv2d(16, 32, kernel_size=5, stride=2)\n",
    "        self.bn2 = nn.BatchNorm2d(32)\n",
    "        self.conv3 = nn.Conv2d(32, 32, kernel_size=5, stride=2)\n",
    "        self.bn3 = nn.BatchNorm2d(32)\n",
    "\n",
    "        def conv2d_size_out(size, kernel_size = 5, stride = 2):\n",
    "            return (size - (kernel_size - 1) - 1) // stride  + 1\n",
    "        convw = conv2d_size_out(conv2d_size_out(conv2d_size_out(w)))\n",
    "        convh = conv2d_size_out(conv2d_size_out(conv2d_size_out(h)))\n",
    "        linear_input_size = convw * convh * 32\n",
    "        self.head = nn.Linear(linear_input_size, outputs)\n",
    "    \n",
    "    def forward(self, x):\n",
    "        x = x.to(device)\n",
    "        x = F.relu(self.bn1(self.conv1(x)))\n",
    "        x = F.relu(self.bn2(self.conv2(x)))\n",
    "        x = F.relu(self.bn3(self.conv3(x)))\n",
    "        return self.head(x.view(x.size(0), -1))"
   ]
  },
  {
   "cell_type": "code",
   "execution_count": 14,
   "metadata": {},
   "outputs": [],
   "source": [
    "resize = T.Compose([T.ToPILImage(),\n",
    "                    T.Resize(40, interpolation=Image.Resampling.BICUBIC),\n",
    "                    T.ToTensor()])\n",
    "\n",
    "\n",
    "def get_cart_location(screen_width):\n",
    "    world_width = env.x_threshold * 2\n",
    "    scale = screen_width / world_width\n",
    "    return int(env.state[0] * scale + screen_width / 2.0) "
   ]
  },
  {
   "cell_type": "code",
   "execution_count": 15,
   "metadata": {},
   "outputs": [
    {
     "data": {
      "image/png": "[encoded data removed]",
      "text/plain": [
       "<Figure size 432x288 with 1 Axes>"
      ]
     },
     "metadata": {
      "needs_background": "light"
     },
     "output_type": "display_data"
    }
   ],
   "source": [
    "def get_screen():\n",
    "    # Returned screen requested by gym is 400x600x3, but is sometimes larger\n",
    "    # such as 800x1200x3. Transpose it into torch order (CHW).\n",
    "    screen = env.render(mode='rgb_array').transpose((2, 0, 1))\n",
    "    # Cart is in the lower half, so strip off the top and bottom of the screen\n",
    "    _, screen_height, screen_width = screen.shape\n",
    "    screen = screen[:, int(screen_height*0.4):int(screen_height * 0.8)]\n",
    "    view_width = int(screen_width * 0.6)\n",
    "    cart_location = get_cart_location(screen_width)\n",
    "    if cart_location < view_width // 2:\n",
    "        slice_range = slice(view_width)\n",
    "    elif cart_location > (screen_width - view_width // 2):\n",
    "        slice_range = slice(-view_width, None)\n",
    "    else:\n",
    "        slice_range = slice(cart_location - view_width // 2,\n",
    "                            cart_location + view_width // 2)\n",
    "    # Strip off the edges, so that we have a square image centered on a cart\n",
    "    screen = screen[:, :, slice_range]\n",
    "    # Convert to float, rescale, convert to torch tensor\n",
    "    # (this doesn't require a copy)\n",
    "    screen = np.ascontiguousarray(screen, dtype=np.float32) / 255\n",
    "    screen = torch.from_numpy(screen)\n",
    "    # Resize, and add a batch dimension (BCHW)\n",
    "    return resize(screen).unsqueeze(0)\n",
    "\n",
    "\n",
    "env.reset()\n"
   ]
  },
  {
   "cell_type": "code",
   "execution_count": null,
   "metadata": {},
   "outputs": [],
   "source": []
  }
 ],
 "metadata": {
  "interpreter": {
   "hash": "1fc50443b8bea04834fd2beefe1c278663199f42fa8a0f24a562ec7fbbe278e7"
  },
  "kernelspec": {
   "display_name": "Python 3.10.4 64-bit",
   "language": "python",
   "name": "python3"
  },
  "language_info": {
   "codemirror_mode": {
    "name": "ipython",
    "version": 3
   },
   "file_extension": ".py",
   "mimetype": "text/x-python",
   "name": "python",
   "nbconvert_exporter": "python",
   "pygments_lexer": "ipython3",
   "version": "3.10.4"
  },
  "orig_nbformat": 4
 },
 "nbformat": 4,
 "nbformat_minor": 2
}
