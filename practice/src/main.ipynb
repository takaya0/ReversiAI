{
 "cells": [
  {
   "cell_type": "code",
   "execution_count": 2,
   "metadata": {},
   "outputs": [],
   "source": [
    "import gym\n",
    "#import creversi.gym_reversi\n",
    "#from creversi import *\n",
    "import os\n",
    "import datetime\n",
    "import math\n",
    "import random\n",
    "import numpy as np\n",
    "from collections import namedtuple \n",
    "from itertools import count\n",
    "#from tqdm import tqdm_notebook as tqdm \n",
    "import matplotlib.pyplot as plt\n",
    "import torch\n",
    "import torch.nn as nn\n",
    "import torch.optim as optim \n",
    "import torch.nn.functional as F"
   ]
  },
  {
   "cell_type": "code",
   "execution_count": 6,
   "metadata": {},
   "outputs": [
    {
     "name": "stdout",
     "output_type": "stream",
     "text": [
      "cpu\n"
     ]
    }
   ],
   "source": [
    "#env = gym.make('Reversi-v0').unwrapped\n",
    "device = torch.device(\"cuda\" if torch.cuda.is_available() else \"cpu\")\n",
    "print(device)"
   ]
  },
  {
   "cell_type": "code",
   "execution_count": 7,
   "metadata": {},
   "outputs": [],
   "source": [
    "Transition = namedtuple('Transition',('state', 'action', 'next_state', 'next_actions', 'reward'))\n",
    "\n",
    "class ReplayMemory(object):\n",
    "\n",
    "    def __init__(self, capacity):\n",
    "        self.capacity = capacity\n",
    "        self.memory = []\n",
    "        self.position = 0\n",
    "\n",
    "    def push(self, *args):\n",
    "        \"\"\"Saves a transition.\"\"\"\n",
    "        if len(self.memory) < self.capacity:\n",
    "            self.memory.append(None) \n",
    "        self.memory[self.position] = Transition(*args) \n",
    "        self.position = (self.position + 1) % self.capacity\n",
    "\n",
    "    def sample(self, batch_size):\n",
    "        return random.sample(self.memory, batch_size)\n",
    "        \n",
    "    def __len__(self):\n",
    "        return len(self.memory)"
   ]
  },
  {
   "cell_type": "code",
   "execution_count": 8,
   "metadata": {},
   "outputs": [],
   "source": [
    "k = 192\n",
    "fcl_units = 256\n",
    "\n",
    "class DQN(nn.Module):\n",
    "\n",
    "    def __init__(self, output_dim = 65):\n",
    "        super(DQN, self).__init__()\n",
    "        self.conv1 = nn.Conv2d(2, k, kernel_size=3, padding=1)\n",
    "        self.bn1 = nn.BatchNorm2d(k)\n",
    "        self.conv2 = nn.Conv2d(k, k, kernel_size=3, padding=1)\n",
    "        self.bn2 = nn.BatchNorm2d(k)\n",
    "        self.conv3 = nn.Conv2d(k, k, kernel_size=3, padding=1)\n",
    "        self.bn3 = nn.BatchNorm2d(k)\n",
    "        self.conv4 = nn.Conv2d(k, k, kernel_size=3, padding=1)\n",
    "        self.bn4 = nn.BatchNorm2d(k)\n",
    "        self.conv5 = nn.Conv2d(k, k, kernel_size=3, padding=1)\n",
    "        self.bn5 = nn.BatchNorm2d(k)\n",
    "        self.conv6 = nn.Conv2d(k, k, kernel_size=3, padding=1)\n",
    "        self.bn6 = nn.BatchNorm2d(k)\n",
    "        self.conv7 = nn.Conv2d(k, k,kernel_size=3, padding=1)\n",
    "        self.bn7 = nn.BatchNorm2d(k)\n",
    "        self.conv8 = nn.Conv2d(k, k, kernel_size=3, padding=1)\n",
    "        self.bn8 = nn.BatchNorm2d(k)\n",
    "        self.conv9 = nn.Conv2d(k, k, kernel_size=3, padding=1)\n",
    "        self.bn9 = nn.BatchNorm2d(k)\n",
    "        self.conv10 = nn.Conv2d(k, k, kernel_size=3, padding=1) \n",
    "        self.bn10 = nn.BatchNorm2d(k)\n",
    "        self.fcl1 = nn.Linear(k * 64, fcl_units) \n",
    "        self.fcl2 = nn.Linear(fcl_units, output_dim)\n",
    "    \n",
    "    def forward(self, x):\n",
    "        x = F.relu(self.bn1(self.conv1(x)))\n",
    "        x = F.relu(self.bn2(self.conv2(x)))\n",
    "        x = F.relu(self.bn3(self.conv3(x)))\n",
    "        x = F.relu(self.bn4(self.conv4(x)))\n",
    "        x = F.relu(self.bn5(self.conv5(x)))\n",
    "        x = F.relu(self.bn6(self.conv6(x)))\n",
    "        x = F.relu(self.bn7(self.conv7(x)))\n",
    "        x = F.relu(self.bn8(self.conv8(x)))\n",
    "        x = F.relu(self.bn9(self.conv9(x)))\n",
    "        x = F.relu(self.bn10(self.conv10(x)))\n",
    "        x = F.relu(self.fcl1(x.view(-1, k * 64))) \n",
    "        x = (self.fcl2(x)).tanh()\n",
    "        return x"
   ]
  },
  {
   "cell_type": "code",
   "execution_count": 9,
   "metadata": {},
   "outputs": [],
   "source": [
    "def get_state(board):\n",
    "    pass\n",
    "\n",
    "BATCH_SIZE = 256\n",
    "GAMMA = 0.99\n",
    "EPS_START = 0.9\n",
    "EPS_END = 0.05\n",
    "EPS_DECAY = 2000\n",
    "OPTIMIZE_PER_EPISODES = 16\n",
    "TARGET_UPDATE = 4"
   ]
  },
  {
   "cell_type": "code",
   "execution_count": 11,
   "metadata": {},
   "outputs": [],
   "source": [
    "policy_net = DQN().to(device)\n",
    "target_net = DQN().to(device) \n",
    "target_net.load_state_dict(policy_net.state_dict()) \n",
    "target_net.eval()\n",
    "None"
   ]
  },
  {
   "cell_type": "code",
   "execution_count": 12,
   "metadata": {},
   "outputs": [],
   "source": [
    "optimizer = optim.RMSprop(policy_net.parameters(), lr=1e-5)\n",
    "memory = ReplayMemory(131072)"
   ]
  },
  {
   "cell_type": "code",
   "execution_count": 13,
   "metadata": {},
   "outputs": [],
   "source": [
    "def epsilon_greedy(state, legal_moves, episodes_done):\n",
    "    sample = random.random()\n",
    "    eps_threshold = EPS_END + (EPS_START - EPS_END) * math.exp(-1. * episodes_done / EPS_DECAY)\n",
    "    if sample > eps_threshold:\n",
    "        with torch.no_grad():\n",
    "            q = policy_net(state)\n",
    "            _, select = q[0, legal_moves].max(0)\n",
    "    else:\n",
    "        select = random.randrange(len(legal_moves))\n",
    "    return select\n",
    "\n",
    "def select_action(state, board, episodes_done):\n",
    "    legal_moves = list(board.legal_moves)\n",
    "    select = epsilon_greedy(state, legal_moves, episodes_done)\n",
    "    return legal_moves[select], torch.tensor([[legal_moves[select]]], device=device, dtype=torch.long)"
   ]
  },
  {
   "cell_type": "code",
   "execution_count": 15,
   "metadata": {},
   "outputs": [],
   "source": [
    "losses = []\n",
    "\n",
    "criterion = nn.SmoothL1Loss()\n",
    "\n",
    "def optimize_model():\n",
    "\n",
    "    if len(memory) < BATCH_SIZE:\n",
    "        return None\n",
    "    \n",
    "    transitions = memory.sample(BATCH_SIZE)\n",
    "    batch = Transition(*zip(*transitions))\n",
    "    non_final_mask = torch.tensor(tuple(map(lambda s: s is not None, \n",
    "                        batch.next_state)), device=device, dtype=torch.bool)\n",
    "    non_final_next_states = torch.cat([s for s in batch.next_state if s is not None])\n",
    "\n",
    "    state_batch = torch.cat(batch.state)\n",
    "    action_batch = torch.cat(batch.action)\n",
    "    reward_batch = torch.cat(batch.reward)\n",
    "\n",
    "    non_final_next_actions_list = []\n",
    "    for next_actions in batch.next_actions:\n",
    "        if next_actions is not None: \n",
    "            non_final_next_actions_list.append(next_actions + [next_actions[0]] * (30 - len(next_actions)))\n",
    "            non_final_next_actions = torch.tensor(non_final_next_actions_list, device=device, dtype=torch.long)\n",
    "    \n",
    "    # Compute Q(s_t, a)\n",
    "    state_action_values = policy_net(state_batch).gather(1, action_batch)\n",
    "\n",
    "    # Compute V(s_{t+1}) for all next states.\n",
    "    next_state_values = torch.zeros(BATCH_SIZE, device=device)\n",
    "\n",
    "    # 合法手のみの最大値\n",
    "    target_q = target_net(non_final_next_states)\n",
    "    # 相手番の価値のため反転する\n",
    "    next_state_values[non_final_mask] = -target_q.gather(1, non_final_next_actions).max(1)[0].detach()\n",
    "    # Compute the expected Q values\n",
    "    expected_state_action_values = next_state_values * GAMMA + reward_batch\n",
    "\n",
    "    loss = criterion(state_action_values, expected_state_action_values.unsqueeze(1))\n",
    "\n",
    "    losses.append(loss.item())\n",
    "    # Optimize the model\n",
    "    optimizer.zero_grad()\n",
    "    loss.backward()\n",
    "    for param in policy_net.parameters():\n",
    "        param.grad.data.clamp_(-1, 1)\n",
    "    optimizer.step()\n",
    "\n",
    "    \n",
    "    "
   ]
  },
  {
   "cell_type": "code",
   "execution_count": null,
   "metadata": {},
   "outputs": [],
   "source": []
  }
 ],
 "metadata": {
  "interpreter": {
   "hash": "a5830a0bd615f2a12c16cd5af11800786470b5cdc6fcfc83af847365c4cfb56c"
  },
  "kernelspec": {
   "display_name": "Python 3.9.7 64-bit ('3.9.7')",
   "language": "python",
   "name": "python3"
  },
  "language_info": {
   "codemirror_mode": {
    "name": "ipython",
    "version": 3
   },
   "file_extension": ".py",
   "mimetype": "text/x-python",
   "name": "python",
   "nbconvert_exporter": "python",
   "pygments_lexer": "ipython3",
   "version": "3.9.8"
  },
  "orig_nbformat": 4
 },
 "nbformat": 4,
 "nbformat_minor": 2
}
